{
 "cells": [
  {
   "cell_type": "code",
   "execution_count": 1,
   "metadata": {
    "id": "8Cg54vyTot1W"
   },
   "outputs": [],
   "source": [
    "import pandas as pd\n",
    "import matplotlib.pyplot as plt\n",
    "import numpy as np\n",
    "import seaborn as sns"
   ]
  },
  {
   "cell_type": "code",
   "execution_count": 2,
   "metadata": {
    "id": "4-v_yHgEowG5"
   },
   "outputs": [],
   "source": [
    "#!pip install openpyxl\n",
    "raw_data = pd.read_excel('../../corn_dataset_v2.xlsx', engine='openpyxl')"
   ]
  },
  {
   "cell_type": "code",
   "execution_count": 3,
   "metadata": {
    "colab": {
     "base_uri": "https://localhost:8080/"
    },
    "id": "d-UxkVS-sCVa",
    "outputId": "6a77717b-e608-4356-e740-910a8cec0159"
   },
   "outputs": [
    {
     "data": {
      "text/plain": [
       "Unnamed: 0      int64\n",
       "area          float64\n",
       "perimeter     float64\n",
       "red_mean      float64\n",
       "green_mean    float64\n",
       "blue_mean     float64\n",
       "f1            float64\n",
       "f2            float64\n",
       "red_std       float64\n",
       "green_std     float64\n",
       "blue_std      float64\n",
       "f4            float64\n",
       "f5            float64\n",
       "f6            float64\n",
       "f7            float64\n",
       "f8            float64\n",
       "label           int64\n",
       "dtype: object"
      ]
     },
     "execution_count": 3,
     "metadata": {},
     "output_type": "execute_result"
    }
   ],
   "source": [
    "raw_data.dtypes"
   ]
  },
  {
   "cell_type": "code",
   "execution_count": 4,
   "metadata": {
    "id": "6rODIXAEsIiK"
   },
   "outputs": [],
   "source": [
    "raw_data.drop(['Unnamed: 0'],axis = 1, inplace=True)"
   ]
  },
  {
   "cell_type": "code",
   "execution_count": 5,
   "metadata": {
    "colab": {
     "base_uri": "https://localhost:8080/"
    },
    "id": "f3T6y1gVsT2p",
    "outputId": "ab01a558-d67c-4f56-92d5-52ca32f22a78"
   },
   "outputs": [
    {
     "data": {
      "text/plain": [
       "Index(['area', 'perimeter', 'red_mean', 'green_mean', 'blue_mean', 'f1', 'f2',\n",
       "       'red_std', 'green_std', 'blue_std', 'f4', 'f5', 'f6', 'f7', 'f8',\n",
       "       'label'],\n",
       "      dtype='object')"
      ]
     },
     "execution_count": 5,
     "metadata": {},
     "output_type": "execute_result"
    }
   ],
   "source": [
    "raw_data.columns"
   ]
  },
  {
   "cell_type": "code",
   "execution_count": 6,
   "metadata": {
    "colab": {
     "base_uri": "https://localhost:8080/",
     "height": 1000
    },
    "id": "48HQEVsXsWFp",
    "outputId": "69917675-7ac8-48a3-9a77-5f93eeecf880"
   },
   "outputs": [
    {
     "data": {
      "text/html": [
       "<div>\n",
       "<style scoped>\n",
       "    .dataframe tbody tr th:only-of-type {\n",
       "        vertical-align: middle;\n",
       "    }\n",
       "\n",
       "    .dataframe tbody tr th {\n",
       "        vertical-align: top;\n",
       "    }\n",
       "\n",
       "    .dataframe thead th {\n",
       "        text-align: right;\n",
       "    }\n",
       "</style>\n",
       "<table border=\"1\" class=\"dataframe\">\n",
       "  <thead>\n",
       "    <tr style=\"text-align: right;\">\n",
       "      <th></th>\n",
       "      <th>area</th>\n",
       "      <th>perimeter</th>\n",
       "      <th>red_mean</th>\n",
       "      <th>green_mean</th>\n",
       "      <th>blue_mean</th>\n",
       "      <th>f1</th>\n",
       "      <th>f2</th>\n",
       "      <th>red_std</th>\n",
       "      <th>green_std</th>\n",
       "      <th>blue_std</th>\n",
       "      <th>f4</th>\n",
       "      <th>f5</th>\n",
       "      <th>f6</th>\n",
       "      <th>f7</th>\n",
       "      <th>f8</th>\n",
       "      <th>label</th>\n",
       "    </tr>\n",
       "  </thead>\n",
       "  <tbody>\n",
       "    <tr>\n",
       "      <th>area</th>\n",
       "      <td>1.000000</td>\n",
       "      <td>0.805378</td>\n",
       "      <td>0.497363</td>\n",
       "      <td>0.502050</td>\n",
       "      <td>0.499452</td>\n",
       "      <td>0.402899</td>\n",
       "      <td>-0.402899</td>\n",
       "      <td>0.230025</td>\n",
       "      <td>0.167162</td>\n",
       "      <td>0.208283</td>\n",
       "      <td>0.160551</td>\n",
       "      <td>0.342439</td>\n",
       "      <td>-0.522369</td>\n",
       "      <td>-0.545754</td>\n",
       "      <td>0.267571</td>\n",
       "      <td>-0.007641</td>\n",
       "    </tr>\n",
       "    <tr>\n",
       "      <th>perimeter</th>\n",
       "      <td>0.805378</td>\n",
       "      <td>1.000000</td>\n",
       "      <td>0.170937</td>\n",
       "      <td>0.170846</td>\n",
       "      <td>0.174677</td>\n",
       "      <td>0.142985</td>\n",
       "      <td>-0.142985</td>\n",
       "      <td>0.038835</td>\n",
       "      <td>0.007159</td>\n",
       "      <td>0.034583</td>\n",
       "      <td>0.072969</td>\n",
       "      <td>0.132165</td>\n",
       "      <td>-0.185538</td>\n",
       "      <td>-0.195777</td>\n",
       "      <td>0.043529</td>\n",
       "      <td>0.052748</td>\n",
       "    </tr>\n",
       "    <tr>\n",
       "      <th>red_mean</th>\n",
       "      <td>0.497363</td>\n",
       "      <td>0.170937</td>\n",
       "      <td>1.000000</td>\n",
       "      <td>0.970979</td>\n",
       "      <td>0.955816</td>\n",
       "      <td>0.646813</td>\n",
       "      <td>-0.646813</td>\n",
       "      <td>0.779775</td>\n",
       "      <td>0.685405</td>\n",
       "      <td>0.694380</td>\n",
       "      <td>0.434250</td>\n",
       "      <td>0.541737</td>\n",
       "      <td>-0.834312</td>\n",
       "      <td>-0.870022</td>\n",
       "      <td>0.641528</td>\n",
       "      <td>-0.361829</td>\n",
       "    </tr>\n",
       "    <tr>\n",
       "      <th>green_mean</th>\n",
       "      <td>0.502050</td>\n",
       "      <td>0.170846</td>\n",
       "      <td>0.970979</td>\n",
       "      <td>1.000000</td>\n",
       "      <td>0.977016</td>\n",
       "      <td>0.776827</td>\n",
       "      <td>-0.776827</td>\n",
       "      <td>0.785228</td>\n",
       "      <td>0.745323</td>\n",
       "      <td>0.739827</td>\n",
       "      <td>0.472314</td>\n",
       "      <td>0.589851</td>\n",
       "      <td>-0.884930</td>\n",
       "      <td>-0.914556</td>\n",
       "      <td>0.691908</td>\n",
       "      <td>-0.411619</td>\n",
       "    </tr>\n",
       "    <tr>\n",
       "      <th>blue_mean</th>\n",
       "      <td>0.499452</td>\n",
       "      <td>0.174677</td>\n",
       "      <td>0.955816</td>\n",
       "      <td>0.977016</td>\n",
       "      <td>1.000000</td>\n",
       "      <td>0.742234</td>\n",
       "      <td>-0.742234</td>\n",
       "      <td>0.803489</td>\n",
       "      <td>0.748501</td>\n",
       "      <td>0.793641</td>\n",
       "      <td>0.557654</td>\n",
       "      <td>0.674526</td>\n",
       "      <td>-0.910262</td>\n",
       "      <td>-0.918306</td>\n",
       "      <td>0.689335</td>\n",
       "      <td>-0.311034</td>\n",
       "    </tr>\n",
       "    <tr>\n",
       "      <th>f1</th>\n",
       "      <td>0.402899</td>\n",
       "      <td>0.142985</td>\n",
       "      <td>0.646813</td>\n",
       "      <td>0.776827</td>\n",
       "      <td>0.742234</td>\n",
       "      <td>1.000000</td>\n",
       "      <td>-1.000000</td>\n",
       "      <td>0.591364</td>\n",
       "      <td>0.660180</td>\n",
       "      <td>0.614386</td>\n",
       "      <td>0.410114</td>\n",
       "      <td>0.548176</td>\n",
       "      <td>-0.779847</td>\n",
       "      <td>-0.779323</td>\n",
       "      <td>0.615877</td>\n",
       "      <td>-0.327013</td>\n",
       "    </tr>\n",
       "    <tr>\n",
       "      <th>f2</th>\n",
       "      <td>-0.402899</td>\n",
       "      <td>-0.142985</td>\n",
       "      <td>-0.646813</td>\n",
       "      <td>-0.776827</td>\n",
       "      <td>-0.742234</td>\n",
       "      <td>-1.000000</td>\n",
       "      <td>1.000000</td>\n",
       "      <td>-0.591364</td>\n",
       "      <td>-0.660180</td>\n",
       "      <td>-0.614386</td>\n",
       "      <td>-0.410114</td>\n",
       "      <td>-0.548176</td>\n",
       "      <td>0.779847</td>\n",
       "      <td>0.779323</td>\n",
       "      <td>-0.615877</td>\n",
       "      <td>0.327013</td>\n",
       "    </tr>\n",
       "    <tr>\n",
       "      <th>red_std</th>\n",
       "      <td>0.230025</td>\n",
       "      <td>0.038835</td>\n",
       "      <td>0.779775</td>\n",
       "      <td>0.785228</td>\n",
       "      <td>0.803489</td>\n",
       "      <td>0.591364</td>\n",
       "      <td>-0.591364</td>\n",
       "      <td>1.000000</td>\n",
       "      <td>0.958150</td>\n",
       "      <td>0.952008</td>\n",
       "      <td>0.638883</td>\n",
       "      <td>0.622177</td>\n",
       "      <td>-0.749165</td>\n",
       "      <td>-0.729570</td>\n",
       "      <td>0.789816</td>\n",
       "      <td>-0.336044</td>\n",
       "    </tr>\n",
       "    <tr>\n",
       "      <th>green_std</th>\n",
       "      <td>0.167162</td>\n",
       "      <td>0.007159</td>\n",
       "      <td>0.685405</td>\n",
       "      <td>0.745323</td>\n",
       "      <td>0.748501</td>\n",
       "      <td>0.660180</td>\n",
       "      <td>-0.660180</td>\n",
       "      <td>0.958150</td>\n",
       "      <td>1.000000</td>\n",
       "      <td>0.960138</td>\n",
       "      <td>0.626683</td>\n",
       "      <td>0.593936</td>\n",
       "      <td>-0.712940</td>\n",
       "      <td>-0.689380</td>\n",
       "      <td>0.822306</td>\n",
       "      <td>-0.406212</td>\n",
       "    </tr>\n",
       "    <tr>\n",
       "      <th>blue_std</th>\n",
       "      <td>0.208283</td>\n",
       "      <td>0.034583</td>\n",
       "      <td>0.694380</td>\n",
       "      <td>0.739827</td>\n",
       "      <td>0.793641</td>\n",
       "      <td>0.614386</td>\n",
       "      <td>-0.614386</td>\n",
       "      <td>0.952008</td>\n",
       "      <td>0.960138</td>\n",
       "      <td>1.000000</td>\n",
       "      <td>0.719859</td>\n",
       "      <td>0.705594</td>\n",
       "      <td>-0.766481</td>\n",
       "      <td>-0.721759</td>\n",
       "      <td>0.806647</td>\n",
       "      <td>-0.271082</td>\n",
       "    </tr>\n",
       "    <tr>\n",
       "      <th>f4</th>\n",
       "      <td>0.160551</td>\n",
       "      <td>0.072969</td>\n",
       "      <td>0.434250</td>\n",
       "      <td>0.472314</td>\n",
       "      <td>0.557654</td>\n",
       "      <td>0.410114</td>\n",
       "      <td>-0.410114</td>\n",
       "      <td>0.638883</td>\n",
       "      <td>0.626683</td>\n",
       "      <td>0.719859</td>\n",
       "      <td>1.000000</td>\n",
       "      <td>0.905757</td>\n",
       "      <td>-0.637132</td>\n",
       "      <td>-0.536983</td>\n",
       "      <td>0.432892</td>\n",
       "      <td>-0.153525</td>\n",
       "    </tr>\n",
       "    <tr>\n",
       "      <th>f5</th>\n",
       "      <td>0.342439</td>\n",
       "      <td>0.132165</td>\n",
       "      <td>0.541737</td>\n",
       "      <td>0.589851</td>\n",
       "      <td>0.674526</td>\n",
       "      <td>0.548176</td>\n",
       "      <td>-0.548176</td>\n",
       "      <td>0.622177</td>\n",
       "      <td>0.593936</td>\n",
       "      <td>0.705594</td>\n",
       "      <td>0.905757</td>\n",
       "      <td>1.000000</td>\n",
       "      <td>-0.834912</td>\n",
       "      <td>-0.726206</td>\n",
       "      <td>0.525136</td>\n",
       "      <td>-0.056878</td>\n",
       "    </tr>\n",
       "    <tr>\n",
       "      <th>f6</th>\n",
       "      <td>-0.522369</td>\n",
       "      <td>-0.185538</td>\n",
       "      <td>-0.834312</td>\n",
       "      <td>-0.884930</td>\n",
       "      <td>-0.910262</td>\n",
       "      <td>-0.779847</td>\n",
       "      <td>0.779847</td>\n",
       "      <td>-0.749165</td>\n",
       "      <td>-0.712940</td>\n",
       "      <td>-0.766481</td>\n",
       "      <td>-0.637132</td>\n",
       "      <td>-0.834912</td>\n",
       "      <td>1.000000</td>\n",
       "      <td>0.964978</td>\n",
       "      <td>-0.723262</td>\n",
       "      <td>0.199227</td>\n",
       "    </tr>\n",
       "    <tr>\n",
       "      <th>f7</th>\n",
       "      <td>-0.545754</td>\n",
       "      <td>-0.195777</td>\n",
       "      <td>-0.870022</td>\n",
       "      <td>-0.914556</td>\n",
       "      <td>-0.918306</td>\n",
       "      <td>-0.779323</td>\n",
       "      <td>0.779323</td>\n",
       "      <td>-0.729570</td>\n",
       "      <td>-0.689380</td>\n",
       "      <td>-0.721759</td>\n",
       "      <td>-0.536983</td>\n",
       "      <td>-0.726206</td>\n",
       "      <td>0.964978</td>\n",
       "      <td>1.000000</td>\n",
       "      <td>-0.723963</td>\n",
       "      <td>0.250246</td>\n",
       "    </tr>\n",
       "    <tr>\n",
       "      <th>f8</th>\n",
       "      <td>0.267571</td>\n",
       "      <td>0.043529</td>\n",
       "      <td>0.641528</td>\n",
       "      <td>0.691908</td>\n",
       "      <td>0.689335</td>\n",
       "      <td>0.615877</td>\n",
       "      <td>-0.615877</td>\n",
       "      <td>0.789816</td>\n",
       "      <td>0.822306</td>\n",
       "      <td>0.806647</td>\n",
       "      <td>0.432892</td>\n",
       "      <td>0.525136</td>\n",
       "      <td>-0.723262</td>\n",
       "      <td>-0.723963</td>\n",
       "      <td>1.000000</td>\n",
       "      <td>-0.282680</td>\n",
       "    </tr>\n",
       "    <tr>\n",
       "      <th>label</th>\n",
       "      <td>-0.007641</td>\n",
       "      <td>0.052748</td>\n",
       "      <td>-0.361829</td>\n",
       "      <td>-0.411619</td>\n",
       "      <td>-0.311034</td>\n",
       "      <td>-0.327013</td>\n",
       "      <td>0.327013</td>\n",
       "      <td>-0.336044</td>\n",
       "      <td>-0.406212</td>\n",
       "      <td>-0.271082</td>\n",
       "      <td>-0.153525</td>\n",
       "      <td>-0.056878</td>\n",
       "      <td>0.199227</td>\n",
       "      <td>0.250246</td>\n",
       "      <td>-0.282680</td>\n",
       "      <td>1.000000</td>\n",
       "    </tr>\n",
       "  </tbody>\n",
       "</table>\n",
       "</div>"
      ],
      "text/plain": [
       "                area  perimeter  red_mean  green_mean  blue_mean        f1  \\\n",
       "area        1.000000   0.805378  0.497363    0.502050   0.499452  0.402899   \n",
       "perimeter   0.805378   1.000000  0.170937    0.170846   0.174677  0.142985   \n",
       "red_mean    0.497363   0.170937  1.000000    0.970979   0.955816  0.646813   \n",
       "green_mean  0.502050   0.170846  0.970979    1.000000   0.977016  0.776827   \n",
       "blue_mean   0.499452   0.174677  0.955816    0.977016   1.000000  0.742234   \n",
       "f1          0.402899   0.142985  0.646813    0.776827   0.742234  1.000000   \n",
       "f2         -0.402899  -0.142985 -0.646813   -0.776827  -0.742234 -1.000000   \n",
       "red_std     0.230025   0.038835  0.779775    0.785228   0.803489  0.591364   \n",
       "green_std   0.167162   0.007159  0.685405    0.745323   0.748501  0.660180   \n",
       "blue_std    0.208283   0.034583  0.694380    0.739827   0.793641  0.614386   \n",
       "f4          0.160551   0.072969  0.434250    0.472314   0.557654  0.410114   \n",
       "f5          0.342439   0.132165  0.541737    0.589851   0.674526  0.548176   \n",
       "f6         -0.522369  -0.185538 -0.834312   -0.884930  -0.910262 -0.779847   \n",
       "f7         -0.545754  -0.195777 -0.870022   -0.914556  -0.918306 -0.779323   \n",
       "f8          0.267571   0.043529  0.641528    0.691908   0.689335  0.615877   \n",
       "label      -0.007641   0.052748 -0.361829   -0.411619  -0.311034 -0.327013   \n",
       "\n",
       "                  f2   red_std  green_std  blue_std        f4        f5  \\\n",
       "area       -0.402899  0.230025   0.167162  0.208283  0.160551  0.342439   \n",
       "perimeter  -0.142985  0.038835   0.007159  0.034583  0.072969  0.132165   \n",
       "red_mean   -0.646813  0.779775   0.685405  0.694380  0.434250  0.541737   \n",
       "green_mean -0.776827  0.785228   0.745323  0.739827  0.472314  0.589851   \n",
       "blue_mean  -0.742234  0.803489   0.748501  0.793641  0.557654  0.674526   \n",
       "f1         -1.000000  0.591364   0.660180  0.614386  0.410114  0.548176   \n",
       "f2          1.000000 -0.591364  -0.660180 -0.614386 -0.410114 -0.548176   \n",
       "red_std    -0.591364  1.000000   0.958150  0.952008  0.638883  0.622177   \n",
       "green_std  -0.660180  0.958150   1.000000  0.960138  0.626683  0.593936   \n",
       "blue_std   -0.614386  0.952008   0.960138  1.000000  0.719859  0.705594   \n",
       "f4         -0.410114  0.638883   0.626683  0.719859  1.000000  0.905757   \n",
       "f5         -0.548176  0.622177   0.593936  0.705594  0.905757  1.000000   \n",
       "f6          0.779847 -0.749165  -0.712940 -0.766481 -0.637132 -0.834912   \n",
       "f7          0.779323 -0.729570  -0.689380 -0.721759 -0.536983 -0.726206   \n",
       "f8         -0.615877  0.789816   0.822306  0.806647  0.432892  0.525136   \n",
       "label       0.327013 -0.336044  -0.406212 -0.271082 -0.153525 -0.056878   \n",
       "\n",
       "                  f6        f7        f8     label  \n",
       "area       -0.522369 -0.545754  0.267571 -0.007641  \n",
       "perimeter  -0.185538 -0.195777  0.043529  0.052748  \n",
       "red_mean   -0.834312 -0.870022  0.641528 -0.361829  \n",
       "green_mean -0.884930 -0.914556  0.691908 -0.411619  \n",
       "blue_mean  -0.910262 -0.918306  0.689335 -0.311034  \n",
       "f1         -0.779847 -0.779323  0.615877 -0.327013  \n",
       "f2          0.779847  0.779323 -0.615877  0.327013  \n",
       "red_std    -0.749165 -0.729570  0.789816 -0.336044  \n",
       "green_std  -0.712940 -0.689380  0.822306 -0.406212  \n",
       "blue_std   -0.766481 -0.721759  0.806647 -0.271082  \n",
       "f4         -0.637132 -0.536983  0.432892 -0.153525  \n",
       "f5         -0.834912 -0.726206  0.525136 -0.056878  \n",
       "f6          1.000000  0.964978 -0.723262  0.199227  \n",
       "f7          0.964978  1.000000 -0.723963  0.250246  \n",
       "f8         -0.723262 -0.723963  1.000000 -0.282680  \n",
       "label       0.199227  0.250246 -0.282680  1.000000  "
      ]
     },
     "execution_count": 6,
     "metadata": {},
     "output_type": "execute_result"
    }
   ],
   "source": [
    "raw_data.corr(method ='pearson')"
   ]
  },
  {
   "cell_type": "code",
   "execution_count": 7,
   "metadata": {
    "colab": {
     "base_uri": "https://localhost:8080/"
    },
    "id": "k_Z60r3Dsk6a",
    "outputId": "1903a9e4-f570-4104-a9db-1046dd04c050"
   },
   "outputs": [],
   "source": [
    "#eda.correlationlist(raw_data)"
   ]
  },
  {
   "cell_type": "markdown",
   "metadata": {
    "id": "tykbukJOs9oT"
   },
   "source": [
    "**Insights:**\n",
    "Less correlated features are:\n",
    "- green channel mean\n",
    "- red channel std\n",
    "- blue channel std\n",
    "- f5\n",
    "- f8\n",
    "\n",
    "Also f1 and f2 are mutually relative So one of them can be removed"
   ]
  },
  {
   "cell_type": "code",
   "execution_count": 8,
   "metadata": {
    "id": "9C4PKZKLs276"
   },
   "outputs": [],
   "source": [
    "cleaned_data = raw_data.drop(['green_mean', 'red_std', 'blue_std', 'f5', 'f8','f1'],axis = 1, inplace=False)"
   ]
  },
  {
   "cell_type": "code",
   "execution_count": 9,
   "metadata": {
    "colab": {
     "base_uri": "https://localhost:8080/",
     "height": 1000
    },
    "id": "5YuECBs9taB2",
    "outputId": "659092be-fad9-4e71-aef0-f4da46785d46"
   },
   "outputs": [
    {
     "data": {
      "text/html": [
       "<div>\n",
       "<style scoped>\n",
       "    .dataframe tbody tr th:only-of-type {\n",
       "        vertical-align: middle;\n",
       "    }\n",
       "\n",
       "    .dataframe tbody tr th {\n",
       "        vertical-align: top;\n",
       "    }\n",
       "\n",
       "    .dataframe thead th {\n",
       "        text-align: right;\n",
       "    }\n",
       "</style>\n",
       "<table border=\"1\" class=\"dataframe\">\n",
       "  <thead>\n",
       "    <tr style=\"text-align: right;\">\n",
       "      <th></th>\n",
       "      <th>area</th>\n",
       "      <th>perimeter</th>\n",
       "      <th>red_mean</th>\n",
       "      <th>blue_mean</th>\n",
       "      <th>f2</th>\n",
       "      <th>green_std</th>\n",
       "      <th>f4</th>\n",
       "      <th>f6</th>\n",
       "      <th>f7</th>\n",
       "      <th>label</th>\n",
       "    </tr>\n",
       "  </thead>\n",
       "  <tbody>\n",
       "    <tr>\n",
       "      <th>area</th>\n",
       "      <td>1.000000</td>\n",
       "      <td>0.805378</td>\n",
       "      <td>0.497363</td>\n",
       "      <td>0.499452</td>\n",
       "      <td>-0.402899</td>\n",
       "      <td>0.167162</td>\n",
       "      <td>0.160551</td>\n",
       "      <td>-0.522369</td>\n",
       "      <td>-0.545754</td>\n",
       "      <td>-0.007641</td>\n",
       "    </tr>\n",
       "    <tr>\n",
       "      <th>perimeter</th>\n",
       "      <td>0.805378</td>\n",
       "      <td>1.000000</td>\n",
       "      <td>0.170937</td>\n",
       "      <td>0.174677</td>\n",
       "      <td>-0.142985</td>\n",
       "      <td>0.007159</td>\n",
       "      <td>0.072969</td>\n",
       "      <td>-0.185538</td>\n",
       "      <td>-0.195777</td>\n",
       "      <td>0.052748</td>\n",
       "    </tr>\n",
       "    <tr>\n",
       "      <th>red_mean</th>\n",
       "      <td>0.497363</td>\n",
       "      <td>0.170937</td>\n",
       "      <td>1.000000</td>\n",
       "      <td>0.955816</td>\n",
       "      <td>-0.646813</td>\n",
       "      <td>0.685405</td>\n",
       "      <td>0.434250</td>\n",
       "      <td>-0.834312</td>\n",
       "      <td>-0.870022</td>\n",
       "      <td>-0.361829</td>\n",
       "    </tr>\n",
       "    <tr>\n",
       "      <th>blue_mean</th>\n",
       "      <td>0.499452</td>\n",
       "      <td>0.174677</td>\n",
       "      <td>0.955816</td>\n",
       "      <td>1.000000</td>\n",
       "      <td>-0.742234</td>\n",
       "      <td>0.748501</td>\n",
       "      <td>0.557654</td>\n",
       "      <td>-0.910262</td>\n",
       "      <td>-0.918306</td>\n",
       "      <td>-0.311034</td>\n",
       "    </tr>\n",
       "    <tr>\n",
       "      <th>f2</th>\n",
       "      <td>-0.402899</td>\n",
       "      <td>-0.142985</td>\n",
       "      <td>-0.646813</td>\n",
       "      <td>-0.742234</td>\n",
       "      <td>1.000000</td>\n",
       "      <td>-0.660180</td>\n",
       "      <td>-0.410114</td>\n",
       "      <td>0.779847</td>\n",
       "      <td>0.779323</td>\n",
       "      <td>0.327013</td>\n",
       "    </tr>\n",
       "    <tr>\n",
       "      <th>green_std</th>\n",
       "      <td>0.167162</td>\n",
       "      <td>0.007159</td>\n",
       "      <td>0.685405</td>\n",
       "      <td>0.748501</td>\n",
       "      <td>-0.660180</td>\n",
       "      <td>1.000000</td>\n",
       "      <td>0.626683</td>\n",
       "      <td>-0.712940</td>\n",
       "      <td>-0.689380</td>\n",
       "      <td>-0.406212</td>\n",
       "    </tr>\n",
       "    <tr>\n",
       "      <th>f4</th>\n",
       "      <td>0.160551</td>\n",
       "      <td>0.072969</td>\n",
       "      <td>0.434250</td>\n",
       "      <td>0.557654</td>\n",
       "      <td>-0.410114</td>\n",
       "      <td>0.626683</td>\n",
       "      <td>1.000000</td>\n",
       "      <td>-0.637132</td>\n",
       "      <td>-0.536983</td>\n",
       "      <td>-0.153525</td>\n",
       "    </tr>\n",
       "    <tr>\n",
       "      <th>f6</th>\n",
       "      <td>-0.522369</td>\n",
       "      <td>-0.185538</td>\n",
       "      <td>-0.834312</td>\n",
       "      <td>-0.910262</td>\n",
       "      <td>0.779847</td>\n",
       "      <td>-0.712940</td>\n",
       "      <td>-0.637132</td>\n",
       "      <td>1.000000</td>\n",
       "      <td>0.964978</td>\n",
       "      <td>0.199227</td>\n",
       "    </tr>\n",
       "    <tr>\n",
       "      <th>f7</th>\n",
       "      <td>-0.545754</td>\n",
       "      <td>-0.195777</td>\n",
       "      <td>-0.870022</td>\n",
       "      <td>-0.918306</td>\n",
       "      <td>0.779323</td>\n",
       "      <td>-0.689380</td>\n",
       "      <td>-0.536983</td>\n",
       "      <td>0.964978</td>\n",
       "      <td>1.000000</td>\n",
       "      <td>0.250246</td>\n",
       "    </tr>\n",
       "    <tr>\n",
       "      <th>label</th>\n",
       "      <td>-0.007641</td>\n",
       "      <td>0.052748</td>\n",
       "      <td>-0.361829</td>\n",
       "      <td>-0.311034</td>\n",
       "      <td>0.327013</td>\n",
       "      <td>-0.406212</td>\n",
       "      <td>-0.153525</td>\n",
       "      <td>0.199227</td>\n",
       "      <td>0.250246</td>\n",
       "      <td>1.000000</td>\n",
       "    </tr>\n",
       "  </tbody>\n",
       "</table>\n",
       "</div>"
      ],
      "text/plain": [
       "               area  perimeter  red_mean  blue_mean        f2  green_std  \\\n",
       "area       1.000000   0.805378  0.497363   0.499452 -0.402899   0.167162   \n",
       "perimeter  0.805378   1.000000  0.170937   0.174677 -0.142985   0.007159   \n",
       "red_mean   0.497363   0.170937  1.000000   0.955816 -0.646813   0.685405   \n",
       "blue_mean  0.499452   0.174677  0.955816   1.000000 -0.742234   0.748501   \n",
       "f2        -0.402899  -0.142985 -0.646813  -0.742234  1.000000  -0.660180   \n",
       "green_std  0.167162   0.007159  0.685405   0.748501 -0.660180   1.000000   \n",
       "f4         0.160551   0.072969  0.434250   0.557654 -0.410114   0.626683   \n",
       "f6        -0.522369  -0.185538 -0.834312  -0.910262  0.779847  -0.712940   \n",
       "f7        -0.545754  -0.195777 -0.870022  -0.918306  0.779323  -0.689380   \n",
       "label     -0.007641   0.052748 -0.361829  -0.311034  0.327013  -0.406212   \n",
       "\n",
       "                 f4        f6        f7     label  \n",
       "area       0.160551 -0.522369 -0.545754 -0.007641  \n",
       "perimeter  0.072969 -0.185538 -0.195777  0.052748  \n",
       "red_mean   0.434250 -0.834312 -0.870022 -0.361829  \n",
       "blue_mean  0.557654 -0.910262 -0.918306 -0.311034  \n",
       "f2        -0.410114  0.779847  0.779323  0.327013  \n",
       "green_std  0.626683 -0.712940 -0.689380 -0.406212  \n",
       "f4         1.000000 -0.637132 -0.536983 -0.153525  \n",
       "f6        -0.637132  1.000000  0.964978  0.199227  \n",
       "f7        -0.536983  0.964978  1.000000  0.250246  \n",
       "label     -0.153525  0.199227  0.250246  1.000000  "
      ]
     },
     "execution_count": 9,
     "metadata": {},
     "output_type": "execute_result"
    }
   ],
   "source": [
    "cleaned_data.corr(method ='pearson')"
   ]
  },
  {
   "cell_type": "code",
   "execution_count": 10,
   "metadata": {
    "id": "nHFTe4TItiFJ"
   },
   "outputs": [],
   "source": [
    "cleaned_data = cleaned_data.dropna()"
   ]
  },
  {
   "cell_type": "code",
   "execution_count": 11,
   "metadata": {
    "colab": {
     "base_uri": "https://localhost:8080/"
    },
    "id": "1ns2yXu9uXnE",
    "outputId": "81b3083c-7b65-4923-ebe8-674259d14aa4"
   },
   "outputs": [
    {
     "data": {
      "text/plain": [
       "(4330, 16)"
      ]
     },
     "execution_count": 11,
     "metadata": {},
     "output_type": "execute_result"
    }
   ],
   "source": [
    "raw_data.shape"
   ]
  },
  {
   "cell_type": "code",
   "execution_count": 12,
   "metadata": {
    "colab": {
     "base_uri": "https://localhost:8080/"
    },
    "id": "X2iVldJpuZb5",
    "outputId": "44927c0c-ca20-4995-f579-8f113ea7d2f3"
   },
   "outputs": [
    {
     "data": {
      "text/plain": [
       "(4330, 10)"
      ]
     },
     "execution_count": 12,
     "metadata": {},
     "output_type": "execute_result"
    }
   ],
   "source": [
    "cleaned_data.shape"
   ]
  },
  {
   "cell_type": "code",
   "execution_count": 13,
   "metadata": {
    "id": "q1UEsRsTubX5"
   },
   "outputs": [],
   "source": [
    "from sklearn.model_selection import train_test_split\n",
    "from sklearn.metrics import accuracy_score\n",
    "from sklearn.preprocessing import StandardScaler\n",
    "from sklearn.decomposition import PCA\n",
    "from sklearn.svm import SVC\n",
    "from sklearn.metrics import roc_curve, auc\n",
    "from sklearn.model_selection import KFold \n"
   ]
  },
  {
   "cell_type": "code",
   "execution_count": 14,
   "metadata": {
    "id": "ZJg6iy3Mu72T"
   },
   "outputs": [],
   "source": [
    "df = cleaned_data.reset_index()"
   ]
  },
  {
   "cell_type": "code",
   "execution_count": 15,
   "metadata": {
    "colab": {
     "base_uri": "https://localhost:8080/"
    },
    "id": "3DvMWo8rvPW6",
    "outputId": "72d93ebe-2fbe-47b6-903a-ae58e46569e7"
   },
   "outputs": [
    {
     "name": "stdout",
     "output_type": "stream",
     "text": [
      "(4330, 9)\n",
      "(4330,)\n"
     ]
    }
   ],
   "source": [
    "X = df.drop(['index','label'],axis = 1, inplace=False)\n",
    "y = df['label']\n",
    "print(X.shape)\n",
    "print(y.shape)"
   ]
  },
  {
   "cell_type": "code",
   "execution_count": 16,
   "metadata": {
    "colab": {
     "base_uri": "https://localhost:8080/"
    },
    "id": "j723Yu4Xvx_r",
    "outputId": "7d68696b-7a50-4d90-a12e-c3e326ba15d6"
   },
   "outputs": [
    {
     "name": "stdout",
     "output_type": "stream",
     "text": [
      "Score of each fold - [0.848729792147806, 0.8625866050808314, 0.8556581986143187, 0.8545034642032333, 0.8579676674364896]\n",
      "Avg Score : 0.8558891454965358\n"
     ]
    }
   ],
   "source": [
    "k = 5\n",
    "kf = KFold(n_splits=k, random_state=9, shuffle = True)\n",
    "from sklearn.ensemble import RandomForestClassifier\n",
    "model = RandomForestClassifier(random_state = 50,n_estimators = 50,max_samples = 0.7)\n",
    " \n",
    "acc_score = []\n",
    "\n",
    "for train_index , test_index in kf.split(X):\n",
    "    X_train , X_test = X.iloc[train_index,:],X.iloc[test_index,:]\n",
    "    y_train , y_test = y[train_index] , y[test_index]\n",
    "    model = RandomForestClassifier(random_state = 50,n_estimators = 50,max_samples = 0.7)\n",
    "    model.fit(X_train,y_train)\n",
    "    pred_values = model.predict(X_test)            # classification\n",
    "    acc = accuracy_score(pred_values , y_test)     # Classification\n",
    "\n",
    "    #acc = model.score(X_test,y_test)                # Regression\n",
    "    \n",
    "    acc_score.append(acc)\n",
    "     \n",
    "avg_acc_score = sum(acc_score)/k\n",
    " \n",
    "print('Score of each fold - {}'.format(acc_score))\n",
    "print('Avg Score : {}'.format(avg_acc_score))"
   ]
  },
  {
   "cell_type": "markdown",
   "metadata": {
    "id": "jShjKvkbwtys"
   },
   "source": [
    "# **K- fold Cross validation accuracy:**\n",
    "# **0.911084778941669**"
   ]
  },
  {
   "cell_type": "markdown",
   "metadata": {
    "id": "MalrrV30xqn8"
   },
   "source": [
    "# ROC Curve"
   ]
  },
  {
   "cell_type": "code",
   "execution_count": 17,
   "metadata": {
    "colab": {
     "base_uri": "https://localhost:8080/",
     "height": 349
    },
    "id": "U_6DxxVXwmJP",
    "outputId": "a133289a-c71b-4af2-8e04-d36b24d2fc40"
   },
   "outputs": [
    {
     "name": "stderr",
     "output_type": "stream",
     "text": [
      "/home/igor/Documentos/pdi_project/plant_env/lib/python3.6/site-packages/sklearn/utils/deprecation.py:86: FutureWarning: Function plot_roc_curve is deprecated; This will be removed in v0.5.0. Please use scikitplot.metrics.plot_roc instead.\n",
      "  warnings.warn(msg, category=FutureWarning)\n"
     ]
    },
    {
     "data": {
      "image/png": "[encoded data removed]",
      "text/plain": [
       "<Figure size 432x288 with 1 Axes>"
      ]
     },
     "metadata": {
      "needs_background": "light"
     },
     "output_type": "display_data"
    }
   ],
   "source": [
    "import scikitplot as skplt\n",
    "import matplotlib.pyplot as plt\n",
    "\n",
    "y_true = y_test\n",
    "y_probas = model.predict_proba(X_test)\n",
    "skplt.metrics.plot_roc_curve(y_true, y_probas)\n",
    "\n",
    "\n",
    "# filename = '/content/drive/MyDrive/CV_HA/Classification model/V1/ROC_v1.png'\n",
    "\n",
    "# plt.savefig(filename)\n",
    "plt.show()"
   ]
  },
  {
   "cell_type": "code",
   "execution_count": 18,
   "metadata": {
    "colab": {
     "base_uri": "https://localhost:8080/",
     "height": 296
    },
    "id": "qw0YcxFQx3Mc",
    "outputId": "c83fbdcf-a67a-404f-e8dc-9c8473490392"
   },
   "outputs": [
    {
     "data": {
      "text/plain": [
       "<sklearn.metrics._plot.confusion_matrix.ConfusionMatrixDisplay at 0x7f69cd92de10>"
      ]
     },
     "execution_count": 18,
     "metadata": {},
     "output_type": "execute_result"
    },
    {
     "data": {
      "image/png": "[encoded data removed]",
      "text/plain": [
       "<Figure size 432x288 with 2 Axes>"
      ]
     },
     "metadata": {
      "needs_background": "light"
     },
     "output_type": "display_data"
    }
   ],
   "source": [
    "from sklearn.metrics import plot_confusion_matrix\n",
    "y_pred = model.predict(X_test)\n",
    "plot_confusion_matrix(model, X_test, y_test, values_format = 'd',cmap = 'Blues',display_labels = ['0','1','2','3'])"
   ]
  },
  {
   "cell_type": "code",
   "execution_count": 19,
   "metadata": {
    "colab": {
     "base_uri": "https://localhost:8080/"
    },
    "id": "Gref__vNyWqm",
    "outputId": "ba198a46-5398-482a-a509-72776333aa9d"
   },
   "outputs": [
    {
     "name": "stdout",
     "output_type": "stream",
     "text": [
      "              precision    recall  f1-score   support\n",
      "\n",
      "           0       0.92      0.95      0.93       228\n",
      "           1       0.77      0.67      0.72       201\n",
      "           2       0.98      0.98      0.98       233\n",
      "           3       0.74      0.80      0.77       204\n",
      "\n",
      "    accuracy                           0.86       866\n",
      "   macro avg       0.85      0.85      0.85       866\n",
      "weighted avg       0.86      0.86      0.86       866\n",
      "\n"
     ]
    },
    {
     "name": "stderr",
     "output_type": "stream",
     "text": [
      "/home/igor/Documentos/pdi_project/plant_env/lib/python3.6/site-packages/sklearn/utils/validation.py:72: FutureWarning: Pass labels=[0, 1, 2, 3] as keyword args. From version 1.0 (renaming of 0.25) passing these as positional arguments will result in an error\n",
      "  \"will result in an error\", FutureWarning)\n"
     ]
    }
   ],
   "source": [
    "from sklearn.metrics import classification_report\n",
    "\n",
    "print(classification_report(y_test, y_pred, [0,1,2,3]))"
   ]
  },
  {
   "cell_type": "markdown",
   "metadata": {
    "id": "DTaYkJYuzBly"
   },
   "source": [
    "# **F1 Score:**\n",
    "# **0.91**"
   ]
  },
  {
   "cell_type": "markdown",
   "metadata": {
    "id": "XEl3_kcUzXyY"
   },
   "source": [
    "# Deployment"
   ]
  },
  {
   "cell_type": "code",
   "execution_count": 22,
   "metadata": {
    "colab": {
     "base_uri": "https://localhost:8080/"
    },
    "id": "HY3YfG2py-Jf",
    "outputId": "1ae76c7e-aea2-4ecf-9da4-2c14477c7009"
   },
   "outputs": [
    {
     "name": "stdout",
     "output_type": "stream",
     "text": [
      "Training Score:  0.9961148284049213\n"
     ]
    }
   ],
   "source": [
    "from sklearn.ensemble import RandomForestClassifier\n",
    "lm = RandomForestClassifier(random_state = 50,n_estimators = 50,max_samples = 0.7)\n",
    "lm.fit(X,y)\n",
    "print('Training Score: ',lm.score(X,y))"
   ]
  },
  {
   "cell_type": "code",
   "execution_count": 23,
   "metadata": {
    "colab": {
     "base_uri": "https://localhost:8080/"
    },
    "id": "LlyCB8PCy1qh",
    "outputId": "2cc193e3-7c9e-451e-ab77-0df761e46954"
   },
   "outputs": [
    {
     "data": {
      "text/plain": [
       "array([0.08661536, 0.07222978, 0.10564381, 0.12744227, 0.13711949,\n",
       "       0.12282753, 0.20433199, 0.06921843, 0.07457133])"
      ]
     },
     "execution_count": 23,
     "metadata": {},
     "output_type": "execute_result"
    }
   ],
   "source": [
    "lm.feature_importances_"
   ]
  },
  {
   "cell_type": "code",
   "execution_count": 24,
   "metadata": {
    "id": "uIAW7lfGznMp"
   },
   "outputs": [],
   "source": [
    "# import pickle\n",
    "# filename = '/content/drive/MyDrive/Ajinkya_Patil_Plant Disease Detection /Processed_data&models/Apple/Results/Applemodel_V1.sav'\n",
    "# pickle.dump(lm, open(filename, 'wb'))"
   ]
  },
  {
   "cell_type": "code",
   "execution_count": 25,
   "metadata": {
    "colab": {
     "base_uri": "https://localhost:8080/"
    },
    "id": "eR0kjBaSzr0a",
    "outputId": "9d6d6bee-9299-4374-8869-b6052022662a"
   },
   "outputs": [],
   "source": [
    "# filename = '/content/drive/MyDrive/Ajinkya_Patil_Plant Disease Detection /Processed_data&models/Apple/Results/Applemodel_V1.sav'\n",
    "\n",
    "# dep_model = pickle.load(open(filename, 'rb'))\n",
    "\n",
    "# print(dep_model.score(X,y))"
   ]
  },
  {
   "cell_type": "code",
   "execution_count": null,
   "metadata": {
    "id": "UkNG6jVI0xt9"
   },
   "outputs": [],
   "source": []
  },
  {
   "cell_type": "markdown",
   "metadata": {
    "id": "WyNxpJvA0ycq"
   },
   "source": [
    "# Selected Features"
   ]
  },
  {
   "cell_type": "code",
   "execution_count": 26,
   "metadata": {
    "colab": {
     "base_uri": "https://localhost:8080/"
    },
    "id": "bb17TIJPz5jJ",
    "outputId": "a4d12a70-dffc-46c9-9374-c36c142227d2"
   },
   "outputs": [
    {
     "data": {
      "text/plain": [
       "Index(['area', 'perimeter', 'red_mean', 'blue_mean', 'f2', 'green_std', 'f4',\n",
       "       'f6', 'f7'],\n",
       "      dtype='object')"
      ]
     },
     "execution_count": 26,
     "metadata": {},
     "output_type": "execute_result"
    }
   ],
   "source": [
    "X.columns"
   ]
  },
  {
   "cell_type": "markdown",
   "metadata": {
    "id": "d4vGl0q9034u"
   },
   "source": [
    "# Label Dictionary"
   ]
  },
  {
   "cell_type": "markdown",
   "metadata": {
    "id": "ZmcskXT91ZG9"
   },
   "source": [
    "- 0 :Apple___healthy\n",
    "- 1: Apple___Apple_scab\n",
    "- 2: Apple___Black_rot\n",
    "- 3: Apple___Cedar_apple_rust"
   ]
  },
  {
   "cell_type": "markdown",
   "metadata": {
    "id": "MN3l625X141M"
   },
   "source": [
    "# Performance\n",
    "- Accuracy : 0.9110\n",
    "- F1 score : 0.91"
   ]
  },
  {
   "cell_type": "code",
   "execution_count": null,
   "metadata": {
    "id": "wkL5LGPF0wIr"
   },
   "outputs": [],
   "source": []
  },
  {
   "cell_type": "code",
   "execution_count": null,
   "metadata": {
    "id": "m79EqwuG0Wjh"
   },
   "outputs": [],
   "source": []
  }
 ],
 "metadata": {
  "colab": {
   "name": "Apple_DA_and_MD.ipynb",
   "provenance": []
  },
  "kernelspec": {
   "display_name": "plant_env",
   "language": "python",
   "name": "plant_env"
  },
  "language_info": {
   "codemirror_mode": {
    "name": "ipython",
    "version": 3
   },
   "file_extension": ".py",
   "mimetype": "text/x-python",
   "name": "python",
   "nbconvert_exporter": "python",
   "pygments_lexer": "ipython3",
   "version": "3.6.9"
  }
 },
 "nbformat": 4,
 "nbformat_minor": 1
}
