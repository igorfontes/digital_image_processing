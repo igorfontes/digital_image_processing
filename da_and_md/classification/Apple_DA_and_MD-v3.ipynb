{
 "cells": [
  {
   "cell_type": "code",
   "execution_count": 7,
   "metadata": {
    "id": "8Cg54vyTot1W"
   },
   "outputs": [],
   "source": [
    "import pandas as pd\n",
    "import matplotlib.pyplot as plt\n",
    "import numpy as np\n",
    "import seaborn as sns\n",
    "import warnings\n",
    "warnings.filterwarnings('ignore')"
   ]
  },
  {
   "cell_type": "code",
   "execution_count": 8,
   "metadata": {
    "id": "4-v_yHgEowG5"
   },
   "outputs": [],
   "source": [
    "#!pip install openpyxl\n",
    "raw_data = pd.read_excel('../../apple_dataset_v3.xlsx', engine='openpyxl')"
   ]
  },
  {
   "cell_type": "code",
   "execution_count": 10,
   "metadata": {
    "colab": {
     "base_uri": "https://localhost:8080/"
    },
    "id": "d-UxkVS-sCVa",
    "outputId": "6a77717b-e608-4356-e740-910a8cec0159"
   },
   "outputs": [
    {
     "data": {
      "text/plain": [
       "Unnamed: 0      int64\n",
       "area          float64\n",
       "perimeter     float64\n",
       "red_mean      float64\n",
       "green_mean    float64\n",
       "blue_mean     float64\n",
       "f1            float64\n",
       "f2            float64\n",
       "red_std       float64\n",
       "green_std     float64\n",
       "blue_std      float64\n",
       "f4            float64\n",
       "f5            float64\n",
       "f6            float64\n",
       "f7            float64\n",
       "f8            float64\n",
       "label           int64\n",
       "dtype: object"
      ]
     },
     "execution_count": 10,
     "metadata": {},
     "output_type": "execute_result"
    }
   ],
   "source": [
    "raw_data.dtypes"
   ]
  },
  {
   "cell_type": "code",
   "execution_count": 11,
   "metadata": {
    "id": "6rODIXAEsIiK"
   },
   "outputs": [],
   "source": [
    "raw_data.drop(['Unnamed: 0'],axis = 1, inplace=True)"
   ]
  },
  {
   "cell_type": "code",
   "execution_count": 12,
   "metadata": {
    "colab": {
     "base_uri": "https://localhost:8080/"
    },
    "id": "f3T6y1gVsT2p",
    "outputId": "ab01a558-d67c-4f56-92d5-52ca32f22a78"
   },
   "outputs": [
    {
     "data": {
      "text/plain": [
       "Index(['area', 'perimeter', 'red_mean', 'green_mean', 'blue_mean', 'f1', 'f2',\n",
       "       'red_std', 'green_std', 'blue_std', 'f4', 'f5', 'f6', 'f7', 'f8',\n",
       "       'label'],\n",
       "      dtype='object')"
      ]
     },
     "execution_count": 12,
     "metadata": {},
     "output_type": "execute_result"
    }
   ],
   "source": [
    "raw_data.columns"
   ]
  },
  {
   "cell_type": "code",
   "execution_count": 13,
   "metadata": {
    "colab": {
     "base_uri": "https://localhost:8080/",
     "height": 1000
    },
    "id": "48HQEVsXsWFp",
    "outputId": "69917675-7ac8-48a3-9a77-5f93eeecf880"
   },
   "outputs": [
    {
     "data": {
      "text/html": [
       "<div>\n",
       "<style scoped>\n",
       "    .dataframe tbody tr th:only-of-type {\n",
       "        vertical-align: middle;\n",
       "    }\n",
       "\n",
       "    .dataframe tbody tr th {\n",
       "        vertical-align: top;\n",
       "    }\n",
       "\n",
       "    .dataframe thead th {\n",
       "        text-align: right;\n",
       "    }\n",
       "</style>\n",
       "<table border=\"1\" class=\"dataframe\">\n",
       "  <thead>\n",
       "    <tr style=\"text-align: right;\">\n",
       "      <th></th>\n",
       "      <th>area</th>\n",
       "      <th>perimeter</th>\n",
       "      <th>red_mean</th>\n",
       "      <th>green_mean</th>\n",
       "      <th>blue_mean</th>\n",
       "      <th>f1</th>\n",
       "      <th>f2</th>\n",
       "      <th>red_std</th>\n",
       "      <th>green_std</th>\n",
       "      <th>blue_std</th>\n",
       "      <th>f4</th>\n",
       "      <th>f5</th>\n",
       "      <th>f6</th>\n",
       "      <th>f7</th>\n",
       "      <th>f8</th>\n",
       "      <th>label</th>\n",
       "    </tr>\n",
       "  </thead>\n",
       "  <tbody>\n",
       "    <tr>\n",
       "      <th>area</th>\n",
       "      <td>1.000000</td>\n",
       "      <td>0.880241</td>\n",
       "      <td>0.432950</td>\n",
       "      <td>0.478015</td>\n",
       "      <td>0.425686</td>\n",
       "      <td>0.260188</td>\n",
       "      <td>-0.260188</td>\n",
       "      <td>0.026840</td>\n",
       "      <td>-0.167801</td>\n",
       "      <td>-0.120679</td>\n",
       "      <td>-0.115927</td>\n",
       "      <td>-0.000075</td>\n",
       "      <td>-0.511907</td>\n",
       "      <td>-0.580309</td>\n",
       "      <td>0.097347</td>\n",
       "      <td>-0.065952</td>\n",
       "    </tr>\n",
       "    <tr>\n",
       "      <th>perimeter</th>\n",
       "      <td>0.880241</td>\n",
       "      <td>1.000000</td>\n",
       "      <td>0.329998</td>\n",
       "      <td>0.335047</td>\n",
       "      <td>0.320587</td>\n",
       "      <td>0.116188</td>\n",
       "      <td>-0.116188</td>\n",
       "      <td>0.097298</td>\n",
       "      <td>-0.049557</td>\n",
       "      <td>-0.005250</td>\n",
       "      <td>-0.044124</td>\n",
       "      <td>0.028812</td>\n",
       "      <td>-0.352700</td>\n",
       "      <td>-0.387806</td>\n",
       "      <td>0.069544</td>\n",
       "      <td>-0.040275</td>\n",
       "    </tr>\n",
       "    <tr>\n",
       "      <th>red_mean</th>\n",
       "      <td>0.432950</td>\n",
       "      <td>0.329998</td>\n",
       "      <td>1.000000</td>\n",
       "      <td>0.823550</td>\n",
       "      <td>0.863332</td>\n",
       "      <td>-0.026385</td>\n",
       "      <td>0.026385</td>\n",
       "      <td>0.688783</td>\n",
       "      <td>0.237593</td>\n",
       "      <td>0.392941</td>\n",
       "      <td>0.294274</td>\n",
       "      <td>0.442759</td>\n",
       "      <td>-0.812652</td>\n",
       "      <td>-0.764567</td>\n",
       "      <td>-0.120942</td>\n",
       "      <td>-0.246649</td>\n",
       "    </tr>\n",
       "    <tr>\n",
       "      <th>green_mean</th>\n",
       "      <td>0.478015</td>\n",
       "      <td>0.335047</td>\n",
       "      <td>0.823550</td>\n",
       "      <td>1.000000</td>\n",
       "      <td>0.938353</td>\n",
       "      <td>0.412856</td>\n",
       "      <td>-0.412856</td>\n",
       "      <td>0.412554</td>\n",
       "      <td>0.343606</td>\n",
       "      <td>0.362624</td>\n",
       "      <td>0.255760</td>\n",
       "      <td>0.389633</td>\n",
       "      <td>-0.880777</td>\n",
       "      <td>-0.871759</td>\n",
       "      <td>-0.063049</td>\n",
       "      <td>0.080160</td>\n",
       "    </tr>\n",
       "    <tr>\n",
       "      <th>blue_mean</th>\n",
       "      <td>0.425686</td>\n",
       "      <td>0.320587</td>\n",
       "      <td>0.863332</td>\n",
       "      <td>0.938353</td>\n",
       "      <td>1.000000</td>\n",
       "      <td>0.128250</td>\n",
       "      <td>-0.128250</td>\n",
       "      <td>0.511404</td>\n",
       "      <td>0.354867</td>\n",
       "      <td>0.517763</td>\n",
       "      <td>0.290338</td>\n",
       "      <td>0.404355</td>\n",
       "      <td>-0.821626</td>\n",
       "      <td>-0.804735</td>\n",
       "      <td>-0.059229</td>\n",
       "      <td>0.072443</td>\n",
       "    </tr>\n",
       "    <tr>\n",
       "      <th>f1</th>\n",
       "      <td>0.260188</td>\n",
       "      <td>0.116188</td>\n",
       "      <td>-0.026385</td>\n",
       "      <td>0.412856</td>\n",
       "      <td>0.128250</td>\n",
       "      <td>1.000000</td>\n",
       "      <td>-1.000000</td>\n",
       "      <td>-0.375125</td>\n",
       "      <td>-0.022962</td>\n",
       "      <td>-0.335918</td>\n",
       "      <td>-0.141458</td>\n",
       "      <td>-0.067551</td>\n",
       "      <td>-0.357615</td>\n",
       "      <td>-0.427510</td>\n",
       "      <td>0.077107</td>\n",
       "      <td>0.283951</td>\n",
       "    </tr>\n",
       "    <tr>\n",
       "      <th>f2</th>\n",
       "      <td>-0.260188</td>\n",
       "      <td>-0.116188</td>\n",
       "      <td>0.026385</td>\n",
       "      <td>-0.412856</td>\n",
       "      <td>-0.128250</td>\n",
       "      <td>-1.000000</td>\n",
       "      <td>1.000000</td>\n",
       "      <td>0.375125</td>\n",
       "      <td>0.022962</td>\n",
       "      <td>0.335918</td>\n",
       "      <td>0.141458</td>\n",
       "      <td>0.067551</td>\n",
       "      <td>0.357615</td>\n",
       "      <td>0.427510</td>\n",
       "      <td>-0.077107</td>\n",
       "      <td>-0.283951</td>\n",
       "    </tr>\n",
       "    <tr>\n",
       "      <th>red_std</th>\n",
       "      <td>0.026840</td>\n",
       "      <td>0.097298</td>\n",
       "      <td>0.688783</td>\n",
       "      <td>0.412554</td>\n",
       "      <td>0.511404</td>\n",
       "      <td>-0.375125</td>\n",
       "      <td>0.375125</td>\n",
       "      <td>1.000000</td>\n",
       "      <td>0.664393</td>\n",
       "      <td>0.781008</td>\n",
       "      <td>0.613604</td>\n",
       "      <td>0.629511</td>\n",
       "      <td>-0.344309</td>\n",
       "      <td>-0.175604</td>\n",
       "      <td>-0.268778</td>\n",
       "      <td>-0.366739</td>\n",
       "    </tr>\n",
       "    <tr>\n",
       "      <th>green_std</th>\n",
       "      <td>-0.167801</td>\n",
       "      <td>-0.049557</td>\n",
       "      <td>0.237593</td>\n",
       "      <td>0.343606</td>\n",
       "      <td>0.354867</td>\n",
       "      <td>-0.022962</td>\n",
       "      <td>0.022962</td>\n",
       "      <td>0.664393</td>\n",
       "      <td>1.000000</td>\n",
       "      <td>0.870293</td>\n",
       "      <td>0.589807</td>\n",
       "      <td>0.510527</td>\n",
       "      <td>-0.077143</td>\n",
       "      <td>0.079192</td>\n",
       "      <td>-0.141699</td>\n",
       "      <td>0.059141</td>\n",
       "    </tr>\n",
       "    <tr>\n",
       "      <th>blue_std</th>\n",
       "      <td>-0.120679</td>\n",
       "      <td>-0.005250</td>\n",
       "      <td>0.392941</td>\n",
       "      <td>0.362624</td>\n",
       "      <td>0.517763</td>\n",
       "      <td>-0.335918</td>\n",
       "      <td>0.335918</td>\n",
       "      <td>0.781008</td>\n",
       "      <td>0.870293</td>\n",
       "      <td>1.000000</td>\n",
       "      <td>0.624765</td>\n",
       "      <td>0.561552</td>\n",
       "      <td>-0.155497</td>\n",
       "      <td>-0.001159</td>\n",
       "      <td>-0.184994</td>\n",
       "      <td>-0.004222</td>\n",
       "    </tr>\n",
       "    <tr>\n",
       "      <th>f4</th>\n",
       "      <td>-0.115927</td>\n",
       "      <td>-0.044124</td>\n",
       "      <td>0.294274</td>\n",
       "      <td>0.255760</td>\n",
       "      <td>0.290338</td>\n",
       "      <td>-0.141458</td>\n",
       "      <td>0.141458</td>\n",
       "      <td>0.613604</td>\n",
       "      <td>0.589807</td>\n",
       "      <td>0.624765</td>\n",
       "      <td>1.000000</td>\n",
       "      <td>0.952710</td>\n",
       "      <td>-0.265713</td>\n",
       "      <td>-0.025703</td>\n",
       "      <td>-0.830586</td>\n",
       "      <td>-0.136953</td>\n",
       "    </tr>\n",
       "    <tr>\n",
       "      <th>f5</th>\n",
       "      <td>-0.000075</td>\n",
       "      <td>0.028812</td>\n",
       "      <td>0.442759</td>\n",
       "      <td>0.389633</td>\n",
       "      <td>0.404355</td>\n",
       "      <td>-0.067551</td>\n",
       "      <td>0.067551</td>\n",
       "      <td>0.629511</td>\n",
       "      <td>0.510527</td>\n",
       "      <td>0.561552</td>\n",
       "      <td>0.952710</td>\n",
       "      <td>1.000000</td>\n",
       "      <td>-0.476918</td>\n",
       "      <td>-0.213546</td>\n",
       "      <td>-0.831177</td>\n",
       "      <td>-0.214184</td>\n",
       "    </tr>\n",
       "    <tr>\n",
       "      <th>f6</th>\n",
       "      <td>-0.511907</td>\n",
       "      <td>-0.352700</td>\n",
       "      <td>-0.812652</td>\n",
       "      <td>-0.880777</td>\n",
       "      <td>-0.821626</td>\n",
       "      <td>-0.357615</td>\n",
       "      <td>0.357615</td>\n",
       "      <td>-0.344309</td>\n",
       "      <td>-0.077143</td>\n",
       "      <td>-0.155497</td>\n",
       "      <td>-0.265713</td>\n",
       "      <td>-0.476918</td>\n",
       "      <td>1.000000</td>\n",
       "      <td>0.941960</td>\n",
       "      <td>0.218528</td>\n",
       "      <td>0.079195</td>\n",
       "    </tr>\n",
       "    <tr>\n",
       "      <th>f7</th>\n",
       "      <td>-0.580309</td>\n",
       "      <td>-0.387806</td>\n",
       "      <td>-0.764567</td>\n",
       "      <td>-0.871759</td>\n",
       "      <td>-0.804735</td>\n",
       "      <td>-0.427510</td>\n",
       "      <td>0.427510</td>\n",
       "      <td>-0.175604</td>\n",
       "      <td>0.079192</td>\n",
       "      <td>-0.001159</td>\n",
       "      <td>-0.025703</td>\n",
       "      <td>-0.213546</td>\n",
       "      <td>0.941960</td>\n",
       "      <td>1.000000</td>\n",
       "      <td>-0.003778</td>\n",
       "      <td>-0.018979</td>\n",
       "    </tr>\n",
       "    <tr>\n",
       "      <th>f8</th>\n",
       "      <td>0.097347</td>\n",
       "      <td>0.069544</td>\n",
       "      <td>-0.120942</td>\n",
       "      <td>-0.063049</td>\n",
       "      <td>-0.059229</td>\n",
       "      <td>0.077107</td>\n",
       "      <td>-0.077107</td>\n",
       "      <td>-0.268778</td>\n",
       "      <td>-0.141699</td>\n",
       "      <td>-0.184994</td>\n",
       "      <td>-0.830586</td>\n",
       "      <td>-0.831177</td>\n",
       "      <td>0.218528</td>\n",
       "      <td>-0.003778</td>\n",
       "      <td>1.000000</td>\n",
       "      <td>0.152900</td>\n",
       "    </tr>\n",
       "    <tr>\n",
       "      <th>label</th>\n",
       "      <td>-0.065952</td>\n",
       "      <td>-0.040275</td>\n",
       "      <td>-0.246649</td>\n",
       "      <td>0.080160</td>\n",
       "      <td>0.072443</td>\n",
       "      <td>0.283951</td>\n",
       "      <td>-0.283951</td>\n",
       "      <td>-0.366739</td>\n",
       "      <td>0.059141</td>\n",
       "      <td>-0.004222</td>\n",
       "      <td>-0.136953</td>\n",
       "      <td>-0.214184</td>\n",
       "      <td>0.079195</td>\n",
       "      <td>-0.018979</td>\n",
       "      <td>0.152900</td>\n",
       "      <td>1.000000</td>\n",
       "    </tr>\n",
       "  </tbody>\n",
       "</table>\n",
       "</div>"
      ],
      "text/plain": [
       "                area  perimeter  red_mean  green_mean  blue_mean        f1  \\\n",
       "area        1.000000   0.880241  0.432950    0.478015   0.425686  0.260188   \n",
       "perimeter   0.880241   1.000000  0.329998    0.335047   0.320587  0.116188   \n",
       "red_mean    0.432950   0.329998  1.000000    0.823550   0.863332 -0.026385   \n",
       "green_mean  0.478015   0.335047  0.823550    1.000000   0.938353  0.412856   \n",
       "blue_mean   0.425686   0.320587  0.863332    0.938353   1.000000  0.128250   \n",
       "f1          0.260188   0.116188 -0.026385    0.412856   0.128250  1.000000   \n",
       "f2         -0.260188  -0.116188  0.026385   -0.412856  -0.128250 -1.000000   \n",
       "red_std     0.026840   0.097298  0.688783    0.412554   0.511404 -0.375125   \n",
       "green_std  -0.167801  -0.049557  0.237593    0.343606   0.354867 -0.022962   \n",
       "blue_std   -0.120679  -0.005250  0.392941    0.362624   0.517763 -0.335918   \n",
       "f4         -0.115927  -0.044124  0.294274    0.255760   0.290338 -0.141458   \n",
       "f5         -0.000075   0.028812  0.442759    0.389633   0.404355 -0.067551   \n",
       "f6         -0.511907  -0.352700 -0.812652   -0.880777  -0.821626 -0.357615   \n",
       "f7         -0.580309  -0.387806 -0.764567   -0.871759  -0.804735 -0.427510   \n",
       "f8          0.097347   0.069544 -0.120942   -0.063049  -0.059229  0.077107   \n",
       "label      -0.065952  -0.040275 -0.246649    0.080160   0.072443  0.283951   \n",
       "\n",
       "                  f2   red_std  green_std  blue_std        f4        f5  \\\n",
       "area       -0.260188  0.026840  -0.167801 -0.120679 -0.115927 -0.000075   \n",
       "perimeter  -0.116188  0.097298  -0.049557 -0.005250 -0.044124  0.028812   \n",
       "red_mean    0.026385  0.688783   0.237593  0.392941  0.294274  0.442759   \n",
       "green_mean -0.412856  0.412554   0.343606  0.362624  0.255760  0.389633   \n",
       "blue_mean  -0.128250  0.511404   0.354867  0.517763  0.290338  0.404355   \n",
       "f1         -1.000000 -0.375125  -0.022962 -0.335918 -0.141458 -0.067551   \n",
       "f2          1.000000  0.375125   0.022962  0.335918  0.141458  0.067551   \n",
       "red_std     0.375125  1.000000   0.664393  0.781008  0.613604  0.629511   \n",
       "green_std   0.022962  0.664393   1.000000  0.870293  0.589807  0.510527   \n",
       "blue_std    0.335918  0.781008   0.870293  1.000000  0.624765  0.561552   \n",
       "f4          0.141458  0.613604   0.589807  0.624765  1.000000  0.952710   \n",
       "f5          0.067551  0.629511   0.510527  0.561552  0.952710  1.000000   \n",
       "f6          0.357615 -0.344309  -0.077143 -0.155497 -0.265713 -0.476918   \n",
       "f7          0.427510 -0.175604   0.079192 -0.001159 -0.025703 -0.213546   \n",
       "f8         -0.077107 -0.268778  -0.141699 -0.184994 -0.830586 -0.831177   \n",
       "label      -0.283951 -0.366739   0.059141 -0.004222 -0.136953 -0.214184   \n",
       "\n",
       "                  f6        f7        f8     label  \n",
       "area       -0.511907 -0.580309  0.097347 -0.065952  \n",
       "perimeter  -0.352700 -0.387806  0.069544 -0.040275  \n",
       "red_mean   -0.812652 -0.764567 -0.120942 -0.246649  \n",
       "green_mean -0.880777 -0.871759 -0.063049  0.080160  \n",
       "blue_mean  -0.821626 -0.804735 -0.059229  0.072443  \n",
       "f1         -0.357615 -0.427510  0.077107  0.283951  \n",
       "f2          0.357615  0.427510 -0.077107 -0.283951  \n",
       "red_std    -0.344309 -0.175604 -0.268778 -0.366739  \n",
       "green_std  -0.077143  0.079192 -0.141699  0.059141  \n",
       "blue_std   -0.155497 -0.001159 -0.184994 -0.004222  \n",
       "f4         -0.265713 -0.025703 -0.830586 -0.136953  \n",
       "f5         -0.476918 -0.213546 -0.831177 -0.214184  \n",
       "f6          1.000000  0.941960  0.218528  0.079195  \n",
       "f7          0.941960  1.000000 -0.003778 -0.018979  \n",
       "f8          0.218528 -0.003778  1.000000  0.152900  \n",
       "label       0.079195 -0.018979  0.152900  1.000000  "
      ]
     },
     "execution_count": 13,
     "metadata": {},
     "output_type": "execute_result"
    }
   ],
   "source": [
    "raw_data.corr(method ='pearson')"
   ]
  },
  {
   "cell_type": "markdown",
   "metadata": {
    "id": "tykbukJOs9oT"
   },
   "source": [
    "**Insights:**\n",
    "Less correlated features are:\n",
    "- green channel mean\n",
    "- red channel std\n",
    "- blue channel std\n",
    "- f5\n",
    "- f8\n",
    "\n",
    "Also f1 and f2 are mutually relative So one of them can be removed"
   ]
  },
  {
   "cell_type": "code",
   "execution_count": 14,
   "metadata": {
    "id": "9C4PKZKLs276"
   },
   "outputs": [],
   "source": [
    "cleaned_data = raw_data.drop(['green_mean', 'red_std', 'blue_std', 'f5', 'f8','f1'],axis = 1, inplace=False)"
   ]
  },
  {
   "cell_type": "code",
   "execution_count": 15,
   "metadata": {
    "colab": {
     "base_uri": "https://localhost:8080/",
     "height": 1000
    },
    "id": "5YuECBs9taB2",
    "outputId": "659092be-fad9-4e71-aef0-f4da46785d46"
   },
   "outputs": [
    {
     "data": {
      "text/html": [
       "<div>\n",
       "<style scoped>\n",
       "    .dataframe tbody tr th:only-of-type {\n",
       "        vertical-align: middle;\n",
       "    }\n",
       "\n",
       "    .dataframe tbody tr th {\n",
       "        vertical-align: top;\n",
       "    }\n",
       "\n",
       "    .dataframe thead th {\n",
       "        text-align: right;\n",
       "    }\n",
       "</style>\n",
       "<table border=\"1\" class=\"dataframe\">\n",
       "  <thead>\n",
       "    <tr style=\"text-align: right;\">\n",
       "      <th></th>\n",
       "      <th>area</th>\n",
       "      <th>perimeter</th>\n",
       "      <th>red_mean</th>\n",
       "      <th>blue_mean</th>\n",
       "      <th>f2</th>\n",
       "      <th>green_std</th>\n",
       "      <th>f4</th>\n",
       "      <th>f6</th>\n",
       "      <th>f7</th>\n",
       "      <th>label</th>\n",
       "    </tr>\n",
       "  </thead>\n",
       "  <tbody>\n",
       "    <tr>\n",
       "      <th>area</th>\n",
       "      <td>1.000000</td>\n",
       "      <td>0.880241</td>\n",
       "      <td>0.432950</td>\n",
       "      <td>0.425686</td>\n",
       "      <td>-0.260188</td>\n",
       "      <td>-0.167801</td>\n",
       "      <td>-0.115927</td>\n",
       "      <td>-0.511907</td>\n",
       "      <td>-0.580309</td>\n",
       "      <td>-0.065952</td>\n",
       "    </tr>\n",
       "    <tr>\n",
       "      <th>perimeter</th>\n",
       "      <td>0.880241</td>\n",
       "      <td>1.000000</td>\n",
       "      <td>0.329998</td>\n",
       "      <td>0.320587</td>\n",
       "      <td>-0.116188</td>\n",
       "      <td>-0.049557</td>\n",
       "      <td>-0.044124</td>\n",
       "      <td>-0.352700</td>\n",
       "      <td>-0.387806</td>\n",
       "      <td>-0.040275</td>\n",
       "    </tr>\n",
       "    <tr>\n",
       "      <th>red_mean</th>\n",
       "      <td>0.432950</td>\n",
       "      <td>0.329998</td>\n",
       "      <td>1.000000</td>\n",
       "      <td>0.863332</td>\n",
       "      <td>0.026385</td>\n",
       "      <td>0.237593</td>\n",
       "      <td>0.294274</td>\n",
       "      <td>-0.812652</td>\n",
       "      <td>-0.764567</td>\n",
       "      <td>-0.246649</td>\n",
       "    </tr>\n",
       "    <tr>\n",
       "      <th>blue_mean</th>\n",
       "      <td>0.425686</td>\n",
       "      <td>0.320587</td>\n",
       "      <td>0.863332</td>\n",
       "      <td>1.000000</td>\n",
       "      <td>-0.128250</td>\n",
       "      <td>0.354867</td>\n",
       "      <td>0.290338</td>\n",
       "      <td>-0.821626</td>\n",
       "      <td>-0.804735</td>\n",
       "      <td>0.072443</td>\n",
       "    </tr>\n",
       "    <tr>\n",
       "      <th>f2</th>\n",
       "      <td>-0.260188</td>\n",
       "      <td>-0.116188</td>\n",
       "      <td>0.026385</td>\n",
       "      <td>-0.128250</td>\n",
       "      <td>1.000000</td>\n",
       "      <td>0.022962</td>\n",
       "      <td>0.141458</td>\n",
       "      <td>0.357615</td>\n",
       "      <td>0.427510</td>\n",
       "      <td>-0.283951</td>\n",
       "    </tr>\n",
       "    <tr>\n",
       "      <th>green_std</th>\n",
       "      <td>-0.167801</td>\n",
       "      <td>-0.049557</td>\n",
       "      <td>0.237593</td>\n",
       "      <td>0.354867</td>\n",
       "      <td>0.022962</td>\n",
       "      <td>1.000000</td>\n",
       "      <td>0.589807</td>\n",
       "      <td>-0.077143</td>\n",
       "      <td>0.079192</td>\n",
       "      <td>0.059141</td>\n",
       "    </tr>\n",
       "    <tr>\n",
       "      <th>f4</th>\n",
       "      <td>-0.115927</td>\n",
       "      <td>-0.044124</td>\n",
       "      <td>0.294274</td>\n",
       "      <td>0.290338</td>\n",
       "      <td>0.141458</td>\n",
       "      <td>0.589807</td>\n",
       "      <td>1.000000</td>\n",
       "      <td>-0.265713</td>\n",
       "      <td>-0.025703</td>\n",
       "      <td>-0.136953</td>\n",
       "    </tr>\n",
       "    <tr>\n",
       "      <th>f6</th>\n",
       "      <td>-0.511907</td>\n",
       "      <td>-0.352700</td>\n",
       "      <td>-0.812652</td>\n",
       "      <td>-0.821626</td>\n",
       "      <td>0.357615</td>\n",
       "      <td>-0.077143</td>\n",
       "      <td>-0.265713</td>\n",
       "      <td>1.000000</td>\n",
       "      <td>0.941960</td>\n",
       "      <td>0.079195</td>\n",
       "    </tr>\n",
       "    <tr>\n",
       "      <th>f7</th>\n",
       "      <td>-0.580309</td>\n",
       "      <td>-0.387806</td>\n",
       "      <td>-0.764567</td>\n",
       "      <td>-0.804735</td>\n",
       "      <td>0.427510</td>\n",
       "      <td>0.079192</td>\n",
       "      <td>-0.025703</td>\n",
       "      <td>0.941960</td>\n",
       "      <td>1.000000</td>\n",
       "      <td>-0.018979</td>\n",
       "    </tr>\n",
       "    <tr>\n",
       "      <th>label</th>\n",
       "      <td>-0.065952</td>\n",
       "      <td>-0.040275</td>\n",
       "      <td>-0.246649</td>\n",
       "      <td>0.072443</td>\n",
       "      <td>-0.283951</td>\n",
       "      <td>0.059141</td>\n",
       "      <td>-0.136953</td>\n",
       "      <td>0.079195</td>\n",
       "      <td>-0.018979</td>\n",
       "      <td>1.000000</td>\n",
       "    </tr>\n",
       "  </tbody>\n",
       "</table>\n",
       "</div>"
      ],
      "text/plain": [
       "               area  perimeter  red_mean  blue_mean        f2  green_std  \\\n",
       "area       1.000000   0.880241  0.432950   0.425686 -0.260188  -0.167801   \n",
       "perimeter  0.880241   1.000000  0.329998   0.320587 -0.116188  -0.049557   \n",
       "red_mean   0.432950   0.329998  1.000000   0.863332  0.026385   0.237593   \n",
       "blue_mean  0.425686   0.320587  0.863332   1.000000 -0.128250   0.354867   \n",
       "f2        -0.260188  -0.116188  0.026385  -0.128250  1.000000   0.022962   \n",
       "green_std -0.167801  -0.049557  0.237593   0.354867  0.022962   1.000000   \n",
       "f4        -0.115927  -0.044124  0.294274   0.290338  0.141458   0.589807   \n",
       "f6        -0.511907  -0.352700 -0.812652  -0.821626  0.357615  -0.077143   \n",
       "f7        -0.580309  -0.387806 -0.764567  -0.804735  0.427510   0.079192   \n",
       "label     -0.065952  -0.040275 -0.246649   0.072443 -0.283951   0.059141   \n",
       "\n",
       "                 f4        f6        f7     label  \n",
       "area      -0.115927 -0.511907 -0.580309 -0.065952  \n",
       "perimeter -0.044124 -0.352700 -0.387806 -0.040275  \n",
       "red_mean   0.294274 -0.812652 -0.764567 -0.246649  \n",
       "blue_mean  0.290338 -0.821626 -0.804735  0.072443  \n",
       "f2         0.141458  0.357615  0.427510 -0.283951  \n",
       "green_std  0.589807 -0.077143  0.079192  0.059141  \n",
       "f4         1.000000 -0.265713 -0.025703 -0.136953  \n",
       "f6        -0.265713  1.000000  0.941960  0.079195  \n",
       "f7        -0.025703  0.941960  1.000000 -0.018979  \n",
       "label     -0.136953  0.079195 -0.018979  1.000000  "
      ]
     },
     "execution_count": 15,
     "metadata": {},
     "output_type": "execute_result"
    }
   ],
   "source": [
    "cleaned_data.corr(method ='pearson')"
   ]
  },
  {
   "cell_type": "code",
   "execution_count": 16,
   "metadata": {
    "id": "nHFTe4TItiFJ"
   },
   "outputs": [],
   "source": [
    "cleaned_data = cleaned_data.dropna()"
   ]
  },
  {
   "cell_type": "code",
   "execution_count": 17,
   "metadata": {
    "colab": {
     "base_uri": "https://localhost:8080/"
    },
    "id": "1ns2yXu9uXnE",
    "outputId": "81b3083c-7b65-4923-ebe8-674259d14aa4"
   },
   "outputs": [
    {
     "data": {
      "text/plain": [
       "(4114, 16)"
      ]
     },
     "execution_count": 17,
     "metadata": {},
     "output_type": "execute_result"
    }
   ],
   "source": [
    "raw_data.shape"
   ]
  },
  {
   "cell_type": "code",
   "execution_count": 18,
   "metadata": {
    "colab": {
     "base_uri": "https://localhost:8080/"
    },
    "id": "X2iVldJpuZb5",
    "outputId": "44927c0c-ca20-4995-f579-8f113ea7d2f3"
   },
   "outputs": [
    {
     "data": {
      "text/plain": [
       "(4114, 10)"
      ]
     },
     "execution_count": 18,
     "metadata": {},
     "output_type": "execute_result"
    }
   ],
   "source": [
    "cleaned_data.shape"
   ]
  },
  {
   "cell_type": "code",
   "execution_count": 19,
   "metadata": {
    "id": "q1UEsRsTubX5"
   },
   "outputs": [],
   "source": [
    "from sklearn.model_selection import train_test_split\n",
    "from sklearn.metrics import accuracy_score\n",
    "from sklearn.preprocessing import StandardScaler\n",
    "from sklearn.decomposition import PCA\n",
    "from sklearn.svm import SVC\n",
    "from sklearn.metrics import roc_curve, auc\n",
    "from sklearn.model_selection import KFold \n"
   ]
  },
  {
   "cell_type": "code",
   "execution_count": 20,
   "metadata": {
    "id": "ZJg6iy3Mu72T"
   },
   "outputs": [],
   "source": [
    "df = cleaned_data.reset_index()"
   ]
  },
  {
   "cell_type": "code",
   "execution_count": 21,
   "metadata": {
    "colab": {
     "base_uri": "https://localhost:8080/"
    },
    "id": "3DvMWo8rvPW6",
    "outputId": "72d93ebe-2fbe-47b6-903a-ae58e46569e7"
   },
   "outputs": [
    {
     "name": "stdout",
     "output_type": "stream",
     "text": [
      "(4114, 9)\n",
      "(4114,)\n"
     ]
    }
   ],
   "source": [
    "X = df.drop(['index','label'],axis = 1, inplace=False)\n",
    "y = df['label']\n",
    "print(X.shape)\n",
    "print(y.shape)"
   ]
  },
  {
   "cell_type": "code",
   "execution_count": 22,
   "metadata": {
    "colab": {
     "base_uri": "https://localhost:8080/"
    },
    "id": "j723Yu4Xvx_r",
    "outputId": "7d68696b-7a50-4d90-a12e-c3e326ba15d6"
   },
   "outputs": [
    {
     "name": "stdout",
     "output_type": "stream",
     "text": [
      "Score of each fold - [0.8663426488456865, 0.8651275820170109, 0.8541919805589308, 0.8554070473876063, 0.8491484184914841]\n",
      "Avg Score : 0.8580435354601438\n"
     ]
    }
   ],
   "source": [
    "k = 5\n",
    "kf = KFold(n_splits=k, random_state=9, shuffle = True)\n",
    "from sklearn.ensemble import RandomForestClassifier\n",
    "model = RandomForestClassifier(random_state = 50,n_estimators = 50,max_samples = 0.7)\n",
    " \n",
    "acc_score = []\n",
    "\n",
    "for train_index , test_index in kf.split(X):\n",
    "    X_train , X_test = X.iloc[train_index,:],X.iloc[test_index,:]\n",
    "    y_train , y_test = y[train_index] , y[test_index]\n",
    "    model = RandomForestClassifier(random_state = 50,n_estimators = 50,max_samples = 0.7)\n",
    "    model.fit(X_train,y_train)\n",
    "    pred_values = model.predict(X_test)            # classification\n",
    "    acc = accuracy_score(pred_values , y_test)     # Classification\n",
    "\n",
    "    #acc = model.score(X_test,y_test)                # Regression\n",
    "    \n",
    "    acc_score.append(acc)\n",
    "     \n",
    "avg_acc_score = sum(acc_score)/k\n",
    " \n",
    "print('Score of each fold - {}'.format(acc_score))\n",
    "print('Avg Score : {}'.format(avg_acc_score))"
   ]
  },
  {
   "cell_type": "markdown",
   "metadata": {
    "id": "jShjKvkbwtys"
   },
   "source": [
    "# **K- fold Cross validation accuracy:**\n",
    "# **0.870497738821671**"
   ]
  },
  {
   "cell_type": "markdown",
   "metadata": {
    "id": "MalrrV30xqn8"
   },
   "source": [
    "# ROC Curve"
   ]
  },
  {
   "cell_type": "code",
   "execution_count": 23,
   "metadata": {
    "colab": {
     "base_uri": "https://localhost:8080/",
     "height": 349
    },
    "id": "U_6DxxVXwmJP",
    "outputId": "a133289a-c71b-4af2-8e04-d36b24d2fc40"
   },
   "outputs": [
    {
     "data": {
      "image/png": "[encoded data removed]",
      "text/plain": [
       "<Figure size 432x288 with 1 Axes>"
      ]
     },
     "metadata": {
      "needs_background": "light"
     },
     "output_type": "display_data"
    }
   ],
   "source": [
    "import scikitplot as skplt\n",
    "import matplotlib.pyplot as plt\n",
    "\n",
    "y_true = y_test\n",
    "y_probas = model.predict_proba(X_test)\n",
    "skplt.metrics.plot_roc(y_true, y_probas)\n",
    "\n",
    "plt.show()"
   ]
  },
  {
   "cell_type": "code",
   "execution_count": 24,
   "metadata": {
    "colab": {
     "base_uri": "https://localhost:8080/",
     "height": 296
    },
    "id": "qw0YcxFQx3Mc",
    "outputId": "c83fbdcf-a67a-404f-e8dc-9c8473490392"
   },
   "outputs": [
    {
     "data": {
      "text/plain": [
       "<sklearn.metrics._plot.confusion_matrix.ConfusionMatrixDisplay at 0x7fb136069e80>"
      ]
     },
     "execution_count": 24,
     "metadata": {},
     "output_type": "execute_result"
    },
    {
     "data": {
      "image/png": "[encoded data removed]",
      "text/plain": [
       "<Figure size 432x288 with 2 Axes>"
      ]
     },
     "metadata": {
      "needs_background": "light"
     },
     "output_type": "display_data"
    }
   ],
   "source": [
    "from sklearn.metrics import plot_confusion_matrix\n",
    "y_pred = model.predict(X_test)\n",
    "plot_confusion_matrix(model, X_test, y_test, values_format = 'd',cmap = 'Blues',display_labels = ['0','1','2','3'])"
   ]
  },
  {
   "cell_type": "code",
   "execution_count": 25,
   "metadata": {
    "colab": {
     "base_uri": "https://localhost:8080/"
    },
    "id": "Gref__vNyWqm",
    "outputId": "ba198a46-5398-482a-a509-72776333aa9d"
   },
   "outputs": [
    {
     "name": "stdout",
     "output_type": "stream",
     "text": [
      "              precision    recall  f1-score   support\n",
      "\n",
      "           0       0.86      0.90      0.88       286\n",
      "           1       0.83      0.67      0.74       191\n",
      "           2       0.76      0.84      0.80       155\n",
      "           3       0.91      0.97      0.94       190\n",
      "\n",
      "    accuracy                           0.85       822\n",
      "   macro avg       0.84      0.84      0.84       822\n",
      "weighted avg       0.85      0.85      0.85       822\n",
      "\n"
     ]
    }
   ],
   "source": [
    "from sklearn.metrics import classification_report\n",
    "\n",
    "print(classification_report(y_test, y_pred, [0,1,2,3]))"
   ]
  },
  {
   "cell_type": "markdown",
   "metadata": {
    "id": "DTaYkJYuzBly"
   },
   "source": [
    "# **F1 Score:**\n",
    "# **0.89**"
   ]
  },
  {
   "cell_type": "markdown",
   "metadata": {
    "id": "XEl3_kcUzXyY"
   },
   "source": [
    "# Deployment"
   ]
  },
  {
   "cell_type": "code",
   "execution_count": 26,
   "metadata": {
    "colab": {
     "base_uri": "https://localhost:8080/"
    },
    "id": "HY3YfG2py-Jf",
    "outputId": "1ae76c7e-aea2-4ecf-9da4-2c14477c7009"
   },
   "outputs": [
    {
     "name": "stdout",
     "output_type": "stream",
     "text": [
      "Training Score:  0.9970831307729704\n"
     ]
    }
   ],
   "source": [
    "from sklearn.ensemble import RandomForestClassifier\n",
    "lm = RandomForestClassifier(random_state = 50,n_estimators = 50,max_samples = 0.7)\n",
    "lm.fit(X,y)\n",
    "print('Training Score: ',lm.score(X,y))"
   ]
  },
  {
   "cell_type": "code",
   "execution_count": 27,
   "metadata": {
    "colab": {
     "base_uri": "https://localhost:8080/"
    },
    "id": "LlyCB8PCy1qh",
    "outputId": "2cc193e3-7c9e-451e-ab77-0df761e46954"
   },
   "outputs": [
    {
     "data": {
      "text/plain": [
       "array([0.08010354, 0.05122686, 0.11623311, 0.12257872, 0.20677419,\n",
       "       0.0980252 , 0.19160801, 0.06745727, 0.0659931 ])"
      ]
     },
     "execution_count": 27,
     "metadata": {},
     "output_type": "execute_result"
    }
   ],
   "source": [
    "lm.feature_importances_"
   ]
  },
  {
   "cell_type": "markdown",
   "metadata": {
    "id": "WyNxpJvA0ycq"
   },
   "source": [
    "# Selected Features"
   ]
  },
  {
   "cell_type": "code",
   "execution_count": 28,
   "metadata": {
    "colab": {
     "base_uri": "https://localhost:8080/"
    },
    "id": "bb17TIJPz5jJ",
    "outputId": "a4d12a70-dffc-46c9-9374-c36c142227d2"
   },
   "outputs": [
    {
     "data": {
      "text/plain": [
       "Index(['area', 'perimeter', 'red_mean', 'blue_mean', 'f2', 'green_std', 'f4',\n",
       "       'f6', 'f7'],\n",
       "      dtype='object')"
      ]
     },
     "execution_count": 28,
     "metadata": {},
     "output_type": "execute_result"
    }
   ],
   "source": [
    "X.columns"
   ]
  },
  {
   "cell_type": "code",
   "execution_count": null,
   "metadata": {},
   "outputs": [],
   "source": []
  },
  {
   "cell_type": "code",
   "execution_count": null,
   "metadata": {},
   "outputs": [],
   "source": []
  }
 ],
 "metadata": {
  "colab": {
   "name": "Apple_DA_and_MD.ipynb",
   "provenance": []
  },
  "interpreter": {
   "hash": "bb5a7a19e023c4cfaac4677f5748687784b46986f847b8a1b6d6751c054faa4b"
  },
  "kernelspec": {
   "display_name": "plant_env",
   "language": "python",
   "name": "plant_env"
  },
  "language_info": {
   "codemirror_mode": {
    "name": "ipython",
    "version": 3
   },
   "file_extension": ".py",
   "mimetype": "text/x-python",
   "name": "python",
   "nbconvert_exporter": "python",
   "pygments_lexer": "ipython3",
   "version": "3.6.9"
  }
 },
 "nbformat": 4,
 "nbformat_minor": 1
}
