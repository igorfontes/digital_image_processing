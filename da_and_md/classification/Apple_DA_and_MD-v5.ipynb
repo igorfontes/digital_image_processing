{
 "cells": [
  {
   "cell_type": "code",
   "execution_count": 1,
   "metadata": {
    "id": "8Cg54vyTot1W"
   },
   "outputs": [],
   "source": [
    "import pandas as pd\n",
    "import matplotlib.pyplot as plt\n",
    "import numpy as np\n",
    "import seaborn as sns\n",
    "import warnings\n",
    "warnings.filterwarnings('ignore')"
   ]
  },
  {
   "cell_type": "code",
   "execution_count": 2,
   "metadata": {
    "id": "4-v_yHgEowG5"
   },
   "outputs": [],
   "source": [
    "#!pip install openpyxl\n",
    "raw_data = pd.read_excel('../../apple_dataset_v5.xlsx', engine='openpyxl')"
   ]
  },
  {
   "cell_type": "code",
   "execution_count": 3,
   "metadata": {
    "colab": {
     "base_uri": "https://localhost:8080/"
    },
    "id": "d-UxkVS-sCVa",
    "outputId": "6a77717b-e608-4356-e740-910a8cec0159"
   },
   "outputs": [
    {
     "data": {
      "text/plain": [
       "Unnamed: 0      int64\n",
       "area          float64\n",
       "perimeter     float64\n",
       "red_mean      float64\n",
       "green_mean    float64\n",
       "blue_mean     float64\n",
       "f1            float64\n",
       "f2            float64\n",
       "red_std       float64\n",
       "green_std     float64\n",
       "blue_std      float64\n",
       "f4            float64\n",
       "f5            float64\n",
       "f6            float64\n",
       "f7            float64\n",
       "f8            float64\n",
       "label           int64\n",
       "dtype: object"
      ]
     },
     "execution_count": 3,
     "metadata": {},
     "output_type": "execute_result"
    }
   ],
   "source": [
    "raw_data.dtypes"
   ]
  },
  {
   "cell_type": "code",
   "execution_count": 4,
   "metadata": {
    "id": "6rODIXAEsIiK"
   },
   "outputs": [],
   "source": [
    "raw_data.drop(['Unnamed: 0'],axis = 1, inplace=True)"
   ]
  },
  {
   "cell_type": "code",
   "execution_count": 5,
   "metadata": {
    "colab": {
     "base_uri": "https://localhost:8080/"
    },
    "id": "f3T6y1gVsT2p",
    "outputId": "ab01a558-d67c-4f56-92d5-52ca32f22a78"
   },
   "outputs": [
    {
     "data": {
      "text/plain": [
       "Index(['area', 'perimeter', 'red_mean', 'green_mean', 'blue_mean', 'f1', 'f2',\n",
       "       'red_std', 'green_std', 'blue_std', 'f4', 'f5', 'f6', 'f7', 'f8',\n",
       "       'label'],\n",
       "      dtype='object')"
      ]
     },
     "execution_count": 5,
     "metadata": {},
     "output_type": "execute_result"
    }
   ],
   "source": [
    "raw_data.columns"
   ]
  },
  {
   "cell_type": "code",
   "execution_count": 6,
   "metadata": {
    "colab": {
     "base_uri": "https://localhost:8080/",
     "height": 1000
    },
    "id": "48HQEVsXsWFp",
    "outputId": "69917675-7ac8-48a3-9a77-5f93eeecf880"
   },
   "outputs": [
    {
     "data": {
      "text/html": [
       "<div>\n",
       "<style scoped>\n",
       "    .dataframe tbody tr th:only-of-type {\n",
       "        vertical-align: middle;\n",
       "    }\n",
       "\n",
       "    .dataframe tbody tr th {\n",
       "        vertical-align: top;\n",
       "    }\n",
       "\n",
       "    .dataframe thead th {\n",
       "        text-align: right;\n",
       "    }\n",
       "</style>\n",
       "<table border=\"1\" class=\"dataframe\">\n",
       "  <thead>\n",
       "    <tr style=\"text-align: right;\">\n",
       "      <th></th>\n",
       "      <th>area</th>\n",
       "      <th>perimeter</th>\n",
       "      <th>red_mean</th>\n",
       "      <th>green_mean</th>\n",
       "      <th>blue_mean</th>\n",
       "      <th>f1</th>\n",
       "      <th>f2</th>\n",
       "      <th>red_std</th>\n",
       "      <th>green_std</th>\n",
       "      <th>blue_std</th>\n",
       "      <th>f4</th>\n",
       "      <th>f5</th>\n",
       "      <th>f6</th>\n",
       "      <th>f7</th>\n",
       "      <th>f8</th>\n",
       "      <th>label</th>\n",
       "    </tr>\n",
       "  </thead>\n",
       "  <tbody>\n",
       "    <tr>\n",
       "      <th>area</th>\n",
       "      <td>1.000000</td>\n",
       "      <td>0.892649</td>\n",
       "      <td>0.427544</td>\n",
       "      <td>0.446808</td>\n",
       "      <td>0.400992</td>\n",
       "      <td>0.129512</td>\n",
       "      <td>-0.129512</td>\n",
       "      <td>-0.007563</td>\n",
       "      <td>-0.236725</td>\n",
       "      <td>-0.178824</td>\n",
       "      <td>-0.120432</td>\n",
       "      <td>-0.011948</td>\n",
       "      <td>-0.490582</td>\n",
       "      <td>-0.575094</td>\n",
       "      <td>0.063103</td>\n",
       "      <td>-0.073090</td>\n",
       "    </tr>\n",
       "    <tr>\n",
       "      <th>perimeter</th>\n",
       "      <td>0.892649</td>\n",
       "      <td>1.000000</td>\n",
       "      <td>0.338570</td>\n",
       "      <td>0.321127</td>\n",
       "      <td>0.309515</td>\n",
       "      <td>0.025228</td>\n",
       "      <td>-0.025228</td>\n",
       "      <td>0.080179</td>\n",
       "      <td>-0.090022</td>\n",
       "      <td>-0.046588</td>\n",
       "      <td>-0.047204</td>\n",
       "      <td>0.027816</td>\n",
       "      <td>-0.352804</td>\n",
       "      <td>-0.392576</td>\n",
       "      <td>0.042284</td>\n",
       "      <td>-0.047581</td>\n",
       "    </tr>\n",
       "    <tr>\n",
       "      <th>red_mean</th>\n",
       "      <td>0.427544</td>\n",
       "      <td>0.338570</td>\n",
       "      <td>1.000000</td>\n",
       "      <td>0.828915</td>\n",
       "      <td>0.853069</td>\n",
       "      <td>-0.056117</td>\n",
       "      <td>0.056117</td>\n",
       "      <td>0.642645</td>\n",
       "      <td>0.169922</td>\n",
       "      <td>0.323627</td>\n",
       "      <td>0.270878</td>\n",
       "      <td>0.402715</td>\n",
       "      <td>-0.806547</td>\n",
       "      <td>-0.771036</td>\n",
       "      <td>-0.150688</td>\n",
       "      <td>-0.151703</td>\n",
       "    </tr>\n",
       "    <tr>\n",
       "      <th>green_mean</th>\n",
       "      <td>0.446808</td>\n",
       "      <td>0.321127</td>\n",
       "      <td>0.828915</td>\n",
       "      <td>1.000000</td>\n",
       "      <td>0.945455</td>\n",
       "      <td>0.380224</td>\n",
       "      <td>-0.380224</td>\n",
       "      <td>0.402567</td>\n",
       "      <td>0.278605</td>\n",
       "      <td>0.338173</td>\n",
       "      <td>0.216913</td>\n",
       "      <td>0.325715</td>\n",
       "      <td>-0.832405</td>\n",
       "      <td>-0.842212</td>\n",
       "      <td>-0.061705</td>\n",
       "      <td>0.163091</td>\n",
       "    </tr>\n",
       "    <tr>\n",
       "      <th>blue_mean</th>\n",
       "      <td>0.400992</td>\n",
       "      <td>0.309515</td>\n",
       "      <td>0.853069</td>\n",
       "      <td>0.945455</td>\n",
       "      <td>1.000000</td>\n",
       "      <td>0.215287</td>\n",
       "      <td>-0.215287</td>\n",
       "      <td>0.471915</td>\n",
       "      <td>0.298595</td>\n",
       "      <td>0.467196</td>\n",
       "      <td>0.264532</td>\n",
       "      <td>0.356018</td>\n",
       "      <td>-0.792561</td>\n",
       "      <td>-0.792454</td>\n",
       "      <td>-0.083250</td>\n",
       "      <td>0.186040</td>\n",
       "    </tr>\n",
       "    <tr>\n",
       "      <th>f1</th>\n",
       "      <td>0.129512</td>\n",
       "      <td>0.025228</td>\n",
       "      <td>-0.056117</td>\n",
       "      <td>0.380224</td>\n",
       "      <td>0.215287</td>\n",
       "      <td>1.000000</td>\n",
       "      <td>-1.000000</td>\n",
       "      <td>-0.188985</td>\n",
       "      <td>0.154069</td>\n",
       "      <td>0.019690</td>\n",
       "      <td>0.136165</td>\n",
       "      <td>0.143732</td>\n",
       "      <td>-0.251453</td>\n",
       "      <td>-0.267580</td>\n",
       "      <td>-0.109048</td>\n",
       "      <td>0.247901</td>\n",
       "    </tr>\n",
       "    <tr>\n",
       "      <th>f2</th>\n",
       "      <td>-0.129512</td>\n",
       "      <td>-0.025228</td>\n",
       "      <td>0.056117</td>\n",
       "      <td>-0.380224</td>\n",
       "      <td>-0.215287</td>\n",
       "      <td>-1.000000</td>\n",
       "      <td>1.000000</td>\n",
       "      <td>0.188985</td>\n",
       "      <td>-0.154069</td>\n",
       "      <td>-0.019690</td>\n",
       "      <td>-0.136165</td>\n",
       "      <td>-0.143732</td>\n",
       "      <td>0.251453</td>\n",
       "      <td>0.267580</td>\n",
       "      <td>0.109048</td>\n",
       "      <td>-0.247901</td>\n",
       "    </tr>\n",
       "    <tr>\n",
       "      <th>red_std</th>\n",
       "      <td>-0.007563</td>\n",
       "      <td>0.080179</td>\n",
       "      <td>0.642645</td>\n",
       "      <td>0.402567</td>\n",
       "      <td>0.471915</td>\n",
       "      <td>-0.188985</td>\n",
       "      <td>0.188985</td>\n",
       "      <td>1.000000</td>\n",
       "      <td>0.675612</td>\n",
       "      <td>0.770984</td>\n",
       "      <td>0.630344</td>\n",
       "      <td>0.632490</td>\n",
       "      <td>-0.327328</td>\n",
       "      <td>-0.134953</td>\n",
       "      <td>-0.317867</td>\n",
       "      <td>-0.266786</td>\n",
       "    </tr>\n",
       "    <tr>\n",
       "      <th>green_std</th>\n",
       "      <td>-0.236725</td>\n",
       "      <td>-0.090022</td>\n",
       "      <td>0.169922</td>\n",
       "      <td>0.278605</td>\n",
       "      <td>0.298595</td>\n",
       "      <td>0.154069</td>\n",
       "      <td>-0.154069</td>\n",
       "      <td>0.675612</td>\n",
       "      <td>1.000000</td>\n",
       "      <td>0.895520</td>\n",
       "      <td>0.533674</td>\n",
       "      <td>0.431800</td>\n",
       "      <td>0.037937</td>\n",
       "      <td>0.200789</td>\n",
       "      <td>-0.105718</td>\n",
       "      <td>0.139710</td>\n",
       "    </tr>\n",
       "    <tr>\n",
       "      <th>blue_std</th>\n",
       "      <td>-0.178824</td>\n",
       "      <td>-0.046588</td>\n",
       "      <td>0.323627</td>\n",
       "      <td>0.338173</td>\n",
       "      <td>0.467196</td>\n",
       "      <td>0.019690</td>\n",
       "      <td>-0.019690</td>\n",
       "      <td>0.770984</td>\n",
       "      <td>0.895520</td>\n",
       "      <td>1.000000</td>\n",
       "      <td>0.631174</td>\n",
       "      <td>0.549096</td>\n",
       "      <td>-0.104912</td>\n",
       "      <td>0.067612</td>\n",
       "      <td>-0.224474</td>\n",
       "      <td>0.120792</td>\n",
       "    </tr>\n",
       "    <tr>\n",
       "      <th>f4</th>\n",
       "      <td>-0.120432</td>\n",
       "      <td>-0.047204</td>\n",
       "      <td>0.270878</td>\n",
       "      <td>0.216913</td>\n",
       "      <td>0.264532</td>\n",
       "      <td>0.136165</td>\n",
       "      <td>-0.136165</td>\n",
       "      <td>0.630344</td>\n",
       "      <td>0.533674</td>\n",
       "      <td>0.631174</td>\n",
       "      <td>1.000000</td>\n",
       "      <td>0.956246</td>\n",
       "      <td>-0.288343</td>\n",
       "      <td>-0.017407</td>\n",
       "      <td>-0.852082</td>\n",
       "      <td>-0.142165</td>\n",
       "    </tr>\n",
       "    <tr>\n",
       "      <th>f5</th>\n",
       "      <td>-0.011948</td>\n",
       "      <td>0.027816</td>\n",
       "      <td>0.402715</td>\n",
       "      <td>0.325715</td>\n",
       "      <td>0.356018</td>\n",
       "      <td>0.143732</td>\n",
       "      <td>-0.143732</td>\n",
       "      <td>0.632490</td>\n",
       "      <td>0.431800</td>\n",
       "      <td>0.549096</td>\n",
       "      <td>0.956246</td>\n",
       "      <td>1.000000</td>\n",
       "      <td>-0.489755</td>\n",
       "      <td>-0.194631</td>\n",
       "      <td>-0.873981</td>\n",
       "      <td>-0.226832</td>\n",
       "    </tr>\n",
       "    <tr>\n",
       "      <th>f6</th>\n",
       "      <td>-0.490582</td>\n",
       "      <td>-0.352804</td>\n",
       "      <td>-0.806547</td>\n",
       "      <td>-0.832405</td>\n",
       "      <td>-0.792561</td>\n",
       "      <td>-0.251453</td>\n",
       "      <td>0.251453</td>\n",
       "      <td>-0.327328</td>\n",
       "      <td>0.037937</td>\n",
       "      <td>-0.104912</td>\n",
       "      <td>-0.288343</td>\n",
       "      <td>-0.489755</td>\n",
       "      <td>1.000000</td>\n",
       "      <td>0.927904</td>\n",
       "      <td>0.321080</td>\n",
       "      <td>0.086641</td>\n",
       "    </tr>\n",
       "    <tr>\n",
       "      <th>f7</th>\n",
       "      <td>-0.575094</td>\n",
       "      <td>-0.392576</td>\n",
       "      <td>-0.771036</td>\n",
       "      <td>-0.842212</td>\n",
       "      <td>-0.792454</td>\n",
       "      <td>-0.267580</td>\n",
       "      <td>0.267580</td>\n",
       "      <td>-0.134953</td>\n",
       "      <td>0.200789</td>\n",
       "      <td>0.067612</td>\n",
       "      <td>-0.017407</td>\n",
       "      <td>-0.194631</td>\n",
       "      <td>0.927904</td>\n",
       "      <td>1.000000</td>\n",
       "      <td>0.064746</td>\n",
       "      <td>-0.021168</td>\n",
       "    </tr>\n",
       "    <tr>\n",
       "      <th>f8</th>\n",
       "      <td>0.063103</td>\n",
       "      <td>0.042284</td>\n",
       "      <td>-0.150688</td>\n",
       "      <td>-0.061705</td>\n",
       "      <td>-0.083250</td>\n",
       "      <td>-0.109048</td>\n",
       "      <td>0.109048</td>\n",
       "      <td>-0.317867</td>\n",
       "      <td>-0.105718</td>\n",
       "      <td>-0.224474</td>\n",
       "      <td>-0.852082</td>\n",
       "      <td>-0.873981</td>\n",
       "      <td>0.321080</td>\n",
       "      <td>0.064746</td>\n",
       "      <td>1.000000</td>\n",
       "      <td>0.225966</td>\n",
       "    </tr>\n",
       "    <tr>\n",
       "      <th>label</th>\n",
       "      <td>-0.073090</td>\n",
       "      <td>-0.047581</td>\n",
       "      <td>-0.151703</td>\n",
       "      <td>0.163091</td>\n",
       "      <td>0.186040</td>\n",
       "      <td>0.247901</td>\n",
       "      <td>-0.247901</td>\n",
       "      <td>-0.266786</td>\n",
       "      <td>0.139710</td>\n",
       "      <td>0.120792</td>\n",
       "      <td>-0.142165</td>\n",
       "      <td>-0.226832</td>\n",
       "      <td>0.086641</td>\n",
       "      <td>-0.021168</td>\n",
       "      <td>0.225966</td>\n",
       "      <td>1.000000</td>\n",
       "    </tr>\n",
       "  </tbody>\n",
       "</table>\n",
       "</div>"
      ],
      "text/plain": [
       "                area  perimeter  red_mean  green_mean  blue_mean        f1  \\\n",
       "area        1.000000   0.892649  0.427544    0.446808   0.400992  0.129512   \n",
       "perimeter   0.892649   1.000000  0.338570    0.321127   0.309515  0.025228   \n",
       "red_mean    0.427544   0.338570  1.000000    0.828915   0.853069 -0.056117   \n",
       "green_mean  0.446808   0.321127  0.828915    1.000000   0.945455  0.380224   \n",
       "blue_mean   0.400992   0.309515  0.853069    0.945455   1.000000  0.215287   \n",
       "f1          0.129512   0.025228 -0.056117    0.380224   0.215287  1.000000   \n",
       "f2         -0.129512  -0.025228  0.056117   -0.380224  -0.215287 -1.000000   \n",
       "red_std    -0.007563   0.080179  0.642645    0.402567   0.471915 -0.188985   \n",
       "green_std  -0.236725  -0.090022  0.169922    0.278605   0.298595  0.154069   \n",
       "blue_std   -0.178824  -0.046588  0.323627    0.338173   0.467196  0.019690   \n",
       "f4         -0.120432  -0.047204  0.270878    0.216913   0.264532  0.136165   \n",
       "f5         -0.011948   0.027816  0.402715    0.325715   0.356018  0.143732   \n",
       "f6         -0.490582  -0.352804 -0.806547   -0.832405  -0.792561 -0.251453   \n",
       "f7         -0.575094  -0.392576 -0.771036   -0.842212  -0.792454 -0.267580   \n",
       "f8          0.063103   0.042284 -0.150688   -0.061705  -0.083250 -0.109048   \n",
       "label      -0.073090  -0.047581 -0.151703    0.163091   0.186040  0.247901   \n",
       "\n",
       "                  f2   red_std  green_std  blue_std        f4        f5  \\\n",
       "area       -0.129512 -0.007563  -0.236725 -0.178824 -0.120432 -0.011948   \n",
       "perimeter  -0.025228  0.080179  -0.090022 -0.046588 -0.047204  0.027816   \n",
       "red_mean    0.056117  0.642645   0.169922  0.323627  0.270878  0.402715   \n",
       "green_mean -0.380224  0.402567   0.278605  0.338173  0.216913  0.325715   \n",
       "blue_mean  -0.215287  0.471915   0.298595  0.467196  0.264532  0.356018   \n",
       "f1         -1.000000 -0.188985   0.154069  0.019690  0.136165  0.143732   \n",
       "f2          1.000000  0.188985  -0.154069 -0.019690 -0.136165 -0.143732   \n",
       "red_std     0.188985  1.000000   0.675612  0.770984  0.630344  0.632490   \n",
       "green_std  -0.154069  0.675612   1.000000  0.895520  0.533674  0.431800   \n",
       "blue_std   -0.019690  0.770984   0.895520  1.000000  0.631174  0.549096   \n",
       "f4         -0.136165  0.630344   0.533674  0.631174  1.000000  0.956246   \n",
       "f5         -0.143732  0.632490   0.431800  0.549096  0.956246  1.000000   \n",
       "f6          0.251453 -0.327328   0.037937 -0.104912 -0.288343 -0.489755   \n",
       "f7          0.267580 -0.134953   0.200789  0.067612 -0.017407 -0.194631   \n",
       "f8          0.109048 -0.317867  -0.105718 -0.224474 -0.852082 -0.873981   \n",
       "label      -0.247901 -0.266786   0.139710  0.120792 -0.142165 -0.226832   \n",
       "\n",
       "                  f6        f7        f8     label  \n",
       "area       -0.490582 -0.575094  0.063103 -0.073090  \n",
       "perimeter  -0.352804 -0.392576  0.042284 -0.047581  \n",
       "red_mean   -0.806547 -0.771036 -0.150688 -0.151703  \n",
       "green_mean -0.832405 -0.842212 -0.061705  0.163091  \n",
       "blue_mean  -0.792561 -0.792454 -0.083250  0.186040  \n",
       "f1         -0.251453 -0.267580 -0.109048  0.247901  \n",
       "f2          0.251453  0.267580  0.109048 -0.247901  \n",
       "red_std    -0.327328 -0.134953 -0.317867 -0.266786  \n",
       "green_std   0.037937  0.200789 -0.105718  0.139710  \n",
       "blue_std   -0.104912  0.067612 -0.224474  0.120792  \n",
       "f4         -0.288343 -0.017407 -0.852082 -0.142165  \n",
       "f5         -0.489755 -0.194631 -0.873981 -0.226832  \n",
       "f6          1.000000  0.927904  0.321080  0.086641  \n",
       "f7          0.927904  1.000000  0.064746 -0.021168  \n",
       "f8          0.321080  0.064746  1.000000  0.225966  \n",
       "label       0.086641 -0.021168  0.225966  1.000000  "
      ]
     },
     "execution_count": 6,
     "metadata": {},
     "output_type": "execute_result"
    }
   ],
   "source": [
    "raw_data.corr(method ='pearson')"
   ]
  },
  {
   "cell_type": "markdown",
   "metadata": {
    "id": "tykbukJOs9oT"
   },
   "source": [
    "**Insights:**\n",
    "Less correlated features are:\n",
    "- green channel mean\n",
    "- red channel std\n",
    "- blue channel std\n",
    "- f5\n",
    "- f8\n",
    "\n",
    "Also f1 and f2 are mutually relative So one of them can be removed"
   ]
  },
  {
   "cell_type": "code",
   "execution_count": 7,
   "metadata": {
    "id": "9C4PKZKLs276"
   },
   "outputs": [],
   "source": [
    "cleaned_data = raw_data"
   ]
  },
  {
   "cell_type": "code",
   "execution_count": 8,
   "metadata": {
    "colab": {
     "base_uri": "https://localhost:8080/",
     "height": 1000
    },
    "id": "5YuECBs9taB2",
    "outputId": "659092be-fad9-4e71-aef0-f4da46785d46"
   },
   "outputs": [
    {
     "data": {
      "text/html": [
       "<div>\n",
       "<style scoped>\n",
       "    .dataframe tbody tr th:only-of-type {\n",
       "        vertical-align: middle;\n",
       "    }\n",
       "\n",
       "    .dataframe tbody tr th {\n",
       "        vertical-align: top;\n",
       "    }\n",
       "\n",
       "    .dataframe thead th {\n",
       "        text-align: right;\n",
       "    }\n",
       "</style>\n",
       "<table border=\"1\" class=\"dataframe\">\n",
       "  <thead>\n",
       "    <tr style=\"text-align: right;\">\n",
       "      <th></th>\n",
       "      <th>area</th>\n",
       "      <th>perimeter</th>\n",
       "      <th>red_mean</th>\n",
       "      <th>green_mean</th>\n",
       "      <th>blue_mean</th>\n",
       "      <th>f1</th>\n",
       "      <th>f2</th>\n",
       "      <th>red_std</th>\n",
       "      <th>green_std</th>\n",
       "      <th>blue_std</th>\n",
       "      <th>f4</th>\n",
       "      <th>f5</th>\n",
       "      <th>f6</th>\n",
       "      <th>f7</th>\n",
       "      <th>f8</th>\n",
       "      <th>label</th>\n",
       "    </tr>\n",
       "  </thead>\n",
       "  <tbody>\n",
       "    <tr>\n",
       "      <th>area</th>\n",
       "      <td>1.000000</td>\n",
       "      <td>0.892649</td>\n",
       "      <td>0.427544</td>\n",
       "      <td>0.446808</td>\n",
       "      <td>0.400992</td>\n",
       "      <td>0.129512</td>\n",
       "      <td>-0.129512</td>\n",
       "      <td>-0.007563</td>\n",
       "      <td>-0.236725</td>\n",
       "      <td>-0.178824</td>\n",
       "      <td>-0.120432</td>\n",
       "      <td>-0.011948</td>\n",
       "      <td>-0.490582</td>\n",
       "      <td>-0.575094</td>\n",
       "      <td>0.063103</td>\n",
       "      <td>-0.073090</td>\n",
       "    </tr>\n",
       "    <tr>\n",
       "      <th>perimeter</th>\n",
       "      <td>0.892649</td>\n",
       "      <td>1.000000</td>\n",
       "      <td>0.338570</td>\n",
       "      <td>0.321127</td>\n",
       "      <td>0.309515</td>\n",
       "      <td>0.025228</td>\n",
       "      <td>-0.025228</td>\n",
       "      <td>0.080179</td>\n",
       "      <td>-0.090022</td>\n",
       "      <td>-0.046588</td>\n",
       "      <td>-0.047204</td>\n",
       "      <td>0.027816</td>\n",
       "      <td>-0.352804</td>\n",
       "      <td>-0.392576</td>\n",
       "      <td>0.042284</td>\n",
       "      <td>-0.047581</td>\n",
       "    </tr>\n",
       "    <tr>\n",
       "      <th>red_mean</th>\n",
       "      <td>0.427544</td>\n",
       "      <td>0.338570</td>\n",
       "      <td>1.000000</td>\n",
       "      <td>0.828915</td>\n",
       "      <td>0.853069</td>\n",
       "      <td>-0.056117</td>\n",
       "      <td>0.056117</td>\n",
       "      <td>0.642645</td>\n",
       "      <td>0.169922</td>\n",
       "      <td>0.323627</td>\n",
       "      <td>0.270878</td>\n",
       "      <td>0.402715</td>\n",
       "      <td>-0.806547</td>\n",
       "      <td>-0.771036</td>\n",
       "      <td>-0.150688</td>\n",
       "      <td>-0.151703</td>\n",
       "    </tr>\n",
       "    <tr>\n",
       "      <th>green_mean</th>\n",
       "      <td>0.446808</td>\n",
       "      <td>0.321127</td>\n",
       "      <td>0.828915</td>\n",
       "      <td>1.000000</td>\n",
       "      <td>0.945455</td>\n",
       "      <td>0.380224</td>\n",
       "      <td>-0.380224</td>\n",
       "      <td>0.402567</td>\n",
       "      <td>0.278605</td>\n",
       "      <td>0.338173</td>\n",
       "      <td>0.216913</td>\n",
       "      <td>0.325715</td>\n",
       "      <td>-0.832405</td>\n",
       "      <td>-0.842212</td>\n",
       "      <td>-0.061705</td>\n",
       "      <td>0.163091</td>\n",
       "    </tr>\n",
       "    <tr>\n",
       "      <th>blue_mean</th>\n",
       "      <td>0.400992</td>\n",
       "      <td>0.309515</td>\n",
       "      <td>0.853069</td>\n",
       "      <td>0.945455</td>\n",
       "      <td>1.000000</td>\n",
       "      <td>0.215287</td>\n",
       "      <td>-0.215287</td>\n",
       "      <td>0.471915</td>\n",
       "      <td>0.298595</td>\n",
       "      <td>0.467196</td>\n",
       "      <td>0.264532</td>\n",
       "      <td>0.356018</td>\n",
       "      <td>-0.792561</td>\n",
       "      <td>-0.792454</td>\n",
       "      <td>-0.083250</td>\n",
       "      <td>0.186040</td>\n",
       "    </tr>\n",
       "    <tr>\n",
       "      <th>f1</th>\n",
       "      <td>0.129512</td>\n",
       "      <td>0.025228</td>\n",
       "      <td>-0.056117</td>\n",
       "      <td>0.380224</td>\n",
       "      <td>0.215287</td>\n",
       "      <td>1.000000</td>\n",
       "      <td>-1.000000</td>\n",
       "      <td>-0.188985</td>\n",
       "      <td>0.154069</td>\n",
       "      <td>0.019690</td>\n",
       "      <td>0.136165</td>\n",
       "      <td>0.143732</td>\n",
       "      <td>-0.251453</td>\n",
       "      <td>-0.267580</td>\n",
       "      <td>-0.109048</td>\n",
       "      <td>0.247901</td>\n",
       "    </tr>\n",
       "    <tr>\n",
       "      <th>f2</th>\n",
       "      <td>-0.129512</td>\n",
       "      <td>-0.025228</td>\n",
       "      <td>0.056117</td>\n",
       "      <td>-0.380224</td>\n",
       "      <td>-0.215287</td>\n",
       "      <td>-1.000000</td>\n",
       "      <td>1.000000</td>\n",
       "      <td>0.188985</td>\n",
       "      <td>-0.154069</td>\n",
       "      <td>-0.019690</td>\n",
       "      <td>-0.136165</td>\n",
       "      <td>-0.143732</td>\n",
       "      <td>0.251453</td>\n",
       "      <td>0.267580</td>\n",
       "      <td>0.109048</td>\n",
       "      <td>-0.247901</td>\n",
       "    </tr>\n",
       "    <tr>\n",
       "      <th>red_std</th>\n",
       "      <td>-0.007563</td>\n",
       "      <td>0.080179</td>\n",
       "      <td>0.642645</td>\n",
       "      <td>0.402567</td>\n",
       "      <td>0.471915</td>\n",
       "      <td>-0.188985</td>\n",
       "      <td>0.188985</td>\n",
       "      <td>1.000000</td>\n",
       "      <td>0.675612</td>\n",
       "      <td>0.770984</td>\n",
       "      <td>0.630344</td>\n",
       "      <td>0.632490</td>\n",
       "      <td>-0.327328</td>\n",
       "      <td>-0.134953</td>\n",
       "      <td>-0.317867</td>\n",
       "      <td>-0.266786</td>\n",
       "    </tr>\n",
       "    <tr>\n",
       "      <th>green_std</th>\n",
       "      <td>-0.236725</td>\n",
       "      <td>-0.090022</td>\n",
       "      <td>0.169922</td>\n",
       "      <td>0.278605</td>\n",
       "      <td>0.298595</td>\n",
       "      <td>0.154069</td>\n",
       "      <td>-0.154069</td>\n",
       "      <td>0.675612</td>\n",
       "      <td>1.000000</td>\n",
       "      <td>0.895520</td>\n",
       "      <td>0.533674</td>\n",
       "      <td>0.431800</td>\n",
       "      <td>0.037937</td>\n",
       "      <td>0.200789</td>\n",
       "      <td>-0.105718</td>\n",
       "      <td>0.139710</td>\n",
       "    </tr>\n",
       "    <tr>\n",
       "      <th>blue_std</th>\n",
       "      <td>-0.178824</td>\n",
       "      <td>-0.046588</td>\n",
       "      <td>0.323627</td>\n",
       "      <td>0.338173</td>\n",
       "      <td>0.467196</td>\n",
       "      <td>0.019690</td>\n",
       "      <td>-0.019690</td>\n",
       "      <td>0.770984</td>\n",
       "      <td>0.895520</td>\n",
       "      <td>1.000000</td>\n",
       "      <td>0.631174</td>\n",
       "      <td>0.549096</td>\n",
       "      <td>-0.104912</td>\n",
       "      <td>0.067612</td>\n",
       "      <td>-0.224474</td>\n",
       "      <td>0.120792</td>\n",
       "    </tr>\n",
       "    <tr>\n",
       "      <th>f4</th>\n",
       "      <td>-0.120432</td>\n",
       "      <td>-0.047204</td>\n",
       "      <td>0.270878</td>\n",
       "      <td>0.216913</td>\n",
       "      <td>0.264532</td>\n",
       "      <td>0.136165</td>\n",
       "      <td>-0.136165</td>\n",
       "      <td>0.630344</td>\n",
       "      <td>0.533674</td>\n",
       "      <td>0.631174</td>\n",
       "      <td>1.000000</td>\n",
       "      <td>0.956246</td>\n",
       "      <td>-0.288343</td>\n",
       "      <td>-0.017407</td>\n",
       "      <td>-0.852082</td>\n",
       "      <td>-0.142165</td>\n",
       "    </tr>\n",
       "    <tr>\n",
       "      <th>f5</th>\n",
       "      <td>-0.011948</td>\n",
       "      <td>0.027816</td>\n",
       "      <td>0.402715</td>\n",
       "      <td>0.325715</td>\n",
       "      <td>0.356018</td>\n",
       "      <td>0.143732</td>\n",
       "      <td>-0.143732</td>\n",
       "      <td>0.632490</td>\n",
       "      <td>0.431800</td>\n",
       "      <td>0.549096</td>\n",
       "      <td>0.956246</td>\n",
       "      <td>1.000000</td>\n",
       "      <td>-0.489755</td>\n",
       "      <td>-0.194631</td>\n",
       "      <td>-0.873981</td>\n",
       "      <td>-0.226832</td>\n",
       "    </tr>\n",
       "    <tr>\n",
       "      <th>f6</th>\n",
       "      <td>-0.490582</td>\n",
       "      <td>-0.352804</td>\n",
       "      <td>-0.806547</td>\n",
       "      <td>-0.832405</td>\n",
       "      <td>-0.792561</td>\n",
       "      <td>-0.251453</td>\n",
       "      <td>0.251453</td>\n",
       "      <td>-0.327328</td>\n",
       "      <td>0.037937</td>\n",
       "      <td>-0.104912</td>\n",
       "      <td>-0.288343</td>\n",
       "      <td>-0.489755</td>\n",
       "      <td>1.000000</td>\n",
       "      <td>0.927904</td>\n",
       "      <td>0.321080</td>\n",
       "      <td>0.086641</td>\n",
       "    </tr>\n",
       "    <tr>\n",
       "      <th>f7</th>\n",
       "      <td>-0.575094</td>\n",
       "      <td>-0.392576</td>\n",
       "      <td>-0.771036</td>\n",
       "      <td>-0.842212</td>\n",
       "      <td>-0.792454</td>\n",
       "      <td>-0.267580</td>\n",
       "      <td>0.267580</td>\n",
       "      <td>-0.134953</td>\n",
       "      <td>0.200789</td>\n",
       "      <td>0.067612</td>\n",
       "      <td>-0.017407</td>\n",
       "      <td>-0.194631</td>\n",
       "      <td>0.927904</td>\n",
       "      <td>1.000000</td>\n",
       "      <td>0.064746</td>\n",
       "      <td>-0.021168</td>\n",
       "    </tr>\n",
       "    <tr>\n",
       "      <th>f8</th>\n",
       "      <td>0.063103</td>\n",
       "      <td>0.042284</td>\n",
       "      <td>-0.150688</td>\n",
       "      <td>-0.061705</td>\n",
       "      <td>-0.083250</td>\n",
       "      <td>-0.109048</td>\n",
       "      <td>0.109048</td>\n",
       "      <td>-0.317867</td>\n",
       "      <td>-0.105718</td>\n",
       "      <td>-0.224474</td>\n",
       "      <td>-0.852082</td>\n",
       "      <td>-0.873981</td>\n",
       "      <td>0.321080</td>\n",
       "      <td>0.064746</td>\n",
       "      <td>1.000000</td>\n",
       "      <td>0.225966</td>\n",
       "    </tr>\n",
       "    <tr>\n",
       "      <th>label</th>\n",
       "      <td>-0.073090</td>\n",
       "      <td>-0.047581</td>\n",
       "      <td>-0.151703</td>\n",
       "      <td>0.163091</td>\n",
       "      <td>0.186040</td>\n",
       "      <td>0.247901</td>\n",
       "      <td>-0.247901</td>\n",
       "      <td>-0.266786</td>\n",
       "      <td>0.139710</td>\n",
       "      <td>0.120792</td>\n",
       "      <td>-0.142165</td>\n",
       "      <td>-0.226832</td>\n",
       "      <td>0.086641</td>\n",
       "      <td>-0.021168</td>\n",
       "      <td>0.225966</td>\n",
       "      <td>1.000000</td>\n",
       "    </tr>\n",
       "  </tbody>\n",
       "</table>\n",
       "</div>"
      ],
      "text/plain": [
       "                area  perimeter  red_mean  green_mean  blue_mean        f1  \\\n",
       "area        1.000000   0.892649  0.427544    0.446808   0.400992  0.129512   \n",
       "perimeter   0.892649   1.000000  0.338570    0.321127   0.309515  0.025228   \n",
       "red_mean    0.427544   0.338570  1.000000    0.828915   0.853069 -0.056117   \n",
       "green_mean  0.446808   0.321127  0.828915    1.000000   0.945455  0.380224   \n",
       "blue_mean   0.400992   0.309515  0.853069    0.945455   1.000000  0.215287   \n",
       "f1          0.129512   0.025228 -0.056117    0.380224   0.215287  1.000000   \n",
       "f2         -0.129512  -0.025228  0.056117   -0.380224  -0.215287 -1.000000   \n",
       "red_std    -0.007563   0.080179  0.642645    0.402567   0.471915 -0.188985   \n",
       "green_std  -0.236725  -0.090022  0.169922    0.278605   0.298595  0.154069   \n",
       "blue_std   -0.178824  -0.046588  0.323627    0.338173   0.467196  0.019690   \n",
       "f4         -0.120432  -0.047204  0.270878    0.216913   0.264532  0.136165   \n",
       "f5         -0.011948   0.027816  0.402715    0.325715   0.356018  0.143732   \n",
       "f6         -0.490582  -0.352804 -0.806547   -0.832405  -0.792561 -0.251453   \n",
       "f7         -0.575094  -0.392576 -0.771036   -0.842212  -0.792454 -0.267580   \n",
       "f8          0.063103   0.042284 -0.150688   -0.061705  -0.083250 -0.109048   \n",
       "label      -0.073090  -0.047581 -0.151703    0.163091   0.186040  0.247901   \n",
       "\n",
       "                  f2   red_std  green_std  blue_std        f4        f5  \\\n",
       "area       -0.129512 -0.007563  -0.236725 -0.178824 -0.120432 -0.011948   \n",
       "perimeter  -0.025228  0.080179  -0.090022 -0.046588 -0.047204  0.027816   \n",
       "red_mean    0.056117  0.642645   0.169922  0.323627  0.270878  0.402715   \n",
       "green_mean -0.380224  0.402567   0.278605  0.338173  0.216913  0.325715   \n",
       "blue_mean  -0.215287  0.471915   0.298595  0.467196  0.264532  0.356018   \n",
       "f1         -1.000000 -0.188985   0.154069  0.019690  0.136165  0.143732   \n",
       "f2          1.000000  0.188985  -0.154069 -0.019690 -0.136165 -0.143732   \n",
       "red_std     0.188985  1.000000   0.675612  0.770984  0.630344  0.632490   \n",
       "green_std  -0.154069  0.675612   1.000000  0.895520  0.533674  0.431800   \n",
       "blue_std   -0.019690  0.770984   0.895520  1.000000  0.631174  0.549096   \n",
       "f4         -0.136165  0.630344   0.533674  0.631174  1.000000  0.956246   \n",
       "f5         -0.143732  0.632490   0.431800  0.549096  0.956246  1.000000   \n",
       "f6          0.251453 -0.327328   0.037937 -0.104912 -0.288343 -0.489755   \n",
       "f7          0.267580 -0.134953   0.200789  0.067612 -0.017407 -0.194631   \n",
       "f8          0.109048 -0.317867  -0.105718 -0.224474 -0.852082 -0.873981   \n",
       "label      -0.247901 -0.266786   0.139710  0.120792 -0.142165 -0.226832   \n",
       "\n",
       "                  f6        f7        f8     label  \n",
       "area       -0.490582 -0.575094  0.063103 -0.073090  \n",
       "perimeter  -0.352804 -0.392576  0.042284 -0.047581  \n",
       "red_mean   -0.806547 -0.771036 -0.150688 -0.151703  \n",
       "green_mean -0.832405 -0.842212 -0.061705  0.163091  \n",
       "blue_mean  -0.792561 -0.792454 -0.083250  0.186040  \n",
       "f1         -0.251453 -0.267580 -0.109048  0.247901  \n",
       "f2          0.251453  0.267580  0.109048 -0.247901  \n",
       "red_std    -0.327328 -0.134953 -0.317867 -0.266786  \n",
       "green_std   0.037937  0.200789 -0.105718  0.139710  \n",
       "blue_std   -0.104912  0.067612 -0.224474  0.120792  \n",
       "f4         -0.288343 -0.017407 -0.852082 -0.142165  \n",
       "f5         -0.489755 -0.194631 -0.873981 -0.226832  \n",
       "f6          1.000000  0.927904  0.321080  0.086641  \n",
       "f7          0.927904  1.000000  0.064746 -0.021168  \n",
       "f8          0.321080  0.064746  1.000000  0.225966  \n",
       "label       0.086641 -0.021168  0.225966  1.000000  "
      ]
     },
     "execution_count": 8,
     "metadata": {},
     "output_type": "execute_result"
    }
   ],
   "source": [
    "cleaned_data.corr(method ='pearson')"
   ]
  },
  {
   "cell_type": "code",
   "execution_count": 9,
   "metadata": {
    "id": "nHFTe4TItiFJ"
   },
   "outputs": [],
   "source": [
    "cleaned_data = cleaned_data.dropna()"
   ]
  },
  {
   "cell_type": "code",
   "execution_count": 10,
   "metadata": {
    "colab": {
     "base_uri": "https://localhost:8080/"
    },
    "id": "1ns2yXu9uXnE",
    "outputId": "81b3083c-7b65-4923-ebe8-674259d14aa4"
   },
   "outputs": [
    {
     "data": {
      "text/plain": [
       "(3908, 16)"
      ]
     },
     "execution_count": 10,
     "metadata": {},
     "output_type": "execute_result"
    }
   ],
   "source": [
    "raw_data.shape"
   ]
  },
  {
   "cell_type": "code",
   "execution_count": 11,
   "metadata": {
    "colab": {
     "base_uri": "https://localhost:8080/"
    },
    "id": "X2iVldJpuZb5",
    "outputId": "44927c0c-ca20-4995-f579-8f113ea7d2f3"
   },
   "outputs": [
    {
     "data": {
      "text/plain": [
       "(3908, 16)"
      ]
     },
     "execution_count": 11,
     "metadata": {},
     "output_type": "execute_result"
    }
   ],
   "source": [
    "cleaned_data.shape"
   ]
  },
  {
   "cell_type": "code",
   "execution_count": 12,
   "metadata": {
    "id": "q1UEsRsTubX5"
   },
   "outputs": [],
   "source": [
    "from sklearn.model_selection import train_test_split\n",
    "from sklearn.metrics import accuracy_score\n",
    "from sklearn.preprocessing import StandardScaler\n",
    "from sklearn.decomposition import PCA\n",
    "from sklearn.svm import SVC\n",
    "from sklearn.metrics import roc_curve, auc\n",
    "from sklearn.model_selection import KFold \n"
   ]
  },
  {
   "cell_type": "code",
   "execution_count": 13,
   "metadata": {
    "id": "ZJg6iy3Mu72T"
   },
   "outputs": [],
   "source": [
    "df = cleaned_data.reset_index()"
   ]
  },
  {
   "cell_type": "code",
   "execution_count": 14,
   "metadata": {
    "colab": {
     "base_uri": "https://localhost:8080/"
    },
    "id": "3DvMWo8rvPW6",
    "outputId": "72d93ebe-2fbe-47b6-903a-ae58e46569e7"
   },
   "outputs": [
    {
     "name": "stdout",
     "output_type": "stream",
     "text": [
      "(3908, 15)\n",
      "(3908,)\n"
     ]
    }
   ],
   "source": [
    "X = df.drop(['index','label'],axis = 1, inplace=False)\n",
    "y = df['label']\n",
    "print(X.shape)\n",
    "print(y.shape)"
   ]
  },
  {
   "cell_type": "code",
   "execution_count": 15,
   "metadata": {
    "colab": {
     "base_uri": "https://localhost:8080/"
    },
    "id": "j723Yu4Xvx_r",
    "outputId": "7d68696b-7a50-4d90-a12e-c3e326ba15d6"
   },
   "outputs": [
    {
     "name": "stdout",
     "output_type": "stream",
     "text": [
      "Score of each fold - [0.8516624040920716, 0.8682864450127877, 0.8593350383631714, 0.8847631241997439, 0.8886043533930857]\n",
      "Avg Score : 0.8705302730121721\n"
     ]
    }
   ],
   "source": [
    "k = 5\n",
    "kf = KFold(n_splits=k, random_state=9, shuffle = True)\n",
    "from sklearn.ensemble import RandomForestClassifier\n",
    "model = RandomForestClassifier(random_state = 50,n_estimators = 50,max_samples = 0.7)\n",
    " \n",
    "acc_score = []\n",
    "\n",
    "for train_index , test_index in kf.split(X):\n",
    "    X_train , X_test = X.iloc[train_index,:],X.iloc[test_index,:]\n",
    "    y_train , y_test = y[train_index] , y[test_index]\n",
    "    model = RandomForestClassifier(random_state = 50,n_estimators = 50,max_samples = 0.7)\n",
    "    model.fit(X_train,y_train)\n",
    "    pred_values = model.predict(X_test)            # classification\n",
    "    acc = accuracy_score(pred_values , y_test)     # Classification\n",
    "\n",
    "    #acc = model.score(X_test,y_test)                # Regression\n",
    "    \n",
    "    acc_score.append(acc)\n",
    "     \n",
    "avg_acc_score = sum(acc_score)/k\n",
    " \n",
    "print('Score of each fold - {}'.format(acc_score))\n",
    "print('Avg Score : {}'.format(avg_acc_score))"
   ]
  },
  {
   "cell_type": "markdown",
   "metadata": {
    "id": "jShjKvkbwtys"
   },
   "source": [
    "# **K- fold Cross validation accuracy:**\n",
    "# **0.870497738821671**"
   ]
  },
  {
   "cell_type": "markdown",
   "metadata": {
    "id": "MalrrV30xqn8"
   },
   "source": [
    "# ROC Curve"
   ]
  },
  {
   "cell_type": "code",
   "execution_count": 16,
   "metadata": {
    "colab": {
     "base_uri": "https://localhost:8080/",
     "height": 349
    },
    "id": "U_6DxxVXwmJP",
    "outputId": "a133289a-c71b-4af2-8e04-d36b24d2fc40"
   },
   "outputs": [
    {
     "data": {
      "image/png": "[encoded data removed]",
      "text/plain": [
       "<Figure size 432x288 with 1 Axes>"
      ]
     },
     "metadata": {
      "needs_background": "light"
     },
     "output_type": "display_data"
    }
   ],
   "source": [
    "import scikitplot as skplt\n",
    "import matplotlib.pyplot as plt\n",
    "\n",
    "y_true = y_test\n",
    "y_probas = model.predict_proba(X_test)\n",
    "skplt.metrics.plot_roc(y_true, y_probas)\n",
    "\n",
    "plt.show()"
   ]
  },
  {
   "cell_type": "code",
   "execution_count": 17,
   "metadata": {
    "colab": {
     "base_uri": "https://localhost:8080/",
     "height": 296
    },
    "id": "qw0YcxFQx3Mc",
    "outputId": "c83fbdcf-a67a-404f-e8dc-9c8473490392"
   },
   "outputs": [
    {
     "data": {
      "text/plain": [
       "<sklearn.metrics._plot.confusion_matrix.ConfusionMatrixDisplay at 0x7f014eaa0da0>"
      ]
     },
     "execution_count": 17,
     "metadata": {},
     "output_type": "execute_result"
    },
    {
     "data": {
      "image/png": "[encoded data removed]",
      "text/plain": [
       "<Figure size 432x288 with 2 Axes>"
      ]
     },
     "metadata": {
      "needs_background": "light"
     },
     "output_type": "display_data"
    }
   ],
   "source": [
    "from sklearn.metrics import plot_confusion_matrix\n",
    "y_pred = model.predict(X_test)\n",
    "plot_confusion_matrix(model, X_test, y_test, values_format = 'd',cmap = 'Blues',display_labels = ['0','1','2','3'])"
   ]
  },
  {
   "cell_type": "code",
   "execution_count": 18,
   "metadata": {
    "colab": {
     "base_uri": "https://localhost:8080/"
    },
    "id": "Gref__vNyWqm",
    "outputId": "ba198a46-5398-482a-a509-72776333aa9d"
   },
   "outputs": [
    {
     "name": "stdout",
     "output_type": "stream",
     "text": [
      "              precision    recall  f1-score   support\n",
      "\n",
      "           0       0.88      0.92      0.90       278\n",
      "           1       0.89      0.76      0.82       180\n",
      "           2       0.83      0.87      0.85       141\n",
      "           3       0.94      0.99      0.97       182\n",
      "\n",
      "    accuracy                           0.89       781\n",
      "   macro avg       0.89      0.88      0.88       781\n",
      "weighted avg       0.89      0.89      0.89       781\n",
      "\n"
     ]
    }
   ],
   "source": [
    "from sklearn.metrics import classification_report\n",
    "\n",
    "print(classification_report(y_test, y_pred, [0,1,2,3]))"
   ]
  },
  {
   "cell_type": "markdown",
   "metadata": {
    "id": "DTaYkJYuzBly"
   },
   "source": [
    "# **F1 Score:**\n",
    "# **0.89**"
   ]
  },
  {
   "cell_type": "markdown",
   "metadata": {
    "id": "XEl3_kcUzXyY"
   },
   "source": [
    "# Deployment"
   ]
  },
  {
   "cell_type": "code",
   "execution_count": 19,
   "metadata": {
    "colab": {
     "base_uri": "https://localhost:8080/"
    },
    "id": "HY3YfG2py-Jf",
    "outputId": "1ae76c7e-aea2-4ecf-9da4-2c14477c7009"
   },
   "outputs": [
    {
     "name": "stdout",
     "output_type": "stream",
     "text": [
      "Training Score:  0.9971852610030706\n"
     ]
    }
   ],
   "source": [
    "from sklearn.ensemble import RandomForestClassifier\n",
    "lm = RandomForestClassifier(random_state = 50,n_estimators = 50,max_samples = 0.7)\n",
    "lm.fit(X,y)\n",
    "print('Training Score: ',lm.score(X,y))"
   ]
  },
  {
   "cell_type": "code",
   "execution_count": 20,
   "metadata": {
    "colab": {
     "base_uri": "https://localhost:8080/"
    },
    "id": "LlyCB8PCy1qh",
    "outputId": "2cc193e3-7c9e-451e-ab77-0df761e46954"
   },
   "outputs": [
    {
     "data": {
      "text/plain": [
       "array([0.04537794, 0.03236593, 0.04715243, 0.04456188, 0.05470417,\n",
       "       0.10918293, 0.12698429, 0.07309373, 0.05668353, 0.07581702,\n",
       "       0.07436938, 0.09198668, 0.03272127, 0.04272022, 0.09227858])"
      ]
     },
     "execution_count": 20,
     "metadata": {},
     "output_type": "execute_result"
    }
   ],
   "source": [
    "lm.feature_importances_"
   ]
  },
  {
   "cell_type": "markdown",
   "metadata": {
    "id": "WyNxpJvA0ycq"
   },
   "source": [
    "# Selected Features"
   ]
  },
  {
   "cell_type": "code",
   "execution_count": 21,
   "metadata": {
    "colab": {
     "base_uri": "https://localhost:8080/"
    },
    "id": "bb17TIJPz5jJ",
    "outputId": "a4d12a70-dffc-46c9-9374-c36c142227d2"
   },
   "outputs": [
    {
     "data": {
      "text/plain": [
       "Index(['area', 'perimeter', 'red_mean', 'green_mean', 'blue_mean', 'f1', 'f2',\n",
       "       'red_std', 'green_std', 'blue_std', 'f4', 'f5', 'f6', 'f7', 'f8'],\n",
       "      dtype='object')"
      ]
     },
     "execution_count": 21,
     "metadata": {},
     "output_type": "execute_result"
    }
   ],
   "source": [
    "X.columns"
   ]
  },
  {
   "cell_type": "code",
   "execution_count": null,
   "metadata": {},
   "outputs": [],
   "source": []
  },
  {
   "cell_type": "code",
   "execution_count": null,
   "metadata": {},
   "outputs": [],
   "source": []
  }
 ],
 "metadata": {
  "colab": {
   "name": "Apple_DA_and_MD.ipynb",
   "provenance": []
  },
  "interpreter": {
   "hash": "bb5a7a19e023c4cfaac4677f5748687784b46986f847b8a1b6d6751c054faa4b"
  },
  "kernelspec": {
   "display_name": "plant_env",
   "language": "python",
   "name": "plant_env"
  },
  "language_info": {
   "codemirror_mode": {
    "name": "ipython",
    "version": 3
   },
   "file_extension": ".py",
   "mimetype": "text/x-python",
   "name": "python",
   "nbconvert_exporter": "python",
   "pygments_lexer": "ipython3",
   "version": "3.6.9"
  }
 },
 "nbformat": 4,
 "nbformat_minor": 1
}
