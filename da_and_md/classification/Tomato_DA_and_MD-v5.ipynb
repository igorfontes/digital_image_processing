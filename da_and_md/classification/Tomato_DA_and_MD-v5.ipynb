{
 "cells": [
  {
   "cell_type": "code",
   "execution_count": 1,
   "metadata": {
    "id": "8Cg54vyTot1W"
   },
   "outputs": [],
   "source": [
    "import pandas as pd\n",
    "import matplotlib.pyplot as plt\n",
    "import numpy as np\n",
    "import seaborn as sns\n",
    "import warnings\n",
    "warnings.filterwarnings('ignore')"
   ]
  },
  {
   "cell_type": "code",
   "execution_count": 2,
   "metadata": {
    "id": "4-v_yHgEowG5"
   },
   "outputs": [],
   "source": [
    "#!pip install openpyxl\n",
    "raw_data = pd.read_excel('../../tomato_dataset_v5.xlsx', engine='openpyxl')"
   ]
  },
  {
   "cell_type": "code",
   "execution_count": 3,
   "metadata": {
    "colab": {
     "base_uri": "https://localhost:8080/"
    },
    "id": "d-UxkVS-sCVa",
    "outputId": "6a77717b-e608-4356-e740-910a8cec0159"
   },
   "outputs": [
    {
     "data": {
      "text/plain": [
       "Unnamed: 0      int64\n",
       "area          float64\n",
       "perimeter     float64\n",
       "red_mean      float64\n",
       "green_mean    float64\n",
       "blue_mean     float64\n",
       "f1            float64\n",
       "f2            float64\n",
       "red_std       float64\n",
       "green_std     float64\n",
       "blue_std      float64\n",
       "f4            float64\n",
       "f5            float64\n",
       "f6            float64\n",
       "f7            float64\n",
       "f8            float64\n",
       "label           int64\n",
       "dtype: object"
      ]
     },
     "execution_count": 3,
     "metadata": {},
     "output_type": "execute_result"
    }
   ],
   "source": [
    "raw_data.dtypes"
   ]
  },
  {
   "cell_type": "code",
   "execution_count": 4,
   "metadata": {
    "id": "6rODIXAEsIiK"
   },
   "outputs": [],
   "source": [
    "raw_data.drop(['Unnamed: 0'],axis = 1, inplace=True)"
   ]
  },
  {
   "cell_type": "code",
   "execution_count": 5,
   "metadata": {
    "colab": {
     "base_uri": "https://localhost:8080/"
    },
    "id": "f3T6y1gVsT2p",
    "outputId": "ab01a558-d67c-4f56-92d5-52ca32f22a78"
   },
   "outputs": [
    {
     "data": {
      "text/plain": [
       "Index(['area', 'perimeter', 'red_mean', 'green_mean', 'blue_mean', 'f1', 'f2',\n",
       "       'red_std', 'green_std', 'blue_std', 'f4', 'f5', 'f6', 'f7', 'f8',\n",
       "       'label'],\n",
       "      dtype='object')"
      ]
     },
     "execution_count": 5,
     "metadata": {},
     "output_type": "execute_result"
    }
   ],
   "source": [
    "raw_data.columns"
   ]
  },
  {
   "cell_type": "code",
   "execution_count": 6,
   "metadata": {
    "colab": {
     "base_uri": "https://localhost:8080/",
     "height": 1000
    },
    "id": "48HQEVsXsWFp",
    "outputId": "69917675-7ac8-48a3-9a77-5f93eeecf880"
   },
   "outputs": [
    {
     "data": {
      "text/html": [
       "<div>\n",
       "<style scoped>\n",
       "    .dataframe tbody tr th:only-of-type {\n",
       "        vertical-align: middle;\n",
       "    }\n",
       "\n",
       "    .dataframe tbody tr th {\n",
       "        vertical-align: top;\n",
       "    }\n",
       "\n",
       "    .dataframe thead th {\n",
       "        text-align: right;\n",
       "    }\n",
       "</style>\n",
       "<table border=\"1\" class=\"dataframe\">\n",
       "  <thead>\n",
       "    <tr style=\"text-align: right;\">\n",
       "      <th></th>\n",
       "      <th>area</th>\n",
       "      <th>perimeter</th>\n",
       "      <th>red_mean</th>\n",
       "      <th>green_mean</th>\n",
       "      <th>blue_mean</th>\n",
       "      <th>f1</th>\n",
       "      <th>f2</th>\n",
       "      <th>red_std</th>\n",
       "      <th>green_std</th>\n",
       "      <th>blue_std</th>\n",
       "      <th>f4</th>\n",
       "      <th>f5</th>\n",
       "      <th>f6</th>\n",
       "      <th>f7</th>\n",
       "      <th>f8</th>\n",
       "      <th>label</th>\n",
       "    </tr>\n",
       "  </thead>\n",
       "  <tbody>\n",
       "    <tr>\n",
       "      <th>area</th>\n",
       "      <td>1.000000</td>\n",
       "      <td>0.916663</td>\n",
       "      <td>0.466018</td>\n",
       "      <td>0.488844</td>\n",
       "      <td>0.484542</td>\n",
       "      <td>0.189626</td>\n",
       "      <td>-0.189626</td>\n",
       "      <td>0.058330</td>\n",
       "      <td>-0.224826</td>\n",
       "      <td>-0.144073</td>\n",
       "      <td>0.136623</td>\n",
       "      <td>0.197506</td>\n",
       "      <td>-0.480709</td>\n",
       "      <td>-0.546232</td>\n",
       "      <td>-0.218536</td>\n",
       "      <td>-0.042791</td>\n",
       "    </tr>\n",
       "    <tr>\n",
       "      <th>perimeter</th>\n",
       "      <td>0.916663</td>\n",
       "      <td>1.000000</td>\n",
       "      <td>0.297480</td>\n",
       "      <td>0.305710</td>\n",
       "      <td>0.301838</td>\n",
       "      <td>0.116663</td>\n",
       "      <td>-0.116663</td>\n",
       "      <td>0.098314</td>\n",
       "      <td>-0.072789</td>\n",
       "      <td>-0.022739</td>\n",
       "      <td>0.087088</td>\n",
       "      <td>0.127540</td>\n",
       "      <td>-0.306018</td>\n",
       "      <td>-0.342276</td>\n",
       "      <td>-0.105464</td>\n",
       "      <td>-0.043199</td>\n",
       "    </tr>\n",
       "    <tr>\n",
       "      <th>red_mean</th>\n",
       "      <td>0.466018</td>\n",
       "      <td>0.297480</td>\n",
       "      <td>1.000000</td>\n",
       "      <td>0.876523</td>\n",
       "      <td>0.921270</td>\n",
       "      <td>0.149911</td>\n",
       "      <td>-0.149911</td>\n",
       "      <td>0.598214</td>\n",
       "      <td>0.006949</td>\n",
       "      <td>0.206828</td>\n",
       "      <td>0.550532</td>\n",
       "      <td>0.631872</td>\n",
       "      <td>-0.866796</td>\n",
       "      <td>-0.848805</td>\n",
       "      <td>-0.541468</td>\n",
       "      <td>-0.096072</td>\n",
       "    </tr>\n",
       "    <tr>\n",
       "      <th>green_mean</th>\n",
       "      <td>0.488844</td>\n",
       "      <td>0.305710</td>\n",
       "      <td>0.876523</td>\n",
       "      <td>1.000000</td>\n",
       "      <td>0.969769</td>\n",
       "      <td>0.439404</td>\n",
       "      <td>-0.439404</td>\n",
       "      <td>0.446473</td>\n",
       "      <td>0.090966</td>\n",
       "      <td>0.165075</td>\n",
       "      <td>0.368014</td>\n",
       "      <td>0.427365</td>\n",
       "      <td>-0.805845</td>\n",
       "      <td>-0.883802</td>\n",
       "      <td>-0.347251</td>\n",
       "      <td>0.088551</td>\n",
       "    </tr>\n",
       "    <tr>\n",
       "      <th>blue_mean</th>\n",
       "      <td>0.484542</td>\n",
       "      <td>0.301838</td>\n",
       "      <td>0.921270</td>\n",
       "      <td>0.969769</td>\n",
       "      <td>1.000000</td>\n",
       "      <td>0.271542</td>\n",
       "      <td>-0.271542</td>\n",
       "      <td>0.511609</td>\n",
       "      <td>0.084335</td>\n",
       "      <td>0.247108</td>\n",
       "      <td>0.463968</td>\n",
       "      <td>0.526960</td>\n",
       "      <td>-0.830731</td>\n",
       "      <td>-0.873498</td>\n",
       "      <td>-0.435418</td>\n",
       "      <td>0.053310</td>\n",
       "    </tr>\n",
       "    <tr>\n",
       "      <th>f1</th>\n",
       "      <td>0.189626</td>\n",
       "      <td>0.116663</td>\n",
       "      <td>0.149911</td>\n",
       "      <td>0.439404</td>\n",
       "      <td>0.271542</td>\n",
       "      <td>1.000000</td>\n",
       "      <td>-1.000000</td>\n",
       "      <td>-0.014434</td>\n",
       "      <td>0.073662</td>\n",
       "      <td>-0.093254</td>\n",
       "      <td>0.053333</td>\n",
       "      <td>0.070756</td>\n",
       "      <td>-0.309759</td>\n",
       "      <td>-0.383500</td>\n",
       "      <td>-0.028278</td>\n",
       "      <td>0.232953</td>\n",
       "    </tr>\n",
       "    <tr>\n",
       "      <th>f2</th>\n",
       "      <td>-0.189626</td>\n",
       "      <td>-0.116663</td>\n",
       "      <td>-0.149911</td>\n",
       "      <td>-0.439404</td>\n",
       "      <td>-0.271542</td>\n",
       "      <td>-1.000000</td>\n",
       "      <td>1.000000</td>\n",
       "      <td>0.014434</td>\n",
       "      <td>-0.073662</td>\n",
       "      <td>0.093254</td>\n",
       "      <td>-0.053333</td>\n",
       "      <td>-0.070756</td>\n",
       "      <td>0.309759</td>\n",
       "      <td>0.383500</td>\n",
       "      <td>0.028278</td>\n",
       "      <td>-0.232953</td>\n",
       "    </tr>\n",
       "    <tr>\n",
       "      <th>red_std</th>\n",
       "      <td>0.058330</td>\n",
       "      <td>0.098314</td>\n",
       "      <td>0.598214</td>\n",
       "      <td>0.446473</td>\n",
       "      <td>0.511609</td>\n",
       "      <td>-0.014434</td>\n",
       "      <td>0.014434</td>\n",
       "      <td>1.000000</td>\n",
       "      <td>0.640797</td>\n",
       "      <td>0.804579</td>\n",
       "      <td>0.589698</td>\n",
       "      <td>0.598791</td>\n",
       "      <td>-0.446352</td>\n",
       "      <td>-0.315799</td>\n",
       "      <td>-0.246730</td>\n",
       "      <td>-0.003733</td>\n",
       "    </tr>\n",
       "    <tr>\n",
       "      <th>green_std</th>\n",
       "      <td>-0.224826</td>\n",
       "      <td>-0.072789</td>\n",
       "      <td>0.006949</td>\n",
       "      <td>0.090966</td>\n",
       "      <td>0.084335</td>\n",
       "      <td>0.073662</td>\n",
       "      <td>-0.073662</td>\n",
       "      <td>0.640797</td>\n",
       "      <td>1.000000</td>\n",
       "      <td>0.887168</td>\n",
       "      <td>0.287414</td>\n",
       "      <td>0.200216</td>\n",
       "      <td>0.098212</td>\n",
       "      <td>0.180870</td>\n",
       "      <td>0.134718</td>\n",
       "      <td>0.107438</td>\n",
       "    </tr>\n",
       "    <tr>\n",
       "      <th>blue_std</th>\n",
       "      <td>-0.144073</td>\n",
       "      <td>-0.022739</td>\n",
       "      <td>0.206828</td>\n",
       "      <td>0.165075</td>\n",
       "      <td>0.247108</td>\n",
       "      <td>-0.093254</td>\n",
       "      <td>0.093254</td>\n",
       "      <td>0.804579</td>\n",
       "      <td>0.887168</td>\n",
       "      <td>1.000000</td>\n",
       "      <td>0.466851</td>\n",
       "      <td>0.428455</td>\n",
       "      <td>-0.125250</td>\n",
       "      <td>0.016022</td>\n",
       "      <td>-0.055479</td>\n",
       "      <td>0.083633</td>\n",
       "    </tr>\n",
       "    <tr>\n",
       "      <th>f4</th>\n",
       "      <td>0.136623</td>\n",
       "      <td>0.087088</td>\n",
       "      <td>0.550532</td>\n",
       "      <td>0.368014</td>\n",
       "      <td>0.463968</td>\n",
       "      <td>0.053333</td>\n",
       "      <td>-0.053333</td>\n",
       "      <td>0.589698</td>\n",
       "      <td>0.287414</td>\n",
       "      <td>0.466851</td>\n",
       "      <td>1.000000</td>\n",
       "      <td>0.970356</td>\n",
       "      <td>-0.550463</td>\n",
       "      <td>-0.346305</td>\n",
       "      <td>-0.835704</td>\n",
       "      <td>-0.205175</td>\n",
       "    </tr>\n",
       "    <tr>\n",
       "      <th>f5</th>\n",
       "      <td>0.197506</td>\n",
       "      <td>0.127540</td>\n",
       "      <td>0.631872</td>\n",
       "      <td>0.427365</td>\n",
       "      <td>0.526960</td>\n",
       "      <td>0.070756</td>\n",
       "      <td>-0.070756</td>\n",
       "      <td>0.598791</td>\n",
       "      <td>0.200216</td>\n",
       "      <td>0.428455</td>\n",
       "      <td>0.970356</td>\n",
       "      <td>1.000000</td>\n",
       "      <td>-0.684460</td>\n",
       "      <td>-0.462461</td>\n",
       "      <td>-0.854808</td>\n",
       "      <td>-0.179713</td>\n",
       "    </tr>\n",
       "    <tr>\n",
       "      <th>f6</th>\n",
       "      <td>-0.480709</td>\n",
       "      <td>-0.306018</td>\n",
       "      <td>-0.866796</td>\n",
       "      <td>-0.805845</td>\n",
       "      <td>-0.830731</td>\n",
       "      <td>-0.309759</td>\n",
       "      <td>0.309759</td>\n",
       "      <td>-0.446352</td>\n",
       "      <td>0.098212</td>\n",
       "      <td>-0.125250</td>\n",
       "      <td>-0.550463</td>\n",
       "      <td>-0.684460</td>\n",
       "      <td>1.000000</td>\n",
       "      <td>0.939232</td>\n",
       "      <td>0.588320</td>\n",
       "      <td>0.055354</td>\n",
       "    </tr>\n",
       "    <tr>\n",
       "      <th>f7</th>\n",
       "      <td>-0.546232</td>\n",
       "      <td>-0.342276</td>\n",
       "      <td>-0.848805</td>\n",
       "      <td>-0.883802</td>\n",
       "      <td>-0.873498</td>\n",
       "      <td>-0.383500</td>\n",
       "      <td>0.383500</td>\n",
       "      <td>-0.315799</td>\n",
       "      <td>0.180870</td>\n",
       "      <td>0.016022</td>\n",
       "      <td>-0.346305</td>\n",
       "      <td>-0.462461</td>\n",
       "      <td>0.939232</td>\n",
       "      <td>1.000000</td>\n",
       "      <td>0.418662</td>\n",
       "      <td>-0.014082</td>\n",
       "    </tr>\n",
       "    <tr>\n",
       "      <th>f8</th>\n",
       "      <td>-0.218536</td>\n",
       "      <td>-0.105464</td>\n",
       "      <td>-0.541468</td>\n",
       "      <td>-0.347251</td>\n",
       "      <td>-0.435418</td>\n",
       "      <td>-0.028278</td>\n",
       "      <td>0.028278</td>\n",
       "      <td>-0.246730</td>\n",
       "      <td>0.134718</td>\n",
       "      <td>-0.055479</td>\n",
       "      <td>-0.835704</td>\n",
       "      <td>-0.854808</td>\n",
       "      <td>0.588320</td>\n",
       "      <td>0.418662</td>\n",
       "      <td>1.000000</td>\n",
       "      <td>0.212553</td>\n",
       "    </tr>\n",
       "    <tr>\n",
       "      <th>label</th>\n",
       "      <td>-0.042791</td>\n",
       "      <td>-0.043199</td>\n",
       "      <td>-0.096072</td>\n",
       "      <td>0.088551</td>\n",
       "      <td>0.053310</td>\n",
       "      <td>0.232953</td>\n",
       "      <td>-0.232953</td>\n",
       "      <td>-0.003733</td>\n",
       "      <td>0.107438</td>\n",
       "      <td>0.083633</td>\n",
       "      <td>-0.205175</td>\n",
       "      <td>-0.179713</td>\n",
       "      <td>0.055354</td>\n",
       "      <td>-0.014082</td>\n",
       "      <td>0.212553</td>\n",
       "      <td>1.000000</td>\n",
       "    </tr>\n",
       "  </tbody>\n",
       "</table>\n",
       "</div>"
      ],
      "text/plain": [
       "                area  perimeter  red_mean  green_mean  blue_mean        f1  \\\n",
       "area        1.000000   0.916663  0.466018    0.488844   0.484542  0.189626   \n",
       "perimeter   0.916663   1.000000  0.297480    0.305710   0.301838  0.116663   \n",
       "red_mean    0.466018   0.297480  1.000000    0.876523   0.921270  0.149911   \n",
       "green_mean  0.488844   0.305710  0.876523    1.000000   0.969769  0.439404   \n",
       "blue_mean   0.484542   0.301838  0.921270    0.969769   1.000000  0.271542   \n",
       "f1          0.189626   0.116663  0.149911    0.439404   0.271542  1.000000   \n",
       "f2         -0.189626  -0.116663 -0.149911   -0.439404  -0.271542 -1.000000   \n",
       "red_std     0.058330   0.098314  0.598214    0.446473   0.511609 -0.014434   \n",
       "green_std  -0.224826  -0.072789  0.006949    0.090966   0.084335  0.073662   \n",
       "blue_std   -0.144073  -0.022739  0.206828    0.165075   0.247108 -0.093254   \n",
       "f4          0.136623   0.087088  0.550532    0.368014   0.463968  0.053333   \n",
       "f5          0.197506   0.127540  0.631872    0.427365   0.526960  0.070756   \n",
       "f6         -0.480709  -0.306018 -0.866796   -0.805845  -0.830731 -0.309759   \n",
       "f7         -0.546232  -0.342276 -0.848805   -0.883802  -0.873498 -0.383500   \n",
       "f8         -0.218536  -0.105464 -0.541468   -0.347251  -0.435418 -0.028278   \n",
       "label      -0.042791  -0.043199 -0.096072    0.088551   0.053310  0.232953   \n",
       "\n",
       "                  f2   red_std  green_std  blue_std        f4        f5  \\\n",
       "area       -0.189626  0.058330  -0.224826 -0.144073  0.136623  0.197506   \n",
       "perimeter  -0.116663  0.098314  -0.072789 -0.022739  0.087088  0.127540   \n",
       "red_mean   -0.149911  0.598214   0.006949  0.206828  0.550532  0.631872   \n",
       "green_mean -0.439404  0.446473   0.090966  0.165075  0.368014  0.427365   \n",
       "blue_mean  -0.271542  0.511609   0.084335  0.247108  0.463968  0.526960   \n",
       "f1         -1.000000 -0.014434   0.073662 -0.093254  0.053333  0.070756   \n",
       "f2          1.000000  0.014434  -0.073662  0.093254 -0.053333 -0.070756   \n",
       "red_std     0.014434  1.000000   0.640797  0.804579  0.589698  0.598791   \n",
       "green_std  -0.073662  0.640797   1.000000  0.887168  0.287414  0.200216   \n",
       "blue_std    0.093254  0.804579   0.887168  1.000000  0.466851  0.428455   \n",
       "f4         -0.053333  0.589698   0.287414  0.466851  1.000000  0.970356   \n",
       "f5         -0.070756  0.598791   0.200216  0.428455  0.970356  1.000000   \n",
       "f6          0.309759 -0.446352   0.098212 -0.125250 -0.550463 -0.684460   \n",
       "f7          0.383500 -0.315799   0.180870  0.016022 -0.346305 -0.462461   \n",
       "f8          0.028278 -0.246730   0.134718 -0.055479 -0.835704 -0.854808   \n",
       "label      -0.232953 -0.003733   0.107438  0.083633 -0.205175 -0.179713   \n",
       "\n",
       "                  f6        f7        f8     label  \n",
       "area       -0.480709 -0.546232 -0.218536 -0.042791  \n",
       "perimeter  -0.306018 -0.342276 -0.105464 -0.043199  \n",
       "red_mean   -0.866796 -0.848805 -0.541468 -0.096072  \n",
       "green_mean -0.805845 -0.883802 -0.347251  0.088551  \n",
       "blue_mean  -0.830731 -0.873498 -0.435418  0.053310  \n",
       "f1         -0.309759 -0.383500 -0.028278  0.232953  \n",
       "f2          0.309759  0.383500  0.028278 -0.232953  \n",
       "red_std    -0.446352 -0.315799 -0.246730 -0.003733  \n",
       "green_std   0.098212  0.180870  0.134718  0.107438  \n",
       "blue_std   -0.125250  0.016022 -0.055479  0.083633  \n",
       "f4         -0.550463 -0.346305 -0.835704 -0.205175  \n",
       "f5         -0.684460 -0.462461 -0.854808 -0.179713  \n",
       "f6          1.000000  0.939232  0.588320  0.055354  \n",
       "f7          0.939232  1.000000  0.418662 -0.014082  \n",
       "f8          0.588320  0.418662  1.000000  0.212553  \n",
       "label       0.055354 -0.014082  0.212553  1.000000  "
      ]
     },
     "execution_count": 6,
     "metadata": {},
     "output_type": "execute_result"
    }
   ],
   "source": [
    "raw_data.corr(method ='pearson')"
   ]
  },
  {
   "cell_type": "markdown",
   "metadata": {
    "id": "tykbukJOs9oT"
   },
   "source": [
    "**Insights:**\n",
    "Less correlated features are:\n",
    "- green channel mean\n",
    "- Blue channel mean\n",
    "- green channel std\n",
    "- f4\n",
    "- f5\n",
    "- f6\n",
    "- f7\n",
    "- f8\n",
    "\n",
    "Also f1 and f2 are mutually relative So one of them can be removed"
   ]
  },
  {
   "cell_type": "code",
   "execution_count": 7,
   "metadata": {
    "id": "9C4PKZKLs276"
   },
   "outputs": [],
   "source": [
    "cleaned_data = raw_data #.drop(['f1'],axis = 1, inplace=False)"
   ]
  },
  {
   "cell_type": "code",
   "execution_count": 8,
   "metadata": {
    "colab": {
     "base_uri": "https://localhost:8080/",
     "height": 1000
    },
    "id": "5YuECBs9taB2",
    "outputId": "659092be-fad9-4e71-aef0-f4da46785d46"
   },
   "outputs": [
    {
     "data": {
      "text/html": [
       "<div>\n",
       "<style scoped>\n",
       "    .dataframe tbody tr th:only-of-type {\n",
       "        vertical-align: middle;\n",
       "    }\n",
       "\n",
       "    .dataframe tbody tr th {\n",
       "        vertical-align: top;\n",
       "    }\n",
       "\n",
       "    .dataframe thead th {\n",
       "        text-align: right;\n",
       "    }\n",
       "</style>\n",
       "<table border=\"1\" class=\"dataframe\">\n",
       "  <thead>\n",
       "    <tr style=\"text-align: right;\">\n",
       "      <th></th>\n",
       "      <th>area</th>\n",
       "      <th>perimeter</th>\n",
       "      <th>red_mean</th>\n",
       "      <th>green_mean</th>\n",
       "      <th>blue_mean</th>\n",
       "      <th>f1</th>\n",
       "      <th>f2</th>\n",
       "      <th>red_std</th>\n",
       "      <th>green_std</th>\n",
       "      <th>blue_std</th>\n",
       "      <th>f4</th>\n",
       "      <th>f5</th>\n",
       "      <th>f6</th>\n",
       "      <th>f7</th>\n",
       "      <th>f8</th>\n",
       "      <th>label</th>\n",
       "    </tr>\n",
       "  </thead>\n",
       "  <tbody>\n",
       "    <tr>\n",
       "      <th>area</th>\n",
       "      <td>1.000000</td>\n",
       "      <td>0.916663</td>\n",
       "      <td>0.466018</td>\n",
       "      <td>0.488844</td>\n",
       "      <td>0.484542</td>\n",
       "      <td>0.189626</td>\n",
       "      <td>-0.189626</td>\n",
       "      <td>0.058330</td>\n",
       "      <td>-0.224826</td>\n",
       "      <td>-0.144073</td>\n",
       "      <td>0.136623</td>\n",
       "      <td>0.197506</td>\n",
       "      <td>-0.480709</td>\n",
       "      <td>-0.546232</td>\n",
       "      <td>-0.218536</td>\n",
       "      <td>-0.042791</td>\n",
       "    </tr>\n",
       "    <tr>\n",
       "      <th>perimeter</th>\n",
       "      <td>0.916663</td>\n",
       "      <td>1.000000</td>\n",
       "      <td>0.297480</td>\n",
       "      <td>0.305710</td>\n",
       "      <td>0.301838</td>\n",
       "      <td>0.116663</td>\n",
       "      <td>-0.116663</td>\n",
       "      <td>0.098314</td>\n",
       "      <td>-0.072789</td>\n",
       "      <td>-0.022739</td>\n",
       "      <td>0.087088</td>\n",
       "      <td>0.127540</td>\n",
       "      <td>-0.306018</td>\n",
       "      <td>-0.342276</td>\n",
       "      <td>-0.105464</td>\n",
       "      <td>-0.043199</td>\n",
       "    </tr>\n",
       "    <tr>\n",
       "      <th>red_mean</th>\n",
       "      <td>0.466018</td>\n",
       "      <td>0.297480</td>\n",
       "      <td>1.000000</td>\n",
       "      <td>0.876523</td>\n",
       "      <td>0.921270</td>\n",
       "      <td>0.149911</td>\n",
       "      <td>-0.149911</td>\n",
       "      <td>0.598214</td>\n",
       "      <td>0.006949</td>\n",
       "      <td>0.206828</td>\n",
       "      <td>0.550532</td>\n",
       "      <td>0.631872</td>\n",
       "      <td>-0.866796</td>\n",
       "      <td>-0.848805</td>\n",
       "      <td>-0.541468</td>\n",
       "      <td>-0.096072</td>\n",
       "    </tr>\n",
       "    <tr>\n",
       "      <th>green_mean</th>\n",
       "      <td>0.488844</td>\n",
       "      <td>0.305710</td>\n",
       "      <td>0.876523</td>\n",
       "      <td>1.000000</td>\n",
       "      <td>0.969769</td>\n",
       "      <td>0.439404</td>\n",
       "      <td>-0.439404</td>\n",
       "      <td>0.446473</td>\n",
       "      <td>0.090966</td>\n",
       "      <td>0.165075</td>\n",
       "      <td>0.368014</td>\n",
       "      <td>0.427365</td>\n",
       "      <td>-0.805845</td>\n",
       "      <td>-0.883802</td>\n",
       "      <td>-0.347251</td>\n",
       "      <td>0.088551</td>\n",
       "    </tr>\n",
       "    <tr>\n",
       "      <th>blue_mean</th>\n",
       "      <td>0.484542</td>\n",
       "      <td>0.301838</td>\n",
       "      <td>0.921270</td>\n",
       "      <td>0.969769</td>\n",
       "      <td>1.000000</td>\n",
       "      <td>0.271542</td>\n",
       "      <td>-0.271542</td>\n",
       "      <td>0.511609</td>\n",
       "      <td>0.084335</td>\n",
       "      <td>0.247108</td>\n",
       "      <td>0.463968</td>\n",
       "      <td>0.526960</td>\n",
       "      <td>-0.830731</td>\n",
       "      <td>-0.873498</td>\n",
       "      <td>-0.435418</td>\n",
       "      <td>0.053310</td>\n",
       "    </tr>\n",
       "    <tr>\n",
       "      <th>f1</th>\n",
       "      <td>0.189626</td>\n",
       "      <td>0.116663</td>\n",
       "      <td>0.149911</td>\n",
       "      <td>0.439404</td>\n",
       "      <td>0.271542</td>\n",
       "      <td>1.000000</td>\n",
       "      <td>-1.000000</td>\n",
       "      <td>-0.014434</td>\n",
       "      <td>0.073662</td>\n",
       "      <td>-0.093254</td>\n",
       "      <td>0.053333</td>\n",
       "      <td>0.070756</td>\n",
       "      <td>-0.309759</td>\n",
       "      <td>-0.383500</td>\n",
       "      <td>-0.028278</td>\n",
       "      <td>0.232953</td>\n",
       "    </tr>\n",
       "    <tr>\n",
       "      <th>f2</th>\n",
       "      <td>-0.189626</td>\n",
       "      <td>-0.116663</td>\n",
       "      <td>-0.149911</td>\n",
       "      <td>-0.439404</td>\n",
       "      <td>-0.271542</td>\n",
       "      <td>-1.000000</td>\n",
       "      <td>1.000000</td>\n",
       "      <td>0.014434</td>\n",
       "      <td>-0.073662</td>\n",
       "      <td>0.093254</td>\n",
       "      <td>-0.053333</td>\n",
       "      <td>-0.070756</td>\n",
       "      <td>0.309759</td>\n",
       "      <td>0.383500</td>\n",
       "      <td>0.028278</td>\n",
       "      <td>-0.232953</td>\n",
       "    </tr>\n",
       "    <tr>\n",
       "      <th>red_std</th>\n",
       "      <td>0.058330</td>\n",
       "      <td>0.098314</td>\n",
       "      <td>0.598214</td>\n",
       "      <td>0.446473</td>\n",
       "      <td>0.511609</td>\n",
       "      <td>-0.014434</td>\n",
       "      <td>0.014434</td>\n",
       "      <td>1.000000</td>\n",
       "      <td>0.640797</td>\n",
       "      <td>0.804579</td>\n",
       "      <td>0.589698</td>\n",
       "      <td>0.598791</td>\n",
       "      <td>-0.446352</td>\n",
       "      <td>-0.315799</td>\n",
       "      <td>-0.246730</td>\n",
       "      <td>-0.003733</td>\n",
       "    </tr>\n",
       "    <tr>\n",
       "      <th>green_std</th>\n",
       "      <td>-0.224826</td>\n",
       "      <td>-0.072789</td>\n",
       "      <td>0.006949</td>\n",
       "      <td>0.090966</td>\n",
       "      <td>0.084335</td>\n",
       "      <td>0.073662</td>\n",
       "      <td>-0.073662</td>\n",
       "      <td>0.640797</td>\n",
       "      <td>1.000000</td>\n",
       "      <td>0.887168</td>\n",
       "      <td>0.287414</td>\n",
       "      <td>0.200216</td>\n",
       "      <td>0.098212</td>\n",
       "      <td>0.180870</td>\n",
       "      <td>0.134718</td>\n",
       "      <td>0.107438</td>\n",
       "    </tr>\n",
       "    <tr>\n",
       "      <th>blue_std</th>\n",
       "      <td>-0.144073</td>\n",
       "      <td>-0.022739</td>\n",
       "      <td>0.206828</td>\n",
       "      <td>0.165075</td>\n",
       "      <td>0.247108</td>\n",
       "      <td>-0.093254</td>\n",
       "      <td>0.093254</td>\n",
       "      <td>0.804579</td>\n",
       "      <td>0.887168</td>\n",
       "      <td>1.000000</td>\n",
       "      <td>0.466851</td>\n",
       "      <td>0.428455</td>\n",
       "      <td>-0.125250</td>\n",
       "      <td>0.016022</td>\n",
       "      <td>-0.055479</td>\n",
       "      <td>0.083633</td>\n",
       "    </tr>\n",
       "    <tr>\n",
       "      <th>f4</th>\n",
       "      <td>0.136623</td>\n",
       "      <td>0.087088</td>\n",
       "      <td>0.550532</td>\n",
       "      <td>0.368014</td>\n",
       "      <td>0.463968</td>\n",
       "      <td>0.053333</td>\n",
       "      <td>-0.053333</td>\n",
       "      <td>0.589698</td>\n",
       "      <td>0.287414</td>\n",
       "      <td>0.466851</td>\n",
       "      <td>1.000000</td>\n",
       "      <td>0.970356</td>\n",
       "      <td>-0.550463</td>\n",
       "      <td>-0.346305</td>\n",
       "      <td>-0.835704</td>\n",
       "      <td>-0.205175</td>\n",
       "    </tr>\n",
       "    <tr>\n",
       "      <th>f5</th>\n",
       "      <td>0.197506</td>\n",
       "      <td>0.127540</td>\n",
       "      <td>0.631872</td>\n",
       "      <td>0.427365</td>\n",
       "      <td>0.526960</td>\n",
       "      <td>0.070756</td>\n",
       "      <td>-0.070756</td>\n",
       "      <td>0.598791</td>\n",
       "      <td>0.200216</td>\n",
       "      <td>0.428455</td>\n",
       "      <td>0.970356</td>\n",
       "      <td>1.000000</td>\n",
       "      <td>-0.684460</td>\n",
       "      <td>-0.462461</td>\n",
       "      <td>-0.854808</td>\n",
       "      <td>-0.179713</td>\n",
       "    </tr>\n",
       "    <tr>\n",
       "      <th>f6</th>\n",
       "      <td>-0.480709</td>\n",
       "      <td>-0.306018</td>\n",
       "      <td>-0.866796</td>\n",
       "      <td>-0.805845</td>\n",
       "      <td>-0.830731</td>\n",
       "      <td>-0.309759</td>\n",
       "      <td>0.309759</td>\n",
       "      <td>-0.446352</td>\n",
       "      <td>0.098212</td>\n",
       "      <td>-0.125250</td>\n",
       "      <td>-0.550463</td>\n",
       "      <td>-0.684460</td>\n",
       "      <td>1.000000</td>\n",
       "      <td>0.939232</td>\n",
       "      <td>0.588320</td>\n",
       "      <td>0.055354</td>\n",
       "    </tr>\n",
       "    <tr>\n",
       "      <th>f7</th>\n",
       "      <td>-0.546232</td>\n",
       "      <td>-0.342276</td>\n",
       "      <td>-0.848805</td>\n",
       "      <td>-0.883802</td>\n",
       "      <td>-0.873498</td>\n",
       "      <td>-0.383500</td>\n",
       "      <td>0.383500</td>\n",
       "      <td>-0.315799</td>\n",
       "      <td>0.180870</td>\n",
       "      <td>0.016022</td>\n",
       "      <td>-0.346305</td>\n",
       "      <td>-0.462461</td>\n",
       "      <td>0.939232</td>\n",
       "      <td>1.000000</td>\n",
       "      <td>0.418662</td>\n",
       "      <td>-0.014082</td>\n",
       "    </tr>\n",
       "    <tr>\n",
       "      <th>f8</th>\n",
       "      <td>-0.218536</td>\n",
       "      <td>-0.105464</td>\n",
       "      <td>-0.541468</td>\n",
       "      <td>-0.347251</td>\n",
       "      <td>-0.435418</td>\n",
       "      <td>-0.028278</td>\n",
       "      <td>0.028278</td>\n",
       "      <td>-0.246730</td>\n",
       "      <td>0.134718</td>\n",
       "      <td>-0.055479</td>\n",
       "      <td>-0.835704</td>\n",
       "      <td>-0.854808</td>\n",
       "      <td>0.588320</td>\n",
       "      <td>0.418662</td>\n",
       "      <td>1.000000</td>\n",
       "      <td>0.212553</td>\n",
       "    </tr>\n",
       "    <tr>\n",
       "      <th>label</th>\n",
       "      <td>-0.042791</td>\n",
       "      <td>-0.043199</td>\n",
       "      <td>-0.096072</td>\n",
       "      <td>0.088551</td>\n",
       "      <td>0.053310</td>\n",
       "      <td>0.232953</td>\n",
       "      <td>-0.232953</td>\n",
       "      <td>-0.003733</td>\n",
       "      <td>0.107438</td>\n",
       "      <td>0.083633</td>\n",
       "      <td>-0.205175</td>\n",
       "      <td>-0.179713</td>\n",
       "      <td>0.055354</td>\n",
       "      <td>-0.014082</td>\n",
       "      <td>0.212553</td>\n",
       "      <td>1.000000</td>\n",
       "    </tr>\n",
       "  </tbody>\n",
       "</table>\n",
       "</div>"
      ],
      "text/plain": [
       "                area  perimeter  red_mean  green_mean  blue_mean        f1  \\\n",
       "area        1.000000   0.916663  0.466018    0.488844   0.484542  0.189626   \n",
       "perimeter   0.916663   1.000000  0.297480    0.305710   0.301838  0.116663   \n",
       "red_mean    0.466018   0.297480  1.000000    0.876523   0.921270  0.149911   \n",
       "green_mean  0.488844   0.305710  0.876523    1.000000   0.969769  0.439404   \n",
       "blue_mean   0.484542   0.301838  0.921270    0.969769   1.000000  0.271542   \n",
       "f1          0.189626   0.116663  0.149911    0.439404   0.271542  1.000000   \n",
       "f2         -0.189626  -0.116663 -0.149911   -0.439404  -0.271542 -1.000000   \n",
       "red_std     0.058330   0.098314  0.598214    0.446473   0.511609 -0.014434   \n",
       "green_std  -0.224826  -0.072789  0.006949    0.090966   0.084335  0.073662   \n",
       "blue_std   -0.144073  -0.022739  0.206828    0.165075   0.247108 -0.093254   \n",
       "f4          0.136623   0.087088  0.550532    0.368014   0.463968  0.053333   \n",
       "f5          0.197506   0.127540  0.631872    0.427365   0.526960  0.070756   \n",
       "f6         -0.480709  -0.306018 -0.866796   -0.805845  -0.830731 -0.309759   \n",
       "f7         -0.546232  -0.342276 -0.848805   -0.883802  -0.873498 -0.383500   \n",
       "f8         -0.218536  -0.105464 -0.541468   -0.347251  -0.435418 -0.028278   \n",
       "label      -0.042791  -0.043199 -0.096072    0.088551   0.053310  0.232953   \n",
       "\n",
       "                  f2   red_std  green_std  blue_std        f4        f5  \\\n",
       "area       -0.189626  0.058330  -0.224826 -0.144073  0.136623  0.197506   \n",
       "perimeter  -0.116663  0.098314  -0.072789 -0.022739  0.087088  0.127540   \n",
       "red_mean   -0.149911  0.598214   0.006949  0.206828  0.550532  0.631872   \n",
       "green_mean -0.439404  0.446473   0.090966  0.165075  0.368014  0.427365   \n",
       "blue_mean  -0.271542  0.511609   0.084335  0.247108  0.463968  0.526960   \n",
       "f1         -1.000000 -0.014434   0.073662 -0.093254  0.053333  0.070756   \n",
       "f2          1.000000  0.014434  -0.073662  0.093254 -0.053333 -0.070756   \n",
       "red_std     0.014434  1.000000   0.640797  0.804579  0.589698  0.598791   \n",
       "green_std  -0.073662  0.640797   1.000000  0.887168  0.287414  0.200216   \n",
       "blue_std    0.093254  0.804579   0.887168  1.000000  0.466851  0.428455   \n",
       "f4         -0.053333  0.589698   0.287414  0.466851  1.000000  0.970356   \n",
       "f5         -0.070756  0.598791   0.200216  0.428455  0.970356  1.000000   \n",
       "f6          0.309759 -0.446352   0.098212 -0.125250 -0.550463 -0.684460   \n",
       "f7          0.383500 -0.315799   0.180870  0.016022 -0.346305 -0.462461   \n",
       "f8          0.028278 -0.246730   0.134718 -0.055479 -0.835704 -0.854808   \n",
       "label      -0.232953 -0.003733   0.107438  0.083633 -0.205175 -0.179713   \n",
       "\n",
       "                  f6        f7        f8     label  \n",
       "area       -0.480709 -0.546232 -0.218536 -0.042791  \n",
       "perimeter  -0.306018 -0.342276 -0.105464 -0.043199  \n",
       "red_mean   -0.866796 -0.848805 -0.541468 -0.096072  \n",
       "green_mean -0.805845 -0.883802 -0.347251  0.088551  \n",
       "blue_mean  -0.830731 -0.873498 -0.435418  0.053310  \n",
       "f1         -0.309759 -0.383500 -0.028278  0.232953  \n",
       "f2          0.309759  0.383500  0.028278 -0.232953  \n",
       "red_std    -0.446352 -0.315799 -0.246730 -0.003733  \n",
       "green_std   0.098212  0.180870  0.134718  0.107438  \n",
       "blue_std   -0.125250  0.016022 -0.055479  0.083633  \n",
       "f4         -0.550463 -0.346305 -0.835704 -0.205175  \n",
       "f5         -0.684460 -0.462461 -0.854808 -0.179713  \n",
       "f6          1.000000  0.939232  0.588320  0.055354  \n",
       "f7          0.939232  1.000000  0.418662 -0.014082  \n",
       "f8          0.588320  0.418662  1.000000  0.212553  \n",
       "label       0.055354 -0.014082  0.212553  1.000000  "
      ]
     },
     "execution_count": 8,
     "metadata": {},
     "output_type": "execute_result"
    }
   ],
   "source": [
    "cleaned_data.corr(method ='pearson')"
   ]
  },
  {
   "cell_type": "code",
   "execution_count": 9,
   "metadata": {
    "id": "nHFTe4TItiFJ"
   },
   "outputs": [],
   "source": [
    "cleaned_data = cleaned_data.dropna()"
   ]
  },
  {
   "cell_type": "code",
   "execution_count": 10,
   "metadata": {
    "colab": {
     "base_uri": "https://localhost:8080/"
    },
    "id": "1ns2yXu9uXnE",
    "outputId": "81b3083c-7b65-4923-ebe8-674259d14aa4"
   },
   "outputs": [
    {
     "data": {
      "text/plain": [
       "(14573, 16)"
      ]
     },
     "execution_count": 10,
     "metadata": {},
     "output_type": "execute_result"
    }
   ],
   "source": [
    "raw_data.shape"
   ]
  },
  {
   "cell_type": "code",
   "execution_count": 11,
   "metadata": {
    "colab": {
     "base_uri": "https://localhost:8080/"
    },
    "id": "X2iVldJpuZb5",
    "outputId": "44927c0c-ca20-4995-f579-8f113ea7d2f3"
   },
   "outputs": [
    {
     "data": {
      "text/plain": [
       "(14573, 16)"
      ]
     },
     "execution_count": 11,
     "metadata": {},
     "output_type": "execute_result"
    }
   ],
   "source": [
    "cleaned_data.shape"
   ]
  },
  {
   "cell_type": "code",
   "execution_count": 12,
   "metadata": {
    "id": "q1UEsRsTubX5"
   },
   "outputs": [],
   "source": [
    "from sklearn.model_selection import train_test_split\n",
    "from sklearn.metrics import accuracy_score\n",
    "from sklearn.preprocessing import StandardScaler\n",
    "from sklearn.decomposition import PCA\n",
    "from sklearn.svm import SVC\n",
    "from sklearn.metrics import roc_curve, auc\n",
    "from sklearn.model_selection import KFold \n"
   ]
  },
  {
   "cell_type": "code",
   "execution_count": 13,
   "metadata": {
    "id": "ZJg6iy3Mu72T"
   },
   "outputs": [],
   "source": [
    "df = cleaned_data.reset_index()"
   ]
  },
  {
   "cell_type": "code",
   "execution_count": 14,
   "metadata": {
    "colab": {
     "base_uri": "https://localhost:8080/"
    },
    "id": "3DvMWo8rvPW6",
    "outputId": "72d93ebe-2fbe-47b6-903a-ae58e46569e7"
   },
   "outputs": [
    {
     "name": "stdout",
     "output_type": "stream",
     "text": [
      "(14573, 15)\n",
      "(14573,)\n"
     ]
    }
   ],
   "source": [
    "X = df.drop(['index','label'],axis = 1, inplace=False)\n",
    "y = df['label']\n",
    "print(X.shape)\n",
    "print(y.shape)"
   ]
  },
  {
   "cell_type": "code",
   "execution_count": 15,
   "metadata": {
    "colab": {
     "base_uri": "https://localhost:8080/"
    },
    "id": "j723Yu4Xvx_r",
    "outputId": "7d68696b-7a50-4d90-a12e-c3e326ba15d6"
   },
   "outputs": [
    {
     "name": "stdout",
     "output_type": "stream",
     "text": [
      "Score of each fold - [0.7138936535162951, 0.7128644939965695, 0.725557461406518, 0.7151681537405628, 0.7244337680164722]\n",
      "Avg Score : 0.7183835061352835\n"
     ]
    }
   ],
   "source": [
    "k = 5\n",
    "kf = KFold(n_splits=k, random_state=9, shuffle = True)\n",
    "from sklearn.ensemble import RandomForestClassifier\n",
    "model = RandomForestClassifier(random_state = 50,n_estimators = 50,max_samples = 0.7)\n",
    " \n",
    "acc_score = []\n",
    "\n",
    "for train_index , test_index in kf.split(X):\n",
    "    X_train , X_test = X.iloc[train_index,:],X.iloc[test_index,:]\n",
    "    y_train , y_test = y[train_index] , y[test_index]\n",
    "    model = RandomForestClassifier(random_state = 50,n_estimators = 50,max_samples = 0.7)\n",
    "    model.fit(X_train,y_train)\n",
    "    pred_values = model.predict(X_test)            # classification\n",
    "    acc = accuracy_score(pred_values , y_test)     # Classification\n",
    "\n",
    "    #acc = model.score(X_test,y_test)                # Regression\n",
    "    \n",
    "    acc_score.append(acc)\n",
    "     \n",
    "avg_acc_score = sum(acc_score)/k\n",
    " \n",
    "print('Score of each fold - {}'.format(acc_score))\n",
    "print('Avg Score : {}'.format(avg_acc_score))"
   ]
  },
  {
   "cell_type": "markdown",
   "metadata": {
    "id": "jShjKvkbwtys"
   },
   "source": [
    "# **K- fold Cross validation accuracy:**\n",
    "# **0.7126602564102564**"
   ]
  },
  {
   "cell_type": "markdown",
   "metadata": {
    "id": "MalrrV30xqn8"
   },
   "source": [
    "# ROC Curve"
   ]
  },
  {
   "cell_type": "code",
   "execution_count": 16,
   "metadata": {
    "colab": {
     "base_uri": "https://localhost:8080/",
     "height": 349
    },
    "id": "U_6DxxVXwmJP",
    "outputId": "a133289a-c71b-4af2-8e04-d36b24d2fc40"
   },
   "outputs": [
    {
     "data": {
      "image/png": "[encoded data removed]",
      "text/plain": [
       "<Figure size 432x288 with 1 Axes>"
      ]
     },
     "metadata": {
      "needs_background": "light"
     },
     "output_type": "display_data"
    }
   ],
   "source": [
    "import scikitplot as skplt\n",
    "import matplotlib.pyplot as plt\n",
    "\n",
    "y_true = y_test\n",
    "y_probas = model.predict_proba(X_test)\n",
    "skplt.metrics.plot_roc(y_true, y_probas)\n",
    "\n",
    "plt.show()"
   ]
  },
  {
   "cell_type": "code",
   "execution_count": 17,
   "metadata": {
    "colab": {
     "base_uri": "https://localhost:8080/",
     "height": 296
    },
    "id": "qw0YcxFQx3Mc",
    "outputId": "c83fbdcf-a67a-404f-e8dc-9c8473490392"
   },
   "outputs": [
    {
     "data": {
      "text/plain": [
       "<sklearn.metrics._plot.confusion_matrix.ConfusionMatrixDisplay at 0x7f0395b4bc18>"
      ]
     },
     "execution_count": 17,
     "metadata": {},
     "output_type": "execute_result"
    },
    {
     "data": {
      "image/png": "[encoded data removed]",
      "text/plain": [
       "<Figure size 432x288 with 2 Axes>"
      ]
     },
     "metadata": {
      "needs_background": "light"
     },
     "output_type": "display_data"
    }
   ],
   "source": [
    "from sklearn.metrics import plot_confusion_matrix\n",
    "y_pred = model.predict(X_test)\n",
    "plot_confusion_matrix(model, X_test, y_test, values_format = 'd',cmap = 'Blues',display_labels = ['0','1','2','3','4','5','6','7','8','9'])"
   ]
  },
  {
   "cell_type": "code",
   "execution_count": 18,
   "metadata": {
    "colab": {
     "base_uri": "https://localhost:8080/"
    },
    "id": "Gref__vNyWqm",
    "outputId": "ba198a46-5398-482a-a509-72776333aa9d"
   },
   "outputs": [
    {
     "name": "stdout",
     "output_type": "stream",
     "text": [
      "              precision    recall  f1-score   support\n",
      "\n",
      "           0       0.88      0.84      0.86       227\n",
      "           1       0.80      0.81      0.80       359\n",
      "           2       0.55      0.34      0.42       145\n",
      "           3       0.66      0.62      0.64       345\n",
      "           4       0.66      0.52      0.58       150\n",
      "           5       0.66      0.56      0.61       277\n",
      "           6       0.62      0.63      0.62       233\n",
      "           7       0.65      0.73      0.68       206\n",
      "           8       0.76      0.88      0.82       851\n",
      "           9       0.74      0.72      0.73       121\n",
      "\n",
      "    accuracy                           0.72      2914\n",
      "   macro avg       0.70      0.66      0.68      2914\n",
      "weighted avg       0.72      0.72      0.72      2914\n",
      "\n"
     ]
    }
   ],
   "source": [
    "from sklearn.metrics import classification_report\n",
    "\n",
    "print(classification_report(y_test, y_pred, [i for i in range(0,10)]))"
   ]
  },
  {
   "cell_type": "markdown",
   "metadata": {
    "id": "XEl3_kcUzXyY"
   },
   "source": [
    "# Deployment"
   ]
  },
  {
   "cell_type": "code",
   "execution_count": 19,
   "metadata": {
    "colab": {
     "base_uri": "https://localhost:8080/"
    },
    "id": "HY3YfG2py-Jf",
    "outputId": "1ae76c7e-aea2-4ecf-9da4-2c14477c7009"
   },
   "outputs": [
    {
     "name": "stdout",
     "output_type": "stream",
     "text": [
      "Training Score:  0.9962945172579428\n"
     ]
    }
   ],
   "source": [
    "from sklearn.ensemble import RandomForestClassifier\n",
    "lm = RandomForestClassifier(random_state = 50,n_estimators = 50,max_samples = 0.7)\n",
    "lm.fit(X,y)\n",
    "print('Training Score: ',lm.score(X,y))"
   ]
  },
  {
   "cell_type": "code",
   "execution_count": 20,
   "metadata": {
    "colab": {
     "base_uri": "https://localhost:8080/"
    },
    "id": "LlyCB8PCy1qh",
    "outputId": "2cc193e3-7c9e-451e-ab77-0df761e46954"
   },
   "outputs": [
    {
     "data": {
      "text/plain": [
       "array([0.04770829, 0.04174015, 0.07792793, 0.05643532, 0.05341485,\n",
       "       0.0590623 , 0.06572077, 0.09114951, 0.06947615, 0.0671092 ,\n",
       "       0.0879725 , 0.10211497, 0.05188147, 0.05096126, 0.07732533])"
      ]
     },
     "execution_count": 20,
     "metadata": {},
     "output_type": "execute_result"
    }
   ],
   "source": [
    "lm.feature_importances_"
   ]
  },
  {
   "cell_type": "markdown",
   "metadata": {
    "id": "WyNxpJvA0ycq"
   },
   "source": [
    "# Selected Features"
   ]
  },
  {
   "cell_type": "code",
   "execution_count": 21,
   "metadata": {
    "colab": {
     "base_uri": "https://localhost:8080/"
    },
    "id": "bb17TIJPz5jJ",
    "outputId": "a4d12a70-dffc-46c9-9374-c36c142227d2"
   },
   "outputs": [
    {
     "data": {
      "text/plain": [
       "Index(['area', 'perimeter', 'red_mean', 'green_mean', 'blue_mean', 'f1', 'f2',\n",
       "       'red_std', 'green_std', 'blue_std', 'f4', 'f5', 'f6', 'f7', 'f8'],\n",
       "      dtype='object')"
      ]
     },
     "execution_count": 21,
     "metadata": {},
     "output_type": "execute_result"
    }
   ],
   "source": [
    "X.columns"
   ]
  },
  {
   "cell_type": "code",
   "execution_count": null,
   "metadata": {},
   "outputs": [],
   "source": []
  }
 ],
 "metadata": {
  "colab": {
   "name": "Apple_DA_and_MD.ipynb",
   "provenance": []
  },
  "kernelspec": {
   "display_name": "plant_env",
   "language": "python",
   "name": "plant_env"
  },
  "language_info": {
   "codemirror_mode": {
    "name": "ipython",
    "version": 3
   },
   "file_extension": ".py",
   "mimetype": "text/x-python",
   "name": "python",
   "nbconvert_exporter": "python",
   "pygments_lexer": "ipython3",
   "version": "3.6.9"
  }
 },
 "nbformat": 4,
 "nbformat_minor": 1
}
