{
 "cells": [
  {
   "cell_type": "code",
   "execution_count": 32,
   "metadata": {
    "id": "8Cg54vyTot1W"
   },
   "outputs": [],
   "source": [
    "import pandas as pd\n",
    "import matplotlib.pyplot as plt\n",
    "import numpy as np\n",
    "import seaborn as sns\n",
    "import warnings\n",
    "warnings.filterwarnings('ignore')"
   ]
  },
  {
   "cell_type": "code",
   "execution_count": 33,
   "metadata": {
    "id": "4-v_yHgEowG5"
   },
   "outputs": [],
   "source": [
    "#!pip install openpyxl\n",
    "raw_data = pd.read_excel('../../apple_dataset_v4.xlsx', engine='openpyxl')"
   ]
  },
  {
   "cell_type": "code",
   "execution_count": 34,
   "metadata": {
    "colab": {
     "base_uri": "https://localhost:8080/"
    },
    "id": "d-UxkVS-sCVa",
    "outputId": "6a77717b-e608-4356-e740-910a8cec0159"
   },
   "outputs": [
    {
     "data": {
      "text/plain": [
       "Unnamed: 0      int64\n",
       "area          float64\n",
       "perimeter     float64\n",
       "red_mean      float64\n",
       "green_mean    float64\n",
       "blue_mean     float64\n",
       "f1            float64\n",
       "f2            float64\n",
       "red_std       float64\n",
       "green_std     float64\n",
       "blue_std      float64\n",
       "f4            float64\n",
       "f5            float64\n",
       "f6            float64\n",
       "f7            float64\n",
       "f8            float64\n",
       "label           int64\n",
       "dtype: object"
      ]
     },
     "execution_count": 34,
     "metadata": {},
     "output_type": "execute_result"
    }
   ],
   "source": [
    "raw_data.dtypes"
   ]
  },
  {
   "cell_type": "code",
   "execution_count": 35,
   "metadata": {
    "id": "6rODIXAEsIiK"
   },
   "outputs": [],
   "source": [
    "raw_data.drop(['Unnamed: 0'],axis = 1, inplace=True)"
   ]
  },
  {
   "cell_type": "code",
   "execution_count": 36,
   "metadata": {
    "colab": {
     "base_uri": "https://localhost:8080/"
    },
    "id": "f3T6y1gVsT2p",
    "outputId": "ab01a558-d67c-4f56-92d5-52ca32f22a78"
   },
   "outputs": [
    {
     "data": {
      "text/plain": [
       "Index(['area', 'perimeter', 'red_mean', 'green_mean', 'blue_mean', 'f1', 'f2',\n",
       "       'red_std', 'green_std', 'blue_std', 'f4', 'f5', 'f6', 'f7', 'f8',\n",
       "       'label'],\n",
       "      dtype='object')"
      ]
     },
     "execution_count": 36,
     "metadata": {},
     "output_type": "execute_result"
    }
   ],
   "source": [
    "raw_data.columns"
   ]
  },
  {
   "cell_type": "code",
   "execution_count": 37,
   "metadata": {
    "colab": {
     "base_uri": "https://localhost:8080/",
     "height": 1000
    },
    "id": "48HQEVsXsWFp",
    "outputId": "69917675-7ac8-48a3-9a77-5f93eeecf880"
   },
   "outputs": [
    {
     "data": {
      "text/html": [
       "<div>\n",
       "<style scoped>\n",
       "    .dataframe tbody tr th:only-of-type {\n",
       "        vertical-align: middle;\n",
       "    }\n",
       "\n",
       "    .dataframe tbody tr th {\n",
       "        vertical-align: top;\n",
       "    }\n",
       "\n",
       "    .dataframe thead th {\n",
       "        text-align: right;\n",
       "    }\n",
       "</style>\n",
       "<table border=\"1\" class=\"dataframe\">\n",
       "  <thead>\n",
       "    <tr style=\"text-align: right;\">\n",
       "      <th></th>\n",
       "      <th>area</th>\n",
       "      <th>perimeter</th>\n",
       "      <th>red_mean</th>\n",
       "      <th>green_mean</th>\n",
       "      <th>blue_mean</th>\n",
       "      <th>f1</th>\n",
       "      <th>f2</th>\n",
       "      <th>red_std</th>\n",
       "      <th>green_std</th>\n",
       "      <th>blue_std</th>\n",
       "      <th>f4</th>\n",
       "      <th>f5</th>\n",
       "      <th>f6</th>\n",
       "      <th>f7</th>\n",
       "      <th>f8</th>\n",
       "      <th>label</th>\n",
       "    </tr>\n",
       "  </thead>\n",
       "  <tbody>\n",
       "    <tr>\n",
       "      <th>area</th>\n",
       "      <td>1.000000</td>\n",
       "      <td>0.878843</td>\n",
       "      <td>0.412529</td>\n",
       "      <td>0.458382</td>\n",
       "      <td>0.406890</td>\n",
       "      <td>0.300815</td>\n",
       "      <td>-0.300815</td>\n",
       "      <td>0.157759</td>\n",
       "      <td>0.085235</td>\n",
       "      <td>0.069237</td>\n",
       "      <td>-0.053835</td>\n",
       "      <td>0.122362</td>\n",
       "      <td>-0.546659</td>\n",
       "      <td>-0.572725</td>\n",
       "      <td>0.168848</td>\n",
       "      <td>-0.099216</td>\n",
       "    </tr>\n",
       "    <tr>\n",
       "      <th>perimeter</th>\n",
       "      <td>0.878843</td>\n",
       "      <td>1.000000</td>\n",
       "      <td>0.283858</td>\n",
       "      <td>0.301344</td>\n",
       "      <td>0.277562</td>\n",
       "      <td>0.170882</td>\n",
       "      <td>-0.170882</td>\n",
       "      <td>0.159844</td>\n",
       "      <td>0.109740</td>\n",
       "      <td>0.104308</td>\n",
       "      <td>0.002602</td>\n",
       "      <td>0.118905</td>\n",
       "      <td>-0.369693</td>\n",
       "      <td>-0.374929</td>\n",
       "      <td>0.113184</td>\n",
       "      <td>-0.061680</td>\n",
       "    </tr>\n",
       "    <tr>\n",
       "      <th>red_mean</th>\n",
       "      <td>0.412529</td>\n",
       "      <td>0.283858</td>\n",
       "      <td>1.000000</td>\n",
       "      <td>0.873240</td>\n",
       "      <td>0.887728</td>\n",
       "      <td>0.129082</td>\n",
       "      <td>-0.129082</td>\n",
       "      <td>0.788779</td>\n",
       "      <td>0.519859</td>\n",
       "      <td>0.574523</td>\n",
       "      <td>0.025375</td>\n",
       "      <td>0.236994</td>\n",
       "      <td>-0.788028</td>\n",
       "      <td>-0.794919</td>\n",
       "      <td>0.428375</td>\n",
       "      <td>-0.065759</td>\n",
       "    </tr>\n",
       "    <tr>\n",
       "      <th>green_mean</th>\n",
       "      <td>0.458382</td>\n",
       "      <td>0.301344</td>\n",
       "      <td>0.873240</td>\n",
       "      <td>1.000000</td>\n",
       "      <td>0.962464</td>\n",
       "      <td>0.477160</td>\n",
       "      <td>-0.477160</td>\n",
       "      <td>0.609913</td>\n",
       "      <td>0.659866</td>\n",
       "      <td>0.645145</td>\n",
       "      <td>0.043077</td>\n",
       "      <td>0.237477</td>\n",
       "      <td>-0.843482</td>\n",
       "      <td>-0.867009</td>\n",
       "      <td>0.480674</td>\n",
       "      <td>0.177487</td>\n",
       "    </tr>\n",
       "    <tr>\n",
       "      <th>blue_mean</th>\n",
       "      <td>0.406890</td>\n",
       "      <td>0.277562</td>\n",
       "      <td>0.887728</td>\n",
       "      <td>0.962464</td>\n",
       "      <td>1.000000</td>\n",
       "      <td>0.345627</td>\n",
       "      <td>-0.345627</td>\n",
       "      <td>0.642156</td>\n",
       "      <td>0.639513</td>\n",
       "      <td>0.716294</td>\n",
       "      <td>0.022985</td>\n",
       "      <td>0.192175</td>\n",
       "      <td>-0.784028</td>\n",
       "      <td>-0.818928</td>\n",
       "      <td>0.489104</td>\n",
       "      <td>0.230854</td>\n",
       "    </tr>\n",
       "    <tr>\n",
       "      <th>f1</th>\n",
       "      <td>0.300815</td>\n",
       "      <td>0.170882</td>\n",
       "      <td>0.129082</td>\n",
       "      <td>0.477160</td>\n",
       "      <td>0.345627</td>\n",
       "      <td>1.000000</td>\n",
       "      <td>-1.000000</td>\n",
       "      <td>0.000422</td>\n",
       "      <td>0.366794</td>\n",
       "      <td>0.235472</td>\n",
       "      <td>0.242435</td>\n",
       "      <td>0.333281</td>\n",
       "      <td>-0.484651</td>\n",
       "      <td>-0.471827</td>\n",
       "      <td>-0.002323</td>\n",
       "      <td>0.141234</td>\n",
       "    </tr>\n",
       "    <tr>\n",
       "      <th>f2</th>\n",
       "      <td>-0.300815</td>\n",
       "      <td>-0.170882</td>\n",
       "      <td>-0.129082</td>\n",
       "      <td>-0.477160</td>\n",
       "      <td>-0.345627</td>\n",
       "      <td>-1.000000</td>\n",
       "      <td>1.000000</td>\n",
       "      <td>-0.000422</td>\n",
       "      <td>-0.366794</td>\n",
       "      <td>-0.235472</td>\n",
       "      <td>-0.242435</td>\n",
       "      <td>-0.333281</td>\n",
       "      <td>0.484651</td>\n",
       "      <td>0.471827</td>\n",
       "      <td>0.002323</td>\n",
       "      <td>-0.141234</td>\n",
       "    </tr>\n",
       "    <tr>\n",
       "      <th>red_std</th>\n",
       "      <td>0.157759</td>\n",
       "      <td>0.159844</td>\n",
       "      <td>0.788779</td>\n",
       "      <td>0.609913</td>\n",
       "      <td>0.642156</td>\n",
       "      <td>0.000422</td>\n",
       "      <td>-0.000422</td>\n",
       "      <td>1.000000</td>\n",
       "      <td>0.737691</td>\n",
       "      <td>0.781612</td>\n",
       "      <td>0.389436</td>\n",
       "      <td>0.475817</td>\n",
       "      <td>-0.520525</td>\n",
       "      <td>-0.428014</td>\n",
       "      <td>0.202625</td>\n",
       "      <td>-0.149822</td>\n",
       "    </tr>\n",
       "    <tr>\n",
       "      <th>green_std</th>\n",
       "      <td>0.085235</td>\n",
       "      <td>0.109740</td>\n",
       "      <td>0.519859</td>\n",
       "      <td>0.659866</td>\n",
       "      <td>0.639513</td>\n",
       "      <td>0.366794</td>\n",
       "      <td>-0.366794</td>\n",
       "      <td>0.737691</td>\n",
       "      <td>1.000000</td>\n",
       "      <td>0.925187</td>\n",
       "      <td>0.428966</td>\n",
       "      <td>0.430273</td>\n",
       "      <td>-0.419283</td>\n",
       "      <td>-0.341908</td>\n",
       "      <td>0.285902</td>\n",
       "      <td>0.232778</td>\n",
       "    </tr>\n",
       "    <tr>\n",
       "      <th>blue_std</th>\n",
       "      <td>0.069237</td>\n",
       "      <td>0.104308</td>\n",
       "      <td>0.574523</td>\n",
       "      <td>0.645145</td>\n",
       "      <td>0.716294</td>\n",
       "      <td>0.235472</td>\n",
       "      <td>-0.235472</td>\n",
       "      <td>0.781612</td>\n",
       "      <td>0.925187</td>\n",
       "      <td>1.000000</td>\n",
       "      <td>0.417900</td>\n",
       "      <td>0.411454</td>\n",
       "      <td>-0.410031</td>\n",
       "      <td>-0.344916</td>\n",
       "      <td>0.257820</td>\n",
       "      <td>0.286950</td>\n",
       "    </tr>\n",
       "    <tr>\n",
       "      <th>f4</th>\n",
       "      <td>-0.053835</td>\n",
       "      <td>0.002602</td>\n",
       "      <td>0.025375</td>\n",
       "      <td>0.043077</td>\n",
       "      <td>0.022985</td>\n",
       "      <td>0.242435</td>\n",
       "      <td>-0.242435</td>\n",
       "      <td>0.389436</td>\n",
       "      <td>0.428966</td>\n",
       "      <td>0.417900</td>\n",
       "      <td>1.000000</td>\n",
       "      <td>0.922760</td>\n",
       "      <td>-0.168128</td>\n",
       "      <td>0.019897</td>\n",
       "      <td>-0.676992</td>\n",
       "      <td>-0.164267</td>\n",
       "    </tr>\n",
       "    <tr>\n",
       "      <th>f5</th>\n",
       "      <td>0.122362</td>\n",
       "      <td>0.118905</td>\n",
       "      <td>0.236994</td>\n",
       "      <td>0.237477</td>\n",
       "      <td>0.192175</td>\n",
       "      <td>0.333281</td>\n",
       "      <td>-0.333281</td>\n",
       "      <td>0.475817</td>\n",
       "      <td>0.430273</td>\n",
       "      <td>0.411454</td>\n",
       "      <td>0.922760</td>\n",
       "      <td>1.000000</td>\n",
       "      <td>-0.465370</td>\n",
       "      <td>-0.252855</td>\n",
       "      <td>-0.580340</td>\n",
       "      <td>-0.261720</td>\n",
       "    </tr>\n",
       "    <tr>\n",
       "      <th>f6</th>\n",
       "      <td>-0.546659</td>\n",
       "      <td>-0.369693</td>\n",
       "      <td>-0.788028</td>\n",
       "      <td>-0.843482</td>\n",
       "      <td>-0.784028</td>\n",
       "      <td>-0.484651</td>\n",
       "      <td>0.484651</td>\n",
       "      <td>-0.520525</td>\n",
       "      <td>-0.419283</td>\n",
       "      <td>-0.410031</td>\n",
       "      <td>-0.168128</td>\n",
       "      <td>-0.465370</td>\n",
       "      <td>1.000000</td>\n",
       "      <td>0.955913</td>\n",
       "      <td>-0.222358</td>\n",
       "      <td>0.096441</td>\n",
       "    </tr>\n",
       "    <tr>\n",
       "      <th>f7</th>\n",
       "      <td>-0.572725</td>\n",
       "      <td>-0.374929</td>\n",
       "      <td>-0.794919</td>\n",
       "      <td>-0.867009</td>\n",
       "      <td>-0.818928</td>\n",
       "      <td>-0.471827</td>\n",
       "      <td>0.471827</td>\n",
       "      <td>-0.428014</td>\n",
       "      <td>-0.341908</td>\n",
       "      <td>-0.344916</td>\n",
       "      <td>0.019897</td>\n",
       "      <td>-0.252855</td>\n",
       "      <td>0.955913</td>\n",
       "      <td>1.000000</td>\n",
       "      <td>-0.359375</td>\n",
       "      <td>0.019429</td>\n",
       "    </tr>\n",
       "    <tr>\n",
       "      <th>f8</th>\n",
       "      <td>0.168848</td>\n",
       "      <td>0.113184</td>\n",
       "      <td>0.428375</td>\n",
       "      <td>0.480674</td>\n",
       "      <td>0.489104</td>\n",
       "      <td>-0.002323</td>\n",
       "      <td>0.002323</td>\n",
       "      <td>0.202625</td>\n",
       "      <td>0.285902</td>\n",
       "      <td>0.257820</td>\n",
       "      <td>-0.676992</td>\n",
       "      <td>-0.580340</td>\n",
       "      <td>-0.222358</td>\n",
       "      <td>-0.359375</td>\n",
       "      <td>1.000000</td>\n",
       "      <td>0.282852</td>\n",
       "    </tr>\n",
       "    <tr>\n",
       "      <th>label</th>\n",
       "      <td>-0.099216</td>\n",
       "      <td>-0.061680</td>\n",
       "      <td>-0.065759</td>\n",
       "      <td>0.177487</td>\n",
       "      <td>0.230854</td>\n",
       "      <td>0.141234</td>\n",
       "      <td>-0.141234</td>\n",
       "      <td>-0.149822</td>\n",
       "      <td>0.232778</td>\n",
       "      <td>0.286950</td>\n",
       "      <td>-0.164267</td>\n",
       "      <td>-0.261720</td>\n",
       "      <td>0.096441</td>\n",
       "      <td>0.019429</td>\n",
       "      <td>0.282852</td>\n",
       "      <td>1.000000</td>\n",
       "    </tr>\n",
       "  </tbody>\n",
       "</table>\n",
       "</div>"
      ],
      "text/plain": [
       "                area  perimeter  red_mean  green_mean  blue_mean        f1  \\\n",
       "area        1.000000   0.878843  0.412529    0.458382   0.406890  0.300815   \n",
       "perimeter   0.878843   1.000000  0.283858    0.301344   0.277562  0.170882   \n",
       "red_mean    0.412529   0.283858  1.000000    0.873240   0.887728  0.129082   \n",
       "green_mean  0.458382   0.301344  0.873240    1.000000   0.962464  0.477160   \n",
       "blue_mean   0.406890   0.277562  0.887728    0.962464   1.000000  0.345627   \n",
       "f1          0.300815   0.170882  0.129082    0.477160   0.345627  1.000000   \n",
       "f2         -0.300815  -0.170882 -0.129082   -0.477160  -0.345627 -1.000000   \n",
       "red_std     0.157759   0.159844  0.788779    0.609913   0.642156  0.000422   \n",
       "green_std   0.085235   0.109740  0.519859    0.659866   0.639513  0.366794   \n",
       "blue_std    0.069237   0.104308  0.574523    0.645145   0.716294  0.235472   \n",
       "f4         -0.053835   0.002602  0.025375    0.043077   0.022985  0.242435   \n",
       "f5          0.122362   0.118905  0.236994    0.237477   0.192175  0.333281   \n",
       "f6         -0.546659  -0.369693 -0.788028   -0.843482  -0.784028 -0.484651   \n",
       "f7         -0.572725  -0.374929 -0.794919   -0.867009  -0.818928 -0.471827   \n",
       "f8          0.168848   0.113184  0.428375    0.480674   0.489104 -0.002323   \n",
       "label      -0.099216  -0.061680 -0.065759    0.177487   0.230854  0.141234   \n",
       "\n",
       "                  f2   red_std  green_std  blue_std        f4        f5  \\\n",
       "area       -0.300815  0.157759   0.085235  0.069237 -0.053835  0.122362   \n",
       "perimeter  -0.170882  0.159844   0.109740  0.104308  0.002602  0.118905   \n",
       "red_mean   -0.129082  0.788779   0.519859  0.574523  0.025375  0.236994   \n",
       "green_mean -0.477160  0.609913   0.659866  0.645145  0.043077  0.237477   \n",
       "blue_mean  -0.345627  0.642156   0.639513  0.716294  0.022985  0.192175   \n",
       "f1         -1.000000  0.000422   0.366794  0.235472  0.242435  0.333281   \n",
       "f2          1.000000 -0.000422  -0.366794 -0.235472 -0.242435 -0.333281   \n",
       "red_std    -0.000422  1.000000   0.737691  0.781612  0.389436  0.475817   \n",
       "green_std  -0.366794  0.737691   1.000000  0.925187  0.428966  0.430273   \n",
       "blue_std   -0.235472  0.781612   0.925187  1.000000  0.417900  0.411454   \n",
       "f4         -0.242435  0.389436   0.428966  0.417900  1.000000  0.922760   \n",
       "f5         -0.333281  0.475817   0.430273  0.411454  0.922760  1.000000   \n",
       "f6          0.484651 -0.520525  -0.419283 -0.410031 -0.168128 -0.465370   \n",
       "f7          0.471827 -0.428014  -0.341908 -0.344916  0.019897 -0.252855   \n",
       "f8          0.002323  0.202625   0.285902  0.257820 -0.676992 -0.580340   \n",
       "label      -0.141234 -0.149822   0.232778  0.286950 -0.164267 -0.261720   \n",
       "\n",
       "                  f6        f7        f8     label  \n",
       "area       -0.546659 -0.572725  0.168848 -0.099216  \n",
       "perimeter  -0.369693 -0.374929  0.113184 -0.061680  \n",
       "red_mean   -0.788028 -0.794919  0.428375 -0.065759  \n",
       "green_mean -0.843482 -0.867009  0.480674  0.177487  \n",
       "blue_mean  -0.784028 -0.818928  0.489104  0.230854  \n",
       "f1         -0.484651 -0.471827 -0.002323  0.141234  \n",
       "f2          0.484651  0.471827  0.002323 -0.141234  \n",
       "red_std    -0.520525 -0.428014  0.202625 -0.149822  \n",
       "green_std  -0.419283 -0.341908  0.285902  0.232778  \n",
       "blue_std   -0.410031 -0.344916  0.257820  0.286950  \n",
       "f4         -0.168128  0.019897 -0.676992 -0.164267  \n",
       "f5         -0.465370 -0.252855 -0.580340 -0.261720  \n",
       "f6          1.000000  0.955913 -0.222358  0.096441  \n",
       "f7          0.955913  1.000000 -0.359375  0.019429  \n",
       "f8         -0.222358 -0.359375  1.000000  0.282852  \n",
       "label       0.096441  0.019429  0.282852  1.000000  "
      ]
     },
     "execution_count": 37,
     "metadata": {},
     "output_type": "execute_result"
    }
   ],
   "source": [
    "raw_data.corr(method ='pearson')"
   ]
  },
  {
   "cell_type": "markdown",
   "metadata": {
    "id": "tykbukJOs9oT"
   },
   "source": [
    "**Insights:**\n",
    "Less correlated features are:\n",
    "- green channel mean\n",
    "- red channel std\n",
    "- blue channel std\n",
    "- f5\n",
    "- f8\n",
    "\n",
    "Also f1 and f2 are mutually relative So one of them can be removed"
   ]
  },
  {
   "cell_type": "code",
   "execution_count": 74,
   "metadata": {
    "id": "9C4PKZKLs276"
   },
   "outputs": [],
   "source": [
    "cleaned_data = raw_data"
   ]
  },
  {
   "cell_type": "code",
   "execution_count": 75,
   "metadata": {
    "colab": {
     "base_uri": "https://localhost:8080/",
     "height": 1000
    },
    "id": "5YuECBs9taB2",
    "outputId": "659092be-fad9-4e71-aef0-f4da46785d46"
   },
   "outputs": [
    {
     "data": {
      "text/html": [
       "<div>\n",
       "<style scoped>\n",
       "    .dataframe tbody tr th:only-of-type {\n",
       "        vertical-align: middle;\n",
       "    }\n",
       "\n",
       "    .dataframe tbody tr th {\n",
       "        vertical-align: top;\n",
       "    }\n",
       "\n",
       "    .dataframe thead th {\n",
       "        text-align: right;\n",
       "    }\n",
       "</style>\n",
       "<table border=\"1\" class=\"dataframe\">\n",
       "  <thead>\n",
       "    <tr style=\"text-align: right;\">\n",
       "      <th></th>\n",
       "      <th>area</th>\n",
       "      <th>perimeter</th>\n",
       "      <th>red_mean</th>\n",
       "      <th>green_mean</th>\n",
       "      <th>blue_mean</th>\n",
       "      <th>f1</th>\n",
       "      <th>f2</th>\n",
       "      <th>red_std</th>\n",
       "      <th>green_std</th>\n",
       "      <th>blue_std</th>\n",
       "      <th>f4</th>\n",
       "      <th>f5</th>\n",
       "      <th>f6</th>\n",
       "      <th>f7</th>\n",
       "      <th>f8</th>\n",
       "      <th>label</th>\n",
       "    </tr>\n",
       "  </thead>\n",
       "  <tbody>\n",
       "    <tr>\n",
       "      <th>area</th>\n",
       "      <td>1.000000</td>\n",
       "      <td>0.878843</td>\n",
       "      <td>0.412529</td>\n",
       "      <td>0.458382</td>\n",
       "      <td>0.406890</td>\n",
       "      <td>0.300815</td>\n",
       "      <td>-0.300815</td>\n",
       "      <td>0.157759</td>\n",
       "      <td>0.085235</td>\n",
       "      <td>0.069237</td>\n",
       "      <td>-0.053835</td>\n",
       "      <td>0.122362</td>\n",
       "      <td>-0.546659</td>\n",
       "      <td>-0.572725</td>\n",
       "      <td>0.168848</td>\n",
       "      <td>-0.099216</td>\n",
       "    </tr>\n",
       "    <tr>\n",
       "      <th>perimeter</th>\n",
       "      <td>0.878843</td>\n",
       "      <td>1.000000</td>\n",
       "      <td>0.283858</td>\n",
       "      <td>0.301344</td>\n",
       "      <td>0.277562</td>\n",
       "      <td>0.170882</td>\n",
       "      <td>-0.170882</td>\n",
       "      <td>0.159844</td>\n",
       "      <td>0.109740</td>\n",
       "      <td>0.104308</td>\n",
       "      <td>0.002602</td>\n",
       "      <td>0.118905</td>\n",
       "      <td>-0.369693</td>\n",
       "      <td>-0.374929</td>\n",
       "      <td>0.113184</td>\n",
       "      <td>-0.061680</td>\n",
       "    </tr>\n",
       "    <tr>\n",
       "      <th>red_mean</th>\n",
       "      <td>0.412529</td>\n",
       "      <td>0.283858</td>\n",
       "      <td>1.000000</td>\n",
       "      <td>0.873240</td>\n",
       "      <td>0.887728</td>\n",
       "      <td>0.129082</td>\n",
       "      <td>-0.129082</td>\n",
       "      <td>0.788779</td>\n",
       "      <td>0.519859</td>\n",
       "      <td>0.574523</td>\n",
       "      <td>0.025375</td>\n",
       "      <td>0.236994</td>\n",
       "      <td>-0.788028</td>\n",
       "      <td>-0.794919</td>\n",
       "      <td>0.428375</td>\n",
       "      <td>-0.065759</td>\n",
       "    </tr>\n",
       "    <tr>\n",
       "      <th>green_mean</th>\n",
       "      <td>0.458382</td>\n",
       "      <td>0.301344</td>\n",
       "      <td>0.873240</td>\n",
       "      <td>1.000000</td>\n",
       "      <td>0.962464</td>\n",
       "      <td>0.477160</td>\n",
       "      <td>-0.477160</td>\n",
       "      <td>0.609913</td>\n",
       "      <td>0.659866</td>\n",
       "      <td>0.645145</td>\n",
       "      <td>0.043077</td>\n",
       "      <td>0.237477</td>\n",
       "      <td>-0.843482</td>\n",
       "      <td>-0.867009</td>\n",
       "      <td>0.480674</td>\n",
       "      <td>0.177487</td>\n",
       "    </tr>\n",
       "    <tr>\n",
       "      <th>blue_mean</th>\n",
       "      <td>0.406890</td>\n",
       "      <td>0.277562</td>\n",
       "      <td>0.887728</td>\n",
       "      <td>0.962464</td>\n",
       "      <td>1.000000</td>\n",
       "      <td>0.345627</td>\n",
       "      <td>-0.345627</td>\n",
       "      <td>0.642156</td>\n",
       "      <td>0.639513</td>\n",
       "      <td>0.716294</td>\n",
       "      <td>0.022985</td>\n",
       "      <td>0.192175</td>\n",
       "      <td>-0.784028</td>\n",
       "      <td>-0.818928</td>\n",
       "      <td>0.489104</td>\n",
       "      <td>0.230854</td>\n",
       "    </tr>\n",
       "    <tr>\n",
       "      <th>f1</th>\n",
       "      <td>0.300815</td>\n",
       "      <td>0.170882</td>\n",
       "      <td>0.129082</td>\n",
       "      <td>0.477160</td>\n",
       "      <td>0.345627</td>\n",
       "      <td>1.000000</td>\n",
       "      <td>-1.000000</td>\n",
       "      <td>0.000422</td>\n",
       "      <td>0.366794</td>\n",
       "      <td>0.235472</td>\n",
       "      <td>0.242435</td>\n",
       "      <td>0.333281</td>\n",
       "      <td>-0.484651</td>\n",
       "      <td>-0.471827</td>\n",
       "      <td>-0.002323</td>\n",
       "      <td>0.141234</td>\n",
       "    </tr>\n",
       "    <tr>\n",
       "      <th>f2</th>\n",
       "      <td>-0.300815</td>\n",
       "      <td>-0.170882</td>\n",
       "      <td>-0.129082</td>\n",
       "      <td>-0.477160</td>\n",
       "      <td>-0.345627</td>\n",
       "      <td>-1.000000</td>\n",
       "      <td>1.000000</td>\n",
       "      <td>-0.000422</td>\n",
       "      <td>-0.366794</td>\n",
       "      <td>-0.235472</td>\n",
       "      <td>-0.242435</td>\n",
       "      <td>-0.333281</td>\n",
       "      <td>0.484651</td>\n",
       "      <td>0.471827</td>\n",
       "      <td>0.002323</td>\n",
       "      <td>-0.141234</td>\n",
       "    </tr>\n",
       "    <tr>\n",
       "      <th>red_std</th>\n",
       "      <td>0.157759</td>\n",
       "      <td>0.159844</td>\n",
       "      <td>0.788779</td>\n",
       "      <td>0.609913</td>\n",
       "      <td>0.642156</td>\n",
       "      <td>0.000422</td>\n",
       "      <td>-0.000422</td>\n",
       "      <td>1.000000</td>\n",
       "      <td>0.737691</td>\n",
       "      <td>0.781612</td>\n",
       "      <td>0.389436</td>\n",
       "      <td>0.475817</td>\n",
       "      <td>-0.520525</td>\n",
       "      <td>-0.428014</td>\n",
       "      <td>0.202625</td>\n",
       "      <td>-0.149822</td>\n",
       "    </tr>\n",
       "    <tr>\n",
       "      <th>green_std</th>\n",
       "      <td>0.085235</td>\n",
       "      <td>0.109740</td>\n",
       "      <td>0.519859</td>\n",
       "      <td>0.659866</td>\n",
       "      <td>0.639513</td>\n",
       "      <td>0.366794</td>\n",
       "      <td>-0.366794</td>\n",
       "      <td>0.737691</td>\n",
       "      <td>1.000000</td>\n",
       "      <td>0.925187</td>\n",
       "      <td>0.428966</td>\n",
       "      <td>0.430273</td>\n",
       "      <td>-0.419283</td>\n",
       "      <td>-0.341908</td>\n",
       "      <td>0.285902</td>\n",
       "      <td>0.232778</td>\n",
       "    </tr>\n",
       "    <tr>\n",
       "      <th>blue_std</th>\n",
       "      <td>0.069237</td>\n",
       "      <td>0.104308</td>\n",
       "      <td>0.574523</td>\n",
       "      <td>0.645145</td>\n",
       "      <td>0.716294</td>\n",
       "      <td>0.235472</td>\n",
       "      <td>-0.235472</td>\n",
       "      <td>0.781612</td>\n",
       "      <td>0.925187</td>\n",
       "      <td>1.000000</td>\n",
       "      <td>0.417900</td>\n",
       "      <td>0.411454</td>\n",
       "      <td>-0.410031</td>\n",
       "      <td>-0.344916</td>\n",
       "      <td>0.257820</td>\n",
       "      <td>0.286950</td>\n",
       "    </tr>\n",
       "    <tr>\n",
       "      <th>f4</th>\n",
       "      <td>-0.053835</td>\n",
       "      <td>0.002602</td>\n",
       "      <td>0.025375</td>\n",
       "      <td>0.043077</td>\n",
       "      <td>0.022985</td>\n",
       "      <td>0.242435</td>\n",
       "      <td>-0.242435</td>\n",
       "      <td>0.389436</td>\n",
       "      <td>0.428966</td>\n",
       "      <td>0.417900</td>\n",
       "      <td>1.000000</td>\n",
       "      <td>0.922760</td>\n",
       "      <td>-0.168128</td>\n",
       "      <td>0.019897</td>\n",
       "      <td>-0.676992</td>\n",
       "      <td>-0.164267</td>\n",
       "    </tr>\n",
       "    <tr>\n",
       "      <th>f5</th>\n",
       "      <td>0.122362</td>\n",
       "      <td>0.118905</td>\n",
       "      <td>0.236994</td>\n",
       "      <td>0.237477</td>\n",
       "      <td>0.192175</td>\n",
       "      <td>0.333281</td>\n",
       "      <td>-0.333281</td>\n",
       "      <td>0.475817</td>\n",
       "      <td>0.430273</td>\n",
       "      <td>0.411454</td>\n",
       "      <td>0.922760</td>\n",
       "      <td>1.000000</td>\n",
       "      <td>-0.465370</td>\n",
       "      <td>-0.252855</td>\n",
       "      <td>-0.580340</td>\n",
       "      <td>-0.261720</td>\n",
       "    </tr>\n",
       "    <tr>\n",
       "      <th>f6</th>\n",
       "      <td>-0.546659</td>\n",
       "      <td>-0.369693</td>\n",
       "      <td>-0.788028</td>\n",
       "      <td>-0.843482</td>\n",
       "      <td>-0.784028</td>\n",
       "      <td>-0.484651</td>\n",
       "      <td>0.484651</td>\n",
       "      <td>-0.520525</td>\n",
       "      <td>-0.419283</td>\n",
       "      <td>-0.410031</td>\n",
       "      <td>-0.168128</td>\n",
       "      <td>-0.465370</td>\n",
       "      <td>1.000000</td>\n",
       "      <td>0.955913</td>\n",
       "      <td>-0.222358</td>\n",
       "      <td>0.096441</td>\n",
       "    </tr>\n",
       "    <tr>\n",
       "      <th>f7</th>\n",
       "      <td>-0.572725</td>\n",
       "      <td>-0.374929</td>\n",
       "      <td>-0.794919</td>\n",
       "      <td>-0.867009</td>\n",
       "      <td>-0.818928</td>\n",
       "      <td>-0.471827</td>\n",
       "      <td>0.471827</td>\n",
       "      <td>-0.428014</td>\n",
       "      <td>-0.341908</td>\n",
       "      <td>-0.344916</td>\n",
       "      <td>0.019897</td>\n",
       "      <td>-0.252855</td>\n",
       "      <td>0.955913</td>\n",
       "      <td>1.000000</td>\n",
       "      <td>-0.359375</td>\n",
       "      <td>0.019429</td>\n",
       "    </tr>\n",
       "    <tr>\n",
       "      <th>f8</th>\n",
       "      <td>0.168848</td>\n",
       "      <td>0.113184</td>\n",
       "      <td>0.428375</td>\n",
       "      <td>0.480674</td>\n",
       "      <td>0.489104</td>\n",
       "      <td>-0.002323</td>\n",
       "      <td>0.002323</td>\n",
       "      <td>0.202625</td>\n",
       "      <td>0.285902</td>\n",
       "      <td>0.257820</td>\n",
       "      <td>-0.676992</td>\n",
       "      <td>-0.580340</td>\n",
       "      <td>-0.222358</td>\n",
       "      <td>-0.359375</td>\n",
       "      <td>1.000000</td>\n",
       "      <td>0.282852</td>\n",
       "    </tr>\n",
       "    <tr>\n",
       "      <th>label</th>\n",
       "      <td>-0.099216</td>\n",
       "      <td>-0.061680</td>\n",
       "      <td>-0.065759</td>\n",
       "      <td>0.177487</td>\n",
       "      <td>0.230854</td>\n",
       "      <td>0.141234</td>\n",
       "      <td>-0.141234</td>\n",
       "      <td>-0.149822</td>\n",
       "      <td>0.232778</td>\n",
       "      <td>0.286950</td>\n",
       "      <td>-0.164267</td>\n",
       "      <td>-0.261720</td>\n",
       "      <td>0.096441</td>\n",
       "      <td>0.019429</td>\n",
       "      <td>0.282852</td>\n",
       "      <td>1.000000</td>\n",
       "    </tr>\n",
       "  </tbody>\n",
       "</table>\n",
       "</div>"
      ],
      "text/plain": [
       "                area  perimeter  red_mean  green_mean  blue_mean        f1  \\\n",
       "area        1.000000   0.878843  0.412529    0.458382   0.406890  0.300815   \n",
       "perimeter   0.878843   1.000000  0.283858    0.301344   0.277562  0.170882   \n",
       "red_mean    0.412529   0.283858  1.000000    0.873240   0.887728  0.129082   \n",
       "green_mean  0.458382   0.301344  0.873240    1.000000   0.962464  0.477160   \n",
       "blue_mean   0.406890   0.277562  0.887728    0.962464   1.000000  0.345627   \n",
       "f1          0.300815   0.170882  0.129082    0.477160   0.345627  1.000000   \n",
       "f2         -0.300815  -0.170882 -0.129082   -0.477160  -0.345627 -1.000000   \n",
       "red_std     0.157759   0.159844  0.788779    0.609913   0.642156  0.000422   \n",
       "green_std   0.085235   0.109740  0.519859    0.659866   0.639513  0.366794   \n",
       "blue_std    0.069237   0.104308  0.574523    0.645145   0.716294  0.235472   \n",
       "f4         -0.053835   0.002602  0.025375    0.043077   0.022985  0.242435   \n",
       "f5          0.122362   0.118905  0.236994    0.237477   0.192175  0.333281   \n",
       "f6         -0.546659  -0.369693 -0.788028   -0.843482  -0.784028 -0.484651   \n",
       "f7         -0.572725  -0.374929 -0.794919   -0.867009  -0.818928 -0.471827   \n",
       "f8          0.168848   0.113184  0.428375    0.480674   0.489104 -0.002323   \n",
       "label      -0.099216  -0.061680 -0.065759    0.177487   0.230854  0.141234   \n",
       "\n",
       "                  f2   red_std  green_std  blue_std        f4        f5  \\\n",
       "area       -0.300815  0.157759   0.085235  0.069237 -0.053835  0.122362   \n",
       "perimeter  -0.170882  0.159844   0.109740  0.104308  0.002602  0.118905   \n",
       "red_mean   -0.129082  0.788779   0.519859  0.574523  0.025375  0.236994   \n",
       "green_mean -0.477160  0.609913   0.659866  0.645145  0.043077  0.237477   \n",
       "blue_mean  -0.345627  0.642156   0.639513  0.716294  0.022985  0.192175   \n",
       "f1         -1.000000  0.000422   0.366794  0.235472  0.242435  0.333281   \n",
       "f2          1.000000 -0.000422  -0.366794 -0.235472 -0.242435 -0.333281   \n",
       "red_std    -0.000422  1.000000   0.737691  0.781612  0.389436  0.475817   \n",
       "green_std  -0.366794  0.737691   1.000000  0.925187  0.428966  0.430273   \n",
       "blue_std   -0.235472  0.781612   0.925187  1.000000  0.417900  0.411454   \n",
       "f4         -0.242435  0.389436   0.428966  0.417900  1.000000  0.922760   \n",
       "f5         -0.333281  0.475817   0.430273  0.411454  0.922760  1.000000   \n",
       "f6          0.484651 -0.520525  -0.419283 -0.410031 -0.168128 -0.465370   \n",
       "f7          0.471827 -0.428014  -0.341908 -0.344916  0.019897 -0.252855   \n",
       "f8          0.002323  0.202625   0.285902  0.257820 -0.676992 -0.580340   \n",
       "label      -0.141234 -0.149822   0.232778  0.286950 -0.164267 -0.261720   \n",
       "\n",
       "                  f6        f7        f8     label  \n",
       "area       -0.546659 -0.572725  0.168848 -0.099216  \n",
       "perimeter  -0.369693 -0.374929  0.113184 -0.061680  \n",
       "red_mean   -0.788028 -0.794919  0.428375 -0.065759  \n",
       "green_mean -0.843482 -0.867009  0.480674  0.177487  \n",
       "blue_mean  -0.784028 -0.818928  0.489104  0.230854  \n",
       "f1         -0.484651 -0.471827 -0.002323  0.141234  \n",
       "f2          0.484651  0.471827  0.002323 -0.141234  \n",
       "red_std    -0.520525 -0.428014  0.202625 -0.149822  \n",
       "green_std  -0.419283 -0.341908  0.285902  0.232778  \n",
       "blue_std   -0.410031 -0.344916  0.257820  0.286950  \n",
       "f4         -0.168128  0.019897 -0.676992 -0.164267  \n",
       "f5         -0.465370 -0.252855 -0.580340 -0.261720  \n",
       "f6          1.000000  0.955913 -0.222358  0.096441  \n",
       "f7          0.955913  1.000000 -0.359375  0.019429  \n",
       "f8         -0.222358 -0.359375  1.000000  0.282852  \n",
       "label       0.096441  0.019429  0.282852  1.000000  "
      ]
     },
     "execution_count": 75,
     "metadata": {},
     "output_type": "execute_result"
    }
   ],
   "source": [
    "cleaned_data.corr(method ='pearson')"
   ]
  },
  {
   "cell_type": "code",
   "execution_count": 76,
   "metadata": {
    "id": "nHFTe4TItiFJ"
   },
   "outputs": [],
   "source": [
    "cleaned_data = cleaned_data.dropna()"
   ]
  },
  {
   "cell_type": "code",
   "execution_count": 77,
   "metadata": {
    "colab": {
     "base_uri": "https://localhost:8080/"
    },
    "id": "1ns2yXu9uXnE",
    "outputId": "81b3083c-7b65-4923-ebe8-674259d14aa4"
   },
   "outputs": [
    {
     "data": {
      "text/plain": [
       "(4259, 16)"
      ]
     },
     "execution_count": 77,
     "metadata": {},
     "output_type": "execute_result"
    }
   ],
   "source": [
    "raw_data.shape"
   ]
  },
  {
   "cell_type": "code",
   "execution_count": 78,
   "metadata": {
    "colab": {
     "base_uri": "https://localhost:8080/"
    },
    "id": "X2iVldJpuZb5",
    "outputId": "44927c0c-ca20-4995-f579-8f113ea7d2f3"
   },
   "outputs": [
    {
     "data": {
      "text/plain": [
       "(4259, 16)"
      ]
     },
     "execution_count": 78,
     "metadata": {},
     "output_type": "execute_result"
    }
   ],
   "source": [
    "cleaned_data.shape"
   ]
  },
  {
   "cell_type": "code",
   "execution_count": 79,
   "metadata": {
    "id": "q1UEsRsTubX5"
   },
   "outputs": [],
   "source": [
    "from sklearn.model_selection import train_test_split\n",
    "from sklearn.metrics import accuracy_score\n",
    "from sklearn.preprocessing import StandardScaler\n",
    "from sklearn.decomposition import PCA\n",
    "from sklearn.svm import SVC\n",
    "from sklearn.metrics import roc_curve, auc\n",
    "from sklearn.model_selection import KFold \n"
   ]
  },
  {
   "cell_type": "code",
   "execution_count": 80,
   "metadata": {
    "id": "ZJg6iy3Mu72T"
   },
   "outputs": [],
   "source": [
    "df = cleaned_data.reset_index()"
   ]
  },
  {
   "cell_type": "code",
   "execution_count": 81,
   "metadata": {
    "colab": {
     "base_uri": "https://localhost:8080/"
    },
    "id": "3DvMWo8rvPW6",
    "outputId": "72d93ebe-2fbe-47b6-903a-ae58e46569e7"
   },
   "outputs": [
    {
     "name": "stdout",
     "output_type": "stream",
     "text": [
      "(4259, 15)\n",
      "(4259,)\n"
     ]
    }
   ],
   "source": [
    "X = df.drop(['index','label'],axis = 1, inplace=False)\n",
    "y = df['label']\n",
    "print(X.shape)\n",
    "print(y.shape)"
   ]
  },
  {
   "cell_type": "code",
   "execution_count": 82,
   "metadata": {
    "colab": {
     "base_uri": "https://localhost:8080/"
    },
    "id": "j723Yu4Xvx_r",
    "outputId": "7d68696b-7a50-4d90-a12e-c3e326ba15d6"
   },
   "outputs": [
    {
     "name": "stdout",
     "output_type": "stream",
     "text": [
      "Score of each fold - [0.8838028169014085, 0.8779342723004695, 0.8509389671361502, 0.8509389671361502, 0.863689776733255]\n",
      "Avg Score : 0.8654609600414865\n"
     ]
    }
   ],
   "source": [
    "k = 5\n",
    "kf = KFold(n_splits=k, random_state=9, shuffle = True)\n",
    "from sklearn.ensemble import RandomForestClassifier\n",
    "model = RandomForestClassifier(random_state = 50,n_estimators = 50,max_samples = 0.7)\n",
    " \n",
    "acc_score = []\n",
    "\n",
    "for train_index , test_index in kf.split(X):\n",
    "    X_train , X_test = X.iloc[train_index,:],X.iloc[test_index,:]\n",
    "    y_train , y_test = y[train_index] , y[test_index]\n",
    "    model = RandomForestClassifier(random_state = 50,n_estimators = 50,max_samples = 0.7)\n",
    "    model.fit(X_train,y_train)\n",
    "    pred_values = model.predict(X_test)            # classification\n",
    "    acc = accuracy_score(pred_values , y_test)     # Classification\n",
    "\n",
    "    #acc = model.score(X_test,y_test)                # Regression\n",
    "    \n",
    "    acc_score.append(acc)\n",
    "     \n",
    "avg_acc_score = sum(acc_score)/k\n",
    " \n",
    "print('Score of each fold - {}'.format(acc_score))\n",
    "print('Avg Score : {}'.format(avg_acc_score))"
   ]
  },
  {
   "cell_type": "markdown",
   "metadata": {
    "id": "jShjKvkbwtys"
   },
   "source": [
    "# **K- fold Cross validation accuracy:**\n",
    "# **0.870497738821671**"
   ]
  },
  {
   "cell_type": "markdown",
   "metadata": {
    "id": "MalrrV30xqn8"
   },
   "source": [
    "# ROC Curve"
   ]
  },
  {
   "cell_type": "code",
   "execution_count": 83,
   "metadata": {
    "colab": {
     "base_uri": "https://localhost:8080/",
     "height": 349
    },
    "id": "U_6DxxVXwmJP",
    "outputId": "a133289a-c71b-4af2-8e04-d36b24d2fc40"
   },
   "outputs": [
    {
     "data": {
      "image/png": "[encoded data removed]",
      "text/plain": [
       "<Figure size 432x288 with 1 Axes>"
      ]
     },
     "metadata": {
      "needs_background": "light"
     },
     "output_type": "display_data"
    }
   ],
   "source": [
    "import scikitplot as skplt\n",
    "import matplotlib.pyplot as plt\n",
    "\n",
    "y_true = y_test\n",
    "y_probas = model.predict_proba(X_test)\n",
    "skplt.metrics.plot_roc(y_true, y_probas)\n",
    "\n",
    "plt.show()"
   ]
  },
  {
   "cell_type": "code",
   "execution_count": 84,
   "metadata": {
    "colab": {
     "base_uri": "https://localhost:8080/",
     "height": 296
    },
    "id": "qw0YcxFQx3Mc",
    "outputId": "c83fbdcf-a67a-404f-e8dc-9c8473490392"
   },
   "outputs": [
    {
     "data": {
      "text/plain": [
       "<sklearn.metrics._plot.confusion_matrix.ConfusionMatrixDisplay at 0x7f3d10a29438>"
      ]
     },
     "execution_count": 84,
     "metadata": {},
     "output_type": "execute_result"
    },
    {
     "data": {
      "image/png": "[encoded data removed]",
      "text/plain": [
       "<Figure size 432x288 with 2 Axes>"
      ]
     },
     "metadata": {
      "needs_background": "light"
     },
     "output_type": "display_data"
    }
   ],
   "source": [
    "from sklearn.metrics import plot_confusion_matrix\n",
    "y_pred = model.predict(X_test)\n",
    "plot_confusion_matrix(model, X_test, y_test, values_format = 'd',cmap = 'Blues',display_labels = ['0','1','2','3'])"
   ]
  },
  {
   "cell_type": "code",
   "execution_count": 85,
   "metadata": {
    "colab": {
     "base_uri": "https://localhost:8080/"
    },
    "id": "Gref__vNyWqm",
    "outputId": "ba198a46-5398-482a-a509-72776333aa9d"
   },
   "outputs": [
    {
     "name": "stdout",
     "output_type": "stream",
     "text": [
      "              precision    recall  f1-score   support\n",
      "\n",
      "           0       0.87      0.89      0.88       294\n",
      "           1       0.85      0.67      0.75       201\n",
      "           2       0.81      0.92      0.86       167\n",
      "           3       0.92      0.97      0.95       189\n",
      "\n",
      "    accuracy                           0.86       851\n",
      "   macro avg       0.86      0.86      0.86       851\n",
      "weighted avg       0.86      0.86      0.86       851\n",
      "\n"
     ]
    }
   ],
   "source": [
    "from sklearn.metrics import classification_report\n",
    "\n",
    "print(classification_report(y_test, y_pred, [0,1,2,3]))"
   ]
  },
  {
   "cell_type": "markdown",
   "metadata": {
    "id": "DTaYkJYuzBly"
   },
   "source": [
    "# **F1 Score:**\n",
    "# **0.89**"
   ]
  },
  {
   "cell_type": "markdown",
   "metadata": {
    "id": "XEl3_kcUzXyY"
   },
   "source": [
    "# Deployment"
   ]
  },
  {
   "cell_type": "code",
   "execution_count": 86,
   "metadata": {
    "colab": {
     "base_uri": "https://localhost:8080/"
    },
    "id": "HY3YfG2py-Jf",
    "outputId": "1ae76c7e-aea2-4ecf-9da4-2c14477c7009"
   },
   "outputs": [
    {
     "name": "stdout",
     "output_type": "stream",
     "text": [
      "Training Score:  0.9978868278938718\n"
     ]
    }
   ],
   "source": [
    "from sklearn.ensemble import RandomForestClassifier\n",
    "lm = RandomForestClassifier(random_state = 50,n_estimators = 50,max_samples = 0.7)\n",
    "lm.fit(X,y)\n",
    "print('Training Score: ',lm.score(X,y))"
   ]
  },
  {
   "cell_type": "code",
   "execution_count": 87,
   "metadata": {
    "colab": {
     "base_uri": "https://localhost:8080/"
    },
    "id": "LlyCB8PCy1qh",
    "outputId": "2cc193e3-7c9e-451e-ab77-0df761e46954"
   },
   "outputs": [
    {
     "data": {
      "text/plain": [
       "array([0.05520544, 0.03797776, 0.05342042, 0.05036077, 0.06510753,\n",
       "       0.07315376, 0.07208629, 0.07095949, 0.07089202, 0.08191694,\n",
       "       0.07194256, 0.08373639, 0.04502219, 0.05408765, 0.11413078])"
      ]
     },
     "execution_count": 87,
     "metadata": {},
     "output_type": "execute_result"
    }
   ],
   "source": [
    "lm.feature_importances_"
   ]
  },
  {
   "cell_type": "markdown",
   "metadata": {
    "id": "WyNxpJvA0ycq"
   },
   "source": [
    "# Selected Features"
   ]
  },
  {
   "cell_type": "code",
   "execution_count": 88,
   "metadata": {
    "colab": {
     "base_uri": "https://localhost:8080/"
    },
    "id": "bb17TIJPz5jJ",
    "outputId": "a4d12a70-dffc-46c9-9374-c36c142227d2"
   },
   "outputs": [
    {
     "data": {
      "text/plain": [
       "Index(['area', 'perimeter', 'red_mean', 'green_mean', 'blue_mean', 'f1', 'f2',\n",
       "       'red_std', 'green_std', 'blue_std', 'f4', 'f5', 'f6', 'f7', 'f8'],\n",
       "      dtype='object')"
      ]
     },
     "execution_count": 88,
     "metadata": {},
     "output_type": "execute_result"
    }
   ],
   "source": [
    "X.columns"
   ]
  },
  {
   "cell_type": "code",
   "execution_count": null,
   "metadata": {},
   "outputs": [],
   "source": []
  },
  {
   "cell_type": "code",
   "execution_count": null,
   "metadata": {},
   "outputs": [],
   "source": []
  }
 ],
 "metadata": {
  "colab": {
   "name": "Apple_DA_and_MD.ipynb",
   "provenance": []
  },
  "interpreter": {
   "hash": "bb5a7a19e023c4cfaac4677f5748687784b46986f847b8a1b6d6751c054faa4b"
  },
  "kernelspec": {
   "display_name": "plant_env",
   "language": "python",
   "name": "plant_env"
  },
  "language_info": {
   "codemirror_mode": {
    "name": "ipython",
    "version": 3
   },
   "file_extension": ".py",
   "mimetype": "text/x-python",
   "name": "python",
   "nbconvert_exporter": "python",
   "pygments_lexer": "ipython3",
   "version": "3.6.9"
  }
 },
 "nbformat": 4,
 "nbformat_minor": 1
}
