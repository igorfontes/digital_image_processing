{
 "cells": [
  {
   "cell_type": "code",
   "execution_count": 1,
   "metadata": {
    "id": "8Cg54vyTot1W"
   },
   "outputs": [],
   "source": [
    "import pandas as pd\n",
    "import matplotlib.pyplot as plt\n",
    "import numpy as np\n",
    "import seaborn as sns\n",
    "import warnings\n",
    "warnings.filterwarnings('ignore')"
   ]
  },
  {
   "cell_type": "code",
   "execution_count": 2,
   "metadata": {
    "id": "4-v_yHgEowG5"
   },
   "outputs": [],
   "source": [
    "#!pip install openpyxl\n",
    "raw_data = pd.read_excel('../../corn_dataset_v3.xlsx', engine='openpyxl')"
   ]
  },
  {
   "cell_type": "code",
   "execution_count": 3,
   "metadata": {
    "colab": {
     "base_uri": "https://localhost:8080/"
    },
    "id": "d-UxkVS-sCVa",
    "outputId": "6a77717b-e608-4356-e740-910a8cec0159"
   },
   "outputs": [
    {
     "data": {
      "text/plain": [
       "Unnamed: 0      int64\n",
       "area          float64\n",
       "perimeter     float64\n",
       "red_mean      float64\n",
       "green_mean    float64\n",
       "blue_mean     float64\n",
       "f1            float64\n",
       "f2            float64\n",
       "red_std       float64\n",
       "green_std     float64\n",
       "blue_std      float64\n",
       "f4            float64\n",
       "f5            float64\n",
       "f6            float64\n",
       "f7            float64\n",
       "f8            float64\n",
       "label           int64\n",
       "dtype: object"
      ]
     },
     "execution_count": 3,
     "metadata": {},
     "output_type": "execute_result"
    }
   ],
   "source": [
    "raw_data.dtypes"
   ]
  },
  {
   "cell_type": "code",
   "execution_count": 4,
   "metadata": {
    "id": "6rODIXAEsIiK"
   },
   "outputs": [],
   "source": [
    "raw_data.drop(['Unnamed: 0'],axis = 1, inplace=True)"
   ]
  },
  {
   "cell_type": "code",
   "execution_count": 5,
   "metadata": {
    "colab": {
     "base_uri": "https://localhost:8080/"
    },
    "id": "f3T6y1gVsT2p",
    "outputId": "ab01a558-d67c-4f56-92d5-52ca32f22a78"
   },
   "outputs": [
    {
     "data": {
      "text/plain": [
       "Index(['area', 'perimeter', 'red_mean', 'green_mean', 'blue_mean', 'f1', 'f2',\n",
       "       'red_std', 'green_std', 'blue_std', 'f4', 'f5', 'f6', 'f7', 'f8',\n",
       "       'label'],\n",
       "      dtype='object')"
      ]
     },
     "execution_count": 5,
     "metadata": {},
     "output_type": "execute_result"
    }
   ],
   "source": [
    "raw_data.columns"
   ]
  },
  {
   "cell_type": "code",
   "execution_count": 6,
   "metadata": {
    "colab": {
     "base_uri": "https://localhost:8080/",
     "height": 1000
    },
    "id": "48HQEVsXsWFp",
    "outputId": "69917675-7ac8-48a3-9a77-5f93eeecf880"
   },
   "outputs": [
    {
     "data": {
      "text/html": [
       "<div>\n",
       "<style scoped>\n",
       "    .dataframe tbody tr th:only-of-type {\n",
       "        vertical-align: middle;\n",
       "    }\n",
       "\n",
       "    .dataframe tbody tr th {\n",
       "        vertical-align: top;\n",
       "    }\n",
       "\n",
       "    .dataframe thead th {\n",
       "        text-align: right;\n",
       "    }\n",
       "</style>\n",
       "<table border=\"1\" class=\"dataframe\">\n",
       "  <thead>\n",
       "    <tr style=\"text-align: right;\">\n",
       "      <th></th>\n",
       "      <th>area</th>\n",
       "      <th>perimeter</th>\n",
       "      <th>red_mean</th>\n",
       "      <th>green_mean</th>\n",
       "      <th>blue_mean</th>\n",
       "      <th>f1</th>\n",
       "      <th>f2</th>\n",
       "      <th>red_std</th>\n",
       "      <th>green_std</th>\n",
       "      <th>blue_std</th>\n",
       "      <th>f4</th>\n",
       "      <th>f5</th>\n",
       "      <th>f6</th>\n",
       "      <th>f7</th>\n",
       "      <th>f8</th>\n",
       "      <th>label</th>\n",
       "    </tr>\n",
       "  </thead>\n",
       "  <tbody>\n",
       "    <tr>\n",
       "      <th>area</th>\n",
       "      <td>1.000000</td>\n",
       "      <td>0.817088</td>\n",
       "      <td>0.598946</td>\n",
       "      <td>0.605856</td>\n",
       "      <td>0.609756</td>\n",
       "      <td>0.559859</td>\n",
       "      <td>-0.559859</td>\n",
       "      <td>0.335464</td>\n",
       "      <td>0.248454</td>\n",
       "      <td>0.314615</td>\n",
       "      <td>0.280324</td>\n",
       "      <td>0.433182</td>\n",
       "      <td>-0.621775</td>\n",
       "      <td>-0.637314</td>\n",
       "      <td>0.324725</td>\n",
       "      <td>-0.076823</td>\n",
       "    </tr>\n",
       "    <tr>\n",
       "      <th>perimeter</th>\n",
       "      <td>0.817088</td>\n",
       "      <td>1.000000</td>\n",
       "      <td>0.286155</td>\n",
       "      <td>0.290316</td>\n",
       "      <td>0.296833</td>\n",
       "      <td>0.263363</td>\n",
       "      <td>-0.263363</td>\n",
       "      <td>0.156160</td>\n",
       "      <td>0.110952</td>\n",
       "      <td>0.147920</td>\n",
       "      <td>0.154814</td>\n",
       "      <td>0.221285</td>\n",
       "      <td>-0.305079</td>\n",
       "      <td>-0.311309</td>\n",
       "      <td>0.144217</td>\n",
       "      <td>-0.017196</td>\n",
       "    </tr>\n",
       "    <tr>\n",
       "      <th>red_mean</th>\n",
       "      <td>0.598946</td>\n",
       "      <td>0.286155</td>\n",
       "      <td>1.000000</td>\n",
       "      <td>0.972916</td>\n",
       "      <td>0.957056</td>\n",
       "      <td>0.819826</td>\n",
       "      <td>-0.819826</td>\n",
       "      <td>0.755259</td>\n",
       "      <td>0.642190</td>\n",
       "      <td>0.678105</td>\n",
       "      <td>0.511414</td>\n",
       "      <td>0.590294</td>\n",
       "      <td>-0.851443</td>\n",
       "      <td>-0.886696</td>\n",
       "      <td>0.573362</td>\n",
       "      <td>-0.398381</td>\n",
       "    </tr>\n",
       "    <tr>\n",
       "      <th>green_mean</th>\n",
       "      <td>0.605856</td>\n",
       "      <td>0.290316</td>\n",
       "      <td>0.972916</td>\n",
       "      <td>1.000000</td>\n",
       "      <td>0.975946</td>\n",
       "      <td>0.898974</td>\n",
       "      <td>-0.898974</td>\n",
       "      <td>0.772174</td>\n",
       "      <td>0.697556</td>\n",
       "      <td>0.721115</td>\n",
       "      <td>0.544785</td>\n",
       "      <td>0.630050</td>\n",
       "      <td>-0.895726</td>\n",
       "      <td>-0.926611</td>\n",
       "      <td>0.612444</td>\n",
       "      <td>-0.445313</td>\n",
       "    </tr>\n",
       "    <tr>\n",
       "      <th>blue_mean</th>\n",
       "      <td>0.609756</td>\n",
       "      <td>0.296833</td>\n",
       "      <td>0.957056</td>\n",
       "      <td>0.975946</td>\n",
       "      <td>1.000000</td>\n",
       "      <td>0.824725</td>\n",
       "      <td>-0.824725</td>\n",
       "      <td>0.791278</td>\n",
       "      <td>0.704252</td>\n",
       "      <td>0.769171</td>\n",
       "      <td>0.628417</td>\n",
       "      <td>0.717115</td>\n",
       "      <td>-0.923167</td>\n",
       "      <td>-0.932848</td>\n",
       "      <td>0.600799</td>\n",
       "      <td>-0.341560</td>\n",
       "    </tr>\n",
       "    <tr>\n",
       "      <th>f1</th>\n",
       "      <td>0.559859</td>\n",
       "      <td>0.263363</td>\n",
       "      <td>0.819826</td>\n",
       "      <td>0.898974</td>\n",
       "      <td>0.824725</td>\n",
       "      <td>1.000000</td>\n",
       "      <td>-1.000000</td>\n",
       "      <td>0.654169</td>\n",
       "      <td>0.633768</td>\n",
       "      <td>0.610000</td>\n",
       "      <td>0.414413</td>\n",
       "      <td>0.537428</td>\n",
       "      <td>-0.839700</td>\n",
       "      <td>-0.874919</td>\n",
       "      <td>0.598260</td>\n",
       "      <td>-0.439053</td>\n",
       "    </tr>\n",
       "    <tr>\n",
       "      <th>f2</th>\n",
       "      <td>-0.559859</td>\n",
       "      <td>-0.263363</td>\n",
       "      <td>-0.819826</td>\n",
       "      <td>-0.898974</td>\n",
       "      <td>-0.824725</td>\n",
       "      <td>-1.000000</td>\n",
       "      <td>1.000000</td>\n",
       "      <td>-0.654169</td>\n",
       "      <td>-0.633768</td>\n",
       "      <td>-0.610000</td>\n",
       "      <td>-0.414413</td>\n",
       "      <td>-0.537428</td>\n",
       "      <td>0.839700</td>\n",
       "      <td>0.874919</td>\n",
       "      <td>-0.598260</td>\n",
       "      <td>0.439053</td>\n",
       "    </tr>\n",
       "    <tr>\n",
       "      <th>red_std</th>\n",
       "      <td>0.335464</td>\n",
       "      <td>0.156160</td>\n",
       "      <td>0.755259</td>\n",
       "      <td>0.772174</td>\n",
       "      <td>0.791278</td>\n",
       "      <td>0.654169</td>\n",
       "      <td>-0.654169</td>\n",
       "      <td>1.000000</td>\n",
       "      <td>0.965402</td>\n",
       "      <td>0.967624</td>\n",
       "      <td>0.717422</td>\n",
       "      <td>0.675686</td>\n",
       "      <td>-0.770658</td>\n",
       "      <td>-0.756371</td>\n",
       "      <td>0.718181</td>\n",
       "      <td>-0.322009</td>\n",
       "    </tr>\n",
       "    <tr>\n",
       "      <th>green_std</th>\n",
       "      <td>0.248454</td>\n",
       "      <td>0.110952</td>\n",
       "      <td>0.642190</td>\n",
       "      <td>0.697556</td>\n",
       "      <td>0.704252</td>\n",
       "      <td>0.633768</td>\n",
       "      <td>-0.633768</td>\n",
       "      <td>0.965402</td>\n",
       "      <td>1.000000</td>\n",
       "      <td>0.968264</td>\n",
       "      <td>0.679154</td>\n",
       "      <td>0.613140</td>\n",
       "      <td>-0.698600</td>\n",
       "      <td>-0.683272</td>\n",
       "      <td>0.740936</td>\n",
       "      <td>-0.354537</td>\n",
       "    </tr>\n",
       "    <tr>\n",
       "      <th>blue_std</th>\n",
       "      <td>0.314615</td>\n",
       "      <td>0.147920</td>\n",
       "      <td>0.678105</td>\n",
       "      <td>0.721115</td>\n",
       "      <td>0.769171</td>\n",
       "      <td>0.610000</td>\n",
       "      <td>-0.610000</td>\n",
       "      <td>0.967624</td>\n",
       "      <td>0.968264</td>\n",
       "      <td>1.000000</td>\n",
       "      <td>0.756746</td>\n",
       "      <td>0.720278</td>\n",
       "      <td>-0.769318</td>\n",
       "      <td>-0.737648</td>\n",
       "      <td>0.730115</td>\n",
       "      <td>-0.248542</td>\n",
       "    </tr>\n",
       "    <tr>\n",
       "      <th>f4</th>\n",
       "      <td>0.280324</td>\n",
       "      <td>0.154814</td>\n",
       "      <td>0.511414</td>\n",
       "      <td>0.544785</td>\n",
       "      <td>0.628417</td>\n",
       "      <td>0.414413</td>\n",
       "      <td>-0.414413</td>\n",
       "      <td>0.717422</td>\n",
       "      <td>0.679154</td>\n",
       "      <td>0.756746</td>\n",
       "      <td>1.000000</td>\n",
       "      <td>0.932239</td>\n",
       "      <td>-0.699500</td>\n",
       "      <td>-0.611963</td>\n",
       "      <td>0.395619</td>\n",
       "      <td>-0.173919</td>\n",
       "    </tr>\n",
       "    <tr>\n",
       "      <th>f5</th>\n",
       "      <td>0.433182</td>\n",
       "      <td>0.221285</td>\n",
       "      <td>0.590294</td>\n",
       "      <td>0.630050</td>\n",
       "      <td>0.717115</td>\n",
       "      <td>0.537428</td>\n",
       "      <td>-0.537428</td>\n",
       "      <td>0.675686</td>\n",
       "      <td>0.613140</td>\n",
       "      <td>0.720278</td>\n",
       "      <td>0.932239</td>\n",
       "      <td>1.000000</td>\n",
       "      <td>-0.848020</td>\n",
       "      <td>-0.754554</td>\n",
       "      <td>0.430886</td>\n",
       "      <td>-0.090388</td>\n",
       "    </tr>\n",
       "    <tr>\n",
       "      <th>f6</th>\n",
       "      <td>-0.621775</td>\n",
       "      <td>-0.305079</td>\n",
       "      <td>-0.851443</td>\n",
       "      <td>-0.895726</td>\n",
       "      <td>-0.923167</td>\n",
       "      <td>-0.839700</td>\n",
       "      <td>0.839700</td>\n",
       "      <td>-0.770658</td>\n",
       "      <td>-0.698600</td>\n",
       "      <td>-0.769318</td>\n",
       "      <td>-0.699500</td>\n",
       "      <td>-0.848020</td>\n",
       "      <td>1.000000</td>\n",
       "      <td>0.972765</td>\n",
       "      <td>-0.619831</td>\n",
       "      <td>0.224093</td>\n",
       "    </tr>\n",
       "    <tr>\n",
       "      <th>f7</th>\n",
       "      <td>-0.637314</td>\n",
       "      <td>-0.311309</td>\n",
       "      <td>-0.886696</td>\n",
       "      <td>-0.926611</td>\n",
       "      <td>-0.932848</td>\n",
       "      <td>-0.874919</td>\n",
       "      <td>0.874919</td>\n",
       "      <td>-0.756371</td>\n",
       "      <td>-0.683272</td>\n",
       "      <td>-0.737648</td>\n",
       "      <td>-0.611963</td>\n",
       "      <td>-0.754554</td>\n",
       "      <td>0.972765</td>\n",
       "      <td>1.000000</td>\n",
       "      <td>-0.646508</td>\n",
       "      <td>0.275546</td>\n",
       "    </tr>\n",
       "    <tr>\n",
       "      <th>f8</th>\n",
       "      <td>0.324725</td>\n",
       "      <td>0.144217</td>\n",
       "      <td>0.573362</td>\n",
       "      <td>0.612444</td>\n",
       "      <td>0.600799</td>\n",
       "      <td>0.598260</td>\n",
       "      <td>-0.598260</td>\n",
       "      <td>0.718181</td>\n",
       "      <td>0.740936</td>\n",
       "      <td>0.730115</td>\n",
       "      <td>0.395619</td>\n",
       "      <td>0.430886</td>\n",
       "      <td>-0.619831</td>\n",
       "      <td>-0.646508</td>\n",
       "      <td>1.000000</td>\n",
       "      <td>-0.237528</td>\n",
       "    </tr>\n",
       "    <tr>\n",
       "      <th>label</th>\n",
       "      <td>-0.076823</td>\n",
       "      <td>-0.017196</td>\n",
       "      <td>-0.398381</td>\n",
       "      <td>-0.445313</td>\n",
       "      <td>-0.341560</td>\n",
       "      <td>-0.439053</td>\n",
       "      <td>0.439053</td>\n",
       "      <td>-0.322009</td>\n",
       "      <td>-0.354537</td>\n",
       "      <td>-0.248542</td>\n",
       "      <td>-0.173919</td>\n",
       "      <td>-0.090388</td>\n",
       "      <td>0.224093</td>\n",
       "      <td>0.275546</td>\n",
       "      <td>-0.237528</td>\n",
       "      <td>1.000000</td>\n",
       "    </tr>\n",
       "  </tbody>\n",
       "</table>\n",
       "</div>"
      ],
      "text/plain": [
       "                area  perimeter  red_mean  green_mean  blue_mean        f1  \\\n",
       "area        1.000000   0.817088  0.598946    0.605856   0.609756  0.559859   \n",
       "perimeter   0.817088   1.000000  0.286155    0.290316   0.296833  0.263363   \n",
       "red_mean    0.598946   0.286155  1.000000    0.972916   0.957056  0.819826   \n",
       "green_mean  0.605856   0.290316  0.972916    1.000000   0.975946  0.898974   \n",
       "blue_mean   0.609756   0.296833  0.957056    0.975946   1.000000  0.824725   \n",
       "f1          0.559859   0.263363  0.819826    0.898974   0.824725  1.000000   \n",
       "f2         -0.559859  -0.263363 -0.819826   -0.898974  -0.824725 -1.000000   \n",
       "red_std     0.335464   0.156160  0.755259    0.772174   0.791278  0.654169   \n",
       "green_std   0.248454   0.110952  0.642190    0.697556   0.704252  0.633768   \n",
       "blue_std    0.314615   0.147920  0.678105    0.721115   0.769171  0.610000   \n",
       "f4          0.280324   0.154814  0.511414    0.544785   0.628417  0.414413   \n",
       "f5          0.433182   0.221285  0.590294    0.630050   0.717115  0.537428   \n",
       "f6         -0.621775  -0.305079 -0.851443   -0.895726  -0.923167 -0.839700   \n",
       "f7         -0.637314  -0.311309 -0.886696   -0.926611  -0.932848 -0.874919   \n",
       "f8          0.324725   0.144217  0.573362    0.612444   0.600799  0.598260   \n",
       "label      -0.076823  -0.017196 -0.398381   -0.445313  -0.341560 -0.439053   \n",
       "\n",
       "                  f2   red_std  green_std  blue_std        f4        f5  \\\n",
       "area       -0.559859  0.335464   0.248454  0.314615  0.280324  0.433182   \n",
       "perimeter  -0.263363  0.156160   0.110952  0.147920  0.154814  0.221285   \n",
       "red_mean   -0.819826  0.755259   0.642190  0.678105  0.511414  0.590294   \n",
       "green_mean -0.898974  0.772174   0.697556  0.721115  0.544785  0.630050   \n",
       "blue_mean  -0.824725  0.791278   0.704252  0.769171  0.628417  0.717115   \n",
       "f1         -1.000000  0.654169   0.633768  0.610000  0.414413  0.537428   \n",
       "f2          1.000000 -0.654169  -0.633768 -0.610000 -0.414413 -0.537428   \n",
       "red_std    -0.654169  1.000000   0.965402  0.967624  0.717422  0.675686   \n",
       "green_std  -0.633768  0.965402   1.000000  0.968264  0.679154  0.613140   \n",
       "blue_std   -0.610000  0.967624   0.968264  1.000000  0.756746  0.720278   \n",
       "f4         -0.414413  0.717422   0.679154  0.756746  1.000000  0.932239   \n",
       "f5         -0.537428  0.675686   0.613140  0.720278  0.932239  1.000000   \n",
       "f6          0.839700 -0.770658  -0.698600 -0.769318 -0.699500 -0.848020   \n",
       "f7          0.874919 -0.756371  -0.683272 -0.737648 -0.611963 -0.754554   \n",
       "f8         -0.598260  0.718181   0.740936  0.730115  0.395619  0.430886   \n",
       "label       0.439053 -0.322009  -0.354537 -0.248542 -0.173919 -0.090388   \n",
       "\n",
       "                  f6        f7        f8     label  \n",
       "area       -0.621775 -0.637314  0.324725 -0.076823  \n",
       "perimeter  -0.305079 -0.311309  0.144217 -0.017196  \n",
       "red_mean   -0.851443 -0.886696  0.573362 -0.398381  \n",
       "green_mean -0.895726 -0.926611  0.612444 -0.445313  \n",
       "blue_mean  -0.923167 -0.932848  0.600799 -0.341560  \n",
       "f1         -0.839700 -0.874919  0.598260 -0.439053  \n",
       "f2          0.839700  0.874919 -0.598260  0.439053  \n",
       "red_std    -0.770658 -0.756371  0.718181 -0.322009  \n",
       "green_std  -0.698600 -0.683272  0.740936 -0.354537  \n",
       "blue_std   -0.769318 -0.737648  0.730115 -0.248542  \n",
       "f4         -0.699500 -0.611963  0.395619 -0.173919  \n",
       "f5         -0.848020 -0.754554  0.430886 -0.090388  \n",
       "f6          1.000000  0.972765 -0.619831  0.224093  \n",
       "f7          0.972765  1.000000 -0.646508  0.275546  \n",
       "f8         -0.619831 -0.646508  1.000000 -0.237528  \n",
       "label       0.224093  0.275546 -0.237528  1.000000  "
      ]
     },
     "execution_count": 6,
     "metadata": {},
     "output_type": "execute_result"
    }
   ],
   "source": [
    "raw_data.corr(method ='pearson')"
   ]
  },
  {
   "cell_type": "markdown",
   "metadata": {
    "id": "tykbukJOs9oT"
   },
   "source": [
    "**Insights:**\n",
    "Less correlated features are:\n",
    "- area\n",
    "- perimeter\n",
    "- green channel std\n",
    "- f5\n",
    "- f6\n",
    "- f4\n",
    "\n",
    "Also f1 and f2 are mutually relative So one of them can be removed"
   ]
  },
  {
   "cell_type": "code",
   "execution_count": 7,
   "metadata": {
    "id": "9C4PKZKLs276"
   },
   "outputs": [],
   "source": [
    "cleaned_data = raw_data.drop(['area', 'perimeter', 'green_std', 'f4', 'f5', 'f6','f1'],axis = 1, inplace=False)"
   ]
  },
  {
   "cell_type": "code",
   "execution_count": 8,
   "metadata": {
    "colab": {
     "base_uri": "https://localhost:8080/",
     "height": 1000
    },
    "id": "5YuECBs9taB2",
    "outputId": "659092be-fad9-4e71-aef0-f4da46785d46"
   },
   "outputs": [
    {
     "data": {
      "text/html": [
       "<div>\n",
       "<style scoped>\n",
       "    .dataframe tbody tr th:only-of-type {\n",
       "        vertical-align: middle;\n",
       "    }\n",
       "\n",
       "    .dataframe tbody tr th {\n",
       "        vertical-align: top;\n",
       "    }\n",
       "\n",
       "    .dataframe thead th {\n",
       "        text-align: right;\n",
       "    }\n",
       "</style>\n",
       "<table border=\"1\" class=\"dataframe\">\n",
       "  <thead>\n",
       "    <tr style=\"text-align: right;\">\n",
       "      <th></th>\n",
       "      <th>red_mean</th>\n",
       "      <th>green_mean</th>\n",
       "      <th>blue_mean</th>\n",
       "      <th>f2</th>\n",
       "      <th>red_std</th>\n",
       "      <th>blue_std</th>\n",
       "      <th>f7</th>\n",
       "      <th>f8</th>\n",
       "      <th>label</th>\n",
       "    </tr>\n",
       "  </thead>\n",
       "  <tbody>\n",
       "    <tr>\n",
       "      <th>red_mean</th>\n",
       "      <td>1.000000</td>\n",
       "      <td>0.972916</td>\n",
       "      <td>0.957056</td>\n",
       "      <td>-0.819826</td>\n",
       "      <td>0.755259</td>\n",
       "      <td>0.678105</td>\n",
       "      <td>-0.886696</td>\n",
       "      <td>0.573362</td>\n",
       "      <td>-0.398381</td>\n",
       "    </tr>\n",
       "    <tr>\n",
       "      <th>green_mean</th>\n",
       "      <td>0.972916</td>\n",
       "      <td>1.000000</td>\n",
       "      <td>0.975946</td>\n",
       "      <td>-0.898974</td>\n",
       "      <td>0.772174</td>\n",
       "      <td>0.721115</td>\n",
       "      <td>-0.926611</td>\n",
       "      <td>0.612444</td>\n",
       "      <td>-0.445313</td>\n",
       "    </tr>\n",
       "    <tr>\n",
       "      <th>blue_mean</th>\n",
       "      <td>0.957056</td>\n",
       "      <td>0.975946</td>\n",
       "      <td>1.000000</td>\n",
       "      <td>-0.824725</td>\n",
       "      <td>0.791278</td>\n",
       "      <td>0.769171</td>\n",
       "      <td>-0.932848</td>\n",
       "      <td>0.600799</td>\n",
       "      <td>-0.341560</td>\n",
       "    </tr>\n",
       "    <tr>\n",
       "      <th>f2</th>\n",
       "      <td>-0.819826</td>\n",
       "      <td>-0.898974</td>\n",
       "      <td>-0.824725</td>\n",
       "      <td>1.000000</td>\n",
       "      <td>-0.654169</td>\n",
       "      <td>-0.610000</td>\n",
       "      <td>0.874919</td>\n",
       "      <td>-0.598260</td>\n",
       "      <td>0.439053</td>\n",
       "    </tr>\n",
       "    <tr>\n",
       "      <th>red_std</th>\n",
       "      <td>0.755259</td>\n",
       "      <td>0.772174</td>\n",
       "      <td>0.791278</td>\n",
       "      <td>-0.654169</td>\n",
       "      <td>1.000000</td>\n",
       "      <td>0.967624</td>\n",
       "      <td>-0.756371</td>\n",
       "      <td>0.718181</td>\n",
       "      <td>-0.322009</td>\n",
       "    </tr>\n",
       "    <tr>\n",
       "      <th>blue_std</th>\n",
       "      <td>0.678105</td>\n",
       "      <td>0.721115</td>\n",
       "      <td>0.769171</td>\n",
       "      <td>-0.610000</td>\n",
       "      <td>0.967624</td>\n",
       "      <td>1.000000</td>\n",
       "      <td>-0.737648</td>\n",
       "      <td>0.730115</td>\n",
       "      <td>-0.248542</td>\n",
       "    </tr>\n",
       "    <tr>\n",
       "      <th>f7</th>\n",
       "      <td>-0.886696</td>\n",
       "      <td>-0.926611</td>\n",
       "      <td>-0.932848</td>\n",
       "      <td>0.874919</td>\n",
       "      <td>-0.756371</td>\n",
       "      <td>-0.737648</td>\n",
       "      <td>1.000000</td>\n",
       "      <td>-0.646508</td>\n",
       "      <td>0.275546</td>\n",
       "    </tr>\n",
       "    <tr>\n",
       "      <th>f8</th>\n",
       "      <td>0.573362</td>\n",
       "      <td>0.612444</td>\n",
       "      <td>0.600799</td>\n",
       "      <td>-0.598260</td>\n",
       "      <td>0.718181</td>\n",
       "      <td>0.730115</td>\n",
       "      <td>-0.646508</td>\n",
       "      <td>1.000000</td>\n",
       "      <td>-0.237528</td>\n",
       "    </tr>\n",
       "    <tr>\n",
       "      <th>label</th>\n",
       "      <td>-0.398381</td>\n",
       "      <td>-0.445313</td>\n",
       "      <td>-0.341560</td>\n",
       "      <td>0.439053</td>\n",
       "      <td>-0.322009</td>\n",
       "      <td>-0.248542</td>\n",
       "      <td>0.275546</td>\n",
       "      <td>-0.237528</td>\n",
       "      <td>1.000000</td>\n",
       "    </tr>\n",
       "  </tbody>\n",
       "</table>\n",
       "</div>"
      ],
      "text/plain": [
       "            red_mean  green_mean  blue_mean        f2   red_std  blue_std  \\\n",
       "red_mean    1.000000    0.972916   0.957056 -0.819826  0.755259  0.678105   \n",
       "green_mean  0.972916    1.000000   0.975946 -0.898974  0.772174  0.721115   \n",
       "blue_mean   0.957056    0.975946   1.000000 -0.824725  0.791278  0.769171   \n",
       "f2         -0.819826   -0.898974  -0.824725  1.000000 -0.654169 -0.610000   \n",
       "red_std     0.755259    0.772174   0.791278 -0.654169  1.000000  0.967624   \n",
       "blue_std    0.678105    0.721115   0.769171 -0.610000  0.967624  1.000000   \n",
       "f7         -0.886696   -0.926611  -0.932848  0.874919 -0.756371 -0.737648   \n",
       "f8          0.573362    0.612444   0.600799 -0.598260  0.718181  0.730115   \n",
       "label      -0.398381   -0.445313  -0.341560  0.439053 -0.322009 -0.248542   \n",
       "\n",
       "                  f7        f8     label  \n",
       "red_mean   -0.886696  0.573362 -0.398381  \n",
       "green_mean -0.926611  0.612444 -0.445313  \n",
       "blue_mean  -0.932848  0.600799 -0.341560  \n",
       "f2          0.874919 -0.598260  0.439053  \n",
       "red_std    -0.756371  0.718181 -0.322009  \n",
       "blue_std   -0.737648  0.730115 -0.248542  \n",
       "f7          1.000000 -0.646508  0.275546  \n",
       "f8         -0.646508  1.000000 -0.237528  \n",
       "label       0.275546 -0.237528  1.000000  "
      ]
     },
     "execution_count": 8,
     "metadata": {},
     "output_type": "execute_result"
    }
   ],
   "source": [
    "cleaned_data.corr(method ='pearson')"
   ]
  },
  {
   "cell_type": "code",
   "execution_count": 9,
   "metadata": {
    "id": "nHFTe4TItiFJ"
   },
   "outputs": [],
   "source": [
    "cleaned_data = cleaned_data.dropna()"
   ]
  },
  {
   "cell_type": "code",
   "execution_count": 10,
   "metadata": {
    "colab": {
     "base_uri": "https://localhost:8080/"
    },
    "id": "1ns2yXu9uXnE",
    "outputId": "81b3083c-7b65-4923-ebe8-674259d14aa4"
   },
   "outputs": [
    {
     "data": {
      "text/plain": [
       "(4077, 16)"
      ]
     },
     "execution_count": 10,
     "metadata": {},
     "output_type": "execute_result"
    }
   ],
   "source": [
    "raw_data.shape"
   ]
  },
  {
   "cell_type": "code",
   "execution_count": 11,
   "metadata": {
    "colab": {
     "base_uri": "https://localhost:8080/"
    },
    "id": "X2iVldJpuZb5",
    "outputId": "44927c0c-ca20-4995-f579-8f113ea7d2f3"
   },
   "outputs": [
    {
     "data": {
      "text/plain": [
       "(4077, 9)"
      ]
     },
     "execution_count": 11,
     "metadata": {},
     "output_type": "execute_result"
    }
   ],
   "source": [
    "cleaned_data.shape"
   ]
  },
  {
   "cell_type": "code",
   "execution_count": 12,
   "metadata": {
    "id": "q1UEsRsTubX5"
   },
   "outputs": [],
   "source": [
    "from sklearn.model_selection import train_test_split\n",
    "from sklearn.metrics import accuracy_score\n",
    "from sklearn.preprocessing import StandardScaler\n",
    "from sklearn.decomposition import PCA\n",
    "from sklearn.svm import SVC\n",
    "from sklearn.metrics import roc_curve, auc\n",
    "from sklearn.model_selection import KFold \n"
   ]
  },
  {
   "cell_type": "code",
   "execution_count": 13,
   "metadata": {
    "id": "ZJg6iy3Mu72T"
   },
   "outputs": [],
   "source": [
    "df = cleaned_data.reset_index()"
   ]
  },
  {
   "cell_type": "code",
   "execution_count": 14,
   "metadata": {
    "colab": {
     "base_uri": "https://localhost:8080/"
    },
    "id": "3DvMWo8rvPW6",
    "outputId": "72d93ebe-2fbe-47b6-903a-ae58e46569e7"
   },
   "outputs": [
    {
     "name": "stdout",
     "output_type": "stream",
     "text": [
      "(4077, 8)\n",
      "(4077,)\n"
     ]
    }
   ],
   "source": [
    "X = df.drop(['index','label'],axis = 1, inplace=False)\n",
    "y = df['label']\n",
    "print(X.shape)\n",
    "print(y.shape)"
   ]
  },
  {
   "cell_type": "code",
   "execution_count": 15,
   "metadata": {
    "colab": {
     "base_uri": "https://localhost:8080/"
    },
    "id": "j723Yu4Xvx_r",
    "outputId": "7d68696b-7a50-4d90-a12e-c3e326ba15d6"
   },
   "outputs": [
    {
     "name": "stdout",
     "output_type": "stream",
     "text": [
      "Score of each fold - [0.8406862745098039, 0.8321078431372549, 0.8098159509202454, 0.8220858895705522, 0.8269938650306748]\n",
      "Avg Score : 0.8263379646337062\n"
     ]
    }
   ],
   "source": [
    "k = 5\n",
    "kf = KFold(n_splits=k, random_state=9, shuffle = True)\n",
    "from sklearn.ensemble import RandomForestClassifier\n",
    "model = RandomForestClassifier(random_state = 50,n_estimators = 50,max_samples = 0.7)\n",
    " \n",
    "acc_score = []\n",
    "\n",
    "for train_index , test_index in kf.split(X):\n",
    "    X_train , X_test = X.iloc[train_index,:],X.iloc[test_index,:]\n",
    "    y_train , y_test = y[train_index] , y[test_index]\n",
    "    model = RandomForestClassifier(random_state = 50,n_estimators = 50,max_samples = 0.7)\n",
    "    model.fit(X_train,y_train)\n",
    "    pred_values = model.predict(X_test)            # classification\n",
    "    acc = accuracy_score(pred_values , y_test)     # Classification\n",
    "\n",
    "    #acc = model.score(X_test,y_test)                # Regression\n",
    "    \n",
    "    acc_score.append(acc)\n",
    "     \n",
    "avg_acc_score = sum(acc_score)/k\n",
    " \n",
    "print('Score of each fold - {}'.format(acc_score))\n",
    "print('Avg Score : {}'.format(avg_acc_score))"
   ]
  },
  {
   "cell_type": "markdown",
   "metadata": {
    "id": "jShjKvkbwtys"
   },
   "source": [
    "# **K- fold Cross validation accuracy:**\n",
    "# **0.833025404157044**"
   ]
  },
  {
   "cell_type": "markdown",
   "metadata": {
    "id": "MalrrV30xqn8"
   },
   "source": [
    "# ROC Curve"
   ]
  },
  {
   "cell_type": "code",
   "execution_count": 16,
   "metadata": {
    "colab": {
     "base_uri": "https://localhost:8080/",
     "height": 349
    },
    "id": "U_6DxxVXwmJP",
    "outputId": "a133289a-c71b-4af2-8e04-d36b24d2fc40"
   },
   "outputs": [
    {
     "data": {
      "image/png": "[encoded data removed]",
      "text/plain": [
       "<Figure size 432x288 with 1 Axes>"
      ]
     },
     "metadata": {
      "needs_background": "light"
     },
     "output_type": "display_data"
    }
   ],
   "source": [
    "import scikitplot as skplt\n",
    "import matplotlib.pyplot as plt\n",
    "\n",
    "y_true = y_test\n",
    "y_probas = model.predict_proba(X_test)\n",
    "skplt.metrics.plot_roc(y_true, y_probas)\n",
    "\n",
    "plt.show()"
   ]
  },
  {
   "cell_type": "code",
   "execution_count": 17,
   "metadata": {
    "colab": {
     "base_uri": "https://localhost:8080/",
     "height": 296
    },
    "id": "qw0YcxFQx3Mc",
    "outputId": "c83fbdcf-a67a-404f-e8dc-9c8473490392"
   },
   "outputs": [
    {
     "data": {
      "text/plain": [
       "<sklearn.metrics._plot.confusion_matrix.ConfusionMatrixDisplay at 0x7f02329dc9e8>"
      ]
     },
     "execution_count": 17,
     "metadata": {},
     "output_type": "execute_result"
    },
    {
     "data": {
      "image/png": "[encoded data removed]",
      "text/plain": [
       "<Figure size 432x288 with 2 Axes>"
      ]
     },
     "metadata": {
      "needs_background": "light"
     },
     "output_type": "display_data"
    }
   ],
   "source": [
    "from sklearn.metrics import plot_confusion_matrix\n",
    "y_pred = model.predict(X_test)\n",
    "plot_confusion_matrix(model, X_test, y_test, values_format = 'd',cmap = 'Blues',display_labels = ['0','1','2','3'])"
   ]
  },
  {
   "cell_type": "code",
   "execution_count": 18,
   "metadata": {
    "colab": {
     "base_uri": "https://localhost:8080/"
    },
    "id": "Gref__vNyWqm",
    "outputId": "ba198a46-5398-482a-a509-72776333aa9d"
   },
   "outputs": [
    {
     "name": "stdout",
     "output_type": "stream",
     "text": [
      "              precision    recall  f1-score   support\n",
      "\n",
      "           0       0.90      0.94      0.92       204\n",
      "           1       0.72      0.63      0.67       195\n",
      "           2       0.98      1.00      0.99       225\n",
      "           3       0.66      0.71      0.69       191\n",
      "\n",
      "    accuracy                           0.83       815\n",
      "   macro avg       0.82      0.82      0.82       815\n",
      "weighted avg       0.83      0.83      0.82       815\n",
      "\n"
     ]
    }
   ],
   "source": [
    "from sklearn.metrics import classification_report\n",
    "\n",
    "print(classification_report(y_test, y_pred, [0,1,2,3]))"
   ]
  },
  {
   "cell_type": "markdown",
   "metadata": {
    "id": "DTaYkJYuzBly"
   },
   "source": [
    "# **F1 Score:**\n",
    "# **0.91**"
   ]
  },
  {
   "cell_type": "markdown",
   "metadata": {
    "id": "XEl3_kcUzXyY"
   },
   "source": [
    "# Deployment"
   ]
  },
  {
   "cell_type": "code",
   "execution_count": 19,
   "metadata": {
    "colab": {
     "base_uri": "https://localhost:8080/"
    },
    "id": "HY3YfG2py-Jf",
    "outputId": "1ae76c7e-aea2-4ecf-9da4-2c14477c7009"
   },
   "outputs": [
    {
     "name": "stdout",
     "output_type": "stream",
     "text": [
      "Training Score:  0.9960755457444199\n"
     ]
    }
   ],
   "source": [
    "from sklearn.ensemble import RandomForestClassifier\n",
    "lm = RandomForestClassifier(random_state = 50,n_estimators = 50,max_samples = 0.7)\n",
    "lm.fit(X,y)\n",
    "print('Training Score: ',lm.score(X,y))"
   ]
  },
  {
   "cell_type": "code",
   "execution_count": 20,
   "metadata": {
    "colab": {
     "base_uri": "https://localhost:8080/"
    },
    "id": "LlyCB8PCy1qh",
    "outputId": "2cc193e3-7c9e-451e-ab77-0df761e46954"
   },
   "outputs": [
    {
     "data": {
      "text/plain": [
       "array([0.11095184, 0.2090732 , 0.14784286, 0.11578258, 0.13114987,\n",
       "       0.0813143 , 0.07508865, 0.1287967 ])"
      ]
     },
     "execution_count": 20,
     "metadata": {},
     "output_type": "execute_result"
    }
   ],
   "source": [
    "lm.feature_importances_"
   ]
  },
  {
   "cell_type": "markdown",
   "metadata": {
    "id": "WyNxpJvA0ycq"
   },
   "source": [
    "# Selected Features"
   ]
  },
  {
   "cell_type": "code",
   "execution_count": 21,
   "metadata": {
    "colab": {
     "base_uri": "https://localhost:8080/"
    },
    "id": "bb17TIJPz5jJ",
    "outputId": "a4d12a70-dffc-46c9-9374-c36c142227d2"
   },
   "outputs": [
    {
     "data": {
      "text/plain": [
       "Index(['red_mean', 'green_mean', 'blue_mean', 'f2', 'red_std', 'blue_std',\n",
       "       'f7', 'f8'],\n",
       "      dtype='object')"
      ]
     },
     "execution_count": 21,
     "metadata": {},
     "output_type": "execute_result"
    }
   ],
   "source": [
    "X.columns"
   ]
  },
  {
   "cell_type": "code",
   "execution_count": null,
   "metadata": {
    "id": "wkL5LGPF0wIr"
   },
   "outputs": [],
   "source": []
  },
  {
   "cell_type": "code",
   "execution_count": null,
   "metadata": {
    "id": "m79EqwuG0Wjh"
   },
   "outputs": [],
   "source": []
  }
 ],
 "metadata": {
  "colab": {
   "name": "Apple_DA_and_MD.ipynb",
   "provenance": []
  },
  "interpreter": {
   "hash": "bb5a7a19e023c4cfaac4677f5748687784b46986f847b8a1b6d6751c054faa4b"
  },
  "kernelspec": {
   "display_name": "plant_env",
   "language": "python",
   "name": "plant_env"
  },
  "language_info": {
   "codemirror_mode": {
    "name": "ipython",
    "version": 3
   },
   "file_extension": ".py",
   "mimetype": "text/x-python",
   "name": "python",
   "nbconvert_exporter": "python",
   "pygments_lexer": "ipython3",
   "version": "3.6.9"
  }
 },
 "nbformat": 4,
 "nbformat_minor": 1
}
