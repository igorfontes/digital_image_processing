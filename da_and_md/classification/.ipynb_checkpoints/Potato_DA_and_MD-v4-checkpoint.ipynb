{
 "cells": [
  {
   "cell_type": "code",
   "execution_count": 1,
   "metadata": {
    "id": "8Cg54vyTot1W"
   },
   "outputs": [],
   "source": [
    "import pandas as pd\n",
    "import matplotlib.pyplot as plt\n",
    "import numpy as np\n",
    "import seaborn as sns\n",
    "import warnings\n",
    "warnings.filterwarnings('ignore')"
   ]
  },
  {
   "cell_type": "code",
   "execution_count": 3,
   "metadata": {
    "id": "4-v_yHgEowG5"
   },
   "outputs": [],
   "source": [
    "#!pip install openpyxl\n",
    "raw_data = pd.read_excel('../../tomato_dataset_v3.xlsx', engine='openpyxl')"
   ]
  },
  {
   "cell_type": "code",
   "execution_count": 4,
   "metadata": {
    "colab": {
     "base_uri": "https://localhost:8080/"
    },
    "id": "d-UxkVS-sCVa",
    "outputId": "6a77717b-e608-4356-e740-910a8cec0159"
   },
   "outputs": [
    {
     "data": {
      "text/plain": [
       "Unnamed: 0      int64\n",
       "area          float64\n",
       "perimeter     float64\n",
       "red_mean      float64\n",
       "green_mean    float64\n",
       "blue_mean     float64\n",
       "f1            float64\n",
       "f2            float64\n",
       "red_std       float64\n",
       "green_std     float64\n",
       "blue_std      float64\n",
       "f4            float64\n",
       "f5            float64\n",
       "f6            float64\n",
       "f7            float64\n",
       "f8            float64\n",
       "label           int64\n",
       "dtype: object"
      ]
     },
     "execution_count": 4,
     "metadata": {},
     "output_type": "execute_result"
    }
   ],
   "source": [
    "raw_data.dtypes"
   ]
  },
  {
   "cell_type": "code",
   "execution_count": 5,
   "metadata": {
    "id": "6rODIXAEsIiK"
   },
   "outputs": [],
   "source": [
    "raw_data.drop(['Unnamed: 0'],axis = 1, inplace=True)"
   ]
  },
  {
   "cell_type": "code",
   "execution_count": 6,
   "metadata": {
    "colab": {
     "base_uri": "https://localhost:8080/"
    },
    "id": "f3T6y1gVsT2p",
    "outputId": "ab01a558-d67c-4f56-92d5-52ca32f22a78"
   },
   "outputs": [
    {
     "data": {
      "text/plain": [
       "Index(['area', 'perimeter', 'red_mean', 'green_mean', 'blue_mean', 'f1', 'f2',\n",
       "       'red_std', 'green_std', 'blue_std', 'f4', 'f5', 'f6', 'f7', 'f8',\n",
       "       'label'],\n",
       "      dtype='object')"
      ]
     },
     "execution_count": 6,
     "metadata": {},
     "output_type": "execute_result"
    }
   ],
   "source": [
    "raw_data.columns"
   ]
  },
  {
   "cell_type": "code",
   "execution_count": 7,
   "metadata": {
    "colab": {
     "base_uri": "https://localhost:8080/",
     "height": 1000
    },
    "id": "48HQEVsXsWFp",
    "outputId": "69917675-7ac8-48a3-9a77-5f93eeecf880"
   },
   "outputs": [
    {
     "data": {
      "text/html": [
       "<div>\n",
       "<style scoped>\n",
       "    .dataframe tbody tr th:only-of-type {\n",
       "        vertical-align: middle;\n",
       "    }\n",
       "\n",
       "    .dataframe tbody tr th {\n",
       "        vertical-align: top;\n",
       "    }\n",
       "\n",
       "    .dataframe thead th {\n",
       "        text-align: right;\n",
       "    }\n",
       "</style>\n",
       "<table border=\"1\" class=\"dataframe\">\n",
       "  <thead>\n",
       "    <tr style=\"text-align: right;\">\n",
       "      <th></th>\n",
       "      <th>area</th>\n",
       "      <th>perimeter</th>\n",
       "      <th>red_mean</th>\n",
       "      <th>green_mean</th>\n",
       "      <th>blue_mean</th>\n",
       "      <th>f1</th>\n",
       "      <th>f2</th>\n",
       "      <th>red_std</th>\n",
       "      <th>green_std</th>\n",
       "      <th>blue_std</th>\n",
       "      <th>f4</th>\n",
       "      <th>f5</th>\n",
       "      <th>f6</th>\n",
       "      <th>f7</th>\n",
       "      <th>f8</th>\n",
       "      <th>label</th>\n",
       "    </tr>\n",
       "  </thead>\n",
       "  <tbody>\n",
       "    <tr>\n",
       "      <th>area</th>\n",
       "      <td>1.000000</td>\n",
       "      <td>0.891917</td>\n",
       "      <td>0.469336</td>\n",
       "      <td>0.481343</td>\n",
       "      <td>0.473311</td>\n",
       "      <td>0.090670</td>\n",
       "      <td>-0.090670</td>\n",
       "      <td>0.088464</td>\n",
       "      <td>-0.186410</td>\n",
       "      <td>-0.087289</td>\n",
       "      <td>0.199877</td>\n",
       "      <td>0.259072</td>\n",
       "      <td>-0.496411</td>\n",
       "      <td>-0.549149</td>\n",
       "      <td>-0.275354</td>\n",
       "      <td>-0.069221</td>\n",
       "    </tr>\n",
       "    <tr>\n",
       "      <th>perimeter</th>\n",
       "      <td>0.891917</td>\n",
       "      <td>1.000000</td>\n",
       "      <td>0.288814</td>\n",
       "      <td>0.294440</td>\n",
       "      <td>0.284600</td>\n",
       "      <td>0.080931</td>\n",
       "      <td>-0.080931</td>\n",
       "      <td>0.104010</td>\n",
       "      <td>-0.050409</td>\n",
       "      <td>0.000322</td>\n",
       "      <td>0.113782</td>\n",
       "      <td>0.152644</td>\n",
       "      <td>-0.309434</td>\n",
       "      <td>-0.339580</td>\n",
       "      <td>-0.124456</td>\n",
       "      <td>-0.057570</td>\n",
       "    </tr>\n",
       "    <tr>\n",
       "      <th>red_mean</th>\n",
       "      <td>0.469336</td>\n",
       "      <td>0.288814</td>\n",
       "      <td>1.000000</td>\n",
       "      <td>0.883289</td>\n",
       "      <td>0.929319</td>\n",
       "      <td>-0.042139</td>\n",
       "      <td>0.042139</td>\n",
       "      <td>0.662189</td>\n",
       "      <td>0.123385</td>\n",
       "      <td>0.344396</td>\n",
       "      <td>0.636064</td>\n",
       "      <td>0.718322</td>\n",
       "      <td>-0.884771</td>\n",
       "      <td>-0.850593</td>\n",
       "      <td>-0.589290</td>\n",
       "      <td>-0.089933</td>\n",
       "    </tr>\n",
       "    <tr>\n",
       "      <th>green_mean</th>\n",
       "      <td>0.481343</td>\n",
       "      <td>0.294440</td>\n",
       "      <td>0.883289</td>\n",
       "      <td>1.000000</td>\n",
       "      <td>0.966991</td>\n",
       "      <td>0.296109</td>\n",
       "      <td>-0.296109</td>\n",
       "      <td>0.509393</td>\n",
       "      <td>0.215577</td>\n",
       "      <td>0.304457</td>\n",
       "      <td>0.477743</td>\n",
       "      <td>0.546095</td>\n",
       "      <td>-0.856954</td>\n",
       "      <td>-0.903118</td>\n",
       "      <td>-0.414009</td>\n",
       "      <td>0.078385</td>\n",
       "    </tr>\n",
       "    <tr>\n",
       "      <th>blue_mean</th>\n",
       "      <td>0.473311</td>\n",
       "      <td>0.284600</td>\n",
       "      <td>0.929319</td>\n",
       "      <td>0.966991</td>\n",
       "      <td>1.000000</td>\n",
       "      <td>0.087703</td>\n",
       "      <td>-0.087703</td>\n",
       "      <td>0.593464</td>\n",
       "      <td>0.216751</td>\n",
       "      <td>0.403569</td>\n",
       "      <td>0.565651</td>\n",
       "      <td>0.635442</td>\n",
       "      <td>-0.864011</td>\n",
       "      <td>-0.876213</td>\n",
       "      <td>-0.487060</td>\n",
       "      <td>0.054323</td>\n",
       "    </tr>\n",
       "    <tr>\n",
       "      <th>f1</th>\n",
       "      <td>0.090670</td>\n",
       "      <td>0.080931</td>\n",
       "      <td>-0.042139</td>\n",
       "      <td>0.296109</td>\n",
       "      <td>0.087703</td>\n",
       "      <td>1.000000</td>\n",
       "      <td>-1.000000</td>\n",
       "      <td>-0.216387</td>\n",
       "      <td>0.098095</td>\n",
       "      <td>-0.182542</td>\n",
       "      <td>-0.189620</td>\n",
       "      <td>-0.144886</td>\n",
       "      <td>-0.201508</td>\n",
       "      <td>-0.283618</td>\n",
       "      <td>0.155106</td>\n",
       "      <td>0.080516</td>\n",
       "    </tr>\n",
       "    <tr>\n",
       "      <th>f2</th>\n",
       "      <td>-0.090670</td>\n",
       "      <td>-0.080931</td>\n",
       "      <td>0.042139</td>\n",
       "      <td>-0.296109</td>\n",
       "      <td>-0.087703</td>\n",
       "      <td>-1.000000</td>\n",
       "      <td>1.000000</td>\n",
       "      <td>0.216387</td>\n",
       "      <td>-0.098095</td>\n",
       "      <td>0.182542</td>\n",
       "      <td>0.189620</td>\n",
       "      <td>0.144886</td>\n",
       "      <td>0.201508</td>\n",
       "      <td>0.283618</td>\n",
       "      <td>-0.155106</td>\n",
       "      <td>-0.080516</td>\n",
       "    </tr>\n",
       "    <tr>\n",
       "      <th>red_std</th>\n",
       "      <td>0.088464</td>\n",
       "      <td>0.104010</td>\n",
       "      <td>0.662189</td>\n",
       "      <td>0.509393</td>\n",
       "      <td>0.593464</td>\n",
       "      <td>-0.216387</td>\n",
       "      <td>0.216387</td>\n",
       "      <td>1.000000</td>\n",
       "      <td>0.662072</td>\n",
       "      <td>0.838601</td>\n",
       "      <td>0.645018</td>\n",
       "      <td>0.655560</td>\n",
       "      <td>-0.498964</td>\n",
       "      <td>-0.374180</td>\n",
       "      <td>-0.265472</td>\n",
       "      <td>-0.010730</td>\n",
       "    </tr>\n",
       "    <tr>\n",
       "      <th>green_std</th>\n",
       "      <td>-0.186410</td>\n",
       "      <td>-0.050409</td>\n",
       "      <td>0.123385</td>\n",
       "      <td>0.215577</td>\n",
       "      <td>0.216751</td>\n",
       "      <td>0.098095</td>\n",
       "      <td>-0.098095</td>\n",
       "      <td>0.662072</td>\n",
       "      <td>1.000000</td>\n",
       "      <td>0.878388</td>\n",
       "      <td>0.362387</td>\n",
       "      <td>0.285110</td>\n",
       "      <td>-0.036440</td>\n",
       "      <td>0.045868</td>\n",
       "      <td>0.118361</td>\n",
       "      <td>0.128097</td>\n",
       "    </tr>\n",
       "    <tr>\n",
       "      <th>blue_std</th>\n",
       "      <td>-0.087289</td>\n",
       "      <td>0.000322</td>\n",
       "      <td>0.344396</td>\n",
       "      <td>0.304457</td>\n",
       "      <td>0.403569</td>\n",
       "      <td>-0.182542</td>\n",
       "      <td>0.182542</td>\n",
       "      <td>0.838601</td>\n",
       "      <td>0.878388</td>\n",
       "      <td>1.000000</td>\n",
       "      <td>0.528676</td>\n",
       "      <td>0.499803</td>\n",
       "      <td>-0.241940</td>\n",
       "      <td>-0.111891</td>\n",
       "      <td>-0.074903</td>\n",
       "      <td>0.106215</td>\n",
       "    </tr>\n",
       "    <tr>\n",
       "      <th>f4</th>\n",
       "      <td>0.199877</td>\n",
       "      <td>0.113782</td>\n",
       "      <td>0.636064</td>\n",
       "      <td>0.477743</td>\n",
       "      <td>0.565651</td>\n",
       "      <td>-0.189620</td>\n",
       "      <td>0.189620</td>\n",
       "      <td>0.645018</td>\n",
       "      <td>0.362387</td>\n",
       "      <td>0.528676</td>\n",
       "      <td>1.000000</td>\n",
       "      <td>0.969813</td>\n",
       "      <td>-0.573335</td>\n",
       "      <td>-0.391836</td>\n",
       "      <td>-0.803012</td>\n",
       "      <td>-0.184542</td>\n",
       "    </tr>\n",
       "    <tr>\n",
       "      <th>f5</th>\n",
       "      <td>0.259072</td>\n",
       "      <td>0.152644</td>\n",
       "      <td>0.718322</td>\n",
       "      <td>0.546095</td>\n",
       "      <td>0.635442</td>\n",
       "      <td>-0.144886</td>\n",
       "      <td>0.144886</td>\n",
       "      <td>0.655560</td>\n",
       "      <td>0.285110</td>\n",
       "      <td>0.499803</td>\n",
       "      <td>0.969813</td>\n",
       "      <td>1.000000</td>\n",
       "      <td>-0.709267</td>\n",
       "      <td>-0.514696</td>\n",
       "      <td>-0.827581</td>\n",
       "      <td>-0.153596</td>\n",
       "    </tr>\n",
       "    <tr>\n",
       "      <th>f6</th>\n",
       "      <td>-0.496411</td>\n",
       "      <td>-0.309434</td>\n",
       "      <td>-0.884771</td>\n",
       "      <td>-0.856954</td>\n",
       "      <td>-0.864011</td>\n",
       "      <td>-0.201508</td>\n",
       "      <td>0.201508</td>\n",
       "      <td>-0.498964</td>\n",
       "      <td>-0.036440</td>\n",
       "      <td>-0.241940</td>\n",
       "      <td>-0.573335</td>\n",
       "      <td>-0.709267</td>\n",
       "      <td>1.000000</td>\n",
       "      <td>0.949313</td>\n",
       "      <td>0.577441</td>\n",
       "      <td>0.038867</td>\n",
       "    </tr>\n",
       "    <tr>\n",
       "      <th>f7</th>\n",
       "      <td>-0.549149</td>\n",
       "      <td>-0.339580</td>\n",
       "      <td>-0.850593</td>\n",
       "      <td>-0.903118</td>\n",
       "      <td>-0.876213</td>\n",
       "      <td>-0.283618</td>\n",
       "      <td>0.283618</td>\n",
       "      <td>-0.374180</td>\n",
       "      <td>0.045868</td>\n",
       "      <td>-0.111891</td>\n",
       "      <td>-0.391836</td>\n",
       "      <td>-0.514696</td>\n",
       "      <td>0.949313</td>\n",
       "      <td>1.000000</td>\n",
       "      <td>0.432107</td>\n",
       "      <td>-0.013594</td>\n",
       "    </tr>\n",
       "    <tr>\n",
       "      <th>f8</th>\n",
       "      <td>-0.275354</td>\n",
       "      <td>-0.124456</td>\n",
       "      <td>-0.589290</td>\n",
       "      <td>-0.414009</td>\n",
       "      <td>-0.487060</td>\n",
       "      <td>0.155106</td>\n",
       "      <td>-0.155106</td>\n",
       "      <td>-0.265472</td>\n",
       "      <td>0.118361</td>\n",
       "      <td>-0.074903</td>\n",
       "      <td>-0.803012</td>\n",
       "      <td>-0.827581</td>\n",
       "      <td>0.577441</td>\n",
       "      <td>0.432107</td>\n",
       "      <td>1.000000</td>\n",
       "      <td>0.188402</td>\n",
       "    </tr>\n",
       "    <tr>\n",
       "      <th>label</th>\n",
       "      <td>-0.069221</td>\n",
       "      <td>-0.057570</td>\n",
       "      <td>-0.089933</td>\n",
       "      <td>0.078385</td>\n",
       "      <td>0.054323</td>\n",
       "      <td>0.080516</td>\n",
       "      <td>-0.080516</td>\n",
       "      <td>-0.010730</td>\n",
       "      <td>0.128097</td>\n",
       "      <td>0.106215</td>\n",
       "      <td>-0.184542</td>\n",
       "      <td>-0.153596</td>\n",
       "      <td>0.038867</td>\n",
       "      <td>-0.013594</td>\n",
       "      <td>0.188402</td>\n",
       "      <td>1.000000</td>\n",
       "    </tr>\n",
       "  </tbody>\n",
       "</table>\n",
       "</div>"
      ],
      "text/plain": [
       "                area  perimeter  red_mean  green_mean  blue_mean        f1  \\\n",
       "area        1.000000   0.891917  0.469336    0.481343   0.473311  0.090670   \n",
       "perimeter   0.891917   1.000000  0.288814    0.294440   0.284600  0.080931   \n",
       "red_mean    0.469336   0.288814  1.000000    0.883289   0.929319 -0.042139   \n",
       "green_mean  0.481343   0.294440  0.883289    1.000000   0.966991  0.296109   \n",
       "blue_mean   0.473311   0.284600  0.929319    0.966991   1.000000  0.087703   \n",
       "f1          0.090670   0.080931 -0.042139    0.296109   0.087703  1.000000   \n",
       "f2         -0.090670  -0.080931  0.042139   -0.296109  -0.087703 -1.000000   \n",
       "red_std     0.088464   0.104010  0.662189    0.509393   0.593464 -0.216387   \n",
       "green_std  -0.186410  -0.050409  0.123385    0.215577   0.216751  0.098095   \n",
       "blue_std   -0.087289   0.000322  0.344396    0.304457   0.403569 -0.182542   \n",
       "f4          0.199877   0.113782  0.636064    0.477743   0.565651 -0.189620   \n",
       "f5          0.259072   0.152644  0.718322    0.546095   0.635442 -0.144886   \n",
       "f6         -0.496411  -0.309434 -0.884771   -0.856954  -0.864011 -0.201508   \n",
       "f7         -0.549149  -0.339580 -0.850593   -0.903118  -0.876213 -0.283618   \n",
       "f8         -0.275354  -0.124456 -0.589290   -0.414009  -0.487060  0.155106   \n",
       "label      -0.069221  -0.057570 -0.089933    0.078385   0.054323  0.080516   \n",
       "\n",
       "                  f2   red_std  green_std  blue_std        f4        f5  \\\n",
       "area       -0.090670  0.088464  -0.186410 -0.087289  0.199877  0.259072   \n",
       "perimeter  -0.080931  0.104010  -0.050409  0.000322  0.113782  0.152644   \n",
       "red_mean    0.042139  0.662189   0.123385  0.344396  0.636064  0.718322   \n",
       "green_mean -0.296109  0.509393   0.215577  0.304457  0.477743  0.546095   \n",
       "blue_mean  -0.087703  0.593464   0.216751  0.403569  0.565651  0.635442   \n",
       "f1         -1.000000 -0.216387   0.098095 -0.182542 -0.189620 -0.144886   \n",
       "f2          1.000000  0.216387  -0.098095  0.182542  0.189620  0.144886   \n",
       "red_std     0.216387  1.000000   0.662072  0.838601  0.645018  0.655560   \n",
       "green_std  -0.098095  0.662072   1.000000  0.878388  0.362387  0.285110   \n",
       "blue_std    0.182542  0.838601   0.878388  1.000000  0.528676  0.499803   \n",
       "f4          0.189620  0.645018   0.362387  0.528676  1.000000  0.969813   \n",
       "f5          0.144886  0.655560   0.285110  0.499803  0.969813  1.000000   \n",
       "f6          0.201508 -0.498964  -0.036440 -0.241940 -0.573335 -0.709267   \n",
       "f7          0.283618 -0.374180   0.045868 -0.111891 -0.391836 -0.514696   \n",
       "f8         -0.155106 -0.265472   0.118361 -0.074903 -0.803012 -0.827581   \n",
       "label      -0.080516 -0.010730   0.128097  0.106215 -0.184542 -0.153596   \n",
       "\n",
       "                  f6        f7        f8     label  \n",
       "area       -0.496411 -0.549149 -0.275354 -0.069221  \n",
       "perimeter  -0.309434 -0.339580 -0.124456 -0.057570  \n",
       "red_mean   -0.884771 -0.850593 -0.589290 -0.089933  \n",
       "green_mean -0.856954 -0.903118 -0.414009  0.078385  \n",
       "blue_mean  -0.864011 -0.876213 -0.487060  0.054323  \n",
       "f1         -0.201508 -0.283618  0.155106  0.080516  \n",
       "f2          0.201508  0.283618 -0.155106 -0.080516  \n",
       "red_std    -0.498964 -0.374180 -0.265472 -0.010730  \n",
       "green_std  -0.036440  0.045868  0.118361  0.128097  \n",
       "blue_std   -0.241940 -0.111891 -0.074903  0.106215  \n",
       "f4         -0.573335 -0.391836 -0.803012 -0.184542  \n",
       "f5         -0.709267 -0.514696 -0.827581 -0.153596  \n",
       "f6          1.000000  0.949313  0.577441  0.038867  \n",
       "f7          0.949313  1.000000  0.432107 -0.013594  \n",
       "f8          0.577441  0.432107  1.000000  0.188402  \n",
       "label       0.038867 -0.013594  0.188402  1.000000  "
      ]
     },
     "execution_count": 7,
     "metadata": {},
     "output_type": "execute_result"
    }
   ],
   "source": [
    "raw_data.corr(method ='pearson')"
   ]
  },
  {
   "cell_type": "markdown",
   "metadata": {
    "id": "tykbukJOs9oT"
   },
   "source": [
    "**Insights:**\n",
    "Less correlated features are:\n",
    "- Red channel mean\n",
    "- f6\n",
    "\n",
    "Also f1 and f2 are mutually relative So one of them can be removed"
   ]
  },
  {
   "cell_type": "code",
   "execution_count": 8,
   "metadata": {
    "id": "9C4PKZKLs276"
   },
   "outputs": [],
   "source": [
    "cleaned_data = raw_data.drop(['red_mean','f6','f1'],axis = 1, inplace=False)"
   ]
  },
  {
   "cell_type": "code",
   "execution_count": 9,
   "metadata": {
    "colab": {
     "base_uri": "https://localhost:8080/",
     "height": 1000
    },
    "id": "5YuECBs9taB2",
    "outputId": "659092be-fad9-4e71-aef0-f4da46785d46"
   },
   "outputs": [
    {
     "data": {
      "text/html": [
       "<div>\n",
       "<style scoped>\n",
       "    .dataframe tbody tr th:only-of-type {\n",
       "        vertical-align: middle;\n",
       "    }\n",
       "\n",
       "    .dataframe tbody tr th {\n",
       "        vertical-align: top;\n",
       "    }\n",
       "\n",
       "    .dataframe thead th {\n",
       "        text-align: right;\n",
       "    }\n",
       "</style>\n",
       "<table border=\"1\" class=\"dataframe\">\n",
       "  <thead>\n",
       "    <tr style=\"text-align: right;\">\n",
       "      <th></th>\n",
       "      <th>area</th>\n",
       "      <th>perimeter</th>\n",
       "      <th>green_mean</th>\n",
       "      <th>blue_mean</th>\n",
       "      <th>f2</th>\n",
       "      <th>red_std</th>\n",
       "      <th>green_std</th>\n",
       "      <th>blue_std</th>\n",
       "      <th>f4</th>\n",
       "      <th>f5</th>\n",
       "      <th>f7</th>\n",
       "      <th>f8</th>\n",
       "      <th>label</th>\n",
       "    </tr>\n",
       "  </thead>\n",
       "  <tbody>\n",
       "    <tr>\n",
       "      <th>area</th>\n",
       "      <td>1.000000</td>\n",
       "      <td>0.891917</td>\n",
       "      <td>0.481343</td>\n",
       "      <td>0.473311</td>\n",
       "      <td>-0.090670</td>\n",
       "      <td>0.088464</td>\n",
       "      <td>-0.186410</td>\n",
       "      <td>-0.087289</td>\n",
       "      <td>0.199877</td>\n",
       "      <td>0.259072</td>\n",
       "      <td>-0.549149</td>\n",
       "      <td>-0.275354</td>\n",
       "      <td>-0.069221</td>\n",
       "    </tr>\n",
       "    <tr>\n",
       "      <th>perimeter</th>\n",
       "      <td>0.891917</td>\n",
       "      <td>1.000000</td>\n",
       "      <td>0.294440</td>\n",
       "      <td>0.284600</td>\n",
       "      <td>-0.080931</td>\n",
       "      <td>0.104010</td>\n",
       "      <td>-0.050409</td>\n",
       "      <td>0.000322</td>\n",
       "      <td>0.113782</td>\n",
       "      <td>0.152644</td>\n",
       "      <td>-0.339580</td>\n",
       "      <td>-0.124456</td>\n",
       "      <td>-0.057570</td>\n",
       "    </tr>\n",
       "    <tr>\n",
       "      <th>green_mean</th>\n",
       "      <td>0.481343</td>\n",
       "      <td>0.294440</td>\n",
       "      <td>1.000000</td>\n",
       "      <td>0.966991</td>\n",
       "      <td>-0.296109</td>\n",
       "      <td>0.509393</td>\n",
       "      <td>0.215577</td>\n",
       "      <td>0.304457</td>\n",
       "      <td>0.477743</td>\n",
       "      <td>0.546095</td>\n",
       "      <td>-0.903118</td>\n",
       "      <td>-0.414009</td>\n",
       "      <td>0.078385</td>\n",
       "    </tr>\n",
       "    <tr>\n",
       "      <th>blue_mean</th>\n",
       "      <td>0.473311</td>\n",
       "      <td>0.284600</td>\n",
       "      <td>0.966991</td>\n",
       "      <td>1.000000</td>\n",
       "      <td>-0.087703</td>\n",
       "      <td>0.593464</td>\n",
       "      <td>0.216751</td>\n",
       "      <td>0.403569</td>\n",
       "      <td>0.565651</td>\n",
       "      <td>0.635442</td>\n",
       "      <td>-0.876213</td>\n",
       "      <td>-0.487060</td>\n",
       "      <td>0.054323</td>\n",
       "    </tr>\n",
       "    <tr>\n",
       "      <th>f2</th>\n",
       "      <td>-0.090670</td>\n",
       "      <td>-0.080931</td>\n",
       "      <td>-0.296109</td>\n",
       "      <td>-0.087703</td>\n",
       "      <td>1.000000</td>\n",
       "      <td>0.216387</td>\n",
       "      <td>-0.098095</td>\n",
       "      <td>0.182542</td>\n",
       "      <td>0.189620</td>\n",
       "      <td>0.144886</td>\n",
       "      <td>0.283618</td>\n",
       "      <td>-0.155106</td>\n",
       "      <td>-0.080516</td>\n",
       "    </tr>\n",
       "    <tr>\n",
       "      <th>red_std</th>\n",
       "      <td>0.088464</td>\n",
       "      <td>0.104010</td>\n",
       "      <td>0.509393</td>\n",
       "      <td>0.593464</td>\n",
       "      <td>0.216387</td>\n",
       "      <td>1.000000</td>\n",
       "      <td>0.662072</td>\n",
       "      <td>0.838601</td>\n",
       "      <td>0.645018</td>\n",
       "      <td>0.655560</td>\n",
       "      <td>-0.374180</td>\n",
       "      <td>-0.265472</td>\n",
       "      <td>-0.010730</td>\n",
       "    </tr>\n",
       "    <tr>\n",
       "      <th>green_std</th>\n",
       "      <td>-0.186410</td>\n",
       "      <td>-0.050409</td>\n",
       "      <td>0.215577</td>\n",
       "      <td>0.216751</td>\n",
       "      <td>-0.098095</td>\n",
       "      <td>0.662072</td>\n",
       "      <td>1.000000</td>\n",
       "      <td>0.878388</td>\n",
       "      <td>0.362387</td>\n",
       "      <td>0.285110</td>\n",
       "      <td>0.045868</td>\n",
       "      <td>0.118361</td>\n",
       "      <td>0.128097</td>\n",
       "    </tr>\n",
       "    <tr>\n",
       "      <th>blue_std</th>\n",
       "      <td>-0.087289</td>\n",
       "      <td>0.000322</td>\n",
       "      <td>0.304457</td>\n",
       "      <td>0.403569</td>\n",
       "      <td>0.182542</td>\n",
       "      <td>0.838601</td>\n",
       "      <td>0.878388</td>\n",
       "      <td>1.000000</td>\n",
       "      <td>0.528676</td>\n",
       "      <td>0.499803</td>\n",
       "      <td>-0.111891</td>\n",
       "      <td>-0.074903</td>\n",
       "      <td>0.106215</td>\n",
       "    </tr>\n",
       "    <tr>\n",
       "      <th>f4</th>\n",
       "      <td>0.199877</td>\n",
       "      <td>0.113782</td>\n",
       "      <td>0.477743</td>\n",
       "      <td>0.565651</td>\n",
       "      <td>0.189620</td>\n",
       "      <td>0.645018</td>\n",
       "      <td>0.362387</td>\n",
       "      <td>0.528676</td>\n",
       "      <td>1.000000</td>\n",
       "      <td>0.969813</td>\n",
       "      <td>-0.391836</td>\n",
       "      <td>-0.803012</td>\n",
       "      <td>-0.184542</td>\n",
       "    </tr>\n",
       "    <tr>\n",
       "      <th>f5</th>\n",
       "      <td>0.259072</td>\n",
       "      <td>0.152644</td>\n",
       "      <td>0.546095</td>\n",
       "      <td>0.635442</td>\n",
       "      <td>0.144886</td>\n",
       "      <td>0.655560</td>\n",
       "      <td>0.285110</td>\n",
       "      <td>0.499803</td>\n",
       "      <td>0.969813</td>\n",
       "      <td>1.000000</td>\n",
       "      <td>-0.514696</td>\n",
       "      <td>-0.827581</td>\n",
       "      <td>-0.153596</td>\n",
       "    </tr>\n",
       "    <tr>\n",
       "      <th>f7</th>\n",
       "      <td>-0.549149</td>\n",
       "      <td>-0.339580</td>\n",
       "      <td>-0.903118</td>\n",
       "      <td>-0.876213</td>\n",
       "      <td>0.283618</td>\n",
       "      <td>-0.374180</td>\n",
       "      <td>0.045868</td>\n",
       "      <td>-0.111891</td>\n",
       "      <td>-0.391836</td>\n",
       "      <td>-0.514696</td>\n",
       "      <td>1.000000</td>\n",
       "      <td>0.432107</td>\n",
       "      <td>-0.013594</td>\n",
       "    </tr>\n",
       "    <tr>\n",
       "      <th>f8</th>\n",
       "      <td>-0.275354</td>\n",
       "      <td>-0.124456</td>\n",
       "      <td>-0.414009</td>\n",
       "      <td>-0.487060</td>\n",
       "      <td>-0.155106</td>\n",
       "      <td>-0.265472</td>\n",
       "      <td>0.118361</td>\n",
       "      <td>-0.074903</td>\n",
       "      <td>-0.803012</td>\n",
       "      <td>-0.827581</td>\n",
       "      <td>0.432107</td>\n",
       "      <td>1.000000</td>\n",
       "      <td>0.188402</td>\n",
       "    </tr>\n",
       "    <tr>\n",
       "      <th>label</th>\n",
       "      <td>-0.069221</td>\n",
       "      <td>-0.057570</td>\n",
       "      <td>0.078385</td>\n",
       "      <td>0.054323</td>\n",
       "      <td>-0.080516</td>\n",
       "      <td>-0.010730</td>\n",
       "      <td>0.128097</td>\n",
       "      <td>0.106215</td>\n",
       "      <td>-0.184542</td>\n",
       "      <td>-0.153596</td>\n",
       "      <td>-0.013594</td>\n",
       "      <td>0.188402</td>\n",
       "      <td>1.000000</td>\n",
       "    </tr>\n",
       "  </tbody>\n",
       "</table>\n",
       "</div>"
      ],
      "text/plain": [
       "                area  perimeter  green_mean  blue_mean        f2   red_std  \\\n",
       "area        1.000000   0.891917    0.481343   0.473311 -0.090670  0.088464   \n",
       "perimeter   0.891917   1.000000    0.294440   0.284600 -0.080931  0.104010   \n",
       "green_mean  0.481343   0.294440    1.000000   0.966991 -0.296109  0.509393   \n",
       "blue_mean   0.473311   0.284600    0.966991   1.000000 -0.087703  0.593464   \n",
       "f2         -0.090670  -0.080931   -0.296109  -0.087703  1.000000  0.216387   \n",
       "red_std     0.088464   0.104010    0.509393   0.593464  0.216387  1.000000   \n",
       "green_std  -0.186410  -0.050409    0.215577   0.216751 -0.098095  0.662072   \n",
       "blue_std   -0.087289   0.000322    0.304457   0.403569  0.182542  0.838601   \n",
       "f4          0.199877   0.113782    0.477743   0.565651  0.189620  0.645018   \n",
       "f5          0.259072   0.152644    0.546095   0.635442  0.144886  0.655560   \n",
       "f7         -0.549149  -0.339580   -0.903118  -0.876213  0.283618 -0.374180   \n",
       "f8         -0.275354  -0.124456   -0.414009  -0.487060 -0.155106 -0.265472   \n",
       "label      -0.069221  -0.057570    0.078385   0.054323 -0.080516 -0.010730   \n",
       "\n",
       "            green_std  blue_std        f4        f5        f7        f8  \\\n",
       "area        -0.186410 -0.087289  0.199877  0.259072 -0.549149 -0.275354   \n",
       "perimeter   -0.050409  0.000322  0.113782  0.152644 -0.339580 -0.124456   \n",
       "green_mean   0.215577  0.304457  0.477743  0.546095 -0.903118 -0.414009   \n",
       "blue_mean    0.216751  0.403569  0.565651  0.635442 -0.876213 -0.487060   \n",
       "f2          -0.098095  0.182542  0.189620  0.144886  0.283618 -0.155106   \n",
       "red_std      0.662072  0.838601  0.645018  0.655560 -0.374180 -0.265472   \n",
       "green_std    1.000000  0.878388  0.362387  0.285110  0.045868  0.118361   \n",
       "blue_std     0.878388  1.000000  0.528676  0.499803 -0.111891 -0.074903   \n",
       "f4           0.362387  0.528676  1.000000  0.969813 -0.391836 -0.803012   \n",
       "f5           0.285110  0.499803  0.969813  1.000000 -0.514696 -0.827581   \n",
       "f7           0.045868 -0.111891 -0.391836 -0.514696  1.000000  0.432107   \n",
       "f8           0.118361 -0.074903 -0.803012 -0.827581  0.432107  1.000000   \n",
       "label        0.128097  0.106215 -0.184542 -0.153596 -0.013594  0.188402   \n",
       "\n",
       "               label  \n",
       "area       -0.069221  \n",
       "perimeter  -0.057570  \n",
       "green_mean  0.078385  \n",
       "blue_mean   0.054323  \n",
       "f2         -0.080516  \n",
       "red_std    -0.010730  \n",
       "green_std   0.128097  \n",
       "blue_std    0.106215  \n",
       "f4         -0.184542  \n",
       "f5         -0.153596  \n",
       "f7         -0.013594  \n",
       "f8          0.188402  \n",
       "label       1.000000  "
      ]
     },
     "execution_count": 9,
     "metadata": {},
     "output_type": "execute_result"
    }
   ],
   "source": [
    "cleaned_data.corr(method ='pearson')"
   ]
  },
  {
   "cell_type": "code",
   "execution_count": 10,
   "metadata": {
    "id": "nHFTe4TItiFJ"
   },
   "outputs": [],
   "source": [
    "cleaned_data = cleaned_data.dropna()"
   ]
  },
  {
   "cell_type": "code",
   "execution_count": 11,
   "metadata": {
    "colab": {
     "base_uri": "https://localhost:8080/"
    },
    "id": "1ns2yXu9uXnE",
    "outputId": "81b3083c-7b65-4923-ebe8-674259d14aa4"
   },
   "outputs": [
    {
     "data": {
      "text/plain": [
       "(16047, 16)"
      ]
     },
     "execution_count": 11,
     "metadata": {},
     "output_type": "execute_result"
    }
   ],
   "source": [
    "raw_data.shape"
   ]
  },
  {
   "cell_type": "code",
   "execution_count": 12,
   "metadata": {
    "colab": {
     "base_uri": "https://localhost:8080/"
    },
    "id": "X2iVldJpuZb5",
    "outputId": "44927c0c-ca20-4995-f579-8f113ea7d2f3"
   },
   "outputs": [
    {
     "data": {
      "text/plain": [
       "(16047, 13)"
      ]
     },
     "execution_count": 12,
     "metadata": {},
     "output_type": "execute_result"
    }
   ],
   "source": [
    "cleaned_data.shape"
   ]
  },
  {
   "cell_type": "code",
   "execution_count": 13,
   "metadata": {
    "id": "q1UEsRsTubX5"
   },
   "outputs": [],
   "source": [
    "from sklearn.model_selection import train_test_split\n",
    "from sklearn.metrics import accuracy_score\n",
    "from sklearn.preprocessing import StandardScaler\n",
    "from sklearn.decomposition import PCA\n",
    "from sklearn.svm import SVC\n",
    "from sklearn.metrics import roc_curve, auc\n",
    "from sklearn.model_selection import KFold \n"
   ]
  },
  {
   "cell_type": "code",
   "execution_count": 14,
   "metadata": {
    "id": "ZJg6iy3Mu72T"
   },
   "outputs": [],
   "source": [
    "df = cleaned_data.reset_index()"
   ]
  },
  {
   "cell_type": "code",
   "execution_count": 15,
   "metadata": {
    "colab": {
     "base_uri": "https://localhost:8080/"
    },
    "id": "3DvMWo8rvPW6",
    "outputId": "72d93ebe-2fbe-47b6-903a-ae58e46569e7"
   },
   "outputs": [
    {
     "name": "stdout",
     "output_type": "stream",
     "text": [
      "(16047, 12)\n",
      "(16047,)\n"
     ]
    }
   ],
   "source": [
    "X = df.drop(['index','label'],axis = 1, inplace=False)\n",
    "y = df['label']\n",
    "print(X.shape)\n",
    "print(y.shape)"
   ]
  },
  {
   "cell_type": "code",
   "execution_count": 16,
   "metadata": {
    "colab": {
     "base_uri": "https://localhost:8080/"
    },
    "id": "j723Yu4Xvx_r",
    "outputId": "7d68696b-7a50-4d90-a12e-c3e326ba15d6"
   },
   "outputs": [
    {
     "name": "stdout",
     "output_type": "stream",
     "text": [
      "Score of each fold - [0.7006230529595016, 0.6950155763239876, 0.6886880648177002, 0.6933624181988158, 0.6830788407603615]\n",
      "Avg Score : 0.6921535906120734\n"
     ]
    }
   ],
   "source": [
    "k = 5\n",
    "kf = KFold(n_splits=k, random_state=9, shuffle = True)\n",
    "from sklearn.ensemble import RandomForestClassifier\n",
    "model = RandomForestClassifier(random_state = 50,n_estimators = 50,max_samples = 0.7)\n",
    " \n",
    "acc_score = []\n",
    "\n",
    "for train_index , test_index in kf.split(X):\n",
    "    X_train , X_test = X.iloc[train_index,:],X.iloc[test_index,:]\n",
    "    y_train , y_test = y[train_index] , y[test_index]\n",
    "    model = RandomForestClassifier(random_state = 50,n_estimators = 50,max_samples = 0.7)\n",
    "    model.fit(X_train,y_train)\n",
    "    pred_values = model.predict(X_test)            # classification\n",
    "    acc = accuracy_score(pred_values , y_test)     # Classification\n",
    "\n",
    "    #acc = model.score(X_test,y_test)                # Regression\n",
    "    \n",
    "    acc_score.append(acc)\n",
    "     \n",
    "avg_acc_score = sum(acc_score)/k\n",
    " \n",
    "print('Score of each fold - {}'.format(acc_score))\n",
    "print('Avg Score : {}'.format(avg_acc_score))"
   ]
  },
  {
   "cell_type": "markdown",
   "metadata": {
    "id": "jShjKvkbwtys"
   },
   "source": [
    "# **K- fold Cross validation accuracy:**\n",
    "# **0.9171717171717173**"
   ]
  },
  {
   "cell_type": "markdown",
   "metadata": {
    "id": "MalrrV30xqn8"
   },
   "source": [
    "# ROC Curve"
   ]
  },
  {
   "cell_type": "code",
   "execution_count": 17,
   "metadata": {
    "colab": {
     "base_uri": "https://localhost:8080/",
     "height": 349
    },
    "id": "U_6DxxVXwmJP",
    "outputId": "a133289a-c71b-4af2-8e04-d36b24d2fc40"
   },
   "outputs": [
    {
     "data": {
      "image/png": "[encoded data removed]",
      "text/plain": [
       "<Figure size 432x288 with 1 Axes>"
      ]
     },
     "metadata": {
      "needs_background": "light"
     },
     "output_type": "display_data"
    }
   ],
   "source": [
    "import scikitplot as skplt\n",
    "import matplotlib.pyplot as plt\n",
    "\n",
    "y_true = y_test\n",
    "y_probas = model.predict_proba(X_test)\n",
    "skplt.metrics.plot_roc(y_true, y_probas)\n",
    "\n",
    "plt.show()"
   ]
  },
  {
   "cell_type": "code",
   "execution_count": 18,
   "metadata": {
    "colab": {
     "base_uri": "https://localhost:8080/",
     "height": 296
    },
    "id": "qw0YcxFQx3Mc",
    "outputId": "c83fbdcf-a67a-404f-e8dc-9c8473490392"
   },
   "outputs": [
    {
     "ename": "ValueError",
     "evalue": "The number of FixedLocator locations (10), usually from a call to set_ticks, does not match the number of ticklabels (3).",
     "output_type": "error",
     "traceback": [
      "\u001b[0;31m--------------------------------------------------------------------------\u001b[0m",
      "\u001b[0;31mValueError\u001b[0m                               Traceback (most recent call last)",
      "\u001b[0;32m<ipython-input-18-21fe5275d9b1>\u001b[0m in \u001b[0;36m<module>\u001b[0;34m\u001b[0m\n\u001b[1;32m      1\u001b[0m \u001b[0;32mfrom\u001b[0m \u001b[0msklearn\u001b[0m\u001b[0;34m.\u001b[0m\u001b[0mmetrics\u001b[0m \u001b[0;32mimport\u001b[0m \u001b[0mplot_confusion_matrix\u001b[0m\u001b[0;34m\u001b[0m\u001b[0;34m\u001b[0m\u001b[0m\n\u001b[1;32m      2\u001b[0m \u001b[0my_pred\u001b[0m \u001b[0;34m=\u001b[0m \u001b[0mmodel\u001b[0m\u001b[0;34m.\u001b[0m\u001b[0mpredict\u001b[0m\u001b[0;34m(\u001b[0m\u001b[0mX_test\u001b[0m\u001b[0;34m)\u001b[0m\u001b[0;34m\u001b[0m\u001b[0;34m\u001b[0m\u001b[0m\n\u001b[0;32m----> 3\u001b[0;31m \u001b[0mplot_confusion_matrix\u001b[0m\u001b[0;34m(\u001b[0m\u001b[0mmodel\u001b[0m\u001b[0;34m,\u001b[0m \u001b[0mX_test\u001b[0m\u001b[0;34m,\u001b[0m \u001b[0my_test\u001b[0m\u001b[0;34m,\u001b[0m \u001b[0mvalues_format\u001b[0m \u001b[0;34m=\u001b[0m \u001b[0;34m'd'\u001b[0m\u001b[0;34m,\u001b[0m\u001b[0mcmap\u001b[0m \u001b[0;34m=\u001b[0m \u001b[0;34m'Blues'\u001b[0m\u001b[0;34m,\u001b[0m\u001b[0mdisplay_labels\u001b[0m \u001b[0;34m=\u001b[0m \u001b[0;34m[\u001b[0m\u001b[0;34m'0'\u001b[0m\u001b[0;34m,\u001b[0m\u001b[0;34m'1'\u001b[0m\u001b[0;34m,\u001b[0m\u001b[0;34m'2'\u001b[0m\u001b[0;34m]\u001b[0m\u001b[0;34m)\u001b[0m\u001b[0;34m\u001b[0m\u001b[0;34m\u001b[0m\u001b[0m\n\u001b[0m",
      "\u001b[0;32m~/Documentos/pdi_project/plant_env/lib/python3.6/site-packages/sklearn/utils/validation.py\u001b[0m in \u001b[0;36minner_f\u001b[0;34m(*args, **kwargs)\u001b[0m\n\u001b[1;32m     61\u001b[0m             \u001b[0mextra_args\u001b[0m \u001b[0;34m=\u001b[0m \u001b[0mlen\u001b[0m\u001b[0;34m(\u001b[0m\u001b[0margs\u001b[0m\u001b[0;34m)\u001b[0m \u001b[0;34m-\u001b[0m \u001b[0mlen\u001b[0m\u001b[0;34m(\u001b[0m\u001b[0mall_args\u001b[0m\u001b[0;34m)\u001b[0m\u001b[0;34m\u001b[0m\u001b[0;34m\u001b[0m\u001b[0m\n\u001b[1;32m     62\u001b[0m             \u001b[0;32mif\u001b[0m \u001b[0mextra_args\u001b[0m \u001b[0;34m<=\u001b[0m \u001b[0;36m0\u001b[0m\u001b[0;34m:\u001b[0m\u001b[0;34m\u001b[0m\u001b[0;34m\u001b[0m\u001b[0m\n\u001b[0;32m---> 63\u001b[0;31m                 \u001b[0;32mreturn\u001b[0m \u001b[0mf\u001b[0m\u001b[0;34m(\u001b[0m\u001b[0;34m*\u001b[0m\u001b[0margs\u001b[0m\u001b[0;34m,\u001b[0m \u001b[0;34m**\u001b[0m\u001b[0mkwargs\u001b[0m\u001b[0;34m)\u001b[0m\u001b[0;34m\u001b[0m\u001b[0;34m\u001b[0m\u001b[0m\n\u001b[0m\u001b[1;32m     64\u001b[0m \u001b[0;34m\u001b[0m\u001b[0m\n\u001b[1;32m     65\u001b[0m             \u001b[0;31m# extra_args > 0\u001b[0m\u001b[0;34m\u001b[0m\u001b[0;34m\u001b[0m\u001b[0;34m\u001b[0m\u001b[0m\n",
      "\u001b[0;32m~/Documentos/pdi_project/plant_env/lib/python3.6/site-packages/sklearn/metrics/_plot/confusion_matrix.py\u001b[0m in \u001b[0;36mplot_confusion_matrix\u001b[0;34m(estimator, X, y_true, labels, sample_weight, normalize, display_labels, include_values, xticks_rotation, values_format, cmap, ax, colorbar)\u001b[0m\n\u001b[1;32m    275\u001b[0m     return disp.plot(include_values=include_values,\n\u001b[1;32m    276\u001b[0m                      \u001b[0mcmap\u001b[0m\u001b[0;34m=\u001b[0m\u001b[0mcmap\u001b[0m\u001b[0;34m,\u001b[0m \u001b[0max\u001b[0m\u001b[0;34m=\u001b[0m\u001b[0max\u001b[0m\u001b[0;34m,\u001b[0m \u001b[0mxticks_rotation\u001b[0m\u001b[0;34m=\u001b[0m\u001b[0mxticks_rotation\u001b[0m\u001b[0;34m,\u001b[0m\u001b[0;34m\u001b[0m\u001b[0;34m\u001b[0m\u001b[0m\n\u001b[0;32m--> 277\u001b[0;31m                      values_format=values_format, colorbar=colorbar)\n\u001b[0m",
      "\u001b[0;32m~/Documentos/pdi_project/plant_env/lib/python3.6/site-packages/sklearn/utils/validation.py\u001b[0m in \u001b[0;36minner_f\u001b[0;34m(*args, **kwargs)\u001b[0m\n\u001b[1;32m     61\u001b[0m             \u001b[0mextra_args\u001b[0m \u001b[0;34m=\u001b[0m \u001b[0mlen\u001b[0m\u001b[0;34m(\u001b[0m\u001b[0margs\u001b[0m\u001b[0;34m)\u001b[0m \u001b[0;34m-\u001b[0m \u001b[0mlen\u001b[0m\u001b[0;34m(\u001b[0m\u001b[0mall_args\u001b[0m\u001b[0;34m)\u001b[0m\u001b[0;34m\u001b[0m\u001b[0;34m\u001b[0m\u001b[0m\n\u001b[1;32m     62\u001b[0m             \u001b[0;32mif\u001b[0m \u001b[0mextra_args\u001b[0m \u001b[0;34m<=\u001b[0m \u001b[0;36m0\u001b[0m\u001b[0;34m:\u001b[0m\u001b[0;34m\u001b[0m\u001b[0;34m\u001b[0m\u001b[0m\n\u001b[0;32m---> 63\u001b[0;31m                 \u001b[0;32mreturn\u001b[0m \u001b[0mf\u001b[0m\u001b[0;34m(\u001b[0m\u001b[0;34m*\u001b[0m\u001b[0margs\u001b[0m\u001b[0;34m,\u001b[0m \u001b[0;34m**\u001b[0m\u001b[0mkwargs\u001b[0m\u001b[0;34m)\u001b[0m\u001b[0;34m\u001b[0m\u001b[0;34m\u001b[0m\u001b[0m\n\u001b[0m\u001b[1;32m     64\u001b[0m \u001b[0;34m\u001b[0m\u001b[0m\n\u001b[1;32m     65\u001b[0m             \u001b[0;31m# extra_args > 0\u001b[0m\u001b[0;34m\u001b[0m\u001b[0;34m\u001b[0m\u001b[0;34m\u001b[0m\u001b[0m\n",
      "\u001b[0;32m~/Documentos/pdi_project/plant_env/lib/python3.6/site-packages/sklearn/metrics/_plot/confusion_matrix.py\u001b[0m in \u001b[0;36mplot\u001b[0;34m(self, include_values, cmap, xticks_rotation, values_format, ax, colorbar)\u001b[0m\n\u001b[1;32m    156\u001b[0m                \u001b[0myticklabels\u001b[0m\u001b[0;34m=\u001b[0m\u001b[0mdisplay_labels\u001b[0m\u001b[0;34m,\u001b[0m\u001b[0;34m\u001b[0m\u001b[0;34m\u001b[0m\u001b[0m\n\u001b[1;32m    157\u001b[0m                \u001b[0mylabel\u001b[0m\u001b[0;34m=\u001b[0m\u001b[0;34m\"True label\"\u001b[0m\u001b[0;34m,\u001b[0m\u001b[0;34m\u001b[0m\u001b[0;34m\u001b[0m\u001b[0m\n\u001b[0;32m--> 158\u001b[0;31m                xlabel=\"Predicted label\")\n\u001b[0m\u001b[1;32m    159\u001b[0m \u001b[0;34m\u001b[0m\u001b[0m\n\u001b[1;32m    160\u001b[0m         \u001b[0max\u001b[0m\u001b[0;34m.\u001b[0m\u001b[0mset_ylim\u001b[0m\u001b[0;34m(\u001b[0m\u001b[0;34m(\u001b[0m\u001b[0mn_classes\u001b[0m \u001b[0;34m-\u001b[0m \u001b[0;36m0.5\u001b[0m\u001b[0;34m,\u001b[0m \u001b[0;34m-\u001b[0m\u001b[0;36m0.5\u001b[0m\u001b[0;34m)\u001b[0m\u001b[0;34m)\u001b[0m\u001b[0;34m\u001b[0m\u001b[0;34m\u001b[0m\u001b[0m\n",
      "\u001b[0;32m~/Documentos/pdi_project/plant_env/lib/python3.6/site-packages/matplotlib/artist.py\u001b[0m in \u001b[0;36mset\u001b[0;34m(self, **kwargs)\u001b[0m\n\u001b[1;32m   1111\u001b[0m         \u001b[0;32mif\u001b[0m \u001b[0mmove_color_to_start\u001b[0m\u001b[0;34m:\u001b[0m\u001b[0;34m\u001b[0m\u001b[0;34m\u001b[0m\u001b[0m\n\u001b[1;32m   1112\u001b[0m             \u001b[0mkwargs\u001b[0m \u001b[0;34m=\u001b[0m \u001b[0;34m{\u001b[0m\u001b[0;34m\"color\"\u001b[0m\u001b[0;34m:\u001b[0m \u001b[0mkwargs\u001b[0m\u001b[0;34m.\u001b[0m\u001b[0mpop\u001b[0m\u001b[0;34m(\u001b[0m\u001b[0;34m\"color\"\u001b[0m\u001b[0;34m)\u001b[0m\u001b[0;34m,\u001b[0m \u001b[0;34m**\u001b[0m\u001b[0mkwargs\u001b[0m\u001b[0;34m}\u001b[0m\u001b[0;34m\u001b[0m\u001b[0;34m\u001b[0m\u001b[0m\n\u001b[0;32m-> 1113\u001b[0;31m         \u001b[0;32mreturn\u001b[0m \u001b[0mself\u001b[0m\u001b[0;34m.\u001b[0m\u001b[0mupdate\u001b[0m\u001b[0;34m(\u001b[0m\u001b[0mkwargs\u001b[0m\u001b[0;34m)\u001b[0m\u001b[0;34m\u001b[0m\u001b[0;34m\u001b[0m\u001b[0m\n\u001b[0m\u001b[1;32m   1114\u001b[0m \u001b[0;34m\u001b[0m\u001b[0m\n\u001b[1;32m   1115\u001b[0m     \u001b[0;32mdef\u001b[0m \u001b[0mfindobj\u001b[0m\u001b[0;34m(\u001b[0m\u001b[0mself\u001b[0m\u001b[0;34m,\u001b[0m \u001b[0mmatch\u001b[0m\u001b[0;34m=\u001b[0m\u001b[0;32mNone\u001b[0m\u001b[0;34m,\u001b[0m \u001b[0minclude_self\u001b[0m\u001b[0;34m=\u001b[0m\u001b[0;32mTrue\u001b[0m\u001b[0;34m)\u001b[0m\u001b[0;34m:\u001b[0m\u001b[0;34m\u001b[0m\u001b[0;34m\u001b[0m\u001b[0m\n",
      "\u001b[0;32m~/Documentos/pdi_project/plant_env/lib/python3.6/site-packages/matplotlib/artist.py\u001b[0m in \u001b[0;36mupdate\u001b[0;34m(self, props)\u001b[0m\n\u001b[1;32m    996\u001b[0m                         raise AttributeError(f\"{type(self).__name__!r} object \"\n\u001b[1;32m    997\u001b[0m                                              f\"has no property {k!r}\")\n\u001b[0;32m--> 998\u001b[0;31m                     \u001b[0mret\u001b[0m\u001b[0;34m.\u001b[0m\u001b[0mappend\u001b[0m\u001b[0;34m(\u001b[0m\u001b[0mfunc\u001b[0m\u001b[0;34m(\u001b[0m\u001b[0mv\u001b[0m\u001b[0;34m)\u001b[0m\u001b[0;34m)\u001b[0m\u001b[0;34m\u001b[0m\u001b[0;34m\u001b[0m\u001b[0m\n\u001b[0m\u001b[1;32m    999\u001b[0m         \u001b[0;32mif\u001b[0m \u001b[0mret\u001b[0m\u001b[0;34m:\u001b[0m\u001b[0;34m\u001b[0m\u001b[0;34m\u001b[0m\u001b[0m\n\u001b[1;32m   1000\u001b[0m             \u001b[0mself\u001b[0m\u001b[0;34m.\u001b[0m\u001b[0mpchanged\u001b[0m\u001b[0;34m(\u001b[0m\u001b[0;34m)\u001b[0m\u001b[0;34m\u001b[0m\u001b[0;34m\u001b[0m\u001b[0m\n",
      "\u001b[0;32m~/Documentos/pdi_project/plant_env/lib/python3.6/site-packages/matplotlib/axes/_base.py\u001b[0m in \u001b[0;36mwrapper\u001b[0;34m(self, *args, **kwargs)\u001b[0m\n\u001b[1;32m     61\u001b[0m \u001b[0;34m\u001b[0m\u001b[0m\n\u001b[1;32m     62\u001b[0m         \u001b[0;32mdef\u001b[0m \u001b[0mwrapper\u001b[0m\u001b[0;34m(\u001b[0m\u001b[0mself\u001b[0m\u001b[0;34m,\u001b[0m \u001b[0;34m*\u001b[0m\u001b[0margs\u001b[0m\u001b[0;34m,\u001b[0m \u001b[0;34m**\u001b[0m\u001b[0mkwargs\u001b[0m\u001b[0;34m)\u001b[0m\u001b[0;34m:\u001b[0m\u001b[0;34m\u001b[0m\u001b[0;34m\u001b[0m\u001b[0m\n\u001b[0;32m---> 63\u001b[0;31m             \u001b[0;32mreturn\u001b[0m \u001b[0mget_method\u001b[0m\u001b[0;34m(\u001b[0m\u001b[0mself\u001b[0m\u001b[0;34m)\u001b[0m\u001b[0;34m(\u001b[0m\u001b[0;34m*\u001b[0m\u001b[0margs\u001b[0m\u001b[0;34m,\u001b[0m \u001b[0;34m**\u001b[0m\u001b[0mkwargs\u001b[0m\u001b[0;34m)\u001b[0m\u001b[0;34m\u001b[0m\u001b[0;34m\u001b[0m\u001b[0m\n\u001b[0m\u001b[1;32m     64\u001b[0m \u001b[0;34m\u001b[0m\u001b[0m\n\u001b[1;32m     65\u001b[0m         \u001b[0mwrapper\u001b[0m\u001b[0;34m.\u001b[0m\u001b[0m__module__\u001b[0m \u001b[0;34m=\u001b[0m \u001b[0mowner\u001b[0m\u001b[0;34m.\u001b[0m\u001b[0m__module__\u001b[0m\u001b[0;34m\u001b[0m\u001b[0;34m\u001b[0m\u001b[0m\n",
      "\u001b[0;32m~/Documentos/pdi_project/plant_env/lib/python3.6/site-packages/matplotlib/cbook/deprecation.py\u001b[0m in \u001b[0;36mwrapper\u001b[0;34m(*args, **kwargs)\u001b[0m\n\u001b[1;32m    449\u001b[0m                 \u001b[0;34m\"parameter will become keyword-only %(removal)s.\"\u001b[0m\u001b[0;34m,\u001b[0m\u001b[0;34m\u001b[0m\u001b[0;34m\u001b[0m\u001b[0m\n\u001b[1;32m    450\u001b[0m                 name=name, obj_type=f\"parameter of {func.__name__}()\")\n\u001b[0;32m--> 451\u001b[0;31m         \u001b[0;32mreturn\u001b[0m \u001b[0mfunc\u001b[0m\u001b[0;34m(\u001b[0m\u001b[0;34m*\u001b[0m\u001b[0margs\u001b[0m\u001b[0;34m,\u001b[0m \u001b[0;34m**\u001b[0m\u001b[0mkwargs\u001b[0m\u001b[0;34m)\u001b[0m\u001b[0;34m\u001b[0m\u001b[0;34m\u001b[0m\u001b[0m\n\u001b[0m\u001b[1;32m    452\u001b[0m \u001b[0;34m\u001b[0m\u001b[0m\n\u001b[1;32m    453\u001b[0m     \u001b[0;32mreturn\u001b[0m \u001b[0mwrapper\u001b[0m\u001b[0;34m\u001b[0m\u001b[0;34m\u001b[0m\u001b[0m\n",
      "\u001b[0;32m~/Documentos/pdi_project/plant_env/lib/python3.6/site-packages/matplotlib/axis.py\u001b[0m in \u001b[0;36m_set_ticklabels\u001b[0;34m(self, labels, fontdict, minor, **kwargs)\u001b[0m\n\u001b[1;32m   1794\u001b[0m         \u001b[0;32mif\u001b[0m \u001b[0mfontdict\u001b[0m \u001b[0;32mis\u001b[0m \u001b[0;32mnot\u001b[0m \u001b[0;32mNone\u001b[0m\u001b[0;34m:\u001b[0m\u001b[0;34m\u001b[0m\u001b[0;34m\u001b[0m\u001b[0m\n\u001b[1;32m   1795\u001b[0m             \u001b[0mkwargs\u001b[0m\u001b[0;34m.\u001b[0m\u001b[0mupdate\u001b[0m\u001b[0;34m(\u001b[0m\u001b[0mfontdict\u001b[0m\u001b[0;34m)\u001b[0m\u001b[0;34m\u001b[0m\u001b[0;34m\u001b[0m\u001b[0m\n\u001b[0;32m-> 1796\u001b[0;31m         \u001b[0;32mreturn\u001b[0m \u001b[0mself\u001b[0m\u001b[0;34m.\u001b[0m\u001b[0mset_ticklabels\u001b[0m\u001b[0;34m(\u001b[0m\u001b[0mlabels\u001b[0m\u001b[0;34m,\u001b[0m \u001b[0mminor\u001b[0m\u001b[0;34m=\u001b[0m\u001b[0mminor\u001b[0m\u001b[0;34m,\u001b[0m \u001b[0;34m**\u001b[0m\u001b[0mkwargs\u001b[0m\u001b[0;34m)\u001b[0m\u001b[0;34m\u001b[0m\u001b[0;34m\u001b[0m\u001b[0m\n\u001b[0m\u001b[1;32m   1797\u001b[0m \u001b[0;34m\u001b[0m\u001b[0m\n\u001b[1;32m   1798\u001b[0m     \u001b[0;34m@\u001b[0m\u001b[0mcbook\u001b[0m\u001b[0;34m.\u001b[0m\u001b[0m_make_keyword_only\u001b[0m\u001b[0;34m(\u001b[0m\u001b[0;34m\"3.2\"\u001b[0m\u001b[0;34m,\u001b[0m \u001b[0;34m\"minor\"\u001b[0m\u001b[0;34m)\u001b[0m\u001b[0;34m\u001b[0m\u001b[0;34m\u001b[0m\u001b[0m\n",
      "\u001b[0;32m~/Documentos/pdi_project/plant_env/lib/python3.6/site-packages/matplotlib/axis.py\u001b[0m in \u001b[0;36mset_ticklabels\u001b[0;34m(self, ticklabels, minor, **kwargs)\u001b[0m\n\u001b[1;32m   1716\u001b[0m             \u001b[0;32mif\u001b[0m \u001b[0mlen\u001b[0m\u001b[0;34m(\u001b[0m\u001b[0mlocator\u001b[0m\u001b[0;34m.\u001b[0m\u001b[0mlocs\u001b[0m\u001b[0;34m)\u001b[0m \u001b[0;34m!=\u001b[0m \u001b[0mlen\u001b[0m\u001b[0;34m(\u001b[0m\u001b[0mticklabels\u001b[0m\u001b[0;34m)\u001b[0m \u001b[0;32mand\u001b[0m \u001b[0mlen\u001b[0m\u001b[0;34m(\u001b[0m\u001b[0mticklabels\u001b[0m\u001b[0;34m)\u001b[0m \u001b[0;34m!=\u001b[0m \u001b[0;36m0\u001b[0m\u001b[0;34m:\u001b[0m\u001b[0;34m\u001b[0m\u001b[0;34m\u001b[0m\u001b[0m\n\u001b[1;32m   1717\u001b[0m                 raise ValueError(\n\u001b[0;32m-> 1718\u001b[0;31m                     \u001b[0;34m\"The number of FixedLocator locations\"\u001b[0m\u001b[0;34m\u001b[0m\u001b[0;34m\u001b[0m\u001b[0m\n\u001b[0m\u001b[1;32m   1719\u001b[0m                     \u001b[0;34mf\" ({len(locator.locs)}), usually from a call to\"\u001b[0m\u001b[0;34m\u001b[0m\u001b[0;34m\u001b[0m\u001b[0m\n\u001b[1;32m   1720\u001b[0m                     \u001b[0;34m\" set_ticks, does not match\"\u001b[0m\u001b[0;34m\u001b[0m\u001b[0;34m\u001b[0m\u001b[0m\n",
      "\u001b[0;31mValueError\u001b[0m: The number of FixedLocator locations (10), usually from a call to set_ticks, does not match the number of ticklabels (3)."
     ]
    },
    {
     "data": {
      "image/png": "[encoded data removed]",
      "text/plain": [
       "<Figure size 432x288 with 2 Axes>"
      ]
     },
     "metadata": {
      "needs_background": "light"
     },
     "output_type": "display_data"
    }
   ],
   "source": [
    "from sklearn.metrics import plot_confusion_matrix\n",
    "y_pred = model.predict(X_test)\n",
    "plot_confusion_matrix(model, X_test, y_test, values_format = 'd',cmap = 'Blues',display_labels = ['0','1','2'])"
   ]
  },
  {
   "cell_type": "code",
   "execution_count": 20,
   "metadata": {
    "colab": {
     "base_uri": "https://localhost:8080/"
    },
    "id": "Gref__vNyWqm",
    "outputId": "ba198a46-5398-482a-a509-72776333aa9d"
   },
   "outputs": [
    {
     "name": "stdout",
     "output_type": "stream",
     "text": [
      "              precision    recall  f1-score   support\n",
      "\n",
      "           0       0.98      0.94      0.96       185\n",
      "           1       0.90      0.91      0.91       206\n",
      "           2       0.89      0.92      0.90       203\n",
      "\n",
      "    accuracy                           0.92       594\n",
      "   macro avg       0.92      0.92      0.92       594\n",
      "weighted avg       0.92      0.92      0.92       594\n",
      "\n"
     ]
    }
   ],
   "source": [
    "from sklearn.metrics import classification_report\n",
    "\n",
    "print(classification_report(y_test, y_pred, [0,1,2]))"
   ]
  },
  {
   "cell_type": "markdown",
   "metadata": {
    "id": "XEl3_kcUzXyY"
   },
   "source": [
    "# Deployment"
   ]
  },
  {
   "cell_type": "code",
   "execution_count": 21,
   "metadata": {
    "colab": {
     "base_uri": "https://localhost:8080/"
    },
    "id": "HY3YfG2py-Jf",
    "outputId": "1ae76c7e-aea2-4ecf-9da4-2c14477c7009"
   },
   "outputs": [
    {
     "name": "stdout",
     "output_type": "stream",
     "text": [
      "Training Score:  0.9956228956228956\n"
     ]
    }
   ],
   "source": [
    "from sklearn.ensemble import RandomForestClassifier\n",
    "lm = RandomForestClassifier(random_state = 50,n_estimators = 50,max_samples = 0.7)\n",
    "lm.fit(X,y)\n",
    "print('Training Score: ',lm.score(X,y))"
   ]
  },
  {
   "cell_type": "code",
   "execution_count": 22,
   "metadata": {
    "colab": {
     "base_uri": "https://localhost:8080/"
    },
    "id": "LlyCB8PCy1qh",
    "outputId": "2cc193e3-7c9e-451e-ab77-0df761e46954"
   },
   "outputs": [
    {
     "data": {
      "text/plain": [
       "array([0.07853135, 0.05647257, 0.05298702, 0.04060839, 0.2196637 ,\n",
       "       0.0347469 , 0.0560005 , 0.10076536, 0.09299529, 0.0923627 ,\n",
       "       0.10165468, 0.07321154])"
      ]
     },
     "execution_count": 22,
     "metadata": {},
     "output_type": "execute_result"
    }
   ],
   "source": [
    "lm.feature_importances_"
   ]
  },
  {
   "cell_type": "markdown",
   "metadata": {
    "id": "WyNxpJvA0ycq"
   },
   "source": [
    "# Selected Features"
   ]
  },
  {
   "cell_type": "code",
   "execution_count": 24,
   "metadata": {
    "colab": {
     "base_uri": "https://localhost:8080/"
    },
    "id": "bb17TIJPz5jJ",
    "outputId": "a4d12a70-dffc-46c9-9374-c36c142227d2"
   },
   "outputs": [
    {
     "data": {
      "text/plain": [
       "Index(['area', 'perimeter', 'green_mean', 'blue_mean', 'f2', 'red_std',\n",
       "       'green_std', 'blue_std', 'f4', 'f5', 'f7', 'f8'],\n",
       "      dtype='object')"
      ]
     },
     "execution_count": 24,
     "metadata": {},
     "output_type": "execute_result"
    }
   ],
   "source": [
    "X.columns"
   ]
  },
  {
   "cell_type": "code",
   "execution_count": null,
   "metadata": {},
   "outputs": [],
   "source": []
  }
 ],
 "metadata": {
  "colab": {
   "name": "Apple_DA_and_MD.ipynb",
   "provenance": []
  },
  "kernelspec": {
   "display_name": "plant_env",
   "language": "python",
   "name": "plant_env"
  },
  "language_info": {
   "codemirror_mode": {
    "name": "ipython",
    "version": 3
   },
   "file_extension": ".py",
   "mimetype": "text/x-python",
   "name": "python",
   "nbconvert_exporter": "python",
   "pygments_lexer": "ipython3",
   "version": "3.6.9"
  }
 },
 "nbformat": 4,
 "nbformat_minor": 1
}
