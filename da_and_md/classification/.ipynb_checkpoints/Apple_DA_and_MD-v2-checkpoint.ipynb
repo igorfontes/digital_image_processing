{
 "cells": [
  {
   "cell_type": "code",
   "execution_count": 1,
   "metadata": {
    "id": "8Cg54vyTot1W"
   },
   "outputs": [],
   "source": [
    "import pandas as pd\n",
    "import matplotlib.pyplot as plt\n",
    "import numpy as np\n",
    "import seaborn as sns"
   ]
  },
  {
   "cell_type": "code",
   "execution_count": 2,
   "metadata": {
    "id": "4-v_yHgEowG5"
   },
   "outputs": [
    {
     "name": "stdout",
     "output_type": "stream",
     "text": [
      "WARNING: pip is being invoked by an old script wrapper. This will fail in a future version of pip.\n",
      "Please see https://github.com/pypa/pip/issues/5599 for advice on fixing the underlying issue.\n",
      "To avoid this problem you can invoke Python with '-m pip' instead of running pip directly.\n",
      "\u001b[33mDEPRECATION: Python 2.7 reached the end of its life on January 1st, 2020. Please upgrade your Python as Python 2.7 is no longer maintained. pip 21.0 will drop support for Python 2.7 in January 2021. More details about Python 2 support in pip, can be found at https://pip.pypa.io/en/latest/development/release-process/#python-2-support\u001b[0m\n",
      "Defaulting to user installation because normal site-packages is not writeable\n",
      "Collecting openpyxl\n",
      "  Downloading openpyxl-2.6.4.tar.gz (173 kB)\n",
      "\u001b[K     |████████████████████████████████| 173 kB 707 kB/s eta 0:00:01\n",
      "\u001b[?25hCollecting et_xmlfile\n",
      "  Using cached et_xmlfile-1.0.1.tar.gz (8.4 kB)\n",
      "Collecting jdcal\n",
      "  Downloading jdcal-1.4.1-py2.py3-none-any.whl (9.5 kB)\n",
      "Building wheels for collected packages: openpyxl, et-xmlfile\n",
      "  Building wheel for openpyxl (setup.py) ... \u001b[?25ldone\n",
      "\u001b[?25h  Created wheel for openpyxl: filename=openpyxl-2.6.4-py2.py3-none-any.whl size=247358 sha256=09ff74f390fba4f01c0e719cfe90a83fa124337df5fdd0faa6f9f06952e97523\n",
      "  Stored in directory: /home/igor/.cache/pip/wheels/c8/a2/00/45b67bd3aa8523135f5c7a07d028bd1953fffe8cdb8e3011fa\n",
      "  Building wheel for et-xmlfile (setup.py) ... \u001b[?25ldone\n",
      "\u001b[?25h  Created wheel for et-xmlfile: filename=et_xmlfile-1.0.1-py2-none-any.whl size=10356 sha256=5b9e6f353e07e1572a432a8534165210bbf92b837c6bb029455835ff5f0efca7\n",
      "  Stored in directory: /home/igor/.cache/pip/wheels/8d/22/36/204262bf2e0e1bd954606953bc164321f6b481d4922ffb823a\n",
      "Successfully built openpyxl et-xmlfile\n",
      "Installing collected packages: et-xmlfile, jdcal, openpyxl\n",
      "Successfully installed et-xmlfile-1.0.1 jdcal-1.4.1 openpyxl-2.6.4\n",
      "\u001b[33mWARNING: You are using pip version 20.1.1; however, version 20.3.4 is available.\n",
      "You should consider upgrading via the '/usr/bin/python -m pip install --upgrade pip' command.\u001b[0m\n"
     ]
    }
   ],
   "source": [
    "#!pip install openpyxl\n",
    "raw_data = pd.read_excel('dataset_apple.xlsx', engine='openpyxl')"
   ]
  },
  {
   "cell_type": "code",
   "execution_count": 3,
   "metadata": {
    "colab": {
     "base_uri": "https://localhost:8080/"
    },
    "id": "d-UxkVS-sCVa",
    "outputId": "6a77717b-e608-4356-e740-910a8cec0159"
   },
   "outputs": [
    {
     "data": {
      "text/plain": [
       "Unnamed: 0      int64\n",
       "area          float64\n",
       "perimeter     float64\n",
       "red_mean      float64\n",
       "green_mean    float64\n",
       "blue_mean     float64\n",
       "f1            float64\n",
       "f2            float64\n",
       "red_std       float64\n",
       "green_std     float64\n",
       "blue_std      float64\n",
       "f4            float64\n",
       "f5            float64\n",
       "f6            float64\n",
       "f7            float64\n",
       "f8            float64\n",
       "label           int64\n",
       "dtype: object"
      ]
     },
     "execution_count": 3,
     "metadata": {},
     "output_type": "execute_result"
    }
   ],
   "source": [
    "raw_data.dtypes"
   ]
  },
  {
   "cell_type": "code",
   "execution_count": 4,
   "metadata": {
    "id": "6rODIXAEsIiK"
   },
   "outputs": [],
   "source": [
    "raw_data.drop(['Unnamed: 0'],axis = 1, inplace=True)"
   ]
  },
  {
   "cell_type": "code",
   "execution_count": 5,
   "metadata": {
    "colab": {
     "base_uri": "https://localhost:8080/"
    },
    "id": "f3T6y1gVsT2p",
    "outputId": "ab01a558-d67c-4f56-92d5-52ca32f22a78"
   },
   "outputs": [
    {
     "data": {
      "text/plain": [
       "Index(['area', 'perimeter', 'red_mean', 'green_mean', 'blue_mean', 'f1', 'f2',\n",
       "       'red_std', 'green_std', 'blue_std', 'f4', 'f5', 'f6', 'f7', 'f8',\n",
       "       'label'],\n",
       "      dtype='object')"
      ]
     },
     "execution_count": 5,
     "metadata": {},
     "output_type": "execute_result"
    }
   ],
   "source": [
    "raw_data.columns"
   ]
  },
  {
   "cell_type": "code",
   "execution_count": 6,
   "metadata": {
    "colab": {
     "base_uri": "https://localhost:8080/",
     "height": 1000
    },
    "id": "48HQEVsXsWFp",
    "outputId": "69917675-7ac8-48a3-9a77-5f93eeecf880"
   },
   "outputs": [
    {
     "data": {
      "text/html": [
       "<div>\n",
       "<style scoped>\n",
       "    .dataframe tbody tr th:only-of-type {\n",
       "        vertical-align: middle;\n",
       "    }\n",
       "\n",
       "    .dataframe tbody tr th {\n",
       "        vertical-align: top;\n",
       "    }\n",
       "\n",
       "    .dataframe thead th {\n",
       "        text-align: right;\n",
       "    }\n",
       "</style>\n",
       "<table border=\"1\" class=\"dataframe\">\n",
       "  <thead>\n",
       "    <tr style=\"text-align: right;\">\n",
       "      <th></th>\n",
       "      <th>area</th>\n",
       "      <th>perimeter</th>\n",
       "      <th>red_mean</th>\n",
       "      <th>green_mean</th>\n",
       "      <th>blue_mean</th>\n",
       "      <th>f1</th>\n",
       "      <th>f2</th>\n",
       "      <th>red_std</th>\n",
       "      <th>green_std</th>\n",
       "      <th>blue_std</th>\n",
       "      <th>f4</th>\n",
       "      <th>f5</th>\n",
       "      <th>f6</th>\n",
       "      <th>f7</th>\n",
       "      <th>f8</th>\n",
       "      <th>label</th>\n",
       "    </tr>\n",
       "  </thead>\n",
       "  <tbody>\n",
       "    <tr>\n",
       "      <th>area</th>\n",
       "      <td>1.000000</td>\n",
       "      <td>0.837657</td>\n",
       "      <td>0.048957</td>\n",
       "      <td>0.092118</td>\n",
       "      <td>0.120778</td>\n",
       "      <td>0.116400</td>\n",
       "      <td>-0.116400</td>\n",
       "      <td>-0.262704</td>\n",
       "      <td>-0.346484</td>\n",
       "      <td>-0.198210</td>\n",
       "      <td>-0.150947</td>\n",
       "      <td>-0.054283</td>\n",
       "      <td>-0.275279</td>\n",
       "      <td>-0.392726</td>\n",
       "      <td>-0.031022</td>\n",
       "      <td>-0.234948</td>\n",
       "    </tr>\n",
       "    <tr>\n",
       "      <th>perimeter</th>\n",
       "      <td>0.837657</td>\n",
       "      <td>1.000000</td>\n",
       "      <td>0.084241</td>\n",
       "      <td>0.108520</td>\n",
       "      <td>0.129026</td>\n",
       "      <td>0.072057</td>\n",
       "      <td>-0.072057</td>\n",
       "      <td>-0.152335</td>\n",
       "      <td>-0.208638</td>\n",
       "      <td>-0.093302</td>\n",
       "      <td>-0.063281</td>\n",
       "      <td>0.029052</td>\n",
       "      <td>-0.232449</td>\n",
       "      <td>-0.289215</td>\n",
       "      <td>-0.070123</td>\n",
       "      <td>-0.158935</td>\n",
       "    </tr>\n",
       "    <tr>\n",
       "      <th>red_mean</th>\n",
       "      <td>0.048957</td>\n",
       "      <td>0.084241</td>\n",
       "      <td>1.000000</td>\n",
       "      <td>0.920113</td>\n",
       "      <td>0.765076</td>\n",
       "      <td>-0.262527</td>\n",
       "      <td>0.262527</td>\n",
       "      <td>0.036413</td>\n",
       "      <td>-0.019991</td>\n",
       "      <td>0.046610</td>\n",
       "      <td>0.088454</td>\n",
       "      <td>0.215854</td>\n",
       "      <td>-0.365782</td>\n",
       "      <td>-0.368199</td>\n",
       "      <td>-0.207031</td>\n",
       "      <td>0.120207</td>\n",
       "    </tr>\n",
       "    <tr>\n",
       "      <th>green_mean</th>\n",
       "      <td>0.092118</td>\n",
       "      <td>0.108520</td>\n",
       "      <td>0.920113</td>\n",
       "      <td>1.000000</td>\n",
       "      <td>0.764561</td>\n",
       "      <td>-0.089919</td>\n",
       "      <td>0.089919</td>\n",
       "      <td>-0.090551</td>\n",
       "      <td>-0.150908</td>\n",
       "      <td>-0.004859</td>\n",
       "      <td>-0.058980</td>\n",
       "      <td>0.139616</td>\n",
       "      <td>-0.442910</td>\n",
       "      <td>-0.495229</td>\n",
       "      <td>-0.168801</td>\n",
       "      <td>0.040736</td>\n",
       "    </tr>\n",
       "    <tr>\n",
       "      <th>blue_mean</th>\n",
       "      <td>0.120778</td>\n",
       "      <td>0.129026</td>\n",
       "      <td>0.765076</td>\n",
       "      <td>0.764561</td>\n",
       "      <td>1.000000</td>\n",
       "      <td>0.047321</td>\n",
       "      <td>-0.047321</td>\n",
       "      <td>-0.039267</td>\n",
       "      <td>-0.077338</td>\n",
       "      <td>0.079164</td>\n",
       "      <td>0.082269</td>\n",
       "      <td>0.188103</td>\n",
       "      <td>-0.349043</td>\n",
       "      <td>-0.376620</td>\n",
       "      <td>-0.181199</td>\n",
       "      <td>-0.259013</td>\n",
       "    </tr>\n",
       "    <tr>\n",
       "      <th>f1</th>\n",
       "      <td>0.116400</td>\n",
       "      <td>0.072057</td>\n",
       "      <td>-0.262527</td>\n",
       "      <td>-0.089919</td>\n",
       "      <td>0.047321</td>\n",
       "      <td>1.000000</td>\n",
       "      <td>-1.000000</td>\n",
       "      <td>-0.015274</td>\n",
       "      <td>-0.155880</td>\n",
       "      <td>0.021701</td>\n",
       "      <td>-0.025576</td>\n",
       "      <td>0.190850</td>\n",
       "      <td>-0.337920</td>\n",
       "      <td>-0.220671</td>\n",
       "      <td>-0.193241</td>\n",
       "      <td>-0.371292</td>\n",
       "    </tr>\n",
       "    <tr>\n",
       "      <th>f2</th>\n",
       "      <td>-0.116400</td>\n",
       "      <td>-0.072057</td>\n",
       "      <td>0.262527</td>\n",
       "      <td>0.089919</td>\n",
       "      <td>-0.047321</td>\n",
       "      <td>-1.000000</td>\n",
       "      <td>1.000000</td>\n",
       "      <td>0.015274</td>\n",
       "      <td>0.155880</td>\n",
       "      <td>-0.021701</td>\n",
       "      <td>0.025576</td>\n",
       "      <td>-0.190850</td>\n",
       "      <td>0.337920</td>\n",
       "      <td>0.220671</td>\n",
       "      <td>0.193241</td>\n",
       "      <td>0.371292</td>\n",
       "    </tr>\n",
       "    <tr>\n",
       "      <th>red_std</th>\n",
       "      <td>-0.262704</td>\n",
       "      <td>-0.152335</td>\n",
       "      <td>0.036413</td>\n",
       "      <td>-0.090551</td>\n",
       "      <td>-0.039267</td>\n",
       "      <td>-0.015274</td>\n",
       "      <td>0.015274</td>\n",
       "      <td>1.000000</td>\n",
       "      <td>0.931499</td>\n",
       "      <td>0.903733</td>\n",
       "      <td>0.789190</td>\n",
       "      <td>0.650738</td>\n",
       "      <td>0.141008</td>\n",
       "      <td>0.581394</td>\n",
       "      <td>-0.285531</td>\n",
       "      <td>0.075712</td>\n",
       "    </tr>\n",
       "    <tr>\n",
       "      <th>green_std</th>\n",
       "      <td>-0.346484</td>\n",
       "      <td>-0.208638</td>\n",
       "      <td>-0.019991</td>\n",
       "      <td>-0.150908</td>\n",
       "      <td>-0.077338</td>\n",
       "      <td>-0.155880</td>\n",
       "      <td>0.155880</td>\n",
       "      <td>0.931499</td>\n",
       "      <td>1.000000</td>\n",
       "      <td>0.846083</td>\n",
       "      <td>0.753588</td>\n",
       "      <td>0.534721</td>\n",
       "      <td>0.309341</td>\n",
       "      <td>0.679526</td>\n",
       "      <td>-0.166172</td>\n",
       "      <td>0.134448</td>\n",
       "    </tr>\n",
       "    <tr>\n",
       "      <th>blue_std</th>\n",
       "      <td>-0.198210</td>\n",
       "      <td>-0.093302</td>\n",
       "      <td>0.046610</td>\n",
       "      <td>-0.004859</td>\n",
       "      <td>0.079164</td>\n",
       "      <td>0.021701</td>\n",
       "      <td>-0.021701</td>\n",
       "      <td>0.903733</td>\n",
       "      <td>0.846083</td>\n",
       "      <td>1.000000</td>\n",
       "      <td>0.728247</td>\n",
       "      <td>0.635572</td>\n",
       "      <td>0.104585</td>\n",
       "      <td>0.497413</td>\n",
       "      <td>-0.287852</td>\n",
       "      <td>-0.015750</td>\n",
       "    </tr>\n",
       "    <tr>\n",
       "      <th>f4</th>\n",
       "      <td>-0.150947</td>\n",
       "      <td>-0.063281</td>\n",
       "      <td>0.088454</td>\n",
       "      <td>-0.058980</td>\n",
       "      <td>0.082269</td>\n",
       "      <td>-0.025576</td>\n",
       "      <td>0.025576</td>\n",
       "      <td>0.789190</td>\n",
       "      <td>0.753588</td>\n",
       "      <td>0.728247</td>\n",
       "      <td>1.000000</td>\n",
       "      <td>0.824817</td>\n",
       "      <td>0.060646</td>\n",
       "      <td>0.534826</td>\n",
       "      <td>-0.671490</td>\n",
       "      <td>0.148399</td>\n",
       "    </tr>\n",
       "    <tr>\n",
       "      <th>f5</th>\n",
       "      <td>-0.054283</td>\n",
       "      <td>0.029052</td>\n",
       "      <td>0.215854</td>\n",
       "      <td>0.139616</td>\n",
       "      <td>0.188103</td>\n",
       "      <td>0.190850</td>\n",
       "      <td>-0.190850</td>\n",
       "      <td>0.650738</td>\n",
       "      <td>0.534721</td>\n",
       "      <td>0.635572</td>\n",
       "      <td>0.824817</td>\n",
       "      <td>1.000000</td>\n",
       "      <td>-0.454652</td>\n",
       "      <td>0.116309</td>\n",
       "      <td>-0.838477</td>\n",
       "      <td>-0.044767</td>\n",
       "    </tr>\n",
       "    <tr>\n",
       "      <th>f6</th>\n",
       "      <td>-0.275279</td>\n",
       "      <td>-0.232449</td>\n",
       "      <td>-0.365782</td>\n",
       "      <td>-0.442910</td>\n",
       "      <td>-0.349043</td>\n",
       "      <td>-0.337920</td>\n",
       "      <td>0.337920</td>\n",
       "      <td>0.141008</td>\n",
       "      <td>0.309341</td>\n",
       "      <td>0.104585</td>\n",
       "      <td>0.060646</td>\n",
       "      <td>-0.454652</td>\n",
       "      <td>1.000000</td>\n",
       "      <td>0.759620</td>\n",
       "      <td>0.456883</td>\n",
       "      <td>0.336171</td>\n",
       "    </tr>\n",
       "    <tr>\n",
       "      <th>f7</th>\n",
       "      <td>-0.392726</td>\n",
       "      <td>-0.289215</td>\n",
       "      <td>-0.368199</td>\n",
       "      <td>-0.495229</td>\n",
       "      <td>-0.376620</td>\n",
       "      <td>-0.220671</td>\n",
       "      <td>0.220671</td>\n",
       "      <td>0.581394</td>\n",
       "      <td>0.679526</td>\n",
       "      <td>0.497413</td>\n",
       "      <td>0.534826</td>\n",
       "      <td>0.116309</td>\n",
       "      <td>0.759620</td>\n",
       "      <td>1.000000</td>\n",
       "      <td>0.000354</td>\n",
       "      <td>0.331698</td>\n",
       "    </tr>\n",
       "    <tr>\n",
       "      <th>f8</th>\n",
       "      <td>-0.031022</td>\n",
       "      <td>-0.070123</td>\n",
       "      <td>-0.207031</td>\n",
       "      <td>-0.168801</td>\n",
       "      <td>-0.181199</td>\n",
       "      <td>-0.193241</td>\n",
       "      <td>0.193241</td>\n",
       "      <td>-0.285531</td>\n",
       "      <td>-0.166172</td>\n",
       "      <td>-0.287852</td>\n",
       "      <td>-0.671490</td>\n",
       "      <td>-0.838477</td>\n",
       "      <td>0.456883</td>\n",
       "      <td>0.000354</td>\n",
       "      <td>1.000000</td>\n",
       "      <td>-0.060763</td>\n",
       "    </tr>\n",
       "    <tr>\n",
       "      <th>label</th>\n",
       "      <td>-0.234948</td>\n",
       "      <td>-0.158935</td>\n",
       "      <td>0.120207</td>\n",
       "      <td>0.040736</td>\n",
       "      <td>-0.259013</td>\n",
       "      <td>-0.371292</td>\n",
       "      <td>0.371292</td>\n",
       "      <td>0.075712</td>\n",
       "      <td>0.134448</td>\n",
       "      <td>-0.015750</td>\n",
       "      <td>0.148399</td>\n",
       "      <td>-0.044767</td>\n",
       "      <td>0.336171</td>\n",
       "      <td>0.331698</td>\n",
       "      <td>-0.060763</td>\n",
       "      <td>1.000000</td>\n",
       "    </tr>\n",
       "  </tbody>\n",
       "</table>\n",
       "</div>"
      ],
      "text/plain": [
       "                area  perimeter  red_mean  green_mean  blue_mean        f1  \\\n",
       "area        1.000000   0.837657  0.048957    0.092118   0.120778  0.116400   \n",
       "perimeter   0.837657   1.000000  0.084241    0.108520   0.129026  0.072057   \n",
       "red_mean    0.048957   0.084241  1.000000    0.920113   0.765076 -0.262527   \n",
       "green_mean  0.092118   0.108520  0.920113    1.000000   0.764561 -0.089919   \n",
       "blue_mean   0.120778   0.129026  0.765076    0.764561   1.000000  0.047321   \n",
       "f1          0.116400   0.072057 -0.262527   -0.089919   0.047321  1.000000   \n",
       "f2         -0.116400  -0.072057  0.262527    0.089919  -0.047321 -1.000000   \n",
       "red_std    -0.262704  -0.152335  0.036413   -0.090551  -0.039267 -0.015274   \n",
       "green_std  -0.346484  -0.208638 -0.019991   -0.150908  -0.077338 -0.155880   \n",
       "blue_std   -0.198210  -0.093302  0.046610   -0.004859   0.079164  0.021701   \n",
       "f4         -0.150947  -0.063281  0.088454   -0.058980   0.082269 -0.025576   \n",
       "f5         -0.054283   0.029052  0.215854    0.139616   0.188103  0.190850   \n",
       "f6         -0.275279  -0.232449 -0.365782   -0.442910  -0.349043 -0.337920   \n",
       "f7         -0.392726  -0.289215 -0.368199   -0.495229  -0.376620 -0.220671   \n",
       "f8         -0.031022  -0.070123 -0.207031   -0.168801  -0.181199 -0.193241   \n",
       "label      -0.234948  -0.158935  0.120207    0.040736  -0.259013 -0.371292   \n",
       "\n",
       "                  f2   red_std  green_std  blue_std        f4        f5  \\\n",
       "area       -0.116400 -0.262704  -0.346484 -0.198210 -0.150947 -0.054283   \n",
       "perimeter  -0.072057 -0.152335  -0.208638 -0.093302 -0.063281  0.029052   \n",
       "red_mean    0.262527  0.036413  -0.019991  0.046610  0.088454  0.215854   \n",
       "green_mean  0.089919 -0.090551  -0.150908 -0.004859 -0.058980  0.139616   \n",
       "blue_mean  -0.047321 -0.039267  -0.077338  0.079164  0.082269  0.188103   \n",
       "f1         -1.000000 -0.015274  -0.155880  0.021701 -0.025576  0.190850   \n",
       "f2          1.000000  0.015274   0.155880 -0.021701  0.025576 -0.190850   \n",
       "red_std     0.015274  1.000000   0.931499  0.903733  0.789190  0.650738   \n",
       "green_std   0.155880  0.931499   1.000000  0.846083  0.753588  0.534721   \n",
       "blue_std   -0.021701  0.903733   0.846083  1.000000  0.728247  0.635572   \n",
       "f4          0.025576  0.789190   0.753588  0.728247  1.000000  0.824817   \n",
       "f5         -0.190850  0.650738   0.534721  0.635572  0.824817  1.000000   \n",
       "f6          0.337920  0.141008   0.309341  0.104585  0.060646 -0.454652   \n",
       "f7          0.220671  0.581394   0.679526  0.497413  0.534826  0.116309   \n",
       "f8          0.193241 -0.285531  -0.166172 -0.287852 -0.671490 -0.838477   \n",
       "label       0.371292  0.075712   0.134448 -0.015750  0.148399 -0.044767   \n",
       "\n",
       "                  f6        f7        f8     label  \n",
       "area       -0.275279 -0.392726 -0.031022 -0.234948  \n",
       "perimeter  -0.232449 -0.289215 -0.070123 -0.158935  \n",
       "red_mean   -0.365782 -0.368199 -0.207031  0.120207  \n",
       "green_mean -0.442910 -0.495229 -0.168801  0.040736  \n",
       "blue_mean  -0.349043 -0.376620 -0.181199 -0.259013  \n",
       "f1         -0.337920 -0.220671 -0.193241 -0.371292  \n",
       "f2          0.337920  0.220671  0.193241  0.371292  \n",
       "red_std     0.141008  0.581394 -0.285531  0.075712  \n",
       "green_std   0.309341  0.679526 -0.166172  0.134448  \n",
       "blue_std    0.104585  0.497413 -0.287852 -0.015750  \n",
       "f4          0.060646  0.534826 -0.671490  0.148399  \n",
       "f5         -0.454652  0.116309 -0.838477 -0.044767  \n",
       "f6          1.000000  0.759620  0.456883  0.336171  \n",
       "f7          0.759620  1.000000  0.000354  0.331698  \n",
       "f8          0.456883  0.000354  1.000000 -0.060763  \n",
       "label       0.336171  0.331698 -0.060763  1.000000  "
      ]
     },
     "execution_count": 6,
     "metadata": {},
     "output_type": "execute_result"
    }
   ],
   "source": [
    "raw_data.corr(method ='pearson')"
   ]
  },
  {
   "cell_type": "code",
   "execution_count": 8,
   "metadata": {
    "colab": {
     "base_uri": "https://localhost:8080/"
    },
    "id": "k_Z60r3Dsk6a",
    "outputId": "1903a9e4-f570-4104-a9db-1046dd04c050"
   },
   "outputs": [],
   "source": [
    "#eda.correlationlist(raw_data)"
   ]
  },
  {
   "cell_type": "markdown",
   "metadata": {
    "id": "tykbukJOs9oT"
   },
   "source": [
    "**Insights:**\n",
    "Less correlated features are:\n",
    "- green channel mean\n",
    "- red channel std\n",
    "- blue channel std\n",
    "- f5\n",
    "- f8\n",
    "\n",
    "Also f1 and f2 are mutually relative So one of them can be removed"
   ]
  },
  {
   "cell_type": "code",
   "execution_count": 9,
   "metadata": {
    "id": "9C4PKZKLs276"
   },
   "outputs": [],
   "source": [
    "cleaned_data = raw_data.drop(['green_mean', 'red_std', 'blue_std', 'f5', 'f8','f1'],axis = 1, inplace=False)"
   ]
  },
  {
   "cell_type": "code",
   "execution_count": 10,
   "metadata": {
    "colab": {
     "base_uri": "https://localhost:8080/",
     "height": 1000
    },
    "id": "5YuECBs9taB2",
    "outputId": "659092be-fad9-4e71-aef0-f4da46785d46"
   },
   "outputs": [
    {
     "data": {
      "text/html": [
       "<div>\n",
       "<style scoped>\n",
       "    .dataframe tbody tr th:only-of-type {\n",
       "        vertical-align: middle;\n",
       "    }\n",
       "\n",
       "    .dataframe tbody tr th {\n",
       "        vertical-align: top;\n",
       "    }\n",
       "\n",
       "    .dataframe thead th {\n",
       "        text-align: right;\n",
       "    }\n",
       "</style>\n",
       "<table border=\"1\" class=\"dataframe\">\n",
       "  <thead>\n",
       "    <tr style=\"text-align: right;\">\n",
       "      <th></th>\n",
       "      <th>area</th>\n",
       "      <th>perimeter</th>\n",
       "      <th>red_mean</th>\n",
       "      <th>blue_mean</th>\n",
       "      <th>f2</th>\n",
       "      <th>green_std</th>\n",
       "      <th>f4</th>\n",
       "      <th>f6</th>\n",
       "      <th>f7</th>\n",
       "      <th>label</th>\n",
       "    </tr>\n",
       "  </thead>\n",
       "  <tbody>\n",
       "    <tr>\n",
       "      <th>area</th>\n",
       "      <td>1.000000</td>\n",
       "      <td>0.837657</td>\n",
       "      <td>0.048957</td>\n",
       "      <td>0.120778</td>\n",
       "      <td>-0.116400</td>\n",
       "      <td>-0.346484</td>\n",
       "      <td>-0.150947</td>\n",
       "      <td>-0.275279</td>\n",
       "      <td>-0.392726</td>\n",
       "      <td>-0.234948</td>\n",
       "    </tr>\n",
       "    <tr>\n",
       "      <th>perimeter</th>\n",
       "      <td>0.837657</td>\n",
       "      <td>1.000000</td>\n",
       "      <td>0.084241</td>\n",
       "      <td>0.129026</td>\n",
       "      <td>-0.072057</td>\n",
       "      <td>-0.208638</td>\n",
       "      <td>-0.063281</td>\n",
       "      <td>-0.232449</td>\n",
       "      <td>-0.289215</td>\n",
       "      <td>-0.158935</td>\n",
       "    </tr>\n",
       "    <tr>\n",
       "      <th>red_mean</th>\n",
       "      <td>0.048957</td>\n",
       "      <td>0.084241</td>\n",
       "      <td>1.000000</td>\n",
       "      <td>0.765076</td>\n",
       "      <td>0.262527</td>\n",
       "      <td>-0.019991</td>\n",
       "      <td>0.088454</td>\n",
       "      <td>-0.365782</td>\n",
       "      <td>-0.368199</td>\n",
       "      <td>0.120207</td>\n",
       "    </tr>\n",
       "    <tr>\n",
       "      <th>blue_mean</th>\n",
       "      <td>0.120778</td>\n",
       "      <td>0.129026</td>\n",
       "      <td>0.765076</td>\n",
       "      <td>1.000000</td>\n",
       "      <td>-0.047321</td>\n",
       "      <td>-0.077338</td>\n",
       "      <td>0.082269</td>\n",
       "      <td>-0.349043</td>\n",
       "      <td>-0.376620</td>\n",
       "      <td>-0.259013</td>\n",
       "    </tr>\n",
       "    <tr>\n",
       "      <th>f2</th>\n",
       "      <td>-0.116400</td>\n",
       "      <td>-0.072057</td>\n",
       "      <td>0.262527</td>\n",
       "      <td>-0.047321</td>\n",
       "      <td>1.000000</td>\n",
       "      <td>0.155880</td>\n",
       "      <td>0.025576</td>\n",
       "      <td>0.337920</td>\n",
       "      <td>0.220671</td>\n",
       "      <td>0.371292</td>\n",
       "    </tr>\n",
       "    <tr>\n",
       "      <th>green_std</th>\n",
       "      <td>-0.346484</td>\n",
       "      <td>-0.208638</td>\n",
       "      <td>-0.019991</td>\n",
       "      <td>-0.077338</td>\n",
       "      <td>0.155880</td>\n",
       "      <td>1.000000</td>\n",
       "      <td>0.753588</td>\n",
       "      <td>0.309341</td>\n",
       "      <td>0.679526</td>\n",
       "      <td>0.134448</td>\n",
       "    </tr>\n",
       "    <tr>\n",
       "      <th>f4</th>\n",
       "      <td>-0.150947</td>\n",
       "      <td>-0.063281</td>\n",
       "      <td>0.088454</td>\n",
       "      <td>0.082269</td>\n",
       "      <td>0.025576</td>\n",
       "      <td>0.753588</td>\n",
       "      <td>1.000000</td>\n",
       "      <td>0.060646</td>\n",
       "      <td>0.534826</td>\n",
       "      <td>0.148399</td>\n",
       "    </tr>\n",
       "    <tr>\n",
       "      <th>f6</th>\n",
       "      <td>-0.275279</td>\n",
       "      <td>-0.232449</td>\n",
       "      <td>-0.365782</td>\n",
       "      <td>-0.349043</td>\n",
       "      <td>0.337920</td>\n",
       "      <td>0.309341</td>\n",
       "      <td>0.060646</td>\n",
       "      <td>1.000000</td>\n",
       "      <td>0.759620</td>\n",
       "      <td>0.336171</td>\n",
       "    </tr>\n",
       "    <tr>\n",
       "      <th>f7</th>\n",
       "      <td>-0.392726</td>\n",
       "      <td>-0.289215</td>\n",
       "      <td>-0.368199</td>\n",
       "      <td>-0.376620</td>\n",
       "      <td>0.220671</td>\n",
       "      <td>0.679526</td>\n",
       "      <td>0.534826</td>\n",
       "      <td>0.759620</td>\n",
       "      <td>1.000000</td>\n",
       "      <td>0.331698</td>\n",
       "    </tr>\n",
       "    <tr>\n",
       "      <th>label</th>\n",
       "      <td>-0.234948</td>\n",
       "      <td>-0.158935</td>\n",
       "      <td>0.120207</td>\n",
       "      <td>-0.259013</td>\n",
       "      <td>0.371292</td>\n",
       "      <td>0.134448</td>\n",
       "      <td>0.148399</td>\n",
       "      <td>0.336171</td>\n",
       "      <td>0.331698</td>\n",
       "      <td>1.000000</td>\n",
       "    </tr>\n",
       "  </tbody>\n",
       "</table>\n",
       "</div>"
      ],
      "text/plain": [
       "               area  perimeter  red_mean  blue_mean        f2  green_std  \\\n",
       "area       1.000000   0.837657  0.048957   0.120778 -0.116400  -0.346484   \n",
       "perimeter  0.837657   1.000000  0.084241   0.129026 -0.072057  -0.208638   \n",
       "red_mean   0.048957   0.084241  1.000000   0.765076  0.262527  -0.019991   \n",
       "blue_mean  0.120778   0.129026  0.765076   1.000000 -0.047321  -0.077338   \n",
       "f2        -0.116400  -0.072057  0.262527  -0.047321  1.000000   0.155880   \n",
       "green_std -0.346484  -0.208638 -0.019991  -0.077338  0.155880   1.000000   \n",
       "f4        -0.150947  -0.063281  0.088454   0.082269  0.025576   0.753588   \n",
       "f6        -0.275279  -0.232449 -0.365782  -0.349043  0.337920   0.309341   \n",
       "f7        -0.392726  -0.289215 -0.368199  -0.376620  0.220671   0.679526   \n",
       "label     -0.234948  -0.158935  0.120207  -0.259013  0.371292   0.134448   \n",
       "\n",
       "                 f4        f6        f7     label  \n",
       "area      -0.150947 -0.275279 -0.392726 -0.234948  \n",
       "perimeter -0.063281 -0.232449 -0.289215 -0.158935  \n",
       "red_mean   0.088454 -0.365782 -0.368199  0.120207  \n",
       "blue_mean  0.082269 -0.349043 -0.376620 -0.259013  \n",
       "f2         0.025576  0.337920  0.220671  0.371292  \n",
       "green_std  0.753588  0.309341  0.679526  0.134448  \n",
       "f4         1.000000  0.060646  0.534826  0.148399  \n",
       "f6         0.060646  1.000000  0.759620  0.336171  \n",
       "f7         0.534826  0.759620  1.000000  0.331698  \n",
       "label      0.148399  0.336171  0.331698  1.000000  "
      ]
     },
     "execution_count": 10,
     "metadata": {},
     "output_type": "execute_result"
    }
   ],
   "source": [
    "cleaned_data.corr(method ='pearson')"
   ]
  },
  {
   "cell_type": "code",
   "execution_count": 11,
   "metadata": {
    "id": "nHFTe4TItiFJ"
   },
   "outputs": [],
   "source": [
    "cleaned_data = cleaned_data.dropna()"
   ]
  },
  {
   "cell_type": "code",
   "execution_count": 12,
   "metadata": {
    "colab": {
     "base_uri": "https://localhost:8080/"
    },
    "id": "1ns2yXu9uXnE",
    "outputId": "81b3083c-7b65-4923-ebe8-674259d14aa4"
   },
   "outputs": [
    {
     "data": {
      "text/plain": [
       "(7749, 16)"
      ]
     },
     "execution_count": 12,
     "metadata": {},
     "output_type": "execute_result"
    }
   ],
   "source": [
    "raw_data.shape"
   ]
  },
  {
   "cell_type": "code",
   "execution_count": 13,
   "metadata": {
    "colab": {
     "base_uri": "https://localhost:8080/"
    },
    "id": "X2iVldJpuZb5",
    "outputId": "44927c0c-ca20-4995-f579-8f113ea7d2f3"
   },
   "outputs": [
    {
     "data": {
      "text/plain": [
       "(7749, 10)"
      ]
     },
     "execution_count": 13,
     "metadata": {},
     "output_type": "execute_result"
    }
   ],
   "source": [
    "cleaned_data.shape"
   ]
  },
  {
   "cell_type": "code",
   "execution_count": 14,
   "metadata": {
    "id": "q1UEsRsTubX5"
   },
   "outputs": [],
   "source": [
    "from sklearn.model_selection import train_test_split\n",
    "from sklearn.metrics import accuracy_score\n",
    "from sklearn.preprocessing import StandardScaler\n",
    "from sklearn.decomposition import PCA\n",
    "from sklearn.svm import SVC\n",
    "from sklearn.metrics import roc_curve, auc\n",
    "from sklearn.model_selection import KFold \n"
   ]
  },
  {
   "cell_type": "code",
   "execution_count": 15,
   "metadata": {
    "id": "ZJg6iy3Mu72T"
   },
   "outputs": [],
   "source": [
    "df = cleaned_data.reset_index()"
   ]
  },
  {
   "cell_type": "code",
   "execution_count": 16,
   "metadata": {
    "colab": {
     "base_uri": "https://localhost:8080/"
    },
    "id": "3DvMWo8rvPW6",
    "outputId": "72d93ebe-2fbe-47b6-903a-ae58e46569e7"
   },
   "outputs": [
    {
     "name": "stdout",
     "output_type": "stream",
     "text": [
      "(7749, 9)\n",
      "(7749,)\n"
     ]
    }
   ],
   "source": [
    "X = df.drop(['index','label'],axis = 1, inplace=False)\n",
    "y = df['label']\n",
    "print(X.shape)\n",
    "print(y.shape)"
   ]
  },
  {
   "cell_type": "code",
   "execution_count": 17,
   "metadata": {
    "colab": {
     "base_uri": "https://localhost:8080/"
    },
    "id": "j723Yu4Xvx_r",
    "outputId": "7d68696b-7a50-4d90-a12e-c3e326ba15d6"
   },
   "outputs": [
    {
     "name": "stdout",
     "output_type": "stream",
     "text": [
      "Score of each fold - [0.9025806451612903, 0.915483870967742, 0.9180645161290323, 0.912258064516129, 0.907036797934151]\n",
      "Avg Score : 0.911084778941669\n"
     ]
    }
   ],
   "source": [
    "k = 5\n",
    "kf = KFold(n_splits=k, random_state=9, shuffle = True)\n",
    "from sklearn.ensemble import RandomForestClassifier\n",
    "model = RandomForestClassifier(random_state = 50,n_estimators = 50,max_samples = 0.7)\n",
    " \n",
    "acc_score = []\n",
    "\n",
    "for train_index , test_index in kf.split(X):\n",
    "    X_train , X_test = X.iloc[train_index,:],X.iloc[test_index,:]\n",
    "    y_train , y_test = y[train_index] , y[test_index]\n",
    "    model = RandomForestClassifier(random_state = 50,n_estimators = 50,max_samples = 0.7)\n",
    "    model.fit(X_train,y_train)\n",
    "    pred_values = model.predict(X_test)            # classification\n",
    "    acc = accuracy_score(pred_values , y_test)     # Classification\n",
    "\n",
    "    #acc = model.score(X_test,y_test)                # Regression\n",
    "    \n",
    "    acc_score.append(acc)\n",
    "     \n",
    "avg_acc_score = sum(acc_score)/k\n",
    " \n",
    "print('Score of each fold - {}'.format(acc_score))\n",
    "print('Avg Score : {}'.format(avg_acc_score))"
   ]
  },
  {
   "cell_type": "markdown",
   "metadata": {
    "id": "jShjKvkbwtys"
   },
   "source": [
    "# **K- fold Cross validation accuracy:**\n",
    "# **0.911084778941669**"
   ]
  },
  {
   "cell_type": "markdown",
   "metadata": {
    "id": "MalrrV30xqn8"
   },
   "source": [
    "# ROC Curve"
   ]
  },
  {
   "cell_type": "code",
   "execution_count": 18,
   "metadata": {
    "colab": {
     "base_uri": "https://localhost:8080/",
     "height": 349
    },
    "id": "U_6DxxVXwmJP",
    "outputId": "a133289a-c71b-4af2-8e04-d36b24d2fc40"
   },
   "outputs": [
    {
     "name": "stderr",
     "output_type": "stream",
     "text": [
      "/home/igor/Documentos/pdi_project/plant_env/lib/python3.6/site-packages/sklearn/utils/deprecation.py:86: FutureWarning: Function plot_roc_curve is deprecated; This will be removed in v0.5.0. Please use scikitplot.metrics.plot_roc instead.\n",
      "  warnings.warn(msg, category=FutureWarning)\n"
     ]
    },
    {
     "data": {
      "image/png": "[encoded data removed]",
      "text/plain": [
       "<Figure size 432x288 with 1 Axes>"
      ]
     },
     "metadata": {
      "needs_background": "light"
     },
     "output_type": "display_data"
    }
   ],
   "source": [
    "import scikitplot as skplt\n",
    "import matplotlib.pyplot as plt\n",
    "\n",
    "y_true = y_test\n",
    "y_probas = model.predict_proba(X_test)\n",
    "skplt.metrics.plot_roc_curve(y_true, y_probas)\n",
    "\n",
    "\n",
    "# filename = '/content/drive/MyDrive/CV_HA/Classification model/V1/ROC_v1.png'\n",
    "\n",
    "# plt.savefig(filename)\n",
    "plt.show()"
   ]
  },
  {
   "cell_type": "code",
   "execution_count": 19,
   "metadata": {
    "colab": {
     "base_uri": "https://localhost:8080/",
     "height": 296
    },
    "id": "qw0YcxFQx3Mc",
    "outputId": "c83fbdcf-a67a-404f-e8dc-9c8473490392"
   },
   "outputs": [
    {
     "data": {
      "text/plain": [
       "<sklearn.metrics._plot.confusion_matrix.ConfusionMatrixDisplay at 0x7f7b043417b8>"
      ]
     },
     "execution_count": 19,
     "metadata": {},
     "output_type": "execute_result"
    },
    {
     "data": {
      "image/png": "[encoded data removed]",
      "text/plain": [
       "<Figure size 432x288 with 2 Axes>"
      ]
     },
     "metadata": {
      "needs_background": "light"
     },
     "output_type": "display_data"
    }
   ],
   "source": [
    "from sklearn.metrics import plot_confusion_matrix\n",
    "y_pred = model.predict(X_test)\n",
    "plot_confusion_matrix(model, X_test, y_test, values_format = 'd',cmap = 'Blues',display_labels = ['0','1','2','3'])"
   ]
  },
  {
   "cell_type": "code",
   "execution_count": 20,
   "metadata": {
    "colab": {
     "base_uri": "https://localhost:8080/"
    },
    "id": "Gref__vNyWqm",
    "outputId": "ba198a46-5398-482a-a509-72776333aa9d"
   },
   "outputs": [
    {
     "name": "stdout",
     "output_type": "stream",
     "text": [
      "              precision    recall  f1-score   support\n",
      "\n",
      "           0       0.92      0.91      0.91       408\n",
      "           1       0.88      0.82      0.85       398\n",
      "           2       0.90      0.94      0.92       380\n",
      "           3       0.93      0.97      0.95       363\n",
      "\n",
      "    accuracy                           0.91      1549\n",
      "   macro avg       0.91      0.91      0.91      1549\n",
      "weighted avg       0.91      0.91      0.91      1549\n",
      "\n"
     ]
    },
    {
     "name": "stderr",
     "output_type": "stream",
     "text": [
      "/home/igor/Documentos/pdi_project/plant_env/lib/python3.6/site-packages/sklearn/utils/validation.py:72: FutureWarning: Pass labels=[0, 1, 2, 3] as keyword args. From version 1.0 (renaming of 0.25) passing these as positional arguments will result in an error\n",
      "  \"will result in an error\", FutureWarning)\n"
     ]
    }
   ],
   "source": [
    "from sklearn.metrics import classification_report\n",
    "\n",
    "print(classification_report(y_test, y_pred, [0,1,2,3]))"
   ]
  },
  {
   "cell_type": "markdown",
   "metadata": {
    "id": "DTaYkJYuzBly"
   },
   "source": [
    "# **F1 Score:**\n",
    "# **0.91**"
   ]
  },
  {
   "cell_type": "markdown",
   "metadata": {
    "id": "XEl3_kcUzXyY"
   },
   "source": [
    "# Deployment"
   ]
  },
  {
   "cell_type": "code",
   "execution_count": 21,
   "metadata": {
    "colab": {
     "base_uri": "https://localhost:8080/"
    },
    "id": "HY3YfG2py-Jf",
    "outputId": "1ae76c7e-aea2-4ecf-9da4-2c14477c7009"
   },
   "outputs": [
    {
     "name": "stdout",
     "output_type": "stream",
     "text": [
      "Training Score:  0.9979352174474125\n"
     ]
    }
   ],
   "source": [
    "from sklearn.ensemble import RandomForestClassifier\n",
    "lm = RandomForestClassifier(random_state = 50,n_estimators = 50,max_samples = 0.7)\n",
    "lm.fit(X,y)\n",
    "print('Training Score: ',lm.score(X,y))"
   ]
  },
  {
   "cell_type": "code",
   "execution_count": 22,
   "metadata": {
    "colab": {
     "base_uri": "https://localhost:8080/"
    },
    "id": "LlyCB8PCy1qh",
    "outputId": "2cc193e3-7c9e-451e-ab77-0df761e46954"
   },
   "outputs": [
    {
     "data": {
      "text/plain": [
       "array([0.0569996 , 0.0542168 , 0.10490984, 0.09395711, 0.19890627,\n",
       "       0.08926768, 0.16472827, 0.12115528, 0.11585916])"
      ]
     },
     "execution_count": 22,
     "metadata": {},
     "output_type": "execute_result"
    }
   ],
   "source": [
    "lm.feature_importances_"
   ]
  },
  {
   "cell_type": "code",
   "execution_count": 23,
   "metadata": {
    "id": "uIAW7lfGznMp"
   },
   "outputs": [],
   "source": [
    "# import pickle\n",
    "# filename = '/content/drive/MyDrive/Ajinkya_Patil_Plant Disease Detection /Processed_data&models/Apple/Results/Applemodel_V1.sav'\n",
    "# pickle.dump(lm, open(filename, 'wb'))"
   ]
  },
  {
   "cell_type": "code",
   "execution_count": 24,
   "metadata": {
    "colab": {
     "base_uri": "https://localhost:8080/"
    },
    "id": "eR0kjBaSzr0a",
    "outputId": "9d6d6bee-9299-4374-8869-b6052022662a"
   },
   "outputs": [],
   "source": [
    "# filename = '/content/drive/MyDrive/Ajinkya_Patil_Plant Disease Detection /Processed_data&models/Apple/Results/Applemodel_V1.sav'\n",
    "\n",
    "# dep_model = pickle.load(open(filename, 'rb'))\n",
    "\n",
    "# print(dep_model.score(X,y))"
   ]
  },
  {
   "cell_type": "code",
   "execution_count": null,
   "metadata": {
    "id": "UkNG6jVI0xt9"
   },
   "outputs": [],
   "source": []
  },
  {
   "cell_type": "markdown",
   "metadata": {
    "id": "WyNxpJvA0ycq"
   },
   "source": [
    "# Selected Features"
   ]
  },
  {
   "cell_type": "code",
   "execution_count": 25,
   "metadata": {
    "colab": {
     "base_uri": "https://localhost:8080/"
    },
    "id": "bb17TIJPz5jJ",
    "outputId": "a4d12a70-dffc-46c9-9374-c36c142227d2"
   },
   "outputs": [
    {
     "data": {
      "text/plain": [
       "Index(['area', 'perimeter', 'red_mean', 'blue_mean', 'f2', 'green_std', 'f4',\n",
       "       'f6', 'f7'],\n",
       "      dtype='object')"
      ]
     },
     "execution_count": 25,
     "metadata": {},
     "output_type": "execute_result"
    }
   ],
   "source": [
    "X.columns"
   ]
  },
  {
   "cell_type": "markdown",
   "metadata": {
    "id": "d4vGl0q9034u"
   },
   "source": [
    "# Label Dictionary"
   ]
  },
  {
   "cell_type": "markdown",
   "metadata": {
    "id": "ZmcskXT91ZG9"
   },
   "source": [
    "- 0 :Apple___healthy\n",
    "- 1: Apple___Apple_scab\n",
    "- 2: Apple___Black_rot\n",
    "- 3: Apple___Cedar_apple_rust"
   ]
  },
  {
   "cell_type": "markdown",
   "metadata": {
    "id": "MN3l625X141M"
   },
   "source": [
    "# Performance\n",
    "- Accuracy : 0.9110\n",
    "- F1 score : 0.91"
   ]
  },
  {
   "cell_type": "code",
   "execution_count": null,
   "metadata": {
    "id": "wkL5LGPF0wIr"
   },
   "outputs": [],
   "source": []
  },
  {
   "cell_type": "code",
   "execution_count": null,
   "metadata": {
    "id": "m79EqwuG0Wjh"
   },
   "outputs": [],
   "source": []
  }
 ],
 "metadata": {
  "colab": {
   "name": "Apple_DA_and_MD.ipynb",
   "provenance": []
  },
  "kernelspec": {
   "display_name": "plant_env",
   "language": "python",
   "name": "plant_env"
  },
  "language_info": {
   "codemirror_mode": {
    "name": "ipython",
    "version": 3
   },
   "file_extension": ".py",
   "mimetype": "text/x-python",
   "name": "python",
   "nbconvert_exporter": "python",
   "pygments_lexer": "ipython3",
   "version": "3.6.9"
  }
 },
 "nbformat": 4,
 "nbformat_minor": 1
}
