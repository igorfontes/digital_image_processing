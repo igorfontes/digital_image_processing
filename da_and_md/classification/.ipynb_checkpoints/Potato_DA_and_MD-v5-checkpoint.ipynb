{
 "cells": [
  {
   "cell_type": "code",
   "execution_count": 16,
   "metadata": {
    "id": "8Cg54vyTot1W"
   },
   "outputs": [],
   "source": [
    "import pandas as pd\n",
    "import matplotlib.pyplot as plt\n",
    "import numpy as np\n",
    "import seaborn as sns\n",
    "import warnings\n",
    "warnings.filterwarnings('ignore')"
   ]
  },
  {
   "cell_type": "code",
   "execution_count": 17,
   "metadata": {
    "id": "4-v_yHgEowG5"
   },
   "outputs": [],
   "source": [
    "#!pip install openpyxl\n",
    "raw_data = pd.read_excel('../../potato_dataset_v5.xlsx', engine='openpyxl')"
   ]
  },
  {
   "cell_type": "code",
   "execution_count": 18,
   "metadata": {
    "colab": {
     "base_uri": "https://localhost:8080/"
    },
    "id": "d-UxkVS-sCVa",
    "outputId": "6a77717b-e608-4356-e740-910a8cec0159"
   },
   "outputs": [
    {
     "data": {
      "text/plain": [
       "Unnamed: 0      int64\n",
       "area          float64\n",
       "perimeter     float64\n",
       "red_mean      float64\n",
       "green_mean    float64\n",
       "blue_mean     float64\n",
       "f1            float64\n",
       "f2            float64\n",
       "red_std       float64\n",
       "green_std     float64\n",
       "blue_std      float64\n",
       "f4            float64\n",
       "f5            float64\n",
       "f6            float64\n",
       "f7            float64\n",
       "f8            float64\n",
       "label           int64\n",
       "dtype: object"
      ]
     },
     "execution_count": 18,
     "metadata": {},
     "output_type": "execute_result"
    }
   ],
   "source": [
    "raw_data.dtypes"
   ]
  },
  {
   "cell_type": "code",
   "execution_count": 19,
   "metadata": {
    "id": "6rODIXAEsIiK"
   },
   "outputs": [],
   "source": [
    "raw_data.drop(['Unnamed: 0'],axis = 1, inplace=True)"
   ]
  },
  {
   "cell_type": "code",
   "execution_count": 20,
   "metadata": {
    "colab": {
     "base_uri": "https://localhost:8080/"
    },
    "id": "f3T6y1gVsT2p",
    "outputId": "ab01a558-d67c-4f56-92d5-52ca32f22a78"
   },
   "outputs": [
    {
     "data": {
      "text/plain": [
       "Index(['area', 'perimeter', 'red_mean', 'green_mean', 'blue_mean', 'f1', 'f2',\n",
       "       'red_std', 'green_std', 'blue_std', 'f4', 'f5', 'f6', 'f7', 'f8',\n",
       "       'label'],\n",
       "      dtype='object')"
      ]
     },
     "execution_count": 20,
     "metadata": {},
     "output_type": "execute_result"
    }
   ],
   "source": [
    "raw_data.columns"
   ]
  },
  {
   "cell_type": "code",
   "execution_count": 21,
   "metadata": {
    "colab": {
     "base_uri": "https://localhost:8080/",
     "height": 1000
    },
    "id": "48HQEVsXsWFp",
    "outputId": "69917675-7ac8-48a3-9a77-5f93eeecf880"
   },
   "outputs": [
    {
     "data": {
      "text/html": [
       "<div>\n",
       "<style scoped>\n",
       "    .dataframe tbody tr th:only-of-type {\n",
       "        vertical-align: middle;\n",
       "    }\n",
       "\n",
       "    .dataframe tbody tr th {\n",
       "        vertical-align: top;\n",
       "    }\n",
       "\n",
       "    .dataframe thead th {\n",
       "        text-align: right;\n",
       "    }\n",
       "</style>\n",
       "<table border=\"1\" class=\"dataframe\">\n",
       "  <thead>\n",
       "    <tr style=\"text-align: right;\">\n",
       "      <th></th>\n",
       "      <th>area</th>\n",
       "      <th>perimeter</th>\n",
       "      <th>red_mean</th>\n",
       "      <th>green_mean</th>\n",
       "      <th>blue_mean</th>\n",
       "      <th>f1</th>\n",
       "      <th>f2</th>\n",
       "      <th>red_std</th>\n",
       "      <th>green_std</th>\n",
       "      <th>blue_std</th>\n",
       "      <th>f4</th>\n",
       "      <th>f5</th>\n",
       "      <th>f6</th>\n",
       "      <th>f7</th>\n",
       "      <th>f8</th>\n",
       "      <th>label</th>\n",
       "    </tr>\n",
       "  </thead>\n",
       "  <tbody>\n",
       "    <tr>\n",
       "      <th>area</th>\n",
       "      <td>1.000000</td>\n",
       "      <td>0.916663</td>\n",
       "      <td>0.466018</td>\n",
       "      <td>0.488844</td>\n",
       "      <td>0.484542</td>\n",
       "      <td>0.189626</td>\n",
       "      <td>-0.189626</td>\n",
       "      <td>0.058330</td>\n",
       "      <td>-0.224826</td>\n",
       "      <td>-0.144073</td>\n",
       "      <td>0.136623</td>\n",
       "      <td>0.197506</td>\n",
       "      <td>-0.480709</td>\n",
       "      <td>-0.546232</td>\n",
       "      <td>-0.218536</td>\n",
       "      <td>-0.042791</td>\n",
       "    </tr>\n",
       "    <tr>\n",
       "      <th>perimeter</th>\n",
       "      <td>0.916663</td>\n",
       "      <td>1.000000</td>\n",
       "      <td>0.297480</td>\n",
       "      <td>0.305710</td>\n",
       "      <td>0.301838</td>\n",
       "      <td>0.116663</td>\n",
       "      <td>-0.116663</td>\n",
       "      <td>0.098314</td>\n",
       "      <td>-0.072789</td>\n",
       "      <td>-0.022739</td>\n",
       "      <td>0.087088</td>\n",
       "      <td>0.127540</td>\n",
       "      <td>-0.306018</td>\n",
       "      <td>-0.342276</td>\n",
       "      <td>-0.105464</td>\n",
       "      <td>-0.043199</td>\n",
       "    </tr>\n",
       "    <tr>\n",
       "      <th>red_mean</th>\n",
       "      <td>0.466018</td>\n",
       "      <td>0.297480</td>\n",
       "      <td>1.000000</td>\n",
       "      <td>0.876523</td>\n",
       "      <td>0.921270</td>\n",
       "      <td>0.149911</td>\n",
       "      <td>-0.149911</td>\n",
       "      <td>0.598214</td>\n",
       "      <td>0.006949</td>\n",
       "      <td>0.206828</td>\n",
       "      <td>0.550532</td>\n",
       "      <td>0.631872</td>\n",
       "      <td>-0.866796</td>\n",
       "      <td>-0.848805</td>\n",
       "      <td>-0.541468</td>\n",
       "      <td>-0.096072</td>\n",
       "    </tr>\n",
       "    <tr>\n",
       "      <th>green_mean</th>\n",
       "      <td>0.488844</td>\n",
       "      <td>0.305710</td>\n",
       "      <td>0.876523</td>\n",
       "      <td>1.000000</td>\n",
       "      <td>0.969769</td>\n",
       "      <td>0.439404</td>\n",
       "      <td>-0.439404</td>\n",
       "      <td>0.446473</td>\n",
       "      <td>0.090966</td>\n",
       "      <td>0.165075</td>\n",
       "      <td>0.368014</td>\n",
       "      <td>0.427365</td>\n",
       "      <td>-0.805845</td>\n",
       "      <td>-0.883802</td>\n",
       "      <td>-0.347251</td>\n",
       "      <td>0.088551</td>\n",
       "    </tr>\n",
       "    <tr>\n",
       "      <th>blue_mean</th>\n",
       "      <td>0.484542</td>\n",
       "      <td>0.301838</td>\n",
       "      <td>0.921270</td>\n",
       "      <td>0.969769</td>\n",
       "      <td>1.000000</td>\n",
       "      <td>0.271542</td>\n",
       "      <td>-0.271542</td>\n",
       "      <td>0.511609</td>\n",
       "      <td>0.084335</td>\n",
       "      <td>0.247108</td>\n",
       "      <td>0.463968</td>\n",
       "      <td>0.526960</td>\n",
       "      <td>-0.830731</td>\n",
       "      <td>-0.873498</td>\n",
       "      <td>-0.435418</td>\n",
       "      <td>0.053310</td>\n",
       "    </tr>\n",
       "    <tr>\n",
       "      <th>f1</th>\n",
       "      <td>0.189626</td>\n",
       "      <td>0.116663</td>\n",
       "      <td>0.149911</td>\n",
       "      <td>0.439404</td>\n",
       "      <td>0.271542</td>\n",
       "      <td>1.000000</td>\n",
       "      <td>-1.000000</td>\n",
       "      <td>-0.014434</td>\n",
       "      <td>0.073662</td>\n",
       "      <td>-0.093254</td>\n",
       "      <td>0.053333</td>\n",
       "      <td>0.070756</td>\n",
       "      <td>-0.309759</td>\n",
       "      <td>-0.383500</td>\n",
       "      <td>-0.028278</td>\n",
       "      <td>0.232953</td>\n",
       "    </tr>\n",
       "    <tr>\n",
       "      <th>f2</th>\n",
       "      <td>-0.189626</td>\n",
       "      <td>-0.116663</td>\n",
       "      <td>-0.149911</td>\n",
       "      <td>-0.439404</td>\n",
       "      <td>-0.271542</td>\n",
       "      <td>-1.000000</td>\n",
       "      <td>1.000000</td>\n",
       "      <td>0.014434</td>\n",
       "      <td>-0.073662</td>\n",
       "      <td>0.093254</td>\n",
       "      <td>-0.053333</td>\n",
       "      <td>-0.070756</td>\n",
       "      <td>0.309759</td>\n",
       "      <td>0.383500</td>\n",
       "      <td>0.028278</td>\n",
       "      <td>-0.232953</td>\n",
       "    </tr>\n",
       "    <tr>\n",
       "      <th>red_std</th>\n",
       "      <td>0.058330</td>\n",
       "      <td>0.098314</td>\n",
       "      <td>0.598214</td>\n",
       "      <td>0.446473</td>\n",
       "      <td>0.511609</td>\n",
       "      <td>-0.014434</td>\n",
       "      <td>0.014434</td>\n",
       "      <td>1.000000</td>\n",
       "      <td>0.640797</td>\n",
       "      <td>0.804579</td>\n",
       "      <td>0.589698</td>\n",
       "      <td>0.598791</td>\n",
       "      <td>-0.446352</td>\n",
       "      <td>-0.315799</td>\n",
       "      <td>-0.246730</td>\n",
       "      <td>-0.003733</td>\n",
       "    </tr>\n",
       "    <tr>\n",
       "      <th>green_std</th>\n",
       "      <td>-0.224826</td>\n",
       "      <td>-0.072789</td>\n",
       "      <td>0.006949</td>\n",
       "      <td>0.090966</td>\n",
       "      <td>0.084335</td>\n",
       "      <td>0.073662</td>\n",
       "      <td>-0.073662</td>\n",
       "      <td>0.640797</td>\n",
       "      <td>1.000000</td>\n",
       "      <td>0.887168</td>\n",
       "      <td>0.287414</td>\n",
       "      <td>0.200216</td>\n",
       "      <td>0.098212</td>\n",
       "      <td>0.180870</td>\n",
       "      <td>0.134718</td>\n",
       "      <td>0.107438</td>\n",
       "    </tr>\n",
       "    <tr>\n",
       "      <th>blue_std</th>\n",
       "      <td>-0.144073</td>\n",
       "      <td>-0.022739</td>\n",
       "      <td>0.206828</td>\n",
       "      <td>0.165075</td>\n",
       "      <td>0.247108</td>\n",
       "      <td>-0.093254</td>\n",
       "      <td>0.093254</td>\n",
       "      <td>0.804579</td>\n",
       "      <td>0.887168</td>\n",
       "      <td>1.000000</td>\n",
       "      <td>0.466851</td>\n",
       "      <td>0.428455</td>\n",
       "      <td>-0.125250</td>\n",
       "      <td>0.016022</td>\n",
       "      <td>-0.055479</td>\n",
       "      <td>0.083633</td>\n",
       "    </tr>\n",
       "    <tr>\n",
       "      <th>f4</th>\n",
       "      <td>0.136623</td>\n",
       "      <td>0.087088</td>\n",
       "      <td>0.550532</td>\n",
       "      <td>0.368014</td>\n",
       "      <td>0.463968</td>\n",
       "      <td>0.053333</td>\n",
       "      <td>-0.053333</td>\n",
       "      <td>0.589698</td>\n",
       "      <td>0.287414</td>\n",
       "      <td>0.466851</td>\n",
       "      <td>1.000000</td>\n",
       "      <td>0.970356</td>\n",
       "      <td>-0.550463</td>\n",
       "      <td>-0.346305</td>\n",
       "      <td>-0.835704</td>\n",
       "      <td>-0.205175</td>\n",
       "    </tr>\n",
       "    <tr>\n",
       "      <th>f5</th>\n",
       "      <td>0.197506</td>\n",
       "      <td>0.127540</td>\n",
       "      <td>0.631872</td>\n",
       "      <td>0.427365</td>\n",
       "      <td>0.526960</td>\n",
       "      <td>0.070756</td>\n",
       "      <td>-0.070756</td>\n",
       "      <td>0.598791</td>\n",
       "      <td>0.200216</td>\n",
       "      <td>0.428455</td>\n",
       "      <td>0.970356</td>\n",
       "      <td>1.000000</td>\n",
       "      <td>-0.684460</td>\n",
       "      <td>-0.462461</td>\n",
       "      <td>-0.854808</td>\n",
       "      <td>-0.179713</td>\n",
       "    </tr>\n",
       "    <tr>\n",
       "      <th>f6</th>\n",
       "      <td>-0.480709</td>\n",
       "      <td>-0.306018</td>\n",
       "      <td>-0.866796</td>\n",
       "      <td>-0.805845</td>\n",
       "      <td>-0.830731</td>\n",
       "      <td>-0.309759</td>\n",
       "      <td>0.309759</td>\n",
       "      <td>-0.446352</td>\n",
       "      <td>0.098212</td>\n",
       "      <td>-0.125250</td>\n",
       "      <td>-0.550463</td>\n",
       "      <td>-0.684460</td>\n",
       "      <td>1.000000</td>\n",
       "      <td>0.939232</td>\n",
       "      <td>0.588320</td>\n",
       "      <td>0.055354</td>\n",
       "    </tr>\n",
       "    <tr>\n",
       "      <th>f7</th>\n",
       "      <td>-0.546232</td>\n",
       "      <td>-0.342276</td>\n",
       "      <td>-0.848805</td>\n",
       "      <td>-0.883802</td>\n",
       "      <td>-0.873498</td>\n",
       "      <td>-0.383500</td>\n",
       "      <td>0.383500</td>\n",
       "      <td>-0.315799</td>\n",
       "      <td>0.180870</td>\n",
       "      <td>0.016022</td>\n",
       "      <td>-0.346305</td>\n",
       "      <td>-0.462461</td>\n",
       "      <td>0.939232</td>\n",
       "      <td>1.000000</td>\n",
       "      <td>0.418662</td>\n",
       "      <td>-0.014082</td>\n",
       "    </tr>\n",
       "    <tr>\n",
       "      <th>f8</th>\n",
       "      <td>-0.218536</td>\n",
       "      <td>-0.105464</td>\n",
       "      <td>-0.541468</td>\n",
       "      <td>-0.347251</td>\n",
       "      <td>-0.435418</td>\n",
       "      <td>-0.028278</td>\n",
       "      <td>0.028278</td>\n",
       "      <td>-0.246730</td>\n",
       "      <td>0.134718</td>\n",
       "      <td>-0.055479</td>\n",
       "      <td>-0.835704</td>\n",
       "      <td>-0.854808</td>\n",
       "      <td>0.588320</td>\n",
       "      <td>0.418662</td>\n",
       "      <td>1.000000</td>\n",
       "      <td>0.212553</td>\n",
       "    </tr>\n",
       "    <tr>\n",
       "      <th>label</th>\n",
       "      <td>-0.042791</td>\n",
       "      <td>-0.043199</td>\n",
       "      <td>-0.096072</td>\n",
       "      <td>0.088551</td>\n",
       "      <td>0.053310</td>\n",
       "      <td>0.232953</td>\n",
       "      <td>-0.232953</td>\n",
       "      <td>-0.003733</td>\n",
       "      <td>0.107438</td>\n",
       "      <td>0.083633</td>\n",
       "      <td>-0.205175</td>\n",
       "      <td>-0.179713</td>\n",
       "      <td>0.055354</td>\n",
       "      <td>-0.014082</td>\n",
       "      <td>0.212553</td>\n",
       "      <td>1.000000</td>\n",
       "    </tr>\n",
       "  </tbody>\n",
       "</table>\n",
       "</div>"
      ],
      "text/plain": [
       "                area  perimeter  red_mean  green_mean  blue_mean        f1  \\\n",
       "area        1.000000   0.916663  0.466018    0.488844   0.484542  0.189626   \n",
       "perimeter   0.916663   1.000000  0.297480    0.305710   0.301838  0.116663   \n",
       "red_mean    0.466018   0.297480  1.000000    0.876523   0.921270  0.149911   \n",
       "green_mean  0.488844   0.305710  0.876523    1.000000   0.969769  0.439404   \n",
       "blue_mean   0.484542   0.301838  0.921270    0.969769   1.000000  0.271542   \n",
       "f1          0.189626   0.116663  0.149911    0.439404   0.271542  1.000000   \n",
       "f2         -0.189626  -0.116663 -0.149911   -0.439404  -0.271542 -1.000000   \n",
       "red_std     0.058330   0.098314  0.598214    0.446473   0.511609 -0.014434   \n",
       "green_std  -0.224826  -0.072789  0.006949    0.090966   0.084335  0.073662   \n",
       "blue_std   -0.144073  -0.022739  0.206828    0.165075   0.247108 -0.093254   \n",
       "f4          0.136623   0.087088  0.550532    0.368014   0.463968  0.053333   \n",
       "f5          0.197506   0.127540  0.631872    0.427365   0.526960  0.070756   \n",
       "f6         -0.480709  -0.306018 -0.866796   -0.805845  -0.830731 -0.309759   \n",
       "f7         -0.546232  -0.342276 -0.848805   -0.883802  -0.873498 -0.383500   \n",
       "f8         -0.218536  -0.105464 -0.541468   -0.347251  -0.435418 -0.028278   \n",
       "label      -0.042791  -0.043199 -0.096072    0.088551   0.053310  0.232953   \n",
       "\n",
       "                  f2   red_std  green_std  blue_std        f4        f5  \\\n",
       "area       -0.189626  0.058330  -0.224826 -0.144073  0.136623  0.197506   \n",
       "perimeter  -0.116663  0.098314  -0.072789 -0.022739  0.087088  0.127540   \n",
       "red_mean   -0.149911  0.598214   0.006949  0.206828  0.550532  0.631872   \n",
       "green_mean -0.439404  0.446473   0.090966  0.165075  0.368014  0.427365   \n",
       "blue_mean  -0.271542  0.511609   0.084335  0.247108  0.463968  0.526960   \n",
       "f1         -1.000000 -0.014434   0.073662 -0.093254  0.053333  0.070756   \n",
       "f2          1.000000  0.014434  -0.073662  0.093254 -0.053333 -0.070756   \n",
       "red_std     0.014434  1.000000   0.640797  0.804579  0.589698  0.598791   \n",
       "green_std  -0.073662  0.640797   1.000000  0.887168  0.287414  0.200216   \n",
       "blue_std    0.093254  0.804579   0.887168  1.000000  0.466851  0.428455   \n",
       "f4         -0.053333  0.589698   0.287414  0.466851  1.000000  0.970356   \n",
       "f5         -0.070756  0.598791   0.200216  0.428455  0.970356  1.000000   \n",
       "f6          0.309759 -0.446352   0.098212 -0.125250 -0.550463 -0.684460   \n",
       "f7          0.383500 -0.315799   0.180870  0.016022 -0.346305 -0.462461   \n",
       "f8          0.028278 -0.246730   0.134718 -0.055479 -0.835704 -0.854808   \n",
       "label      -0.232953 -0.003733   0.107438  0.083633 -0.205175 -0.179713   \n",
       "\n",
       "                  f6        f7        f8     label  \n",
       "area       -0.480709 -0.546232 -0.218536 -0.042791  \n",
       "perimeter  -0.306018 -0.342276 -0.105464 -0.043199  \n",
       "red_mean   -0.866796 -0.848805 -0.541468 -0.096072  \n",
       "green_mean -0.805845 -0.883802 -0.347251  0.088551  \n",
       "blue_mean  -0.830731 -0.873498 -0.435418  0.053310  \n",
       "f1         -0.309759 -0.383500 -0.028278  0.232953  \n",
       "f2          0.309759  0.383500  0.028278 -0.232953  \n",
       "red_std    -0.446352 -0.315799 -0.246730 -0.003733  \n",
       "green_std   0.098212  0.180870  0.134718  0.107438  \n",
       "blue_std   -0.125250  0.016022 -0.055479  0.083633  \n",
       "f4         -0.550463 -0.346305 -0.835704 -0.205175  \n",
       "f5         -0.684460 -0.462461 -0.854808 -0.179713  \n",
       "f6          1.000000  0.939232  0.588320  0.055354  \n",
       "f7          0.939232  1.000000  0.418662 -0.014082  \n",
       "f8          0.588320  0.418662  1.000000  0.212553  \n",
       "label       0.055354 -0.014082  0.212553  1.000000  "
      ]
     },
     "execution_count": 21,
     "metadata": {},
     "output_type": "execute_result"
    }
   ],
   "source": [
    "raw_data.corr(method ='pearson')"
   ]
  },
  {
   "cell_type": "markdown",
   "metadata": {
    "id": "tykbukJOs9oT"
   },
   "source": [
    "**Insights:**\n",
    "Less correlated features are:\n",
    "- Red channel mean\n",
    "- f6\n",
    "\n",
    "Also f1 and f2 are mutually relative So one of them can be removed"
   ]
  },
  {
   "cell_type": "code",
   "execution_count": 22,
   "metadata": {
    "id": "9C4PKZKLs276"
   },
   "outputs": [],
   "source": [
    "cleaned_data = raw_data.drop(['red_mean','f6','f1'],axis = 1, inplace=False)"
   ]
  },
  {
   "cell_type": "code",
   "execution_count": 23,
   "metadata": {
    "colab": {
     "base_uri": "https://localhost:8080/",
     "height": 1000
    },
    "id": "5YuECBs9taB2",
    "outputId": "659092be-fad9-4e71-aef0-f4da46785d46"
   },
   "outputs": [
    {
     "data": {
      "text/html": [
       "<div>\n",
       "<style scoped>\n",
       "    .dataframe tbody tr th:only-of-type {\n",
       "        vertical-align: middle;\n",
       "    }\n",
       "\n",
       "    .dataframe tbody tr th {\n",
       "        vertical-align: top;\n",
       "    }\n",
       "\n",
       "    .dataframe thead th {\n",
       "        text-align: right;\n",
       "    }\n",
       "</style>\n",
       "<table border=\"1\" class=\"dataframe\">\n",
       "  <thead>\n",
       "    <tr style=\"text-align: right;\">\n",
       "      <th></th>\n",
       "      <th>area</th>\n",
       "      <th>perimeter</th>\n",
       "      <th>green_mean</th>\n",
       "      <th>blue_mean</th>\n",
       "      <th>f2</th>\n",
       "      <th>red_std</th>\n",
       "      <th>green_std</th>\n",
       "      <th>blue_std</th>\n",
       "      <th>f4</th>\n",
       "      <th>f5</th>\n",
       "      <th>f7</th>\n",
       "      <th>f8</th>\n",
       "      <th>label</th>\n",
       "    </tr>\n",
       "  </thead>\n",
       "  <tbody>\n",
       "    <tr>\n",
       "      <th>area</th>\n",
       "      <td>1.000000</td>\n",
       "      <td>0.916663</td>\n",
       "      <td>0.488844</td>\n",
       "      <td>0.484542</td>\n",
       "      <td>-0.189626</td>\n",
       "      <td>0.058330</td>\n",
       "      <td>-0.224826</td>\n",
       "      <td>-0.144073</td>\n",
       "      <td>0.136623</td>\n",
       "      <td>0.197506</td>\n",
       "      <td>-0.546232</td>\n",
       "      <td>-0.218536</td>\n",
       "      <td>-0.042791</td>\n",
       "    </tr>\n",
       "    <tr>\n",
       "      <th>perimeter</th>\n",
       "      <td>0.916663</td>\n",
       "      <td>1.000000</td>\n",
       "      <td>0.305710</td>\n",
       "      <td>0.301838</td>\n",
       "      <td>-0.116663</td>\n",
       "      <td>0.098314</td>\n",
       "      <td>-0.072789</td>\n",
       "      <td>-0.022739</td>\n",
       "      <td>0.087088</td>\n",
       "      <td>0.127540</td>\n",
       "      <td>-0.342276</td>\n",
       "      <td>-0.105464</td>\n",
       "      <td>-0.043199</td>\n",
       "    </tr>\n",
       "    <tr>\n",
       "      <th>green_mean</th>\n",
       "      <td>0.488844</td>\n",
       "      <td>0.305710</td>\n",
       "      <td>1.000000</td>\n",
       "      <td>0.969769</td>\n",
       "      <td>-0.439404</td>\n",
       "      <td>0.446473</td>\n",
       "      <td>0.090966</td>\n",
       "      <td>0.165075</td>\n",
       "      <td>0.368014</td>\n",
       "      <td>0.427365</td>\n",
       "      <td>-0.883802</td>\n",
       "      <td>-0.347251</td>\n",
       "      <td>0.088551</td>\n",
       "    </tr>\n",
       "    <tr>\n",
       "      <th>blue_mean</th>\n",
       "      <td>0.484542</td>\n",
       "      <td>0.301838</td>\n",
       "      <td>0.969769</td>\n",
       "      <td>1.000000</td>\n",
       "      <td>-0.271542</td>\n",
       "      <td>0.511609</td>\n",
       "      <td>0.084335</td>\n",
       "      <td>0.247108</td>\n",
       "      <td>0.463968</td>\n",
       "      <td>0.526960</td>\n",
       "      <td>-0.873498</td>\n",
       "      <td>-0.435418</td>\n",
       "      <td>0.053310</td>\n",
       "    </tr>\n",
       "    <tr>\n",
       "      <th>f2</th>\n",
       "      <td>-0.189626</td>\n",
       "      <td>-0.116663</td>\n",
       "      <td>-0.439404</td>\n",
       "      <td>-0.271542</td>\n",
       "      <td>1.000000</td>\n",
       "      <td>0.014434</td>\n",
       "      <td>-0.073662</td>\n",
       "      <td>0.093254</td>\n",
       "      <td>-0.053333</td>\n",
       "      <td>-0.070756</td>\n",
       "      <td>0.383500</td>\n",
       "      <td>0.028278</td>\n",
       "      <td>-0.232953</td>\n",
       "    </tr>\n",
       "    <tr>\n",
       "      <th>red_std</th>\n",
       "      <td>0.058330</td>\n",
       "      <td>0.098314</td>\n",
       "      <td>0.446473</td>\n",
       "      <td>0.511609</td>\n",
       "      <td>0.014434</td>\n",
       "      <td>1.000000</td>\n",
       "      <td>0.640797</td>\n",
       "      <td>0.804579</td>\n",
       "      <td>0.589698</td>\n",
       "      <td>0.598791</td>\n",
       "      <td>-0.315799</td>\n",
       "      <td>-0.246730</td>\n",
       "      <td>-0.003733</td>\n",
       "    </tr>\n",
       "    <tr>\n",
       "      <th>green_std</th>\n",
       "      <td>-0.224826</td>\n",
       "      <td>-0.072789</td>\n",
       "      <td>0.090966</td>\n",
       "      <td>0.084335</td>\n",
       "      <td>-0.073662</td>\n",
       "      <td>0.640797</td>\n",
       "      <td>1.000000</td>\n",
       "      <td>0.887168</td>\n",
       "      <td>0.287414</td>\n",
       "      <td>0.200216</td>\n",
       "      <td>0.180870</td>\n",
       "      <td>0.134718</td>\n",
       "      <td>0.107438</td>\n",
       "    </tr>\n",
       "    <tr>\n",
       "      <th>blue_std</th>\n",
       "      <td>-0.144073</td>\n",
       "      <td>-0.022739</td>\n",
       "      <td>0.165075</td>\n",
       "      <td>0.247108</td>\n",
       "      <td>0.093254</td>\n",
       "      <td>0.804579</td>\n",
       "      <td>0.887168</td>\n",
       "      <td>1.000000</td>\n",
       "      <td>0.466851</td>\n",
       "      <td>0.428455</td>\n",
       "      <td>0.016022</td>\n",
       "      <td>-0.055479</td>\n",
       "      <td>0.083633</td>\n",
       "    </tr>\n",
       "    <tr>\n",
       "      <th>f4</th>\n",
       "      <td>0.136623</td>\n",
       "      <td>0.087088</td>\n",
       "      <td>0.368014</td>\n",
       "      <td>0.463968</td>\n",
       "      <td>-0.053333</td>\n",
       "      <td>0.589698</td>\n",
       "      <td>0.287414</td>\n",
       "      <td>0.466851</td>\n",
       "      <td>1.000000</td>\n",
       "      <td>0.970356</td>\n",
       "      <td>-0.346305</td>\n",
       "      <td>-0.835704</td>\n",
       "      <td>-0.205175</td>\n",
       "    </tr>\n",
       "    <tr>\n",
       "      <th>f5</th>\n",
       "      <td>0.197506</td>\n",
       "      <td>0.127540</td>\n",
       "      <td>0.427365</td>\n",
       "      <td>0.526960</td>\n",
       "      <td>-0.070756</td>\n",
       "      <td>0.598791</td>\n",
       "      <td>0.200216</td>\n",
       "      <td>0.428455</td>\n",
       "      <td>0.970356</td>\n",
       "      <td>1.000000</td>\n",
       "      <td>-0.462461</td>\n",
       "      <td>-0.854808</td>\n",
       "      <td>-0.179713</td>\n",
       "    </tr>\n",
       "    <tr>\n",
       "      <th>f7</th>\n",
       "      <td>-0.546232</td>\n",
       "      <td>-0.342276</td>\n",
       "      <td>-0.883802</td>\n",
       "      <td>-0.873498</td>\n",
       "      <td>0.383500</td>\n",
       "      <td>-0.315799</td>\n",
       "      <td>0.180870</td>\n",
       "      <td>0.016022</td>\n",
       "      <td>-0.346305</td>\n",
       "      <td>-0.462461</td>\n",
       "      <td>1.000000</td>\n",
       "      <td>0.418662</td>\n",
       "      <td>-0.014082</td>\n",
       "    </tr>\n",
       "    <tr>\n",
       "      <th>f8</th>\n",
       "      <td>-0.218536</td>\n",
       "      <td>-0.105464</td>\n",
       "      <td>-0.347251</td>\n",
       "      <td>-0.435418</td>\n",
       "      <td>0.028278</td>\n",
       "      <td>-0.246730</td>\n",
       "      <td>0.134718</td>\n",
       "      <td>-0.055479</td>\n",
       "      <td>-0.835704</td>\n",
       "      <td>-0.854808</td>\n",
       "      <td>0.418662</td>\n",
       "      <td>1.000000</td>\n",
       "      <td>0.212553</td>\n",
       "    </tr>\n",
       "    <tr>\n",
       "      <th>label</th>\n",
       "      <td>-0.042791</td>\n",
       "      <td>-0.043199</td>\n",
       "      <td>0.088551</td>\n",
       "      <td>0.053310</td>\n",
       "      <td>-0.232953</td>\n",
       "      <td>-0.003733</td>\n",
       "      <td>0.107438</td>\n",
       "      <td>0.083633</td>\n",
       "      <td>-0.205175</td>\n",
       "      <td>-0.179713</td>\n",
       "      <td>-0.014082</td>\n",
       "      <td>0.212553</td>\n",
       "      <td>1.000000</td>\n",
       "    </tr>\n",
       "  </tbody>\n",
       "</table>\n",
       "</div>"
      ],
      "text/plain": [
       "                area  perimeter  green_mean  blue_mean        f2   red_std  \\\n",
       "area        1.000000   0.916663    0.488844   0.484542 -0.189626  0.058330   \n",
       "perimeter   0.916663   1.000000    0.305710   0.301838 -0.116663  0.098314   \n",
       "green_mean  0.488844   0.305710    1.000000   0.969769 -0.439404  0.446473   \n",
       "blue_mean   0.484542   0.301838    0.969769   1.000000 -0.271542  0.511609   \n",
       "f2         -0.189626  -0.116663   -0.439404  -0.271542  1.000000  0.014434   \n",
       "red_std     0.058330   0.098314    0.446473   0.511609  0.014434  1.000000   \n",
       "green_std  -0.224826  -0.072789    0.090966   0.084335 -0.073662  0.640797   \n",
       "blue_std   -0.144073  -0.022739    0.165075   0.247108  0.093254  0.804579   \n",
       "f4          0.136623   0.087088    0.368014   0.463968 -0.053333  0.589698   \n",
       "f5          0.197506   0.127540    0.427365   0.526960 -0.070756  0.598791   \n",
       "f7         -0.546232  -0.342276   -0.883802  -0.873498  0.383500 -0.315799   \n",
       "f8         -0.218536  -0.105464   -0.347251  -0.435418  0.028278 -0.246730   \n",
       "label      -0.042791  -0.043199    0.088551   0.053310 -0.232953 -0.003733   \n",
       "\n",
       "            green_std  blue_std        f4        f5        f7        f8  \\\n",
       "area        -0.224826 -0.144073  0.136623  0.197506 -0.546232 -0.218536   \n",
       "perimeter   -0.072789 -0.022739  0.087088  0.127540 -0.342276 -0.105464   \n",
       "green_mean   0.090966  0.165075  0.368014  0.427365 -0.883802 -0.347251   \n",
       "blue_mean    0.084335  0.247108  0.463968  0.526960 -0.873498 -0.435418   \n",
       "f2          -0.073662  0.093254 -0.053333 -0.070756  0.383500  0.028278   \n",
       "red_std      0.640797  0.804579  0.589698  0.598791 -0.315799 -0.246730   \n",
       "green_std    1.000000  0.887168  0.287414  0.200216  0.180870  0.134718   \n",
       "blue_std     0.887168  1.000000  0.466851  0.428455  0.016022 -0.055479   \n",
       "f4           0.287414  0.466851  1.000000  0.970356 -0.346305 -0.835704   \n",
       "f5           0.200216  0.428455  0.970356  1.000000 -0.462461 -0.854808   \n",
       "f7           0.180870  0.016022 -0.346305 -0.462461  1.000000  0.418662   \n",
       "f8           0.134718 -0.055479 -0.835704 -0.854808  0.418662  1.000000   \n",
       "label        0.107438  0.083633 -0.205175 -0.179713 -0.014082  0.212553   \n",
       "\n",
       "               label  \n",
       "area       -0.042791  \n",
       "perimeter  -0.043199  \n",
       "green_mean  0.088551  \n",
       "blue_mean   0.053310  \n",
       "f2         -0.232953  \n",
       "red_std    -0.003733  \n",
       "green_std   0.107438  \n",
       "blue_std    0.083633  \n",
       "f4         -0.205175  \n",
       "f5         -0.179713  \n",
       "f7         -0.014082  \n",
       "f8          0.212553  \n",
       "label       1.000000  "
      ]
     },
     "execution_count": 23,
     "metadata": {},
     "output_type": "execute_result"
    }
   ],
   "source": [
    "cleaned_data.corr(method ='pearson')"
   ]
  },
  {
   "cell_type": "code",
   "execution_count": 24,
   "metadata": {
    "id": "nHFTe4TItiFJ"
   },
   "outputs": [],
   "source": [
    "cleaned_data = cleaned_data.dropna()"
   ]
  },
  {
   "cell_type": "code",
   "execution_count": 25,
   "metadata": {
    "colab": {
     "base_uri": "https://localhost:8080/"
    },
    "id": "1ns2yXu9uXnE",
    "outputId": "81b3083c-7b65-4923-ebe8-674259d14aa4"
   },
   "outputs": [
    {
     "data": {
      "text/plain": [
       "(14573, 16)"
      ]
     },
     "execution_count": 25,
     "metadata": {},
     "output_type": "execute_result"
    }
   ],
   "source": [
    "raw_data.shape"
   ]
  },
  {
   "cell_type": "code",
   "execution_count": 26,
   "metadata": {
    "colab": {
     "base_uri": "https://localhost:8080/"
    },
    "id": "X2iVldJpuZb5",
    "outputId": "44927c0c-ca20-4995-f579-8f113ea7d2f3"
   },
   "outputs": [
    {
     "data": {
      "text/plain": [
       "(14573, 13)"
      ]
     },
     "execution_count": 26,
     "metadata": {},
     "output_type": "execute_result"
    }
   ],
   "source": [
    "cleaned_data.shape"
   ]
  },
  {
   "cell_type": "code",
   "execution_count": 27,
   "metadata": {
    "id": "q1UEsRsTubX5"
   },
   "outputs": [],
   "source": [
    "from sklearn.model_selection import train_test_split\n",
    "from sklearn.metrics import accuracy_score\n",
    "from sklearn.preprocessing import StandardScaler\n",
    "from sklearn.decomposition import PCA\n",
    "from sklearn.svm import SVC\n",
    "from sklearn.metrics import roc_curve, auc\n",
    "from sklearn.model_selection import KFold \n"
   ]
  },
  {
   "cell_type": "code",
   "execution_count": 28,
   "metadata": {
    "id": "ZJg6iy3Mu72T"
   },
   "outputs": [],
   "source": [
    "df = cleaned_data.reset_index()"
   ]
  },
  {
   "cell_type": "code",
   "execution_count": 29,
   "metadata": {
    "colab": {
     "base_uri": "https://localhost:8080/"
    },
    "id": "3DvMWo8rvPW6",
    "outputId": "72d93ebe-2fbe-47b6-903a-ae58e46569e7"
   },
   "outputs": [
    {
     "name": "stdout",
     "output_type": "stream",
     "text": [
      "(14573, 12)\n",
      "(14573,)\n"
     ]
    }
   ],
   "source": [
    "X = df.drop(['index','label'],axis = 1, inplace=False)\n",
    "y = df['label']\n",
    "print(X.shape)\n",
    "print(y.shape)"
   ]
  },
  {
   "cell_type": "code",
   "execution_count": 30,
   "metadata": {
    "colab": {
     "base_uri": "https://localhost:8080/"
    },
    "id": "j723Yu4Xvx_r",
    "outputId": "7d68696b-7a50-4d90-a12e-c3e326ba15d6"
   },
   "outputs": [
    {
     "name": "stdout",
     "output_type": "stream",
     "text": [
      "Score of each fold - [0.7008576329331047, 0.697770154373928, 0.7252144082332762, 0.7038435140700069, 0.7089910775566232]\n",
      "Avg Score : 0.7073353574333878\n"
     ]
    }
   ],
   "source": [
    "k = 5\n",
    "kf = KFold(n_splits=k, random_state=9, shuffle = True)\n",
    "from sklearn.ensemble import RandomForestClassifier\n",
    "model = RandomForestClassifier(random_state = 50,n_estimators = 50,max_samples = 0.7)\n",
    " \n",
    "acc_score = []\n",
    "\n",
    "for train_index , test_index in kf.split(X):\n",
    "    X_train , X_test = X.iloc[train_index,:],X.iloc[test_index,:]\n",
    "    y_train , y_test = y[train_index] , y[test_index]\n",
    "    model = RandomForestClassifier(random_state = 50,n_estimators = 50,max_samples = 0.7)\n",
    "    model.fit(X_train,y_train)\n",
    "    pred_values = model.predict(X_test)            # classification\n",
    "    acc = accuracy_score(pred_values , y_test)     # Classification\n",
    "\n",
    "    #acc = model.score(X_test,y_test)                # Regression\n",
    "    \n",
    "    acc_score.append(acc)\n",
    "     \n",
    "avg_acc_score = sum(acc_score)/k\n",
    " \n",
    "print('Score of each fold - {}'.format(acc_score))\n",
    "print('Avg Score : {}'.format(avg_acc_score))"
   ]
  },
  {
   "cell_type": "markdown",
   "metadata": {
    "id": "MalrrV30xqn8"
   },
   "source": [
    "# ROC Curve"
   ]
  },
  {
   "cell_type": "code",
   "execution_count": 34,
   "metadata": {
    "colab": {
     "base_uri": "https://localhost:8080/",
     "height": 349
    },
    "id": "U_6DxxVXwmJP",
    "outputId": "a133289a-c71b-4af2-8e04-d36b24d2fc40"
   },
   "outputs": [
    {
     "data": {
      "image/png": "[encoded data removed]",
      "text/plain": [
       "<Figure size 432x288 with 1 Axes>"
      ]
     },
     "metadata": {
      "needs_background": "light"
     },
     "output_type": "display_data"
    }
   ],
   "source": [
    "import scikitplot as skplt\n",
    "import matplotlib.pyplot as plt\n",
    "\n",
    "y_true = y_test\n",
    "y_probas = model.predict_proba(X_test)\n",
    "skplt.metrics.plot_roc(y_true, y_probas)\n",
    "\n",
    "plt.show()"
   ]
  },
  {
   "cell_type": "code",
   "execution_count": 33,
   "metadata": {
    "colab": {
     "base_uri": "https://localhost:8080/",
     "height": 296
    },
    "id": "qw0YcxFQx3Mc",
    "outputId": "c83fbdcf-a67a-404f-e8dc-9c8473490392"
   },
   "outputs": [
    {
     "ename": "ValueError",
     "evalue": "The number of FixedLocator locations (10), usually from a call to set_ticks, does not match the number of ticklabels (3).",
     "output_type": "error",
     "traceback": [
      "\u001b[0;31m---------------------------------------------------------------------------\u001b[0m",
      "\u001b[0;31mValueError\u001b[0m                                Traceback (most recent call last)",
      "\u001b[0;32m<ipython-input-33-21fe5275d9b1>\u001b[0m in \u001b[0;36m<module>\u001b[0;34m\u001b[0m\n\u001b[1;32m      1\u001b[0m \u001b[0;32mfrom\u001b[0m \u001b[0msklearn\u001b[0m\u001b[0;34m.\u001b[0m\u001b[0mmetrics\u001b[0m \u001b[0;32mimport\u001b[0m \u001b[0mplot_confusion_matrix\u001b[0m\u001b[0;34m\u001b[0m\u001b[0;34m\u001b[0m\u001b[0m\n\u001b[1;32m      2\u001b[0m \u001b[0my_pred\u001b[0m \u001b[0;34m=\u001b[0m \u001b[0mmodel\u001b[0m\u001b[0;34m.\u001b[0m\u001b[0mpredict\u001b[0m\u001b[0;34m(\u001b[0m\u001b[0mX_test\u001b[0m\u001b[0;34m)\u001b[0m\u001b[0;34m\u001b[0m\u001b[0;34m\u001b[0m\u001b[0m\n\u001b[0;32m----> 3\u001b[0;31m \u001b[0mplot_confusion_matrix\u001b[0m\u001b[0;34m(\u001b[0m\u001b[0mmodel\u001b[0m\u001b[0;34m,\u001b[0m \u001b[0mX_test\u001b[0m\u001b[0;34m,\u001b[0m \u001b[0my_test\u001b[0m\u001b[0;34m,\u001b[0m \u001b[0mvalues_format\u001b[0m \u001b[0;34m=\u001b[0m \u001b[0;34m'd'\u001b[0m\u001b[0;34m,\u001b[0m\u001b[0mcmap\u001b[0m \u001b[0;34m=\u001b[0m \u001b[0;34m'Blues'\u001b[0m\u001b[0;34m,\u001b[0m\u001b[0mdisplay_labels\u001b[0m \u001b[0;34m=\u001b[0m \u001b[0;34m[\u001b[0m\u001b[0;34m'0'\u001b[0m\u001b[0;34m,\u001b[0m\u001b[0;34m'1'\u001b[0m\u001b[0;34m,\u001b[0m\u001b[0;34m'2'\u001b[0m\u001b[0;34m]\u001b[0m\u001b[0;34m)\u001b[0m\u001b[0;34m\u001b[0m\u001b[0;34m\u001b[0m\u001b[0m\n\u001b[0m",
      "\u001b[0;32m~/Documentos/pdi_project/plant_env/lib/python3.6/site-packages/sklearn/utils/validation.py\u001b[0m in \u001b[0;36minner_f\u001b[0;34m(*args, **kwargs)\u001b[0m\n\u001b[1;32m     61\u001b[0m             \u001b[0mextra_args\u001b[0m \u001b[0;34m=\u001b[0m \u001b[0mlen\u001b[0m\u001b[0;34m(\u001b[0m\u001b[0margs\u001b[0m\u001b[0;34m)\u001b[0m \u001b[0;34m-\u001b[0m \u001b[0mlen\u001b[0m\u001b[0;34m(\u001b[0m\u001b[0mall_args\u001b[0m\u001b[0;34m)\u001b[0m\u001b[0;34m\u001b[0m\u001b[0;34m\u001b[0m\u001b[0m\n\u001b[1;32m     62\u001b[0m             \u001b[0;32mif\u001b[0m \u001b[0mextra_args\u001b[0m \u001b[0;34m<=\u001b[0m \u001b[0;36m0\u001b[0m\u001b[0;34m:\u001b[0m\u001b[0;34m\u001b[0m\u001b[0;34m\u001b[0m\u001b[0m\n\u001b[0;32m---> 63\u001b[0;31m                 \u001b[0;32mreturn\u001b[0m \u001b[0mf\u001b[0m\u001b[0;34m(\u001b[0m\u001b[0;34m*\u001b[0m\u001b[0margs\u001b[0m\u001b[0;34m,\u001b[0m \u001b[0;34m**\u001b[0m\u001b[0mkwargs\u001b[0m\u001b[0;34m)\u001b[0m\u001b[0;34m\u001b[0m\u001b[0;34m\u001b[0m\u001b[0m\n\u001b[0m\u001b[1;32m     64\u001b[0m \u001b[0;34m\u001b[0m\u001b[0m\n\u001b[1;32m     65\u001b[0m             \u001b[0;31m# extra_args > 0\u001b[0m\u001b[0;34m\u001b[0m\u001b[0;34m\u001b[0m\u001b[0;34m\u001b[0m\u001b[0m\n",
      "\u001b[0;32m~/Documentos/pdi_project/plant_env/lib/python3.6/site-packages/sklearn/metrics/_plot/confusion_matrix.py\u001b[0m in \u001b[0;36mplot_confusion_matrix\u001b[0;34m(estimator, X, y_true, labels, sample_weight, normalize, display_labels, include_values, xticks_rotation, values_format, cmap, ax, colorbar)\u001b[0m\n\u001b[1;32m    275\u001b[0m     return disp.plot(include_values=include_values,\n\u001b[1;32m    276\u001b[0m                      \u001b[0mcmap\u001b[0m\u001b[0;34m=\u001b[0m\u001b[0mcmap\u001b[0m\u001b[0;34m,\u001b[0m \u001b[0max\u001b[0m\u001b[0;34m=\u001b[0m\u001b[0max\u001b[0m\u001b[0;34m,\u001b[0m \u001b[0mxticks_rotation\u001b[0m\u001b[0;34m=\u001b[0m\u001b[0mxticks_rotation\u001b[0m\u001b[0;34m,\u001b[0m\u001b[0;34m\u001b[0m\u001b[0;34m\u001b[0m\u001b[0m\n\u001b[0;32m--> 277\u001b[0;31m                      values_format=values_format, colorbar=colorbar)\n\u001b[0m",
      "\u001b[0;32m~/Documentos/pdi_project/plant_env/lib/python3.6/site-packages/sklearn/utils/validation.py\u001b[0m in \u001b[0;36minner_f\u001b[0;34m(*args, **kwargs)\u001b[0m\n\u001b[1;32m     61\u001b[0m             \u001b[0mextra_args\u001b[0m \u001b[0;34m=\u001b[0m \u001b[0mlen\u001b[0m\u001b[0;34m(\u001b[0m\u001b[0margs\u001b[0m\u001b[0;34m)\u001b[0m \u001b[0;34m-\u001b[0m \u001b[0mlen\u001b[0m\u001b[0;34m(\u001b[0m\u001b[0mall_args\u001b[0m\u001b[0;34m)\u001b[0m\u001b[0;34m\u001b[0m\u001b[0;34m\u001b[0m\u001b[0m\n\u001b[1;32m     62\u001b[0m             \u001b[0;32mif\u001b[0m \u001b[0mextra_args\u001b[0m \u001b[0;34m<=\u001b[0m \u001b[0;36m0\u001b[0m\u001b[0;34m:\u001b[0m\u001b[0;34m\u001b[0m\u001b[0;34m\u001b[0m\u001b[0m\n\u001b[0;32m---> 63\u001b[0;31m                 \u001b[0;32mreturn\u001b[0m \u001b[0mf\u001b[0m\u001b[0;34m(\u001b[0m\u001b[0;34m*\u001b[0m\u001b[0margs\u001b[0m\u001b[0;34m,\u001b[0m \u001b[0;34m**\u001b[0m\u001b[0mkwargs\u001b[0m\u001b[0;34m)\u001b[0m\u001b[0;34m\u001b[0m\u001b[0;34m\u001b[0m\u001b[0m\n\u001b[0m\u001b[1;32m     64\u001b[0m \u001b[0;34m\u001b[0m\u001b[0m\n\u001b[1;32m     65\u001b[0m             \u001b[0;31m# extra_args > 0\u001b[0m\u001b[0;34m\u001b[0m\u001b[0;34m\u001b[0m\u001b[0;34m\u001b[0m\u001b[0m\n",
      "\u001b[0;32m~/Documentos/pdi_project/plant_env/lib/python3.6/site-packages/sklearn/metrics/_plot/confusion_matrix.py\u001b[0m in \u001b[0;36mplot\u001b[0;34m(self, include_values, cmap, xticks_rotation, values_format, ax, colorbar)\u001b[0m\n\u001b[1;32m    156\u001b[0m                \u001b[0myticklabels\u001b[0m\u001b[0;34m=\u001b[0m\u001b[0mdisplay_labels\u001b[0m\u001b[0;34m,\u001b[0m\u001b[0;34m\u001b[0m\u001b[0;34m\u001b[0m\u001b[0m\n\u001b[1;32m    157\u001b[0m                \u001b[0mylabel\u001b[0m\u001b[0;34m=\u001b[0m\u001b[0;34m\"True label\"\u001b[0m\u001b[0;34m,\u001b[0m\u001b[0;34m\u001b[0m\u001b[0;34m\u001b[0m\u001b[0m\n\u001b[0;32m--> 158\u001b[0;31m                xlabel=\"Predicted label\")\n\u001b[0m\u001b[1;32m    159\u001b[0m \u001b[0;34m\u001b[0m\u001b[0m\n\u001b[1;32m    160\u001b[0m         \u001b[0max\u001b[0m\u001b[0;34m.\u001b[0m\u001b[0mset_ylim\u001b[0m\u001b[0;34m(\u001b[0m\u001b[0;34m(\u001b[0m\u001b[0mn_classes\u001b[0m \u001b[0;34m-\u001b[0m \u001b[0;36m0.5\u001b[0m\u001b[0;34m,\u001b[0m \u001b[0;34m-\u001b[0m\u001b[0;36m0.5\u001b[0m\u001b[0;34m)\u001b[0m\u001b[0;34m)\u001b[0m\u001b[0;34m\u001b[0m\u001b[0;34m\u001b[0m\u001b[0m\n",
      "\u001b[0;32m~/Documentos/pdi_project/plant_env/lib/python3.6/site-packages/matplotlib/artist.py\u001b[0m in \u001b[0;36mset\u001b[0;34m(self, **kwargs)\u001b[0m\n\u001b[1;32m   1111\u001b[0m         \u001b[0;32mif\u001b[0m \u001b[0mmove_color_to_start\u001b[0m\u001b[0;34m:\u001b[0m\u001b[0;34m\u001b[0m\u001b[0;34m\u001b[0m\u001b[0m\n\u001b[1;32m   1112\u001b[0m             \u001b[0mkwargs\u001b[0m \u001b[0;34m=\u001b[0m \u001b[0;34m{\u001b[0m\u001b[0;34m\"color\"\u001b[0m\u001b[0;34m:\u001b[0m \u001b[0mkwargs\u001b[0m\u001b[0;34m.\u001b[0m\u001b[0mpop\u001b[0m\u001b[0;34m(\u001b[0m\u001b[0;34m\"color\"\u001b[0m\u001b[0;34m)\u001b[0m\u001b[0;34m,\u001b[0m \u001b[0;34m**\u001b[0m\u001b[0mkwargs\u001b[0m\u001b[0;34m}\u001b[0m\u001b[0;34m\u001b[0m\u001b[0;34m\u001b[0m\u001b[0m\n\u001b[0;32m-> 1113\u001b[0;31m         \u001b[0;32mreturn\u001b[0m \u001b[0mself\u001b[0m\u001b[0;34m.\u001b[0m\u001b[0mupdate\u001b[0m\u001b[0;34m(\u001b[0m\u001b[0mkwargs\u001b[0m\u001b[0;34m)\u001b[0m\u001b[0;34m\u001b[0m\u001b[0;34m\u001b[0m\u001b[0m\n\u001b[0m\u001b[1;32m   1114\u001b[0m \u001b[0;34m\u001b[0m\u001b[0m\n\u001b[1;32m   1115\u001b[0m     \u001b[0;32mdef\u001b[0m \u001b[0mfindobj\u001b[0m\u001b[0;34m(\u001b[0m\u001b[0mself\u001b[0m\u001b[0;34m,\u001b[0m \u001b[0mmatch\u001b[0m\u001b[0;34m=\u001b[0m\u001b[0;32mNone\u001b[0m\u001b[0;34m,\u001b[0m \u001b[0minclude_self\u001b[0m\u001b[0;34m=\u001b[0m\u001b[0;32mTrue\u001b[0m\u001b[0;34m)\u001b[0m\u001b[0;34m:\u001b[0m\u001b[0;34m\u001b[0m\u001b[0;34m\u001b[0m\u001b[0m\n",
      "\u001b[0;32m~/Documentos/pdi_project/plant_env/lib/python3.6/site-packages/matplotlib/artist.py\u001b[0m in \u001b[0;36mupdate\u001b[0;34m(self, props)\u001b[0m\n\u001b[1;32m    996\u001b[0m                         raise AttributeError(f\"{type(self).__name__!r} object \"\n\u001b[1;32m    997\u001b[0m                                              f\"has no property {k!r}\")\n\u001b[0;32m--> 998\u001b[0;31m                     \u001b[0mret\u001b[0m\u001b[0;34m.\u001b[0m\u001b[0mappend\u001b[0m\u001b[0;34m(\u001b[0m\u001b[0mfunc\u001b[0m\u001b[0;34m(\u001b[0m\u001b[0mv\u001b[0m\u001b[0;34m)\u001b[0m\u001b[0;34m)\u001b[0m\u001b[0;34m\u001b[0m\u001b[0;34m\u001b[0m\u001b[0m\n\u001b[0m\u001b[1;32m    999\u001b[0m         \u001b[0;32mif\u001b[0m \u001b[0mret\u001b[0m\u001b[0;34m:\u001b[0m\u001b[0;34m\u001b[0m\u001b[0;34m\u001b[0m\u001b[0m\n\u001b[1;32m   1000\u001b[0m             \u001b[0mself\u001b[0m\u001b[0;34m.\u001b[0m\u001b[0mpchanged\u001b[0m\u001b[0;34m(\u001b[0m\u001b[0;34m)\u001b[0m\u001b[0;34m\u001b[0m\u001b[0;34m\u001b[0m\u001b[0m\n",
      "\u001b[0;32m~/Documentos/pdi_project/plant_env/lib/python3.6/site-packages/matplotlib/axes/_base.py\u001b[0m in \u001b[0;36mwrapper\u001b[0;34m(self, *args, **kwargs)\u001b[0m\n\u001b[1;32m     61\u001b[0m \u001b[0;34m\u001b[0m\u001b[0m\n\u001b[1;32m     62\u001b[0m         \u001b[0;32mdef\u001b[0m \u001b[0mwrapper\u001b[0m\u001b[0;34m(\u001b[0m\u001b[0mself\u001b[0m\u001b[0;34m,\u001b[0m \u001b[0;34m*\u001b[0m\u001b[0margs\u001b[0m\u001b[0;34m,\u001b[0m \u001b[0;34m**\u001b[0m\u001b[0mkwargs\u001b[0m\u001b[0;34m)\u001b[0m\u001b[0;34m:\u001b[0m\u001b[0;34m\u001b[0m\u001b[0;34m\u001b[0m\u001b[0m\n\u001b[0;32m---> 63\u001b[0;31m             \u001b[0;32mreturn\u001b[0m \u001b[0mget_method\u001b[0m\u001b[0;34m(\u001b[0m\u001b[0mself\u001b[0m\u001b[0;34m)\u001b[0m\u001b[0;34m(\u001b[0m\u001b[0;34m*\u001b[0m\u001b[0margs\u001b[0m\u001b[0;34m,\u001b[0m \u001b[0;34m**\u001b[0m\u001b[0mkwargs\u001b[0m\u001b[0;34m)\u001b[0m\u001b[0;34m\u001b[0m\u001b[0;34m\u001b[0m\u001b[0m\n\u001b[0m\u001b[1;32m     64\u001b[0m \u001b[0;34m\u001b[0m\u001b[0m\n\u001b[1;32m     65\u001b[0m         \u001b[0mwrapper\u001b[0m\u001b[0;34m.\u001b[0m\u001b[0m__module__\u001b[0m \u001b[0;34m=\u001b[0m \u001b[0mowner\u001b[0m\u001b[0;34m.\u001b[0m\u001b[0m__module__\u001b[0m\u001b[0;34m\u001b[0m\u001b[0;34m\u001b[0m\u001b[0m\n",
      "\u001b[0;32m~/Documentos/pdi_project/plant_env/lib/python3.6/site-packages/matplotlib/cbook/deprecation.py\u001b[0m in \u001b[0;36mwrapper\u001b[0;34m(*args, **kwargs)\u001b[0m\n\u001b[1;32m    449\u001b[0m                 \u001b[0;34m\"parameter will become keyword-only %(removal)s.\"\u001b[0m\u001b[0;34m,\u001b[0m\u001b[0;34m\u001b[0m\u001b[0;34m\u001b[0m\u001b[0m\n\u001b[1;32m    450\u001b[0m                 name=name, obj_type=f\"parameter of {func.__name__}()\")\n\u001b[0;32m--> 451\u001b[0;31m         \u001b[0;32mreturn\u001b[0m \u001b[0mfunc\u001b[0m\u001b[0;34m(\u001b[0m\u001b[0;34m*\u001b[0m\u001b[0margs\u001b[0m\u001b[0;34m,\u001b[0m \u001b[0;34m**\u001b[0m\u001b[0mkwargs\u001b[0m\u001b[0;34m)\u001b[0m\u001b[0;34m\u001b[0m\u001b[0;34m\u001b[0m\u001b[0m\n\u001b[0m\u001b[1;32m    452\u001b[0m \u001b[0;34m\u001b[0m\u001b[0m\n\u001b[1;32m    453\u001b[0m     \u001b[0;32mreturn\u001b[0m \u001b[0mwrapper\u001b[0m\u001b[0;34m\u001b[0m\u001b[0;34m\u001b[0m\u001b[0m\n",
      "\u001b[0;32m~/Documentos/pdi_project/plant_env/lib/python3.6/site-packages/matplotlib/axis.py\u001b[0m in \u001b[0;36m_set_ticklabels\u001b[0;34m(self, labels, fontdict, minor, **kwargs)\u001b[0m\n\u001b[1;32m   1794\u001b[0m         \u001b[0;32mif\u001b[0m \u001b[0mfontdict\u001b[0m \u001b[0;32mis\u001b[0m \u001b[0;32mnot\u001b[0m \u001b[0;32mNone\u001b[0m\u001b[0;34m:\u001b[0m\u001b[0;34m\u001b[0m\u001b[0;34m\u001b[0m\u001b[0m\n\u001b[1;32m   1795\u001b[0m             \u001b[0mkwargs\u001b[0m\u001b[0;34m.\u001b[0m\u001b[0mupdate\u001b[0m\u001b[0;34m(\u001b[0m\u001b[0mfontdict\u001b[0m\u001b[0;34m)\u001b[0m\u001b[0;34m\u001b[0m\u001b[0;34m\u001b[0m\u001b[0m\n\u001b[0;32m-> 1796\u001b[0;31m         \u001b[0;32mreturn\u001b[0m \u001b[0mself\u001b[0m\u001b[0;34m.\u001b[0m\u001b[0mset_ticklabels\u001b[0m\u001b[0;34m(\u001b[0m\u001b[0mlabels\u001b[0m\u001b[0;34m,\u001b[0m \u001b[0mminor\u001b[0m\u001b[0;34m=\u001b[0m\u001b[0mminor\u001b[0m\u001b[0;34m,\u001b[0m \u001b[0;34m**\u001b[0m\u001b[0mkwargs\u001b[0m\u001b[0;34m)\u001b[0m\u001b[0;34m\u001b[0m\u001b[0;34m\u001b[0m\u001b[0m\n\u001b[0m\u001b[1;32m   1797\u001b[0m \u001b[0;34m\u001b[0m\u001b[0m\n\u001b[1;32m   1798\u001b[0m     \u001b[0;34m@\u001b[0m\u001b[0mcbook\u001b[0m\u001b[0;34m.\u001b[0m\u001b[0m_make_keyword_only\u001b[0m\u001b[0;34m(\u001b[0m\u001b[0;34m\"3.2\"\u001b[0m\u001b[0;34m,\u001b[0m \u001b[0;34m\"minor\"\u001b[0m\u001b[0;34m)\u001b[0m\u001b[0;34m\u001b[0m\u001b[0;34m\u001b[0m\u001b[0m\n",
      "\u001b[0;32m~/Documentos/pdi_project/plant_env/lib/python3.6/site-packages/matplotlib/axis.py\u001b[0m in \u001b[0;36mset_ticklabels\u001b[0;34m(self, ticklabels, minor, **kwargs)\u001b[0m\n\u001b[1;32m   1716\u001b[0m             \u001b[0;32mif\u001b[0m \u001b[0mlen\u001b[0m\u001b[0;34m(\u001b[0m\u001b[0mlocator\u001b[0m\u001b[0;34m.\u001b[0m\u001b[0mlocs\u001b[0m\u001b[0;34m)\u001b[0m \u001b[0;34m!=\u001b[0m \u001b[0mlen\u001b[0m\u001b[0;34m(\u001b[0m\u001b[0mticklabels\u001b[0m\u001b[0;34m)\u001b[0m \u001b[0;32mand\u001b[0m \u001b[0mlen\u001b[0m\u001b[0;34m(\u001b[0m\u001b[0mticklabels\u001b[0m\u001b[0;34m)\u001b[0m \u001b[0;34m!=\u001b[0m \u001b[0;36m0\u001b[0m\u001b[0;34m:\u001b[0m\u001b[0;34m\u001b[0m\u001b[0;34m\u001b[0m\u001b[0m\n\u001b[1;32m   1717\u001b[0m                 raise ValueError(\n\u001b[0;32m-> 1718\u001b[0;31m                     \u001b[0;34m\"The number of FixedLocator locations\"\u001b[0m\u001b[0;34m\u001b[0m\u001b[0;34m\u001b[0m\u001b[0m\n\u001b[0m\u001b[1;32m   1719\u001b[0m                     \u001b[0;34mf\" ({len(locator.locs)}), usually from a call to\"\u001b[0m\u001b[0;34m\u001b[0m\u001b[0;34m\u001b[0m\u001b[0m\n\u001b[1;32m   1720\u001b[0m                     \u001b[0;34m\" set_ticks, does not match\"\u001b[0m\u001b[0;34m\u001b[0m\u001b[0;34m\u001b[0m\u001b[0m\n",
      "\u001b[0;31mValueError\u001b[0m: The number of FixedLocator locations (10), usually from a call to set_ticks, does not match the number of ticklabels (3)."
     ]
    },
    {
     "data": {
      "image/png": "[encoded data removed]",
      "text/plain": [
       "<Figure size 432x288 with 2 Axes>"
      ]
     },
     "metadata": {
      "needs_background": "light"
     },
     "output_type": "display_data"
    }
   ],
   "source": [
    "from sklearn.metrics import plot_confusion_matrix\n",
    "y_pred = model.predict(X_test)\n",
    "plot_confusion_matrix(model, X_test, y_test, values_format = 'd',cmap = 'Blues',display_labels = ['0','1','2'])"
   ]
  },
  {
   "cell_type": "code",
   "execution_count": null,
   "metadata": {
    "colab": {
     "base_uri": "https://localhost:8080/"
    },
    "id": "Gref__vNyWqm",
    "outputId": "ba198a46-5398-482a-a509-72776333aa9d"
   },
   "outputs": [],
   "source": [
    "from sklearn.metrics import classification_report\n",
    "\n",
    "print(classification_report(y_test, y_pred, [0,1,2,3]))"
   ]
  },
  {
   "cell_type": "markdown",
   "metadata": {
    "id": "XEl3_kcUzXyY"
   },
   "source": [
    "# Deployment"
   ]
  },
  {
   "cell_type": "code",
   "execution_count": 38,
   "metadata": {
    "colab": {
     "base_uri": "https://localhost:8080/"
    },
    "id": "HY3YfG2py-Jf",
    "outputId": "1ae76c7e-aea2-4ecf-9da4-2c14477c7009"
   },
   "outputs": [
    {
     "name": "stdout",
     "output_type": "stream",
     "text": [
      "Training Score:  0.99516797054763\n"
     ]
    }
   ],
   "source": [
    "from sklearn.ensemble import RandomForestClassifier\n",
    "lm = RandomForestClassifier(random_state = 50,n_estimators = 50,max_samples = 0.7)\n",
    "lm.fit(X,y)\n",
    "print('Training Score: ',lm.score(X,y))"
   ]
  },
  {
   "cell_type": "code",
   "execution_count": 39,
   "metadata": {
    "colab": {
     "base_uri": "https://localhost:8080/"
    },
    "id": "LlyCB8PCy1qh",
    "outputId": "2cc193e3-7c9e-451e-ab77-0df761e46954"
   },
   "outputs": [
    {
     "data": {
      "text/plain": [
       "array([0.03759165, 0.03982278, 0.07321199, 0.06459146, 0.07521416,\n",
       "       0.12648616, 0.13449407, 0.04168529, 0.03845506, 0.05352139,\n",
       "       0.06350827, 0.06329149, 0.04107125, 0.03747648, 0.10957851])"
      ]
     },
     "execution_count": 39,
     "metadata": {},
     "output_type": "execute_result"
    }
   ],
   "source": [
    "lm.feature_importances_"
   ]
  },
  {
   "cell_type": "markdown",
   "metadata": {
    "id": "WyNxpJvA0ycq"
   },
   "source": [
    "# Selected Features"
   ]
  },
  {
   "cell_type": "code",
   "execution_count": 40,
   "metadata": {
    "colab": {
     "base_uri": "https://localhost:8080/"
    },
    "id": "bb17TIJPz5jJ",
    "outputId": "a4d12a70-dffc-46c9-9374-c36c142227d2"
   },
   "outputs": [
    {
     "data": {
      "text/plain": [
       "Index(['area', 'perimeter', 'red_mean', 'green_mean', 'blue_mean', 'f1', 'f2',\n",
       "       'red_std', 'green_std', 'blue_std', 'f4', 'f5', 'f6', 'f7', 'f8'],\n",
       "      dtype='object')"
      ]
     },
     "execution_count": 40,
     "metadata": {},
     "output_type": "execute_result"
    }
   ],
   "source": [
    "X.columns"
   ]
  },
  {
   "cell_type": "code",
   "execution_count": null,
   "metadata": {},
   "outputs": [],
   "source": []
  }
 ],
 "metadata": {
  "colab": {
   "name": "Apple_DA_and_MD.ipynb",
   "provenance": []
  },
  "kernelspec": {
   "display_name": "plant_env",
   "language": "python",
   "name": "plant_env"
  },
  "language_info": {
   "codemirror_mode": {
    "name": "ipython",
    "version": 3
   },
   "file_extension": ".py",
   "mimetype": "text/x-python",
   "name": "python",
   "nbconvert_exporter": "python",
   "pygments_lexer": "ipython3",
   "version": "3.6.9"
  }
 },
 "nbformat": 4,
 "nbformat_minor": 1
}
