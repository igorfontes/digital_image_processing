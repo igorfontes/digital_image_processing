{
 "cells": [
  {
   "cell_type": "code",
   "execution_count": 2,
   "metadata": {
    "id": "8Cg54vyTot1W"
   },
   "outputs": [],
   "source": [
    "import pandas as pd\n",
    "import matplotlib.pyplot as plt\n",
    "import numpy as np\n",
    "import seaborn as sns"
   ]
  },
  {
   "cell_type": "code",
   "execution_count": 4,
   "metadata": {
    "id": "4-v_yHgEowG5"
   },
   "outputs": [],
   "source": [
    "#!pip install openpyxl\n",
    "raw_data = pd.read_excel('../../apple_dataset_v2.xlsx', engine='openpyxl')"
   ]
  },
  {
   "cell_type": "code",
   "execution_count": 5,
   "metadata": {
    "colab": {
     "base_uri": "https://localhost:8080/"
    },
    "id": "d-UxkVS-sCVa",
    "outputId": "6a77717b-e608-4356-e740-910a8cec0159"
   },
   "outputs": [
    {
     "data": {
      "text/plain": [
       "Unnamed: 0      int64\n",
       "area          float64\n",
       "perimeter     float64\n",
       "red_mean      float64\n",
       "green_mean    float64\n",
       "blue_mean     float64\n",
       "f1            float64\n",
       "f2            float64\n",
       "red_std       float64\n",
       "green_std     float64\n",
       "blue_std      float64\n",
       "f4            float64\n",
       "f5            float64\n",
       "f6            float64\n",
       "f7            float64\n",
       "f8            float64\n",
       "label           int64\n",
       "dtype: object"
      ]
     },
     "execution_count": 5,
     "metadata": {},
     "output_type": "execute_result"
    }
   ],
   "source": [
    "raw_data.dtypes"
   ]
  },
  {
   "cell_type": "code",
   "execution_count": 6,
   "metadata": {
    "id": "6rODIXAEsIiK"
   },
   "outputs": [],
   "source": [
    "raw_data.drop(['Unnamed: 0'],axis = 1, inplace=True)"
   ]
  },
  {
   "cell_type": "code",
   "execution_count": 7,
   "metadata": {
    "colab": {
     "base_uri": "https://localhost:8080/"
    },
    "id": "f3T6y1gVsT2p",
    "outputId": "ab01a558-d67c-4f56-92d5-52ca32f22a78"
   },
   "outputs": [
    {
     "data": {
      "text/plain": [
       "Index(['area', 'perimeter', 'red_mean', 'green_mean', 'blue_mean', 'f1', 'f2',\n",
       "       'red_std', 'green_std', 'blue_std', 'f4', 'f5', 'f6', 'f7', 'f8',\n",
       "       'label'],\n",
       "      dtype='object')"
      ]
     },
     "execution_count": 7,
     "metadata": {},
     "output_type": "execute_result"
    }
   ],
   "source": [
    "raw_data.columns"
   ]
  },
  {
   "cell_type": "code",
   "execution_count": 8,
   "metadata": {
    "colab": {
     "base_uri": "https://localhost:8080/",
     "height": 1000
    },
    "id": "48HQEVsXsWFp",
    "outputId": "69917675-7ac8-48a3-9a77-5f93eeecf880"
   },
   "outputs": [
    {
     "data": {
      "text/html": [
       "<div>\n",
       "<style scoped>\n",
       "    .dataframe tbody tr th:only-of-type {\n",
       "        vertical-align: middle;\n",
       "    }\n",
       "\n",
       "    .dataframe tbody tr th {\n",
       "        vertical-align: top;\n",
       "    }\n",
       "\n",
       "    .dataframe thead th {\n",
       "        text-align: right;\n",
       "    }\n",
       "</style>\n",
       "<table border=\"1\" class=\"dataframe\">\n",
       "  <thead>\n",
       "    <tr style=\"text-align: right;\">\n",
       "      <th></th>\n",
       "      <th>area</th>\n",
       "      <th>perimeter</th>\n",
       "      <th>red_mean</th>\n",
       "      <th>green_mean</th>\n",
       "      <th>blue_mean</th>\n",
       "      <th>f1</th>\n",
       "      <th>f2</th>\n",
       "      <th>red_std</th>\n",
       "      <th>green_std</th>\n",
       "      <th>blue_std</th>\n",
       "      <th>f4</th>\n",
       "      <th>f5</th>\n",
       "      <th>f6</th>\n",
       "      <th>f7</th>\n",
       "      <th>f8</th>\n",
       "      <th>label</th>\n",
       "    </tr>\n",
       "  </thead>\n",
       "  <tbody>\n",
       "    <tr>\n",
       "      <th>area</th>\n",
       "      <td>1.000000</td>\n",
       "      <td>0.858581</td>\n",
       "      <td>0.468442</td>\n",
       "      <td>0.515816</td>\n",
       "      <td>0.466767</td>\n",
       "      <td>0.323543</td>\n",
       "      <td>-0.323543</td>\n",
       "      <td>0.214172</td>\n",
       "      <td>0.155798</td>\n",
       "      <td>0.136859</td>\n",
       "      <td>-0.030862</td>\n",
       "      <td>0.150760</td>\n",
       "      <td>-0.592403</td>\n",
       "      <td>-0.628556</td>\n",
       "      <td>0.193141</td>\n",
       "      <td>-0.080532</td>\n",
       "    </tr>\n",
       "    <tr>\n",
       "      <th>perimeter</th>\n",
       "      <td>0.858581</td>\n",
       "      <td>1.000000</td>\n",
       "      <td>0.296258</td>\n",
       "      <td>0.320740</td>\n",
       "      <td>0.302014</td>\n",
       "      <td>0.184584</td>\n",
       "      <td>-0.184584</td>\n",
       "      <td>0.184754</td>\n",
       "      <td>0.153475</td>\n",
       "      <td>0.148774</td>\n",
       "      <td>0.017796</td>\n",
       "      <td>0.116200</td>\n",
       "      <td>-0.363404</td>\n",
       "      <td>-0.381634</td>\n",
       "      <td>0.118945</td>\n",
       "      <td>-0.038991</td>\n",
       "    </tr>\n",
       "    <tr>\n",
       "      <th>red_mean</th>\n",
       "      <td>0.468442</td>\n",
       "      <td>0.296258</td>\n",
       "      <td>1.000000</td>\n",
       "      <td>0.877469</td>\n",
       "      <td>0.894100</td>\n",
       "      <td>0.139636</td>\n",
       "      <td>-0.139636</td>\n",
       "      <td>0.817254</td>\n",
       "      <td>0.559535</td>\n",
       "      <td>0.611243</td>\n",
       "      <td>0.048659</td>\n",
       "      <td>0.270178</td>\n",
       "      <td>-0.791326</td>\n",
       "      <td>-0.797512</td>\n",
       "      <td>0.431487</td>\n",
       "      <td>-0.063430</td>\n",
       "    </tr>\n",
       "    <tr>\n",
       "      <th>green_mean</th>\n",
       "      <td>0.515816</td>\n",
       "      <td>0.320740</td>\n",
       "      <td>0.877469</td>\n",
       "      <td>1.000000</td>\n",
       "      <td>0.961161</td>\n",
       "      <td>0.478405</td>\n",
       "      <td>-0.478405</td>\n",
       "      <td>0.647668</td>\n",
       "      <td>0.709956</td>\n",
       "      <td>0.681175</td>\n",
       "      <td>0.075563</td>\n",
       "      <td>0.276823</td>\n",
       "      <td>-0.843241</td>\n",
       "      <td>-0.863129</td>\n",
       "      <td>0.477691</td>\n",
       "      <td>0.173828</td>\n",
       "    </tr>\n",
       "    <tr>\n",
       "      <th>blue_mean</th>\n",
       "      <td>0.466767</td>\n",
       "      <td>0.302014</td>\n",
       "      <td>0.894100</td>\n",
       "      <td>0.961161</td>\n",
       "      <td>1.000000</td>\n",
       "      <td>0.343794</td>\n",
       "      <td>-0.343794</td>\n",
       "      <td>0.684514</td>\n",
       "      <td>0.682796</td>\n",
       "      <td>0.753437</td>\n",
       "      <td>0.049533</td>\n",
       "      <td>0.228309</td>\n",
       "      <td>-0.782234</td>\n",
       "      <td>-0.814535</td>\n",
       "      <td>0.489220</td>\n",
       "      <td>0.222952</td>\n",
       "    </tr>\n",
       "    <tr>\n",
       "      <th>f1</th>\n",
       "      <td>0.323543</td>\n",
       "      <td>0.184584</td>\n",
       "      <td>0.139636</td>\n",
       "      <td>0.478405</td>\n",
       "      <td>0.343794</td>\n",
       "      <td>1.000000</td>\n",
       "      <td>-1.000000</td>\n",
       "      <td>0.022385</td>\n",
       "      <td>0.399760</td>\n",
       "      <td>0.252436</td>\n",
       "      <td>0.297170</td>\n",
       "      <td>0.376146</td>\n",
       "      <td>-0.489869</td>\n",
       "      <td>-0.468158</td>\n",
       "      <td>-0.027646</td>\n",
       "      <td>0.132264</td>\n",
       "    </tr>\n",
       "    <tr>\n",
       "      <th>f2</th>\n",
       "      <td>-0.323543</td>\n",
       "      <td>-0.184584</td>\n",
       "      <td>-0.139636</td>\n",
       "      <td>-0.478405</td>\n",
       "      <td>-0.343794</td>\n",
       "      <td>-1.000000</td>\n",
       "      <td>1.000000</td>\n",
       "      <td>-0.022385</td>\n",
       "      <td>-0.399760</td>\n",
       "      <td>-0.252436</td>\n",
       "      <td>-0.297170</td>\n",
       "      <td>-0.376146</td>\n",
       "      <td>0.489869</td>\n",
       "      <td>0.468158</td>\n",
       "      <td>0.027646</td>\n",
       "      <td>-0.132264</td>\n",
       "    </tr>\n",
       "    <tr>\n",
       "      <th>red_std</th>\n",
       "      <td>0.214172</td>\n",
       "      <td>0.184754</td>\n",
       "      <td>0.817254</td>\n",
       "      <td>0.647668</td>\n",
       "      <td>0.684514</td>\n",
       "      <td>0.022385</td>\n",
       "      <td>-0.022385</td>\n",
       "      <td>1.000000</td>\n",
       "      <td>0.740423</td>\n",
       "      <td>0.792868</td>\n",
       "      <td>0.371599</td>\n",
       "      <td>0.471575</td>\n",
       "      <td>-0.544915</td>\n",
       "      <td>-0.456125</td>\n",
       "      <td>0.227190</td>\n",
       "      <td>-0.119236</td>\n",
       "    </tr>\n",
       "    <tr>\n",
       "      <th>green_std</th>\n",
       "      <td>0.155798</td>\n",
       "      <td>0.153475</td>\n",
       "      <td>0.559535</td>\n",
       "      <td>0.709956</td>\n",
       "      <td>0.682796</td>\n",
       "      <td>0.399760</td>\n",
       "      <td>-0.399760</td>\n",
       "      <td>0.740423</td>\n",
       "      <td>1.000000</td>\n",
       "      <td>0.919565</td>\n",
       "      <td>0.416856</td>\n",
       "      <td>0.433471</td>\n",
       "      <td>-0.459684</td>\n",
       "      <td>-0.381255</td>\n",
       "      <td>0.300641</td>\n",
       "      <td>0.246286</td>\n",
       "    </tr>\n",
       "    <tr>\n",
       "      <th>blue_std</th>\n",
       "      <td>0.136859</td>\n",
       "      <td>0.148774</td>\n",
       "      <td>0.611243</td>\n",
       "      <td>0.681175</td>\n",
       "      <td>0.753437</td>\n",
       "      <td>0.252436</td>\n",
       "      <td>-0.252436</td>\n",
       "      <td>0.792868</td>\n",
       "      <td>0.919565</td>\n",
       "      <td>1.000000</td>\n",
       "      <td>0.406152</td>\n",
       "      <td>0.414676</td>\n",
       "      <td>-0.439284</td>\n",
       "      <td>-0.373754</td>\n",
       "      <td>0.270736</td>\n",
       "      <td>0.295170</td>\n",
       "    </tr>\n",
       "    <tr>\n",
       "      <th>f4</th>\n",
       "      <td>-0.030862</td>\n",
       "      <td>0.017796</td>\n",
       "      <td>0.048659</td>\n",
       "      <td>0.075563</td>\n",
       "      <td>0.049533</td>\n",
       "      <td>0.297170</td>\n",
       "      <td>-0.297170</td>\n",
       "      <td>0.371599</td>\n",
       "      <td>0.416856</td>\n",
       "      <td>0.406152</td>\n",
       "      <td>1.000000</td>\n",
       "      <td>0.925196</td>\n",
       "      <td>-0.197262</td>\n",
       "      <td>-0.000293</td>\n",
       "      <td>-0.671292</td>\n",
       "      <td>-0.153580</td>\n",
       "    </tr>\n",
       "    <tr>\n",
       "      <th>f5</th>\n",
       "      <td>0.150760</td>\n",
       "      <td>0.116200</td>\n",
       "      <td>0.270178</td>\n",
       "      <td>0.276823</td>\n",
       "      <td>0.228309</td>\n",
       "      <td>0.376146</td>\n",
       "      <td>-0.376146</td>\n",
       "      <td>0.471575</td>\n",
       "      <td>0.433471</td>\n",
       "      <td>0.414676</td>\n",
       "      <td>0.925196</td>\n",
       "      <td>1.000000</td>\n",
       "      <td>-0.496519</td>\n",
       "      <td>-0.284162</td>\n",
       "      <td>-0.560555</td>\n",
       "      <td>-0.254389</td>\n",
       "    </tr>\n",
       "    <tr>\n",
       "      <th>f6</th>\n",
       "      <td>-0.592403</td>\n",
       "      <td>-0.363404</td>\n",
       "      <td>-0.791326</td>\n",
       "      <td>-0.843241</td>\n",
       "      <td>-0.782234</td>\n",
       "      <td>-0.489869</td>\n",
       "      <td>0.489869</td>\n",
       "      <td>-0.544915</td>\n",
       "      <td>-0.459684</td>\n",
       "      <td>-0.439284</td>\n",
       "      <td>-0.197262</td>\n",
       "      <td>-0.496519</td>\n",
       "      <td>1.000000</td>\n",
       "      <td>0.956100</td>\n",
       "      <td>-0.223384</td>\n",
       "      <td>0.104314</td>\n",
       "    </tr>\n",
       "    <tr>\n",
       "      <th>f7</th>\n",
       "      <td>-0.628556</td>\n",
       "      <td>-0.381634</td>\n",
       "      <td>-0.797512</td>\n",
       "      <td>-0.863129</td>\n",
       "      <td>-0.814535</td>\n",
       "      <td>-0.468158</td>\n",
       "      <td>0.468158</td>\n",
       "      <td>-0.456125</td>\n",
       "      <td>-0.381255</td>\n",
       "      <td>-0.373754</td>\n",
       "      <td>-0.000293</td>\n",
       "      <td>-0.284162</td>\n",
       "      <td>0.956100</td>\n",
       "      <td>1.000000</td>\n",
       "      <td>-0.360882</td>\n",
       "      <td>0.029059</td>\n",
       "    </tr>\n",
       "    <tr>\n",
       "      <th>f8</th>\n",
       "      <td>0.193141</td>\n",
       "      <td>0.118945</td>\n",
       "      <td>0.431487</td>\n",
       "      <td>0.477691</td>\n",
       "      <td>0.489220</td>\n",
       "      <td>-0.027646</td>\n",
       "      <td>0.027646</td>\n",
       "      <td>0.227190</td>\n",
       "      <td>0.300641</td>\n",
       "      <td>0.270736</td>\n",
       "      <td>-0.671292</td>\n",
       "      <td>-0.560555</td>\n",
       "      <td>-0.223384</td>\n",
       "      <td>-0.360882</td>\n",
       "      <td>1.000000</td>\n",
       "      <td>0.277271</td>\n",
       "    </tr>\n",
       "    <tr>\n",
       "      <th>label</th>\n",
       "      <td>-0.080532</td>\n",
       "      <td>-0.038991</td>\n",
       "      <td>-0.063430</td>\n",
       "      <td>0.173828</td>\n",
       "      <td>0.222952</td>\n",
       "      <td>0.132264</td>\n",
       "      <td>-0.132264</td>\n",
       "      <td>-0.119236</td>\n",
       "      <td>0.246286</td>\n",
       "      <td>0.295170</td>\n",
       "      <td>-0.153580</td>\n",
       "      <td>-0.254389</td>\n",
       "      <td>0.104314</td>\n",
       "      <td>0.029059</td>\n",
       "      <td>0.277271</td>\n",
       "      <td>1.000000</td>\n",
       "    </tr>\n",
       "  </tbody>\n",
       "</table>\n",
       "</div>"
      ],
      "text/plain": [
       "                area  perimeter  red_mean  green_mean  blue_mean        f1  \\\n",
       "area        1.000000   0.858581  0.468442    0.515816   0.466767  0.323543   \n",
       "perimeter   0.858581   1.000000  0.296258    0.320740   0.302014  0.184584   \n",
       "red_mean    0.468442   0.296258  1.000000    0.877469   0.894100  0.139636   \n",
       "green_mean  0.515816   0.320740  0.877469    1.000000   0.961161  0.478405   \n",
       "blue_mean   0.466767   0.302014  0.894100    0.961161   1.000000  0.343794   \n",
       "f1          0.323543   0.184584  0.139636    0.478405   0.343794  1.000000   \n",
       "f2         -0.323543  -0.184584 -0.139636   -0.478405  -0.343794 -1.000000   \n",
       "red_std     0.214172   0.184754  0.817254    0.647668   0.684514  0.022385   \n",
       "green_std   0.155798   0.153475  0.559535    0.709956   0.682796  0.399760   \n",
       "blue_std    0.136859   0.148774  0.611243    0.681175   0.753437  0.252436   \n",
       "f4         -0.030862   0.017796  0.048659    0.075563   0.049533  0.297170   \n",
       "f5          0.150760   0.116200  0.270178    0.276823   0.228309  0.376146   \n",
       "f6         -0.592403  -0.363404 -0.791326   -0.843241  -0.782234 -0.489869   \n",
       "f7         -0.628556  -0.381634 -0.797512   -0.863129  -0.814535 -0.468158   \n",
       "f8          0.193141   0.118945  0.431487    0.477691   0.489220 -0.027646   \n",
       "label      -0.080532  -0.038991 -0.063430    0.173828   0.222952  0.132264   \n",
       "\n",
       "                  f2   red_std  green_std  blue_std        f4        f5  \\\n",
       "area       -0.323543  0.214172   0.155798  0.136859 -0.030862  0.150760   \n",
       "perimeter  -0.184584  0.184754   0.153475  0.148774  0.017796  0.116200   \n",
       "red_mean   -0.139636  0.817254   0.559535  0.611243  0.048659  0.270178   \n",
       "green_mean -0.478405  0.647668   0.709956  0.681175  0.075563  0.276823   \n",
       "blue_mean  -0.343794  0.684514   0.682796  0.753437  0.049533  0.228309   \n",
       "f1         -1.000000  0.022385   0.399760  0.252436  0.297170  0.376146   \n",
       "f2          1.000000 -0.022385  -0.399760 -0.252436 -0.297170 -0.376146   \n",
       "red_std    -0.022385  1.000000   0.740423  0.792868  0.371599  0.471575   \n",
       "green_std  -0.399760  0.740423   1.000000  0.919565  0.416856  0.433471   \n",
       "blue_std   -0.252436  0.792868   0.919565  1.000000  0.406152  0.414676   \n",
       "f4         -0.297170  0.371599   0.416856  0.406152  1.000000  0.925196   \n",
       "f5         -0.376146  0.471575   0.433471  0.414676  0.925196  1.000000   \n",
       "f6          0.489869 -0.544915  -0.459684 -0.439284 -0.197262 -0.496519   \n",
       "f7          0.468158 -0.456125  -0.381255 -0.373754 -0.000293 -0.284162   \n",
       "f8          0.027646  0.227190   0.300641  0.270736 -0.671292 -0.560555   \n",
       "label      -0.132264 -0.119236   0.246286  0.295170 -0.153580 -0.254389   \n",
       "\n",
       "                  f6        f7        f8     label  \n",
       "area       -0.592403 -0.628556  0.193141 -0.080532  \n",
       "perimeter  -0.363404 -0.381634  0.118945 -0.038991  \n",
       "red_mean   -0.791326 -0.797512  0.431487 -0.063430  \n",
       "green_mean -0.843241 -0.863129  0.477691  0.173828  \n",
       "blue_mean  -0.782234 -0.814535  0.489220  0.222952  \n",
       "f1         -0.489869 -0.468158 -0.027646  0.132264  \n",
       "f2          0.489869  0.468158  0.027646 -0.132264  \n",
       "red_std    -0.544915 -0.456125  0.227190 -0.119236  \n",
       "green_std  -0.459684 -0.381255  0.300641  0.246286  \n",
       "blue_std   -0.439284 -0.373754  0.270736  0.295170  \n",
       "f4         -0.197262 -0.000293 -0.671292 -0.153580  \n",
       "f5         -0.496519 -0.284162 -0.560555 -0.254389  \n",
       "f6          1.000000  0.956100 -0.223384  0.104314  \n",
       "f7          0.956100  1.000000 -0.360882  0.029059  \n",
       "f8         -0.223384 -0.360882  1.000000  0.277271  \n",
       "label       0.104314  0.029059  0.277271  1.000000  "
      ]
     },
     "execution_count": 8,
     "metadata": {},
     "output_type": "execute_result"
    }
   ],
   "source": [
    "raw_data.corr(method ='pearson')"
   ]
  },
  {
   "cell_type": "code",
   "execution_count": 9,
   "metadata": {
    "colab": {
     "base_uri": "https://localhost:8080/"
    },
    "id": "k_Z60r3Dsk6a",
    "outputId": "1903a9e4-f570-4104-a9db-1046dd04c050"
   },
   "outputs": [],
   "source": [
    "#eda.correlationlist(raw_data)"
   ]
  },
  {
   "cell_type": "markdown",
   "metadata": {
    "id": "tykbukJOs9oT"
   },
   "source": [
    "**Insights:**\n",
    "Less correlated features are:\n",
    "- green channel mean\n",
    "- red channel std\n",
    "- blue channel std\n",
    "- f5\n",
    "- f8\n",
    "\n",
    "Also f1 and f2 are mutually relative So one of them can be removed"
   ]
  },
  {
   "cell_type": "code",
   "execution_count": 10,
   "metadata": {
    "id": "9C4PKZKLs276"
   },
   "outputs": [],
   "source": [
    "cleaned_data = raw_data.drop(['green_mean', 'red_std', 'blue_std', 'f5', 'f8','f1'],axis = 1, inplace=False)"
   ]
  },
  {
   "cell_type": "code",
   "execution_count": 11,
   "metadata": {
    "colab": {
     "base_uri": "https://localhost:8080/",
     "height": 1000
    },
    "id": "5YuECBs9taB2",
    "outputId": "659092be-fad9-4e71-aef0-f4da46785d46"
   },
   "outputs": [
    {
     "data": {
      "text/html": [
       "<div>\n",
       "<style scoped>\n",
       "    .dataframe tbody tr th:only-of-type {\n",
       "        vertical-align: middle;\n",
       "    }\n",
       "\n",
       "    .dataframe tbody tr th {\n",
       "        vertical-align: top;\n",
       "    }\n",
       "\n",
       "    .dataframe thead th {\n",
       "        text-align: right;\n",
       "    }\n",
       "</style>\n",
       "<table border=\"1\" class=\"dataframe\">\n",
       "  <thead>\n",
       "    <tr style=\"text-align: right;\">\n",
       "      <th></th>\n",
       "      <th>area</th>\n",
       "      <th>perimeter</th>\n",
       "      <th>red_mean</th>\n",
       "      <th>blue_mean</th>\n",
       "      <th>f2</th>\n",
       "      <th>green_std</th>\n",
       "      <th>f4</th>\n",
       "      <th>f6</th>\n",
       "      <th>f7</th>\n",
       "      <th>label</th>\n",
       "    </tr>\n",
       "  </thead>\n",
       "  <tbody>\n",
       "    <tr>\n",
       "      <th>area</th>\n",
       "      <td>1.000000</td>\n",
       "      <td>0.858581</td>\n",
       "      <td>0.468442</td>\n",
       "      <td>0.466767</td>\n",
       "      <td>-0.323543</td>\n",
       "      <td>0.155798</td>\n",
       "      <td>-0.030862</td>\n",
       "      <td>-0.592403</td>\n",
       "      <td>-0.628556</td>\n",
       "      <td>-0.080532</td>\n",
       "    </tr>\n",
       "    <tr>\n",
       "      <th>perimeter</th>\n",
       "      <td>0.858581</td>\n",
       "      <td>1.000000</td>\n",
       "      <td>0.296258</td>\n",
       "      <td>0.302014</td>\n",
       "      <td>-0.184584</td>\n",
       "      <td>0.153475</td>\n",
       "      <td>0.017796</td>\n",
       "      <td>-0.363404</td>\n",
       "      <td>-0.381634</td>\n",
       "      <td>-0.038991</td>\n",
       "    </tr>\n",
       "    <tr>\n",
       "      <th>red_mean</th>\n",
       "      <td>0.468442</td>\n",
       "      <td>0.296258</td>\n",
       "      <td>1.000000</td>\n",
       "      <td>0.894100</td>\n",
       "      <td>-0.139636</td>\n",
       "      <td>0.559535</td>\n",
       "      <td>0.048659</td>\n",
       "      <td>-0.791326</td>\n",
       "      <td>-0.797512</td>\n",
       "      <td>-0.063430</td>\n",
       "    </tr>\n",
       "    <tr>\n",
       "      <th>blue_mean</th>\n",
       "      <td>0.466767</td>\n",
       "      <td>0.302014</td>\n",
       "      <td>0.894100</td>\n",
       "      <td>1.000000</td>\n",
       "      <td>-0.343794</td>\n",
       "      <td>0.682796</td>\n",
       "      <td>0.049533</td>\n",
       "      <td>-0.782234</td>\n",
       "      <td>-0.814535</td>\n",
       "      <td>0.222952</td>\n",
       "    </tr>\n",
       "    <tr>\n",
       "      <th>f2</th>\n",
       "      <td>-0.323543</td>\n",
       "      <td>-0.184584</td>\n",
       "      <td>-0.139636</td>\n",
       "      <td>-0.343794</td>\n",
       "      <td>1.000000</td>\n",
       "      <td>-0.399760</td>\n",
       "      <td>-0.297170</td>\n",
       "      <td>0.489869</td>\n",
       "      <td>0.468158</td>\n",
       "      <td>-0.132264</td>\n",
       "    </tr>\n",
       "    <tr>\n",
       "      <th>green_std</th>\n",
       "      <td>0.155798</td>\n",
       "      <td>0.153475</td>\n",
       "      <td>0.559535</td>\n",
       "      <td>0.682796</td>\n",
       "      <td>-0.399760</td>\n",
       "      <td>1.000000</td>\n",
       "      <td>0.416856</td>\n",
       "      <td>-0.459684</td>\n",
       "      <td>-0.381255</td>\n",
       "      <td>0.246286</td>\n",
       "    </tr>\n",
       "    <tr>\n",
       "      <th>f4</th>\n",
       "      <td>-0.030862</td>\n",
       "      <td>0.017796</td>\n",
       "      <td>0.048659</td>\n",
       "      <td>0.049533</td>\n",
       "      <td>-0.297170</td>\n",
       "      <td>0.416856</td>\n",
       "      <td>1.000000</td>\n",
       "      <td>-0.197262</td>\n",
       "      <td>-0.000293</td>\n",
       "      <td>-0.153580</td>\n",
       "    </tr>\n",
       "    <tr>\n",
       "      <th>f6</th>\n",
       "      <td>-0.592403</td>\n",
       "      <td>-0.363404</td>\n",
       "      <td>-0.791326</td>\n",
       "      <td>-0.782234</td>\n",
       "      <td>0.489869</td>\n",
       "      <td>-0.459684</td>\n",
       "      <td>-0.197262</td>\n",
       "      <td>1.000000</td>\n",
       "      <td>0.956100</td>\n",
       "      <td>0.104314</td>\n",
       "    </tr>\n",
       "    <tr>\n",
       "      <th>f7</th>\n",
       "      <td>-0.628556</td>\n",
       "      <td>-0.381634</td>\n",
       "      <td>-0.797512</td>\n",
       "      <td>-0.814535</td>\n",
       "      <td>0.468158</td>\n",
       "      <td>-0.381255</td>\n",
       "      <td>-0.000293</td>\n",
       "      <td>0.956100</td>\n",
       "      <td>1.000000</td>\n",
       "      <td>0.029059</td>\n",
       "    </tr>\n",
       "    <tr>\n",
       "      <th>label</th>\n",
       "      <td>-0.080532</td>\n",
       "      <td>-0.038991</td>\n",
       "      <td>-0.063430</td>\n",
       "      <td>0.222952</td>\n",
       "      <td>-0.132264</td>\n",
       "      <td>0.246286</td>\n",
       "      <td>-0.153580</td>\n",
       "      <td>0.104314</td>\n",
       "      <td>0.029059</td>\n",
       "      <td>1.000000</td>\n",
       "    </tr>\n",
       "  </tbody>\n",
       "</table>\n",
       "</div>"
      ],
      "text/plain": [
       "               area  perimeter  red_mean  blue_mean        f2  green_std  \\\n",
       "area       1.000000   0.858581  0.468442   0.466767 -0.323543   0.155798   \n",
       "perimeter  0.858581   1.000000  0.296258   0.302014 -0.184584   0.153475   \n",
       "red_mean   0.468442   0.296258  1.000000   0.894100 -0.139636   0.559535   \n",
       "blue_mean  0.466767   0.302014  0.894100   1.000000 -0.343794   0.682796   \n",
       "f2        -0.323543  -0.184584 -0.139636  -0.343794  1.000000  -0.399760   \n",
       "green_std  0.155798   0.153475  0.559535   0.682796 -0.399760   1.000000   \n",
       "f4        -0.030862   0.017796  0.048659   0.049533 -0.297170   0.416856   \n",
       "f6        -0.592403  -0.363404 -0.791326  -0.782234  0.489869  -0.459684   \n",
       "f7        -0.628556  -0.381634 -0.797512  -0.814535  0.468158  -0.381255   \n",
       "label     -0.080532  -0.038991 -0.063430   0.222952 -0.132264   0.246286   \n",
       "\n",
       "                 f4        f6        f7     label  \n",
       "area      -0.030862 -0.592403 -0.628556 -0.080532  \n",
       "perimeter  0.017796 -0.363404 -0.381634 -0.038991  \n",
       "red_mean   0.048659 -0.791326 -0.797512 -0.063430  \n",
       "blue_mean  0.049533 -0.782234 -0.814535  0.222952  \n",
       "f2        -0.297170  0.489869  0.468158 -0.132264  \n",
       "green_std  0.416856 -0.459684 -0.381255  0.246286  \n",
       "f4         1.000000 -0.197262 -0.000293 -0.153580  \n",
       "f6        -0.197262  1.000000  0.956100  0.104314  \n",
       "f7        -0.000293  0.956100  1.000000  0.029059  \n",
       "label     -0.153580  0.104314  0.029059  1.000000  "
      ]
     },
     "execution_count": 11,
     "metadata": {},
     "output_type": "execute_result"
    }
   ],
   "source": [
    "cleaned_data.corr(method ='pearson')"
   ]
  },
  {
   "cell_type": "code",
   "execution_count": 12,
   "metadata": {
    "id": "nHFTe4TItiFJ"
   },
   "outputs": [],
   "source": [
    "cleaned_data = cleaned_data.dropna()"
   ]
  },
  {
   "cell_type": "code",
   "execution_count": 13,
   "metadata": {
    "colab": {
     "base_uri": "https://localhost:8080/"
    },
    "id": "1ns2yXu9uXnE",
    "outputId": "81b3083c-7b65-4923-ebe8-674259d14aa4"
   },
   "outputs": [
    {
     "data": {
      "text/plain": [
       "(4633, 16)"
      ]
     },
     "execution_count": 13,
     "metadata": {},
     "output_type": "execute_result"
    }
   ],
   "source": [
    "raw_data.shape"
   ]
  },
  {
   "cell_type": "code",
   "execution_count": 14,
   "metadata": {
    "colab": {
     "base_uri": "https://localhost:8080/"
    },
    "id": "X2iVldJpuZb5",
    "outputId": "44927c0c-ca20-4995-f579-8f113ea7d2f3"
   },
   "outputs": [
    {
     "data": {
      "text/plain": [
       "(4633, 10)"
      ]
     },
     "execution_count": 14,
     "metadata": {},
     "output_type": "execute_result"
    }
   ],
   "source": [
    "cleaned_data.shape"
   ]
  },
  {
   "cell_type": "code",
   "execution_count": 15,
   "metadata": {
    "id": "q1UEsRsTubX5"
   },
   "outputs": [],
   "source": [
    "from sklearn.model_selection import train_test_split\n",
    "from sklearn.metrics import accuracy_score\n",
    "from sklearn.preprocessing import StandardScaler\n",
    "from sklearn.decomposition import PCA\n",
    "from sklearn.svm import SVC\n",
    "from sklearn.metrics import roc_curve, auc\n",
    "from sklearn.model_selection import KFold \n"
   ]
  },
  {
   "cell_type": "code",
   "execution_count": 16,
   "metadata": {
    "id": "ZJg6iy3Mu72T"
   },
   "outputs": [],
   "source": [
    "df = cleaned_data.reset_index()"
   ]
  },
  {
   "cell_type": "code",
   "execution_count": 17,
   "metadata": {
    "colab": {
     "base_uri": "https://localhost:8080/"
    },
    "id": "3DvMWo8rvPW6",
    "outputId": "72d93ebe-2fbe-47b6-903a-ae58e46569e7"
   },
   "outputs": [
    {
     "name": "stdout",
     "output_type": "stream",
     "text": [
      "(4633, 9)\n",
      "(4633,)\n"
     ]
    }
   ],
   "source": [
    "X = df.drop(['index','label'],axis = 1, inplace=False)\n",
    "y = df['label']\n",
    "print(X.shape)\n",
    "print(y.shape)"
   ]
  },
  {
   "cell_type": "code",
   "execution_count": 18,
   "metadata": {
    "colab": {
     "base_uri": "https://localhost:8080/"
    },
    "id": "j723Yu4Xvx_r",
    "outputId": "7d68696b-7a50-4d90-a12e-c3e326ba15d6"
   },
   "outputs": [
    {
     "name": "stdout",
     "output_type": "stream",
     "text": [
      "Score of each fold - [0.8651564185544768, 0.8716289104638619, 0.8586839266450917, 0.8671706263498921, 0.8898488120950324]\n",
      "Avg Score : 0.870497738821671\n"
     ]
    }
   ],
   "source": [
    "k = 5\n",
    "kf = KFold(n_splits=k, random_state=9, shuffle = True)\n",
    "from sklearn.ensemble import RandomForestClassifier\n",
    "model = RandomForestClassifier(random_state = 50,n_estimators = 50,max_samples = 0.7)\n",
    " \n",
    "acc_score = []\n",
    "\n",
    "for train_index , test_index in kf.split(X):\n",
    "    X_train , X_test = X.iloc[train_index,:],X.iloc[test_index,:]\n",
    "    y_train , y_test = y[train_index] , y[test_index]\n",
    "    model = RandomForestClassifier(random_state = 50,n_estimators = 50,max_samples = 0.7)\n",
    "    model.fit(X_train,y_train)\n",
    "    pred_values = model.predict(X_test)            # classification\n",
    "    acc = accuracy_score(pred_values , y_test)     # Classification\n",
    "\n",
    "    #acc = model.score(X_test,y_test)                # Regression\n",
    "    \n",
    "    acc_score.append(acc)\n",
    "     \n",
    "avg_acc_score = sum(acc_score)/k\n",
    " \n",
    "print('Score of each fold - {}'.format(acc_score))\n",
    "print('Avg Score : {}'.format(avg_acc_score))"
   ]
  },
  {
   "cell_type": "markdown",
   "metadata": {
    "id": "jShjKvkbwtys"
   },
   "source": [
    "# **K- fold Cross validation accuracy:**\n",
    "# **0.911084778941669**"
   ]
  },
  {
   "cell_type": "markdown",
   "metadata": {
    "id": "MalrrV30xqn8"
   },
   "source": [
    "# ROC Curve"
   ]
  },
  {
   "cell_type": "code",
   "execution_count": 19,
   "metadata": {
    "colab": {
     "base_uri": "https://localhost:8080/",
     "height": 349
    },
    "id": "U_6DxxVXwmJP",
    "outputId": "a133289a-c71b-4af2-8e04-d36b24d2fc40"
   },
   "outputs": [
    {
     "name": "stderr",
     "output_type": "stream",
     "text": [
      "/home/igor/Documentos/pdi_project/plant_env/lib/python3.6/site-packages/sklearn/utils/deprecation.py:86: FutureWarning: Function plot_roc_curve is deprecated; This will be removed in v0.5.0. Please use scikitplot.metrics.plot_roc instead.\n",
      "  warnings.warn(msg, category=FutureWarning)\n"
     ]
    },
    {
     "data": {
      "image/png": "[encoded data removed]",
      "text/plain": [
       "<Figure size 432x288 with 1 Axes>"
      ]
     },
     "metadata": {
      "needs_background": "light"
     },
     "output_type": "display_data"
    }
   ],
   "source": [
    "import scikitplot as skplt\n",
    "import matplotlib.pyplot as plt\n",
    "\n",
    "y_true = y_test\n",
    "y_probas = model.predict_proba(X_test)\n",
    "skplt.metrics.plot_roc_curve(y_true, y_probas)\n",
    "\n",
    "\n",
    "# filename = '/content/drive/MyDrive/CV_HA/Classification model/V1/ROC_v1.png'\n",
    "\n",
    "# plt.savefig(filename)\n",
    "plt.show()"
   ]
  },
  {
   "cell_type": "code",
   "execution_count": 20,
   "metadata": {
    "colab": {
     "base_uri": "https://localhost:8080/",
     "height": 296
    },
    "id": "qw0YcxFQx3Mc",
    "outputId": "c83fbdcf-a67a-404f-e8dc-9c8473490392"
   },
   "outputs": [
    {
     "data": {
      "text/plain": [
       "<sklearn.metrics._plot.confusion_matrix.ConfusionMatrixDisplay at 0x7fdaf2cb0978>"
      ]
     },
     "execution_count": 20,
     "metadata": {},
     "output_type": "execute_result"
    },
    {
     "data": {
      "image/png": "[encoded data removed]",
      "text/plain": [
       "<Figure size 432x288 with 2 Axes>"
      ]
     },
     "metadata": {
      "needs_background": "light"
     },
     "output_type": "display_data"
    }
   ],
   "source": [
    "from sklearn.metrics import plot_confusion_matrix\n",
    "y_pred = model.predict(X_test)\n",
    "plot_confusion_matrix(model, X_test, y_test, values_format = 'd',cmap = 'Blues',display_labels = ['0','1','2','3'])"
   ]
  },
  {
   "cell_type": "code",
   "execution_count": 21,
   "metadata": {
    "colab": {
     "base_uri": "https://localhost:8080/"
    },
    "id": "Gref__vNyWqm",
    "outputId": "ba198a46-5398-482a-a509-72776333aa9d"
   },
   "outputs": [
    {
     "name": "stdout",
     "output_type": "stream",
     "text": [
      "              precision    recall  f1-score   support\n",
      "\n",
      "           0       0.90      0.89      0.90       321\n",
      "           1       0.89      0.73      0.80       210\n",
      "           2       0.87      0.96      0.91       198\n",
      "           3       0.90      0.98      0.94       197\n",
      "\n",
      "    accuracy                           0.89       926\n",
      "   macro avg       0.89      0.89      0.89       926\n",
      "weighted avg       0.89      0.89      0.89       926\n",
      "\n"
     ]
    },
    {
     "name": "stderr",
     "output_type": "stream",
     "text": [
      "/home/igor/Documentos/pdi_project/plant_env/lib/python3.6/site-packages/sklearn/utils/validation.py:72: FutureWarning: Pass labels=[0, 1, 2, 3] as keyword args. From version 1.0 (renaming of 0.25) passing these as positional arguments will result in an error\n",
      "  \"will result in an error\", FutureWarning)\n"
     ]
    }
   ],
   "source": [
    "from sklearn.metrics import classification_report\n",
    "\n",
    "print(classification_report(y_test, y_pred, [0,1,2,3]))"
   ]
  },
  {
   "cell_type": "markdown",
   "metadata": {
    "id": "DTaYkJYuzBly"
   },
   "source": [
    "# **F1 Score:**\n",
    "# **0.91**"
   ]
  },
  {
   "cell_type": "markdown",
   "metadata": {
    "id": "XEl3_kcUzXyY"
   },
   "source": [
    "# Deployment"
   ]
  },
  {
   "cell_type": "code",
   "execution_count": 22,
   "metadata": {
    "colab": {
     "base_uri": "https://localhost:8080/"
    },
    "id": "HY3YfG2py-Jf",
    "outputId": "1ae76c7e-aea2-4ecf-9da4-2c14477c7009"
   },
   "outputs": [
    {
     "name": "stdout",
     "output_type": "stream",
     "text": [
      "Training Score:  0.9961148284049213\n"
     ]
    }
   ],
   "source": [
    "from sklearn.ensemble import RandomForestClassifier\n",
    "lm = RandomForestClassifier(random_state = 50,n_estimators = 50,max_samples = 0.7)\n",
    "lm.fit(X,y)\n",
    "print('Training Score: ',lm.score(X,y))"
   ]
  },
  {
   "cell_type": "code",
   "execution_count": 23,
   "metadata": {
    "colab": {
     "base_uri": "https://localhost:8080/"
    },
    "id": "LlyCB8PCy1qh",
    "outputId": "2cc193e3-7c9e-451e-ab77-0df761e46954"
   },
   "outputs": [
    {
     "data": {
      "text/plain": [
       "array([0.08661536, 0.07222978, 0.10564381, 0.12744227, 0.13711949,\n",
       "       0.12282753, 0.20433199, 0.06921843, 0.07457133])"
      ]
     },
     "execution_count": 23,
     "metadata": {},
     "output_type": "execute_result"
    }
   ],
   "source": [
    "lm.feature_importances_"
   ]
  },
  {
   "cell_type": "code",
   "execution_count": 24,
   "metadata": {
    "id": "uIAW7lfGznMp"
   },
   "outputs": [],
   "source": [
    "# import pickle\n",
    "# filename = '/content/drive/MyDrive/Ajinkya_Patil_Plant Disease Detection /Processed_data&models/Apple/Results/Applemodel_V1.sav'\n",
    "# pickle.dump(lm, open(filename, 'wb'))"
   ]
  },
  {
   "cell_type": "code",
   "execution_count": 25,
   "metadata": {
    "colab": {
     "base_uri": "https://localhost:8080/"
    },
    "id": "eR0kjBaSzr0a",
    "outputId": "9d6d6bee-9299-4374-8869-b6052022662a"
   },
   "outputs": [],
   "source": [
    "# filename = '/content/drive/MyDrive/Ajinkya_Patil_Plant Disease Detection /Processed_data&models/Apple/Results/Applemodel_V1.sav'\n",
    "\n",
    "# dep_model = pickle.load(open(filename, 'rb'))\n",
    "\n",
    "# print(dep_model.score(X,y))"
   ]
  },
  {
   "cell_type": "code",
   "execution_count": null,
   "metadata": {
    "id": "UkNG6jVI0xt9"
   },
   "outputs": [],
   "source": []
  },
  {
   "cell_type": "markdown",
   "metadata": {
    "id": "WyNxpJvA0ycq"
   },
   "source": [
    "# Selected Features"
   ]
  },
  {
   "cell_type": "code",
   "execution_count": 26,
   "metadata": {
    "colab": {
     "base_uri": "https://localhost:8080/"
    },
    "id": "bb17TIJPz5jJ",
    "outputId": "a4d12a70-dffc-46c9-9374-c36c142227d2"
   },
   "outputs": [
    {
     "data": {
      "text/plain": [
       "Index(['area', 'perimeter', 'red_mean', 'blue_mean', 'f2', 'green_std', 'f4',\n",
       "       'f6', 'f7'],\n",
       "      dtype='object')"
      ]
     },
     "execution_count": 26,
     "metadata": {},
     "output_type": "execute_result"
    }
   ],
   "source": [
    "X.columns"
   ]
  },
  {
   "cell_type": "markdown",
   "metadata": {
    "id": "d4vGl0q9034u"
   },
   "source": [
    "# Label Dictionary"
   ]
  },
  {
   "cell_type": "markdown",
   "metadata": {
    "id": "ZmcskXT91ZG9"
   },
   "source": [
    "- 0 :Apple___healthy\n",
    "- 1: Apple___Apple_scab\n",
    "- 2: Apple___Black_rot\n",
    "- 3: Apple___Cedar_apple_rust"
   ]
  },
  {
   "cell_type": "markdown",
   "metadata": {
    "id": "MN3l625X141M"
   },
   "source": [
    "# Performance\n",
    "- Accuracy : 0.9110\n",
    "- F1 score : 0.91"
   ]
  },
  {
   "cell_type": "code",
   "execution_count": null,
   "metadata": {
    "id": "wkL5LGPF0wIr"
   },
   "outputs": [],
   "source": []
  },
  {
   "cell_type": "code",
   "execution_count": null,
   "metadata": {
    "id": "m79EqwuG0Wjh"
   },
   "outputs": [],
   "source": []
  }
 ],
 "metadata": {
  "colab": {
   "name": "Apple_DA_and_MD.ipynb",
   "provenance": []
  },
  "kernelspec": {
   "display_name": "plant_env",
   "language": "python",
   "name": "plant_env"
  },
  "language_info": {
   "codemirror_mode": {
    "name": "ipython",
    "version": 3
   },
   "file_extension": ".py",
   "mimetype": "text/x-python",
   "name": "python",
   "nbconvert_exporter": "python",
   "pygments_lexer": "ipython3",
   "version": "3.6.9"
  }
 },
 "nbformat": 4,
 "nbformat_minor": 1
}
