{
 "cells": [
  {
   "cell_type": "code",
   "execution_count": 7,
   "metadata": {
    "id": "8Cg54vyTot1W"
   },
   "outputs": [],
   "source": [
    "import pandas as pd\n",
    "import matplotlib.pyplot as plt\n",
    "import numpy as np\n",
    "import seaborn as sns\n",
    "import warnings\n",
    "warnings.filterwarnings('ignore')"
   ]
  },
  {
   "cell_type": "code",
   "execution_count": 8,
   "metadata": {
    "id": "4-v_yHgEowG5"
   },
   "outputs": [],
   "source": [
    "#!pip install openpyxl\n",
    "raw_data = pd.read_excel('../../corn_dataset_v4.xlsx', engine='openpyxl')"
   ]
  },
  {
   "cell_type": "code",
   "execution_count": 9,
   "metadata": {
    "colab": {
     "base_uri": "https://localhost:8080/"
    },
    "id": "d-UxkVS-sCVa",
    "outputId": "6a77717b-e608-4356-e740-910a8cec0159"
   },
   "outputs": [
    {
     "data": {
      "text/plain": [
       "Unnamed: 0      int64\n",
       "area          float64\n",
       "perimeter     float64\n",
       "red_mean      float64\n",
       "green_mean    float64\n",
       "blue_mean     float64\n",
       "f1            float64\n",
       "f2            float64\n",
       "red_std       float64\n",
       "green_std     float64\n",
       "blue_std      float64\n",
       "f4            float64\n",
       "f5            float64\n",
       "f6            float64\n",
       "f7            float64\n",
       "f8            float64\n",
       "label           int64\n",
       "dtype: object"
      ]
     },
     "execution_count": 9,
     "metadata": {},
     "output_type": "execute_result"
    }
   ],
   "source": [
    "raw_data.dtypes"
   ]
  },
  {
   "cell_type": "code",
   "execution_count": 10,
   "metadata": {
    "id": "6rODIXAEsIiK"
   },
   "outputs": [],
   "source": [
    "raw_data.drop(['Unnamed: 0'],axis = 1, inplace=True)"
   ]
  },
  {
   "cell_type": "code",
   "execution_count": 11,
   "metadata": {
    "colab": {
     "base_uri": "https://localhost:8080/"
    },
    "id": "f3T6y1gVsT2p",
    "outputId": "ab01a558-d67c-4f56-92d5-52ca32f22a78"
   },
   "outputs": [
    {
     "data": {
      "text/plain": [
       "Index(['area', 'perimeter', 'red_mean', 'green_mean', 'blue_mean', 'f1', 'f2',\n",
       "       'red_std', 'green_std', 'blue_std', 'f4', 'f5', 'f6', 'f7', 'f8',\n",
       "       'label'],\n",
       "      dtype='object')"
      ]
     },
     "execution_count": 11,
     "metadata": {},
     "output_type": "execute_result"
    }
   ],
   "source": [
    "raw_data.columns"
   ]
  },
  {
   "cell_type": "code",
   "execution_count": 12,
   "metadata": {
    "colab": {
     "base_uri": "https://localhost:8080/",
     "height": 1000
    },
    "id": "48HQEVsXsWFp",
    "outputId": "69917675-7ac8-48a3-9a77-5f93eeecf880"
   },
   "outputs": [
    {
     "data": {
      "text/html": [
       "<div>\n",
       "<style scoped>\n",
       "    .dataframe tbody tr th:only-of-type {\n",
       "        vertical-align: middle;\n",
       "    }\n",
       "\n",
       "    .dataframe tbody tr th {\n",
       "        vertical-align: top;\n",
       "    }\n",
       "\n",
       "    .dataframe thead th {\n",
       "        text-align: right;\n",
       "    }\n",
       "</style>\n",
       "<table border=\"1\" class=\"dataframe\">\n",
       "  <thead>\n",
       "    <tr style=\"text-align: right;\">\n",
       "      <th></th>\n",
       "      <th>area</th>\n",
       "      <th>perimeter</th>\n",
       "      <th>red_mean</th>\n",
       "      <th>green_mean</th>\n",
       "      <th>blue_mean</th>\n",
       "      <th>f1</th>\n",
       "      <th>f2</th>\n",
       "      <th>red_std</th>\n",
       "      <th>green_std</th>\n",
       "      <th>blue_std</th>\n",
       "      <th>f4</th>\n",
       "      <th>f5</th>\n",
       "      <th>f6</th>\n",
       "      <th>f7</th>\n",
       "      <th>f8</th>\n",
       "      <th>label</th>\n",
       "    </tr>\n",
       "  </thead>\n",
       "  <tbody>\n",
       "    <tr>\n",
       "      <th>area</th>\n",
       "      <td>1.000000</td>\n",
       "      <td>0.788210</td>\n",
       "      <td>0.578889</td>\n",
       "      <td>0.584544</td>\n",
       "      <td>0.589753</td>\n",
       "      <td>0.467566</td>\n",
       "      <td>-0.467566</td>\n",
       "      <td>0.307025</td>\n",
       "      <td>0.214349</td>\n",
       "      <td>0.284409</td>\n",
       "      <td>0.259017</td>\n",
       "      <td>0.417948</td>\n",
       "      <td>-0.595091</td>\n",
       "      <td>-0.610970</td>\n",
       "      <td>0.301835</td>\n",
       "      <td>-0.060896</td>\n",
       "    </tr>\n",
       "    <tr>\n",
       "      <th>perimeter</th>\n",
       "      <td>0.788210</td>\n",
       "      <td>1.000000</td>\n",
       "      <td>0.217399</td>\n",
       "      <td>0.217189</td>\n",
       "      <td>0.224623</td>\n",
       "      <td>0.176691</td>\n",
       "      <td>-0.176691</td>\n",
       "      <td>0.081286</td>\n",
       "      <td>0.033203</td>\n",
       "      <td>0.073480</td>\n",
       "      <td>0.120155</td>\n",
       "      <td>0.172177</td>\n",
       "      <td>-0.223616</td>\n",
       "      <td>-0.230346</td>\n",
       "      <td>0.069209</td>\n",
       "      <td>0.015561</td>\n",
       "    </tr>\n",
       "    <tr>\n",
       "      <th>red_mean</th>\n",
       "      <td>0.578889</td>\n",
       "      <td>0.217399</td>\n",
       "      <td>1.000000</td>\n",
       "      <td>0.974794</td>\n",
       "      <td>0.958141</td>\n",
       "      <td>0.662558</td>\n",
       "      <td>-0.662558</td>\n",
       "      <td>0.747112</td>\n",
       "      <td>0.626982</td>\n",
       "      <td>0.660599</td>\n",
       "      <td>0.458841</td>\n",
       "      <td>0.564266</td>\n",
       "      <td>-0.844176</td>\n",
       "      <td>-0.879678</td>\n",
       "      <td>0.587608</td>\n",
       "      <td>-0.382483</td>\n",
       "    </tr>\n",
       "    <tr>\n",
       "      <th>green_mean</th>\n",
       "      <td>0.584544</td>\n",
       "      <td>0.217189</td>\n",
       "      <td>0.974794</td>\n",
       "      <td>1.000000</td>\n",
       "      <td>0.977363</td>\n",
       "      <td>0.779199</td>\n",
       "      <td>-0.779199</td>\n",
       "      <td>0.764725</td>\n",
       "      <td>0.683359</td>\n",
       "      <td>0.705410</td>\n",
       "      <td>0.497385</td>\n",
       "      <td>0.609001</td>\n",
       "      <td>-0.890231</td>\n",
       "      <td>-0.920943</td>\n",
       "      <td>0.628983</td>\n",
       "      <td>-0.424105</td>\n",
       "    </tr>\n",
       "    <tr>\n",
       "      <th>blue_mean</th>\n",
       "      <td>0.589753</td>\n",
       "      <td>0.224623</td>\n",
       "      <td>0.958141</td>\n",
       "      <td>0.977363</td>\n",
       "      <td>1.000000</td>\n",
       "      <td>0.742459</td>\n",
       "      <td>-0.742459</td>\n",
       "      <td>0.783104</td>\n",
       "      <td>0.690809</td>\n",
       "      <td>0.755589</td>\n",
       "      <td>0.578631</td>\n",
       "      <td>0.693673</td>\n",
       "      <td>-0.917394</td>\n",
       "      <td>-0.926993</td>\n",
       "      <td>0.616493</td>\n",
       "      <td>-0.323771</td>\n",
       "    </tr>\n",
       "    <tr>\n",
       "      <th>f1</th>\n",
       "      <td>0.467566</td>\n",
       "      <td>0.176691</td>\n",
       "      <td>0.662558</td>\n",
       "      <td>0.779199</td>\n",
       "      <td>0.742459</td>\n",
       "      <td>1.000000</td>\n",
       "      <td>-1.000000</td>\n",
       "      <td>0.609392</td>\n",
       "      <td>0.624366</td>\n",
       "      <td>0.598086</td>\n",
       "      <td>0.431668</td>\n",
       "      <td>0.543459</td>\n",
       "      <td>-0.768201</td>\n",
       "      <td>-0.773088</td>\n",
       "      <td>0.554303</td>\n",
       "      <td>-0.343073</td>\n",
       "    </tr>\n",
       "    <tr>\n",
       "      <th>f2</th>\n",
       "      <td>-0.467566</td>\n",
       "      <td>-0.176691</td>\n",
       "      <td>-0.662558</td>\n",
       "      <td>-0.779199</td>\n",
       "      <td>-0.742459</td>\n",
       "      <td>-1.000000</td>\n",
       "      <td>1.000000</td>\n",
       "      <td>-0.609392</td>\n",
       "      <td>-0.624366</td>\n",
       "      <td>-0.598086</td>\n",
       "      <td>-0.431668</td>\n",
       "      <td>-0.543459</td>\n",
       "      <td>0.768201</td>\n",
       "      <td>0.773088</td>\n",
       "      <td>-0.554303</td>\n",
       "      <td>0.343073</td>\n",
       "    </tr>\n",
       "    <tr>\n",
       "      <th>red_std</th>\n",
       "      <td>0.307025</td>\n",
       "      <td>0.081286</td>\n",
       "      <td>0.747112</td>\n",
       "      <td>0.764725</td>\n",
       "      <td>0.783104</td>\n",
       "      <td>0.609392</td>\n",
       "      <td>-0.609392</td>\n",
       "      <td>1.000000</td>\n",
       "      <td>0.962168</td>\n",
       "      <td>0.962177</td>\n",
       "      <td>0.684827</td>\n",
       "      <td>0.656888</td>\n",
       "      <td>-0.758197</td>\n",
       "      <td>-0.744228</td>\n",
       "      <td>0.738517</td>\n",
       "      <td>-0.310173</td>\n",
       "    </tr>\n",
       "    <tr>\n",
       "      <th>green_std</th>\n",
       "      <td>0.214349</td>\n",
       "      <td>0.033203</td>\n",
       "      <td>0.626982</td>\n",
       "      <td>0.683359</td>\n",
       "      <td>0.690809</td>\n",
       "      <td>0.624366</td>\n",
       "      <td>-0.624366</td>\n",
       "      <td>0.962168</td>\n",
       "      <td>1.000000</td>\n",
       "      <td>0.964330</td>\n",
       "      <td>0.655005</td>\n",
       "      <td>0.600200</td>\n",
       "      <td>-0.685135</td>\n",
       "      <td>-0.668737</td>\n",
       "      <td>0.763745</td>\n",
       "      <td>-0.345928</td>\n",
       "    </tr>\n",
       "    <tr>\n",
       "      <th>blue_std</th>\n",
       "      <td>0.284409</td>\n",
       "      <td>0.073480</td>\n",
       "      <td>0.660599</td>\n",
       "      <td>0.705410</td>\n",
       "      <td>0.755589</td>\n",
       "      <td>0.598086</td>\n",
       "      <td>-0.598086</td>\n",
       "      <td>0.962177</td>\n",
       "      <td>0.964330</td>\n",
       "      <td>1.000000</td>\n",
       "      <td>0.737238</td>\n",
       "      <td>0.712768</td>\n",
       "      <td>-0.757803</td>\n",
       "      <td>-0.723866</td>\n",
       "      <td>0.747733</td>\n",
       "      <td>-0.231269</td>\n",
       "    </tr>\n",
       "    <tr>\n",
       "      <th>f4</th>\n",
       "      <td>0.259017</td>\n",
       "      <td>0.120155</td>\n",
       "      <td>0.458841</td>\n",
       "      <td>0.497385</td>\n",
       "      <td>0.578631</td>\n",
       "      <td>0.431668</td>\n",
       "      <td>-0.431668</td>\n",
       "      <td>0.684827</td>\n",
       "      <td>0.655005</td>\n",
       "      <td>0.737238</td>\n",
       "      <td>1.000000</td>\n",
       "      <td>0.922057</td>\n",
       "      <td>-0.668430</td>\n",
       "      <td>-0.580086</td>\n",
       "      <td>0.371659</td>\n",
       "      <td>-0.159605</td>\n",
       "    </tr>\n",
       "    <tr>\n",
       "      <th>f5</th>\n",
       "      <td>0.417948</td>\n",
       "      <td>0.172177</td>\n",
       "      <td>0.564266</td>\n",
       "      <td>0.609001</td>\n",
       "      <td>0.693673</td>\n",
       "      <td>0.543459</td>\n",
       "      <td>-0.543459</td>\n",
       "      <td>0.656888</td>\n",
       "      <td>0.600200</td>\n",
       "      <td>0.712768</td>\n",
       "      <td>0.922057</td>\n",
       "      <td>1.000000</td>\n",
       "      <td>-0.841842</td>\n",
       "      <td>-0.745677</td>\n",
       "      <td>0.428365</td>\n",
       "      <td>-0.074743</td>\n",
       "    </tr>\n",
       "    <tr>\n",
       "      <th>f6</th>\n",
       "      <td>-0.595091</td>\n",
       "      <td>-0.223616</td>\n",
       "      <td>-0.844176</td>\n",
       "      <td>-0.890231</td>\n",
       "      <td>-0.917394</td>\n",
       "      <td>-0.768201</td>\n",
       "      <td>0.768201</td>\n",
       "      <td>-0.758197</td>\n",
       "      <td>-0.685135</td>\n",
       "      <td>-0.757803</td>\n",
       "      <td>-0.668430</td>\n",
       "      <td>-0.841842</td>\n",
       "      <td>1.000000</td>\n",
       "      <td>0.971333</td>\n",
       "      <td>-0.635113</td>\n",
       "      <td>0.210293</td>\n",
       "    </tr>\n",
       "    <tr>\n",
       "      <th>f7</th>\n",
       "      <td>-0.610970</td>\n",
       "      <td>-0.230346</td>\n",
       "      <td>-0.879678</td>\n",
       "      <td>-0.920943</td>\n",
       "      <td>-0.926993</td>\n",
       "      <td>-0.773088</td>\n",
       "      <td>0.773088</td>\n",
       "      <td>-0.744228</td>\n",
       "      <td>-0.668737</td>\n",
       "      <td>-0.723866</td>\n",
       "      <td>-0.580086</td>\n",
       "      <td>-0.745677</td>\n",
       "      <td>0.971333</td>\n",
       "      <td>1.000000</td>\n",
       "      <td>-0.659052</td>\n",
       "      <td>0.264671</td>\n",
       "    </tr>\n",
       "    <tr>\n",
       "      <th>f8</th>\n",
       "      <td>0.301835</td>\n",
       "      <td>0.069209</td>\n",
       "      <td>0.587608</td>\n",
       "      <td>0.628983</td>\n",
       "      <td>0.616493</td>\n",
       "      <td>0.554303</td>\n",
       "      <td>-0.554303</td>\n",
       "      <td>0.738517</td>\n",
       "      <td>0.763745</td>\n",
       "      <td>0.747733</td>\n",
       "      <td>0.371659</td>\n",
       "      <td>0.428365</td>\n",
       "      <td>-0.635113</td>\n",
       "      <td>-0.659052</td>\n",
       "      <td>1.000000</td>\n",
       "      <td>-0.255903</td>\n",
       "    </tr>\n",
       "    <tr>\n",
       "      <th>label</th>\n",
       "      <td>-0.060896</td>\n",
       "      <td>0.015561</td>\n",
       "      <td>-0.382483</td>\n",
       "      <td>-0.424105</td>\n",
       "      <td>-0.323771</td>\n",
       "      <td>-0.343073</td>\n",
       "      <td>0.343073</td>\n",
       "      <td>-0.310173</td>\n",
       "      <td>-0.345928</td>\n",
       "      <td>-0.231269</td>\n",
       "      <td>-0.159605</td>\n",
       "      <td>-0.074743</td>\n",
       "      <td>0.210293</td>\n",
       "      <td>0.264671</td>\n",
       "      <td>-0.255903</td>\n",
       "      <td>1.000000</td>\n",
       "    </tr>\n",
       "  </tbody>\n",
       "</table>\n",
       "</div>"
      ],
      "text/plain": [
       "                area  perimeter  red_mean  green_mean  blue_mean        f1  \\\n",
       "area        1.000000   0.788210  0.578889    0.584544   0.589753  0.467566   \n",
       "perimeter   0.788210   1.000000  0.217399    0.217189   0.224623  0.176691   \n",
       "red_mean    0.578889   0.217399  1.000000    0.974794   0.958141  0.662558   \n",
       "green_mean  0.584544   0.217189  0.974794    1.000000   0.977363  0.779199   \n",
       "blue_mean   0.589753   0.224623  0.958141    0.977363   1.000000  0.742459   \n",
       "f1          0.467566   0.176691  0.662558    0.779199   0.742459  1.000000   \n",
       "f2         -0.467566  -0.176691 -0.662558   -0.779199  -0.742459 -1.000000   \n",
       "red_std     0.307025   0.081286  0.747112    0.764725   0.783104  0.609392   \n",
       "green_std   0.214349   0.033203  0.626982    0.683359   0.690809  0.624366   \n",
       "blue_std    0.284409   0.073480  0.660599    0.705410   0.755589  0.598086   \n",
       "f4          0.259017   0.120155  0.458841    0.497385   0.578631  0.431668   \n",
       "f5          0.417948   0.172177  0.564266    0.609001   0.693673  0.543459   \n",
       "f6         -0.595091  -0.223616 -0.844176   -0.890231  -0.917394 -0.768201   \n",
       "f7         -0.610970  -0.230346 -0.879678   -0.920943  -0.926993 -0.773088   \n",
       "f8          0.301835   0.069209  0.587608    0.628983   0.616493  0.554303   \n",
       "label      -0.060896   0.015561 -0.382483   -0.424105  -0.323771 -0.343073   \n",
       "\n",
       "                  f2   red_std  green_std  blue_std        f4        f5  \\\n",
       "area       -0.467566  0.307025   0.214349  0.284409  0.259017  0.417948   \n",
       "perimeter  -0.176691  0.081286   0.033203  0.073480  0.120155  0.172177   \n",
       "red_mean   -0.662558  0.747112   0.626982  0.660599  0.458841  0.564266   \n",
       "green_mean -0.779199  0.764725   0.683359  0.705410  0.497385  0.609001   \n",
       "blue_mean  -0.742459  0.783104   0.690809  0.755589  0.578631  0.693673   \n",
       "f1         -1.000000  0.609392   0.624366  0.598086  0.431668  0.543459   \n",
       "f2          1.000000 -0.609392  -0.624366 -0.598086 -0.431668 -0.543459   \n",
       "red_std    -0.609392  1.000000   0.962168  0.962177  0.684827  0.656888   \n",
       "green_std  -0.624366  0.962168   1.000000  0.964330  0.655005  0.600200   \n",
       "blue_std   -0.598086  0.962177   0.964330  1.000000  0.737238  0.712768   \n",
       "f4         -0.431668  0.684827   0.655005  0.737238  1.000000  0.922057   \n",
       "f5         -0.543459  0.656888   0.600200  0.712768  0.922057  1.000000   \n",
       "f6          0.768201 -0.758197  -0.685135 -0.757803 -0.668430 -0.841842   \n",
       "f7          0.773088 -0.744228  -0.668737 -0.723866 -0.580086 -0.745677   \n",
       "f8         -0.554303  0.738517   0.763745  0.747733  0.371659  0.428365   \n",
       "label       0.343073 -0.310173  -0.345928 -0.231269 -0.159605 -0.074743   \n",
       "\n",
       "                  f6        f7        f8     label  \n",
       "area       -0.595091 -0.610970  0.301835 -0.060896  \n",
       "perimeter  -0.223616 -0.230346  0.069209  0.015561  \n",
       "red_mean   -0.844176 -0.879678  0.587608 -0.382483  \n",
       "green_mean -0.890231 -0.920943  0.628983 -0.424105  \n",
       "blue_mean  -0.917394 -0.926993  0.616493 -0.323771  \n",
       "f1         -0.768201 -0.773088  0.554303 -0.343073  \n",
       "f2          0.768201  0.773088 -0.554303  0.343073  \n",
       "red_std    -0.758197 -0.744228  0.738517 -0.310173  \n",
       "green_std  -0.685135 -0.668737  0.763745 -0.345928  \n",
       "blue_std   -0.757803 -0.723866  0.747733 -0.231269  \n",
       "f4         -0.668430 -0.580086  0.371659 -0.159605  \n",
       "f5         -0.841842 -0.745677  0.428365 -0.074743  \n",
       "f6          1.000000  0.971333 -0.635113  0.210293  \n",
       "f7          0.971333  1.000000 -0.659052  0.264671  \n",
       "f8         -0.635113 -0.659052  1.000000 -0.255903  \n",
       "label       0.210293  0.264671 -0.255903  1.000000  "
      ]
     },
     "execution_count": 12,
     "metadata": {},
     "output_type": "execute_result"
    }
   ],
   "source": [
    "raw_data.corr(method ='pearson')"
   ]
  },
  {
   "cell_type": "markdown",
   "metadata": {
    "id": "tykbukJOs9oT"
   },
   "source": [
    "**Insights:**\n",
    "Less correlated features are:\n",
    "- area\n",
    "- perimeter\n",
    "- green channel std\n",
    "- f5\n",
    "- f6\n",
    "- f4\n",
    "\n",
    "Also f1 and f2 are mutually relative So one of them can be removed"
   ]
  },
  {
   "cell_type": "code",
   "execution_count": 13,
   "metadata": {
    "id": "9C4PKZKLs276"
   },
   "outputs": [],
   "source": [
    "cleaned_data = raw_data.drop(['area', 'perimeter', 'green_std', 'f4', 'f5', 'f6','f1'],axis = 1, inplace=False)"
   ]
  },
  {
   "cell_type": "code",
   "execution_count": 14,
   "metadata": {
    "colab": {
     "base_uri": "https://localhost:8080/",
     "height": 1000
    },
    "id": "5YuECBs9taB2",
    "outputId": "659092be-fad9-4e71-aef0-f4da46785d46"
   },
   "outputs": [
    {
     "data": {
      "text/html": [
       "<div>\n",
       "<style scoped>\n",
       "    .dataframe tbody tr th:only-of-type {\n",
       "        vertical-align: middle;\n",
       "    }\n",
       "\n",
       "    .dataframe tbody tr th {\n",
       "        vertical-align: top;\n",
       "    }\n",
       "\n",
       "    .dataframe thead th {\n",
       "        text-align: right;\n",
       "    }\n",
       "</style>\n",
       "<table border=\"1\" class=\"dataframe\">\n",
       "  <thead>\n",
       "    <tr style=\"text-align: right;\">\n",
       "      <th></th>\n",
       "      <th>red_mean</th>\n",
       "      <th>green_mean</th>\n",
       "      <th>blue_mean</th>\n",
       "      <th>f2</th>\n",
       "      <th>red_std</th>\n",
       "      <th>blue_std</th>\n",
       "      <th>f7</th>\n",
       "      <th>f8</th>\n",
       "      <th>label</th>\n",
       "    </tr>\n",
       "  </thead>\n",
       "  <tbody>\n",
       "    <tr>\n",
       "      <th>red_mean</th>\n",
       "      <td>1.000000</td>\n",
       "      <td>0.974794</td>\n",
       "      <td>0.958141</td>\n",
       "      <td>-0.662558</td>\n",
       "      <td>0.747112</td>\n",
       "      <td>0.660599</td>\n",
       "      <td>-0.879678</td>\n",
       "      <td>0.587608</td>\n",
       "      <td>-0.382483</td>\n",
       "    </tr>\n",
       "    <tr>\n",
       "      <th>green_mean</th>\n",
       "      <td>0.974794</td>\n",
       "      <td>1.000000</td>\n",
       "      <td>0.977363</td>\n",
       "      <td>-0.779199</td>\n",
       "      <td>0.764725</td>\n",
       "      <td>0.705410</td>\n",
       "      <td>-0.920943</td>\n",
       "      <td>0.628983</td>\n",
       "      <td>-0.424105</td>\n",
       "    </tr>\n",
       "    <tr>\n",
       "      <th>blue_mean</th>\n",
       "      <td>0.958141</td>\n",
       "      <td>0.977363</td>\n",
       "      <td>1.000000</td>\n",
       "      <td>-0.742459</td>\n",
       "      <td>0.783104</td>\n",
       "      <td>0.755589</td>\n",
       "      <td>-0.926993</td>\n",
       "      <td>0.616493</td>\n",
       "      <td>-0.323771</td>\n",
       "    </tr>\n",
       "    <tr>\n",
       "      <th>f2</th>\n",
       "      <td>-0.662558</td>\n",
       "      <td>-0.779199</td>\n",
       "      <td>-0.742459</td>\n",
       "      <td>1.000000</td>\n",
       "      <td>-0.609392</td>\n",
       "      <td>-0.598086</td>\n",
       "      <td>0.773088</td>\n",
       "      <td>-0.554303</td>\n",
       "      <td>0.343073</td>\n",
       "    </tr>\n",
       "    <tr>\n",
       "      <th>red_std</th>\n",
       "      <td>0.747112</td>\n",
       "      <td>0.764725</td>\n",
       "      <td>0.783104</td>\n",
       "      <td>-0.609392</td>\n",
       "      <td>1.000000</td>\n",
       "      <td>0.962177</td>\n",
       "      <td>-0.744228</td>\n",
       "      <td>0.738517</td>\n",
       "      <td>-0.310173</td>\n",
       "    </tr>\n",
       "    <tr>\n",
       "      <th>blue_std</th>\n",
       "      <td>0.660599</td>\n",
       "      <td>0.705410</td>\n",
       "      <td>0.755589</td>\n",
       "      <td>-0.598086</td>\n",
       "      <td>0.962177</td>\n",
       "      <td>1.000000</td>\n",
       "      <td>-0.723866</td>\n",
       "      <td>0.747733</td>\n",
       "      <td>-0.231269</td>\n",
       "    </tr>\n",
       "    <tr>\n",
       "      <th>f7</th>\n",
       "      <td>-0.879678</td>\n",
       "      <td>-0.920943</td>\n",
       "      <td>-0.926993</td>\n",
       "      <td>0.773088</td>\n",
       "      <td>-0.744228</td>\n",
       "      <td>-0.723866</td>\n",
       "      <td>1.000000</td>\n",
       "      <td>-0.659052</td>\n",
       "      <td>0.264671</td>\n",
       "    </tr>\n",
       "    <tr>\n",
       "      <th>f8</th>\n",
       "      <td>0.587608</td>\n",
       "      <td>0.628983</td>\n",
       "      <td>0.616493</td>\n",
       "      <td>-0.554303</td>\n",
       "      <td>0.738517</td>\n",
       "      <td>0.747733</td>\n",
       "      <td>-0.659052</td>\n",
       "      <td>1.000000</td>\n",
       "      <td>-0.255903</td>\n",
       "    </tr>\n",
       "    <tr>\n",
       "      <th>label</th>\n",
       "      <td>-0.382483</td>\n",
       "      <td>-0.424105</td>\n",
       "      <td>-0.323771</td>\n",
       "      <td>0.343073</td>\n",
       "      <td>-0.310173</td>\n",
       "      <td>-0.231269</td>\n",
       "      <td>0.264671</td>\n",
       "      <td>-0.255903</td>\n",
       "      <td>1.000000</td>\n",
       "    </tr>\n",
       "  </tbody>\n",
       "</table>\n",
       "</div>"
      ],
      "text/plain": [
       "            red_mean  green_mean  blue_mean        f2   red_std  blue_std  \\\n",
       "red_mean    1.000000    0.974794   0.958141 -0.662558  0.747112  0.660599   \n",
       "green_mean  0.974794    1.000000   0.977363 -0.779199  0.764725  0.705410   \n",
       "blue_mean   0.958141    0.977363   1.000000 -0.742459  0.783104  0.755589   \n",
       "f2         -0.662558   -0.779199  -0.742459  1.000000 -0.609392 -0.598086   \n",
       "red_std     0.747112    0.764725   0.783104 -0.609392  1.000000  0.962177   \n",
       "blue_std    0.660599    0.705410   0.755589 -0.598086  0.962177  1.000000   \n",
       "f7         -0.879678   -0.920943  -0.926993  0.773088 -0.744228 -0.723866   \n",
       "f8          0.587608    0.628983   0.616493 -0.554303  0.738517  0.747733   \n",
       "label      -0.382483   -0.424105  -0.323771  0.343073 -0.310173 -0.231269   \n",
       "\n",
       "                  f7        f8     label  \n",
       "red_mean   -0.879678  0.587608 -0.382483  \n",
       "green_mean -0.920943  0.628983 -0.424105  \n",
       "blue_mean  -0.926993  0.616493 -0.323771  \n",
       "f2          0.773088 -0.554303  0.343073  \n",
       "red_std    -0.744228  0.738517 -0.310173  \n",
       "blue_std   -0.723866  0.747733 -0.231269  \n",
       "f7          1.000000 -0.659052  0.264671  \n",
       "f8         -0.659052  1.000000 -0.255903  \n",
       "label       0.264671 -0.255903  1.000000  "
      ]
     },
     "execution_count": 14,
     "metadata": {},
     "output_type": "execute_result"
    }
   ],
   "source": [
    "cleaned_data.corr(method ='pearson')"
   ]
  },
  {
   "cell_type": "code",
   "execution_count": 15,
   "metadata": {
    "id": "nHFTe4TItiFJ"
   },
   "outputs": [],
   "source": [
    "cleaned_data = cleaned_data.dropna()"
   ]
  },
  {
   "cell_type": "code",
   "execution_count": 16,
   "metadata": {
    "colab": {
     "base_uri": "https://localhost:8080/"
    },
    "id": "1ns2yXu9uXnE",
    "outputId": "81b3083c-7b65-4923-ebe8-674259d14aa4"
   },
   "outputs": [
    {
     "data": {
      "text/plain": [
       "(4061, 16)"
      ]
     },
     "execution_count": 16,
     "metadata": {},
     "output_type": "execute_result"
    }
   ],
   "source": [
    "raw_data.shape"
   ]
  },
  {
   "cell_type": "code",
   "execution_count": 17,
   "metadata": {
    "colab": {
     "base_uri": "https://localhost:8080/"
    },
    "id": "X2iVldJpuZb5",
    "outputId": "44927c0c-ca20-4995-f579-8f113ea7d2f3"
   },
   "outputs": [
    {
     "data": {
      "text/plain": [
       "(4061, 9)"
      ]
     },
     "execution_count": 17,
     "metadata": {},
     "output_type": "execute_result"
    }
   ],
   "source": [
    "cleaned_data.shape"
   ]
  },
  {
   "cell_type": "code",
   "execution_count": 18,
   "metadata": {
    "id": "q1UEsRsTubX5"
   },
   "outputs": [],
   "source": [
    "from sklearn.model_selection import train_test_split\n",
    "from sklearn.metrics import accuracy_score\n",
    "from sklearn.preprocessing import StandardScaler\n",
    "from sklearn.decomposition import PCA\n",
    "from sklearn.svm import SVC\n",
    "from sklearn.metrics import roc_curve, auc\n",
    "from sklearn.model_selection import KFold \n"
   ]
  },
  {
   "cell_type": "code",
   "execution_count": 19,
   "metadata": {
    "id": "ZJg6iy3Mu72T"
   },
   "outputs": [],
   "source": [
    "df = cleaned_data.reset_index()"
   ]
  },
  {
   "cell_type": "code",
   "execution_count": 20,
   "metadata": {
    "colab": {
     "base_uri": "https://localhost:8080/"
    },
    "id": "3DvMWo8rvPW6",
    "outputId": "72d93ebe-2fbe-47b6-903a-ae58e46569e7"
   },
   "outputs": [
    {
     "name": "stdout",
     "output_type": "stream",
     "text": [
      "(4061, 8)\n",
      "(4061,)\n"
     ]
    }
   ],
   "source": [
    "X = df.drop(['index','label'],axis = 1, inplace=False)\n",
    "y = df['label']\n",
    "print(X.shape)\n",
    "print(y.shape)"
   ]
  },
  {
   "cell_type": "code",
   "execution_count": 21,
   "metadata": {
    "colab": {
     "base_uri": "https://localhost:8080/"
    },
    "id": "j723Yu4Xvx_r",
    "outputId": "7d68696b-7a50-4d90-a12e-c3e326ba15d6"
   },
   "outputs": [
    {
     "name": "stdout",
     "output_type": "stream",
     "text": [
      "Score of each fold - [0.8191881918819188, 0.8275862068965517, 0.8386699507389163, 0.8226600985221675, 0.8325123152709359]\n",
      "Avg Score : 0.828123352662098\n"
     ]
    }
   ],
   "source": [
    "k = 5\n",
    "kf = KFold(n_splits=k, random_state=9, shuffle = True)\n",
    "from sklearn.ensemble import RandomForestClassifier\n",
    "model = RandomForestClassifier(random_state = 50,n_estimators = 50,max_samples = 0.7)\n",
    " \n",
    "acc_score = []\n",
    "\n",
    "for train_index , test_index in kf.split(X):\n",
    "    X_train , X_test = X.iloc[train_index,:],X.iloc[test_index,:]\n",
    "    y_train , y_test = y[train_index] , y[test_index]\n",
    "    model = RandomForestClassifier(random_state = 50,n_estimators = 50,max_samples = 0.7)\n",
    "    model.fit(X_train,y_train)\n",
    "    pred_values = model.predict(X_test)            # classification\n",
    "    acc = accuracy_score(pred_values , y_test)     # Classification\n",
    "\n",
    "    #acc = model.score(X_test,y_test)                # Regression\n",
    "    \n",
    "    acc_score.append(acc)\n",
    "     \n",
    "avg_acc_score = sum(acc_score)/k\n",
    " \n",
    "print('Score of each fold - {}'.format(acc_score))\n",
    "print('Avg Score : {}'.format(avg_acc_score))"
   ]
  },
  {
   "cell_type": "markdown",
   "metadata": {
    "id": "jShjKvkbwtys"
   },
   "source": [
    "# **K- fold Cross validation accuracy:**\n",
    "# **0.833025404157044**"
   ]
  },
  {
   "cell_type": "markdown",
   "metadata": {
    "id": "MalrrV30xqn8"
   },
   "source": [
    "# ROC Curve"
   ]
  },
  {
   "cell_type": "code",
   "execution_count": 22,
   "metadata": {
    "colab": {
     "base_uri": "https://localhost:8080/",
     "height": 349
    },
    "id": "U_6DxxVXwmJP",
    "outputId": "a133289a-c71b-4af2-8e04-d36b24d2fc40"
   },
   "outputs": [
    {
     "data": {
      "image/png": "[encoded data removed]",
      "text/plain": [
       "<Figure size 432x288 with 1 Axes>"
      ]
     },
     "metadata": {
      "needs_background": "light"
     },
     "output_type": "display_data"
    }
   ],
   "source": [
    "import scikitplot as skplt\n",
    "import matplotlib.pyplot as plt\n",
    "\n",
    "y_true = y_test\n",
    "y_probas = model.predict_proba(X_test)\n",
    "skplt.metrics.plot_roc(y_true, y_probas)\n",
    "\n",
    "plt.show()"
   ]
  },
  {
   "cell_type": "code",
   "execution_count": 23,
   "metadata": {
    "colab": {
     "base_uri": "https://localhost:8080/",
     "height": 296
    },
    "id": "qw0YcxFQx3Mc",
    "outputId": "c83fbdcf-a67a-404f-e8dc-9c8473490392"
   },
   "outputs": [
    {
     "data": {
      "text/plain": [
       "<sklearn.metrics._plot.confusion_matrix.ConfusionMatrixDisplay at 0x7f337ad2f320>"
      ]
     },
     "execution_count": 23,
     "metadata": {},
     "output_type": "execute_result"
    },
    {
     "data": {
      "image/png": "[encoded data removed]",
      "text/plain": [
       "<Figure size 432x288 with 2 Axes>"
      ]
     },
     "metadata": {
      "needs_background": "light"
     },
     "output_type": "display_data"
    }
   ],
   "source": [
    "from sklearn.metrics import plot_confusion_matrix\n",
    "y_pred = model.predict(X_test)\n",
    "plot_confusion_matrix(model, X_test, y_test, values_format = 'd',cmap = 'Blues',display_labels = ['0','1','2','3'])"
   ]
  },
  {
   "cell_type": "code",
   "execution_count": 24,
   "metadata": {
    "colab": {
     "base_uri": "https://localhost:8080/"
    },
    "id": "Gref__vNyWqm",
    "outputId": "ba198a46-5398-482a-a509-72776333aa9d"
   },
   "outputs": [
    {
     "name": "stdout",
     "output_type": "stream",
     "text": [
      "              precision    recall  f1-score   support\n",
      "\n",
      "           0       0.93      0.98      0.95       203\n",
      "           1       0.71      0.63      0.67       194\n",
      "           2       1.00      0.98      0.99       229\n",
      "           3       0.65      0.70      0.67       186\n",
      "\n",
      "    accuracy                           0.83       812\n",
      "   macro avg       0.82      0.82      0.82       812\n",
      "weighted avg       0.83      0.83      0.83       812\n",
      "\n"
     ]
    }
   ],
   "source": [
    "from sklearn.metrics import classification_report\n",
    "\n",
    "print(classification_report(y_test, y_pred, [0,1,2,3]))"
   ]
  },
  {
   "cell_type": "markdown",
   "metadata": {
    "id": "DTaYkJYuzBly"
   },
   "source": [
    "# **F1 Score:**\n",
    "# **0.91**"
   ]
  },
  {
   "cell_type": "markdown",
   "metadata": {
    "id": "XEl3_kcUzXyY"
   },
   "source": [
    "# Deployment"
   ]
  },
  {
   "cell_type": "code",
   "execution_count": 19,
   "metadata": {
    "colab": {
     "base_uri": "https://localhost:8080/"
    },
    "id": "HY3YfG2py-Jf",
    "outputId": "1ae76c7e-aea2-4ecf-9da4-2c14477c7009"
   },
   "outputs": [
    {
     "name": "stdout",
     "output_type": "stream",
     "text": [
      "Training Score:  0.9960755457444199\n"
     ]
    }
   ],
   "source": [
    "from sklearn.ensemble import RandomForestClassifier\n",
    "lm = RandomForestClassifier(random_state = 50,n_estimators = 50,max_samples = 0.7)\n",
    "lm.fit(X,y)\n",
    "print('Training Score: ',lm.score(X,y))"
   ]
  },
  {
   "cell_type": "code",
   "execution_count": 20,
   "metadata": {
    "colab": {
     "base_uri": "https://localhost:8080/"
    },
    "id": "LlyCB8PCy1qh",
    "outputId": "2cc193e3-7c9e-451e-ab77-0df761e46954"
   },
   "outputs": [
    {
     "data": {
      "text/plain": [
       "array([0.11095184, 0.2090732 , 0.14784286, 0.11578258, 0.13114987,\n",
       "       0.0813143 , 0.07508865, 0.1287967 ])"
      ]
     },
     "execution_count": 20,
     "metadata": {},
     "output_type": "execute_result"
    }
   ],
   "source": [
    "lm.feature_importances_"
   ]
  },
  {
   "cell_type": "markdown",
   "metadata": {
    "id": "WyNxpJvA0ycq"
   },
   "source": [
    "# Selected Features"
   ]
  },
  {
   "cell_type": "code",
   "execution_count": 21,
   "metadata": {
    "colab": {
     "base_uri": "https://localhost:8080/"
    },
    "id": "bb17TIJPz5jJ",
    "outputId": "a4d12a70-dffc-46c9-9374-c36c142227d2"
   },
   "outputs": [
    {
     "data": {
      "text/plain": [
       "Index(['red_mean', 'green_mean', 'blue_mean', 'f2', 'red_std', 'blue_std',\n",
       "       'f7', 'f8'],\n",
       "      dtype='object')"
      ]
     },
     "execution_count": 21,
     "metadata": {},
     "output_type": "execute_result"
    }
   ],
   "source": [
    "X.columns"
   ]
  },
  {
   "cell_type": "code",
   "execution_count": null,
   "metadata": {
    "id": "wkL5LGPF0wIr"
   },
   "outputs": [],
   "source": []
  },
  {
   "cell_type": "code",
   "execution_count": null,
   "metadata": {
    "id": "m79EqwuG0Wjh"
   },
   "outputs": [],
   "source": []
  }
 ],
 "metadata": {
  "colab": {
   "name": "Apple_DA_and_MD.ipynb",
   "provenance": []
  },
  "interpreter": {
   "hash": "bb5a7a19e023c4cfaac4677f5748687784b46986f847b8a1b6d6751c054faa4b"
  },
  "kernelspec": {
   "display_name": "plant_env",
   "language": "python",
   "name": "plant_env"
  },
  "language_info": {
   "codemirror_mode": {
    "name": "ipython",
    "version": 3
   },
   "file_extension": ".py",
   "mimetype": "text/x-python",
   "name": "python",
   "nbconvert_exporter": "python",
   "pygments_lexer": "ipython3",
   "version": "3.6.9"
  }
 },
 "nbformat": 4,
 "nbformat_minor": 1
}
