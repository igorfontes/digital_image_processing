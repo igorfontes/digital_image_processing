{
 "cells": [
  {
   "cell_type": "code",
   "execution_count": 1,
   "metadata": {
    "id": "8Cg54vyTot1W"
   },
   "outputs": [],
   "source": [
    "import pandas as pd\n",
    "import matplotlib.pyplot as plt\n",
    "import numpy as np\n",
    "import seaborn as sns\n",
    "import warnings\n",
    "warnings.filterwarnings('ignore')"
   ]
  },
  {
   "cell_type": "code",
   "execution_count": 2,
   "metadata": {
    "id": "4-v_yHgEowG5"
   },
   "outputs": [],
   "source": [
    "#!pip install openpyxl\n",
    "raw_data = pd.read_excel('../../tomato_dataset_v2.xlsx', engine='openpyxl')"
   ]
  },
  {
   "cell_type": "code",
   "execution_count": 3,
   "metadata": {
    "colab": {
     "base_uri": "https://localhost:8080/"
    },
    "id": "d-UxkVS-sCVa",
    "outputId": "6a77717b-e608-4356-e740-910a8cec0159"
   },
   "outputs": [
    {
     "data": {
      "text/plain": [
       "Unnamed: 0      int64\n",
       "area          float64\n",
       "perimeter     float64\n",
       "red_mean      float64\n",
       "green_mean    float64\n",
       "blue_mean     float64\n",
       "f1            float64\n",
       "f2            float64\n",
       "red_std       float64\n",
       "green_std     float64\n",
       "blue_std      float64\n",
       "f4            float64\n",
       "f5            float64\n",
       "f6            float64\n",
       "f7            float64\n",
       "f8            float64\n",
       "label           int64\n",
       "dtype: object"
      ]
     },
     "execution_count": 3,
     "metadata": {},
     "output_type": "execute_result"
    }
   ],
   "source": [
    "raw_data.dtypes"
   ]
  },
  {
   "cell_type": "code",
   "execution_count": 4,
   "metadata": {
    "id": "6rODIXAEsIiK"
   },
   "outputs": [],
   "source": [
    "raw_data.drop(['Unnamed: 0'],axis = 1, inplace=True)"
   ]
  },
  {
   "cell_type": "code",
   "execution_count": 5,
   "metadata": {
    "colab": {
     "base_uri": "https://localhost:8080/"
    },
    "id": "f3T6y1gVsT2p",
    "outputId": "ab01a558-d67c-4f56-92d5-52ca32f22a78"
   },
   "outputs": [
    {
     "data": {
      "text/plain": [
       "Index(['area', 'perimeter', 'red_mean', 'green_mean', 'blue_mean', 'f1', 'f2',\n",
       "       'red_std', 'green_std', 'blue_std', 'f4', 'f5', 'f6', 'f7', 'f8',\n",
       "       'label'],\n",
       "      dtype='object')"
      ]
     },
     "execution_count": 5,
     "metadata": {},
     "output_type": "execute_result"
    }
   ],
   "source": [
    "raw_data.columns"
   ]
  },
  {
   "cell_type": "code",
   "execution_count": 6,
   "metadata": {
    "colab": {
     "base_uri": "https://localhost:8080/",
     "height": 1000
    },
    "id": "48HQEVsXsWFp",
    "outputId": "69917675-7ac8-48a3-9a77-5f93eeecf880"
   },
   "outputs": [
    {
     "data": {
      "text/html": [
       "<div>\n",
       "<style scoped>\n",
       "    .dataframe tbody tr th:only-of-type {\n",
       "        vertical-align: middle;\n",
       "    }\n",
       "\n",
       "    .dataframe tbody tr th {\n",
       "        vertical-align: top;\n",
       "    }\n",
       "\n",
       "    .dataframe thead th {\n",
       "        text-align: right;\n",
       "    }\n",
       "</style>\n",
       "<table border=\"1\" class=\"dataframe\">\n",
       "  <thead>\n",
       "    <tr style=\"text-align: right;\">\n",
       "      <th></th>\n",
       "      <th>area</th>\n",
       "      <th>perimeter</th>\n",
       "      <th>red_mean</th>\n",
       "      <th>green_mean</th>\n",
       "      <th>blue_mean</th>\n",
       "      <th>f1</th>\n",
       "      <th>f2</th>\n",
       "      <th>red_std</th>\n",
       "      <th>green_std</th>\n",
       "      <th>blue_std</th>\n",
       "      <th>f4</th>\n",
       "      <th>f5</th>\n",
       "      <th>f6</th>\n",
       "      <th>f7</th>\n",
       "      <th>f8</th>\n",
       "      <th>label</th>\n",
       "    </tr>\n",
       "  </thead>\n",
       "  <tbody>\n",
       "    <tr>\n",
       "      <th>area</th>\n",
       "      <td>1.000000</td>\n",
       "      <td>0.824577</td>\n",
       "      <td>0.471649</td>\n",
       "      <td>0.503305</td>\n",
       "      <td>0.479012</td>\n",
       "      <td>0.363909</td>\n",
       "      <td>-0.363909</td>\n",
       "      <td>0.149639</td>\n",
       "      <td>0.062042</td>\n",
       "      <td>0.064123</td>\n",
       "      <td>-0.046475</td>\n",
       "      <td>0.121827</td>\n",
       "      <td>-0.580841</td>\n",
       "      <td>-0.627202</td>\n",
       "      <td>0.150081</td>\n",
       "      <td>-0.029058</td>\n",
       "    </tr>\n",
       "    <tr>\n",
       "      <th>perimeter</th>\n",
       "      <td>0.824577</td>\n",
       "      <td>1.000000</td>\n",
       "      <td>0.287642</td>\n",
       "      <td>0.288137</td>\n",
       "      <td>0.286239</td>\n",
       "      <td>0.169097</td>\n",
       "      <td>-0.169097</td>\n",
       "      <td>0.173393</td>\n",
       "      <td>0.113367</td>\n",
       "      <td>0.131437</td>\n",
       "      <td>0.025322</td>\n",
       "      <td>0.117289</td>\n",
       "      <td>-0.345353</td>\n",
       "      <td>-0.357229</td>\n",
       "      <td>0.098435</td>\n",
       "      <td>-0.042871</td>\n",
       "    </tr>\n",
       "    <tr>\n",
       "      <th>red_mean</th>\n",
       "      <td>0.471649</td>\n",
       "      <td>0.287642</td>\n",
       "      <td>1.000000</td>\n",
       "      <td>0.899051</td>\n",
       "      <td>0.928508</td>\n",
       "      <td>0.294588</td>\n",
       "      <td>-0.294588</td>\n",
       "      <td>0.785778</td>\n",
       "      <td>0.523189</td>\n",
       "      <td>0.584902</td>\n",
       "      <td>0.142571</td>\n",
       "      <td>0.300113</td>\n",
       "      <td>-0.781436</td>\n",
       "      <td>-0.805504</td>\n",
       "      <td>0.307772</td>\n",
       "      <td>-0.082953</td>\n",
       "    </tr>\n",
       "    <tr>\n",
       "      <th>green_mean</th>\n",
       "      <td>0.503305</td>\n",
       "      <td>0.288137</td>\n",
       "      <td>0.899051</td>\n",
       "      <td>1.000000</td>\n",
       "      <td>0.970203</td>\n",
       "      <td>0.536696</td>\n",
       "      <td>-0.536696</td>\n",
       "      <td>0.640536</td>\n",
       "      <td>0.637418</td>\n",
       "      <td>0.593648</td>\n",
       "      <td>0.065705</td>\n",
       "      <td>0.217143</td>\n",
       "      <td>-0.812654</td>\n",
       "      <td>-0.869121</td>\n",
       "      <td>0.416188</td>\n",
       "      <td>0.102004</td>\n",
       "    </tr>\n",
       "    <tr>\n",
       "      <th>blue_mean</th>\n",
       "      <td>0.479012</td>\n",
       "      <td>0.286239</td>\n",
       "      <td>0.928508</td>\n",
       "      <td>0.970203</td>\n",
       "      <td>1.000000</td>\n",
       "      <td>0.381586</td>\n",
       "      <td>-0.381586</td>\n",
       "      <td>0.703035</td>\n",
       "      <td>0.623755</td>\n",
       "      <td>0.670264</td>\n",
       "      <td>0.123286</td>\n",
       "      <td>0.255196</td>\n",
       "      <td>-0.774543</td>\n",
       "      <td>-0.829679</td>\n",
       "      <td>0.359167</td>\n",
       "      <td>0.060209</td>\n",
       "    </tr>\n",
       "    <tr>\n",
       "      <th>f1</th>\n",
       "      <td>0.363909</td>\n",
       "      <td>0.169097</td>\n",
       "      <td>0.294588</td>\n",
       "      <td>0.536696</td>\n",
       "      <td>0.381586</td>\n",
       "      <td>1.000000</td>\n",
       "      <td>-1.000000</td>\n",
       "      <td>0.109589</td>\n",
       "      <td>0.347358</td>\n",
       "      <td>0.126821</td>\n",
       "      <td>0.158676</td>\n",
       "      <td>0.305103</td>\n",
       "      <td>-0.610097</td>\n",
       "      <td>-0.588322</td>\n",
       "      <td>0.079998</td>\n",
       "      <td>0.269585</td>\n",
       "    </tr>\n",
       "    <tr>\n",
       "      <th>f2</th>\n",
       "      <td>-0.363909</td>\n",
       "      <td>-0.169097</td>\n",
       "      <td>-0.294588</td>\n",
       "      <td>-0.536696</td>\n",
       "      <td>-0.381586</td>\n",
       "      <td>-1.000000</td>\n",
       "      <td>1.000000</td>\n",
       "      <td>-0.109589</td>\n",
       "      <td>-0.347358</td>\n",
       "      <td>-0.126821</td>\n",
       "      <td>-0.158676</td>\n",
       "      <td>-0.305103</td>\n",
       "      <td>0.610097</td>\n",
       "      <td>0.588322</td>\n",
       "      <td>-0.079998</td>\n",
       "      <td>-0.269585</td>\n",
       "    </tr>\n",
       "    <tr>\n",
       "      <th>red_std</th>\n",
       "      <td>0.149639</td>\n",
       "      <td>0.173393</td>\n",
       "      <td>0.785778</td>\n",
       "      <td>0.640536</td>\n",
       "      <td>0.703035</td>\n",
       "      <td>0.109589</td>\n",
       "      <td>-0.109589</td>\n",
       "      <td>1.000000</td>\n",
       "      <td>0.762024</td>\n",
       "      <td>0.850471</td>\n",
       "      <td>0.471417</td>\n",
       "      <td>0.511169</td>\n",
       "      <td>-0.515769</td>\n",
       "      <td>-0.458149</td>\n",
       "      <td>0.114362</td>\n",
       "      <td>-0.106938</td>\n",
       "    </tr>\n",
       "    <tr>\n",
       "      <th>green_std</th>\n",
       "      <td>0.062042</td>\n",
       "      <td>0.113367</td>\n",
       "      <td>0.523189</td>\n",
       "      <td>0.637418</td>\n",
       "      <td>0.623755</td>\n",
       "      <td>0.347358</td>\n",
       "      <td>-0.347358</td>\n",
       "      <td>0.762024</td>\n",
       "      <td>1.000000</td>\n",
       "      <td>0.914455</td>\n",
       "      <td>0.422662</td>\n",
       "      <td>0.418477</td>\n",
       "      <td>-0.411932</td>\n",
       "      <td>-0.364415</td>\n",
       "      <td>0.241802</td>\n",
       "      <td>0.158796</td>\n",
       "    </tr>\n",
       "    <tr>\n",
       "      <th>blue_std</th>\n",
       "      <td>0.064123</td>\n",
       "      <td>0.131437</td>\n",
       "      <td>0.584902</td>\n",
       "      <td>0.593648</td>\n",
       "      <td>0.670264</td>\n",
       "      <td>0.126821</td>\n",
       "      <td>-0.126821</td>\n",
       "      <td>0.850471</td>\n",
       "      <td>0.914455</td>\n",
       "      <td>1.000000</td>\n",
       "      <td>0.505125</td>\n",
       "      <td>0.495920</td>\n",
       "      <td>-0.408692</td>\n",
       "      <td>-0.351045</td>\n",
       "      <td>0.132483</td>\n",
       "      <td>0.043200</td>\n",
       "    </tr>\n",
       "    <tr>\n",
       "      <th>f4</th>\n",
       "      <td>-0.046475</td>\n",
       "      <td>0.025322</td>\n",
       "      <td>0.142571</td>\n",
       "      <td>0.065705</td>\n",
       "      <td>0.123286</td>\n",
       "      <td>0.158676</td>\n",
       "      <td>-0.158676</td>\n",
       "      <td>0.471417</td>\n",
       "      <td>0.422662</td>\n",
       "      <td>0.505125</td>\n",
       "      <td>1.000000</td>\n",
       "      <td>0.931144</td>\n",
       "      <td>-0.194868</td>\n",
       "      <td>-0.018316</td>\n",
       "      <td>-0.705226</td>\n",
       "      <td>-0.062208</td>\n",
       "    </tr>\n",
       "    <tr>\n",
       "      <th>f5</th>\n",
       "      <td>0.121827</td>\n",
       "      <td>0.117289</td>\n",
       "      <td>0.300113</td>\n",
       "      <td>0.217143</td>\n",
       "      <td>0.255196</td>\n",
       "      <td>0.305103</td>\n",
       "      <td>-0.305103</td>\n",
       "      <td>0.511169</td>\n",
       "      <td>0.418477</td>\n",
       "      <td>0.495920</td>\n",
       "      <td>0.931144</td>\n",
       "      <td>1.000000</td>\n",
       "      <td>-0.465240</td>\n",
       "      <td>-0.256539</td>\n",
       "      <td>-0.599960</td>\n",
       "      <td>-0.037888</td>\n",
       "    </tr>\n",
       "    <tr>\n",
       "      <th>f6</th>\n",
       "      <td>-0.580841</td>\n",
       "      <td>-0.345353</td>\n",
       "      <td>-0.781436</td>\n",
       "      <td>-0.812654</td>\n",
       "      <td>-0.774543</td>\n",
       "      <td>-0.610097</td>\n",
       "      <td>0.610097</td>\n",
       "      <td>-0.515769</td>\n",
       "      <td>-0.411932</td>\n",
       "      <td>-0.408692</td>\n",
       "      <td>-0.194868</td>\n",
       "      <td>-0.465240</td>\n",
       "      <td>1.000000</td>\n",
       "      <td>0.952257</td>\n",
       "      <td>-0.198388</td>\n",
       "      <td>-0.004023</td>\n",
       "    </tr>\n",
       "    <tr>\n",
       "      <th>f7</th>\n",
       "      <td>-0.627202</td>\n",
       "      <td>-0.357229</td>\n",
       "      <td>-0.805504</td>\n",
       "      <td>-0.869121</td>\n",
       "      <td>-0.829679</td>\n",
       "      <td>-0.588322</td>\n",
       "      <td>0.588322</td>\n",
       "      <td>-0.458149</td>\n",
       "      <td>-0.364415</td>\n",
       "      <td>-0.351045</td>\n",
       "      <td>-0.018316</td>\n",
       "      <td>-0.256539</td>\n",
       "      <td>0.952257</td>\n",
       "      <td>1.000000</td>\n",
       "      <td>-0.328802</td>\n",
       "      <td>-0.028056</td>\n",
       "    </tr>\n",
       "    <tr>\n",
       "      <th>f8</th>\n",
       "      <td>0.150081</td>\n",
       "      <td>0.098435</td>\n",
       "      <td>0.307772</td>\n",
       "      <td>0.416188</td>\n",
       "      <td>0.359167</td>\n",
       "      <td>0.079998</td>\n",
       "      <td>-0.079998</td>\n",
       "      <td>0.114362</td>\n",
       "      <td>0.241802</td>\n",
       "      <td>0.132483</td>\n",
       "      <td>-0.705226</td>\n",
       "      <td>-0.599960</td>\n",
       "      <td>-0.198388</td>\n",
       "      <td>-0.328802</td>\n",
       "      <td>1.000000</td>\n",
       "      <td>0.125252</td>\n",
       "    </tr>\n",
       "    <tr>\n",
       "      <th>label</th>\n",
       "      <td>-0.029058</td>\n",
       "      <td>-0.042871</td>\n",
       "      <td>-0.082953</td>\n",
       "      <td>0.102004</td>\n",
       "      <td>0.060209</td>\n",
       "      <td>0.269585</td>\n",
       "      <td>-0.269585</td>\n",
       "      <td>-0.106938</td>\n",
       "      <td>0.158796</td>\n",
       "      <td>0.043200</td>\n",
       "      <td>-0.062208</td>\n",
       "      <td>-0.037888</td>\n",
       "      <td>-0.004023</td>\n",
       "      <td>-0.028056</td>\n",
       "      <td>0.125252</td>\n",
       "      <td>1.000000</td>\n",
       "    </tr>\n",
       "  </tbody>\n",
       "</table>\n",
       "</div>"
      ],
      "text/plain": [
       "                area  perimeter  red_mean  green_mean  blue_mean        f1  \\\n",
       "area        1.000000   0.824577  0.471649    0.503305   0.479012  0.363909   \n",
       "perimeter   0.824577   1.000000  0.287642    0.288137   0.286239  0.169097   \n",
       "red_mean    0.471649   0.287642  1.000000    0.899051   0.928508  0.294588   \n",
       "green_mean  0.503305   0.288137  0.899051    1.000000   0.970203  0.536696   \n",
       "blue_mean   0.479012   0.286239  0.928508    0.970203   1.000000  0.381586   \n",
       "f1          0.363909   0.169097  0.294588    0.536696   0.381586  1.000000   \n",
       "f2         -0.363909  -0.169097 -0.294588   -0.536696  -0.381586 -1.000000   \n",
       "red_std     0.149639   0.173393  0.785778    0.640536   0.703035  0.109589   \n",
       "green_std   0.062042   0.113367  0.523189    0.637418   0.623755  0.347358   \n",
       "blue_std    0.064123   0.131437  0.584902    0.593648   0.670264  0.126821   \n",
       "f4         -0.046475   0.025322  0.142571    0.065705   0.123286  0.158676   \n",
       "f5          0.121827   0.117289  0.300113    0.217143   0.255196  0.305103   \n",
       "f6         -0.580841  -0.345353 -0.781436   -0.812654  -0.774543 -0.610097   \n",
       "f7         -0.627202  -0.357229 -0.805504   -0.869121  -0.829679 -0.588322   \n",
       "f8          0.150081   0.098435  0.307772    0.416188   0.359167  0.079998   \n",
       "label      -0.029058  -0.042871 -0.082953    0.102004   0.060209  0.269585   \n",
       "\n",
       "                  f2   red_std  green_std  blue_std        f4        f5  \\\n",
       "area       -0.363909  0.149639   0.062042  0.064123 -0.046475  0.121827   \n",
       "perimeter  -0.169097  0.173393   0.113367  0.131437  0.025322  0.117289   \n",
       "red_mean   -0.294588  0.785778   0.523189  0.584902  0.142571  0.300113   \n",
       "green_mean -0.536696  0.640536   0.637418  0.593648  0.065705  0.217143   \n",
       "blue_mean  -0.381586  0.703035   0.623755  0.670264  0.123286  0.255196   \n",
       "f1         -1.000000  0.109589   0.347358  0.126821  0.158676  0.305103   \n",
       "f2          1.000000 -0.109589  -0.347358 -0.126821 -0.158676 -0.305103   \n",
       "red_std    -0.109589  1.000000   0.762024  0.850471  0.471417  0.511169   \n",
       "green_std  -0.347358  0.762024   1.000000  0.914455  0.422662  0.418477   \n",
       "blue_std   -0.126821  0.850471   0.914455  1.000000  0.505125  0.495920   \n",
       "f4         -0.158676  0.471417   0.422662  0.505125  1.000000  0.931144   \n",
       "f5         -0.305103  0.511169   0.418477  0.495920  0.931144  1.000000   \n",
       "f6          0.610097 -0.515769  -0.411932 -0.408692 -0.194868 -0.465240   \n",
       "f7          0.588322 -0.458149  -0.364415 -0.351045 -0.018316 -0.256539   \n",
       "f8         -0.079998  0.114362   0.241802  0.132483 -0.705226 -0.599960   \n",
       "label      -0.269585 -0.106938   0.158796  0.043200 -0.062208 -0.037888   \n",
       "\n",
       "                  f6        f7        f8     label  \n",
       "area       -0.580841 -0.627202  0.150081 -0.029058  \n",
       "perimeter  -0.345353 -0.357229  0.098435 -0.042871  \n",
       "red_mean   -0.781436 -0.805504  0.307772 -0.082953  \n",
       "green_mean -0.812654 -0.869121  0.416188  0.102004  \n",
       "blue_mean  -0.774543 -0.829679  0.359167  0.060209  \n",
       "f1         -0.610097 -0.588322  0.079998  0.269585  \n",
       "f2          0.610097  0.588322 -0.079998 -0.269585  \n",
       "red_std    -0.515769 -0.458149  0.114362 -0.106938  \n",
       "green_std  -0.411932 -0.364415  0.241802  0.158796  \n",
       "blue_std   -0.408692 -0.351045  0.132483  0.043200  \n",
       "f4         -0.194868 -0.018316 -0.705226 -0.062208  \n",
       "f5         -0.465240 -0.256539 -0.599960 -0.037888  \n",
       "f6          1.000000  0.952257 -0.198388 -0.004023  \n",
       "f7          0.952257  1.000000 -0.328802 -0.028056  \n",
       "f8         -0.198388 -0.328802  1.000000  0.125252  \n",
       "label      -0.004023 -0.028056  0.125252  1.000000  "
      ]
     },
     "execution_count": 6,
     "metadata": {},
     "output_type": "execute_result"
    }
   ],
   "source": [
    "raw_data.corr(method ='pearson')"
   ]
  },
  {
   "cell_type": "markdown",
   "metadata": {
    "id": "tykbukJOs9oT"
   },
   "source": [
    "**Insights:**\n",
    "Less correlated features are:\n",
    "- green channel mean\n",
    "- Blue channel mean\n",
    "- green channel std\n",
    "- f4\n",
    "- f5\n",
    "- f6\n",
    "- f7\n",
    "- f8\n",
    "\n",
    "Also f1 and f2 are mutually relative So one of them can be removed"
   ]
  },
  {
   "cell_type": "code",
   "execution_count": 7,
   "metadata": {
    "id": "9C4PKZKLs276"
   },
   "outputs": [],
   "source": [
    "cleaned_data = raw_data.drop(['f1'],axis = 1, inplace=False)"
   ]
  },
  {
   "cell_type": "code",
   "execution_count": 8,
   "metadata": {
    "colab": {
     "base_uri": "https://localhost:8080/",
     "height": 1000
    },
    "id": "5YuECBs9taB2",
    "outputId": "659092be-fad9-4e71-aef0-f4da46785d46"
   },
   "outputs": [
    {
     "data": {
      "text/html": [
       "<div>\n",
       "<style scoped>\n",
       "    .dataframe tbody tr th:only-of-type {\n",
       "        vertical-align: middle;\n",
       "    }\n",
       "\n",
       "    .dataframe tbody tr th {\n",
       "        vertical-align: top;\n",
       "    }\n",
       "\n",
       "    .dataframe thead th {\n",
       "        text-align: right;\n",
       "    }\n",
       "</style>\n",
       "<table border=\"1\" class=\"dataframe\">\n",
       "  <thead>\n",
       "    <tr style=\"text-align: right;\">\n",
       "      <th></th>\n",
       "      <th>area</th>\n",
       "      <th>perimeter</th>\n",
       "      <th>red_mean</th>\n",
       "      <th>green_mean</th>\n",
       "      <th>blue_mean</th>\n",
       "      <th>f2</th>\n",
       "      <th>red_std</th>\n",
       "      <th>green_std</th>\n",
       "      <th>blue_std</th>\n",
       "      <th>f4</th>\n",
       "      <th>f5</th>\n",
       "      <th>f6</th>\n",
       "      <th>f7</th>\n",
       "      <th>f8</th>\n",
       "      <th>label</th>\n",
       "    </tr>\n",
       "  </thead>\n",
       "  <tbody>\n",
       "    <tr>\n",
       "      <th>area</th>\n",
       "      <td>1.000000</td>\n",
       "      <td>0.824577</td>\n",
       "      <td>0.471649</td>\n",
       "      <td>0.503305</td>\n",
       "      <td>0.479012</td>\n",
       "      <td>-0.363909</td>\n",
       "      <td>0.149639</td>\n",
       "      <td>0.062042</td>\n",
       "      <td>0.064123</td>\n",
       "      <td>-0.046475</td>\n",
       "      <td>0.121827</td>\n",
       "      <td>-0.580841</td>\n",
       "      <td>-0.627202</td>\n",
       "      <td>0.150081</td>\n",
       "      <td>-0.029058</td>\n",
       "    </tr>\n",
       "    <tr>\n",
       "      <th>perimeter</th>\n",
       "      <td>0.824577</td>\n",
       "      <td>1.000000</td>\n",
       "      <td>0.287642</td>\n",
       "      <td>0.288137</td>\n",
       "      <td>0.286239</td>\n",
       "      <td>-0.169097</td>\n",
       "      <td>0.173393</td>\n",
       "      <td>0.113367</td>\n",
       "      <td>0.131437</td>\n",
       "      <td>0.025322</td>\n",
       "      <td>0.117289</td>\n",
       "      <td>-0.345353</td>\n",
       "      <td>-0.357229</td>\n",
       "      <td>0.098435</td>\n",
       "      <td>-0.042871</td>\n",
       "    </tr>\n",
       "    <tr>\n",
       "      <th>red_mean</th>\n",
       "      <td>0.471649</td>\n",
       "      <td>0.287642</td>\n",
       "      <td>1.000000</td>\n",
       "      <td>0.899051</td>\n",
       "      <td>0.928508</td>\n",
       "      <td>-0.294588</td>\n",
       "      <td>0.785778</td>\n",
       "      <td>0.523189</td>\n",
       "      <td>0.584902</td>\n",
       "      <td>0.142571</td>\n",
       "      <td>0.300113</td>\n",
       "      <td>-0.781436</td>\n",
       "      <td>-0.805504</td>\n",
       "      <td>0.307772</td>\n",
       "      <td>-0.082953</td>\n",
       "    </tr>\n",
       "    <tr>\n",
       "      <th>green_mean</th>\n",
       "      <td>0.503305</td>\n",
       "      <td>0.288137</td>\n",
       "      <td>0.899051</td>\n",
       "      <td>1.000000</td>\n",
       "      <td>0.970203</td>\n",
       "      <td>-0.536696</td>\n",
       "      <td>0.640536</td>\n",
       "      <td>0.637418</td>\n",
       "      <td>0.593648</td>\n",
       "      <td>0.065705</td>\n",
       "      <td>0.217143</td>\n",
       "      <td>-0.812654</td>\n",
       "      <td>-0.869121</td>\n",
       "      <td>0.416188</td>\n",
       "      <td>0.102004</td>\n",
       "    </tr>\n",
       "    <tr>\n",
       "      <th>blue_mean</th>\n",
       "      <td>0.479012</td>\n",
       "      <td>0.286239</td>\n",
       "      <td>0.928508</td>\n",
       "      <td>0.970203</td>\n",
       "      <td>1.000000</td>\n",
       "      <td>-0.381586</td>\n",
       "      <td>0.703035</td>\n",
       "      <td>0.623755</td>\n",
       "      <td>0.670264</td>\n",
       "      <td>0.123286</td>\n",
       "      <td>0.255196</td>\n",
       "      <td>-0.774543</td>\n",
       "      <td>-0.829679</td>\n",
       "      <td>0.359167</td>\n",
       "      <td>0.060209</td>\n",
       "    </tr>\n",
       "    <tr>\n",
       "      <th>f2</th>\n",
       "      <td>-0.363909</td>\n",
       "      <td>-0.169097</td>\n",
       "      <td>-0.294588</td>\n",
       "      <td>-0.536696</td>\n",
       "      <td>-0.381586</td>\n",
       "      <td>1.000000</td>\n",
       "      <td>-0.109589</td>\n",
       "      <td>-0.347358</td>\n",
       "      <td>-0.126821</td>\n",
       "      <td>-0.158676</td>\n",
       "      <td>-0.305103</td>\n",
       "      <td>0.610097</td>\n",
       "      <td>0.588322</td>\n",
       "      <td>-0.079998</td>\n",
       "      <td>-0.269585</td>\n",
       "    </tr>\n",
       "    <tr>\n",
       "      <th>red_std</th>\n",
       "      <td>0.149639</td>\n",
       "      <td>0.173393</td>\n",
       "      <td>0.785778</td>\n",
       "      <td>0.640536</td>\n",
       "      <td>0.703035</td>\n",
       "      <td>-0.109589</td>\n",
       "      <td>1.000000</td>\n",
       "      <td>0.762024</td>\n",
       "      <td>0.850471</td>\n",
       "      <td>0.471417</td>\n",
       "      <td>0.511169</td>\n",
       "      <td>-0.515769</td>\n",
       "      <td>-0.458149</td>\n",
       "      <td>0.114362</td>\n",
       "      <td>-0.106938</td>\n",
       "    </tr>\n",
       "    <tr>\n",
       "      <th>green_std</th>\n",
       "      <td>0.062042</td>\n",
       "      <td>0.113367</td>\n",
       "      <td>0.523189</td>\n",
       "      <td>0.637418</td>\n",
       "      <td>0.623755</td>\n",
       "      <td>-0.347358</td>\n",
       "      <td>0.762024</td>\n",
       "      <td>1.000000</td>\n",
       "      <td>0.914455</td>\n",
       "      <td>0.422662</td>\n",
       "      <td>0.418477</td>\n",
       "      <td>-0.411932</td>\n",
       "      <td>-0.364415</td>\n",
       "      <td>0.241802</td>\n",
       "      <td>0.158796</td>\n",
       "    </tr>\n",
       "    <tr>\n",
       "      <th>blue_std</th>\n",
       "      <td>0.064123</td>\n",
       "      <td>0.131437</td>\n",
       "      <td>0.584902</td>\n",
       "      <td>0.593648</td>\n",
       "      <td>0.670264</td>\n",
       "      <td>-0.126821</td>\n",
       "      <td>0.850471</td>\n",
       "      <td>0.914455</td>\n",
       "      <td>1.000000</td>\n",
       "      <td>0.505125</td>\n",
       "      <td>0.495920</td>\n",
       "      <td>-0.408692</td>\n",
       "      <td>-0.351045</td>\n",
       "      <td>0.132483</td>\n",
       "      <td>0.043200</td>\n",
       "    </tr>\n",
       "    <tr>\n",
       "      <th>f4</th>\n",
       "      <td>-0.046475</td>\n",
       "      <td>0.025322</td>\n",
       "      <td>0.142571</td>\n",
       "      <td>0.065705</td>\n",
       "      <td>0.123286</td>\n",
       "      <td>-0.158676</td>\n",
       "      <td>0.471417</td>\n",
       "      <td>0.422662</td>\n",
       "      <td>0.505125</td>\n",
       "      <td>1.000000</td>\n",
       "      <td>0.931144</td>\n",
       "      <td>-0.194868</td>\n",
       "      <td>-0.018316</td>\n",
       "      <td>-0.705226</td>\n",
       "      <td>-0.062208</td>\n",
       "    </tr>\n",
       "    <tr>\n",
       "      <th>f5</th>\n",
       "      <td>0.121827</td>\n",
       "      <td>0.117289</td>\n",
       "      <td>0.300113</td>\n",
       "      <td>0.217143</td>\n",
       "      <td>0.255196</td>\n",
       "      <td>-0.305103</td>\n",
       "      <td>0.511169</td>\n",
       "      <td>0.418477</td>\n",
       "      <td>0.495920</td>\n",
       "      <td>0.931144</td>\n",
       "      <td>1.000000</td>\n",
       "      <td>-0.465240</td>\n",
       "      <td>-0.256539</td>\n",
       "      <td>-0.599960</td>\n",
       "      <td>-0.037888</td>\n",
       "    </tr>\n",
       "    <tr>\n",
       "      <th>f6</th>\n",
       "      <td>-0.580841</td>\n",
       "      <td>-0.345353</td>\n",
       "      <td>-0.781436</td>\n",
       "      <td>-0.812654</td>\n",
       "      <td>-0.774543</td>\n",
       "      <td>0.610097</td>\n",
       "      <td>-0.515769</td>\n",
       "      <td>-0.411932</td>\n",
       "      <td>-0.408692</td>\n",
       "      <td>-0.194868</td>\n",
       "      <td>-0.465240</td>\n",
       "      <td>1.000000</td>\n",
       "      <td>0.952257</td>\n",
       "      <td>-0.198388</td>\n",
       "      <td>-0.004023</td>\n",
       "    </tr>\n",
       "    <tr>\n",
       "      <th>f7</th>\n",
       "      <td>-0.627202</td>\n",
       "      <td>-0.357229</td>\n",
       "      <td>-0.805504</td>\n",
       "      <td>-0.869121</td>\n",
       "      <td>-0.829679</td>\n",
       "      <td>0.588322</td>\n",
       "      <td>-0.458149</td>\n",
       "      <td>-0.364415</td>\n",
       "      <td>-0.351045</td>\n",
       "      <td>-0.018316</td>\n",
       "      <td>-0.256539</td>\n",
       "      <td>0.952257</td>\n",
       "      <td>1.000000</td>\n",
       "      <td>-0.328802</td>\n",
       "      <td>-0.028056</td>\n",
       "    </tr>\n",
       "    <tr>\n",
       "      <th>f8</th>\n",
       "      <td>0.150081</td>\n",
       "      <td>0.098435</td>\n",
       "      <td>0.307772</td>\n",
       "      <td>0.416188</td>\n",
       "      <td>0.359167</td>\n",
       "      <td>-0.079998</td>\n",
       "      <td>0.114362</td>\n",
       "      <td>0.241802</td>\n",
       "      <td>0.132483</td>\n",
       "      <td>-0.705226</td>\n",
       "      <td>-0.599960</td>\n",
       "      <td>-0.198388</td>\n",
       "      <td>-0.328802</td>\n",
       "      <td>1.000000</td>\n",
       "      <td>0.125252</td>\n",
       "    </tr>\n",
       "    <tr>\n",
       "      <th>label</th>\n",
       "      <td>-0.029058</td>\n",
       "      <td>-0.042871</td>\n",
       "      <td>-0.082953</td>\n",
       "      <td>0.102004</td>\n",
       "      <td>0.060209</td>\n",
       "      <td>-0.269585</td>\n",
       "      <td>-0.106938</td>\n",
       "      <td>0.158796</td>\n",
       "      <td>0.043200</td>\n",
       "      <td>-0.062208</td>\n",
       "      <td>-0.037888</td>\n",
       "      <td>-0.004023</td>\n",
       "      <td>-0.028056</td>\n",
       "      <td>0.125252</td>\n",
       "      <td>1.000000</td>\n",
       "    </tr>\n",
       "  </tbody>\n",
       "</table>\n",
       "</div>"
      ],
      "text/plain": [
       "                area  perimeter  red_mean  green_mean  blue_mean        f2  \\\n",
       "area        1.000000   0.824577  0.471649    0.503305   0.479012 -0.363909   \n",
       "perimeter   0.824577   1.000000  0.287642    0.288137   0.286239 -0.169097   \n",
       "red_mean    0.471649   0.287642  1.000000    0.899051   0.928508 -0.294588   \n",
       "green_mean  0.503305   0.288137  0.899051    1.000000   0.970203 -0.536696   \n",
       "blue_mean   0.479012   0.286239  0.928508    0.970203   1.000000 -0.381586   \n",
       "f2         -0.363909  -0.169097 -0.294588   -0.536696  -0.381586  1.000000   \n",
       "red_std     0.149639   0.173393  0.785778    0.640536   0.703035 -0.109589   \n",
       "green_std   0.062042   0.113367  0.523189    0.637418   0.623755 -0.347358   \n",
       "blue_std    0.064123   0.131437  0.584902    0.593648   0.670264 -0.126821   \n",
       "f4         -0.046475   0.025322  0.142571    0.065705   0.123286 -0.158676   \n",
       "f5          0.121827   0.117289  0.300113    0.217143   0.255196 -0.305103   \n",
       "f6         -0.580841  -0.345353 -0.781436   -0.812654  -0.774543  0.610097   \n",
       "f7         -0.627202  -0.357229 -0.805504   -0.869121  -0.829679  0.588322   \n",
       "f8          0.150081   0.098435  0.307772    0.416188   0.359167 -0.079998   \n",
       "label      -0.029058  -0.042871 -0.082953    0.102004   0.060209 -0.269585   \n",
       "\n",
       "             red_std  green_std  blue_std        f4        f5        f6  \\\n",
       "area        0.149639   0.062042  0.064123 -0.046475  0.121827 -0.580841   \n",
       "perimeter   0.173393   0.113367  0.131437  0.025322  0.117289 -0.345353   \n",
       "red_mean    0.785778   0.523189  0.584902  0.142571  0.300113 -0.781436   \n",
       "green_mean  0.640536   0.637418  0.593648  0.065705  0.217143 -0.812654   \n",
       "blue_mean   0.703035   0.623755  0.670264  0.123286  0.255196 -0.774543   \n",
       "f2         -0.109589  -0.347358 -0.126821 -0.158676 -0.305103  0.610097   \n",
       "red_std     1.000000   0.762024  0.850471  0.471417  0.511169 -0.515769   \n",
       "green_std   0.762024   1.000000  0.914455  0.422662  0.418477 -0.411932   \n",
       "blue_std    0.850471   0.914455  1.000000  0.505125  0.495920 -0.408692   \n",
       "f4          0.471417   0.422662  0.505125  1.000000  0.931144 -0.194868   \n",
       "f5          0.511169   0.418477  0.495920  0.931144  1.000000 -0.465240   \n",
       "f6         -0.515769  -0.411932 -0.408692 -0.194868 -0.465240  1.000000   \n",
       "f7         -0.458149  -0.364415 -0.351045 -0.018316 -0.256539  0.952257   \n",
       "f8          0.114362   0.241802  0.132483 -0.705226 -0.599960 -0.198388   \n",
       "label      -0.106938   0.158796  0.043200 -0.062208 -0.037888 -0.004023   \n",
       "\n",
       "                  f7        f8     label  \n",
       "area       -0.627202  0.150081 -0.029058  \n",
       "perimeter  -0.357229  0.098435 -0.042871  \n",
       "red_mean   -0.805504  0.307772 -0.082953  \n",
       "green_mean -0.869121  0.416188  0.102004  \n",
       "blue_mean  -0.829679  0.359167  0.060209  \n",
       "f2          0.588322 -0.079998 -0.269585  \n",
       "red_std    -0.458149  0.114362 -0.106938  \n",
       "green_std  -0.364415  0.241802  0.158796  \n",
       "blue_std   -0.351045  0.132483  0.043200  \n",
       "f4         -0.018316 -0.705226 -0.062208  \n",
       "f5         -0.256539 -0.599960 -0.037888  \n",
       "f6          0.952257 -0.198388 -0.004023  \n",
       "f7          1.000000 -0.328802 -0.028056  \n",
       "f8         -0.328802  1.000000  0.125252  \n",
       "label      -0.028056  0.125252  1.000000  "
      ]
     },
     "execution_count": 8,
     "metadata": {},
     "output_type": "execute_result"
    }
   ],
   "source": [
    "cleaned_data.corr(method ='pearson')"
   ]
  },
  {
   "cell_type": "code",
   "execution_count": 9,
   "metadata": {
    "id": "nHFTe4TItiFJ"
   },
   "outputs": [],
   "source": [
    "cleaned_data = cleaned_data.dropna()"
   ]
  },
  {
   "cell_type": "code",
   "execution_count": 10,
   "metadata": {
    "colab": {
     "base_uri": "https://localhost:8080/"
    },
    "id": "1ns2yXu9uXnE",
    "outputId": "81b3083c-7b65-4923-ebe8-674259d14aa4"
   },
   "outputs": [
    {
     "data": {
      "text/plain": [
       "(18720, 16)"
      ]
     },
     "execution_count": 10,
     "metadata": {},
     "output_type": "execute_result"
    }
   ],
   "source": [
    "raw_data.shape"
   ]
  },
  {
   "cell_type": "code",
   "execution_count": 11,
   "metadata": {
    "colab": {
     "base_uri": "https://localhost:8080/"
    },
    "id": "X2iVldJpuZb5",
    "outputId": "44927c0c-ca20-4995-f579-8f113ea7d2f3"
   },
   "outputs": [
    {
     "data": {
      "text/plain": [
       "(18720, 15)"
      ]
     },
     "execution_count": 11,
     "metadata": {},
     "output_type": "execute_result"
    }
   ],
   "source": [
    "cleaned_data.shape"
   ]
  },
  {
   "cell_type": "code",
   "execution_count": 12,
   "metadata": {
    "id": "q1UEsRsTubX5"
   },
   "outputs": [],
   "source": [
    "from sklearn.model_selection import train_test_split\n",
    "from sklearn.metrics import accuracy_score\n",
    "from sklearn.preprocessing import StandardScaler\n",
    "from sklearn.decomposition import PCA\n",
    "from sklearn.svm import SVC\n",
    "from sklearn.metrics import roc_curve, auc\n",
    "from sklearn.model_selection import KFold \n"
   ]
  },
  {
   "cell_type": "code",
   "execution_count": 13,
   "metadata": {
    "id": "ZJg6iy3Mu72T"
   },
   "outputs": [],
   "source": [
    "df = cleaned_data.reset_index()"
   ]
  },
  {
   "cell_type": "code",
   "execution_count": 14,
   "metadata": {
    "colab": {
     "base_uri": "https://localhost:8080/"
    },
    "id": "3DvMWo8rvPW6",
    "outputId": "72d93ebe-2fbe-47b6-903a-ae58e46569e7"
   },
   "outputs": [
    {
     "name": "stdout",
     "output_type": "stream",
     "text": [
      "(18720, 14)\n",
      "(18720,)\n"
     ]
    }
   ],
   "source": [
    "X = df.drop(['index','label'],axis = 1, inplace=False)\n",
    "y = df['label']\n",
    "print(X.shape)\n",
    "print(y.shape)"
   ]
  },
  {
   "cell_type": "code",
   "execution_count": 15,
   "metadata": {
    "colab": {
     "base_uri": "https://localhost:8080/"
    },
    "id": "j723Yu4Xvx_r",
    "outputId": "7d68696b-7a50-4d90-a12e-c3e326ba15d6"
   },
   "outputs": [
    {
     "name": "stdout",
     "output_type": "stream",
     "text": [
      "Score of each fold - [0.7155448717948718, 0.7174145299145299, 0.7069978632478633, 0.7115384615384616, 0.7118055555555556]\n",
      "Avg Score : 0.7126602564102564\n"
     ]
    }
   ],
   "source": [
    "k = 5\n",
    "kf = KFold(n_splits=k, random_state=9, shuffle = True)\n",
    "from sklearn.ensemble import RandomForestClassifier\n",
    "model = RandomForestClassifier(random_state = 50,n_estimators = 50,max_samples = 0.7)\n",
    " \n",
    "acc_score = []\n",
    "\n",
    "for train_index , test_index in kf.split(X):\n",
    "    X_train , X_test = X.iloc[train_index,:],X.iloc[test_index,:]\n",
    "    y_train , y_test = y[train_index] , y[test_index]\n",
    "    model = RandomForestClassifier(random_state = 50,n_estimators = 50,max_samples = 0.7)\n",
    "    model.fit(X_train,y_train)\n",
    "    pred_values = model.predict(X_test)            # classification\n",
    "    acc = accuracy_score(pred_values , y_test)     # Classification\n",
    "\n",
    "    #acc = model.score(X_test,y_test)                # Regression\n",
    "    \n",
    "    acc_score.append(acc)\n",
    "     \n",
    "avg_acc_score = sum(acc_score)/k\n",
    " \n",
    "print('Score of each fold - {}'.format(acc_score))\n",
    "print('Avg Score : {}'.format(avg_acc_score))"
   ]
  },
  {
   "cell_type": "markdown",
   "metadata": {
    "id": "jShjKvkbwtys"
   },
   "source": [
    "# **K- fold Cross validation accuracy:**\n",
    "# **0.7126602564102564**"
   ]
  },
  {
   "cell_type": "markdown",
   "metadata": {
    "id": "MalrrV30xqn8"
   },
   "source": [
    "# ROC Curve"
   ]
  },
  {
   "cell_type": "code",
   "execution_count": 16,
   "metadata": {
    "colab": {
     "base_uri": "https://localhost:8080/",
     "height": 349
    },
    "id": "U_6DxxVXwmJP",
    "outputId": "a133289a-c71b-4af2-8e04-d36b24d2fc40"
   },
   "outputs": [
    {
     "data": {
      "image/png": "[encoded data removed]",
      "text/plain": [
       "<Figure size 432x288 with 1 Axes>"
      ]
     },
     "metadata": {
      "needs_background": "light"
     },
     "output_type": "display_data"
    }
   ],
   "source": [
    "import scikitplot as skplt\n",
    "import matplotlib.pyplot as plt\n",
    "\n",
    "y_true = y_test\n",
    "y_probas = model.predict_proba(X_test)\n",
    "skplt.metrics.plot_roc(y_true, y_probas)\n",
    "\n",
    "plt.show()"
   ]
  },
  {
   "cell_type": "code",
   "execution_count": 17,
   "metadata": {
    "colab": {
     "base_uri": "https://localhost:8080/",
     "height": 296
    },
    "id": "qw0YcxFQx3Mc",
    "outputId": "c83fbdcf-a67a-404f-e8dc-9c8473490392"
   },
   "outputs": [
    {
     "data": {
      "text/plain": [
       "<sklearn.metrics._plot.confusion_matrix.ConfusionMatrixDisplay at 0x7fdc7f422588>"
      ]
     },
     "execution_count": 17,
     "metadata": {},
     "output_type": "execute_result"
    },
    {
     "data": {
      "image/png": "[encoded data removed]",
      "text/plain": [
       "<Figure size 432x288 with 2 Axes>"
      ]
     },
     "metadata": {
      "needs_background": "light"
     },
     "output_type": "display_data"
    }
   ],
   "source": [
    "from sklearn.metrics import plot_confusion_matrix\n",
    "y_pred = model.predict(X_test)\n",
    "plot_confusion_matrix(model, X_test, y_test, values_format = 'd',cmap = 'Blues',display_labels = ['0','1','2','3','4','5','6','7','8','9'])"
   ]
  },
  {
   "cell_type": "code",
   "execution_count": 18,
   "metadata": {
    "colab": {
     "base_uri": "https://localhost:8080/"
    },
    "id": "Gref__vNyWqm",
    "outputId": "ba198a46-5398-482a-a509-72776333aa9d"
   },
   "outputs": [
    {
     "name": "stdout",
     "output_type": "stream",
     "text": [
      "              precision    recall  f1-score   support\n",
      "\n",
      "           0       0.81      0.84      0.82       317\n",
      "           1       0.73      0.78      0.75       404\n",
      "           2       0.57      0.25      0.35       218\n",
      "           3       0.63      0.62      0.63       361\n",
      "           4       0.59      0.49      0.53       206\n",
      "           5       0.63      0.54      0.58       352\n",
      "           6       0.53      0.64      0.58       311\n",
      "           7       0.62      0.64      0.63       281\n",
      "           8       0.81      0.91      0.86      1085\n",
      "           9       0.83      0.69      0.76       209\n",
      "\n",
      "    accuracy                           0.71      3744\n",
      "   macro avg       0.68      0.64      0.65      3744\n",
      "weighted avg       0.70      0.71      0.70      3744\n",
      "\n"
     ]
    }
   ],
   "source": [
    "from sklearn.metrics import classification_report\n",
    "\n",
    "print(classification_report(y_test, y_pred, [i for i in range(0,10)]))"
   ]
  },
  {
   "cell_type": "markdown",
   "metadata": {
    "id": "XEl3_kcUzXyY"
   },
   "source": [
    "# Deployment"
   ]
  },
  {
   "cell_type": "code",
   "execution_count": 19,
   "metadata": {
    "colab": {
     "base_uri": "https://localhost:8080/"
    },
    "id": "HY3YfG2py-Jf",
    "outputId": "1ae76c7e-aea2-4ecf-9da4-2c14477c7009"
   },
   "outputs": [
    {
     "name": "stdout",
     "output_type": "stream",
     "text": [
      "Training Score:  0.9954059829059829\n"
     ]
    }
   ],
   "source": [
    "from sklearn.ensemble import RandomForestClassifier\n",
    "lm = RandomForestClassifier(random_state = 50,n_estimators = 50,max_samples = 0.7)\n",
    "lm.fit(X,y)\n",
    "print('Training Score: ',lm.score(X,y))"
   ]
  },
  {
   "cell_type": "code",
   "execution_count": 20,
   "metadata": {
    "colab": {
     "base_uri": "https://localhost:8080/"
    },
    "id": "LlyCB8PCy1qh",
    "outputId": "2cc193e3-7c9e-451e-ab77-0df761e46954"
   },
   "outputs": [
    {
     "data": {
      "text/plain": [
       "array([0.06380439, 0.05286923, 0.08136699, 0.05782457, 0.05643928,\n",
       "       0.08481563, 0.09991589, 0.07278897, 0.06291195, 0.08484059,\n",
       "       0.07913344, 0.0541113 , 0.05495643, 0.09422134])"
      ]
     },
     "execution_count": 20,
     "metadata": {},
     "output_type": "execute_result"
    }
   ],
   "source": [
    "lm.feature_importances_"
   ]
  },
  {
   "cell_type": "markdown",
   "metadata": {
    "id": "WyNxpJvA0ycq"
   },
   "source": [
    "# Selected Features"
   ]
  },
  {
   "cell_type": "code",
   "execution_count": 21,
   "metadata": {
    "colab": {
     "base_uri": "https://localhost:8080/"
    },
    "id": "bb17TIJPz5jJ",
    "outputId": "a4d12a70-dffc-46c9-9374-c36c142227d2"
   },
   "outputs": [
    {
     "data": {
      "text/plain": [
       "Index(['area', 'perimeter', 'red_mean', 'green_mean', 'blue_mean', 'f2',\n",
       "       'red_std', 'green_std', 'blue_std', 'f4', 'f5', 'f6', 'f7', 'f8'],\n",
       "      dtype='object')"
      ]
     },
     "execution_count": 21,
     "metadata": {},
     "output_type": "execute_result"
    }
   ],
   "source": [
    "X.columns"
   ]
  }
 ],
 "metadata": {
  "colab": {
   "name": "Apple_DA_and_MD.ipynb",
   "provenance": []
  },
  "kernelspec": {
   "display_name": "plant_env",
   "language": "python",
   "name": "plant_env"
  },
  "language_info": {
   "codemirror_mode": {
    "name": "ipython",
    "version": 3
   },
   "file_extension": ".py",
   "mimetype": "text/x-python",
   "name": "python",
   "nbconvert_exporter": "python",
   "pygments_lexer": "ipython3",
   "version": "3.6.9"
  }
 },
 "nbformat": 4,
 "nbformat_minor": 1
}
