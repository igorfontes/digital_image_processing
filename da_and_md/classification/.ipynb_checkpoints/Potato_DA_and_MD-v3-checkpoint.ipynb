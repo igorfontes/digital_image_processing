{
 "cells": [
  {
   "cell_type": "code",
   "execution_count": 2,
   "metadata": {
    "id": "8Cg54vyTot1W"
   },
   "outputs": [],
   "source": [
    "import pandas as pd\n",
    "import matplotlib.pyplot as plt\n",
    "import numpy as np\n",
    "import seaborn as sns\n",
    "import warnings\n",
    "warnings.filterwarnings('ignore')"
   ]
  },
  {
   "cell_type": "code",
   "execution_count": 3,
   "metadata": {
    "id": "4-v_yHgEowG5"
   },
   "outputs": [],
   "source": [
    "#!pip install openpyxl\n",
    "raw_data = pd.read_excel('../../potato_dataset_v2.xlsx', engine='openpyxl')"
   ]
  },
  {
   "cell_type": "code",
   "execution_count": 4,
   "metadata": {
    "colab": {
     "base_uri": "https://localhost:8080/"
    },
    "id": "d-UxkVS-sCVa",
    "outputId": "6a77717b-e608-4356-e740-910a8cec0159"
   },
   "outputs": [
    {
     "data": {
      "text/plain": [
       "Unnamed: 0      int64\n",
       "area          float64\n",
       "perimeter     float64\n",
       "red_mean      float64\n",
       "green_mean    float64\n",
       "blue_mean     float64\n",
       "f1            float64\n",
       "f2            float64\n",
       "red_std       float64\n",
       "green_std     float64\n",
       "blue_std      float64\n",
       "f4            float64\n",
       "f5            float64\n",
       "f6            float64\n",
       "f7            float64\n",
       "f8            float64\n",
       "label           int64\n",
       "dtype: object"
      ]
     },
     "execution_count": 4,
     "metadata": {},
     "output_type": "execute_result"
    }
   ],
   "source": [
    "raw_data.dtypes"
   ]
  },
  {
   "cell_type": "code",
   "execution_count": 5,
   "metadata": {
    "id": "6rODIXAEsIiK"
   },
   "outputs": [],
   "source": [
    "raw_data.drop(['Unnamed: 0'],axis = 1, inplace=True)"
   ]
  },
  {
   "cell_type": "code",
   "execution_count": 6,
   "metadata": {
    "colab": {
     "base_uri": "https://localhost:8080/"
    },
    "id": "f3T6y1gVsT2p",
    "outputId": "ab01a558-d67c-4f56-92d5-52ca32f22a78"
   },
   "outputs": [
    {
     "data": {
      "text/plain": [
       "Index(['area', 'perimeter', 'red_mean', 'green_mean', 'blue_mean', 'f1', 'f2',\n",
       "       'red_std', 'green_std', 'blue_std', 'f4', 'f5', 'f6', 'f7', 'f8',\n",
       "       'label'],\n",
       "      dtype='object')"
      ]
     },
     "execution_count": 6,
     "metadata": {},
     "output_type": "execute_result"
    }
   ],
   "source": [
    "raw_data.columns"
   ]
  },
  {
   "cell_type": "code",
   "execution_count": 7,
   "metadata": {
    "colab": {
     "base_uri": "https://localhost:8080/",
     "height": 1000
    },
    "id": "48HQEVsXsWFp",
    "outputId": "69917675-7ac8-48a3-9a77-5f93eeecf880"
   },
   "outputs": [
    {
     "data": {
      "text/html": [
       "<div>\n",
       "<style scoped>\n",
       "    .dataframe tbody tr th:only-of-type {\n",
       "        vertical-align: middle;\n",
       "    }\n",
       "\n",
       "    .dataframe tbody tr th {\n",
       "        vertical-align: top;\n",
       "    }\n",
       "\n",
       "    .dataframe thead th {\n",
       "        text-align: right;\n",
       "    }\n",
       "</style>\n",
       "<table border=\"1\" class=\"dataframe\">\n",
       "  <thead>\n",
       "    <tr style=\"text-align: right;\">\n",
       "      <th></th>\n",
       "      <th>area</th>\n",
       "      <th>perimeter</th>\n",
       "      <th>red_mean</th>\n",
       "      <th>green_mean</th>\n",
       "      <th>blue_mean</th>\n",
       "      <th>f1</th>\n",
       "      <th>f2</th>\n",
       "      <th>red_std</th>\n",
       "      <th>green_std</th>\n",
       "      <th>blue_std</th>\n",
       "      <th>f4</th>\n",
       "      <th>f5</th>\n",
       "      <th>f6</th>\n",
       "      <th>f7</th>\n",
       "      <th>f8</th>\n",
       "      <th>label</th>\n",
       "    </tr>\n",
       "  </thead>\n",
       "  <tbody>\n",
       "    <tr>\n",
       "      <th>area</th>\n",
       "      <td>1.000000</td>\n",
       "      <td>0.830298</td>\n",
       "      <td>0.666677</td>\n",
       "      <td>0.630587</td>\n",
       "      <td>0.667929</td>\n",
       "      <td>0.482914</td>\n",
       "      <td>-0.482914</td>\n",
       "      <td>0.524645</td>\n",
       "      <td>0.430936</td>\n",
       "      <td>0.384001</td>\n",
       "      <td>0.247089</td>\n",
       "      <td>0.435634</td>\n",
       "      <td>-0.673867</td>\n",
       "      <td>-0.692395</td>\n",
       "      <td>0.171071</td>\n",
       "      <td>0.118392</td>\n",
       "    </tr>\n",
       "    <tr>\n",
       "      <th>perimeter</th>\n",
       "      <td>0.830298</td>\n",
       "      <td>1.000000</td>\n",
       "      <td>0.429612</td>\n",
       "      <td>0.412819</td>\n",
       "      <td>0.444318</td>\n",
       "      <td>0.308313</td>\n",
       "      <td>-0.308313</td>\n",
       "      <td>0.390377</td>\n",
       "      <td>0.350861</td>\n",
       "      <td>0.324933</td>\n",
       "      <td>0.208654</td>\n",
       "      <td>0.314821</td>\n",
       "      <td>-0.449236</td>\n",
       "      <td>-0.459694</td>\n",
       "      <td>0.135884</td>\n",
       "      <td>0.084653</td>\n",
       "    </tr>\n",
       "    <tr>\n",
       "      <th>red_mean</th>\n",
       "      <td>0.666677</td>\n",
       "      <td>0.429612</td>\n",
       "      <td>1.000000</td>\n",
       "      <td>0.967429</td>\n",
       "      <td>0.967783</td>\n",
       "      <td>0.768929</td>\n",
       "      <td>-0.768929</td>\n",
       "      <td>0.825979</td>\n",
       "      <td>0.705692</td>\n",
       "      <td>0.581358</td>\n",
       "      <td>0.555166</td>\n",
       "      <td>0.749463</td>\n",
       "      <td>-0.926677</td>\n",
       "      <td>-0.926772</td>\n",
       "      <td>0.037585</td>\n",
       "      <td>-0.212421</td>\n",
       "    </tr>\n",
       "    <tr>\n",
       "      <th>green_mean</th>\n",
       "      <td>0.630587</td>\n",
       "      <td>0.412819</td>\n",
       "      <td>0.967429</td>\n",
       "      <td>1.000000</td>\n",
       "      <td>0.964284</td>\n",
       "      <td>0.855135</td>\n",
       "      <td>-0.855135</td>\n",
       "      <td>0.790545</td>\n",
       "      <td>0.753100</td>\n",
       "      <td>0.578620</td>\n",
       "      <td>0.629160</td>\n",
       "      <td>0.819535</td>\n",
       "      <td>-0.956409</td>\n",
       "      <td>-0.947740</td>\n",
       "      <td>-0.033166</td>\n",
       "      <td>-0.341990</td>\n",
       "    </tr>\n",
       "    <tr>\n",
       "      <th>blue_mean</th>\n",
       "      <td>0.667929</td>\n",
       "      <td>0.444318</td>\n",
       "      <td>0.967783</td>\n",
       "      <td>0.964284</td>\n",
       "      <td>1.000000</td>\n",
       "      <td>0.709165</td>\n",
       "      <td>-0.709165</td>\n",
       "      <td>0.843450</td>\n",
       "      <td>0.771012</td>\n",
       "      <td>0.702739</td>\n",
       "      <td>0.596378</td>\n",
       "      <td>0.770806</td>\n",
       "      <td>-0.922729</td>\n",
       "      <td>-0.919217</td>\n",
       "      <td>0.061148</td>\n",
       "      <td>-0.188117</td>\n",
       "    </tr>\n",
       "    <tr>\n",
       "      <th>f1</th>\n",
       "      <td>0.482914</td>\n",
       "      <td>0.308313</td>\n",
       "      <td>0.768929</td>\n",
       "      <td>0.855135</td>\n",
       "      <td>0.709165</td>\n",
       "      <td>1.000000</td>\n",
       "      <td>-1.000000</td>\n",
       "      <td>0.519920</td>\n",
       "      <td>0.537829</td>\n",
       "      <td>0.221565</td>\n",
       "      <td>0.595765</td>\n",
       "      <td>0.791908</td>\n",
       "      <td>-0.870790</td>\n",
       "      <td>-0.855326</td>\n",
       "      <td>-0.262579</td>\n",
       "      <td>-0.504241</td>\n",
       "    </tr>\n",
       "    <tr>\n",
       "      <th>f2</th>\n",
       "      <td>-0.482914</td>\n",
       "      <td>-0.308313</td>\n",
       "      <td>-0.768929</td>\n",
       "      <td>-0.855135</td>\n",
       "      <td>-0.709165</td>\n",
       "      <td>-1.000000</td>\n",
       "      <td>1.000000</td>\n",
       "      <td>-0.519920</td>\n",
       "      <td>-0.537829</td>\n",
       "      <td>-0.221565</td>\n",
       "      <td>-0.595765</td>\n",
       "      <td>-0.791908</td>\n",
       "      <td>0.870790</td>\n",
       "      <td>0.855326</td>\n",
       "      <td>0.262579</td>\n",
       "      <td>0.504241</td>\n",
       "    </tr>\n",
       "    <tr>\n",
       "      <th>red_std</th>\n",
       "      <td>0.524645</td>\n",
       "      <td>0.390377</td>\n",
       "      <td>0.825979</td>\n",
       "      <td>0.790545</td>\n",
       "      <td>0.843450</td>\n",
       "      <td>0.519920</td>\n",
       "      <td>-0.519920</td>\n",
       "      <td>1.000000</td>\n",
       "      <td>0.917044</td>\n",
       "      <td>0.874205</td>\n",
       "      <td>0.659471</td>\n",
       "      <td>0.713070</td>\n",
       "      <td>-0.727697</td>\n",
       "      <td>-0.707263</td>\n",
       "      <td>0.154396</td>\n",
       "      <td>-0.174569</td>\n",
       "    </tr>\n",
       "    <tr>\n",
       "      <th>green_std</th>\n",
       "      <td>0.430936</td>\n",
       "      <td>0.350861</td>\n",
       "      <td>0.705692</td>\n",
       "      <td>0.753100</td>\n",
       "      <td>0.771012</td>\n",
       "      <td>0.537829</td>\n",
       "      <td>-0.537829</td>\n",
       "      <td>0.917044</td>\n",
       "      <td>1.000000</td>\n",
       "      <td>0.895356</td>\n",
       "      <td>0.678630</td>\n",
       "      <td>0.707440</td>\n",
       "      <td>-0.669818</td>\n",
       "      <td>-0.637439</td>\n",
       "      <td>0.178847</td>\n",
       "      <td>-0.280277</td>\n",
       "    </tr>\n",
       "    <tr>\n",
       "      <th>blue_std</th>\n",
       "      <td>0.384001</td>\n",
       "      <td>0.324933</td>\n",
       "      <td>0.581358</td>\n",
       "      <td>0.578620</td>\n",
       "      <td>0.702739</td>\n",
       "      <td>0.221565</td>\n",
       "      <td>-0.221565</td>\n",
       "      <td>0.874205</td>\n",
       "      <td>0.895356</td>\n",
       "      <td>1.000000</td>\n",
       "      <td>0.599036</td>\n",
       "      <td>0.570873</td>\n",
       "      <td>-0.508714</td>\n",
       "      <td>-0.482595</td>\n",
       "      <td>0.231027</td>\n",
       "      <td>-0.051488</td>\n",
       "    </tr>\n",
       "    <tr>\n",
       "      <th>f4</th>\n",
       "      <td>0.247089</td>\n",
       "      <td>0.208654</td>\n",
       "      <td>0.555166</td>\n",
       "      <td>0.629160</td>\n",
       "      <td>0.596378</td>\n",
       "      <td>0.595765</td>\n",
       "      <td>-0.595765</td>\n",
       "      <td>0.659471</td>\n",
       "      <td>0.678630</td>\n",
       "      <td>0.599036</td>\n",
       "      <td>1.000000</td>\n",
       "      <td>0.937144</td>\n",
       "      <td>-0.622573</td>\n",
       "      <td>-0.569994</td>\n",
       "      <td>-0.564621</td>\n",
       "      <td>-0.586208</td>\n",
       "    </tr>\n",
       "    <tr>\n",
       "      <th>f5</th>\n",
       "      <td>0.435634</td>\n",
       "      <td>0.314821</td>\n",
       "      <td>0.749463</td>\n",
       "      <td>0.819535</td>\n",
       "      <td>0.770806</td>\n",
       "      <td>0.791908</td>\n",
       "      <td>-0.791908</td>\n",
       "      <td>0.713070</td>\n",
       "      <td>0.707440</td>\n",
       "      <td>0.570873</td>\n",
       "      <td>0.937144</td>\n",
       "      <td>1.000000</td>\n",
       "      <td>-0.841400</td>\n",
       "      <td>-0.800407</td>\n",
       "      <td>-0.462228</td>\n",
       "      <td>-0.532637</td>\n",
       "    </tr>\n",
       "    <tr>\n",
       "      <th>f6</th>\n",
       "      <td>-0.673867</td>\n",
       "      <td>-0.449236</td>\n",
       "      <td>-0.926677</td>\n",
       "      <td>-0.956409</td>\n",
       "      <td>-0.922729</td>\n",
       "      <td>-0.870790</td>\n",
       "      <td>0.870790</td>\n",
       "      <td>-0.727697</td>\n",
       "      <td>-0.669818</td>\n",
       "      <td>-0.508714</td>\n",
       "      <td>-0.622573</td>\n",
       "      <td>-0.841400</td>\n",
       "      <td>1.000000</td>\n",
       "      <td>0.995657</td>\n",
       "      <td>0.094507</td>\n",
       "      <td>0.280287</td>\n",
       "    </tr>\n",
       "    <tr>\n",
       "      <th>f7</th>\n",
       "      <td>-0.692395</td>\n",
       "      <td>-0.459694</td>\n",
       "      <td>-0.926772</td>\n",
       "      <td>-0.947740</td>\n",
       "      <td>-0.919217</td>\n",
       "      <td>-0.855326</td>\n",
       "      <td>0.855326</td>\n",
       "      <td>-0.707263</td>\n",
       "      <td>-0.637439</td>\n",
       "      <td>-0.482595</td>\n",
       "      <td>-0.569994</td>\n",
       "      <td>-0.800407</td>\n",
       "      <td>0.995657</td>\n",
       "      <td>1.000000</td>\n",
       "      <td>0.057792</td>\n",
       "      <td>0.240061</td>\n",
       "    </tr>\n",
       "    <tr>\n",
       "      <th>f8</th>\n",
       "      <td>0.171071</td>\n",
       "      <td>0.135884</td>\n",
       "      <td>0.037585</td>\n",
       "      <td>-0.033166</td>\n",
       "      <td>0.061148</td>\n",
       "      <td>-0.262579</td>\n",
       "      <td>0.262579</td>\n",
       "      <td>0.154396</td>\n",
       "      <td>0.178847</td>\n",
       "      <td>0.231027</td>\n",
       "      <td>-0.564621</td>\n",
       "      <td>-0.462228</td>\n",
       "      <td>0.094507</td>\n",
       "      <td>0.057792</td>\n",
       "      <td>1.000000</td>\n",
       "      <td>0.565009</td>\n",
       "    </tr>\n",
       "    <tr>\n",
       "      <th>label</th>\n",
       "      <td>0.118392</td>\n",
       "      <td>0.084653</td>\n",
       "      <td>-0.212421</td>\n",
       "      <td>-0.341990</td>\n",
       "      <td>-0.188117</td>\n",
       "      <td>-0.504241</td>\n",
       "      <td>0.504241</td>\n",
       "      <td>-0.174569</td>\n",
       "      <td>-0.280277</td>\n",
       "      <td>-0.051488</td>\n",
       "      <td>-0.586208</td>\n",
       "      <td>-0.532637</td>\n",
       "      <td>0.280287</td>\n",
       "      <td>0.240061</td>\n",
       "      <td>0.565009</td>\n",
       "      <td>1.000000</td>\n",
       "    </tr>\n",
       "  </tbody>\n",
       "</table>\n",
       "</div>"
      ],
      "text/plain": [
       "                area  perimeter  red_mean  green_mean  blue_mean        f1  \\\n",
       "area        1.000000   0.830298  0.666677    0.630587   0.667929  0.482914   \n",
       "perimeter   0.830298   1.000000  0.429612    0.412819   0.444318  0.308313   \n",
       "red_mean    0.666677   0.429612  1.000000    0.967429   0.967783  0.768929   \n",
       "green_mean  0.630587   0.412819  0.967429    1.000000   0.964284  0.855135   \n",
       "blue_mean   0.667929   0.444318  0.967783    0.964284   1.000000  0.709165   \n",
       "f1          0.482914   0.308313  0.768929    0.855135   0.709165  1.000000   \n",
       "f2         -0.482914  -0.308313 -0.768929   -0.855135  -0.709165 -1.000000   \n",
       "red_std     0.524645   0.390377  0.825979    0.790545   0.843450  0.519920   \n",
       "green_std   0.430936   0.350861  0.705692    0.753100   0.771012  0.537829   \n",
       "blue_std    0.384001   0.324933  0.581358    0.578620   0.702739  0.221565   \n",
       "f4          0.247089   0.208654  0.555166    0.629160   0.596378  0.595765   \n",
       "f5          0.435634   0.314821  0.749463    0.819535   0.770806  0.791908   \n",
       "f6         -0.673867  -0.449236 -0.926677   -0.956409  -0.922729 -0.870790   \n",
       "f7         -0.692395  -0.459694 -0.926772   -0.947740  -0.919217 -0.855326   \n",
       "f8          0.171071   0.135884  0.037585   -0.033166   0.061148 -0.262579   \n",
       "label       0.118392   0.084653 -0.212421   -0.341990  -0.188117 -0.504241   \n",
       "\n",
       "                  f2   red_std  green_std  blue_std        f4        f5  \\\n",
       "area       -0.482914  0.524645   0.430936  0.384001  0.247089  0.435634   \n",
       "perimeter  -0.308313  0.390377   0.350861  0.324933  0.208654  0.314821   \n",
       "red_mean   -0.768929  0.825979   0.705692  0.581358  0.555166  0.749463   \n",
       "green_mean -0.855135  0.790545   0.753100  0.578620  0.629160  0.819535   \n",
       "blue_mean  -0.709165  0.843450   0.771012  0.702739  0.596378  0.770806   \n",
       "f1         -1.000000  0.519920   0.537829  0.221565  0.595765  0.791908   \n",
       "f2          1.000000 -0.519920  -0.537829 -0.221565 -0.595765 -0.791908   \n",
       "red_std    -0.519920  1.000000   0.917044  0.874205  0.659471  0.713070   \n",
       "green_std  -0.537829  0.917044   1.000000  0.895356  0.678630  0.707440   \n",
       "blue_std   -0.221565  0.874205   0.895356  1.000000  0.599036  0.570873   \n",
       "f4         -0.595765  0.659471   0.678630  0.599036  1.000000  0.937144   \n",
       "f5         -0.791908  0.713070   0.707440  0.570873  0.937144  1.000000   \n",
       "f6          0.870790 -0.727697  -0.669818 -0.508714 -0.622573 -0.841400   \n",
       "f7          0.855326 -0.707263  -0.637439 -0.482595 -0.569994 -0.800407   \n",
       "f8          0.262579  0.154396   0.178847  0.231027 -0.564621 -0.462228   \n",
       "label       0.504241 -0.174569  -0.280277 -0.051488 -0.586208 -0.532637   \n",
       "\n",
       "                  f6        f7        f8     label  \n",
       "area       -0.673867 -0.692395  0.171071  0.118392  \n",
       "perimeter  -0.449236 -0.459694  0.135884  0.084653  \n",
       "red_mean   -0.926677 -0.926772  0.037585 -0.212421  \n",
       "green_mean -0.956409 -0.947740 -0.033166 -0.341990  \n",
       "blue_mean  -0.922729 -0.919217  0.061148 -0.188117  \n",
       "f1         -0.870790 -0.855326 -0.262579 -0.504241  \n",
       "f2          0.870790  0.855326  0.262579  0.504241  \n",
       "red_std    -0.727697 -0.707263  0.154396 -0.174569  \n",
       "green_std  -0.669818 -0.637439  0.178847 -0.280277  \n",
       "blue_std   -0.508714 -0.482595  0.231027 -0.051488  \n",
       "f4         -0.622573 -0.569994 -0.564621 -0.586208  \n",
       "f5         -0.841400 -0.800407 -0.462228 -0.532637  \n",
       "f6          1.000000  0.995657  0.094507  0.280287  \n",
       "f7          0.995657  1.000000  0.057792  0.240061  \n",
       "f8          0.094507  0.057792  1.000000  0.565009  \n",
       "label       0.280287  0.240061  0.565009  1.000000  "
      ]
     },
     "execution_count": 7,
     "metadata": {},
     "output_type": "execute_result"
    }
   ],
   "source": [
    "raw_data.corr(method ='pearson')"
   ]
  },
  {
   "cell_type": "markdown",
   "metadata": {
    "id": "tykbukJOs9oT"
   },
   "source": [
    "**Insights:**\n",
    "Less correlated features are:\n",
    "- Red channel mean\n",
    "- f6\n",
    "\n",
    "Also f1 and f2 are mutually relative So one of them can be removed"
   ]
  },
  {
   "cell_type": "code",
   "execution_count": 8,
   "metadata": {
    "id": "9C4PKZKLs276"
   },
   "outputs": [],
   "source": [
    "cleaned_data = raw_data.drop(['red_mean','f6','f1'],axis = 1, inplace=False)"
   ]
  },
  {
   "cell_type": "code",
   "execution_count": 9,
   "metadata": {
    "colab": {
     "base_uri": "https://localhost:8080/",
     "height": 1000
    },
    "id": "5YuECBs9taB2",
    "outputId": "659092be-fad9-4e71-aef0-f4da46785d46"
   },
   "outputs": [
    {
     "data": {
      "text/html": [
       "<div>\n",
       "<style scoped>\n",
       "    .dataframe tbody tr th:only-of-type {\n",
       "        vertical-align: middle;\n",
       "    }\n",
       "\n",
       "    .dataframe tbody tr th {\n",
       "        vertical-align: top;\n",
       "    }\n",
       "\n",
       "    .dataframe thead th {\n",
       "        text-align: right;\n",
       "    }\n",
       "</style>\n",
       "<table border=\"1\" class=\"dataframe\">\n",
       "  <thead>\n",
       "    <tr style=\"text-align: right;\">\n",
       "      <th></th>\n",
       "      <th>area</th>\n",
       "      <th>perimeter</th>\n",
       "      <th>green_mean</th>\n",
       "      <th>blue_mean</th>\n",
       "      <th>f2</th>\n",
       "      <th>red_std</th>\n",
       "      <th>green_std</th>\n",
       "      <th>blue_std</th>\n",
       "      <th>f4</th>\n",
       "      <th>f5</th>\n",
       "      <th>f7</th>\n",
       "      <th>f8</th>\n",
       "      <th>label</th>\n",
       "    </tr>\n",
       "  </thead>\n",
       "  <tbody>\n",
       "    <tr>\n",
       "      <th>area</th>\n",
       "      <td>1.000000</td>\n",
       "      <td>0.830298</td>\n",
       "      <td>0.630587</td>\n",
       "      <td>0.667929</td>\n",
       "      <td>-0.482914</td>\n",
       "      <td>0.524645</td>\n",
       "      <td>0.430936</td>\n",
       "      <td>0.384001</td>\n",
       "      <td>0.247089</td>\n",
       "      <td>0.435634</td>\n",
       "      <td>-0.692395</td>\n",
       "      <td>0.171071</td>\n",
       "      <td>0.118392</td>\n",
       "    </tr>\n",
       "    <tr>\n",
       "      <th>perimeter</th>\n",
       "      <td>0.830298</td>\n",
       "      <td>1.000000</td>\n",
       "      <td>0.412819</td>\n",
       "      <td>0.444318</td>\n",
       "      <td>-0.308313</td>\n",
       "      <td>0.390377</td>\n",
       "      <td>0.350861</td>\n",
       "      <td>0.324933</td>\n",
       "      <td>0.208654</td>\n",
       "      <td>0.314821</td>\n",
       "      <td>-0.459694</td>\n",
       "      <td>0.135884</td>\n",
       "      <td>0.084653</td>\n",
       "    </tr>\n",
       "    <tr>\n",
       "      <th>green_mean</th>\n",
       "      <td>0.630587</td>\n",
       "      <td>0.412819</td>\n",
       "      <td>1.000000</td>\n",
       "      <td>0.964284</td>\n",
       "      <td>-0.855135</td>\n",
       "      <td>0.790545</td>\n",
       "      <td>0.753100</td>\n",
       "      <td>0.578620</td>\n",
       "      <td>0.629160</td>\n",
       "      <td>0.819535</td>\n",
       "      <td>-0.947740</td>\n",
       "      <td>-0.033166</td>\n",
       "      <td>-0.341990</td>\n",
       "    </tr>\n",
       "    <tr>\n",
       "      <th>blue_mean</th>\n",
       "      <td>0.667929</td>\n",
       "      <td>0.444318</td>\n",
       "      <td>0.964284</td>\n",
       "      <td>1.000000</td>\n",
       "      <td>-0.709165</td>\n",
       "      <td>0.843450</td>\n",
       "      <td>0.771012</td>\n",
       "      <td>0.702739</td>\n",
       "      <td>0.596378</td>\n",
       "      <td>0.770806</td>\n",
       "      <td>-0.919217</td>\n",
       "      <td>0.061148</td>\n",
       "      <td>-0.188117</td>\n",
       "    </tr>\n",
       "    <tr>\n",
       "      <th>f2</th>\n",
       "      <td>-0.482914</td>\n",
       "      <td>-0.308313</td>\n",
       "      <td>-0.855135</td>\n",
       "      <td>-0.709165</td>\n",
       "      <td>1.000000</td>\n",
       "      <td>-0.519920</td>\n",
       "      <td>-0.537829</td>\n",
       "      <td>-0.221565</td>\n",
       "      <td>-0.595765</td>\n",
       "      <td>-0.791908</td>\n",
       "      <td>0.855326</td>\n",
       "      <td>0.262579</td>\n",
       "      <td>0.504241</td>\n",
       "    </tr>\n",
       "    <tr>\n",
       "      <th>red_std</th>\n",
       "      <td>0.524645</td>\n",
       "      <td>0.390377</td>\n",
       "      <td>0.790545</td>\n",
       "      <td>0.843450</td>\n",
       "      <td>-0.519920</td>\n",
       "      <td>1.000000</td>\n",
       "      <td>0.917044</td>\n",
       "      <td>0.874205</td>\n",
       "      <td>0.659471</td>\n",
       "      <td>0.713070</td>\n",
       "      <td>-0.707263</td>\n",
       "      <td>0.154396</td>\n",
       "      <td>-0.174569</td>\n",
       "    </tr>\n",
       "    <tr>\n",
       "      <th>green_std</th>\n",
       "      <td>0.430936</td>\n",
       "      <td>0.350861</td>\n",
       "      <td>0.753100</td>\n",
       "      <td>0.771012</td>\n",
       "      <td>-0.537829</td>\n",
       "      <td>0.917044</td>\n",
       "      <td>1.000000</td>\n",
       "      <td>0.895356</td>\n",
       "      <td>0.678630</td>\n",
       "      <td>0.707440</td>\n",
       "      <td>-0.637439</td>\n",
       "      <td>0.178847</td>\n",
       "      <td>-0.280277</td>\n",
       "    </tr>\n",
       "    <tr>\n",
       "      <th>blue_std</th>\n",
       "      <td>0.384001</td>\n",
       "      <td>0.324933</td>\n",
       "      <td>0.578620</td>\n",
       "      <td>0.702739</td>\n",
       "      <td>-0.221565</td>\n",
       "      <td>0.874205</td>\n",
       "      <td>0.895356</td>\n",
       "      <td>1.000000</td>\n",
       "      <td>0.599036</td>\n",
       "      <td>0.570873</td>\n",
       "      <td>-0.482595</td>\n",
       "      <td>0.231027</td>\n",
       "      <td>-0.051488</td>\n",
       "    </tr>\n",
       "    <tr>\n",
       "      <th>f4</th>\n",
       "      <td>0.247089</td>\n",
       "      <td>0.208654</td>\n",
       "      <td>0.629160</td>\n",
       "      <td>0.596378</td>\n",
       "      <td>-0.595765</td>\n",
       "      <td>0.659471</td>\n",
       "      <td>0.678630</td>\n",
       "      <td>0.599036</td>\n",
       "      <td>1.000000</td>\n",
       "      <td>0.937144</td>\n",
       "      <td>-0.569994</td>\n",
       "      <td>-0.564621</td>\n",
       "      <td>-0.586208</td>\n",
       "    </tr>\n",
       "    <tr>\n",
       "      <th>f5</th>\n",
       "      <td>0.435634</td>\n",
       "      <td>0.314821</td>\n",
       "      <td>0.819535</td>\n",
       "      <td>0.770806</td>\n",
       "      <td>-0.791908</td>\n",
       "      <td>0.713070</td>\n",
       "      <td>0.707440</td>\n",
       "      <td>0.570873</td>\n",
       "      <td>0.937144</td>\n",
       "      <td>1.000000</td>\n",
       "      <td>-0.800407</td>\n",
       "      <td>-0.462228</td>\n",
       "      <td>-0.532637</td>\n",
       "    </tr>\n",
       "    <tr>\n",
       "      <th>f7</th>\n",
       "      <td>-0.692395</td>\n",
       "      <td>-0.459694</td>\n",
       "      <td>-0.947740</td>\n",
       "      <td>-0.919217</td>\n",
       "      <td>0.855326</td>\n",
       "      <td>-0.707263</td>\n",
       "      <td>-0.637439</td>\n",
       "      <td>-0.482595</td>\n",
       "      <td>-0.569994</td>\n",
       "      <td>-0.800407</td>\n",
       "      <td>1.000000</td>\n",
       "      <td>0.057792</td>\n",
       "      <td>0.240061</td>\n",
       "    </tr>\n",
       "    <tr>\n",
       "      <th>f8</th>\n",
       "      <td>0.171071</td>\n",
       "      <td>0.135884</td>\n",
       "      <td>-0.033166</td>\n",
       "      <td>0.061148</td>\n",
       "      <td>0.262579</td>\n",
       "      <td>0.154396</td>\n",
       "      <td>0.178847</td>\n",
       "      <td>0.231027</td>\n",
       "      <td>-0.564621</td>\n",
       "      <td>-0.462228</td>\n",
       "      <td>0.057792</td>\n",
       "      <td>1.000000</td>\n",
       "      <td>0.565009</td>\n",
       "    </tr>\n",
       "    <tr>\n",
       "      <th>label</th>\n",
       "      <td>0.118392</td>\n",
       "      <td>0.084653</td>\n",
       "      <td>-0.341990</td>\n",
       "      <td>-0.188117</td>\n",
       "      <td>0.504241</td>\n",
       "      <td>-0.174569</td>\n",
       "      <td>-0.280277</td>\n",
       "      <td>-0.051488</td>\n",
       "      <td>-0.586208</td>\n",
       "      <td>-0.532637</td>\n",
       "      <td>0.240061</td>\n",
       "      <td>0.565009</td>\n",
       "      <td>1.000000</td>\n",
       "    </tr>\n",
       "  </tbody>\n",
       "</table>\n",
       "</div>"
      ],
      "text/plain": [
       "                area  perimeter  green_mean  blue_mean        f2   red_std  \\\n",
       "area        1.000000   0.830298    0.630587   0.667929 -0.482914  0.524645   \n",
       "perimeter   0.830298   1.000000    0.412819   0.444318 -0.308313  0.390377   \n",
       "green_mean  0.630587   0.412819    1.000000   0.964284 -0.855135  0.790545   \n",
       "blue_mean   0.667929   0.444318    0.964284   1.000000 -0.709165  0.843450   \n",
       "f2         -0.482914  -0.308313   -0.855135  -0.709165  1.000000 -0.519920   \n",
       "red_std     0.524645   0.390377    0.790545   0.843450 -0.519920  1.000000   \n",
       "green_std   0.430936   0.350861    0.753100   0.771012 -0.537829  0.917044   \n",
       "blue_std    0.384001   0.324933    0.578620   0.702739 -0.221565  0.874205   \n",
       "f4          0.247089   0.208654    0.629160   0.596378 -0.595765  0.659471   \n",
       "f5          0.435634   0.314821    0.819535   0.770806 -0.791908  0.713070   \n",
       "f7         -0.692395  -0.459694   -0.947740  -0.919217  0.855326 -0.707263   \n",
       "f8          0.171071   0.135884   -0.033166   0.061148  0.262579  0.154396   \n",
       "label       0.118392   0.084653   -0.341990  -0.188117  0.504241 -0.174569   \n",
       "\n",
       "            green_std  blue_std        f4        f5        f7        f8  \\\n",
       "area         0.430936  0.384001  0.247089  0.435634 -0.692395  0.171071   \n",
       "perimeter    0.350861  0.324933  0.208654  0.314821 -0.459694  0.135884   \n",
       "green_mean   0.753100  0.578620  0.629160  0.819535 -0.947740 -0.033166   \n",
       "blue_mean    0.771012  0.702739  0.596378  0.770806 -0.919217  0.061148   \n",
       "f2          -0.537829 -0.221565 -0.595765 -0.791908  0.855326  0.262579   \n",
       "red_std      0.917044  0.874205  0.659471  0.713070 -0.707263  0.154396   \n",
       "green_std    1.000000  0.895356  0.678630  0.707440 -0.637439  0.178847   \n",
       "blue_std     0.895356  1.000000  0.599036  0.570873 -0.482595  0.231027   \n",
       "f4           0.678630  0.599036  1.000000  0.937144 -0.569994 -0.564621   \n",
       "f5           0.707440  0.570873  0.937144  1.000000 -0.800407 -0.462228   \n",
       "f7          -0.637439 -0.482595 -0.569994 -0.800407  1.000000  0.057792   \n",
       "f8           0.178847  0.231027 -0.564621 -0.462228  0.057792  1.000000   \n",
       "label       -0.280277 -0.051488 -0.586208 -0.532637  0.240061  0.565009   \n",
       "\n",
       "               label  \n",
       "area        0.118392  \n",
       "perimeter   0.084653  \n",
       "green_mean -0.341990  \n",
       "blue_mean  -0.188117  \n",
       "f2          0.504241  \n",
       "red_std    -0.174569  \n",
       "green_std  -0.280277  \n",
       "blue_std   -0.051488  \n",
       "f4         -0.586208  \n",
       "f5         -0.532637  \n",
       "f7          0.240061  \n",
       "f8          0.565009  \n",
       "label       1.000000  "
      ]
     },
     "execution_count": 9,
     "metadata": {},
     "output_type": "execute_result"
    }
   ],
   "source": [
    "cleaned_data.corr(method ='pearson')"
   ]
  },
  {
   "cell_type": "code",
   "execution_count": 10,
   "metadata": {
    "id": "nHFTe4TItiFJ"
   },
   "outputs": [],
   "source": [
    "cleaned_data = cleaned_data.dropna()"
   ]
  },
  {
   "cell_type": "code",
   "execution_count": 11,
   "metadata": {
    "colab": {
     "base_uri": "https://localhost:8080/"
    },
    "id": "1ns2yXu9uXnE",
    "outputId": "81b3083c-7b65-4923-ebe8-674259d14aa4"
   },
   "outputs": [
    {
     "data": {
      "text/plain": [
       "(2970, 16)"
      ]
     },
     "execution_count": 11,
     "metadata": {},
     "output_type": "execute_result"
    }
   ],
   "source": [
    "raw_data.shape"
   ]
  },
  {
   "cell_type": "code",
   "execution_count": 12,
   "metadata": {
    "colab": {
     "base_uri": "https://localhost:8080/"
    },
    "id": "X2iVldJpuZb5",
    "outputId": "44927c0c-ca20-4995-f579-8f113ea7d2f3"
   },
   "outputs": [
    {
     "data": {
      "text/plain": [
       "(2970, 13)"
      ]
     },
     "execution_count": 12,
     "metadata": {},
     "output_type": "execute_result"
    }
   ],
   "source": [
    "cleaned_data.shape"
   ]
  },
  {
   "cell_type": "code",
   "execution_count": 13,
   "metadata": {
    "id": "q1UEsRsTubX5"
   },
   "outputs": [],
   "source": [
    "from sklearn.model_selection import train_test_split\n",
    "from sklearn.metrics import accuracy_score\n",
    "from sklearn.preprocessing import StandardScaler\n",
    "from sklearn.decomposition import PCA\n",
    "from sklearn.svm import SVC\n",
    "from sklearn.metrics import roc_curve, auc\n",
    "from sklearn.model_selection import KFold \n"
   ]
  },
  {
   "cell_type": "code",
   "execution_count": 14,
   "metadata": {
    "id": "ZJg6iy3Mu72T"
   },
   "outputs": [],
   "source": [
    "df = cleaned_data.reset_index()"
   ]
  },
  {
   "cell_type": "code",
   "execution_count": 15,
   "metadata": {
    "colab": {
     "base_uri": "https://localhost:8080/"
    },
    "id": "3DvMWo8rvPW6",
    "outputId": "72d93ebe-2fbe-47b6-903a-ae58e46569e7"
   },
   "outputs": [
    {
     "name": "stdout",
     "output_type": "stream",
     "text": [
      "(2970, 12)\n",
      "(2970,)\n"
     ]
    }
   ],
   "source": [
    "X = df.drop(['index','label'],axis = 1, inplace=False)\n",
    "y = df['label']\n",
    "print(X.shape)\n",
    "print(y.shape)"
   ]
  },
  {
   "cell_type": "code",
   "execution_count": 16,
   "metadata": {
    "colab": {
     "base_uri": "https://localhost:8080/"
    },
    "id": "j723Yu4Xvx_r",
    "outputId": "7d68696b-7a50-4d90-a12e-c3e326ba15d6"
   },
   "outputs": [
    {
     "name": "stdout",
     "output_type": "stream",
     "text": [
      "Score of each fold - [0.9292929292929293, 0.9006734006734006, 0.9259259259259259, 0.9090909090909091, 0.9208754208754208]\n",
      "Avg Score : 0.9171717171717173\n"
     ]
    }
   ],
   "source": [
    "k = 5\n",
    "kf = KFold(n_splits=k, random_state=9, shuffle = True)\n",
    "from sklearn.ensemble import RandomForestClassifier\n",
    "model = RandomForestClassifier(random_state = 50,n_estimators = 50,max_samples = 0.7)\n",
    " \n",
    "acc_score = []\n",
    "\n",
    "for train_index , test_index in kf.split(X):\n",
    "    X_train , X_test = X.iloc[train_index,:],X.iloc[test_index,:]\n",
    "    y_train , y_test = y[train_index] , y[test_index]\n",
    "    model = RandomForestClassifier(random_state = 50,n_estimators = 50,max_samples = 0.7)\n",
    "    model.fit(X_train,y_train)\n",
    "    pred_values = model.predict(X_test)            # classification\n",
    "    acc = accuracy_score(pred_values , y_test)     # Classification\n",
    "\n",
    "    #acc = model.score(X_test,y_test)                # Regression\n",
    "    \n",
    "    acc_score.append(acc)\n",
    "     \n",
    "avg_acc_score = sum(acc_score)/k\n",
    " \n",
    "print('Score of each fold - {}'.format(acc_score))\n",
    "print('Avg Score : {}'.format(avg_acc_score))"
   ]
  },
  {
   "cell_type": "markdown",
   "metadata": {
    "id": "jShjKvkbwtys"
   },
   "source": [
    "# **K- fold Cross validation accuracy:**\n",
    "# **0.9171717171717173**"
   ]
  },
  {
   "cell_type": "markdown",
   "metadata": {
    "id": "MalrrV30xqn8"
   },
   "source": [
    "# ROC Curve"
   ]
  },
  {
   "cell_type": "code",
   "execution_count": 17,
   "metadata": {
    "colab": {
     "base_uri": "https://localhost:8080/",
     "height": 349
    },
    "id": "U_6DxxVXwmJP",
    "outputId": "a133289a-c71b-4af2-8e04-d36b24d2fc40"
   },
   "outputs": [
    {
     "data": {
      "image/png": "[encoded data removed]",
      "text/plain": [
       "<Figure size 432x288 with 1 Axes>"
      ]
     },
     "metadata": {
      "needs_background": "light"
     },
     "output_type": "display_data"
    }
   ],
   "source": [
    "import scikitplot as skplt\n",
    "import matplotlib.pyplot as plt\n",
    "\n",
    "y_true = y_test\n",
    "y_probas = model.predict_proba(X_test)\n",
    "skplt.metrics.plot_roc(y_true, y_probas)\n",
    "\n",
    "plt.show()"
   ]
  },
  {
   "cell_type": "code",
   "execution_count": 19,
   "metadata": {
    "colab": {
     "base_uri": "https://localhost:8080/",
     "height": 296
    },
    "id": "qw0YcxFQx3Mc",
    "outputId": "c83fbdcf-a67a-404f-e8dc-9c8473490392"
   },
   "outputs": [
    {
     "data": {
      "text/plain": [
       "<sklearn.metrics._plot.confusion_matrix.ConfusionMatrixDisplay at 0x7f2ebb336f98>"
      ]
     },
     "execution_count": 19,
     "metadata": {},
     "output_type": "execute_result"
    },
    {
     "data": {
      "image/png": "[encoded data removed]",
      "text/plain": [
       "<Figure size 432x288 with 2 Axes>"
      ]
     },
     "metadata": {
      "needs_background": "light"
     },
     "output_type": "display_data"
    }
   ],
   "source": [
    "from sklearn.metrics import plot_confusion_matrix\n",
    "y_pred = model.predict(X_test)\n",
    "plot_confusion_matrix(model, X_test, y_test, values_format = 'd',cmap = 'Blues',display_labels = ['0','1','2'])"
   ]
  },
  {
   "cell_type": "code",
   "execution_count": 20,
   "metadata": {
    "colab": {
     "base_uri": "https://localhost:8080/"
    },
    "id": "Gref__vNyWqm",
    "outputId": "ba198a46-5398-482a-a509-72776333aa9d"
   },
   "outputs": [
    {
     "name": "stdout",
     "output_type": "stream",
     "text": [
      "              precision    recall  f1-score   support\n",
      "\n",
      "           0       0.98      0.94      0.96       185\n",
      "           1       0.90      0.91      0.91       206\n",
      "           2       0.89      0.92      0.90       203\n",
      "\n",
      "    accuracy                           0.92       594\n",
      "   macro avg       0.92      0.92      0.92       594\n",
      "weighted avg       0.92      0.92      0.92       594\n",
      "\n"
     ]
    }
   ],
   "source": [
    "from sklearn.metrics import classification_report\n",
    "\n",
    "print(classification_report(y_test, y_pred, [0,1,2]))"
   ]
  },
  {
   "cell_type": "markdown",
   "metadata": {
    "id": "XEl3_kcUzXyY"
   },
   "source": [
    "# Deployment"
   ]
  },
  {
   "cell_type": "code",
   "execution_count": 21,
   "metadata": {
    "colab": {
     "base_uri": "https://localhost:8080/"
    },
    "id": "HY3YfG2py-Jf",
    "outputId": "1ae76c7e-aea2-4ecf-9da4-2c14477c7009"
   },
   "outputs": [
    {
     "name": "stdout",
     "output_type": "stream",
     "text": [
      "Training Score:  0.9956228956228956\n"
     ]
    }
   ],
   "source": [
    "from sklearn.ensemble import RandomForestClassifier\n",
    "lm = RandomForestClassifier(random_state = 50,n_estimators = 50,max_samples = 0.7)\n",
    "lm.fit(X,y)\n",
    "print('Training Score: ',lm.score(X,y))"
   ]
  },
  {
   "cell_type": "code",
   "execution_count": 22,
   "metadata": {
    "colab": {
     "base_uri": "https://localhost:8080/"
    },
    "id": "LlyCB8PCy1qh",
    "outputId": "2cc193e3-7c9e-451e-ab77-0df761e46954"
   },
   "outputs": [
    {
     "data": {
      "text/plain": [
       "array([0.07853135, 0.05647257, 0.05298702, 0.04060839, 0.2196637 ,\n",
       "       0.0347469 , 0.0560005 , 0.10076536, 0.09299529, 0.0923627 ,\n",
       "       0.10165468, 0.07321154])"
      ]
     },
     "execution_count": 22,
     "metadata": {},
     "output_type": "execute_result"
    }
   ],
   "source": [
    "lm.feature_importances_"
   ]
  },
  {
   "cell_type": "markdown",
   "metadata": {
    "id": "WyNxpJvA0ycq"
   },
   "source": [
    "# Selected Features"
   ]
  },
  {
   "cell_type": "code",
   "execution_count": 24,
   "metadata": {
    "colab": {
     "base_uri": "https://localhost:8080/"
    },
    "id": "bb17TIJPz5jJ",
    "outputId": "a4d12a70-dffc-46c9-9374-c36c142227d2"
   },
   "outputs": [
    {
     "data": {
      "text/plain": [
       "Index(['area', 'perimeter', 'green_mean', 'blue_mean', 'f2', 'red_std',\n",
       "       'green_std', 'blue_std', 'f4', 'f5', 'f7', 'f8'],\n",
       "      dtype='object')"
      ]
     },
     "execution_count": 24,
     "metadata": {},
     "output_type": "execute_result"
    }
   ],
   "source": [
    "X.columns"
   ]
  },
  {
   "cell_type": "code",
   "execution_count": null,
   "metadata": {},
   "outputs": [],
   "source": []
  }
 ],
 "metadata": {
  "colab": {
   "name": "Apple_DA_and_MD.ipynb",
   "provenance": []
  },
  "kernelspec": {
   "display_name": "plant_env",
   "language": "python",
   "name": "plant_env"
  },
  "language_info": {
   "codemirror_mode": {
    "name": "ipython",
    "version": 3
   },
   "file_extension": ".py",
   "mimetype": "text/x-python",
   "name": "python",
   "nbconvert_exporter": "python",
   "pygments_lexer": "ipython3",
   "version": "3.6.9"
  }
 },
 "nbformat": 4,
 "nbformat_minor": 1
}
