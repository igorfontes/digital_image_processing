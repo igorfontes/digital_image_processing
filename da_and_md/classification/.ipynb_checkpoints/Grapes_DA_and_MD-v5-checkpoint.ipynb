{
 "cells": [
  {
   "cell_type": "code",
   "execution_count": 1,
   "metadata": {
    "id": "8Cg54vyTot1W"
   },
   "outputs": [],
   "source": [
    "import pandas as pd\n",
    "import matplotlib.pyplot as plt\n",
    "import numpy as np\n",
    "import seaborn as sns\n",
    "import warnings\n",
    "warnings.filterwarnings('ignore')"
   ]
  },
  {
   "cell_type": "code",
   "execution_count": 2,
   "metadata": {
    "id": "4-v_yHgEowG5"
   },
   "outputs": [],
   "source": [
    "#!pip install openpyxl\n",
    "raw_data = pd.read_excel('../../grapes_dataset_v5.xlsx', engine='openpyxl')"
   ]
  },
  {
   "cell_type": "code",
   "execution_count": 3,
   "metadata": {
    "colab": {
     "base_uri": "https://localhost:8080/"
    },
    "id": "d-UxkVS-sCVa",
    "outputId": "6a77717b-e608-4356-e740-910a8cec0159"
   },
   "outputs": [
    {
     "data": {
      "text/plain": [
       "Unnamed: 0      int64\n",
       "area          float64\n",
       "perimeter     float64\n",
       "red_mean      float64\n",
       "green_mean    float64\n",
       "blue_mean     float64\n",
       "f1            float64\n",
       "f2            float64\n",
       "red_std       float64\n",
       "green_std     float64\n",
       "blue_std      float64\n",
       "f4            float64\n",
       "f5            float64\n",
       "f6            float64\n",
       "f7            float64\n",
       "f8            float64\n",
       "label           int64\n",
       "dtype: object"
      ]
     },
     "execution_count": 3,
     "metadata": {},
     "output_type": "execute_result"
    }
   ],
   "source": [
    "raw_data.dtypes"
   ]
  },
  {
   "cell_type": "code",
   "execution_count": 4,
   "metadata": {
    "id": "6rODIXAEsIiK"
   },
   "outputs": [],
   "source": [
    "raw_data.drop(['Unnamed: 0'],axis = 1, inplace=True)"
   ]
  },
  {
   "cell_type": "code",
   "execution_count": 5,
   "metadata": {
    "colab": {
     "base_uri": "https://localhost:8080/"
    },
    "id": "f3T6y1gVsT2p",
    "outputId": "ab01a558-d67c-4f56-92d5-52ca32f22a78"
   },
   "outputs": [
    {
     "data": {
      "text/plain": [
       "Index(['area', 'perimeter', 'red_mean', 'green_mean', 'blue_mean', 'f1', 'f2',\n",
       "       'red_std', 'green_std', 'blue_std', 'f4', 'f5', 'f6', 'f7', 'f8',\n",
       "       'label'],\n",
       "      dtype='object')"
      ]
     },
     "execution_count": 5,
     "metadata": {},
     "output_type": "execute_result"
    }
   ],
   "source": [
    "raw_data.columns"
   ]
  },
  {
   "cell_type": "code",
   "execution_count": 6,
   "metadata": {
    "colab": {
     "base_uri": "https://localhost:8080/",
     "height": 1000
    },
    "id": "48HQEVsXsWFp",
    "outputId": "69917675-7ac8-48a3-9a77-5f93eeecf880"
   },
   "outputs": [
    {
     "data": {
      "text/html": [
       "<div>\n",
       "<style scoped>\n",
       "    .dataframe tbody tr th:only-of-type {\n",
       "        vertical-align: middle;\n",
       "    }\n",
       "\n",
       "    .dataframe tbody tr th {\n",
       "        vertical-align: top;\n",
       "    }\n",
       "\n",
       "    .dataframe thead th {\n",
       "        text-align: right;\n",
       "    }\n",
       "</style>\n",
       "<table border=\"1\" class=\"dataframe\">\n",
       "  <thead>\n",
       "    <tr style=\"text-align: right;\">\n",
       "      <th></th>\n",
       "      <th>area</th>\n",
       "      <th>perimeter</th>\n",
       "      <th>red_mean</th>\n",
       "      <th>green_mean</th>\n",
       "      <th>blue_mean</th>\n",
       "      <th>f1</th>\n",
       "      <th>f2</th>\n",
       "      <th>red_std</th>\n",
       "      <th>green_std</th>\n",
       "      <th>blue_std</th>\n",
       "      <th>f4</th>\n",
       "      <th>f5</th>\n",
       "      <th>f6</th>\n",
       "      <th>f7</th>\n",
       "      <th>f8</th>\n",
       "      <th>label</th>\n",
       "    </tr>\n",
       "  </thead>\n",
       "  <tbody>\n",
       "    <tr>\n",
       "      <th>area</th>\n",
       "      <td>1.000000</td>\n",
       "      <td>0.923309</td>\n",
       "      <td>0.297200</td>\n",
       "      <td>0.289389</td>\n",
       "      <td>0.279050</td>\n",
       "      <td>0.268648</td>\n",
       "      <td>-0.268648</td>\n",
       "      <td>0.262766</td>\n",
       "      <td>0.048905</td>\n",
       "      <td>0.009301</td>\n",
       "      <td>0.039515</td>\n",
       "      <td>0.183966</td>\n",
       "      <td>-0.404010</td>\n",
       "      <td>-0.409184</td>\n",
       "      <td>-0.001690</td>\n",
       "      <td>-0.083366</td>\n",
       "    </tr>\n",
       "    <tr>\n",
       "      <th>perimeter</th>\n",
       "      <td>0.923309</td>\n",
       "      <td>1.000000</td>\n",
       "      <td>0.129451</td>\n",
       "      <td>0.123017</td>\n",
       "      <td>0.124043</td>\n",
       "      <td>0.126126</td>\n",
       "      <td>-0.126126</td>\n",
       "      <td>0.190323</td>\n",
       "      <td>0.060917</td>\n",
       "      <td>0.042479</td>\n",
       "      <td>0.075568</td>\n",
       "      <td>0.140691</td>\n",
       "      <td>-0.217049</td>\n",
       "      <td>-0.215978</td>\n",
       "      <td>-0.023509</td>\n",
       "      <td>-0.010691</td>\n",
       "    </tr>\n",
       "    <tr>\n",
       "      <th>red_mean</th>\n",
       "      <td>0.297200</td>\n",
       "      <td>0.129451</td>\n",
       "      <td>1.000000</td>\n",
       "      <td>0.922089</td>\n",
       "      <td>0.841150</td>\n",
       "      <td>0.757691</td>\n",
       "      <td>-0.757691</td>\n",
       "      <td>0.642223</td>\n",
       "      <td>0.261047</td>\n",
       "      <td>0.110808</td>\n",
       "      <td>0.122496</td>\n",
       "      <td>0.397997</td>\n",
       "      <td>-0.855043</td>\n",
       "      <td>-0.864171</td>\n",
       "      <td>0.018949</td>\n",
       "      <td>-0.523499</td>\n",
       "    </tr>\n",
       "    <tr>\n",
       "      <th>green_mean</th>\n",
       "      <td>0.289389</td>\n",
       "      <td>0.123017</td>\n",
       "      <td>0.922089</td>\n",
       "      <td>1.000000</td>\n",
       "      <td>0.944314</td>\n",
       "      <td>0.723569</td>\n",
       "      <td>-0.723569</td>\n",
       "      <td>0.487626</td>\n",
       "      <td>0.379264</td>\n",
       "      <td>0.218671</td>\n",
       "      <td>0.098451</td>\n",
       "      <td>0.381727</td>\n",
       "      <td>-0.884613</td>\n",
       "      <td>-0.901377</td>\n",
       "      <td>0.098437</td>\n",
       "      <td>-0.443134</td>\n",
       "    </tr>\n",
       "    <tr>\n",
       "      <th>blue_mean</th>\n",
       "      <td>0.279050</td>\n",
       "      <td>0.124043</td>\n",
       "      <td>0.841150</td>\n",
       "      <td>0.944314</td>\n",
       "      <td>1.000000</td>\n",
       "      <td>0.482163</td>\n",
       "      <td>-0.482163</td>\n",
       "      <td>0.472917</td>\n",
       "      <td>0.449855</td>\n",
       "      <td>0.432840</td>\n",
       "      <td>0.137133</td>\n",
       "      <td>0.393844</td>\n",
       "      <td>-0.827651</td>\n",
       "      <td>-0.838467</td>\n",
       "      <td>0.150709</td>\n",
       "      <td>-0.226333</td>\n",
       "    </tr>\n",
       "    <tr>\n",
       "      <th>f1</th>\n",
       "      <td>0.268648</td>\n",
       "      <td>0.126126</td>\n",
       "      <td>0.757691</td>\n",
       "      <td>0.723569</td>\n",
       "      <td>0.482163</td>\n",
       "      <td>1.000000</td>\n",
       "      <td>-1.000000</td>\n",
       "      <td>0.373021</td>\n",
       "      <td>0.015180</td>\n",
       "      <td>-0.329813</td>\n",
       "      <td>0.030196</td>\n",
       "      <td>0.285332</td>\n",
       "      <td>-0.730959</td>\n",
       "      <td>-0.748792</td>\n",
       "      <td>-0.126072</td>\n",
       "      <td>-0.714218</td>\n",
       "    </tr>\n",
       "    <tr>\n",
       "      <th>f2</th>\n",
       "      <td>-0.268648</td>\n",
       "      <td>-0.126126</td>\n",
       "      <td>-0.757691</td>\n",
       "      <td>-0.723569</td>\n",
       "      <td>-0.482163</td>\n",
       "      <td>-1.000000</td>\n",
       "      <td>1.000000</td>\n",
       "      <td>-0.373021</td>\n",
       "      <td>-0.015180</td>\n",
       "      <td>0.329813</td>\n",
       "      <td>-0.030196</td>\n",
       "      <td>-0.285332</td>\n",
       "      <td>0.730959</td>\n",
       "      <td>0.748792</td>\n",
       "      <td>0.126072</td>\n",
       "      <td>0.714218</td>\n",
       "    </tr>\n",
       "    <tr>\n",
       "      <th>red_std</th>\n",
       "      <td>0.262766</td>\n",
       "      <td>0.190323</td>\n",
       "      <td>0.642223</td>\n",
       "      <td>0.487626</td>\n",
       "      <td>0.472917</td>\n",
       "      <td>0.373021</td>\n",
       "      <td>-0.373021</td>\n",
       "      <td>1.000000</td>\n",
       "      <td>0.594888</td>\n",
       "      <td>0.466991</td>\n",
       "      <td>0.441833</td>\n",
       "      <td>0.489539</td>\n",
       "      <td>-0.453330</td>\n",
       "      <td>-0.418950</td>\n",
       "      <td>-0.009628</td>\n",
       "      <td>-0.248023</td>\n",
       "    </tr>\n",
       "    <tr>\n",
       "      <th>green_std</th>\n",
       "      <td>0.048905</td>\n",
       "      <td>0.060917</td>\n",
       "      <td>0.261047</td>\n",
       "      <td>0.379264</td>\n",
       "      <td>0.449855</td>\n",
       "      <td>0.015180</td>\n",
       "      <td>-0.015180</td>\n",
       "      <td>0.594888</td>\n",
       "      <td>1.000000</td>\n",
       "      <td>0.839365</td>\n",
       "      <td>0.342033</td>\n",
       "      <td>0.266580</td>\n",
       "      <td>-0.129858</td>\n",
       "      <td>-0.109912</td>\n",
       "      <td>0.316203</td>\n",
       "      <td>-0.007136</td>\n",
       "    </tr>\n",
       "    <tr>\n",
       "      <th>blue_std</th>\n",
       "      <td>0.009301</td>\n",
       "      <td>0.042479</td>\n",
       "      <td>0.110808</td>\n",
       "      <td>0.218671</td>\n",
       "      <td>0.432840</td>\n",
       "      <td>-0.329813</td>\n",
       "      <td>0.329813</td>\n",
       "      <td>0.466991</td>\n",
       "      <td>0.839365</td>\n",
       "      <td>1.000000</td>\n",
       "      <td>0.446472</td>\n",
       "      <td>0.332635</td>\n",
       "      <td>-0.047154</td>\n",
       "      <td>-0.010702</td>\n",
       "      <td>0.181130</td>\n",
       "      <td>0.333443</td>\n",
       "    </tr>\n",
       "    <tr>\n",
       "      <th>f4</th>\n",
       "      <td>0.039515</td>\n",
       "      <td>0.075568</td>\n",
       "      <td>0.122496</td>\n",
       "      <td>0.098451</td>\n",
       "      <td>0.137133</td>\n",
       "      <td>0.030196</td>\n",
       "      <td>-0.030196</td>\n",
       "      <td>0.441833</td>\n",
       "      <td>0.342033</td>\n",
       "      <td>0.446472</td>\n",
       "      <td>1.000000</td>\n",
       "      <td>0.903594</td>\n",
       "      <td>-0.216874</td>\n",
       "      <td>-0.108409</td>\n",
       "      <td>-0.740629</td>\n",
       "      <td>0.242421</td>\n",
       "    </tr>\n",
       "    <tr>\n",
       "      <th>f5</th>\n",
       "      <td>0.183966</td>\n",
       "      <td>0.140691</td>\n",
       "      <td>0.397997</td>\n",
       "      <td>0.381727</td>\n",
       "      <td>0.393844</td>\n",
       "      <td>0.285332</td>\n",
       "      <td>-0.285332</td>\n",
       "      <td>0.489539</td>\n",
       "      <td>0.266580</td>\n",
       "      <td>0.332635</td>\n",
       "      <td>0.903594</td>\n",
       "      <td>1.000000</td>\n",
       "      <td>-0.564322</td>\n",
       "      <td>-0.448600</td>\n",
       "      <td>-0.714328</td>\n",
       "      <td>0.108102</td>\n",
       "    </tr>\n",
       "    <tr>\n",
       "      <th>f6</th>\n",
       "      <td>-0.404010</td>\n",
       "      <td>-0.217049</td>\n",
       "      <td>-0.855043</td>\n",
       "      <td>-0.884613</td>\n",
       "      <td>-0.827651</td>\n",
       "      <td>-0.730959</td>\n",
       "      <td>0.730959</td>\n",
       "      <td>-0.453330</td>\n",
       "      <td>-0.129858</td>\n",
       "      <td>-0.047154</td>\n",
       "      <td>-0.216874</td>\n",
       "      <td>-0.564322</td>\n",
       "      <td>1.000000</td>\n",
       "      <td>0.984739</td>\n",
       "      <td>0.160485</td>\n",
       "      <td>0.342426</td>\n",
       "    </tr>\n",
       "    <tr>\n",
       "      <th>f7</th>\n",
       "      <td>-0.409184</td>\n",
       "      <td>-0.215978</td>\n",
       "      <td>-0.864171</td>\n",
       "      <td>-0.901377</td>\n",
       "      <td>-0.838467</td>\n",
       "      <td>-0.748792</td>\n",
       "      <td>0.748792</td>\n",
       "      <td>-0.418950</td>\n",
       "      <td>-0.109912</td>\n",
       "      <td>-0.010702</td>\n",
       "      <td>-0.108409</td>\n",
       "      <td>-0.448600</td>\n",
       "      <td>0.984739</td>\n",
       "      <td>1.000000</td>\n",
       "      <td>0.067710</td>\n",
       "      <td>0.392494</td>\n",
       "    </tr>\n",
       "    <tr>\n",
       "      <th>f8</th>\n",
       "      <td>-0.001690</td>\n",
       "      <td>-0.023509</td>\n",
       "      <td>0.018949</td>\n",
       "      <td>0.098437</td>\n",
       "      <td>0.150709</td>\n",
       "      <td>-0.126072</td>\n",
       "      <td>0.126072</td>\n",
       "      <td>-0.009628</td>\n",
       "      <td>0.316203</td>\n",
       "      <td>0.181130</td>\n",
       "      <td>-0.740629</td>\n",
       "      <td>-0.714328</td>\n",
       "      <td>0.160485</td>\n",
       "      <td>0.067710</td>\n",
       "      <td>1.000000</td>\n",
       "      <td>-0.147340</td>\n",
       "    </tr>\n",
       "    <tr>\n",
       "      <th>label</th>\n",
       "      <td>-0.083366</td>\n",
       "      <td>-0.010691</td>\n",
       "      <td>-0.523499</td>\n",
       "      <td>-0.443134</td>\n",
       "      <td>-0.226333</td>\n",
       "      <td>-0.714218</td>\n",
       "      <td>0.714218</td>\n",
       "      <td>-0.248023</td>\n",
       "      <td>-0.007136</td>\n",
       "      <td>0.333443</td>\n",
       "      <td>0.242421</td>\n",
       "      <td>0.108102</td>\n",
       "      <td>0.342426</td>\n",
       "      <td>0.392494</td>\n",
       "      <td>-0.147340</td>\n",
       "      <td>1.000000</td>\n",
       "    </tr>\n",
       "  </tbody>\n",
       "</table>\n",
       "</div>"
      ],
      "text/plain": [
       "                area  perimeter  red_mean  green_mean  blue_mean        f1  \\\n",
       "area        1.000000   0.923309  0.297200    0.289389   0.279050  0.268648   \n",
       "perimeter   0.923309   1.000000  0.129451    0.123017   0.124043  0.126126   \n",
       "red_mean    0.297200   0.129451  1.000000    0.922089   0.841150  0.757691   \n",
       "green_mean  0.289389   0.123017  0.922089    1.000000   0.944314  0.723569   \n",
       "blue_mean   0.279050   0.124043  0.841150    0.944314   1.000000  0.482163   \n",
       "f1          0.268648   0.126126  0.757691    0.723569   0.482163  1.000000   \n",
       "f2         -0.268648  -0.126126 -0.757691   -0.723569  -0.482163 -1.000000   \n",
       "red_std     0.262766   0.190323  0.642223    0.487626   0.472917  0.373021   \n",
       "green_std   0.048905   0.060917  0.261047    0.379264   0.449855  0.015180   \n",
       "blue_std    0.009301   0.042479  0.110808    0.218671   0.432840 -0.329813   \n",
       "f4          0.039515   0.075568  0.122496    0.098451   0.137133  0.030196   \n",
       "f5          0.183966   0.140691  0.397997    0.381727   0.393844  0.285332   \n",
       "f6         -0.404010  -0.217049 -0.855043   -0.884613  -0.827651 -0.730959   \n",
       "f7         -0.409184  -0.215978 -0.864171   -0.901377  -0.838467 -0.748792   \n",
       "f8         -0.001690  -0.023509  0.018949    0.098437   0.150709 -0.126072   \n",
       "label      -0.083366  -0.010691 -0.523499   -0.443134  -0.226333 -0.714218   \n",
       "\n",
       "                  f2   red_std  green_std  blue_std        f4        f5  \\\n",
       "area       -0.268648  0.262766   0.048905  0.009301  0.039515  0.183966   \n",
       "perimeter  -0.126126  0.190323   0.060917  0.042479  0.075568  0.140691   \n",
       "red_mean   -0.757691  0.642223   0.261047  0.110808  0.122496  0.397997   \n",
       "green_mean -0.723569  0.487626   0.379264  0.218671  0.098451  0.381727   \n",
       "blue_mean  -0.482163  0.472917   0.449855  0.432840  0.137133  0.393844   \n",
       "f1         -1.000000  0.373021   0.015180 -0.329813  0.030196  0.285332   \n",
       "f2          1.000000 -0.373021  -0.015180  0.329813 -0.030196 -0.285332   \n",
       "red_std    -0.373021  1.000000   0.594888  0.466991  0.441833  0.489539   \n",
       "green_std  -0.015180  0.594888   1.000000  0.839365  0.342033  0.266580   \n",
       "blue_std    0.329813  0.466991   0.839365  1.000000  0.446472  0.332635   \n",
       "f4         -0.030196  0.441833   0.342033  0.446472  1.000000  0.903594   \n",
       "f5         -0.285332  0.489539   0.266580  0.332635  0.903594  1.000000   \n",
       "f6          0.730959 -0.453330  -0.129858 -0.047154 -0.216874 -0.564322   \n",
       "f7          0.748792 -0.418950  -0.109912 -0.010702 -0.108409 -0.448600   \n",
       "f8          0.126072 -0.009628   0.316203  0.181130 -0.740629 -0.714328   \n",
       "label       0.714218 -0.248023  -0.007136  0.333443  0.242421  0.108102   \n",
       "\n",
       "                  f6        f7        f8     label  \n",
       "area       -0.404010 -0.409184 -0.001690 -0.083366  \n",
       "perimeter  -0.217049 -0.215978 -0.023509 -0.010691  \n",
       "red_mean   -0.855043 -0.864171  0.018949 -0.523499  \n",
       "green_mean -0.884613 -0.901377  0.098437 -0.443134  \n",
       "blue_mean  -0.827651 -0.838467  0.150709 -0.226333  \n",
       "f1         -0.730959 -0.748792 -0.126072 -0.714218  \n",
       "f2          0.730959  0.748792  0.126072  0.714218  \n",
       "red_std    -0.453330 -0.418950 -0.009628 -0.248023  \n",
       "green_std  -0.129858 -0.109912  0.316203 -0.007136  \n",
       "blue_std   -0.047154 -0.010702  0.181130  0.333443  \n",
       "f4         -0.216874 -0.108409 -0.740629  0.242421  \n",
       "f5         -0.564322 -0.448600 -0.714328  0.108102  \n",
       "f6          1.000000  0.984739  0.160485  0.342426  \n",
       "f7          0.984739  1.000000  0.067710  0.392494  \n",
       "f8          0.160485  0.067710  1.000000 -0.147340  \n",
       "label       0.342426  0.392494 -0.147340  1.000000  "
      ]
     },
     "execution_count": 6,
     "metadata": {},
     "output_type": "execute_result"
    }
   ],
   "source": [
    "raw_data.corr(method ='pearson')"
   ]
  },
  {
   "cell_type": "markdown",
   "metadata": {
    "id": "tykbukJOs9oT"
   },
   "source": [
    "**Insights:**\n",
    "\n",
    "Also f1 and f2 are mutually relative So one of them can be removed"
   ]
  },
  {
   "cell_type": "code",
   "execution_count": 22,
   "metadata": {
    "id": "9C4PKZKLs276"
   },
   "outputs": [],
   "source": [
    "cleaned_data = raw_data #.drop(['f1'],axis = 1, inplace=False)"
   ]
  },
  {
   "cell_type": "code",
   "execution_count": 23,
   "metadata": {
    "colab": {
     "base_uri": "https://localhost:8080/",
     "height": 1000
    },
    "id": "5YuECBs9taB2",
    "outputId": "659092be-fad9-4e71-aef0-f4da46785d46"
   },
   "outputs": [
    {
     "data": {
      "text/html": [
       "<div>\n",
       "<style scoped>\n",
       "    .dataframe tbody tr th:only-of-type {\n",
       "        vertical-align: middle;\n",
       "    }\n",
       "\n",
       "    .dataframe tbody tr th {\n",
       "        vertical-align: top;\n",
       "    }\n",
       "\n",
       "    .dataframe thead th {\n",
       "        text-align: right;\n",
       "    }\n",
       "</style>\n",
       "<table border=\"1\" class=\"dataframe\">\n",
       "  <thead>\n",
       "    <tr style=\"text-align: right;\">\n",
       "      <th></th>\n",
       "      <th>area</th>\n",
       "      <th>perimeter</th>\n",
       "      <th>red_mean</th>\n",
       "      <th>green_mean</th>\n",
       "      <th>blue_mean</th>\n",
       "      <th>f1</th>\n",
       "      <th>f2</th>\n",
       "      <th>red_std</th>\n",
       "      <th>green_std</th>\n",
       "      <th>blue_std</th>\n",
       "      <th>f4</th>\n",
       "      <th>f5</th>\n",
       "      <th>f6</th>\n",
       "      <th>f7</th>\n",
       "      <th>f8</th>\n",
       "      <th>label</th>\n",
       "    </tr>\n",
       "  </thead>\n",
       "  <tbody>\n",
       "    <tr>\n",
       "      <th>area</th>\n",
       "      <td>1.000000</td>\n",
       "      <td>0.923309</td>\n",
       "      <td>0.297200</td>\n",
       "      <td>0.289389</td>\n",
       "      <td>0.279050</td>\n",
       "      <td>0.268648</td>\n",
       "      <td>-0.268648</td>\n",
       "      <td>0.262766</td>\n",
       "      <td>0.048905</td>\n",
       "      <td>0.009301</td>\n",
       "      <td>0.039515</td>\n",
       "      <td>0.183966</td>\n",
       "      <td>-0.404010</td>\n",
       "      <td>-0.409184</td>\n",
       "      <td>-0.001690</td>\n",
       "      <td>-0.083366</td>\n",
       "    </tr>\n",
       "    <tr>\n",
       "      <th>perimeter</th>\n",
       "      <td>0.923309</td>\n",
       "      <td>1.000000</td>\n",
       "      <td>0.129451</td>\n",
       "      <td>0.123017</td>\n",
       "      <td>0.124043</td>\n",
       "      <td>0.126126</td>\n",
       "      <td>-0.126126</td>\n",
       "      <td>0.190323</td>\n",
       "      <td>0.060917</td>\n",
       "      <td>0.042479</td>\n",
       "      <td>0.075568</td>\n",
       "      <td>0.140691</td>\n",
       "      <td>-0.217049</td>\n",
       "      <td>-0.215978</td>\n",
       "      <td>-0.023509</td>\n",
       "      <td>-0.010691</td>\n",
       "    </tr>\n",
       "    <tr>\n",
       "      <th>red_mean</th>\n",
       "      <td>0.297200</td>\n",
       "      <td>0.129451</td>\n",
       "      <td>1.000000</td>\n",
       "      <td>0.922089</td>\n",
       "      <td>0.841150</td>\n",
       "      <td>0.757691</td>\n",
       "      <td>-0.757691</td>\n",
       "      <td>0.642223</td>\n",
       "      <td>0.261047</td>\n",
       "      <td>0.110808</td>\n",
       "      <td>0.122496</td>\n",
       "      <td>0.397997</td>\n",
       "      <td>-0.855043</td>\n",
       "      <td>-0.864171</td>\n",
       "      <td>0.018949</td>\n",
       "      <td>-0.523499</td>\n",
       "    </tr>\n",
       "    <tr>\n",
       "      <th>green_mean</th>\n",
       "      <td>0.289389</td>\n",
       "      <td>0.123017</td>\n",
       "      <td>0.922089</td>\n",
       "      <td>1.000000</td>\n",
       "      <td>0.944314</td>\n",
       "      <td>0.723569</td>\n",
       "      <td>-0.723569</td>\n",
       "      <td>0.487626</td>\n",
       "      <td>0.379264</td>\n",
       "      <td>0.218671</td>\n",
       "      <td>0.098451</td>\n",
       "      <td>0.381727</td>\n",
       "      <td>-0.884613</td>\n",
       "      <td>-0.901377</td>\n",
       "      <td>0.098437</td>\n",
       "      <td>-0.443134</td>\n",
       "    </tr>\n",
       "    <tr>\n",
       "      <th>blue_mean</th>\n",
       "      <td>0.279050</td>\n",
       "      <td>0.124043</td>\n",
       "      <td>0.841150</td>\n",
       "      <td>0.944314</td>\n",
       "      <td>1.000000</td>\n",
       "      <td>0.482163</td>\n",
       "      <td>-0.482163</td>\n",
       "      <td>0.472917</td>\n",
       "      <td>0.449855</td>\n",
       "      <td>0.432840</td>\n",
       "      <td>0.137133</td>\n",
       "      <td>0.393844</td>\n",
       "      <td>-0.827651</td>\n",
       "      <td>-0.838467</td>\n",
       "      <td>0.150709</td>\n",
       "      <td>-0.226333</td>\n",
       "    </tr>\n",
       "    <tr>\n",
       "      <th>f1</th>\n",
       "      <td>0.268648</td>\n",
       "      <td>0.126126</td>\n",
       "      <td>0.757691</td>\n",
       "      <td>0.723569</td>\n",
       "      <td>0.482163</td>\n",
       "      <td>1.000000</td>\n",
       "      <td>-1.000000</td>\n",
       "      <td>0.373021</td>\n",
       "      <td>0.015180</td>\n",
       "      <td>-0.329813</td>\n",
       "      <td>0.030196</td>\n",
       "      <td>0.285332</td>\n",
       "      <td>-0.730959</td>\n",
       "      <td>-0.748792</td>\n",
       "      <td>-0.126072</td>\n",
       "      <td>-0.714218</td>\n",
       "    </tr>\n",
       "    <tr>\n",
       "      <th>f2</th>\n",
       "      <td>-0.268648</td>\n",
       "      <td>-0.126126</td>\n",
       "      <td>-0.757691</td>\n",
       "      <td>-0.723569</td>\n",
       "      <td>-0.482163</td>\n",
       "      <td>-1.000000</td>\n",
       "      <td>1.000000</td>\n",
       "      <td>-0.373021</td>\n",
       "      <td>-0.015180</td>\n",
       "      <td>0.329813</td>\n",
       "      <td>-0.030196</td>\n",
       "      <td>-0.285332</td>\n",
       "      <td>0.730959</td>\n",
       "      <td>0.748792</td>\n",
       "      <td>0.126072</td>\n",
       "      <td>0.714218</td>\n",
       "    </tr>\n",
       "    <tr>\n",
       "      <th>red_std</th>\n",
       "      <td>0.262766</td>\n",
       "      <td>0.190323</td>\n",
       "      <td>0.642223</td>\n",
       "      <td>0.487626</td>\n",
       "      <td>0.472917</td>\n",
       "      <td>0.373021</td>\n",
       "      <td>-0.373021</td>\n",
       "      <td>1.000000</td>\n",
       "      <td>0.594888</td>\n",
       "      <td>0.466991</td>\n",
       "      <td>0.441833</td>\n",
       "      <td>0.489539</td>\n",
       "      <td>-0.453330</td>\n",
       "      <td>-0.418950</td>\n",
       "      <td>-0.009628</td>\n",
       "      <td>-0.248023</td>\n",
       "    </tr>\n",
       "    <tr>\n",
       "      <th>green_std</th>\n",
       "      <td>0.048905</td>\n",
       "      <td>0.060917</td>\n",
       "      <td>0.261047</td>\n",
       "      <td>0.379264</td>\n",
       "      <td>0.449855</td>\n",
       "      <td>0.015180</td>\n",
       "      <td>-0.015180</td>\n",
       "      <td>0.594888</td>\n",
       "      <td>1.000000</td>\n",
       "      <td>0.839365</td>\n",
       "      <td>0.342033</td>\n",
       "      <td>0.266580</td>\n",
       "      <td>-0.129858</td>\n",
       "      <td>-0.109912</td>\n",
       "      <td>0.316203</td>\n",
       "      <td>-0.007136</td>\n",
       "    </tr>\n",
       "    <tr>\n",
       "      <th>blue_std</th>\n",
       "      <td>0.009301</td>\n",
       "      <td>0.042479</td>\n",
       "      <td>0.110808</td>\n",
       "      <td>0.218671</td>\n",
       "      <td>0.432840</td>\n",
       "      <td>-0.329813</td>\n",
       "      <td>0.329813</td>\n",
       "      <td>0.466991</td>\n",
       "      <td>0.839365</td>\n",
       "      <td>1.000000</td>\n",
       "      <td>0.446472</td>\n",
       "      <td>0.332635</td>\n",
       "      <td>-0.047154</td>\n",
       "      <td>-0.010702</td>\n",
       "      <td>0.181130</td>\n",
       "      <td>0.333443</td>\n",
       "    </tr>\n",
       "    <tr>\n",
       "      <th>f4</th>\n",
       "      <td>0.039515</td>\n",
       "      <td>0.075568</td>\n",
       "      <td>0.122496</td>\n",
       "      <td>0.098451</td>\n",
       "      <td>0.137133</td>\n",
       "      <td>0.030196</td>\n",
       "      <td>-0.030196</td>\n",
       "      <td>0.441833</td>\n",
       "      <td>0.342033</td>\n",
       "      <td>0.446472</td>\n",
       "      <td>1.000000</td>\n",
       "      <td>0.903594</td>\n",
       "      <td>-0.216874</td>\n",
       "      <td>-0.108409</td>\n",
       "      <td>-0.740629</td>\n",
       "      <td>0.242421</td>\n",
       "    </tr>\n",
       "    <tr>\n",
       "      <th>f5</th>\n",
       "      <td>0.183966</td>\n",
       "      <td>0.140691</td>\n",
       "      <td>0.397997</td>\n",
       "      <td>0.381727</td>\n",
       "      <td>0.393844</td>\n",
       "      <td>0.285332</td>\n",
       "      <td>-0.285332</td>\n",
       "      <td>0.489539</td>\n",
       "      <td>0.266580</td>\n",
       "      <td>0.332635</td>\n",
       "      <td>0.903594</td>\n",
       "      <td>1.000000</td>\n",
       "      <td>-0.564322</td>\n",
       "      <td>-0.448600</td>\n",
       "      <td>-0.714328</td>\n",
       "      <td>0.108102</td>\n",
       "    </tr>\n",
       "    <tr>\n",
       "      <th>f6</th>\n",
       "      <td>-0.404010</td>\n",
       "      <td>-0.217049</td>\n",
       "      <td>-0.855043</td>\n",
       "      <td>-0.884613</td>\n",
       "      <td>-0.827651</td>\n",
       "      <td>-0.730959</td>\n",
       "      <td>0.730959</td>\n",
       "      <td>-0.453330</td>\n",
       "      <td>-0.129858</td>\n",
       "      <td>-0.047154</td>\n",
       "      <td>-0.216874</td>\n",
       "      <td>-0.564322</td>\n",
       "      <td>1.000000</td>\n",
       "      <td>0.984739</td>\n",
       "      <td>0.160485</td>\n",
       "      <td>0.342426</td>\n",
       "    </tr>\n",
       "    <tr>\n",
       "      <th>f7</th>\n",
       "      <td>-0.409184</td>\n",
       "      <td>-0.215978</td>\n",
       "      <td>-0.864171</td>\n",
       "      <td>-0.901377</td>\n",
       "      <td>-0.838467</td>\n",
       "      <td>-0.748792</td>\n",
       "      <td>0.748792</td>\n",
       "      <td>-0.418950</td>\n",
       "      <td>-0.109912</td>\n",
       "      <td>-0.010702</td>\n",
       "      <td>-0.108409</td>\n",
       "      <td>-0.448600</td>\n",
       "      <td>0.984739</td>\n",
       "      <td>1.000000</td>\n",
       "      <td>0.067710</td>\n",
       "      <td>0.392494</td>\n",
       "    </tr>\n",
       "    <tr>\n",
       "      <th>f8</th>\n",
       "      <td>-0.001690</td>\n",
       "      <td>-0.023509</td>\n",
       "      <td>0.018949</td>\n",
       "      <td>0.098437</td>\n",
       "      <td>0.150709</td>\n",
       "      <td>-0.126072</td>\n",
       "      <td>0.126072</td>\n",
       "      <td>-0.009628</td>\n",
       "      <td>0.316203</td>\n",
       "      <td>0.181130</td>\n",
       "      <td>-0.740629</td>\n",
       "      <td>-0.714328</td>\n",
       "      <td>0.160485</td>\n",
       "      <td>0.067710</td>\n",
       "      <td>1.000000</td>\n",
       "      <td>-0.147340</td>\n",
       "    </tr>\n",
       "    <tr>\n",
       "      <th>label</th>\n",
       "      <td>-0.083366</td>\n",
       "      <td>-0.010691</td>\n",
       "      <td>-0.523499</td>\n",
       "      <td>-0.443134</td>\n",
       "      <td>-0.226333</td>\n",
       "      <td>-0.714218</td>\n",
       "      <td>0.714218</td>\n",
       "      <td>-0.248023</td>\n",
       "      <td>-0.007136</td>\n",
       "      <td>0.333443</td>\n",
       "      <td>0.242421</td>\n",
       "      <td>0.108102</td>\n",
       "      <td>0.342426</td>\n",
       "      <td>0.392494</td>\n",
       "      <td>-0.147340</td>\n",
       "      <td>1.000000</td>\n",
       "    </tr>\n",
       "  </tbody>\n",
       "</table>\n",
       "</div>"
      ],
      "text/plain": [
       "                area  perimeter  red_mean  green_mean  blue_mean        f1  \\\n",
       "area        1.000000   0.923309  0.297200    0.289389   0.279050  0.268648   \n",
       "perimeter   0.923309   1.000000  0.129451    0.123017   0.124043  0.126126   \n",
       "red_mean    0.297200   0.129451  1.000000    0.922089   0.841150  0.757691   \n",
       "green_mean  0.289389   0.123017  0.922089    1.000000   0.944314  0.723569   \n",
       "blue_mean   0.279050   0.124043  0.841150    0.944314   1.000000  0.482163   \n",
       "f1          0.268648   0.126126  0.757691    0.723569   0.482163  1.000000   \n",
       "f2         -0.268648  -0.126126 -0.757691   -0.723569  -0.482163 -1.000000   \n",
       "red_std     0.262766   0.190323  0.642223    0.487626   0.472917  0.373021   \n",
       "green_std   0.048905   0.060917  0.261047    0.379264   0.449855  0.015180   \n",
       "blue_std    0.009301   0.042479  0.110808    0.218671   0.432840 -0.329813   \n",
       "f4          0.039515   0.075568  0.122496    0.098451   0.137133  0.030196   \n",
       "f5          0.183966   0.140691  0.397997    0.381727   0.393844  0.285332   \n",
       "f6         -0.404010  -0.217049 -0.855043   -0.884613  -0.827651 -0.730959   \n",
       "f7         -0.409184  -0.215978 -0.864171   -0.901377  -0.838467 -0.748792   \n",
       "f8         -0.001690  -0.023509  0.018949    0.098437   0.150709 -0.126072   \n",
       "label      -0.083366  -0.010691 -0.523499   -0.443134  -0.226333 -0.714218   \n",
       "\n",
       "                  f2   red_std  green_std  blue_std        f4        f5  \\\n",
       "area       -0.268648  0.262766   0.048905  0.009301  0.039515  0.183966   \n",
       "perimeter  -0.126126  0.190323   0.060917  0.042479  0.075568  0.140691   \n",
       "red_mean   -0.757691  0.642223   0.261047  0.110808  0.122496  0.397997   \n",
       "green_mean -0.723569  0.487626   0.379264  0.218671  0.098451  0.381727   \n",
       "blue_mean  -0.482163  0.472917   0.449855  0.432840  0.137133  0.393844   \n",
       "f1         -1.000000  0.373021   0.015180 -0.329813  0.030196  0.285332   \n",
       "f2          1.000000 -0.373021  -0.015180  0.329813 -0.030196 -0.285332   \n",
       "red_std    -0.373021  1.000000   0.594888  0.466991  0.441833  0.489539   \n",
       "green_std  -0.015180  0.594888   1.000000  0.839365  0.342033  0.266580   \n",
       "blue_std    0.329813  0.466991   0.839365  1.000000  0.446472  0.332635   \n",
       "f4         -0.030196  0.441833   0.342033  0.446472  1.000000  0.903594   \n",
       "f5         -0.285332  0.489539   0.266580  0.332635  0.903594  1.000000   \n",
       "f6          0.730959 -0.453330  -0.129858 -0.047154 -0.216874 -0.564322   \n",
       "f7          0.748792 -0.418950  -0.109912 -0.010702 -0.108409 -0.448600   \n",
       "f8          0.126072 -0.009628   0.316203  0.181130 -0.740629 -0.714328   \n",
       "label       0.714218 -0.248023  -0.007136  0.333443  0.242421  0.108102   \n",
       "\n",
       "                  f6        f7        f8     label  \n",
       "area       -0.404010 -0.409184 -0.001690 -0.083366  \n",
       "perimeter  -0.217049 -0.215978 -0.023509 -0.010691  \n",
       "red_mean   -0.855043 -0.864171  0.018949 -0.523499  \n",
       "green_mean -0.884613 -0.901377  0.098437 -0.443134  \n",
       "blue_mean  -0.827651 -0.838467  0.150709 -0.226333  \n",
       "f1         -0.730959 -0.748792 -0.126072 -0.714218  \n",
       "f2          0.730959  0.748792  0.126072  0.714218  \n",
       "red_std    -0.453330 -0.418950 -0.009628 -0.248023  \n",
       "green_std  -0.129858 -0.109912  0.316203 -0.007136  \n",
       "blue_std   -0.047154 -0.010702  0.181130  0.333443  \n",
       "f4         -0.216874 -0.108409 -0.740629  0.242421  \n",
       "f5         -0.564322 -0.448600 -0.714328  0.108102  \n",
       "f6          1.000000  0.984739  0.160485  0.342426  \n",
       "f7          0.984739  1.000000  0.067710  0.392494  \n",
       "f8          0.160485  0.067710  1.000000 -0.147340  \n",
       "label       0.342426  0.392494 -0.147340  1.000000  "
      ]
     },
     "execution_count": 23,
     "metadata": {},
     "output_type": "execute_result"
    }
   ],
   "source": [
    "cleaned_data.corr(method ='pearson')"
   ]
  },
  {
   "cell_type": "code",
   "execution_count": 24,
   "metadata": {
    "id": "nHFTe4TItiFJ"
   },
   "outputs": [],
   "source": [
    "cleaned_data = cleaned_data.dropna()"
   ]
  },
  {
   "cell_type": "code",
   "execution_count": 25,
   "metadata": {
    "colab": {
     "base_uri": "https://localhost:8080/"
    },
    "id": "1ns2yXu9uXnE",
    "outputId": "81b3083c-7b65-4923-ebe8-674259d14aa4"
   },
   "outputs": [
    {
     "data": {
      "text/plain": [
       "(4346, 16)"
      ]
     },
     "execution_count": 25,
     "metadata": {},
     "output_type": "execute_result"
    }
   ],
   "source": [
    "raw_data.shape"
   ]
  },
  {
   "cell_type": "code",
   "execution_count": 26,
   "metadata": {
    "colab": {
     "base_uri": "https://localhost:8080/"
    },
    "id": "X2iVldJpuZb5",
    "outputId": "44927c0c-ca20-4995-f579-8f113ea7d2f3"
   },
   "outputs": [
    {
     "data": {
      "text/plain": [
       "(4346, 16)"
      ]
     },
     "execution_count": 26,
     "metadata": {},
     "output_type": "execute_result"
    }
   ],
   "source": [
    "cleaned_data.shape"
   ]
  },
  {
   "cell_type": "code",
   "execution_count": 27,
   "metadata": {
    "id": "q1UEsRsTubX5"
   },
   "outputs": [],
   "source": [
    "from sklearn.model_selection import train_test_split\n",
    "from sklearn.metrics import accuracy_score\n",
    "from sklearn.preprocessing import StandardScaler\n",
    "from sklearn.decomposition import PCA\n",
    "from sklearn.svm import SVC\n",
    "from sklearn.metrics import roc_curve, auc\n",
    "from sklearn.model_selection import KFold \n"
   ]
  },
  {
   "cell_type": "code",
   "execution_count": 28,
   "metadata": {
    "id": "ZJg6iy3Mu72T"
   },
   "outputs": [],
   "source": [
    "df = cleaned_data.reset_index()"
   ]
  },
  {
   "cell_type": "code",
   "execution_count": 29,
   "metadata": {
    "colab": {
     "base_uri": "https://localhost:8080/"
    },
    "id": "3DvMWo8rvPW6",
    "outputId": "72d93ebe-2fbe-47b6-903a-ae58e46569e7"
   },
   "outputs": [
    {
     "name": "stdout",
     "output_type": "stream",
     "text": [
      "(4346, 15)\n",
      "(4346,)\n"
     ]
    }
   ],
   "source": [
    "X = df.drop(['index','label'],axis = 1, inplace=False)\n",
    "y = df['label']\n",
    "print(X.shape)\n",
    "print(y.shape)"
   ]
  },
  {
   "cell_type": "code",
   "execution_count": 30,
   "metadata": {
    "colab": {
     "base_uri": "https://localhost:8080/"
    },
    "id": "j723Yu4Xvx_r",
    "outputId": "7d68696b-7a50-4d90-a12e-c3e326ba15d6"
   },
   "outputs": [
    {
     "name": "stdout",
     "output_type": "stream",
     "text": [
      "Score of each fold - [0.8632183908045977, 0.8699654775604143, 0.8780207134637514, 0.8653624856156502, 0.8745684695051784]\n",
      "Avg Score : 0.8702271073899185\n"
     ]
    }
   ],
   "source": [
    "k = 5\n",
    "kf = KFold(n_splits=k, random_state=9, shuffle = True)\n",
    "from sklearn.ensemble import RandomForestClassifier\n",
    "model = RandomForestClassifier(random_state = 50,n_estimators = 50,max_samples = 0.7)\n",
    " \n",
    "acc_score = []\n",
    "\n",
    "for train_index , test_index in kf.split(X):\n",
    "    X_train , X_test = X.iloc[train_index,:],X.iloc[test_index,:]\n",
    "    y_train , y_test = y[train_index] , y[test_index]\n",
    "    model = RandomForestClassifier(random_state = 50,n_estimators = 50,max_samples = 0.7)\n",
    "    model.fit(X_train,y_train)\n",
    "    pred_values = model.predict(X_test)            # classification\n",
    "    acc = accuracy_score(pred_values , y_test)     # Classification\n",
    "\n",
    "    #acc = model.score(X_test,y_test)                # Regression\n",
    "    \n",
    "    acc_score.append(acc)\n",
    "     \n",
    "avg_acc_score = sum(acc_score)/k\n",
    " \n",
    "print('Score of each fold - {}'.format(acc_score))\n",
    "print('Avg Score : {}'.format(avg_acc_score))"
   ]
  },
  {
   "cell_type": "markdown",
   "metadata": {
    "id": "jShjKvkbwtys"
   },
   "source": [
    "# **K- fold Cross validation accuracy:**\n",
    "# **0.8715675675675676**"
   ]
  },
  {
   "cell_type": "markdown",
   "metadata": {
    "id": "MalrrV30xqn8"
   },
   "source": [
    "# ROC Curve"
   ]
  },
  {
   "cell_type": "code",
   "execution_count": 31,
   "metadata": {
    "colab": {
     "base_uri": "https://localhost:8080/",
     "height": 349
    },
    "id": "U_6DxxVXwmJP",
    "outputId": "a133289a-c71b-4af2-8e04-d36b24d2fc40"
   },
   "outputs": [
    {
     "data": {
      "image/png": "[encoded data removed]",
      "text/plain": [
       "<Figure size 432x288 with 1 Axes>"
      ]
     },
     "metadata": {
      "needs_background": "light"
     },
     "output_type": "display_data"
    }
   ],
   "source": [
    "import scikitplot as skplt\n",
    "import matplotlib.pyplot as plt\n",
    "\n",
    "y_true = y_test\n",
    "y_probas = model.predict_proba(X_test)\n",
    "skplt.metrics.plot_roc(y_true, y_probas)\n",
    "\n",
    "plt.show()"
   ]
  },
  {
   "cell_type": "code",
   "execution_count": 32,
   "metadata": {
    "colab": {
     "base_uri": "https://localhost:8080/",
     "height": 296
    },
    "id": "qw0YcxFQx3Mc",
    "outputId": "c83fbdcf-a67a-404f-e8dc-9c8473490392"
   },
   "outputs": [
    {
     "data": {
      "text/plain": [
       "<sklearn.metrics._plot.confusion_matrix.ConfusionMatrixDisplay at 0x7f8d6495f390>"
      ]
     },
     "execution_count": 32,
     "metadata": {},
     "output_type": "execute_result"
    },
    {
     "data": {
      "image/png": "[encoded data removed]",
      "text/plain": [
       "<Figure size 432x288 with 2 Axes>"
      ]
     },
     "metadata": {
      "needs_background": "light"
     },
     "output_type": "display_data"
    }
   ],
   "source": [
    "from sklearn.metrics import plot_confusion_matrix\n",
    "y_pred = model.predict(X_test)\n",
    "plot_confusion_matrix(model, X_test, y_test, values_format = 'd',cmap = 'Blues',display_labels = ['0','1','2','3'])"
   ]
  },
  {
   "cell_type": "code",
   "execution_count": 33,
   "metadata": {
    "colab": {
     "base_uri": "https://localhost:8080/"
    },
    "id": "Gref__vNyWqm",
    "outputId": "ba198a46-5398-482a-a509-72776333aa9d"
   },
   "outputs": [
    {
     "name": "stdout",
     "output_type": "stream",
     "text": [
      "              precision    recall  f1-score   support\n",
      "\n",
      "           0       0.95      0.97      0.96       185\n",
      "           1       0.81      0.85      0.83       230\n",
      "           2       0.88      0.81      0.85       260\n",
      "           3       0.88      0.90      0.89       194\n",
      "\n",
      "    accuracy                           0.87       869\n",
      "   macro avg       0.88      0.88      0.88       869\n",
      "weighted avg       0.88      0.87      0.87       869\n",
      "\n"
     ]
    }
   ],
   "source": [
    "from sklearn.metrics import classification_report\n",
    "\n",
    "print(classification_report(y_test, y_pred, [0,1,2,3]))"
   ]
  },
  {
   "cell_type": "markdown",
   "metadata": {
    "id": "XEl3_kcUzXyY"
   },
   "source": [
    "# Deployment"
   ]
  },
  {
   "cell_type": "code",
   "execution_count": 34,
   "metadata": {
    "colab": {
     "base_uri": "https://localhost:8080/"
    },
    "id": "HY3YfG2py-Jf",
    "outputId": "1ae76c7e-aea2-4ecf-9da4-2c14477c7009"
   },
   "outputs": [
    {
     "name": "stdout",
     "output_type": "stream",
     "text": [
      "Training Score:  0.99516797054763\n"
     ]
    }
   ],
   "source": [
    "from sklearn.ensemble import RandomForestClassifier\n",
    "lm = RandomForestClassifier(random_state = 50,n_estimators = 50,max_samples = 0.7)\n",
    "lm.fit(X,y)\n",
    "print('Training Score: ',lm.score(X,y))"
   ]
  },
  {
   "cell_type": "code",
   "execution_count": 35,
   "metadata": {
    "colab": {
     "base_uri": "https://localhost:8080/"
    },
    "id": "LlyCB8PCy1qh",
    "outputId": "2cc193e3-7c9e-451e-ab77-0df761e46954"
   },
   "outputs": [
    {
     "data": {
      "text/plain": [
       "array([0.03759165, 0.03982278, 0.07321199, 0.06459146, 0.07521416,\n",
       "       0.12648616, 0.13449407, 0.04168529, 0.03845506, 0.05352139,\n",
       "       0.06350827, 0.06329149, 0.04107125, 0.03747648, 0.10957851])"
      ]
     },
     "execution_count": 35,
     "metadata": {},
     "output_type": "execute_result"
    }
   ],
   "source": [
    "lm.feature_importances_"
   ]
  },
  {
   "cell_type": "markdown",
   "metadata": {
    "id": "WyNxpJvA0ycq"
   },
   "source": [
    "# Selected Features"
   ]
  },
  {
   "cell_type": "code",
   "execution_count": 21,
   "metadata": {
    "colab": {
     "base_uri": "https://localhost:8080/"
    },
    "id": "bb17TIJPz5jJ",
    "outputId": "a4d12a70-dffc-46c9-9374-c36c142227d2"
   },
   "outputs": [
    {
     "data": {
      "text/plain": [
       "Index(['area', 'perimeter', 'red_mean', 'green_mean', 'blue_mean', 'f2',\n",
       "       'red_std', 'green_std', 'blue_std', 'f4', 'f5', 'f6', 'f7', 'f8'],\n",
       "      dtype='object')"
      ]
     },
     "execution_count": 21,
     "metadata": {},
     "output_type": "execute_result"
    }
   ],
   "source": [
    "X.columns"
   ]
  },
  {
   "cell_type": "code",
   "execution_count": null,
   "metadata": {
    "id": "m79EqwuG0Wjh"
   },
   "outputs": [],
   "source": []
  }
 ],
 "metadata": {
  "colab": {
   "name": "Apple_DA_and_MD.ipynb",
   "provenance": []
  },
  "kernelspec": {
   "display_name": "plant_env",
   "language": "python",
   "name": "plant_env"
  },
  "language_info": {
   "codemirror_mode": {
    "name": "ipython",
    "version": 3
   },
   "file_extension": ".py",
   "mimetype": "text/x-python",
   "name": "python",
   "nbconvert_exporter": "python",
   "pygments_lexer": "ipython3",
   "version": "3.6.9"
  }
 },
 "nbformat": 4,
 "nbformat_minor": 1
}
