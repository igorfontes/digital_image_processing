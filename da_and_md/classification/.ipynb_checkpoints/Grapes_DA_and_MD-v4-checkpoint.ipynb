{
 "cells": [
  {
   "cell_type": "code",
   "execution_count": 1,
   "metadata": {
    "id": "8Cg54vyTot1W"
   },
   "outputs": [],
   "source": [
    "import pandas as pd\n",
    "import matplotlib.pyplot as plt\n",
    "import numpy as np\n",
    "import seaborn as sns\n",
    "import warnings\n",
    "warnings.filterwarnings('ignore')"
   ]
  },
  {
   "cell_type": "code",
   "execution_count": 2,
   "metadata": {
    "id": "4-v_yHgEowG5"
   },
   "outputs": [],
   "source": [
    "#!pip install openpyxl\n",
    "raw_data = pd.read_excel('../../grapes_dataset_v3.xlsx', engine='openpyxl')"
   ]
  },
  {
   "cell_type": "code",
   "execution_count": 3,
   "metadata": {
    "colab": {
     "base_uri": "https://localhost:8080/"
    },
    "id": "d-UxkVS-sCVa",
    "outputId": "6a77717b-e608-4356-e740-910a8cec0159"
   },
   "outputs": [
    {
     "data": {
      "text/plain": [
       "Unnamed: 0      int64\n",
       "area          float64\n",
       "perimeter     float64\n",
       "red_mean      float64\n",
       "green_mean    float64\n",
       "blue_mean     float64\n",
       "f1            float64\n",
       "f2            float64\n",
       "red_std       float64\n",
       "green_std     float64\n",
       "blue_std      float64\n",
       "f4            float64\n",
       "f5            float64\n",
       "f6            float64\n",
       "f7            float64\n",
       "f8            float64\n",
       "label           int64\n",
       "dtype: object"
      ]
     },
     "execution_count": 3,
     "metadata": {},
     "output_type": "execute_result"
    }
   ],
   "source": [
    "raw_data.dtypes"
   ]
  },
  {
   "cell_type": "code",
   "execution_count": 4,
   "metadata": {
    "id": "6rODIXAEsIiK"
   },
   "outputs": [],
   "source": [
    "raw_data.drop(['Unnamed: 0'],axis = 1, inplace=True)"
   ]
  },
  {
   "cell_type": "code",
   "execution_count": 5,
   "metadata": {
    "colab": {
     "base_uri": "https://localhost:8080/"
    },
    "id": "f3T6y1gVsT2p",
    "outputId": "ab01a558-d67c-4f56-92d5-52ca32f22a78"
   },
   "outputs": [
    {
     "data": {
      "text/plain": [
       "Index(['area', 'perimeter', 'red_mean', 'green_mean', 'blue_mean', 'f1', 'f2',\n",
       "       'red_std', 'green_std', 'blue_std', 'f4', 'f5', 'f6', 'f7', 'f8',\n",
       "       'label'],\n",
       "      dtype='object')"
      ]
     },
     "execution_count": 5,
     "metadata": {},
     "output_type": "execute_result"
    }
   ],
   "source": [
    "raw_data.columns"
   ]
  },
  {
   "cell_type": "code",
   "execution_count": 6,
   "metadata": {
    "colab": {
     "base_uri": "https://localhost:8080/",
     "height": 1000
    },
    "id": "48HQEVsXsWFp",
    "outputId": "69917675-7ac8-48a3-9a77-5f93eeecf880"
   },
   "outputs": [
    {
     "data": {
      "text/html": [
       "<div>\n",
       "<style scoped>\n",
       "    .dataframe tbody tr th:only-of-type {\n",
       "        vertical-align: middle;\n",
       "    }\n",
       "\n",
       "    .dataframe tbody tr th {\n",
       "        vertical-align: top;\n",
       "    }\n",
       "\n",
       "    .dataframe thead th {\n",
       "        text-align: right;\n",
       "    }\n",
       "</style>\n",
       "<table border=\"1\" class=\"dataframe\">\n",
       "  <thead>\n",
       "    <tr style=\"text-align: right;\">\n",
       "      <th></th>\n",
       "      <th>area</th>\n",
       "      <th>perimeter</th>\n",
       "      <th>red_mean</th>\n",
       "      <th>green_mean</th>\n",
       "      <th>blue_mean</th>\n",
       "      <th>f1</th>\n",
       "      <th>f2</th>\n",
       "      <th>red_std</th>\n",
       "      <th>green_std</th>\n",
       "      <th>blue_std</th>\n",
       "      <th>f4</th>\n",
       "      <th>f5</th>\n",
       "      <th>f6</th>\n",
       "      <th>f7</th>\n",
       "      <th>f8</th>\n",
       "      <th>label</th>\n",
       "    </tr>\n",
       "  </thead>\n",
       "  <tbody>\n",
       "    <tr>\n",
       "      <th>area</th>\n",
       "      <td>1.000000</td>\n",
       "      <td>0.915689</td>\n",
       "      <td>0.498508</td>\n",
       "      <td>0.526102</td>\n",
       "      <td>0.536720</td>\n",
       "      <td>0.386643</td>\n",
       "      <td>-0.386643</td>\n",
       "      <td>0.164043</td>\n",
       "      <td>0.020327</td>\n",
       "      <td>0.089172</td>\n",
       "      <td>-0.069942</td>\n",
       "      <td>0.198705</td>\n",
       "      <td>-0.586806</td>\n",
       "      <td>-0.600972</td>\n",
       "      <td>0.101265</td>\n",
       "      <td>0.013294</td>\n",
       "    </tr>\n",
       "    <tr>\n",
       "      <th>perimeter</th>\n",
       "      <td>0.915689</td>\n",
       "      <td>1.000000</td>\n",
       "      <td>0.351330</td>\n",
       "      <td>0.368596</td>\n",
       "      <td>0.382917</td>\n",
       "      <td>0.259644</td>\n",
       "      <td>-0.259644</td>\n",
       "      <td>0.164701</td>\n",
       "      <td>0.075514</td>\n",
       "      <td>0.124030</td>\n",
       "      <td>-0.004534</td>\n",
       "      <td>0.166235</td>\n",
       "      <td>-0.409352</td>\n",
       "      <td>-0.416937</td>\n",
       "      <td>0.082861</td>\n",
       "      <td>0.025601</td>\n",
       "    </tr>\n",
       "    <tr>\n",
       "      <th>red_mean</th>\n",
       "      <td>0.498508</td>\n",
       "      <td>0.351330</td>\n",
       "      <td>1.000000</td>\n",
       "      <td>0.894328</td>\n",
       "      <td>0.826604</td>\n",
       "      <td>0.648440</td>\n",
       "      <td>-0.648440</td>\n",
       "      <td>0.545624</td>\n",
       "      <td>0.178227</td>\n",
       "      <td>0.214722</td>\n",
       "      <td>0.203581</td>\n",
       "      <td>0.503029</td>\n",
       "      <td>-0.859932</td>\n",
       "      <td>-0.862436</td>\n",
       "      <td>-0.079381</td>\n",
       "      <td>-0.261062</td>\n",
       "    </tr>\n",
       "    <tr>\n",
       "      <th>green_mean</th>\n",
       "      <td>0.526102</td>\n",
       "      <td>0.368596</td>\n",
       "      <td>0.894328</td>\n",
       "      <td>1.000000</td>\n",
       "      <td>0.933499</td>\n",
       "      <td>0.840879</td>\n",
       "      <td>-0.840879</td>\n",
       "      <td>0.318320</td>\n",
       "      <td>0.279593</td>\n",
       "      <td>0.257327</td>\n",
       "      <td>0.189717</td>\n",
       "      <td>0.512148</td>\n",
       "      <td>-0.924008</td>\n",
       "      <td>-0.932780</td>\n",
       "      <td>-0.039611</td>\n",
       "      <td>-0.171005</td>\n",
       "    </tr>\n",
       "    <tr>\n",
       "      <th>blue_mean</th>\n",
       "      <td>0.536720</td>\n",
       "      <td>0.382917</td>\n",
       "      <td>0.826604</td>\n",
       "      <td>0.933499</td>\n",
       "      <td>1.000000</td>\n",
       "      <td>0.636601</td>\n",
       "      <td>-0.636601</td>\n",
       "      <td>0.416709</td>\n",
       "      <td>0.366591</td>\n",
       "      <td>0.492612</td>\n",
       "      <td>0.259710</td>\n",
       "      <td>0.552202</td>\n",
       "      <td>-0.875392</td>\n",
       "      <td>-0.871934</td>\n",
       "      <td>0.024350</td>\n",
       "      <td>0.095709</td>\n",
       "    </tr>\n",
       "    <tr>\n",
       "      <th>f1</th>\n",
       "      <td>0.386643</td>\n",
       "      <td>0.259644</td>\n",
       "      <td>0.648440</td>\n",
       "      <td>0.840879</td>\n",
       "      <td>0.636601</td>\n",
       "      <td>1.000000</td>\n",
       "      <td>-1.000000</td>\n",
       "      <td>-0.098479</td>\n",
       "      <td>0.081844</td>\n",
       "      <td>-0.127732</td>\n",
       "      <td>0.011198</td>\n",
       "      <td>0.318254</td>\n",
       "      <td>-0.772609</td>\n",
       "      <td>-0.795432</td>\n",
       "      <td>-0.107701</td>\n",
       "      <td>-0.402477</td>\n",
       "    </tr>\n",
       "    <tr>\n",
       "      <th>f2</th>\n",
       "      <td>-0.386643</td>\n",
       "      <td>-0.259644</td>\n",
       "      <td>-0.648440</td>\n",
       "      <td>-0.840879</td>\n",
       "      <td>-0.636601</td>\n",
       "      <td>-1.000000</td>\n",
       "      <td>1.000000</td>\n",
       "      <td>0.098479</td>\n",
       "      <td>-0.081844</td>\n",
       "      <td>0.127732</td>\n",
       "      <td>-0.011198</td>\n",
       "      <td>-0.318254</td>\n",
       "      <td>0.772609</td>\n",
       "      <td>0.795432</td>\n",
       "      <td>0.107701</td>\n",
       "      <td>0.402477</td>\n",
       "    </tr>\n",
       "    <tr>\n",
       "      <th>red_std</th>\n",
       "      <td>0.164043</td>\n",
       "      <td>0.164701</td>\n",
       "      <td>0.545624</td>\n",
       "      <td>0.318320</td>\n",
       "      <td>0.416709</td>\n",
       "      <td>-0.098479</td>\n",
       "      <td>0.098479</td>\n",
       "      <td>1.000000</td>\n",
       "      <td>0.589919</td>\n",
       "      <td>0.678796</td>\n",
       "      <td>0.477084</td>\n",
       "      <td>0.446286</td>\n",
       "      <td>-0.250273</td>\n",
       "      <td>-0.212570</td>\n",
       "      <td>0.078753</td>\n",
       "      <td>0.092634</td>\n",
       "    </tr>\n",
       "    <tr>\n",
       "      <th>green_std</th>\n",
       "      <td>0.020327</td>\n",
       "      <td>0.075514</td>\n",
       "      <td>0.178227</td>\n",
       "      <td>0.279593</td>\n",
       "      <td>0.366591</td>\n",
       "      <td>0.081844</td>\n",
       "      <td>-0.081844</td>\n",
       "      <td>0.589919</td>\n",
       "      <td>1.000000</td>\n",
       "      <td>0.835820</td>\n",
       "      <td>0.437042</td>\n",
       "      <td>0.295488</td>\n",
       "      <td>-0.054677</td>\n",
       "      <td>-0.033050</td>\n",
       "      <td>0.305213</td>\n",
       "      <td>0.153843</td>\n",
       "    </tr>\n",
       "    <tr>\n",
       "      <th>blue_std</th>\n",
       "      <td>0.089172</td>\n",
       "      <td>0.124030</td>\n",
       "      <td>0.214722</td>\n",
       "      <td>0.257327</td>\n",
       "      <td>0.492612</td>\n",
       "      <td>-0.127732</td>\n",
       "      <td>0.127732</td>\n",
       "      <td>0.678796</td>\n",
       "      <td>0.835820</td>\n",
       "      <td>1.000000</td>\n",
       "      <td>0.516933</td>\n",
       "      <td>0.416249</td>\n",
       "      <td>-0.135519</td>\n",
       "      <td>-0.096483</td>\n",
       "      <td>0.210973</td>\n",
       "      <td>0.447829</td>\n",
       "    </tr>\n",
       "    <tr>\n",
       "      <th>f4</th>\n",
       "      <td>-0.069942</td>\n",
       "      <td>-0.004534</td>\n",
       "      <td>0.203581</td>\n",
       "      <td>0.189717</td>\n",
       "      <td>0.259710</td>\n",
       "      <td>0.011198</td>\n",
       "      <td>-0.011198</td>\n",
       "      <td>0.477084</td>\n",
       "      <td>0.437042</td>\n",
       "      <td>0.516933</td>\n",
       "      <td>1.000000</td>\n",
       "      <td>0.880890</td>\n",
       "      <td>-0.185280</td>\n",
       "      <td>-0.080001</td>\n",
       "      <td>-0.659066</td>\n",
       "      <td>0.298451</td>\n",
       "    </tr>\n",
       "    <tr>\n",
       "      <th>f5</th>\n",
       "      <td>0.198705</td>\n",
       "      <td>0.166235</td>\n",
       "      <td>0.503029</td>\n",
       "      <td>0.512148</td>\n",
       "      <td>0.552202</td>\n",
       "      <td>0.318254</td>\n",
       "      <td>-0.318254</td>\n",
       "      <td>0.446286</td>\n",
       "      <td>0.295488</td>\n",
       "      <td>0.416249</td>\n",
       "      <td>0.880890</td>\n",
       "      <td>1.000000</td>\n",
       "      <td>-0.585519</td>\n",
       "      <td>-0.480203</td>\n",
       "      <td>-0.662754</td>\n",
       "      <td>0.235829</td>\n",
       "    </tr>\n",
       "    <tr>\n",
       "      <th>f6</th>\n",
       "      <td>-0.586806</td>\n",
       "      <td>-0.409352</td>\n",
       "      <td>-0.859932</td>\n",
       "      <td>-0.924008</td>\n",
       "      <td>-0.875392</td>\n",
       "      <td>-0.772609</td>\n",
       "      <td>0.772609</td>\n",
       "      <td>-0.250273</td>\n",
       "      <td>-0.054677</td>\n",
       "      <td>-0.135519</td>\n",
       "      <td>-0.185280</td>\n",
       "      <td>-0.585519</td>\n",
       "      <td>1.000000</td>\n",
       "      <td>0.989602</td>\n",
       "      <td>0.166722</td>\n",
       "      <td>0.097743</td>\n",
       "    </tr>\n",
       "    <tr>\n",
       "      <th>f7</th>\n",
       "      <td>-0.600972</td>\n",
       "      <td>-0.416937</td>\n",
       "      <td>-0.862436</td>\n",
       "      <td>-0.932780</td>\n",
       "      <td>-0.871934</td>\n",
       "      <td>-0.795432</td>\n",
       "      <td>0.795432</td>\n",
       "      <td>-0.212570</td>\n",
       "      <td>-0.033050</td>\n",
       "      <td>-0.096483</td>\n",
       "      <td>-0.080001</td>\n",
       "      <td>-0.480203</td>\n",
       "      <td>0.989602</td>\n",
       "      <td>1.000000</td>\n",
       "      <td>0.078177</td>\n",
       "      <td>0.152285</td>\n",
       "    </tr>\n",
       "    <tr>\n",
       "      <th>f8</th>\n",
       "      <td>0.101265</td>\n",
       "      <td>0.082861</td>\n",
       "      <td>-0.079381</td>\n",
       "      <td>-0.039611</td>\n",
       "      <td>0.024350</td>\n",
       "      <td>-0.107701</td>\n",
       "      <td>0.107701</td>\n",
       "      <td>0.078753</td>\n",
       "      <td>0.305213</td>\n",
       "      <td>0.210973</td>\n",
       "      <td>-0.659066</td>\n",
       "      <td>-0.662754</td>\n",
       "      <td>0.166722</td>\n",
       "      <td>0.078177</td>\n",
       "      <td>1.000000</td>\n",
       "      <td>-0.053267</td>\n",
       "    </tr>\n",
       "    <tr>\n",
       "      <th>label</th>\n",
       "      <td>0.013294</td>\n",
       "      <td>0.025601</td>\n",
       "      <td>-0.261062</td>\n",
       "      <td>-0.171005</td>\n",
       "      <td>0.095709</td>\n",
       "      <td>-0.402477</td>\n",
       "      <td>0.402477</td>\n",
       "      <td>0.092634</td>\n",
       "      <td>0.153843</td>\n",
       "      <td>0.447829</td>\n",
       "      <td>0.298451</td>\n",
       "      <td>0.235829</td>\n",
       "      <td>0.097743</td>\n",
       "      <td>0.152285</td>\n",
       "      <td>-0.053267</td>\n",
       "      <td>1.000000</td>\n",
       "    </tr>\n",
       "  </tbody>\n",
       "</table>\n",
       "</div>"
      ],
      "text/plain": [
       "                area  perimeter  red_mean  green_mean  blue_mean        f1  \\\n",
       "area        1.000000   0.915689  0.498508    0.526102   0.536720  0.386643   \n",
       "perimeter   0.915689   1.000000  0.351330    0.368596   0.382917  0.259644   \n",
       "red_mean    0.498508   0.351330  1.000000    0.894328   0.826604  0.648440   \n",
       "green_mean  0.526102   0.368596  0.894328    1.000000   0.933499  0.840879   \n",
       "blue_mean   0.536720   0.382917  0.826604    0.933499   1.000000  0.636601   \n",
       "f1          0.386643   0.259644  0.648440    0.840879   0.636601  1.000000   \n",
       "f2         -0.386643  -0.259644 -0.648440   -0.840879  -0.636601 -1.000000   \n",
       "red_std     0.164043   0.164701  0.545624    0.318320   0.416709 -0.098479   \n",
       "green_std   0.020327   0.075514  0.178227    0.279593   0.366591  0.081844   \n",
       "blue_std    0.089172   0.124030  0.214722    0.257327   0.492612 -0.127732   \n",
       "f4         -0.069942  -0.004534  0.203581    0.189717   0.259710  0.011198   \n",
       "f5          0.198705   0.166235  0.503029    0.512148   0.552202  0.318254   \n",
       "f6         -0.586806  -0.409352 -0.859932   -0.924008  -0.875392 -0.772609   \n",
       "f7         -0.600972  -0.416937 -0.862436   -0.932780  -0.871934 -0.795432   \n",
       "f8          0.101265   0.082861 -0.079381   -0.039611   0.024350 -0.107701   \n",
       "label       0.013294   0.025601 -0.261062   -0.171005   0.095709 -0.402477   \n",
       "\n",
       "                  f2   red_std  green_std  blue_std        f4        f5  \\\n",
       "area       -0.386643  0.164043   0.020327  0.089172 -0.069942  0.198705   \n",
       "perimeter  -0.259644  0.164701   0.075514  0.124030 -0.004534  0.166235   \n",
       "red_mean   -0.648440  0.545624   0.178227  0.214722  0.203581  0.503029   \n",
       "green_mean -0.840879  0.318320   0.279593  0.257327  0.189717  0.512148   \n",
       "blue_mean  -0.636601  0.416709   0.366591  0.492612  0.259710  0.552202   \n",
       "f1         -1.000000 -0.098479   0.081844 -0.127732  0.011198  0.318254   \n",
       "f2          1.000000  0.098479  -0.081844  0.127732 -0.011198 -0.318254   \n",
       "red_std     0.098479  1.000000   0.589919  0.678796  0.477084  0.446286   \n",
       "green_std  -0.081844  0.589919   1.000000  0.835820  0.437042  0.295488   \n",
       "blue_std    0.127732  0.678796   0.835820  1.000000  0.516933  0.416249   \n",
       "f4         -0.011198  0.477084   0.437042  0.516933  1.000000  0.880890   \n",
       "f5         -0.318254  0.446286   0.295488  0.416249  0.880890  1.000000   \n",
       "f6          0.772609 -0.250273  -0.054677 -0.135519 -0.185280 -0.585519   \n",
       "f7          0.795432 -0.212570  -0.033050 -0.096483 -0.080001 -0.480203   \n",
       "f8          0.107701  0.078753   0.305213  0.210973 -0.659066 -0.662754   \n",
       "label       0.402477  0.092634   0.153843  0.447829  0.298451  0.235829   \n",
       "\n",
       "                  f6        f7        f8     label  \n",
       "area       -0.586806 -0.600972  0.101265  0.013294  \n",
       "perimeter  -0.409352 -0.416937  0.082861  0.025601  \n",
       "red_mean   -0.859932 -0.862436 -0.079381 -0.261062  \n",
       "green_mean -0.924008 -0.932780 -0.039611 -0.171005  \n",
       "blue_mean  -0.875392 -0.871934  0.024350  0.095709  \n",
       "f1         -0.772609 -0.795432 -0.107701 -0.402477  \n",
       "f2          0.772609  0.795432  0.107701  0.402477  \n",
       "red_std    -0.250273 -0.212570  0.078753  0.092634  \n",
       "green_std  -0.054677 -0.033050  0.305213  0.153843  \n",
       "blue_std   -0.135519 -0.096483  0.210973  0.447829  \n",
       "f4         -0.185280 -0.080001 -0.659066  0.298451  \n",
       "f5         -0.585519 -0.480203 -0.662754  0.235829  \n",
       "f6          1.000000  0.989602  0.166722  0.097743  \n",
       "f7          0.989602  1.000000  0.078177  0.152285  \n",
       "f8          0.166722  0.078177  1.000000 -0.053267  \n",
       "label       0.097743  0.152285 -0.053267  1.000000  "
      ]
     },
     "execution_count": 6,
     "metadata": {},
     "output_type": "execute_result"
    }
   ],
   "source": [
    "raw_data.corr(method ='pearson')"
   ]
  },
  {
   "cell_type": "markdown",
   "metadata": {
    "id": "tykbukJOs9oT"
   },
   "source": [
    "**Insights:**\n",
    "\n",
    "Also f1 and f2 are mutually relative So one of them can be removed"
   ]
  },
  {
   "cell_type": "code",
   "execution_count": 7,
   "metadata": {
    "id": "9C4PKZKLs276"
   },
   "outputs": [],
   "source": [
    "cleaned_data = raw_data.drop(['f1'],axis = 1, inplace=False)"
   ]
  },
  {
   "cell_type": "code",
   "execution_count": 8,
   "metadata": {
    "colab": {
     "base_uri": "https://localhost:8080/",
     "height": 1000
    },
    "id": "5YuECBs9taB2",
    "outputId": "659092be-fad9-4e71-aef0-f4da46785d46"
   },
   "outputs": [
    {
     "data": {
      "text/html": [
       "<div>\n",
       "<style scoped>\n",
       "    .dataframe tbody tr th:only-of-type {\n",
       "        vertical-align: middle;\n",
       "    }\n",
       "\n",
       "    .dataframe tbody tr th {\n",
       "        vertical-align: top;\n",
       "    }\n",
       "\n",
       "    .dataframe thead th {\n",
       "        text-align: right;\n",
       "    }\n",
       "</style>\n",
       "<table border=\"1\" class=\"dataframe\">\n",
       "  <thead>\n",
       "    <tr style=\"text-align: right;\">\n",
       "      <th></th>\n",
       "      <th>area</th>\n",
       "      <th>perimeter</th>\n",
       "      <th>red_mean</th>\n",
       "      <th>green_mean</th>\n",
       "      <th>blue_mean</th>\n",
       "      <th>f2</th>\n",
       "      <th>red_std</th>\n",
       "      <th>green_std</th>\n",
       "      <th>blue_std</th>\n",
       "      <th>f4</th>\n",
       "      <th>f5</th>\n",
       "      <th>f6</th>\n",
       "      <th>f7</th>\n",
       "      <th>f8</th>\n",
       "      <th>label</th>\n",
       "    </tr>\n",
       "  </thead>\n",
       "  <tbody>\n",
       "    <tr>\n",
       "      <th>area</th>\n",
       "      <td>1.000000</td>\n",
       "      <td>0.915689</td>\n",
       "      <td>0.498508</td>\n",
       "      <td>0.526102</td>\n",
       "      <td>0.536720</td>\n",
       "      <td>-0.386643</td>\n",
       "      <td>0.164043</td>\n",
       "      <td>0.020327</td>\n",
       "      <td>0.089172</td>\n",
       "      <td>-0.069942</td>\n",
       "      <td>0.198705</td>\n",
       "      <td>-0.586806</td>\n",
       "      <td>-0.600972</td>\n",
       "      <td>0.101265</td>\n",
       "      <td>0.013294</td>\n",
       "    </tr>\n",
       "    <tr>\n",
       "      <th>perimeter</th>\n",
       "      <td>0.915689</td>\n",
       "      <td>1.000000</td>\n",
       "      <td>0.351330</td>\n",
       "      <td>0.368596</td>\n",
       "      <td>0.382917</td>\n",
       "      <td>-0.259644</td>\n",
       "      <td>0.164701</td>\n",
       "      <td>0.075514</td>\n",
       "      <td>0.124030</td>\n",
       "      <td>-0.004534</td>\n",
       "      <td>0.166235</td>\n",
       "      <td>-0.409352</td>\n",
       "      <td>-0.416937</td>\n",
       "      <td>0.082861</td>\n",
       "      <td>0.025601</td>\n",
       "    </tr>\n",
       "    <tr>\n",
       "      <th>red_mean</th>\n",
       "      <td>0.498508</td>\n",
       "      <td>0.351330</td>\n",
       "      <td>1.000000</td>\n",
       "      <td>0.894328</td>\n",
       "      <td>0.826604</td>\n",
       "      <td>-0.648440</td>\n",
       "      <td>0.545624</td>\n",
       "      <td>0.178227</td>\n",
       "      <td>0.214722</td>\n",
       "      <td>0.203581</td>\n",
       "      <td>0.503029</td>\n",
       "      <td>-0.859932</td>\n",
       "      <td>-0.862436</td>\n",
       "      <td>-0.079381</td>\n",
       "      <td>-0.261062</td>\n",
       "    </tr>\n",
       "    <tr>\n",
       "      <th>green_mean</th>\n",
       "      <td>0.526102</td>\n",
       "      <td>0.368596</td>\n",
       "      <td>0.894328</td>\n",
       "      <td>1.000000</td>\n",
       "      <td>0.933499</td>\n",
       "      <td>-0.840879</td>\n",
       "      <td>0.318320</td>\n",
       "      <td>0.279593</td>\n",
       "      <td>0.257327</td>\n",
       "      <td>0.189717</td>\n",
       "      <td>0.512148</td>\n",
       "      <td>-0.924008</td>\n",
       "      <td>-0.932780</td>\n",
       "      <td>-0.039611</td>\n",
       "      <td>-0.171005</td>\n",
       "    </tr>\n",
       "    <tr>\n",
       "      <th>blue_mean</th>\n",
       "      <td>0.536720</td>\n",
       "      <td>0.382917</td>\n",
       "      <td>0.826604</td>\n",
       "      <td>0.933499</td>\n",
       "      <td>1.000000</td>\n",
       "      <td>-0.636601</td>\n",
       "      <td>0.416709</td>\n",
       "      <td>0.366591</td>\n",
       "      <td>0.492612</td>\n",
       "      <td>0.259710</td>\n",
       "      <td>0.552202</td>\n",
       "      <td>-0.875392</td>\n",
       "      <td>-0.871934</td>\n",
       "      <td>0.024350</td>\n",
       "      <td>0.095709</td>\n",
       "    </tr>\n",
       "    <tr>\n",
       "      <th>f2</th>\n",
       "      <td>-0.386643</td>\n",
       "      <td>-0.259644</td>\n",
       "      <td>-0.648440</td>\n",
       "      <td>-0.840879</td>\n",
       "      <td>-0.636601</td>\n",
       "      <td>1.000000</td>\n",
       "      <td>0.098479</td>\n",
       "      <td>-0.081844</td>\n",
       "      <td>0.127732</td>\n",
       "      <td>-0.011198</td>\n",
       "      <td>-0.318254</td>\n",
       "      <td>0.772609</td>\n",
       "      <td>0.795432</td>\n",
       "      <td>0.107701</td>\n",
       "      <td>0.402477</td>\n",
       "    </tr>\n",
       "    <tr>\n",
       "      <th>red_std</th>\n",
       "      <td>0.164043</td>\n",
       "      <td>0.164701</td>\n",
       "      <td>0.545624</td>\n",
       "      <td>0.318320</td>\n",
       "      <td>0.416709</td>\n",
       "      <td>0.098479</td>\n",
       "      <td>1.000000</td>\n",
       "      <td>0.589919</td>\n",
       "      <td>0.678796</td>\n",
       "      <td>0.477084</td>\n",
       "      <td>0.446286</td>\n",
       "      <td>-0.250273</td>\n",
       "      <td>-0.212570</td>\n",
       "      <td>0.078753</td>\n",
       "      <td>0.092634</td>\n",
       "    </tr>\n",
       "    <tr>\n",
       "      <th>green_std</th>\n",
       "      <td>0.020327</td>\n",
       "      <td>0.075514</td>\n",
       "      <td>0.178227</td>\n",
       "      <td>0.279593</td>\n",
       "      <td>0.366591</td>\n",
       "      <td>-0.081844</td>\n",
       "      <td>0.589919</td>\n",
       "      <td>1.000000</td>\n",
       "      <td>0.835820</td>\n",
       "      <td>0.437042</td>\n",
       "      <td>0.295488</td>\n",
       "      <td>-0.054677</td>\n",
       "      <td>-0.033050</td>\n",
       "      <td>0.305213</td>\n",
       "      <td>0.153843</td>\n",
       "    </tr>\n",
       "    <tr>\n",
       "      <th>blue_std</th>\n",
       "      <td>0.089172</td>\n",
       "      <td>0.124030</td>\n",
       "      <td>0.214722</td>\n",
       "      <td>0.257327</td>\n",
       "      <td>0.492612</td>\n",
       "      <td>0.127732</td>\n",
       "      <td>0.678796</td>\n",
       "      <td>0.835820</td>\n",
       "      <td>1.000000</td>\n",
       "      <td>0.516933</td>\n",
       "      <td>0.416249</td>\n",
       "      <td>-0.135519</td>\n",
       "      <td>-0.096483</td>\n",
       "      <td>0.210973</td>\n",
       "      <td>0.447829</td>\n",
       "    </tr>\n",
       "    <tr>\n",
       "      <th>f4</th>\n",
       "      <td>-0.069942</td>\n",
       "      <td>-0.004534</td>\n",
       "      <td>0.203581</td>\n",
       "      <td>0.189717</td>\n",
       "      <td>0.259710</td>\n",
       "      <td>-0.011198</td>\n",
       "      <td>0.477084</td>\n",
       "      <td>0.437042</td>\n",
       "      <td>0.516933</td>\n",
       "      <td>1.000000</td>\n",
       "      <td>0.880890</td>\n",
       "      <td>-0.185280</td>\n",
       "      <td>-0.080001</td>\n",
       "      <td>-0.659066</td>\n",
       "      <td>0.298451</td>\n",
       "    </tr>\n",
       "    <tr>\n",
       "      <th>f5</th>\n",
       "      <td>0.198705</td>\n",
       "      <td>0.166235</td>\n",
       "      <td>0.503029</td>\n",
       "      <td>0.512148</td>\n",
       "      <td>0.552202</td>\n",
       "      <td>-0.318254</td>\n",
       "      <td>0.446286</td>\n",
       "      <td>0.295488</td>\n",
       "      <td>0.416249</td>\n",
       "      <td>0.880890</td>\n",
       "      <td>1.000000</td>\n",
       "      <td>-0.585519</td>\n",
       "      <td>-0.480203</td>\n",
       "      <td>-0.662754</td>\n",
       "      <td>0.235829</td>\n",
       "    </tr>\n",
       "    <tr>\n",
       "      <th>f6</th>\n",
       "      <td>-0.586806</td>\n",
       "      <td>-0.409352</td>\n",
       "      <td>-0.859932</td>\n",
       "      <td>-0.924008</td>\n",
       "      <td>-0.875392</td>\n",
       "      <td>0.772609</td>\n",
       "      <td>-0.250273</td>\n",
       "      <td>-0.054677</td>\n",
       "      <td>-0.135519</td>\n",
       "      <td>-0.185280</td>\n",
       "      <td>-0.585519</td>\n",
       "      <td>1.000000</td>\n",
       "      <td>0.989602</td>\n",
       "      <td>0.166722</td>\n",
       "      <td>0.097743</td>\n",
       "    </tr>\n",
       "    <tr>\n",
       "      <th>f7</th>\n",
       "      <td>-0.600972</td>\n",
       "      <td>-0.416937</td>\n",
       "      <td>-0.862436</td>\n",
       "      <td>-0.932780</td>\n",
       "      <td>-0.871934</td>\n",
       "      <td>0.795432</td>\n",
       "      <td>-0.212570</td>\n",
       "      <td>-0.033050</td>\n",
       "      <td>-0.096483</td>\n",
       "      <td>-0.080001</td>\n",
       "      <td>-0.480203</td>\n",
       "      <td>0.989602</td>\n",
       "      <td>1.000000</td>\n",
       "      <td>0.078177</td>\n",
       "      <td>0.152285</td>\n",
       "    </tr>\n",
       "    <tr>\n",
       "      <th>f8</th>\n",
       "      <td>0.101265</td>\n",
       "      <td>0.082861</td>\n",
       "      <td>-0.079381</td>\n",
       "      <td>-0.039611</td>\n",
       "      <td>0.024350</td>\n",
       "      <td>0.107701</td>\n",
       "      <td>0.078753</td>\n",
       "      <td>0.305213</td>\n",
       "      <td>0.210973</td>\n",
       "      <td>-0.659066</td>\n",
       "      <td>-0.662754</td>\n",
       "      <td>0.166722</td>\n",
       "      <td>0.078177</td>\n",
       "      <td>1.000000</td>\n",
       "      <td>-0.053267</td>\n",
       "    </tr>\n",
       "    <tr>\n",
       "      <th>label</th>\n",
       "      <td>0.013294</td>\n",
       "      <td>0.025601</td>\n",
       "      <td>-0.261062</td>\n",
       "      <td>-0.171005</td>\n",
       "      <td>0.095709</td>\n",
       "      <td>0.402477</td>\n",
       "      <td>0.092634</td>\n",
       "      <td>0.153843</td>\n",
       "      <td>0.447829</td>\n",
       "      <td>0.298451</td>\n",
       "      <td>0.235829</td>\n",
       "      <td>0.097743</td>\n",
       "      <td>0.152285</td>\n",
       "      <td>-0.053267</td>\n",
       "      <td>1.000000</td>\n",
       "    </tr>\n",
       "  </tbody>\n",
       "</table>\n",
       "</div>"
      ],
      "text/plain": [
       "                area  perimeter  red_mean  green_mean  blue_mean        f2  \\\n",
       "area        1.000000   0.915689  0.498508    0.526102   0.536720 -0.386643   \n",
       "perimeter   0.915689   1.000000  0.351330    0.368596   0.382917 -0.259644   \n",
       "red_mean    0.498508   0.351330  1.000000    0.894328   0.826604 -0.648440   \n",
       "green_mean  0.526102   0.368596  0.894328    1.000000   0.933499 -0.840879   \n",
       "blue_mean   0.536720   0.382917  0.826604    0.933499   1.000000 -0.636601   \n",
       "f2         -0.386643  -0.259644 -0.648440   -0.840879  -0.636601  1.000000   \n",
       "red_std     0.164043   0.164701  0.545624    0.318320   0.416709  0.098479   \n",
       "green_std   0.020327   0.075514  0.178227    0.279593   0.366591 -0.081844   \n",
       "blue_std    0.089172   0.124030  0.214722    0.257327   0.492612  0.127732   \n",
       "f4         -0.069942  -0.004534  0.203581    0.189717   0.259710 -0.011198   \n",
       "f5          0.198705   0.166235  0.503029    0.512148   0.552202 -0.318254   \n",
       "f6         -0.586806  -0.409352 -0.859932   -0.924008  -0.875392  0.772609   \n",
       "f7         -0.600972  -0.416937 -0.862436   -0.932780  -0.871934  0.795432   \n",
       "f8          0.101265   0.082861 -0.079381   -0.039611   0.024350  0.107701   \n",
       "label       0.013294   0.025601 -0.261062   -0.171005   0.095709  0.402477   \n",
       "\n",
       "             red_std  green_std  blue_std        f4        f5        f6  \\\n",
       "area        0.164043   0.020327  0.089172 -0.069942  0.198705 -0.586806   \n",
       "perimeter   0.164701   0.075514  0.124030 -0.004534  0.166235 -0.409352   \n",
       "red_mean    0.545624   0.178227  0.214722  0.203581  0.503029 -0.859932   \n",
       "green_mean  0.318320   0.279593  0.257327  0.189717  0.512148 -0.924008   \n",
       "blue_mean   0.416709   0.366591  0.492612  0.259710  0.552202 -0.875392   \n",
       "f2          0.098479  -0.081844  0.127732 -0.011198 -0.318254  0.772609   \n",
       "red_std     1.000000   0.589919  0.678796  0.477084  0.446286 -0.250273   \n",
       "green_std   0.589919   1.000000  0.835820  0.437042  0.295488 -0.054677   \n",
       "blue_std    0.678796   0.835820  1.000000  0.516933  0.416249 -0.135519   \n",
       "f4          0.477084   0.437042  0.516933  1.000000  0.880890 -0.185280   \n",
       "f5          0.446286   0.295488  0.416249  0.880890  1.000000 -0.585519   \n",
       "f6         -0.250273  -0.054677 -0.135519 -0.185280 -0.585519  1.000000   \n",
       "f7         -0.212570  -0.033050 -0.096483 -0.080001 -0.480203  0.989602   \n",
       "f8          0.078753   0.305213  0.210973 -0.659066 -0.662754  0.166722   \n",
       "label       0.092634   0.153843  0.447829  0.298451  0.235829  0.097743   \n",
       "\n",
       "                  f7        f8     label  \n",
       "area       -0.600972  0.101265  0.013294  \n",
       "perimeter  -0.416937  0.082861  0.025601  \n",
       "red_mean   -0.862436 -0.079381 -0.261062  \n",
       "green_mean -0.932780 -0.039611 -0.171005  \n",
       "blue_mean  -0.871934  0.024350  0.095709  \n",
       "f2          0.795432  0.107701  0.402477  \n",
       "red_std    -0.212570  0.078753  0.092634  \n",
       "green_std  -0.033050  0.305213  0.153843  \n",
       "blue_std   -0.096483  0.210973  0.447829  \n",
       "f4         -0.080001 -0.659066  0.298451  \n",
       "f5         -0.480203 -0.662754  0.235829  \n",
       "f6          0.989602  0.166722  0.097743  \n",
       "f7          1.000000  0.078177  0.152285  \n",
       "f8          0.078177  1.000000 -0.053267  \n",
       "label       0.152285 -0.053267  1.000000  "
      ]
     },
     "execution_count": 8,
     "metadata": {},
     "output_type": "execute_result"
    }
   ],
   "source": [
    "cleaned_data.corr(method ='pearson')"
   ]
  },
  {
   "cell_type": "code",
   "execution_count": 9,
   "metadata": {
    "id": "nHFTe4TItiFJ"
   },
   "outputs": [],
   "source": [
    "cleaned_data = cleaned_data.dropna()"
   ]
  },
  {
   "cell_type": "code",
   "execution_count": 10,
   "metadata": {
    "colab": {
     "base_uri": "https://localhost:8080/"
    },
    "id": "1ns2yXu9uXnE",
    "outputId": "81b3083c-7b65-4923-ebe8-674259d14aa4"
   },
   "outputs": [
    {
     "data": {
      "text/plain": [
       "(4052, 16)"
      ]
     },
     "execution_count": 10,
     "metadata": {},
     "output_type": "execute_result"
    }
   ],
   "source": [
    "raw_data.shape"
   ]
  },
  {
   "cell_type": "code",
   "execution_count": 11,
   "metadata": {
    "colab": {
     "base_uri": "https://localhost:8080/"
    },
    "id": "X2iVldJpuZb5",
    "outputId": "44927c0c-ca20-4995-f579-8f113ea7d2f3"
   },
   "outputs": [
    {
     "data": {
      "text/plain": [
       "(4052, 15)"
      ]
     },
     "execution_count": 11,
     "metadata": {},
     "output_type": "execute_result"
    }
   ],
   "source": [
    "cleaned_data.shape"
   ]
  },
  {
   "cell_type": "code",
   "execution_count": 12,
   "metadata": {
    "id": "q1UEsRsTubX5"
   },
   "outputs": [],
   "source": [
    "from sklearn.model_selection import train_test_split\n",
    "from sklearn.metrics import accuracy_score\n",
    "from sklearn.preprocessing import StandardScaler\n",
    "from sklearn.decomposition import PCA\n",
    "from sklearn.svm import SVC\n",
    "from sklearn.metrics import roc_curve, auc\n",
    "from sklearn.model_selection import KFold \n"
   ]
  },
  {
   "cell_type": "code",
   "execution_count": 13,
   "metadata": {
    "id": "ZJg6iy3Mu72T"
   },
   "outputs": [],
   "source": [
    "df = cleaned_data.reset_index()"
   ]
  },
  {
   "cell_type": "code",
   "execution_count": 14,
   "metadata": {
    "colab": {
     "base_uri": "https://localhost:8080/"
    },
    "id": "3DvMWo8rvPW6",
    "outputId": "72d93ebe-2fbe-47b6-903a-ae58e46569e7"
   },
   "outputs": [
    {
     "name": "stdout",
     "output_type": "stream",
     "text": [
      "(4052, 14)\n",
      "(4052,)\n"
     ]
    }
   ],
   "source": [
    "X = df.drop(['index','label'],axis = 1, inplace=False)\n",
    "y = df['label']\n",
    "print(X.shape)\n",
    "print(y.shape)"
   ]
  },
  {
   "cell_type": "code",
   "execution_count": 15,
   "metadata": {
    "colab": {
     "base_uri": "https://localhost:8080/"
    },
    "id": "j723Yu4Xvx_r",
    "outputId": "7d68696b-7a50-4d90-a12e-c3e326ba15d6"
   },
   "outputs": [
    {
     "name": "stdout",
     "output_type": "stream",
     "text": [
      "Score of each fold - [0.872996300863132, 0.8692971639950678, 0.8728395061728395, 0.8580246913580247, 0.854320987654321]\n",
      "Avg Score : 0.8654957300086771\n"
     ]
    }
   ],
   "source": [
    "k = 5\n",
    "kf = KFold(n_splits=k, random_state=9, shuffle = True)\n",
    "from sklearn.ensemble import RandomForestClassifier\n",
    "model = RandomForestClassifier(random_state = 50,n_estimators = 50,max_samples = 0.7)\n",
    " \n",
    "acc_score = []\n",
    "\n",
    "for train_index , test_index in kf.split(X):\n",
    "    X_train , X_test = X.iloc[train_index,:],X.iloc[test_index,:]\n",
    "    y_train , y_test = y[train_index] , y[test_index]\n",
    "    model = RandomForestClassifier(random_state = 50,n_estimators = 50,max_samples = 0.7)\n",
    "    model.fit(X_train,y_train)\n",
    "    pred_values = model.predict(X_test)            # classification\n",
    "    acc = accuracy_score(pred_values , y_test)     # Classification\n",
    "\n",
    "    #acc = model.score(X_test,y_test)                # Regression\n",
    "    \n",
    "    acc_score.append(acc)\n",
    "     \n",
    "avg_acc_score = sum(acc_score)/k\n",
    " \n",
    "print('Score of each fold - {}'.format(acc_score))\n",
    "print('Avg Score : {}'.format(avg_acc_score))"
   ]
  },
  {
   "cell_type": "markdown",
   "metadata": {
    "id": "jShjKvkbwtys"
   },
   "source": [
    "# **K- fold Cross validation accuracy:**\n",
    "# **0.8715675675675676**"
   ]
  },
  {
   "cell_type": "markdown",
   "metadata": {
    "id": "MalrrV30xqn8"
   },
   "source": [
    "# ROC Curve"
   ]
  },
  {
   "cell_type": "code",
   "execution_count": 16,
   "metadata": {
    "colab": {
     "base_uri": "https://localhost:8080/",
     "height": 349
    },
    "id": "U_6DxxVXwmJP",
    "outputId": "a133289a-c71b-4af2-8e04-d36b24d2fc40"
   },
   "outputs": [
    {
     "data": {
      "image/png": "[encoded data removed]",
      "text/plain": [
       "<Figure size 432x288 with 1 Axes>"
      ]
     },
     "metadata": {
      "needs_background": "light"
     },
     "output_type": "display_data"
    }
   ],
   "source": [
    "import scikitplot as skplt\n",
    "import matplotlib.pyplot as plt\n",
    "\n",
    "y_true = y_test\n",
    "y_probas = model.predict_proba(X_test)\n",
    "skplt.metrics.plot_roc(y_true, y_probas)\n",
    "\n",
    "plt.show()"
   ]
  },
  {
   "cell_type": "code",
   "execution_count": 17,
   "metadata": {
    "colab": {
     "base_uri": "https://localhost:8080/",
     "height": 296
    },
    "id": "qw0YcxFQx3Mc",
    "outputId": "c83fbdcf-a67a-404f-e8dc-9c8473490392"
   },
   "outputs": [
    {
     "data": {
      "text/plain": [
       "<sklearn.metrics._plot.confusion_matrix.ConfusionMatrixDisplay at 0x7f60366db8d0>"
      ]
     },
     "execution_count": 17,
     "metadata": {},
     "output_type": "execute_result"
    },
    {
     "data": {
      "image/png": "[encoded data removed]",
      "text/plain": [
       "<Figure size 432x288 with 2 Axes>"
      ]
     },
     "metadata": {
      "needs_background": "light"
     },
     "output_type": "display_data"
    }
   ],
   "source": [
    "from sklearn.metrics import plot_confusion_matrix\n",
    "y_pred = model.predict(X_test)\n",
    "plot_confusion_matrix(model, X_test, y_test, values_format = 'd',cmap = 'Blues',display_labels = ['0','1','2','3'])"
   ]
  },
  {
   "cell_type": "code",
   "execution_count": 18,
   "metadata": {
    "colab": {
     "base_uri": "https://localhost:8080/"
    },
    "id": "Gref__vNyWqm",
    "outputId": "ba198a46-5398-482a-a509-72776333aa9d"
   },
   "outputs": [
    {
     "name": "stdout",
     "output_type": "stream",
     "text": [
      "              precision    recall  f1-score   support\n",
      "\n",
      "           0       0.94      0.96      0.95       179\n",
      "           1       0.74      0.78      0.76       207\n",
      "           2       0.82      0.81      0.82       238\n",
      "           3       0.95      0.89      0.92       186\n",
      "\n",
      "    accuracy                           0.85       810\n",
      "   macro avg       0.86      0.86      0.86       810\n",
      "weighted avg       0.86      0.85      0.86       810\n",
      "\n"
     ]
    }
   ],
   "source": [
    "from sklearn.metrics import classification_report\n",
    "\n",
    "print(classification_report(y_test, y_pred, [0,1,2,3]))"
   ]
  },
  {
   "cell_type": "markdown",
   "metadata": {
    "id": "XEl3_kcUzXyY"
   },
   "source": [
    "# Deployment"
   ]
  },
  {
   "cell_type": "code",
   "execution_count": 19,
   "metadata": {
    "colab": {
     "base_uri": "https://localhost:8080/"
    },
    "id": "HY3YfG2py-Jf",
    "outputId": "1ae76c7e-aea2-4ecf-9da4-2c14477c7009"
   },
   "outputs": [
    {
     "name": "stdout",
     "output_type": "stream",
     "text": [
      "Training Score:  0.9930898321816387\n"
     ]
    }
   ],
   "source": [
    "from sklearn.ensemble import RandomForestClassifier\n",
    "lm = RandomForestClassifier(random_state = 50,n_estimators = 50,max_samples = 0.7)\n",
    "lm.fit(X,y)\n",
    "print('Training Score: ',lm.score(X,y))"
   ]
  },
  {
   "cell_type": "code",
   "execution_count": 20,
   "metadata": {
    "colab": {
     "base_uri": "https://localhost:8080/"
    },
    "id": "LlyCB8PCy1qh",
    "outputId": "2cc193e3-7c9e-451e-ab77-0df761e46954"
   },
   "outputs": [
    {
     "data": {
      "text/plain": [
       "array([0.08141071, 0.06649029, 0.05967401, 0.10846243, 0.08320776,\n",
       "       0.15559596, 0.04308533, 0.03292348, 0.05669539, 0.05467875,\n",
       "       0.05797484, 0.0569992 , 0.06355684, 0.079245  ])"
      ]
     },
     "execution_count": 20,
     "metadata": {},
     "output_type": "execute_result"
    }
   ],
   "source": [
    "lm.feature_importances_"
   ]
  },
  {
   "cell_type": "markdown",
   "metadata": {
    "id": "WyNxpJvA0ycq"
   },
   "source": [
    "# Selected Features"
   ]
  },
  {
   "cell_type": "code",
   "execution_count": 21,
   "metadata": {
    "colab": {
     "base_uri": "https://localhost:8080/"
    },
    "id": "bb17TIJPz5jJ",
    "outputId": "a4d12a70-dffc-46c9-9374-c36c142227d2"
   },
   "outputs": [
    {
     "data": {
      "text/plain": [
       "Index(['area', 'perimeter', 'red_mean', 'green_mean', 'blue_mean', 'f2',\n",
       "       'red_std', 'green_std', 'blue_std', 'f4', 'f5', 'f6', 'f7', 'f8'],\n",
       "      dtype='object')"
      ]
     },
     "execution_count": 21,
     "metadata": {},
     "output_type": "execute_result"
    }
   ],
   "source": [
    "X.columns"
   ]
  },
  {
   "cell_type": "code",
   "execution_count": null,
   "metadata": {
    "id": "m79EqwuG0Wjh"
   },
   "outputs": [],
   "source": []
  }
 ],
 "metadata": {
  "colab": {
   "name": "Apple_DA_and_MD.ipynb",
   "provenance": []
  },
  "kernelspec": {
   "display_name": "plant_env",
   "language": "python",
   "name": "plant_env"
  },
  "language_info": {
   "codemirror_mode": {
    "name": "ipython",
    "version": 3
   },
   "file_extension": ".py",
   "mimetype": "text/x-python",
   "name": "python",
   "nbconvert_exporter": "python",
   "pygments_lexer": "ipython3",
   "version": "3.6.9"
  }
 },
 "nbformat": 4,
 "nbformat_minor": 1
}
