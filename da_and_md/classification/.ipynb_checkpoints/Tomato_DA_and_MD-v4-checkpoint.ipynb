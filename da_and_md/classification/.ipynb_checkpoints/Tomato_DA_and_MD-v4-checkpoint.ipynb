{
 "cells": [
  {
   "cell_type": "code",
   "execution_count": 1,
   "metadata": {
    "id": "8Cg54vyTot1W"
   },
   "outputs": [],
   "source": [
    "import pandas as pd\n",
    "import matplotlib.pyplot as plt\n",
    "import numpy as np\n",
    "import seaborn as sns\n",
    "import warnings\n",
    "warnings.filterwarnings('ignore')"
   ]
  },
  {
   "cell_type": "code",
   "execution_count": 2,
   "metadata": {
    "id": "4-v_yHgEowG5"
   },
   "outputs": [],
   "source": [
    "#!pip install openpyxl\n",
    "raw_data = pd.read_excel('../../tomato_dataset_v3.xlsx', engine='openpyxl')"
   ]
  },
  {
   "cell_type": "code",
   "execution_count": 3,
   "metadata": {
    "colab": {
     "base_uri": "https://localhost:8080/"
    },
    "id": "d-UxkVS-sCVa",
    "outputId": "6a77717b-e608-4356-e740-910a8cec0159"
   },
   "outputs": [
    {
     "data": {
      "text/plain": [
       "Unnamed: 0      int64\n",
       "area          float64\n",
       "perimeter     float64\n",
       "red_mean      float64\n",
       "green_mean    float64\n",
       "blue_mean     float64\n",
       "f1            float64\n",
       "f2            float64\n",
       "red_std       float64\n",
       "green_std     float64\n",
       "blue_std      float64\n",
       "f4            float64\n",
       "f5            float64\n",
       "f6            float64\n",
       "f7            float64\n",
       "f8            float64\n",
       "label           int64\n",
       "dtype: object"
      ]
     },
     "execution_count": 3,
     "metadata": {},
     "output_type": "execute_result"
    }
   ],
   "source": [
    "raw_data.dtypes"
   ]
  },
  {
   "cell_type": "code",
   "execution_count": 4,
   "metadata": {
    "id": "6rODIXAEsIiK"
   },
   "outputs": [],
   "source": [
    "raw_data.drop(['Unnamed: 0'],axis = 1, inplace=True)"
   ]
  },
  {
   "cell_type": "code",
   "execution_count": 5,
   "metadata": {
    "colab": {
     "base_uri": "https://localhost:8080/"
    },
    "id": "f3T6y1gVsT2p",
    "outputId": "ab01a558-d67c-4f56-92d5-52ca32f22a78"
   },
   "outputs": [
    {
     "data": {
      "text/plain": [
       "Index(['area', 'perimeter', 'red_mean', 'green_mean', 'blue_mean', 'f1', 'f2',\n",
       "       'red_std', 'green_std', 'blue_std', 'f4', 'f5', 'f6', 'f7', 'f8',\n",
       "       'label'],\n",
       "      dtype='object')"
      ]
     },
     "execution_count": 5,
     "metadata": {},
     "output_type": "execute_result"
    }
   ],
   "source": [
    "raw_data.columns"
   ]
  },
  {
   "cell_type": "code",
   "execution_count": 6,
   "metadata": {
    "colab": {
     "base_uri": "https://localhost:8080/",
     "height": 1000
    },
    "id": "48HQEVsXsWFp",
    "outputId": "69917675-7ac8-48a3-9a77-5f93eeecf880"
   },
   "outputs": [
    {
     "data": {
      "text/html": [
       "<div>\n",
       "<style scoped>\n",
       "    .dataframe tbody tr th:only-of-type {\n",
       "        vertical-align: middle;\n",
       "    }\n",
       "\n",
       "    .dataframe tbody tr th {\n",
       "        vertical-align: top;\n",
       "    }\n",
       "\n",
       "    .dataframe thead th {\n",
       "        text-align: right;\n",
       "    }\n",
       "</style>\n",
       "<table border=\"1\" class=\"dataframe\">\n",
       "  <thead>\n",
       "    <tr style=\"text-align: right;\">\n",
       "      <th></th>\n",
       "      <th>area</th>\n",
       "      <th>perimeter</th>\n",
       "      <th>red_mean</th>\n",
       "      <th>green_mean</th>\n",
       "      <th>blue_mean</th>\n",
       "      <th>f1</th>\n",
       "      <th>f2</th>\n",
       "      <th>red_std</th>\n",
       "      <th>green_std</th>\n",
       "      <th>blue_std</th>\n",
       "      <th>f4</th>\n",
       "      <th>f5</th>\n",
       "      <th>f6</th>\n",
       "      <th>f7</th>\n",
       "      <th>f8</th>\n",
       "      <th>label</th>\n",
       "    </tr>\n",
       "  </thead>\n",
       "  <tbody>\n",
       "    <tr>\n",
       "      <th>area</th>\n",
       "      <td>1.000000</td>\n",
       "      <td>0.891917</td>\n",
       "      <td>0.469336</td>\n",
       "      <td>0.481343</td>\n",
       "      <td>0.473311</td>\n",
       "      <td>0.090670</td>\n",
       "      <td>-0.090670</td>\n",
       "      <td>0.088464</td>\n",
       "      <td>-0.186410</td>\n",
       "      <td>-0.087289</td>\n",
       "      <td>0.199877</td>\n",
       "      <td>0.259072</td>\n",
       "      <td>-0.496411</td>\n",
       "      <td>-0.549149</td>\n",
       "      <td>-0.275354</td>\n",
       "      <td>-0.069221</td>\n",
       "    </tr>\n",
       "    <tr>\n",
       "      <th>perimeter</th>\n",
       "      <td>0.891917</td>\n",
       "      <td>1.000000</td>\n",
       "      <td>0.288814</td>\n",
       "      <td>0.294440</td>\n",
       "      <td>0.284600</td>\n",
       "      <td>0.080931</td>\n",
       "      <td>-0.080931</td>\n",
       "      <td>0.104010</td>\n",
       "      <td>-0.050409</td>\n",
       "      <td>0.000322</td>\n",
       "      <td>0.113782</td>\n",
       "      <td>0.152644</td>\n",
       "      <td>-0.309434</td>\n",
       "      <td>-0.339580</td>\n",
       "      <td>-0.124456</td>\n",
       "      <td>-0.057570</td>\n",
       "    </tr>\n",
       "    <tr>\n",
       "      <th>red_mean</th>\n",
       "      <td>0.469336</td>\n",
       "      <td>0.288814</td>\n",
       "      <td>1.000000</td>\n",
       "      <td>0.883289</td>\n",
       "      <td>0.929319</td>\n",
       "      <td>-0.042139</td>\n",
       "      <td>0.042139</td>\n",
       "      <td>0.662189</td>\n",
       "      <td>0.123385</td>\n",
       "      <td>0.344396</td>\n",
       "      <td>0.636064</td>\n",
       "      <td>0.718322</td>\n",
       "      <td>-0.884771</td>\n",
       "      <td>-0.850593</td>\n",
       "      <td>-0.589290</td>\n",
       "      <td>-0.089933</td>\n",
       "    </tr>\n",
       "    <tr>\n",
       "      <th>green_mean</th>\n",
       "      <td>0.481343</td>\n",
       "      <td>0.294440</td>\n",
       "      <td>0.883289</td>\n",
       "      <td>1.000000</td>\n",
       "      <td>0.966991</td>\n",
       "      <td>0.296109</td>\n",
       "      <td>-0.296109</td>\n",
       "      <td>0.509393</td>\n",
       "      <td>0.215577</td>\n",
       "      <td>0.304457</td>\n",
       "      <td>0.477743</td>\n",
       "      <td>0.546095</td>\n",
       "      <td>-0.856954</td>\n",
       "      <td>-0.903118</td>\n",
       "      <td>-0.414009</td>\n",
       "      <td>0.078385</td>\n",
       "    </tr>\n",
       "    <tr>\n",
       "      <th>blue_mean</th>\n",
       "      <td>0.473311</td>\n",
       "      <td>0.284600</td>\n",
       "      <td>0.929319</td>\n",
       "      <td>0.966991</td>\n",
       "      <td>1.000000</td>\n",
       "      <td>0.087703</td>\n",
       "      <td>-0.087703</td>\n",
       "      <td>0.593464</td>\n",
       "      <td>0.216751</td>\n",
       "      <td>0.403569</td>\n",
       "      <td>0.565651</td>\n",
       "      <td>0.635442</td>\n",
       "      <td>-0.864011</td>\n",
       "      <td>-0.876213</td>\n",
       "      <td>-0.487060</td>\n",
       "      <td>0.054323</td>\n",
       "    </tr>\n",
       "    <tr>\n",
       "      <th>f1</th>\n",
       "      <td>0.090670</td>\n",
       "      <td>0.080931</td>\n",
       "      <td>-0.042139</td>\n",
       "      <td>0.296109</td>\n",
       "      <td>0.087703</td>\n",
       "      <td>1.000000</td>\n",
       "      <td>-1.000000</td>\n",
       "      <td>-0.216387</td>\n",
       "      <td>0.098095</td>\n",
       "      <td>-0.182542</td>\n",
       "      <td>-0.189620</td>\n",
       "      <td>-0.144886</td>\n",
       "      <td>-0.201508</td>\n",
       "      <td>-0.283618</td>\n",
       "      <td>0.155106</td>\n",
       "      <td>0.080516</td>\n",
       "    </tr>\n",
       "    <tr>\n",
       "      <th>f2</th>\n",
       "      <td>-0.090670</td>\n",
       "      <td>-0.080931</td>\n",
       "      <td>0.042139</td>\n",
       "      <td>-0.296109</td>\n",
       "      <td>-0.087703</td>\n",
       "      <td>-1.000000</td>\n",
       "      <td>1.000000</td>\n",
       "      <td>0.216387</td>\n",
       "      <td>-0.098095</td>\n",
       "      <td>0.182542</td>\n",
       "      <td>0.189620</td>\n",
       "      <td>0.144886</td>\n",
       "      <td>0.201508</td>\n",
       "      <td>0.283618</td>\n",
       "      <td>-0.155106</td>\n",
       "      <td>-0.080516</td>\n",
       "    </tr>\n",
       "    <tr>\n",
       "      <th>red_std</th>\n",
       "      <td>0.088464</td>\n",
       "      <td>0.104010</td>\n",
       "      <td>0.662189</td>\n",
       "      <td>0.509393</td>\n",
       "      <td>0.593464</td>\n",
       "      <td>-0.216387</td>\n",
       "      <td>0.216387</td>\n",
       "      <td>1.000000</td>\n",
       "      <td>0.662072</td>\n",
       "      <td>0.838601</td>\n",
       "      <td>0.645018</td>\n",
       "      <td>0.655560</td>\n",
       "      <td>-0.498964</td>\n",
       "      <td>-0.374180</td>\n",
       "      <td>-0.265472</td>\n",
       "      <td>-0.010730</td>\n",
       "    </tr>\n",
       "    <tr>\n",
       "      <th>green_std</th>\n",
       "      <td>-0.186410</td>\n",
       "      <td>-0.050409</td>\n",
       "      <td>0.123385</td>\n",
       "      <td>0.215577</td>\n",
       "      <td>0.216751</td>\n",
       "      <td>0.098095</td>\n",
       "      <td>-0.098095</td>\n",
       "      <td>0.662072</td>\n",
       "      <td>1.000000</td>\n",
       "      <td>0.878388</td>\n",
       "      <td>0.362387</td>\n",
       "      <td>0.285110</td>\n",
       "      <td>-0.036440</td>\n",
       "      <td>0.045868</td>\n",
       "      <td>0.118361</td>\n",
       "      <td>0.128097</td>\n",
       "    </tr>\n",
       "    <tr>\n",
       "      <th>blue_std</th>\n",
       "      <td>-0.087289</td>\n",
       "      <td>0.000322</td>\n",
       "      <td>0.344396</td>\n",
       "      <td>0.304457</td>\n",
       "      <td>0.403569</td>\n",
       "      <td>-0.182542</td>\n",
       "      <td>0.182542</td>\n",
       "      <td>0.838601</td>\n",
       "      <td>0.878388</td>\n",
       "      <td>1.000000</td>\n",
       "      <td>0.528676</td>\n",
       "      <td>0.499803</td>\n",
       "      <td>-0.241940</td>\n",
       "      <td>-0.111891</td>\n",
       "      <td>-0.074903</td>\n",
       "      <td>0.106215</td>\n",
       "    </tr>\n",
       "    <tr>\n",
       "      <th>f4</th>\n",
       "      <td>0.199877</td>\n",
       "      <td>0.113782</td>\n",
       "      <td>0.636064</td>\n",
       "      <td>0.477743</td>\n",
       "      <td>0.565651</td>\n",
       "      <td>-0.189620</td>\n",
       "      <td>0.189620</td>\n",
       "      <td>0.645018</td>\n",
       "      <td>0.362387</td>\n",
       "      <td>0.528676</td>\n",
       "      <td>1.000000</td>\n",
       "      <td>0.969813</td>\n",
       "      <td>-0.573335</td>\n",
       "      <td>-0.391836</td>\n",
       "      <td>-0.803012</td>\n",
       "      <td>-0.184542</td>\n",
       "    </tr>\n",
       "    <tr>\n",
       "      <th>f5</th>\n",
       "      <td>0.259072</td>\n",
       "      <td>0.152644</td>\n",
       "      <td>0.718322</td>\n",
       "      <td>0.546095</td>\n",
       "      <td>0.635442</td>\n",
       "      <td>-0.144886</td>\n",
       "      <td>0.144886</td>\n",
       "      <td>0.655560</td>\n",
       "      <td>0.285110</td>\n",
       "      <td>0.499803</td>\n",
       "      <td>0.969813</td>\n",
       "      <td>1.000000</td>\n",
       "      <td>-0.709267</td>\n",
       "      <td>-0.514696</td>\n",
       "      <td>-0.827581</td>\n",
       "      <td>-0.153596</td>\n",
       "    </tr>\n",
       "    <tr>\n",
       "      <th>f6</th>\n",
       "      <td>-0.496411</td>\n",
       "      <td>-0.309434</td>\n",
       "      <td>-0.884771</td>\n",
       "      <td>-0.856954</td>\n",
       "      <td>-0.864011</td>\n",
       "      <td>-0.201508</td>\n",
       "      <td>0.201508</td>\n",
       "      <td>-0.498964</td>\n",
       "      <td>-0.036440</td>\n",
       "      <td>-0.241940</td>\n",
       "      <td>-0.573335</td>\n",
       "      <td>-0.709267</td>\n",
       "      <td>1.000000</td>\n",
       "      <td>0.949313</td>\n",
       "      <td>0.577441</td>\n",
       "      <td>0.038867</td>\n",
       "    </tr>\n",
       "    <tr>\n",
       "      <th>f7</th>\n",
       "      <td>-0.549149</td>\n",
       "      <td>-0.339580</td>\n",
       "      <td>-0.850593</td>\n",
       "      <td>-0.903118</td>\n",
       "      <td>-0.876213</td>\n",
       "      <td>-0.283618</td>\n",
       "      <td>0.283618</td>\n",
       "      <td>-0.374180</td>\n",
       "      <td>0.045868</td>\n",
       "      <td>-0.111891</td>\n",
       "      <td>-0.391836</td>\n",
       "      <td>-0.514696</td>\n",
       "      <td>0.949313</td>\n",
       "      <td>1.000000</td>\n",
       "      <td>0.432107</td>\n",
       "      <td>-0.013594</td>\n",
       "    </tr>\n",
       "    <tr>\n",
       "      <th>f8</th>\n",
       "      <td>-0.275354</td>\n",
       "      <td>-0.124456</td>\n",
       "      <td>-0.589290</td>\n",
       "      <td>-0.414009</td>\n",
       "      <td>-0.487060</td>\n",
       "      <td>0.155106</td>\n",
       "      <td>-0.155106</td>\n",
       "      <td>-0.265472</td>\n",
       "      <td>0.118361</td>\n",
       "      <td>-0.074903</td>\n",
       "      <td>-0.803012</td>\n",
       "      <td>-0.827581</td>\n",
       "      <td>0.577441</td>\n",
       "      <td>0.432107</td>\n",
       "      <td>1.000000</td>\n",
       "      <td>0.188402</td>\n",
       "    </tr>\n",
       "    <tr>\n",
       "      <th>label</th>\n",
       "      <td>-0.069221</td>\n",
       "      <td>-0.057570</td>\n",
       "      <td>-0.089933</td>\n",
       "      <td>0.078385</td>\n",
       "      <td>0.054323</td>\n",
       "      <td>0.080516</td>\n",
       "      <td>-0.080516</td>\n",
       "      <td>-0.010730</td>\n",
       "      <td>0.128097</td>\n",
       "      <td>0.106215</td>\n",
       "      <td>-0.184542</td>\n",
       "      <td>-0.153596</td>\n",
       "      <td>0.038867</td>\n",
       "      <td>-0.013594</td>\n",
       "      <td>0.188402</td>\n",
       "      <td>1.000000</td>\n",
       "    </tr>\n",
       "  </tbody>\n",
       "</table>\n",
       "</div>"
      ],
      "text/plain": [
       "                area  perimeter  red_mean  green_mean  blue_mean        f1  \\\n",
       "area        1.000000   0.891917  0.469336    0.481343   0.473311  0.090670   \n",
       "perimeter   0.891917   1.000000  0.288814    0.294440   0.284600  0.080931   \n",
       "red_mean    0.469336   0.288814  1.000000    0.883289   0.929319 -0.042139   \n",
       "green_mean  0.481343   0.294440  0.883289    1.000000   0.966991  0.296109   \n",
       "blue_mean   0.473311   0.284600  0.929319    0.966991   1.000000  0.087703   \n",
       "f1          0.090670   0.080931 -0.042139    0.296109   0.087703  1.000000   \n",
       "f2         -0.090670  -0.080931  0.042139   -0.296109  -0.087703 -1.000000   \n",
       "red_std     0.088464   0.104010  0.662189    0.509393   0.593464 -0.216387   \n",
       "green_std  -0.186410  -0.050409  0.123385    0.215577   0.216751  0.098095   \n",
       "blue_std   -0.087289   0.000322  0.344396    0.304457   0.403569 -0.182542   \n",
       "f4          0.199877   0.113782  0.636064    0.477743   0.565651 -0.189620   \n",
       "f5          0.259072   0.152644  0.718322    0.546095   0.635442 -0.144886   \n",
       "f6         -0.496411  -0.309434 -0.884771   -0.856954  -0.864011 -0.201508   \n",
       "f7         -0.549149  -0.339580 -0.850593   -0.903118  -0.876213 -0.283618   \n",
       "f8         -0.275354  -0.124456 -0.589290   -0.414009  -0.487060  0.155106   \n",
       "label      -0.069221  -0.057570 -0.089933    0.078385   0.054323  0.080516   \n",
       "\n",
       "                  f2   red_std  green_std  blue_std        f4        f5  \\\n",
       "area       -0.090670  0.088464  -0.186410 -0.087289  0.199877  0.259072   \n",
       "perimeter  -0.080931  0.104010  -0.050409  0.000322  0.113782  0.152644   \n",
       "red_mean    0.042139  0.662189   0.123385  0.344396  0.636064  0.718322   \n",
       "green_mean -0.296109  0.509393   0.215577  0.304457  0.477743  0.546095   \n",
       "blue_mean  -0.087703  0.593464   0.216751  0.403569  0.565651  0.635442   \n",
       "f1         -1.000000 -0.216387   0.098095 -0.182542 -0.189620 -0.144886   \n",
       "f2          1.000000  0.216387  -0.098095  0.182542  0.189620  0.144886   \n",
       "red_std     0.216387  1.000000   0.662072  0.838601  0.645018  0.655560   \n",
       "green_std  -0.098095  0.662072   1.000000  0.878388  0.362387  0.285110   \n",
       "blue_std    0.182542  0.838601   0.878388  1.000000  0.528676  0.499803   \n",
       "f4          0.189620  0.645018   0.362387  0.528676  1.000000  0.969813   \n",
       "f5          0.144886  0.655560   0.285110  0.499803  0.969813  1.000000   \n",
       "f6          0.201508 -0.498964  -0.036440 -0.241940 -0.573335 -0.709267   \n",
       "f7          0.283618 -0.374180   0.045868 -0.111891 -0.391836 -0.514696   \n",
       "f8         -0.155106 -0.265472   0.118361 -0.074903 -0.803012 -0.827581   \n",
       "label      -0.080516 -0.010730   0.128097  0.106215 -0.184542 -0.153596   \n",
       "\n",
       "                  f6        f7        f8     label  \n",
       "area       -0.496411 -0.549149 -0.275354 -0.069221  \n",
       "perimeter  -0.309434 -0.339580 -0.124456 -0.057570  \n",
       "red_mean   -0.884771 -0.850593 -0.589290 -0.089933  \n",
       "green_mean -0.856954 -0.903118 -0.414009  0.078385  \n",
       "blue_mean  -0.864011 -0.876213 -0.487060  0.054323  \n",
       "f1         -0.201508 -0.283618  0.155106  0.080516  \n",
       "f2          0.201508  0.283618 -0.155106 -0.080516  \n",
       "red_std    -0.498964 -0.374180 -0.265472 -0.010730  \n",
       "green_std  -0.036440  0.045868  0.118361  0.128097  \n",
       "blue_std   -0.241940 -0.111891 -0.074903  0.106215  \n",
       "f4         -0.573335 -0.391836 -0.803012 -0.184542  \n",
       "f5         -0.709267 -0.514696 -0.827581 -0.153596  \n",
       "f6          1.000000  0.949313  0.577441  0.038867  \n",
       "f7          0.949313  1.000000  0.432107 -0.013594  \n",
       "f8          0.577441  0.432107  1.000000  0.188402  \n",
       "label       0.038867 -0.013594  0.188402  1.000000  "
      ]
     },
     "execution_count": 6,
     "metadata": {},
     "output_type": "execute_result"
    }
   ],
   "source": [
    "raw_data.corr(method ='pearson')"
   ]
  },
  {
   "cell_type": "markdown",
   "metadata": {
    "id": "tykbukJOs9oT"
   },
   "source": [
    "**Insights:**\n",
    "Less correlated features are:\n",
    "- green channel mean\n",
    "- Blue channel mean\n",
    "- green channel std\n",
    "- f4\n",
    "- f5\n",
    "- f6\n",
    "- f7\n",
    "- f8\n",
    "\n",
    "Also f1 and f2 are mutually relative So one of them can be removed"
   ]
  },
  {
   "cell_type": "code",
   "execution_count": 7,
   "metadata": {
    "id": "9C4PKZKLs276"
   },
   "outputs": [],
   "source": [
    "cleaned_data = raw_data.drop(['f1'],axis = 1, inplace=False)"
   ]
  },
  {
   "cell_type": "code",
   "execution_count": 8,
   "metadata": {
    "colab": {
     "base_uri": "https://localhost:8080/",
     "height": 1000
    },
    "id": "5YuECBs9taB2",
    "outputId": "659092be-fad9-4e71-aef0-f4da46785d46"
   },
   "outputs": [
    {
     "data": {
      "text/html": [
       "<div>\n",
       "<style scoped>\n",
       "    .dataframe tbody tr th:only-of-type {\n",
       "        vertical-align: middle;\n",
       "    }\n",
       "\n",
       "    .dataframe tbody tr th {\n",
       "        vertical-align: top;\n",
       "    }\n",
       "\n",
       "    .dataframe thead th {\n",
       "        text-align: right;\n",
       "    }\n",
       "</style>\n",
       "<table border=\"1\" class=\"dataframe\">\n",
       "  <thead>\n",
       "    <tr style=\"text-align: right;\">\n",
       "      <th></th>\n",
       "      <th>area</th>\n",
       "      <th>perimeter</th>\n",
       "      <th>red_mean</th>\n",
       "      <th>green_mean</th>\n",
       "      <th>blue_mean</th>\n",
       "      <th>f2</th>\n",
       "      <th>red_std</th>\n",
       "      <th>green_std</th>\n",
       "      <th>blue_std</th>\n",
       "      <th>f4</th>\n",
       "      <th>f5</th>\n",
       "      <th>f6</th>\n",
       "      <th>f7</th>\n",
       "      <th>f8</th>\n",
       "      <th>label</th>\n",
       "    </tr>\n",
       "  </thead>\n",
       "  <tbody>\n",
       "    <tr>\n",
       "      <th>area</th>\n",
       "      <td>1.000000</td>\n",
       "      <td>0.891917</td>\n",
       "      <td>0.469336</td>\n",
       "      <td>0.481343</td>\n",
       "      <td>0.473311</td>\n",
       "      <td>-0.090670</td>\n",
       "      <td>0.088464</td>\n",
       "      <td>-0.186410</td>\n",
       "      <td>-0.087289</td>\n",
       "      <td>0.199877</td>\n",
       "      <td>0.259072</td>\n",
       "      <td>-0.496411</td>\n",
       "      <td>-0.549149</td>\n",
       "      <td>-0.275354</td>\n",
       "      <td>-0.069221</td>\n",
       "    </tr>\n",
       "    <tr>\n",
       "      <th>perimeter</th>\n",
       "      <td>0.891917</td>\n",
       "      <td>1.000000</td>\n",
       "      <td>0.288814</td>\n",
       "      <td>0.294440</td>\n",
       "      <td>0.284600</td>\n",
       "      <td>-0.080931</td>\n",
       "      <td>0.104010</td>\n",
       "      <td>-0.050409</td>\n",
       "      <td>0.000322</td>\n",
       "      <td>0.113782</td>\n",
       "      <td>0.152644</td>\n",
       "      <td>-0.309434</td>\n",
       "      <td>-0.339580</td>\n",
       "      <td>-0.124456</td>\n",
       "      <td>-0.057570</td>\n",
       "    </tr>\n",
       "    <tr>\n",
       "      <th>red_mean</th>\n",
       "      <td>0.469336</td>\n",
       "      <td>0.288814</td>\n",
       "      <td>1.000000</td>\n",
       "      <td>0.883289</td>\n",
       "      <td>0.929319</td>\n",
       "      <td>0.042139</td>\n",
       "      <td>0.662189</td>\n",
       "      <td>0.123385</td>\n",
       "      <td>0.344396</td>\n",
       "      <td>0.636064</td>\n",
       "      <td>0.718322</td>\n",
       "      <td>-0.884771</td>\n",
       "      <td>-0.850593</td>\n",
       "      <td>-0.589290</td>\n",
       "      <td>-0.089933</td>\n",
       "    </tr>\n",
       "    <tr>\n",
       "      <th>green_mean</th>\n",
       "      <td>0.481343</td>\n",
       "      <td>0.294440</td>\n",
       "      <td>0.883289</td>\n",
       "      <td>1.000000</td>\n",
       "      <td>0.966991</td>\n",
       "      <td>-0.296109</td>\n",
       "      <td>0.509393</td>\n",
       "      <td>0.215577</td>\n",
       "      <td>0.304457</td>\n",
       "      <td>0.477743</td>\n",
       "      <td>0.546095</td>\n",
       "      <td>-0.856954</td>\n",
       "      <td>-0.903118</td>\n",
       "      <td>-0.414009</td>\n",
       "      <td>0.078385</td>\n",
       "    </tr>\n",
       "    <tr>\n",
       "      <th>blue_mean</th>\n",
       "      <td>0.473311</td>\n",
       "      <td>0.284600</td>\n",
       "      <td>0.929319</td>\n",
       "      <td>0.966991</td>\n",
       "      <td>1.000000</td>\n",
       "      <td>-0.087703</td>\n",
       "      <td>0.593464</td>\n",
       "      <td>0.216751</td>\n",
       "      <td>0.403569</td>\n",
       "      <td>0.565651</td>\n",
       "      <td>0.635442</td>\n",
       "      <td>-0.864011</td>\n",
       "      <td>-0.876213</td>\n",
       "      <td>-0.487060</td>\n",
       "      <td>0.054323</td>\n",
       "    </tr>\n",
       "    <tr>\n",
       "      <th>f2</th>\n",
       "      <td>-0.090670</td>\n",
       "      <td>-0.080931</td>\n",
       "      <td>0.042139</td>\n",
       "      <td>-0.296109</td>\n",
       "      <td>-0.087703</td>\n",
       "      <td>1.000000</td>\n",
       "      <td>0.216387</td>\n",
       "      <td>-0.098095</td>\n",
       "      <td>0.182542</td>\n",
       "      <td>0.189620</td>\n",
       "      <td>0.144886</td>\n",
       "      <td>0.201508</td>\n",
       "      <td>0.283618</td>\n",
       "      <td>-0.155106</td>\n",
       "      <td>-0.080516</td>\n",
       "    </tr>\n",
       "    <tr>\n",
       "      <th>red_std</th>\n",
       "      <td>0.088464</td>\n",
       "      <td>0.104010</td>\n",
       "      <td>0.662189</td>\n",
       "      <td>0.509393</td>\n",
       "      <td>0.593464</td>\n",
       "      <td>0.216387</td>\n",
       "      <td>1.000000</td>\n",
       "      <td>0.662072</td>\n",
       "      <td>0.838601</td>\n",
       "      <td>0.645018</td>\n",
       "      <td>0.655560</td>\n",
       "      <td>-0.498964</td>\n",
       "      <td>-0.374180</td>\n",
       "      <td>-0.265472</td>\n",
       "      <td>-0.010730</td>\n",
       "    </tr>\n",
       "    <tr>\n",
       "      <th>green_std</th>\n",
       "      <td>-0.186410</td>\n",
       "      <td>-0.050409</td>\n",
       "      <td>0.123385</td>\n",
       "      <td>0.215577</td>\n",
       "      <td>0.216751</td>\n",
       "      <td>-0.098095</td>\n",
       "      <td>0.662072</td>\n",
       "      <td>1.000000</td>\n",
       "      <td>0.878388</td>\n",
       "      <td>0.362387</td>\n",
       "      <td>0.285110</td>\n",
       "      <td>-0.036440</td>\n",
       "      <td>0.045868</td>\n",
       "      <td>0.118361</td>\n",
       "      <td>0.128097</td>\n",
       "    </tr>\n",
       "    <tr>\n",
       "      <th>blue_std</th>\n",
       "      <td>-0.087289</td>\n",
       "      <td>0.000322</td>\n",
       "      <td>0.344396</td>\n",
       "      <td>0.304457</td>\n",
       "      <td>0.403569</td>\n",
       "      <td>0.182542</td>\n",
       "      <td>0.838601</td>\n",
       "      <td>0.878388</td>\n",
       "      <td>1.000000</td>\n",
       "      <td>0.528676</td>\n",
       "      <td>0.499803</td>\n",
       "      <td>-0.241940</td>\n",
       "      <td>-0.111891</td>\n",
       "      <td>-0.074903</td>\n",
       "      <td>0.106215</td>\n",
       "    </tr>\n",
       "    <tr>\n",
       "      <th>f4</th>\n",
       "      <td>0.199877</td>\n",
       "      <td>0.113782</td>\n",
       "      <td>0.636064</td>\n",
       "      <td>0.477743</td>\n",
       "      <td>0.565651</td>\n",
       "      <td>0.189620</td>\n",
       "      <td>0.645018</td>\n",
       "      <td>0.362387</td>\n",
       "      <td>0.528676</td>\n",
       "      <td>1.000000</td>\n",
       "      <td>0.969813</td>\n",
       "      <td>-0.573335</td>\n",
       "      <td>-0.391836</td>\n",
       "      <td>-0.803012</td>\n",
       "      <td>-0.184542</td>\n",
       "    </tr>\n",
       "    <tr>\n",
       "      <th>f5</th>\n",
       "      <td>0.259072</td>\n",
       "      <td>0.152644</td>\n",
       "      <td>0.718322</td>\n",
       "      <td>0.546095</td>\n",
       "      <td>0.635442</td>\n",
       "      <td>0.144886</td>\n",
       "      <td>0.655560</td>\n",
       "      <td>0.285110</td>\n",
       "      <td>0.499803</td>\n",
       "      <td>0.969813</td>\n",
       "      <td>1.000000</td>\n",
       "      <td>-0.709267</td>\n",
       "      <td>-0.514696</td>\n",
       "      <td>-0.827581</td>\n",
       "      <td>-0.153596</td>\n",
       "    </tr>\n",
       "    <tr>\n",
       "      <th>f6</th>\n",
       "      <td>-0.496411</td>\n",
       "      <td>-0.309434</td>\n",
       "      <td>-0.884771</td>\n",
       "      <td>-0.856954</td>\n",
       "      <td>-0.864011</td>\n",
       "      <td>0.201508</td>\n",
       "      <td>-0.498964</td>\n",
       "      <td>-0.036440</td>\n",
       "      <td>-0.241940</td>\n",
       "      <td>-0.573335</td>\n",
       "      <td>-0.709267</td>\n",
       "      <td>1.000000</td>\n",
       "      <td>0.949313</td>\n",
       "      <td>0.577441</td>\n",
       "      <td>0.038867</td>\n",
       "    </tr>\n",
       "    <tr>\n",
       "      <th>f7</th>\n",
       "      <td>-0.549149</td>\n",
       "      <td>-0.339580</td>\n",
       "      <td>-0.850593</td>\n",
       "      <td>-0.903118</td>\n",
       "      <td>-0.876213</td>\n",
       "      <td>0.283618</td>\n",
       "      <td>-0.374180</td>\n",
       "      <td>0.045868</td>\n",
       "      <td>-0.111891</td>\n",
       "      <td>-0.391836</td>\n",
       "      <td>-0.514696</td>\n",
       "      <td>0.949313</td>\n",
       "      <td>1.000000</td>\n",
       "      <td>0.432107</td>\n",
       "      <td>-0.013594</td>\n",
       "    </tr>\n",
       "    <tr>\n",
       "      <th>f8</th>\n",
       "      <td>-0.275354</td>\n",
       "      <td>-0.124456</td>\n",
       "      <td>-0.589290</td>\n",
       "      <td>-0.414009</td>\n",
       "      <td>-0.487060</td>\n",
       "      <td>-0.155106</td>\n",
       "      <td>-0.265472</td>\n",
       "      <td>0.118361</td>\n",
       "      <td>-0.074903</td>\n",
       "      <td>-0.803012</td>\n",
       "      <td>-0.827581</td>\n",
       "      <td>0.577441</td>\n",
       "      <td>0.432107</td>\n",
       "      <td>1.000000</td>\n",
       "      <td>0.188402</td>\n",
       "    </tr>\n",
       "    <tr>\n",
       "      <th>label</th>\n",
       "      <td>-0.069221</td>\n",
       "      <td>-0.057570</td>\n",
       "      <td>-0.089933</td>\n",
       "      <td>0.078385</td>\n",
       "      <td>0.054323</td>\n",
       "      <td>-0.080516</td>\n",
       "      <td>-0.010730</td>\n",
       "      <td>0.128097</td>\n",
       "      <td>0.106215</td>\n",
       "      <td>-0.184542</td>\n",
       "      <td>-0.153596</td>\n",
       "      <td>0.038867</td>\n",
       "      <td>-0.013594</td>\n",
       "      <td>0.188402</td>\n",
       "      <td>1.000000</td>\n",
       "    </tr>\n",
       "  </tbody>\n",
       "</table>\n",
       "</div>"
      ],
      "text/plain": [
       "                area  perimeter  red_mean  green_mean  blue_mean        f2  \\\n",
       "area        1.000000   0.891917  0.469336    0.481343   0.473311 -0.090670   \n",
       "perimeter   0.891917   1.000000  0.288814    0.294440   0.284600 -0.080931   \n",
       "red_mean    0.469336   0.288814  1.000000    0.883289   0.929319  0.042139   \n",
       "green_mean  0.481343   0.294440  0.883289    1.000000   0.966991 -0.296109   \n",
       "blue_mean   0.473311   0.284600  0.929319    0.966991   1.000000 -0.087703   \n",
       "f2         -0.090670  -0.080931  0.042139   -0.296109  -0.087703  1.000000   \n",
       "red_std     0.088464   0.104010  0.662189    0.509393   0.593464  0.216387   \n",
       "green_std  -0.186410  -0.050409  0.123385    0.215577   0.216751 -0.098095   \n",
       "blue_std   -0.087289   0.000322  0.344396    0.304457   0.403569  0.182542   \n",
       "f4          0.199877   0.113782  0.636064    0.477743   0.565651  0.189620   \n",
       "f5          0.259072   0.152644  0.718322    0.546095   0.635442  0.144886   \n",
       "f6         -0.496411  -0.309434 -0.884771   -0.856954  -0.864011  0.201508   \n",
       "f7         -0.549149  -0.339580 -0.850593   -0.903118  -0.876213  0.283618   \n",
       "f8         -0.275354  -0.124456 -0.589290   -0.414009  -0.487060 -0.155106   \n",
       "label      -0.069221  -0.057570 -0.089933    0.078385   0.054323 -0.080516   \n",
       "\n",
       "             red_std  green_std  blue_std        f4        f5        f6  \\\n",
       "area        0.088464  -0.186410 -0.087289  0.199877  0.259072 -0.496411   \n",
       "perimeter   0.104010  -0.050409  0.000322  0.113782  0.152644 -0.309434   \n",
       "red_mean    0.662189   0.123385  0.344396  0.636064  0.718322 -0.884771   \n",
       "green_mean  0.509393   0.215577  0.304457  0.477743  0.546095 -0.856954   \n",
       "blue_mean   0.593464   0.216751  0.403569  0.565651  0.635442 -0.864011   \n",
       "f2          0.216387  -0.098095  0.182542  0.189620  0.144886  0.201508   \n",
       "red_std     1.000000   0.662072  0.838601  0.645018  0.655560 -0.498964   \n",
       "green_std   0.662072   1.000000  0.878388  0.362387  0.285110 -0.036440   \n",
       "blue_std    0.838601   0.878388  1.000000  0.528676  0.499803 -0.241940   \n",
       "f4          0.645018   0.362387  0.528676  1.000000  0.969813 -0.573335   \n",
       "f5          0.655560   0.285110  0.499803  0.969813  1.000000 -0.709267   \n",
       "f6         -0.498964  -0.036440 -0.241940 -0.573335 -0.709267  1.000000   \n",
       "f7         -0.374180   0.045868 -0.111891 -0.391836 -0.514696  0.949313   \n",
       "f8         -0.265472   0.118361 -0.074903 -0.803012 -0.827581  0.577441   \n",
       "label      -0.010730   0.128097  0.106215 -0.184542 -0.153596  0.038867   \n",
       "\n",
       "                  f7        f8     label  \n",
       "area       -0.549149 -0.275354 -0.069221  \n",
       "perimeter  -0.339580 -0.124456 -0.057570  \n",
       "red_mean   -0.850593 -0.589290 -0.089933  \n",
       "green_mean -0.903118 -0.414009  0.078385  \n",
       "blue_mean  -0.876213 -0.487060  0.054323  \n",
       "f2          0.283618 -0.155106 -0.080516  \n",
       "red_std    -0.374180 -0.265472 -0.010730  \n",
       "green_std   0.045868  0.118361  0.128097  \n",
       "blue_std   -0.111891 -0.074903  0.106215  \n",
       "f4         -0.391836 -0.803012 -0.184542  \n",
       "f5         -0.514696 -0.827581 -0.153596  \n",
       "f6          0.949313  0.577441  0.038867  \n",
       "f7          1.000000  0.432107 -0.013594  \n",
       "f8          0.432107  1.000000  0.188402  \n",
       "label      -0.013594  0.188402  1.000000  "
      ]
     },
     "execution_count": 8,
     "metadata": {},
     "output_type": "execute_result"
    }
   ],
   "source": [
    "cleaned_data.corr(method ='pearson')"
   ]
  },
  {
   "cell_type": "code",
   "execution_count": 9,
   "metadata": {
    "id": "nHFTe4TItiFJ"
   },
   "outputs": [],
   "source": [
    "cleaned_data = cleaned_data.dropna()"
   ]
  },
  {
   "cell_type": "code",
   "execution_count": 10,
   "metadata": {
    "colab": {
     "base_uri": "https://localhost:8080/"
    },
    "id": "1ns2yXu9uXnE",
    "outputId": "81b3083c-7b65-4923-ebe8-674259d14aa4"
   },
   "outputs": [
    {
     "data": {
      "text/plain": [
       "(16047, 16)"
      ]
     },
     "execution_count": 10,
     "metadata": {},
     "output_type": "execute_result"
    }
   ],
   "source": [
    "raw_data.shape"
   ]
  },
  {
   "cell_type": "code",
   "execution_count": 11,
   "metadata": {
    "colab": {
     "base_uri": "https://localhost:8080/"
    },
    "id": "X2iVldJpuZb5",
    "outputId": "44927c0c-ca20-4995-f579-8f113ea7d2f3"
   },
   "outputs": [
    {
     "data": {
      "text/plain": [
       "(16047, 15)"
      ]
     },
     "execution_count": 11,
     "metadata": {},
     "output_type": "execute_result"
    }
   ],
   "source": [
    "cleaned_data.shape"
   ]
  },
  {
   "cell_type": "code",
   "execution_count": 12,
   "metadata": {
    "id": "q1UEsRsTubX5"
   },
   "outputs": [],
   "source": [
    "from sklearn.model_selection import train_test_split\n",
    "from sklearn.metrics import accuracy_score\n",
    "from sklearn.preprocessing import StandardScaler\n",
    "from sklearn.decomposition import PCA\n",
    "from sklearn.svm import SVC\n",
    "from sklearn.metrics import roc_curve, auc\n",
    "from sklearn.model_selection import KFold \n"
   ]
  },
  {
   "cell_type": "code",
   "execution_count": 13,
   "metadata": {
    "id": "ZJg6iy3Mu72T"
   },
   "outputs": [],
   "source": [
    "df = cleaned_data.reset_index()"
   ]
  },
  {
   "cell_type": "code",
   "execution_count": 14,
   "metadata": {
    "colab": {
     "base_uri": "https://localhost:8080/"
    },
    "id": "3DvMWo8rvPW6",
    "outputId": "72d93ebe-2fbe-47b6-903a-ae58e46569e7"
   },
   "outputs": [
    {
     "name": "stdout",
     "output_type": "stream",
     "text": [
      "(16047, 14)\n",
      "(16047,)\n"
     ]
    }
   ],
   "source": [
    "X = df.drop(['index','label'],axis = 1, inplace=False)\n",
    "y = df['label']\n",
    "print(X.shape)\n",
    "print(y.shape)"
   ]
  },
  {
   "cell_type": "code",
   "execution_count": 15,
   "metadata": {
    "colab": {
     "base_uri": "https://localhost:8080/"
    },
    "id": "j723Yu4Xvx_r",
    "outputId": "7d68696b-7a50-4d90-a12e-c3e326ba15d6"
   },
   "outputs": [
    {
     "name": "stdout",
     "output_type": "stream",
     "text": [
      "Score of each fold - [0.7171339563862928, 0.7077881619937695, 0.7011530071673419, 0.70956684325335, 0.6995948893736367]\n",
      "Avg Score : 0.7070473716348782\n"
     ]
    }
   ],
   "source": [
    "k = 5\n",
    "kf = KFold(n_splits=k, random_state=9, shuffle = True)\n",
    "from sklearn.ensemble import RandomForestClassifier\n",
    "model = RandomForestClassifier(random_state = 50,n_estimators = 50,max_samples = 0.7)\n",
    " \n",
    "acc_score = []\n",
    "\n",
    "for train_index , test_index in kf.split(X):\n",
    "    X_train , X_test = X.iloc[train_index,:],X.iloc[test_index,:]\n",
    "    y_train , y_test = y[train_index] , y[test_index]\n",
    "    model = RandomForestClassifier(random_state = 50,n_estimators = 50,max_samples = 0.7)\n",
    "    model.fit(X_train,y_train)\n",
    "    pred_values = model.predict(X_test)            # classification\n",
    "    acc = accuracy_score(pred_values , y_test)     # Classification\n",
    "\n",
    "    #acc = model.score(X_test,y_test)                # Regression\n",
    "    \n",
    "    acc_score.append(acc)\n",
    "     \n",
    "avg_acc_score = sum(acc_score)/k\n",
    " \n",
    "print('Score of each fold - {}'.format(acc_score))\n",
    "print('Avg Score : {}'.format(avg_acc_score))"
   ]
  },
  {
   "cell_type": "markdown",
   "metadata": {
    "id": "jShjKvkbwtys"
   },
   "source": [
    "# **K- fold Cross validation accuracy:**\n",
    "# **0.7126602564102564**"
   ]
  },
  {
   "cell_type": "markdown",
   "metadata": {
    "id": "MalrrV30xqn8"
   },
   "source": [
    "# ROC Curve"
   ]
  },
  {
   "cell_type": "code",
   "execution_count": 16,
   "metadata": {
    "colab": {
     "base_uri": "https://localhost:8080/",
     "height": 349
    },
    "id": "U_6DxxVXwmJP",
    "outputId": "a133289a-c71b-4af2-8e04-d36b24d2fc40"
   },
   "outputs": [
    {
     "data": {
      "image/png": "[encoded data removed]",
      "text/plain": [
       "<Figure size 432x288 with 1 Axes>"
      ]
     },
     "metadata": {
      "needs_background": "light"
     },
     "output_type": "display_data"
    }
   ],
   "source": [
    "import scikitplot as skplt\n",
    "import matplotlib.pyplot as plt\n",
    "\n",
    "y_true = y_test\n",
    "y_probas = model.predict_proba(X_test)\n",
    "skplt.metrics.plot_roc(y_true, y_probas)\n",
    "\n",
    "plt.show()"
   ]
  },
  {
   "cell_type": "code",
   "execution_count": 17,
   "metadata": {
    "colab": {
     "base_uri": "https://localhost:8080/",
     "height": 296
    },
    "id": "qw0YcxFQx3Mc",
    "outputId": "c83fbdcf-a67a-404f-e8dc-9c8473490392"
   },
   "outputs": [
    {
     "data": {
      "text/plain": [
       "<sklearn.metrics._plot.confusion_matrix.ConfusionMatrixDisplay at 0x7f90258adf28>"
      ]
     },
     "execution_count": 17,
     "metadata": {},
     "output_type": "execute_result"
    },
    {
     "data": {
      "image/png": "[encoded data removed]",
      "text/plain": [
       "<Figure size 432x288 with 2 Axes>"
      ]
     },
     "metadata": {
      "needs_background": "light"
     },
     "output_type": "display_data"
    }
   ],
   "source": [
    "from sklearn.metrics import plot_confusion_matrix\n",
    "y_pred = model.predict(X_test)\n",
    "plot_confusion_matrix(model, X_test, y_test, values_format = 'd',cmap = 'Blues',display_labels = ['0','1','2','3','4','5','6','7','8','9'])"
   ]
  },
  {
   "cell_type": "code",
   "execution_count": 18,
   "metadata": {
    "colab": {
     "base_uri": "https://localhost:8080/"
    },
    "id": "Gref__vNyWqm",
    "outputId": "ba198a46-5398-482a-a509-72776333aa9d"
   },
   "outputs": [
    {
     "name": "stdout",
     "output_type": "stream",
     "text": [
      "              precision    recall  f1-score   support\n",
      "\n",
      "           0       0.90      0.89      0.89       280\n",
      "           1       0.70      0.76      0.73       370\n",
      "           2       0.49      0.19      0.27       181\n",
      "           3       0.68      0.57      0.62       346\n",
      "           4       0.70      0.58      0.63       182\n",
      "           5       0.66      0.62      0.64       311\n",
      "           6       0.59      0.64      0.61       258\n",
      "           7       0.57      0.70      0.63       228\n",
      "           8       0.73      0.84      0.78       907\n",
      "           9       0.77      0.66      0.71       146\n",
      "\n",
      "    accuracy                           0.70      3209\n",
      "   macro avg       0.68      0.64      0.65      3209\n",
      "weighted avg       0.69      0.70      0.69      3209\n",
      "\n"
     ]
    }
   ],
   "source": [
    "from sklearn.metrics import classification_report\n",
    "\n",
    "print(classification_report(y_test, y_pred, [i for i in range(0,10)]))"
   ]
  },
  {
   "cell_type": "markdown",
   "metadata": {
    "id": "XEl3_kcUzXyY"
   },
   "source": [
    "# Deployment"
   ]
  },
  {
   "cell_type": "code",
   "execution_count": 19,
   "metadata": {
    "colab": {
     "base_uri": "https://localhost:8080/"
    },
    "id": "HY3YfG2py-Jf",
    "outputId": "1ae76c7e-aea2-4ecf-9da4-2c14477c7009"
   },
   "outputs": [
    {
     "name": "stdout",
     "output_type": "stream",
     "text": [
      "Training Score:  0.9977565900168256\n"
     ]
    }
   ],
   "source": [
    "from sklearn.ensemble import RandomForestClassifier\n",
    "lm = RandomForestClassifier(random_state = 50,n_estimators = 50,max_samples = 0.7)\n",
    "lm.fit(X,y)\n",
    "print('Training Score: ',lm.score(X,y))"
   ]
  },
  {
   "cell_type": "code",
   "execution_count": 20,
   "metadata": {
    "colab": {
     "base_uri": "https://localhost:8080/"
    },
    "id": "LlyCB8PCy1qh",
    "outputId": "2cc193e3-7c9e-451e-ab77-0df761e46954"
   },
   "outputs": [
    {
     "data": {
      "text/plain": [
       "array([0.05825402, 0.04461106, 0.08198821, 0.05836071, 0.05884105,\n",
       "       0.07289247, 0.09641725, 0.08265903, 0.07259998, 0.09018035,\n",
       "       0.08537614, 0.05510835, 0.05359526, 0.08911613])"
      ]
     },
     "execution_count": 20,
     "metadata": {},
     "output_type": "execute_result"
    }
   ],
   "source": [
    "lm.feature_importances_"
   ]
  },
  {
   "cell_type": "markdown",
   "metadata": {
    "id": "WyNxpJvA0ycq"
   },
   "source": [
    "# Selected Features"
   ]
  },
  {
   "cell_type": "code",
   "execution_count": 21,
   "metadata": {
    "colab": {
     "base_uri": "https://localhost:8080/"
    },
    "id": "bb17TIJPz5jJ",
    "outputId": "a4d12a70-dffc-46c9-9374-c36c142227d2"
   },
   "outputs": [
    {
     "data": {
      "text/plain": [
       "Index(['area', 'perimeter', 'red_mean', 'green_mean', 'blue_mean', 'f2',\n",
       "       'red_std', 'green_std', 'blue_std', 'f4', 'f5', 'f6', 'f7', 'f8'],\n",
       "      dtype='object')"
      ]
     },
     "execution_count": 21,
     "metadata": {},
     "output_type": "execute_result"
    }
   ],
   "source": [
    "X.columns"
   ]
  },
  {
   "cell_type": "code",
   "execution_count": null,
   "metadata": {},
   "outputs": [],
   "source": []
  }
 ],
 "metadata": {
  "colab": {
   "name": "Apple_DA_and_MD.ipynb",
   "provenance": []
  },
  "kernelspec": {
   "display_name": "plant_env",
   "language": "python",
   "name": "plant_env"
  },
  "language_info": {
   "codemirror_mode": {
    "name": "ipython",
    "version": 3
   },
   "file_extension": ".py",
   "mimetype": "text/x-python",
   "name": "python",
   "nbconvert_exporter": "python",
   "pygments_lexer": "ipython3",
   "version": "3.6.9"
  }
 },
 "nbformat": 4,
 "nbformat_minor": 1
}
