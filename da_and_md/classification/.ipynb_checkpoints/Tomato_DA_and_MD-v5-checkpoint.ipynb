{
 "cells": [
  {
   "cell_type": "code",
   "execution_count": 1,
   "metadata": {
    "id": "8Cg54vyTot1W"
   },
   "outputs": [],
   "source": [
    "import pandas as pd\n",
    "import matplotlib.pyplot as plt\n",
    "import numpy as np\n",
    "import seaborn as sns\n",
    "import warnings\n",
    "warnings.filterwarnings('ignore')"
   ]
  },
  {
   "cell_type": "code",
   "execution_count": 2,
   "metadata": {
    "id": "4-v_yHgEowG5"
   },
   "outputs": [],
   "source": [
    "#!pip install openpyxl\n",
    "raw_data = pd.read_excel('../../tomato_dataset_v4.xlsx', engine='openpyxl')"
   ]
  },
  {
   "cell_type": "code",
   "execution_count": 3,
   "metadata": {
    "colab": {
     "base_uri": "https://localhost:8080/"
    },
    "id": "d-UxkVS-sCVa",
    "outputId": "6a77717b-e608-4356-e740-910a8cec0159"
   },
   "outputs": [
    {
     "data": {
      "text/plain": [
       "Unnamed: 0      int64\n",
       "area          float64\n",
       "perimeter     float64\n",
       "red_mean      float64\n",
       "green_mean    float64\n",
       "blue_mean     float64\n",
       "f1            float64\n",
       "f2            float64\n",
       "red_std       float64\n",
       "green_std     float64\n",
       "blue_std      float64\n",
       "f4            float64\n",
       "f5            float64\n",
       "f6            float64\n",
       "f7            float64\n",
       "f8            float64\n",
       "label           int64\n",
       "dtype: object"
      ]
     },
     "execution_count": 3,
     "metadata": {},
     "output_type": "execute_result"
    }
   ],
   "source": [
    "raw_data.dtypes"
   ]
  },
  {
   "cell_type": "code",
   "execution_count": 4,
   "metadata": {
    "id": "6rODIXAEsIiK"
   },
   "outputs": [],
   "source": [
    "raw_data.drop(['Unnamed: 0'],axis = 1, inplace=True)"
   ]
  },
  {
   "cell_type": "code",
   "execution_count": 5,
   "metadata": {
    "colab": {
     "base_uri": "https://localhost:8080/"
    },
    "id": "f3T6y1gVsT2p",
    "outputId": "ab01a558-d67c-4f56-92d5-52ca32f22a78"
   },
   "outputs": [
    {
     "data": {
      "text/plain": [
       "Index(['area', 'perimeter', 'red_mean', 'green_mean', 'blue_mean', 'f1', 'f2',\n",
       "       'red_std', 'green_std', 'blue_std', 'f4', 'f5', 'f6', 'f7', 'f8',\n",
       "       'label'],\n",
       "      dtype='object')"
      ]
     },
     "execution_count": 5,
     "metadata": {},
     "output_type": "execute_result"
    }
   ],
   "source": [
    "raw_data.columns"
   ]
  },
  {
   "cell_type": "code",
   "execution_count": 6,
   "metadata": {
    "colab": {
     "base_uri": "https://localhost:8080/",
     "height": 1000
    },
    "id": "48HQEVsXsWFp",
    "outputId": "69917675-7ac8-48a3-9a77-5f93eeecf880"
   },
   "outputs": [
    {
     "data": {
      "text/html": [
       "<div>\n",
       "<style scoped>\n",
       "    .dataframe tbody tr th:only-of-type {\n",
       "        vertical-align: middle;\n",
       "    }\n",
       "\n",
       "    .dataframe tbody tr th {\n",
       "        vertical-align: top;\n",
       "    }\n",
       "\n",
       "    .dataframe thead th {\n",
       "        text-align: right;\n",
       "    }\n",
       "</style>\n",
       "<table border=\"1\" class=\"dataframe\">\n",
       "  <thead>\n",
       "    <tr style=\"text-align: right;\">\n",
       "      <th></th>\n",
       "      <th>area</th>\n",
       "      <th>perimeter</th>\n",
       "      <th>red_mean</th>\n",
       "      <th>green_mean</th>\n",
       "      <th>blue_mean</th>\n",
       "      <th>f1</th>\n",
       "      <th>f2</th>\n",
       "      <th>red_std</th>\n",
       "      <th>green_std</th>\n",
       "      <th>blue_std</th>\n",
       "      <th>f4</th>\n",
       "      <th>f5</th>\n",
       "      <th>f6</th>\n",
       "      <th>f7</th>\n",
       "      <th>f8</th>\n",
       "      <th>label</th>\n",
       "    </tr>\n",
       "  </thead>\n",
       "  <tbody>\n",
       "    <tr>\n",
       "      <th>area</th>\n",
       "      <td>1.000000</td>\n",
       "      <td>0.878334</td>\n",
       "      <td>0.424871</td>\n",
       "      <td>0.449022</td>\n",
       "      <td>0.436068</td>\n",
       "      <td>0.276503</td>\n",
       "      <td>-0.276503</td>\n",
       "      <td>0.077370</td>\n",
       "      <td>-0.085445</td>\n",
       "      <td>-0.053529</td>\n",
       "      <td>-0.146152</td>\n",
       "      <td>-0.005851</td>\n",
       "      <td>-0.501864</td>\n",
       "      <td>-0.560843</td>\n",
       "      <td>0.141009</td>\n",
       "      <td>-0.053439</td>\n",
       "    </tr>\n",
       "    <tr>\n",
       "      <th>perimeter</th>\n",
       "      <td>0.878334</td>\n",
       "      <td>1.000000</td>\n",
       "      <td>0.237255</td>\n",
       "      <td>0.238824</td>\n",
       "      <td>0.233384</td>\n",
       "      <td>0.149544</td>\n",
       "      <td>-0.149544</td>\n",
       "      <td>0.091159</td>\n",
       "      <td>-0.000116</td>\n",
       "      <td>0.026250</td>\n",
       "      <td>-0.065298</td>\n",
       "      <td>0.028115</td>\n",
       "      <td>-0.308997</td>\n",
       "      <td>-0.327175</td>\n",
       "      <td>0.096930</td>\n",
       "      <td>-0.042593</td>\n",
       "    </tr>\n",
       "    <tr>\n",
       "      <th>red_mean</th>\n",
       "      <td>0.424871</td>\n",
       "      <td>0.237255</td>\n",
       "      <td>1.000000</td>\n",
       "      <td>0.894992</td>\n",
       "      <td>0.923466</td>\n",
       "      <td>0.256598</td>\n",
       "      <td>-0.256598</td>\n",
       "      <td>0.709397</td>\n",
       "      <td>0.331157</td>\n",
       "      <td>0.424515</td>\n",
       "      <td>0.058319</td>\n",
       "      <td>0.213061</td>\n",
       "      <td>-0.798978</td>\n",
       "      <td>-0.822672</td>\n",
       "      <td>0.246900</td>\n",
       "      <td>-0.130241</td>\n",
       "    </tr>\n",
       "    <tr>\n",
       "      <th>green_mean</th>\n",
       "      <td>0.449022</td>\n",
       "      <td>0.238824</td>\n",
       "      <td>0.894992</td>\n",
       "      <td>1.000000</td>\n",
       "      <td>0.974558</td>\n",
       "      <td>0.496629</td>\n",
       "      <td>-0.496629</td>\n",
       "      <td>0.557716</td>\n",
       "      <td>0.441231</td>\n",
       "      <td>0.432897</td>\n",
       "      <td>-0.036734</td>\n",
       "      <td>0.096438</td>\n",
       "      <td>-0.809377</td>\n",
       "      <td>-0.876224</td>\n",
       "      <td>0.382054</td>\n",
       "      <td>0.065833</td>\n",
       "    </tr>\n",
       "    <tr>\n",
       "      <th>blue_mean</th>\n",
       "      <td>0.436068</td>\n",
       "      <td>0.233384</td>\n",
       "      <td>0.923466</td>\n",
       "      <td>0.974558</td>\n",
       "      <td>1.000000</td>\n",
       "      <td>0.350531</td>\n",
       "      <td>-0.350531</td>\n",
       "      <td>0.606803</td>\n",
       "      <td>0.423470</td>\n",
       "      <td>0.497466</td>\n",
       "      <td>0.017464</td>\n",
       "      <td>0.138247</td>\n",
       "      <td>-0.783427</td>\n",
       "      <td>-0.847409</td>\n",
       "      <td>0.322763</td>\n",
       "      <td>0.024170</td>\n",
       "    </tr>\n",
       "    <tr>\n",
       "      <th>f1</th>\n",
       "      <td>0.276503</td>\n",
       "      <td>0.149544</td>\n",
       "      <td>0.256598</td>\n",
       "      <td>0.496629</td>\n",
       "      <td>0.350531</td>\n",
       "      <td>1.000000</td>\n",
       "      <td>-1.000000</td>\n",
       "      <td>0.102557</td>\n",
       "      <td>0.265455</td>\n",
       "      <td>0.059021</td>\n",
       "      <td>0.104885</td>\n",
       "      <td>0.223936</td>\n",
       "      <td>-0.539770</td>\n",
       "      <td>-0.528572</td>\n",
       "      <td>0.062983</td>\n",
       "      <td>0.243209</td>\n",
       "    </tr>\n",
       "    <tr>\n",
       "      <th>f2</th>\n",
       "      <td>-0.276503</td>\n",
       "      <td>-0.149544</td>\n",
       "      <td>-0.256598</td>\n",
       "      <td>-0.496629</td>\n",
       "      <td>-0.350531</td>\n",
       "      <td>-1.000000</td>\n",
       "      <td>1.000000</td>\n",
       "      <td>-0.102557</td>\n",
       "      <td>-0.265455</td>\n",
       "      <td>-0.059021</td>\n",
       "      <td>-0.104885</td>\n",
       "      <td>-0.223936</td>\n",
       "      <td>0.539770</td>\n",
       "      <td>0.528572</td>\n",
       "      <td>-0.062983</td>\n",
       "      <td>-0.243209</td>\n",
       "    </tr>\n",
       "    <tr>\n",
       "      <th>red_std</th>\n",
       "      <td>0.077370</td>\n",
       "      <td>0.091159</td>\n",
       "      <td>0.709397</td>\n",
       "      <td>0.557716</td>\n",
       "      <td>0.606803</td>\n",
       "      <td>0.102557</td>\n",
       "      <td>-0.102557</td>\n",
       "      <td>1.000000</td>\n",
       "      <td>0.705554</td>\n",
       "      <td>0.804552</td>\n",
       "      <td>0.482733</td>\n",
       "      <td>0.519676</td>\n",
       "      <td>-0.501660</td>\n",
       "      <td>-0.430145</td>\n",
       "      <td>0.026538</td>\n",
       "      <td>-0.168326</td>\n",
       "    </tr>\n",
       "    <tr>\n",
       "      <th>green_std</th>\n",
       "      <td>-0.085445</td>\n",
       "      <td>-0.000116</td>\n",
       "      <td>0.331157</td>\n",
       "      <td>0.441231</td>\n",
       "      <td>0.423470</td>\n",
       "      <td>0.265455</td>\n",
       "      <td>-0.265455</td>\n",
       "      <td>0.705554</td>\n",
       "      <td>1.000000</td>\n",
       "      <td>0.910038</td>\n",
       "      <td>0.438391</td>\n",
       "      <td>0.390143</td>\n",
       "      <td>-0.261171</td>\n",
       "      <td>-0.204882</td>\n",
       "      <td>0.170155</td>\n",
       "      <td>0.096415</td>\n",
       "    </tr>\n",
       "    <tr>\n",
       "      <th>blue_std</th>\n",
       "      <td>-0.053529</td>\n",
       "      <td>0.026250</td>\n",
       "      <td>0.424515</td>\n",
       "      <td>0.432897</td>\n",
       "      <td>0.497466</td>\n",
       "      <td>0.059021</td>\n",
       "      <td>-0.059021</td>\n",
       "      <td>0.804552</td>\n",
       "      <td>0.910038</td>\n",
       "      <td>1.000000</td>\n",
       "      <td>0.513601</td>\n",
       "      <td>0.479349</td>\n",
       "      <td>-0.307380</td>\n",
       "      <td>-0.237487</td>\n",
       "      <td>0.068799</td>\n",
       "      <td>-0.025360</td>\n",
       "    </tr>\n",
       "    <tr>\n",
       "      <th>f4</th>\n",
       "      <td>-0.146152</td>\n",
       "      <td>-0.065298</td>\n",
       "      <td>0.058319</td>\n",
       "      <td>-0.036734</td>\n",
       "      <td>0.017464</td>\n",
       "      <td>0.104885</td>\n",
       "      <td>-0.104885</td>\n",
       "      <td>0.482733</td>\n",
       "      <td>0.438391</td>\n",
       "      <td>0.513601</td>\n",
       "      <td>1.000000</td>\n",
       "      <td>0.928762</td>\n",
       "      <td>-0.104886</td>\n",
       "      <td>0.065910</td>\n",
       "      <td>-0.752550</td>\n",
       "      <td>-0.108675</td>\n",
       "    </tr>\n",
       "    <tr>\n",
       "      <th>f5</th>\n",
       "      <td>-0.005851</td>\n",
       "      <td>0.028115</td>\n",
       "      <td>0.213061</td>\n",
       "      <td>0.096438</td>\n",
       "      <td>0.138247</td>\n",
       "      <td>0.223936</td>\n",
       "      <td>-0.223936</td>\n",
       "      <td>0.519676</td>\n",
       "      <td>0.390143</td>\n",
       "      <td>0.479349</td>\n",
       "      <td>0.928762</td>\n",
       "      <td>1.000000</td>\n",
       "      <td>-0.369158</td>\n",
       "      <td>-0.154882</td>\n",
       "      <td>-0.695220</td>\n",
       "      <td>-0.107442</td>\n",
       "    </tr>\n",
       "    <tr>\n",
       "      <th>f6</th>\n",
       "      <td>-0.501864</td>\n",
       "      <td>-0.308997</td>\n",
       "      <td>-0.798978</td>\n",
       "      <td>-0.809377</td>\n",
       "      <td>-0.783427</td>\n",
       "      <td>-0.539770</td>\n",
       "      <td>0.539770</td>\n",
       "      <td>-0.501660</td>\n",
       "      <td>-0.261171</td>\n",
       "      <td>-0.307380</td>\n",
       "      <td>-0.104886</td>\n",
       "      <td>-0.369158</td>\n",
       "      <td>1.000000</td>\n",
       "      <td>0.952161</td>\n",
       "      <td>-0.151547</td>\n",
       "      <td>0.067716</td>\n",
       "    </tr>\n",
       "    <tr>\n",
       "      <th>f7</th>\n",
       "      <td>-0.560843</td>\n",
       "      <td>-0.327175</td>\n",
       "      <td>-0.822672</td>\n",
       "      <td>-0.876224</td>\n",
       "      <td>-0.847409</td>\n",
       "      <td>-0.528572</td>\n",
       "      <td>0.528572</td>\n",
       "      <td>-0.430145</td>\n",
       "      <td>-0.204882</td>\n",
       "      <td>-0.237487</td>\n",
       "      <td>0.065910</td>\n",
       "      <td>-0.154882</td>\n",
       "      <td>0.952161</td>\n",
       "      <td>1.000000</td>\n",
       "      <td>-0.291654</td>\n",
       "      <td>0.029136</td>\n",
       "    </tr>\n",
       "    <tr>\n",
       "      <th>f8</th>\n",
       "      <td>0.141009</td>\n",
       "      <td>0.096930</td>\n",
       "      <td>0.246900</td>\n",
       "      <td>0.382054</td>\n",
       "      <td>0.322763</td>\n",
       "      <td>0.062983</td>\n",
       "      <td>-0.062983</td>\n",
       "      <td>0.026538</td>\n",
       "      <td>0.170155</td>\n",
       "      <td>0.068799</td>\n",
       "      <td>-0.752550</td>\n",
       "      <td>-0.695220</td>\n",
       "      <td>-0.151547</td>\n",
       "      <td>-0.291654</td>\n",
       "      <td>1.000000</td>\n",
       "      <td>0.094324</td>\n",
       "    </tr>\n",
       "    <tr>\n",
       "      <th>label</th>\n",
       "      <td>-0.053439</td>\n",
       "      <td>-0.042593</td>\n",
       "      <td>-0.130241</td>\n",
       "      <td>0.065833</td>\n",
       "      <td>0.024170</td>\n",
       "      <td>0.243209</td>\n",
       "      <td>-0.243209</td>\n",
       "      <td>-0.168326</td>\n",
       "      <td>0.096415</td>\n",
       "      <td>-0.025360</td>\n",
       "      <td>-0.108675</td>\n",
       "      <td>-0.107442</td>\n",
       "      <td>0.067716</td>\n",
       "      <td>0.029136</td>\n",
       "      <td>0.094324</td>\n",
       "      <td>1.000000</td>\n",
       "    </tr>\n",
       "  </tbody>\n",
       "</table>\n",
       "</div>"
      ],
      "text/plain": [
       "                area  perimeter  red_mean  green_mean  blue_mean        f1  \\\n",
       "area        1.000000   0.878334  0.424871    0.449022   0.436068  0.276503   \n",
       "perimeter   0.878334   1.000000  0.237255    0.238824   0.233384  0.149544   \n",
       "red_mean    0.424871   0.237255  1.000000    0.894992   0.923466  0.256598   \n",
       "green_mean  0.449022   0.238824  0.894992    1.000000   0.974558  0.496629   \n",
       "blue_mean   0.436068   0.233384  0.923466    0.974558   1.000000  0.350531   \n",
       "f1          0.276503   0.149544  0.256598    0.496629   0.350531  1.000000   \n",
       "f2         -0.276503  -0.149544 -0.256598   -0.496629  -0.350531 -1.000000   \n",
       "red_std     0.077370   0.091159  0.709397    0.557716   0.606803  0.102557   \n",
       "green_std  -0.085445  -0.000116  0.331157    0.441231   0.423470  0.265455   \n",
       "blue_std   -0.053529   0.026250  0.424515    0.432897   0.497466  0.059021   \n",
       "f4         -0.146152  -0.065298  0.058319   -0.036734   0.017464  0.104885   \n",
       "f5         -0.005851   0.028115  0.213061    0.096438   0.138247  0.223936   \n",
       "f6         -0.501864  -0.308997 -0.798978   -0.809377  -0.783427 -0.539770   \n",
       "f7         -0.560843  -0.327175 -0.822672   -0.876224  -0.847409 -0.528572   \n",
       "f8          0.141009   0.096930  0.246900    0.382054   0.322763  0.062983   \n",
       "label      -0.053439  -0.042593 -0.130241    0.065833   0.024170  0.243209   \n",
       "\n",
       "                  f2   red_std  green_std  blue_std        f4        f5  \\\n",
       "area       -0.276503  0.077370  -0.085445 -0.053529 -0.146152 -0.005851   \n",
       "perimeter  -0.149544  0.091159  -0.000116  0.026250 -0.065298  0.028115   \n",
       "red_mean   -0.256598  0.709397   0.331157  0.424515  0.058319  0.213061   \n",
       "green_mean -0.496629  0.557716   0.441231  0.432897 -0.036734  0.096438   \n",
       "blue_mean  -0.350531  0.606803   0.423470  0.497466  0.017464  0.138247   \n",
       "f1         -1.000000  0.102557   0.265455  0.059021  0.104885  0.223936   \n",
       "f2          1.000000 -0.102557  -0.265455 -0.059021 -0.104885 -0.223936   \n",
       "red_std    -0.102557  1.000000   0.705554  0.804552  0.482733  0.519676   \n",
       "green_std  -0.265455  0.705554   1.000000  0.910038  0.438391  0.390143   \n",
       "blue_std   -0.059021  0.804552   0.910038  1.000000  0.513601  0.479349   \n",
       "f4         -0.104885  0.482733   0.438391  0.513601  1.000000  0.928762   \n",
       "f5         -0.223936  0.519676   0.390143  0.479349  0.928762  1.000000   \n",
       "f6          0.539770 -0.501660  -0.261171 -0.307380 -0.104886 -0.369158   \n",
       "f7          0.528572 -0.430145  -0.204882 -0.237487  0.065910 -0.154882   \n",
       "f8         -0.062983  0.026538   0.170155  0.068799 -0.752550 -0.695220   \n",
       "label      -0.243209 -0.168326   0.096415 -0.025360 -0.108675 -0.107442   \n",
       "\n",
       "                  f6        f7        f8     label  \n",
       "area       -0.501864 -0.560843  0.141009 -0.053439  \n",
       "perimeter  -0.308997 -0.327175  0.096930 -0.042593  \n",
       "red_mean   -0.798978 -0.822672  0.246900 -0.130241  \n",
       "green_mean -0.809377 -0.876224  0.382054  0.065833  \n",
       "blue_mean  -0.783427 -0.847409  0.322763  0.024170  \n",
       "f1         -0.539770 -0.528572  0.062983  0.243209  \n",
       "f2          0.539770  0.528572 -0.062983 -0.243209  \n",
       "red_std    -0.501660 -0.430145  0.026538 -0.168326  \n",
       "green_std  -0.261171 -0.204882  0.170155  0.096415  \n",
       "blue_std   -0.307380 -0.237487  0.068799 -0.025360  \n",
       "f4         -0.104886  0.065910 -0.752550 -0.108675  \n",
       "f5         -0.369158 -0.154882 -0.695220 -0.107442  \n",
       "f6          1.000000  0.952161 -0.151547  0.067716  \n",
       "f7          0.952161  1.000000 -0.291654  0.029136  \n",
       "f8         -0.151547 -0.291654  1.000000  0.094324  \n",
       "label       0.067716  0.029136  0.094324  1.000000  "
      ]
     },
     "execution_count": 6,
     "metadata": {},
     "output_type": "execute_result"
    }
   ],
   "source": [
    "raw_data.corr(method ='pearson')"
   ]
  },
  {
   "cell_type": "markdown",
   "metadata": {
    "id": "tykbukJOs9oT"
   },
   "source": [
    "**Insights:**\n",
    "Less correlated features are:\n",
    "- green channel mean\n",
    "- Blue channel mean\n",
    "- green channel std\n",
    "- f4\n",
    "- f5\n",
    "- f6\n",
    "- f7\n",
    "- f8\n",
    "\n",
    "Also f1 and f2 are mutually relative So one of them can be removed"
   ]
  },
  {
   "cell_type": "code",
   "execution_count": 16,
   "metadata": {
    "id": "9C4PKZKLs276"
   },
   "outputs": [],
   "source": [
    "cleaned_data = raw_data #.drop(['f1'],axis = 1, inplace=False)"
   ]
  },
  {
   "cell_type": "code",
   "execution_count": 17,
   "metadata": {
    "colab": {
     "base_uri": "https://localhost:8080/",
     "height": 1000
    },
    "id": "5YuECBs9taB2",
    "outputId": "659092be-fad9-4e71-aef0-f4da46785d46"
   },
   "outputs": [
    {
     "data": {
      "text/html": [
       "<div>\n",
       "<style scoped>\n",
       "    .dataframe tbody tr th:only-of-type {\n",
       "        vertical-align: middle;\n",
       "    }\n",
       "\n",
       "    .dataframe tbody tr th {\n",
       "        vertical-align: top;\n",
       "    }\n",
       "\n",
       "    .dataframe thead th {\n",
       "        text-align: right;\n",
       "    }\n",
       "</style>\n",
       "<table border=\"1\" class=\"dataframe\">\n",
       "  <thead>\n",
       "    <tr style=\"text-align: right;\">\n",
       "      <th></th>\n",
       "      <th>area</th>\n",
       "      <th>perimeter</th>\n",
       "      <th>red_mean</th>\n",
       "      <th>green_mean</th>\n",
       "      <th>blue_mean</th>\n",
       "      <th>f1</th>\n",
       "      <th>f2</th>\n",
       "      <th>red_std</th>\n",
       "      <th>green_std</th>\n",
       "      <th>blue_std</th>\n",
       "      <th>f4</th>\n",
       "      <th>f5</th>\n",
       "      <th>f6</th>\n",
       "      <th>f7</th>\n",
       "      <th>f8</th>\n",
       "      <th>label</th>\n",
       "    </tr>\n",
       "  </thead>\n",
       "  <tbody>\n",
       "    <tr>\n",
       "      <th>area</th>\n",
       "      <td>1.000000</td>\n",
       "      <td>0.878334</td>\n",
       "      <td>0.424871</td>\n",
       "      <td>0.449022</td>\n",
       "      <td>0.436068</td>\n",
       "      <td>0.276503</td>\n",
       "      <td>-0.276503</td>\n",
       "      <td>0.077370</td>\n",
       "      <td>-0.085445</td>\n",
       "      <td>-0.053529</td>\n",
       "      <td>-0.146152</td>\n",
       "      <td>-0.005851</td>\n",
       "      <td>-0.501864</td>\n",
       "      <td>-0.560843</td>\n",
       "      <td>0.141009</td>\n",
       "      <td>-0.053439</td>\n",
       "    </tr>\n",
       "    <tr>\n",
       "      <th>perimeter</th>\n",
       "      <td>0.878334</td>\n",
       "      <td>1.000000</td>\n",
       "      <td>0.237255</td>\n",
       "      <td>0.238824</td>\n",
       "      <td>0.233384</td>\n",
       "      <td>0.149544</td>\n",
       "      <td>-0.149544</td>\n",
       "      <td>0.091159</td>\n",
       "      <td>-0.000116</td>\n",
       "      <td>0.026250</td>\n",
       "      <td>-0.065298</td>\n",
       "      <td>0.028115</td>\n",
       "      <td>-0.308997</td>\n",
       "      <td>-0.327175</td>\n",
       "      <td>0.096930</td>\n",
       "      <td>-0.042593</td>\n",
       "    </tr>\n",
       "    <tr>\n",
       "      <th>red_mean</th>\n",
       "      <td>0.424871</td>\n",
       "      <td>0.237255</td>\n",
       "      <td>1.000000</td>\n",
       "      <td>0.894992</td>\n",
       "      <td>0.923466</td>\n",
       "      <td>0.256598</td>\n",
       "      <td>-0.256598</td>\n",
       "      <td>0.709397</td>\n",
       "      <td>0.331157</td>\n",
       "      <td>0.424515</td>\n",
       "      <td>0.058319</td>\n",
       "      <td>0.213061</td>\n",
       "      <td>-0.798978</td>\n",
       "      <td>-0.822672</td>\n",
       "      <td>0.246900</td>\n",
       "      <td>-0.130241</td>\n",
       "    </tr>\n",
       "    <tr>\n",
       "      <th>green_mean</th>\n",
       "      <td>0.449022</td>\n",
       "      <td>0.238824</td>\n",
       "      <td>0.894992</td>\n",
       "      <td>1.000000</td>\n",
       "      <td>0.974558</td>\n",
       "      <td>0.496629</td>\n",
       "      <td>-0.496629</td>\n",
       "      <td>0.557716</td>\n",
       "      <td>0.441231</td>\n",
       "      <td>0.432897</td>\n",
       "      <td>-0.036734</td>\n",
       "      <td>0.096438</td>\n",
       "      <td>-0.809377</td>\n",
       "      <td>-0.876224</td>\n",
       "      <td>0.382054</td>\n",
       "      <td>0.065833</td>\n",
       "    </tr>\n",
       "    <tr>\n",
       "      <th>blue_mean</th>\n",
       "      <td>0.436068</td>\n",
       "      <td>0.233384</td>\n",
       "      <td>0.923466</td>\n",
       "      <td>0.974558</td>\n",
       "      <td>1.000000</td>\n",
       "      <td>0.350531</td>\n",
       "      <td>-0.350531</td>\n",
       "      <td>0.606803</td>\n",
       "      <td>0.423470</td>\n",
       "      <td>0.497466</td>\n",
       "      <td>0.017464</td>\n",
       "      <td>0.138247</td>\n",
       "      <td>-0.783427</td>\n",
       "      <td>-0.847409</td>\n",
       "      <td>0.322763</td>\n",
       "      <td>0.024170</td>\n",
       "    </tr>\n",
       "    <tr>\n",
       "      <th>f1</th>\n",
       "      <td>0.276503</td>\n",
       "      <td>0.149544</td>\n",
       "      <td>0.256598</td>\n",
       "      <td>0.496629</td>\n",
       "      <td>0.350531</td>\n",
       "      <td>1.000000</td>\n",
       "      <td>-1.000000</td>\n",
       "      <td>0.102557</td>\n",
       "      <td>0.265455</td>\n",
       "      <td>0.059021</td>\n",
       "      <td>0.104885</td>\n",
       "      <td>0.223936</td>\n",
       "      <td>-0.539770</td>\n",
       "      <td>-0.528572</td>\n",
       "      <td>0.062983</td>\n",
       "      <td>0.243209</td>\n",
       "    </tr>\n",
       "    <tr>\n",
       "      <th>f2</th>\n",
       "      <td>-0.276503</td>\n",
       "      <td>-0.149544</td>\n",
       "      <td>-0.256598</td>\n",
       "      <td>-0.496629</td>\n",
       "      <td>-0.350531</td>\n",
       "      <td>-1.000000</td>\n",
       "      <td>1.000000</td>\n",
       "      <td>-0.102557</td>\n",
       "      <td>-0.265455</td>\n",
       "      <td>-0.059021</td>\n",
       "      <td>-0.104885</td>\n",
       "      <td>-0.223936</td>\n",
       "      <td>0.539770</td>\n",
       "      <td>0.528572</td>\n",
       "      <td>-0.062983</td>\n",
       "      <td>-0.243209</td>\n",
       "    </tr>\n",
       "    <tr>\n",
       "      <th>red_std</th>\n",
       "      <td>0.077370</td>\n",
       "      <td>0.091159</td>\n",
       "      <td>0.709397</td>\n",
       "      <td>0.557716</td>\n",
       "      <td>0.606803</td>\n",
       "      <td>0.102557</td>\n",
       "      <td>-0.102557</td>\n",
       "      <td>1.000000</td>\n",
       "      <td>0.705554</td>\n",
       "      <td>0.804552</td>\n",
       "      <td>0.482733</td>\n",
       "      <td>0.519676</td>\n",
       "      <td>-0.501660</td>\n",
       "      <td>-0.430145</td>\n",
       "      <td>0.026538</td>\n",
       "      <td>-0.168326</td>\n",
       "    </tr>\n",
       "    <tr>\n",
       "      <th>green_std</th>\n",
       "      <td>-0.085445</td>\n",
       "      <td>-0.000116</td>\n",
       "      <td>0.331157</td>\n",
       "      <td>0.441231</td>\n",
       "      <td>0.423470</td>\n",
       "      <td>0.265455</td>\n",
       "      <td>-0.265455</td>\n",
       "      <td>0.705554</td>\n",
       "      <td>1.000000</td>\n",
       "      <td>0.910038</td>\n",
       "      <td>0.438391</td>\n",
       "      <td>0.390143</td>\n",
       "      <td>-0.261171</td>\n",
       "      <td>-0.204882</td>\n",
       "      <td>0.170155</td>\n",
       "      <td>0.096415</td>\n",
       "    </tr>\n",
       "    <tr>\n",
       "      <th>blue_std</th>\n",
       "      <td>-0.053529</td>\n",
       "      <td>0.026250</td>\n",
       "      <td>0.424515</td>\n",
       "      <td>0.432897</td>\n",
       "      <td>0.497466</td>\n",
       "      <td>0.059021</td>\n",
       "      <td>-0.059021</td>\n",
       "      <td>0.804552</td>\n",
       "      <td>0.910038</td>\n",
       "      <td>1.000000</td>\n",
       "      <td>0.513601</td>\n",
       "      <td>0.479349</td>\n",
       "      <td>-0.307380</td>\n",
       "      <td>-0.237487</td>\n",
       "      <td>0.068799</td>\n",
       "      <td>-0.025360</td>\n",
       "    </tr>\n",
       "    <tr>\n",
       "      <th>f4</th>\n",
       "      <td>-0.146152</td>\n",
       "      <td>-0.065298</td>\n",
       "      <td>0.058319</td>\n",
       "      <td>-0.036734</td>\n",
       "      <td>0.017464</td>\n",
       "      <td>0.104885</td>\n",
       "      <td>-0.104885</td>\n",
       "      <td>0.482733</td>\n",
       "      <td>0.438391</td>\n",
       "      <td>0.513601</td>\n",
       "      <td>1.000000</td>\n",
       "      <td>0.928762</td>\n",
       "      <td>-0.104886</td>\n",
       "      <td>0.065910</td>\n",
       "      <td>-0.752550</td>\n",
       "      <td>-0.108675</td>\n",
       "    </tr>\n",
       "    <tr>\n",
       "      <th>f5</th>\n",
       "      <td>-0.005851</td>\n",
       "      <td>0.028115</td>\n",
       "      <td>0.213061</td>\n",
       "      <td>0.096438</td>\n",
       "      <td>0.138247</td>\n",
       "      <td>0.223936</td>\n",
       "      <td>-0.223936</td>\n",
       "      <td>0.519676</td>\n",
       "      <td>0.390143</td>\n",
       "      <td>0.479349</td>\n",
       "      <td>0.928762</td>\n",
       "      <td>1.000000</td>\n",
       "      <td>-0.369158</td>\n",
       "      <td>-0.154882</td>\n",
       "      <td>-0.695220</td>\n",
       "      <td>-0.107442</td>\n",
       "    </tr>\n",
       "    <tr>\n",
       "      <th>f6</th>\n",
       "      <td>-0.501864</td>\n",
       "      <td>-0.308997</td>\n",
       "      <td>-0.798978</td>\n",
       "      <td>-0.809377</td>\n",
       "      <td>-0.783427</td>\n",
       "      <td>-0.539770</td>\n",
       "      <td>0.539770</td>\n",
       "      <td>-0.501660</td>\n",
       "      <td>-0.261171</td>\n",
       "      <td>-0.307380</td>\n",
       "      <td>-0.104886</td>\n",
       "      <td>-0.369158</td>\n",
       "      <td>1.000000</td>\n",
       "      <td>0.952161</td>\n",
       "      <td>-0.151547</td>\n",
       "      <td>0.067716</td>\n",
       "    </tr>\n",
       "    <tr>\n",
       "      <th>f7</th>\n",
       "      <td>-0.560843</td>\n",
       "      <td>-0.327175</td>\n",
       "      <td>-0.822672</td>\n",
       "      <td>-0.876224</td>\n",
       "      <td>-0.847409</td>\n",
       "      <td>-0.528572</td>\n",
       "      <td>0.528572</td>\n",
       "      <td>-0.430145</td>\n",
       "      <td>-0.204882</td>\n",
       "      <td>-0.237487</td>\n",
       "      <td>0.065910</td>\n",
       "      <td>-0.154882</td>\n",
       "      <td>0.952161</td>\n",
       "      <td>1.000000</td>\n",
       "      <td>-0.291654</td>\n",
       "      <td>0.029136</td>\n",
       "    </tr>\n",
       "    <tr>\n",
       "      <th>f8</th>\n",
       "      <td>0.141009</td>\n",
       "      <td>0.096930</td>\n",
       "      <td>0.246900</td>\n",
       "      <td>0.382054</td>\n",
       "      <td>0.322763</td>\n",
       "      <td>0.062983</td>\n",
       "      <td>-0.062983</td>\n",
       "      <td>0.026538</td>\n",
       "      <td>0.170155</td>\n",
       "      <td>0.068799</td>\n",
       "      <td>-0.752550</td>\n",
       "      <td>-0.695220</td>\n",
       "      <td>-0.151547</td>\n",
       "      <td>-0.291654</td>\n",
       "      <td>1.000000</td>\n",
       "      <td>0.094324</td>\n",
       "    </tr>\n",
       "    <tr>\n",
       "      <th>label</th>\n",
       "      <td>-0.053439</td>\n",
       "      <td>-0.042593</td>\n",
       "      <td>-0.130241</td>\n",
       "      <td>0.065833</td>\n",
       "      <td>0.024170</td>\n",
       "      <td>0.243209</td>\n",
       "      <td>-0.243209</td>\n",
       "      <td>-0.168326</td>\n",
       "      <td>0.096415</td>\n",
       "      <td>-0.025360</td>\n",
       "      <td>-0.108675</td>\n",
       "      <td>-0.107442</td>\n",
       "      <td>0.067716</td>\n",
       "      <td>0.029136</td>\n",
       "      <td>0.094324</td>\n",
       "      <td>1.000000</td>\n",
       "    </tr>\n",
       "  </tbody>\n",
       "</table>\n",
       "</div>"
      ],
      "text/plain": [
       "                area  perimeter  red_mean  green_mean  blue_mean        f1  \\\n",
       "area        1.000000   0.878334  0.424871    0.449022   0.436068  0.276503   \n",
       "perimeter   0.878334   1.000000  0.237255    0.238824   0.233384  0.149544   \n",
       "red_mean    0.424871   0.237255  1.000000    0.894992   0.923466  0.256598   \n",
       "green_mean  0.449022   0.238824  0.894992    1.000000   0.974558  0.496629   \n",
       "blue_mean   0.436068   0.233384  0.923466    0.974558   1.000000  0.350531   \n",
       "f1          0.276503   0.149544  0.256598    0.496629   0.350531  1.000000   \n",
       "f2         -0.276503  -0.149544 -0.256598   -0.496629  -0.350531 -1.000000   \n",
       "red_std     0.077370   0.091159  0.709397    0.557716   0.606803  0.102557   \n",
       "green_std  -0.085445  -0.000116  0.331157    0.441231   0.423470  0.265455   \n",
       "blue_std   -0.053529   0.026250  0.424515    0.432897   0.497466  0.059021   \n",
       "f4         -0.146152  -0.065298  0.058319   -0.036734   0.017464  0.104885   \n",
       "f5         -0.005851   0.028115  0.213061    0.096438   0.138247  0.223936   \n",
       "f6         -0.501864  -0.308997 -0.798978   -0.809377  -0.783427 -0.539770   \n",
       "f7         -0.560843  -0.327175 -0.822672   -0.876224  -0.847409 -0.528572   \n",
       "f8          0.141009   0.096930  0.246900    0.382054   0.322763  0.062983   \n",
       "label      -0.053439  -0.042593 -0.130241    0.065833   0.024170  0.243209   \n",
       "\n",
       "                  f2   red_std  green_std  blue_std        f4        f5  \\\n",
       "area       -0.276503  0.077370  -0.085445 -0.053529 -0.146152 -0.005851   \n",
       "perimeter  -0.149544  0.091159  -0.000116  0.026250 -0.065298  0.028115   \n",
       "red_mean   -0.256598  0.709397   0.331157  0.424515  0.058319  0.213061   \n",
       "green_mean -0.496629  0.557716   0.441231  0.432897 -0.036734  0.096438   \n",
       "blue_mean  -0.350531  0.606803   0.423470  0.497466  0.017464  0.138247   \n",
       "f1         -1.000000  0.102557   0.265455  0.059021  0.104885  0.223936   \n",
       "f2          1.000000 -0.102557  -0.265455 -0.059021 -0.104885 -0.223936   \n",
       "red_std    -0.102557  1.000000   0.705554  0.804552  0.482733  0.519676   \n",
       "green_std  -0.265455  0.705554   1.000000  0.910038  0.438391  0.390143   \n",
       "blue_std   -0.059021  0.804552   0.910038  1.000000  0.513601  0.479349   \n",
       "f4         -0.104885  0.482733   0.438391  0.513601  1.000000  0.928762   \n",
       "f5         -0.223936  0.519676   0.390143  0.479349  0.928762  1.000000   \n",
       "f6          0.539770 -0.501660  -0.261171 -0.307380 -0.104886 -0.369158   \n",
       "f7          0.528572 -0.430145  -0.204882 -0.237487  0.065910 -0.154882   \n",
       "f8         -0.062983  0.026538   0.170155  0.068799 -0.752550 -0.695220   \n",
       "label      -0.243209 -0.168326   0.096415 -0.025360 -0.108675 -0.107442   \n",
       "\n",
       "                  f6        f7        f8     label  \n",
       "area       -0.501864 -0.560843  0.141009 -0.053439  \n",
       "perimeter  -0.308997 -0.327175  0.096930 -0.042593  \n",
       "red_mean   -0.798978 -0.822672  0.246900 -0.130241  \n",
       "green_mean -0.809377 -0.876224  0.382054  0.065833  \n",
       "blue_mean  -0.783427 -0.847409  0.322763  0.024170  \n",
       "f1         -0.539770 -0.528572  0.062983  0.243209  \n",
       "f2          0.539770  0.528572 -0.062983 -0.243209  \n",
       "red_std    -0.501660 -0.430145  0.026538 -0.168326  \n",
       "green_std  -0.261171 -0.204882  0.170155  0.096415  \n",
       "blue_std   -0.307380 -0.237487  0.068799 -0.025360  \n",
       "f4         -0.104886  0.065910 -0.752550 -0.108675  \n",
       "f5         -0.369158 -0.154882 -0.695220 -0.107442  \n",
       "f6          1.000000  0.952161 -0.151547  0.067716  \n",
       "f7          0.952161  1.000000 -0.291654  0.029136  \n",
       "f8         -0.151547 -0.291654  1.000000  0.094324  \n",
       "label       0.067716  0.029136  0.094324  1.000000  "
      ]
     },
     "execution_count": 17,
     "metadata": {},
     "output_type": "execute_result"
    }
   ],
   "source": [
    "cleaned_data.corr(method ='pearson')"
   ]
  },
  {
   "cell_type": "code",
   "execution_count": 18,
   "metadata": {
    "id": "nHFTe4TItiFJ"
   },
   "outputs": [],
   "source": [
    "cleaned_data = cleaned_data.dropna()"
   ]
  },
  {
   "cell_type": "code",
   "execution_count": 19,
   "metadata": {
    "colab": {
     "base_uri": "https://localhost:8080/"
    },
    "id": "1ns2yXu9uXnE",
    "outputId": "81b3083c-7b65-4923-ebe8-674259d14aa4"
   },
   "outputs": [
    {
     "data": {
      "text/plain": [
       "(16318, 16)"
      ]
     },
     "execution_count": 19,
     "metadata": {},
     "output_type": "execute_result"
    }
   ],
   "source": [
    "raw_data.shape"
   ]
  },
  {
   "cell_type": "code",
   "execution_count": 20,
   "metadata": {
    "colab": {
     "base_uri": "https://localhost:8080/"
    },
    "id": "X2iVldJpuZb5",
    "outputId": "44927c0c-ca20-4995-f579-8f113ea7d2f3"
   },
   "outputs": [
    {
     "data": {
      "text/plain": [
       "(16318, 16)"
      ]
     },
     "execution_count": 20,
     "metadata": {},
     "output_type": "execute_result"
    }
   ],
   "source": [
    "cleaned_data.shape"
   ]
  },
  {
   "cell_type": "code",
   "execution_count": 21,
   "metadata": {
    "id": "q1UEsRsTubX5"
   },
   "outputs": [],
   "source": [
    "from sklearn.model_selection import train_test_split\n",
    "from sklearn.metrics import accuracy_score\n",
    "from sklearn.preprocessing import StandardScaler\n",
    "from sklearn.decomposition import PCA\n",
    "from sklearn.svm import SVC\n",
    "from sklearn.metrics import roc_curve, auc\n",
    "from sklearn.model_selection import KFold \n"
   ]
  },
  {
   "cell_type": "code",
   "execution_count": 22,
   "metadata": {
    "id": "ZJg6iy3Mu72T"
   },
   "outputs": [],
   "source": [
    "df = cleaned_data.reset_index()"
   ]
  },
  {
   "cell_type": "code",
   "execution_count": 23,
   "metadata": {
    "colab": {
     "base_uri": "https://localhost:8080/"
    },
    "id": "3DvMWo8rvPW6",
    "outputId": "72d93ebe-2fbe-47b6-903a-ae58e46569e7"
   },
   "outputs": [
    {
     "name": "stdout",
     "output_type": "stream",
     "text": [
      "(16318, 15)\n",
      "(16318,)\n"
     ]
    }
   ],
   "source": [
    "X = df.drop(['index','label'],axis = 1, inplace=False)\n",
    "y = df['label']\n",
    "print(X.shape)\n",
    "print(y.shape)"
   ]
  },
  {
   "cell_type": "code",
   "execution_count": 24,
   "metadata": {
    "colab": {
     "base_uri": "https://localhost:8080/"
    },
    "id": "j723Yu4Xvx_r",
    "outputId": "7d68696b-7a50-4d90-a12e-c3e326ba15d6"
   },
   "outputs": [
    {
     "name": "stdout",
     "output_type": "stream",
     "text": [
      "Score of each fold - [0.7083333333333334, 0.6991421568627451, 0.7025122549019608, 0.7039534171008275, 0.704259883542752]\n",
      "Avg Score : 0.7036402091483238\n"
     ]
    }
   ],
   "source": [
    "k = 5\n",
    "kf = KFold(n_splits=k, random_state=9, shuffle = True)\n",
    "from sklearn.ensemble import RandomForestClassifier\n",
    "model = RandomForestClassifier(random_state = 50,n_estimators = 50,max_samples = 0.7)\n",
    " \n",
    "acc_score = []\n",
    "\n",
    "for train_index , test_index in kf.split(X):\n",
    "    X_train , X_test = X.iloc[train_index,:],X.iloc[test_index,:]\n",
    "    y_train , y_test = y[train_index] , y[test_index]\n",
    "    model = RandomForestClassifier(random_state = 50,n_estimators = 50,max_samples = 0.7)\n",
    "    model.fit(X_train,y_train)\n",
    "    pred_values = model.predict(X_test)            # classification\n",
    "    acc = accuracy_score(pred_values , y_test)     # Classification\n",
    "\n",
    "    #acc = model.score(X_test,y_test)                # Regression\n",
    "    \n",
    "    acc_score.append(acc)\n",
    "     \n",
    "avg_acc_score = sum(acc_score)/k\n",
    " \n",
    "print('Score of each fold - {}'.format(acc_score))\n",
    "print('Avg Score : {}'.format(avg_acc_score))"
   ]
  },
  {
   "cell_type": "markdown",
   "metadata": {
    "id": "jShjKvkbwtys"
   },
   "source": [
    "# **K- fold Cross validation accuracy:**\n",
    "# **0.7126602564102564**"
   ]
  },
  {
   "cell_type": "markdown",
   "metadata": {
    "id": "MalrrV30xqn8"
   },
   "source": [
    "# ROC Curve"
   ]
  },
  {
   "cell_type": "code",
   "execution_count": 25,
   "metadata": {
    "colab": {
     "base_uri": "https://localhost:8080/",
     "height": 349
    },
    "id": "U_6DxxVXwmJP",
    "outputId": "a133289a-c71b-4af2-8e04-d36b24d2fc40"
   },
   "outputs": [
    {
     "data": {
      "image/png": "[encoded data removed]",
      "text/plain": [
       "<Figure size 432x288 with 1 Axes>"
      ]
     },
     "metadata": {
      "needs_background": "light"
     },
     "output_type": "display_data"
    }
   ],
   "source": [
    "import scikitplot as skplt\n",
    "import matplotlib.pyplot as plt\n",
    "\n",
    "y_true = y_test\n",
    "y_probas = model.predict_proba(X_test)\n",
    "skplt.metrics.plot_roc(y_true, y_probas)\n",
    "\n",
    "plt.show()"
   ]
  },
  {
   "cell_type": "code",
   "execution_count": 26,
   "metadata": {
    "colab": {
     "base_uri": "https://localhost:8080/",
     "height": 296
    },
    "id": "qw0YcxFQx3Mc",
    "outputId": "c83fbdcf-a67a-404f-e8dc-9c8473490392"
   },
   "outputs": [
    {
     "data": {
      "text/plain": [
       "<sklearn.metrics._plot.confusion_matrix.ConfusionMatrixDisplay at 0x7fd7a3880588>"
      ]
     },
     "execution_count": 26,
     "metadata": {},
     "output_type": "execute_result"
    },
    {
     "data": {
      "image/png": "[encoded data removed]",
      "text/plain": [
       "<Figure size 432x288 with 2 Axes>"
      ]
     },
     "metadata": {
      "needs_background": "light"
     },
     "output_type": "display_data"
    }
   ],
   "source": [
    "from sklearn.metrics import plot_confusion_matrix\n",
    "y_pred = model.predict(X_test)\n",
    "plot_confusion_matrix(model, X_test, y_test, values_format = 'd',cmap = 'Blues',display_labels = ['0','1','2','3','4','5','6','7','8','9'])"
   ]
  },
  {
   "cell_type": "code",
   "execution_count": 27,
   "metadata": {
    "colab": {
     "base_uri": "https://localhost:8080/"
    },
    "id": "Gref__vNyWqm",
    "outputId": "ba198a46-5398-482a-a509-72776333aa9d"
   },
   "outputs": [
    {
     "name": "stdout",
     "output_type": "stream",
     "text": [
      "              precision    recall  f1-score   support\n",
      "\n",
      "           0       0.77      0.81      0.79       220\n",
      "           1       0.73      0.80      0.76       390\n",
      "           2       0.58      0.26      0.36       182\n",
      "           3       0.67      0.66      0.66       365\n",
      "           4       0.66      0.54      0.59       203\n",
      "           5       0.62      0.47      0.53       327\n",
      "           6       0.51      0.64      0.57       258\n",
      "           7       0.64      0.71      0.68       220\n",
      "           8       0.80      0.88      0.84       955\n",
      "           9       0.73      0.66      0.70       143\n",
      "\n",
      "    accuracy                           0.70      3263\n",
      "   macro avg       0.67      0.64      0.65      3263\n",
      "weighted avg       0.70      0.70      0.70      3263\n",
      "\n"
     ]
    }
   ],
   "source": [
    "from sklearn.metrics import classification_report\n",
    "\n",
    "print(classification_report(y_test, y_pred, [i for i in range(0,10)]))"
   ]
  },
  {
   "cell_type": "markdown",
   "metadata": {
    "id": "XEl3_kcUzXyY"
   },
   "source": [
    "# Deployment"
   ]
  },
  {
   "cell_type": "code",
   "execution_count": 28,
   "metadata": {
    "colab": {
     "base_uri": "https://localhost:8080/"
    },
    "id": "HY3YfG2py-Jf",
    "outputId": "1ae76c7e-aea2-4ecf-9da4-2c14477c7009"
   },
   "outputs": [
    {
     "name": "stdout",
     "output_type": "stream",
     "text": [
      "Training Score:  0.9960779507292561\n"
     ]
    }
   ],
   "source": [
    "from sklearn.ensemble import RandomForestClassifier\n",
    "lm = RandomForestClassifier(random_state = 50,n_estimators = 50,max_samples = 0.7)\n",
    "lm.fit(X,y)\n",
    "print('Training Score: ',lm.score(X,y))"
   ]
  },
  {
   "cell_type": "code",
   "execution_count": 29,
   "metadata": {
    "colab": {
     "base_uri": "https://localhost:8080/"
    },
    "id": "LlyCB8PCy1qh",
    "outputId": "2cc193e3-7c9e-451e-ab77-0df761e46954"
   },
   "outputs": [
    {
     "data": {
      "text/plain": [
       "array([0.055403  , 0.04665654, 0.08027499, 0.05812966, 0.05661518,\n",
       "       0.05960894, 0.05903336, 0.09527553, 0.06707741, 0.062442  ,\n",
       "       0.0850433 , 0.08321747, 0.0523265 , 0.05792471, 0.08097139])"
      ]
     },
     "execution_count": 29,
     "metadata": {},
     "output_type": "execute_result"
    }
   ],
   "source": [
    "lm.feature_importances_"
   ]
  },
  {
   "cell_type": "markdown",
   "metadata": {
    "id": "WyNxpJvA0ycq"
   },
   "source": [
    "# Selected Features"
   ]
  },
  {
   "cell_type": "code",
   "execution_count": 30,
   "metadata": {
    "colab": {
     "base_uri": "https://localhost:8080/"
    },
    "id": "bb17TIJPz5jJ",
    "outputId": "a4d12a70-dffc-46c9-9374-c36c142227d2"
   },
   "outputs": [
    {
     "data": {
      "text/plain": [
       "Index(['area', 'perimeter', 'red_mean', 'green_mean', 'blue_mean', 'f1', 'f2',\n",
       "       'red_std', 'green_std', 'blue_std', 'f4', 'f5', 'f6', 'f7', 'f8'],\n",
       "      dtype='object')"
      ]
     },
     "execution_count": 30,
     "metadata": {},
     "output_type": "execute_result"
    }
   ],
   "source": [
    "X.columns"
   ]
  },
  {
   "cell_type": "code",
   "execution_count": null,
   "metadata": {},
   "outputs": [],
   "source": []
  }
 ],
 "metadata": {
  "colab": {
   "name": "Apple_DA_and_MD.ipynb",
   "provenance": []
  },
  "kernelspec": {
   "display_name": "plant_env",
   "language": "python",
   "name": "plant_env"
  },
  "language_info": {
   "codemirror_mode": {
    "name": "ipython",
    "version": 3
   },
   "file_extension": ".py",
   "mimetype": "text/x-python",
   "name": "python",
   "nbconvert_exporter": "python",
   "pygments_lexer": "ipython3",
   "version": "3.6.9"
  }
 },
 "nbformat": 4,
 "nbformat_minor": 1
}
