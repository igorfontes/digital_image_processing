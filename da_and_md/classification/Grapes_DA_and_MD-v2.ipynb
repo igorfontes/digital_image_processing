{
 "cells": [
  {
   "cell_type": "code",
   "execution_count": 1,
   "metadata": {
    "id": "8Cg54vyTot1W"
   },
   "outputs": [],
   "source": [
    "import pandas as pd\n",
    "import matplotlib.pyplot as plt\n",
    "import numpy as np\n",
    "import seaborn as sns\n",
    "import warnings\n",
    "warnings.filterwarnings('ignore')"
   ]
  },
  {
   "cell_type": "code",
   "execution_count": 2,
   "metadata": {
    "id": "4-v_yHgEowG5"
   },
   "outputs": [],
   "source": [
    "#!pip install openpyxl\n",
    "raw_data = pd.read_excel('../../grapes_dataset_v2.xlsx', engine='openpyxl')"
   ]
  },
  {
   "cell_type": "code",
   "execution_count": 3,
   "metadata": {
    "colab": {
     "base_uri": "https://localhost:8080/"
    },
    "id": "d-UxkVS-sCVa",
    "outputId": "6a77717b-e608-4356-e740-910a8cec0159"
   },
   "outputs": [
    {
     "data": {
      "text/plain": [
       "Unnamed: 0      int64\n",
       "area          float64\n",
       "perimeter     float64\n",
       "red_mean      float64\n",
       "green_mean    float64\n",
       "blue_mean     float64\n",
       "f1            float64\n",
       "f2            float64\n",
       "red_std       float64\n",
       "green_std     float64\n",
       "blue_std      float64\n",
       "f4            float64\n",
       "f5            float64\n",
       "f6            float64\n",
       "f7            float64\n",
       "f8            float64\n",
       "label           int64\n",
       "dtype: object"
      ]
     },
     "execution_count": 3,
     "metadata": {},
     "output_type": "execute_result"
    }
   ],
   "source": [
    "raw_data.dtypes"
   ]
  },
  {
   "cell_type": "code",
   "execution_count": 4,
   "metadata": {
    "id": "6rODIXAEsIiK"
   },
   "outputs": [],
   "source": [
    "raw_data.drop(['Unnamed: 0'],axis = 1, inplace=True)"
   ]
  },
  {
   "cell_type": "code",
   "execution_count": 5,
   "metadata": {
    "colab": {
     "base_uri": "https://localhost:8080/"
    },
    "id": "f3T6y1gVsT2p",
    "outputId": "ab01a558-d67c-4f56-92d5-52ca32f22a78"
   },
   "outputs": [
    {
     "data": {
      "text/plain": [
       "Index(['area', 'perimeter', 'red_mean', 'green_mean', 'blue_mean', 'f1', 'f2',\n",
       "       'red_std', 'green_std', 'blue_std', 'f4', 'f5', 'f6', 'f7', 'f8',\n",
       "       'label'],\n",
       "      dtype='object')"
      ]
     },
     "execution_count": 5,
     "metadata": {},
     "output_type": "execute_result"
    }
   ],
   "source": [
    "raw_data.columns"
   ]
  },
  {
   "cell_type": "code",
   "execution_count": 6,
   "metadata": {
    "colab": {
     "base_uri": "https://localhost:8080/",
     "height": 1000
    },
    "id": "48HQEVsXsWFp",
    "outputId": "69917675-7ac8-48a3-9a77-5f93eeecf880"
   },
   "outputs": [
    {
     "data": {
      "text/html": [
       "<div>\n",
       "<style scoped>\n",
       "    .dataframe tbody tr th:only-of-type {\n",
       "        vertical-align: middle;\n",
       "    }\n",
       "\n",
       "    .dataframe tbody tr th {\n",
       "        vertical-align: top;\n",
       "    }\n",
       "\n",
       "    .dataframe thead th {\n",
       "        text-align: right;\n",
       "    }\n",
       "</style>\n",
       "<table border=\"1\" class=\"dataframe\">\n",
       "  <thead>\n",
       "    <tr style=\"text-align: right;\">\n",
       "      <th></th>\n",
       "      <th>area</th>\n",
       "      <th>perimeter</th>\n",
       "      <th>red_mean</th>\n",
       "      <th>green_mean</th>\n",
       "      <th>blue_mean</th>\n",
       "      <th>f1</th>\n",
       "      <th>f2</th>\n",
       "      <th>red_std</th>\n",
       "      <th>green_std</th>\n",
       "      <th>blue_std</th>\n",
       "      <th>f4</th>\n",
       "      <th>f5</th>\n",
       "      <th>f6</th>\n",
       "      <th>f7</th>\n",
       "      <th>f8</th>\n",
       "      <th>label</th>\n",
       "    </tr>\n",
       "  </thead>\n",
       "  <tbody>\n",
       "    <tr>\n",
       "      <th>area</th>\n",
       "      <td>1.000000</td>\n",
       "      <td>0.874312</td>\n",
       "      <td>0.347123</td>\n",
       "      <td>0.355773</td>\n",
       "      <td>0.342104</td>\n",
       "      <td>0.322793</td>\n",
       "      <td>-0.322793</td>\n",
       "      <td>0.297087</td>\n",
       "      <td>0.133550</td>\n",
       "      <td>0.055302</td>\n",
       "      <td>0.021274</td>\n",
       "      <td>0.206162</td>\n",
       "      <td>-0.475468</td>\n",
       "      <td>-0.478189</td>\n",
       "      <td>0.079121</td>\n",
       "      <td>-0.114160</td>\n",
       "    </tr>\n",
       "    <tr>\n",
       "      <th>perimeter</th>\n",
       "      <td>0.874312</td>\n",
       "      <td>1.000000</td>\n",
       "      <td>0.124219</td>\n",
       "      <td>0.136593</td>\n",
       "      <td>0.141278</td>\n",
       "      <td>0.120577</td>\n",
       "      <td>-0.120577</td>\n",
       "      <td>0.157431</td>\n",
       "      <td>0.086728</td>\n",
       "      <td>0.056972</td>\n",
       "      <td>0.051716</td>\n",
       "      <td>0.129249</td>\n",
       "      <td>-0.227271</td>\n",
       "      <td>-0.224901</td>\n",
       "      <td>0.015681</td>\n",
       "      <td>-0.015626</td>\n",
       "    </tr>\n",
       "    <tr>\n",
       "      <th>red_mean</th>\n",
       "      <td>0.347123</td>\n",
       "      <td>0.124219</td>\n",
       "      <td>1.000000</td>\n",
       "      <td>0.929749</td>\n",
       "      <td>0.854819</td>\n",
       "      <td>0.748277</td>\n",
       "      <td>-0.748277</td>\n",
       "      <td>0.676162</td>\n",
       "      <td>0.370777</td>\n",
       "      <td>0.207726</td>\n",
       "      <td>0.139901</td>\n",
       "      <td>0.429591</td>\n",
       "      <td>-0.864766</td>\n",
       "      <td>-0.872827</td>\n",
       "      <td>0.103942</td>\n",
       "      <td>-0.491501</td>\n",
       "    </tr>\n",
       "    <tr>\n",
       "      <th>green_mean</th>\n",
       "      <td>0.355773</td>\n",
       "      <td>0.136593</td>\n",
       "      <td>0.929749</td>\n",
       "      <td>1.000000</td>\n",
       "      <td>0.946832</td>\n",
       "      <td>0.719378</td>\n",
       "      <td>-0.719378</td>\n",
       "      <td>0.554722</td>\n",
       "      <td>0.483276</td>\n",
       "      <td>0.310404</td>\n",
       "      <td>0.123266</td>\n",
       "      <td>0.418733</td>\n",
       "      <td>-0.893266</td>\n",
       "      <td>-0.908302</td>\n",
       "      <td>0.180194</td>\n",
       "      <td>-0.415592</td>\n",
       "    </tr>\n",
       "    <tr>\n",
       "      <th>blue_mean</th>\n",
       "      <td>0.342104</td>\n",
       "      <td>0.141278</td>\n",
       "      <td>0.854819</td>\n",
       "      <td>0.946832</td>\n",
       "      <td>1.000000</td>\n",
       "      <td>0.481930</td>\n",
       "      <td>-0.481930</td>\n",
       "      <td>0.558718</td>\n",
       "      <td>0.546762</td>\n",
       "      <td>0.514378</td>\n",
       "      <td>0.163959</td>\n",
       "      <td>0.431875</td>\n",
       "      <td>-0.834468</td>\n",
       "      <td>-0.842186</td>\n",
       "      <td>0.226659</td>\n",
       "      <td>-0.198546</td>\n",
       "    </tr>\n",
       "    <tr>\n",
       "      <th>f1</th>\n",
       "      <td>0.322793</td>\n",
       "      <td>0.120577</td>\n",
       "      <td>0.748277</td>\n",
       "      <td>0.719378</td>\n",
       "      <td>0.481930</td>\n",
       "      <td>1.000000</td>\n",
       "      <td>-1.000000</td>\n",
       "      <td>0.359422</td>\n",
       "      <td>0.094947</td>\n",
       "      <td>-0.262849</td>\n",
       "      <td>0.035526</td>\n",
       "      <td>0.301479</td>\n",
       "      <td>-0.737999</td>\n",
       "      <td>-0.757798</td>\n",
       "      <td>-0.061239</td>\n",
       "      <td>-0.706101</td>\n",
       "    </tr>\n",
       "    <tr>\n",
       "      <th>f2</th>\n",
       "      <td>-0.322793</td>\n",
       "      <td>-0.120577</td>\n",
       "      <td>-0.748277</td>\n",
       "      <td>-0.719378</td>\n",
       "      <td>-0.481930</td>\n",
       "      <td>-1.000000</td>\n",
       "      <td>1.000000</td>\n",
       "      <td>-0.359422</td>\n",
       "      <td>-0.094947</td>\n",
       "      <td>0.262849</td>\n",
       "      <td>-0.035526</td>\n",
       "      <td>-0.301479</td>\n",
       "      <td>0.737999</td>\n",
       "      <td>0.757798</td>\n",
       "      <td>0.061239</td>\n",
       "      <td>0.706101</td>\n",
       "    </tr>\n",
       "    <tr>\n",
       "      <th>red_std</th>\n",
       "      <td>0.297087</td>\n",
       "      <td>0.157431</td>\n",
       "      <td>0.676162</td>\n",
       "      <td>0.554722</td>\n",
       "      <td>0.558718</td>\n",
       "      <td>0.359422</td>\n",
       "      <td>-0.359422</td>\n",
       "      <td>1.000000</td>\n",
       "      <td>0.686062</td>\n",
       "      <td>0.571849</td>\n",
       "      <td>0.471087</td>\n",
       "      <td>0.534771</td>\n",
       "      <td>-0.497722</td>\n",
       "      <td>-0.454643</td>\n",
       "      <td>0.043163</td>\n",
       "      <td>-0.211632</td>\n",
       "    </tr>\n",
       "    <tr>\n",
       "      <th>green_std</th>\n",
       "      <td>0.133550</td>\n",
       "      <td>0.086728</td>\n",
       "      <td>0.370777</td>\n",
       "      <td>0.483276</td>\n",
       "      <td>0.546762</td>\n",
       "      <td>0.094947</td>\n",
       "      <td>-0.094947</td>\n",
       "      <td>0.686062</td>\n",
       "      <td>1.000000</td>\n",
       "      <td>0.848730</td>\n",
       "      <td>0.375604</td>\n",
       "      <td>0.336365</td>\n",
       "      <td>-0.250032</td>\n",
       "      <td>-0.222453</td>\n",
       "      <td>0.315113</td>\n",
       "      <td>-0.040134</td>\n",
       "    </tr>\n",
       "    <tr>\n",
       "      <th>blue_std</th>\n",
       "      <td>0.055302</td>\n",
       "      <td>0.056972</td>\n",
       "      <td>0.207726</td>\n",
       "      <td>0.310404</td>\n",
       "      <td>0.514378</td>\n",
       "      <td>-0.262849</td>\n",
       "      <td>0.262849</td>\n",
       "      <td>0.571849</td>\n",
       "      <td>0.848730</td>\n",
       "      <td>1.000000</td>\n",
       "      <td>0.464847</td>\n",
       "      <td>0.380556</td>\n",
       "      <td>-0.138100</td>\n",
       "      <td>-0.094143</td>\n",
       "      <td>0.193024</td>\n",
       "      <td>0.307451</td>\n",
       "    </tr>\n",
       "    <tr>\n",
       "      <th>f4</th>\n",
       "      <td>0.021274</td>\n",
       "      <td>0.051716</td>\n",
       "      <td>0.139901</td>\n",
       "      <td>0.123266</td>\n",
       "      <td>0.163959</td>\n",
       "      <td>0.035526</td>\n",
       "      <td>-0.035526</td>\n",
       "      <td>0.471087</td>\n",
       "      <td>0.375604</td>\n",
       "      <td>0.464847</td>\n",
       "      <td>1.000000</td>\n",
       "      <td>0.895900</td>\n",
       "      <td>-0.217732</td>\n",
       "      <td>-0.108947</td>\n",
       "      <td>-0.717997</td>\n",
       "      <td>0.231805</td>\n",
       "    </tr>\n",
       "    <tr>\n",
       "      <th>f5</th>\n",
       "      <td>0.206162</td>\n",
       "      <td>0.129249</td>\n",
       "      <td>0.429591</td>\n",
       "      <td>0.418733</td>\n",
       "      <td>0.431875</td>\n",
       "      <td>0.301479</td>\n",
       "      <td>-0.301479</td>\n",
       "      <td>0.534771</td>\n",
       "      <td>0.336365</td>\n",
       "      <td>0.380556</td>\n",
       "      <td>0.895900</td>\n",
       "      <td>1.000000</td>\n",
       "      <td>-0.582064</td>\n",
       "      <td>-0.469153</td>\n",
       "      <td>-0.645146</td>\n",
       "      <td>0.101296</td>\n",
       "    </tr>\n",
       "    <tr>\n",
       "      <th>f6</th>\n",
       "      <td>-0.475468</td>\n",
       "      <td>-0.227271</td>\n",
       "      <td>-0.864766</td>\n",
       "      <td>-0.893266</td>\n",
       "      <td>-0.834468</td>\n",
       "      <td>-0.737999</td>\n",
       "      <td>0.737999</td>\n",
       "      <td>-0.497722</td>\n",
       "      <td>-0.250032</td>\n",
       "      <td>-0.138100</td>\n",
       "      <td>-0.217732</td>\n",
       "      <td>-0.582064</td>\n",
       "      <td>1.000000</td>\n",
       "      <td>0.985366</td>\n",
       "      <td>0.053678</td>\n",
       "      <td>0.328311</td>\n",
       "    </tr>\n",
       "    <tr>\n",
       "      <th>f7</th>\n",
       "      <td>-0.478189</td>\n",
       "      <td>-0.224901</td>\n",
       "      <td>-0.872827</td>\n",
       "      <td>-0.908302</td>\n",
       "      <td>-0.842186</td>\n",
       "      <td>-0.757798</td>\n",
       "      <td>0.757798</td>\n",
       "      <td>-0.454643</td>\n",
       "      <td>-0.222453</td>\n",
       "      <td>-0.094143</td>\n",
       "      <td>-0.108947</td>\n",
       "      <td>-0.469153</td>\n",
       "      <td>0.985366</td>\n",
       "      <td>1.000000</td>\n",
       "      <td>-0.030328</td>\n",
       "      <td>0.378648</td>\n",
       "    </tr>\n",
       "    <tr>\n",
       "      <th>f8</th>\n",
       "      <td>0.079121</td>\n",
       "      <td>0.015681</td>\n",
       "      <td>0.103942</td>\n",
       "      <td>0.180194</td>\n",
       "      <td>0.226659</td>\n",
       "      <td>-0.061239</td>\n",
       "      <td>0.061239</td>\n",
       "      <td>0.043163</td>\n",
       "      <td>0.315113</td>\n",
       "      <td>0.193024</td>\n",
       "      <td>-0.717997</td>\n",
       "      <td>-0.645146</td>\n",
       "      <td>0.053678</td>\n",
       "      <td>-0.030328</td>\n",
       "      <td>1.000000</td>\n",
       "      <td>-0.168292</td>\n",
       "    </tr>\n",
       "    <tr>\n",
       "      <th>label</th>\n",
       "      <td>-0.114160</td>\n",
       "      <td>-0.015626</td>\n",
       "      <td>-0.491501</td>\n",
       "      <td>-0.415592</td>\n",
       "      <td>-0.198546</td>\n",
       "      <td>-0.706101</td>\n",
       "      <td>0.706101</td>\n",
       "      <td>-0.211632</td>\n",
       "      <td>-0.040134</td>\n",
       "      <td>0.307451</td>\n",
       "      <td>0.231805</td>\n",
       "      <td>0.101296</td>\n",
       "      <td>0.328311</td>\n",
       "      <td>0.378648</td>\n",
       "      <td>-0.168292</td>\n",
       "      <td>1.000000</td>\n",
       "    </tr>\n",
       "  </tbody>\n",
       "</table>\n",
       "</div>"
      ],
      "text/plain": [
       "                area  perimeter  red_mean  green_mean  blue_mean        f1  \\\n",
       "area        1.000000   0.874312  0.347123    0.355773   0.342104  0.322793   \n",
       "perimeter   0.874312   1.000000  0.124219    0.136593   0.141278  0.120577   \n",
       "red_mean    0.347123   0.124219  1.000000    0.929749   0.854819  0.748277   \n",
       "green_mean  0.355773   0.136593  0.929749    1.000000   0.946832  0.719378   \n",
       "blue_mean   0.342104   0.141278  0.854819    0.946832   1.000000  0.481930   \n",
       "f1          0.322793   0.120577  0.748277    0.719378   0.481930  1.000000   \n",
       "f2         -0.322793  -0.120577 -0.748277   -0.719378  -0.481930 -1.000000   \n",
       "red_std     0.297087   0.157431  0.676162    0.554722   0.558718  0.359422   \n",
       "green_std   0.133550   0.086728  0.370777    0.483276   0.546762  0.094947   \n",
       "blue_std    0.055302   0.056972  0.207726    0.310404   0.514378 -0.262849   \n",
       "f4          0.021274   0.051716  0.139901    0.123266   0.163959  0.035526   \n",
       "f5          0.206162   0.129249  0.429591    0.418733   0.431875  0.301479   \n",
       "f6         -0.475468  -0.227271 -0.864766   -0.893266  -0.834468 -0.737999   \n",
       "f7         -0.478189  -0.224901 -0.872827   -0.908302  -0.842186 -0.757798   \n",
       "f8          0.079121   0.015681  0.103942    0.180194   0.226659 -0.061239   \n",
       "label      -0.114160  -0.015626 -0.491501   -0.415592  -0.198546 -0.706101   \n",
       "\n",
       "                  f2   red_std  green_std  blue_std        f4        f5  \\\n",
       "area       -0.322793  0.297087   0.133550  0.055302  0.021274  0.206162   \n",
       "perimeter  -0.120577  0.157431   0.086728  0.056972  0.051716  0.129249   \n",
       "red_mean   -0.748277  0.676162   0.370777  0.207726  0.139901  0.429591   \n",
       "green_mean -0.719378  0.554722   0.483276  0.310404  0.123266  0.418733   \n",
       "blue_mean  -0.481930  0.558718   0.546762  0.514378  0.163959  0.431875   \n",
       "f1         -1.000000  0.359422   0.094947 -0.262849  0.035526  0.301479   \n",
       "f2          1.000000 -0.359422  -0.094947  0.262849 -0.035526 -0.301479   \n",
       "red_std    -0.359422  1.000000   0.686062  0.571849  0.471087  0.534771   \n",
       "green_std  -0.094947  0.686062   1.000000  0.848730  0.375604  0.336365   \n",
       "blue_std    0.262849  0.571849   0.848730  1.000000  0.464847  0.380556   \n",
       "f4         -0.035526  0.471087   0.375604  0.464847  1.000000  0.895900   \n",
       "f5         -0.301479  0.534771   0.336365  0.380556  0.895900  1.000000   \n",
       "f6          0.737999 -0.497722  -0.250032 -0.138100 -0.217732 -0.582064   \n",
       "f7          0.757798 -0.454643  -0.222453 -0.094143 -0.108947 -0.469153   \n",
       "f8          0.061239  0.043163   0.315113  0.193024 -0.717997 -0.645146   \n",
       "label       0.706101 -0.211632  -0.040134  0.307451  0.231805  0.101296   \n",
       "\n",
       "                  f6        f7        f8     label  \n",
       "area       -0.475468 -0.478189  0.079121 -0.114160  \n",
       "perimeter  -0.227271 -0.224901  0.015681 -0.015626  \n",
       "red_mean   -0.864766 -0.872827  0.103942 -0.491501  \n",
       "green_mean -0.893266 -0.908302  0.180194 -0.415592  \n",
       "blue_mean  -0.834468 -0.842186  0.226659 -0.198546  \n",
       "f1         -0.737999 -0.757798 -0.061239 -0.706101  \n",
       "f2          0.737999  0.757798  0.061239  0.706101  \n",
       "red_std    -0.497722 -0.454643  0.043163 -0.211632  \n",
       "green_std  -0.250032 -0.222453  0.315113 -0.040134  \n",
       "blue_std   -0.138100 -0.094143  0.193024  0.307451  \n",
       "f4         -0.217732 -0.108947 -0.717997  0.231805  \n",
       "f5         -0.582064 -0.469153 -0.645146  0.101296  \n",
       "f6          1.000000  0.985366  0.053678  0.328311  \n",
       "f7          0.985366  1.000000 -0.030328  0.378648  \n",
       "f8          0.053678 -0.030328  1.000000 -0.168292  \n",
       "label       0.328311  0.378648 -0.168292  1.000000  "
      ]
     },
     "execution_count": 6,
     "metadata": {},
     "output_type": "execute_result"
    }
   ],
   "source": [
    "raw_data.corr(method ='pearson')"
   ]
  },
  {
   "cell_type": "markdown",
   "metadata": {
    "id": "tykbukJOs9oT"
   },
   "source": [
    "**Insights:**\n",
    "\n",
    "Also f1 and f2 are mutually relative So one of them can be removed"
   ]
  },
  {
   "cell_type": "code",
   "execution_count": 7,
   "metadata": {
    "id": "9C4PKZKLs276"
   },
   "outputs": [],
   "source": [
    "cleaned_data = raw_data.drop(['f1'],axis = 1, inplace=False)"
   ]
  },
  {
   "cell_type": "code",
   "execution_count": 8,
   "metadata": {
    "colab": {
     "base_uri": "https://localhost:8080/",
     "height": 1000
    },
    "id": "5YuECBs9taB2",
    "outputId": "659092be-fad9-4e71-aef0-f4da46785d46"
   },
   "outputs": [
    {
     "data": {
      "text/html": [
       "<div>\n",
       "<style scoped>\n",
       "    .dataframe tbody tr th:only-of-type {\n",
       "        vertical-align: middle;\n",
       "    }\n",
       "\n",
       "    .dataframe tbody tr th {\n",
       "        vertical-align: top;\n",
       "    }\n",
       "\n",
       "    .dataframe thead th {\n",
       "        text-align: right;\n",
       "    }\n",
       "</style>\n",
       "<table border=\"1\" class=\"dataframe\">\n",
       "  <thead>\n",
       "    <tr style=\"text-align: right;\">\n",
       "      <th></th>\n",
       "      <th>area</th>\n",
       "      <th>perimeter</th>\n",
       "      <th>red_mean</th>\n",
       "      <th>green_mean</th>\n",
       "      <th>blue_mean</th>\n",
       "      <th>f2</th>\n",
       "      <th>red_std</th>\n",
       "      <th>green_std</th>\n",
       "      <th>blue_std</th>\n",
       "      <th>f4</th>\n",
       "      <th>f5</th>\n",
       "      <th>f6</th>\n",
       "      <th>f7</th>\n",
       "      <th>f8</th>\n",
       "      <th>label</th>\n",
       "    </tr>\n",
       "  </thead>\n",
       "  <tbody>\n",
       "    <tr>\n",
       "      <th>area</th>\n",
       "      <td>1.000000</td>\n",
       "      <td>0.874312</td>\n",
       "      <td>0.347123</td>\n",
       "      <td>0.355773</td>\n",
       "      <td>0.342104</td>\n",
       "      <td>-0.322793</td>\n",
       "      <td>0.297087</td>\n",
       "      <td>0.133550</td>\n",
       "      <td>0.055302</td>\n",
       "      <td>0.021274</td>\n",
       "      <td>0.206162</td>\n",
       "      <td>-0.475468</td>\n",
       "      <td>-0.478189</td>\n",
       "      <td>0.079121</td>\n",
       "      <td>-0.114160</td>\n",
       "    </tr>\n",
       "    <tr>\n",
       "      <th>perimeter</th>\n",
       "      <td>0.874312</td>\n",
       "      <td>1.000000</td>\n",
       "      <td>0.124219</td>\n",
       "      <td>0.136593</td>\n",
       "      <td>0.141278</td>\n",
       "      <td>-0.120577</td>\n",
       "      <td>0.157431</td>\n",
       "      <td>0.086728</td>\n",
       "      <td>0.056972</td>\n",
       "      <td>0.051716</td>\n",
       "      <td>0.129249</td>\n",
       "      <td>-0.227271</td>\n",
       "      <td>-0.224901</td>\n",
       "      <td>0.015681</td>\n",
       "      <td>-0.015626</td>\n",
       "    </tr>\n",
       "    <tr>\n",
       "      <th>red_mean</th>\n",
       "      <td>0.347123</td>\n",
       "      <td>0.124219</td>\n",
       "      <td>1.000000</td>\n",
       "      <td>0.929749</td>\n",
       "      <td>0.854819</td>\n",
       "      <td>-0.748277</td>\n",
       "      <td>0.676162</td>\n",
       "      <td>0.370777</td>\n",
       "      <td>0.207726</td>\n",
       "      <td>0.139901</td>\n",
       "      <td>0.429591</td>\n",
       "      <td>-0.864766</td>\n",
       "      <td>-0.872827</td>\n",
       "      <td>0.103942</td>\n",
       "      <td>-0.491501</td>\n",
       "    </tr>\n",
       "    <tr>\n",
       "      <th>green_mean</th>\n",
       "      <td>0.355773</td>\n",
       "      <td>0.136593</td>\n",
       "      <td>0.929749</td>\n",
       "      <td>1.000000</td>\n",
       "      <td>0.946832</td>\n",
       "      <td>-0.719378</td>\n",
       "      <td>0.554722</td>\n",
       "      <td>0.483276</td>\n",
       "      <td>0.310404</td>\n",
       "      <td>0.123266</td>\n",
       "      <td>0.418733</td>\n",
       "      <td>-0.893266</td>\n",
       "      <td>-0.908302</td>\n",
       "      <td>0.180194</td>\n",
       "      <td>-0.415592</td>\n",
       "    </tr>\n",
       "    <tr>\n",
       "      <th>blue_mean</th>\n",
       "      <td>0.342104</td>\n",
       "      <td>0.141278</td>\n",
       "      <td>0.854819</td>\n",
       "      <td>0.946832</td>\n",
       "      <td>1.000000</td>\n",
       "      <td>-0.481930</td>\n",
       "      <td>0.558718</td>\n",
       "      <td>0.546762</td>\n",
       "      <td>0.514378</td>\n",
       "      <td>0.163959</td>\n",
       "      <td>0.431875</td>\n",
       "      <td>-0.834468</td>\n",
       "      <td>-0.842186</td>\n",
       "      <td>0.226659</td>\n",
       "      <td>-0.198546</td>\n",
       "    </tr>\n",
       "    <tr>\n",
       "      <th>f2</th>\n",
       "      <td>-0.322793</td>\n",
       "      <td>-0.120577</td>\n",
       "      <td>-0.748277</td>\n",
       "      <td>-0.719378</td>\n",
       "      <td>-0.481930</td>\n",
       "      <td>1.000000</td>\n",
       "      <td>-0.359422</td>\n",
       "      <td>-0.094947</td>\n",
       "      <td>0.262849</td>\n",
       "      <td>-0.035526</td>\n",
       "      <td>-0.301479</td>\n",
       "      <td>0.737999</td>\n",
       "      <td>0.757798</td>\n",
       "      <td>0.061239</td>\n",
       "      <td>0.706101</td>\n",
       "    </tr>\n",
       "    <tr>\n",
       "      <th>red_std</th>\n",
       "      <td>0.297087</td>\n",
       "      <td>0.157431</td>\n",
       "      <td>0.676162</td>\n",
       "      <td>0.554722</td>\n",
       "      <td>0.558718</td>\n",
       "      <td>-0.359422</td>\n",
       "      <td>1.000000</td>\n",
       "      <td>0.686062</td>\n",
       "      <td>0.571849</td>\n",
       "      <td>0.471087</td>\n",
       "      <td>0.534771</td>\n",
       "      <td>-0.497722</td>\n",
       "      <td>-0.454643</td>\n",
       "      <td>0.043163</td>\n",
       "      <td>-0.211632</td>\n",
       "    </tr>\n",
       "    <tr>\n",
       "      <th>green_std</th>\n",
       "      <td>0.133550</td>\n",
       "      <td>0.086728</td>\n",
       "      <td>0.370777</td>\n",
       "      <td>0.483276</td>\n",
       "      <td>0.546762</td>\n",
       "      <td>-0.094947</td>\n",
       "      <td>0.686062</td>\n",
       "      <td>1.000000</td>\n",
       "      <td>0.848730</td>\n",
       "      <td>0.375604</td>\n",
       "      <td>0.336365</td>\n",
       "      <td>-0.250032</td>\n",
       "      <td>-0.222453</td>\n",
       "      <td>0.315113</td>\n",
       "      <td>-0.040134</td>\n",
       "    </tr>\n",
       "    <tr>\n",
       "      <th>blue_std</th>\n",
       "      <td>0.055302</td>\n",
       "      <td>0.056972</td>\n",
       "      <td>0.207726</td>\n",
       "      <td>0.310404</td>\n",
       "      <td>0.514378</td>\n",
       "      <td>0.262849</td>\n",
       "      <td>0.571849</td>\n",
       "      <td>0.848730</td>\n",
       "      <td>1.000000</td>\n",
       "      <td>0.464847</td>\n",
       "      <td>0.380556</td>\n",
       "      <td>-0.138100</td>\n",
       "      <td>-0.094143</td>\n",
       "      <td>0.193024</td>\n",
       "      <td>0.307451</td>\n",
       "    </tr>\n",
       "    <tr>\n",
       "      <th>f4</th>\n",
       "      <td>0.021274</td>\n",
       "      <td>0.051716</td>\n",
       "      <td>0.139901</td>\n",
       "      <td>0.123266</td>\n",
       "      <td>0.163959</td>\n",
       "      <td>-0.035526</td>\n",
       "      <td>0.471087</td>\n",
       "      <td>0.375604</td>\n",
       "      <td>0.464847</td>\n",
       "      <td>1.000000</td>\n",
       "      <td>0.895900</td>\n",
       "      <td>-0.217732</td>\n",
       "      <td>-0.108947</td>\n",
       "      <td>-0.717997</td>\n",
       "      <td>0.231805</td>\n",
       "    </tr>\n",
       "    <tr>\n",
       "      <th>f5</th>\n",
       "      <td>0.206162</td>\n",
       "      <td>0.129249</td>\n",
       "      <td>0.429591</td>\n",
       "      <td>0.418733</td>\n",
       "      <td>0.431875</td>\n",
       "      <td>-0.301479</td>\n",
       "      <td>0.534771</td>\n",
       "      <td>0.336365</td>\n",
       "      <td>0.380556</td>\n",
       "      <td>0.895900</td>\n",
       "      <td>1.000000</td>\n",
       "      <td>-0.582064</td>\n",
       "      <td>-0.469153</td>\n",
       "      <td>-0.645146</td>\n",
       "      <td>0.101296</td>\n",
       "    </tr>\n",
       "    <tr>\n",
       "      <th>f6</th>\n",
       "      <td>-0.475468</td>\n",
       "      <td>-0.227271</td>\n",
       "      <td>-0.864766</td>\n",
       "      <td>-0.893266</td>\n",
       "      <td>-0.834468</td>\n",
       "      <td>0.737999</td>\n",
       "      <td>-0.497722</td>\n",
       "      <td>-0.250032</td>\n",
       "      <td>-0.138100</td>\n",
       "      <td>-0.217732</td>\n",
       "      <td>-0.582064</td>\n",
       "      <td>1.000000</td>\n",
       "      <td>0.985366</td>\n",
       "      <td>0.053678</td>\n",
       "      <td>0.328311</td>\n",
       "    </tr>\n",
       "    <tr>\n",
       "      <th>f7</th>\n",
       "      <td>-0.478189</td>\n",
       "      <td>-0.224901</td>\n",
       "      <td>-0.872827</td>\n",
       "      <td>-0.908302</td>\n",
       "      <td>-0.842186</td>\n",
       "      <td>0.757798</td>\n",
       "      <td>-0.454643</td>\n",
       "      <td>-0.222453</td>\n",
       "      <td>-0.094143</td>\n",
       "      <td>-0.108947</td>\n",
       "      <td>-0.469153</td>\n",
       "      <td>0.985366</td>\n",
       "      <td>1.000000</td>\n",
       "      <td>-0.030328</td>\n",
       "      <td>0.378648</td>\n",
       "    </tr>\n",
       "    <tr>\n",
       "      <th>f8</th>\n",
       "      <td>0.079121</td>\n",
       "      <td>0.015681</td>\n",
       "      <td>0.103942</td>\n",
       "      <td>0.180194</td>\n",
       "      <td>0.226659</td>\n",
       "      <td>0.061239</td>\n",
       "      <td>0.043163</td>\n",
       "      <td>0.315113</td>\n",
       "      <td>0.193024</td>\n",
       "      <td>-0.717997</td>\n",
       "      <td>-0.645146</td>\n",
       "      <td>0.053678</td>\n",
       "      <td>-0.030328</td>\n",
       "      <td>1.000000</td>\n",
       "      <td>-0.168292</td>\n",
       "    </tr>\n",
       "    <tr>\n",
       "      <th>label</th>\n",
       "      <td>-0.114160</td>\n",
       "      <td>-0.015626</td>\n",
       "      <td>-0.491501</td>\n",
       "      <td>-0.415592</td>\n",
       "      <td>-0.198546</td>\n",
       "      <td>0.706101</td>\n",
       "      <td>-0.211632</td>\n",
       "      <td>-0.040134</td>\n",
       "      <td>0.307451</td>\n",
       "      <td>0.231805</td>\n",
       "      <td>0.101296</td>\n",
       "      <td>0.328311</td>\n",
       "      <td>0.378648</td>\n",
       "      <td>-0.168292</td>\n",
       "      <td>1.000000</td>\n",
       "    </tr>\n",
       "  </tbody>\n",
       "</table>\n",
       "</div>"
      ],
      "text/plain": [
       "                area  perimeter  red_mean  green_mean  blue_mean        f2  \\\n",
       "area        1.000000   0.874312  0.347123    0.355773   0.342104 -0.322793   \n",
       "perimeter   0.874312   1.000000  0.124219    0.136593   0.141278 -0.120577   \n",
       "red_mean    0.347123   0.124219  1.000000    0.929749   0.854819 -0.748277   \n",
       "green_mean  0.355773   0.136593  0.929749    1.000000   0.946832 -0.719378   \n",
       "blue_mean   0.342104   0.141278  0.854819    0.946832   1.000000 -0.481930   \n",
       "f2         -0.322793  -0.120577 -0.748277   -0.719378  -0.481930  1.000000   \n",
       "red_std     0.297087   0.157431  0.676162    0.554722   0.558718 -0.359422   \n",
       "green_std   0.133550   0.086728  0.370777    0.483276   0.546762 -0.094947   \n",
       "blue_std    0.055302   0.056972  0.207726    0.310404   0.514378  0.262849   \n",
       "f4          0.021274   0.051716  0.139901    0.123266   0.163959 -0.035526   \n",
       "f5          0.206162   0.129249  0.429591    0.418733   0.431875 -0.301479   \n",
       "f6         -0.475468  -0.227271 -0.864766   -0.893266  -0.834468  0.737999   \n",
       "f7         -0.478189  -0.224901 -0.872827   -0.908302  -0.842186  0.757798   \n",
       "f8          0.079121   0.015681  0.103942    0.180194   0.226659  0.061239   \n",
       "label      -0.114160  -0.015626 -0.491501   -0.415592  -0.198546  0.706101   \n",
       "\n",
       "             red_std  green_std  blue_std        f4        f5        f6  \\\n",
       "area        0.297087   0.133550  0.055302  0.021274  0.206162 -0.475468   \n",
       "perimeter   0.157431   0.086728  0.056972  0.051716  0.129249 -0.227271   \n",
       "red_mean    0.676162   0.370777  0.207726  0.139901  0.429591 -0.864766   \n",
       "green_mean  0.554722   0.483276  0.310404  0.123266  0.418733 -0.893266   \n",
       "blue_mean   0.558718   0.546762  0.514378  0.163959  0.431875 -0.834468   \n",
       "f2         -0.359422  -0.094947  0.262849 -0.035526 -0.301479  0.737999   \n",
       "red_std     1.000000   0.686062  0.571849  0.471087  0.534771 -0.497722   \n",
       "green_std   0.686062   1.000000  0.848730  0.375604  0.336365 -0.250032   \n",
       "blue_std    0.571849   0.848730  1.000000  0.464847  0.380556 -0.138100   \n",
       "f4          0.471087   0.375604  0.464847  1.000000  0.895900 -0.217732   \n",
       "f5          0.534771   0.336365  0.380556  0.895900  1.000000 -0.582064   \n",
       "f6         -0.497722  -0.250032 -0.138100 -0.217732 -0.582064  1.000000   \n",
       "f7         -0.454643  -0.222453 -0.094143 -0.108947 -0.469153  0.985366   \n",
       "f8          0.043163   0.315113  0.193024 -0.717997 -0.645146  0.053678   \n",
       "label      -0.211632  -0.040134  0.307451  0.231805  0.101296  0.328311   \n",
       "\n",
       "                  f7        f8     label  \n",
       "area       -0.478189  0.079121 -0.114160  \n",
       "perimeter  -0.224901  0.015681 -0.015626  \n",
       "red_mean   -0.872827  0.103942 -0.491501  \n",
       "green_mean -0.908302  0.180194 -0.415592  \n",
       "blue_mean  -0.842186  0.226659 -0.198546  \n",
       "f2          0.757798  0.061239  0.706101  \n",
       "red_std    -0.454643  0.043163 -0.211632  \n",
       "green_std  -0.222453  0.315113 -0.040134  \n",
       "blue_std   -0.094143  0.193024  0.307451  \n",
       "f4         -0.108947 -0.717997  0.231805  \n",
       "f5         -0.469153 -0.645146  0.101296  \n",
       "f6          0.985366  0.053678  0.328311  \n",
       "f7          1.000000 -0.030328  0.378648  \n",
       "f8         -0.030328  1.000000 -0.168292  \n",
       "label       0.378648 -0.168292  1.000000  "
      ]
     },
     "execution_count": 8,
     "metadata": {},
     "output_type": "execute_result"
    }
   ],
   "source": [
    "cleaned_data.corr(method ='pearson')"
   ]
  },
  {
   "cell_type": "code",
   "execution_count": 9,
   "metadata": {
    "id": "nHFTe4TItiFJ"
   },
   "outputs": [],
   "source": [
    "cleaned_data = cleaned_data.dropna()"
   ]
  },
  {
   "cell_type": "code",
   "execution_count": 10,
   "metadata": {
    "colab": {
     "base_uri": "https://localhost:8080/"
    },
    "id": "1ns2yXu9uXnE",
    "outputId": "81b3083c-7b65-4923-ebe8-674259d14aa4"
   },
   "outputs": [
    {
     "data": {
      "text/plain": [
       "(4625, 16)"
      ]
     },
     "execution_count": 10,
     "metadata": {},
     "output_type": "execute_result"
    }
   ],
   "source": [
    "raw_data.shape"
   ]
  },
  {
   "cell_type": "code",
   "execution_count": 11,
   "metadata": {
    "colab": {
     "base_uri": "https://localhost:8080/"
    },
    "id": "X2iVldJpuZb5",
    "outputId": "44927c0c-ca20-4995-f579-8f113ea7d2f3"
   },
   "outputs": [
    {
     "data": {
      "text/plain": [
       "(4625, 15)"
      ]
     },
     "execution_count": 11,
     "metadata": {},
     "output_type": "execute_result"
    }
   ],
   "source": [
    "cleaned_data.shape"
   ]
  },
  {
   "cell_type": "code",
   "execution_count": 12,
   "metadata": {
    "id": "q1UEsRsTubX5"
   },
   "outputs": [],
   "source": [
    "from sklearn.model_selection import train_test_split\n",
    "from sklearn.metrics import accuracy_score\n",
    "from sklearn.preprocessing import StandardScaler\n",
    "from sklearn.decomposition import PCA\n",
    "from sklearn.svm import SVC\n",
    "from sklearn.metrics import roc_curve, auc\n",
    "from sklearn.model_selection import KFold \n"
   ]
  },
  {
   "cell_type": "code",
   "execution_count": 13,
   "metadata": {
    "id": "ZJg6iy3Mu72T"
   },
   "outputs": [],
   "source": [
    "df = cleaned_data.reset_index()"
   ]
  },
  {
   "cell_type": "code",
   "execution_count": 14,
   "metadata": {
    "colab": {
     "base_uri": "https://localhost:8080/"
    },
    "id": "3DvMWo8rvPW6",
    "outputId": "72d93ebe-2fbe-47b6-903a-ae58e46569e7"
   },
   "outputs": [
    {
     "name": "stdout",
     "output_type": "stream",
     "text": [
      "(4625, 14)\n",
      "(4625,)\n"
     ]
    }
   ],
   "source": [
    "X = df.drop(['index','label'],axis = 1, inplace=False)\n",
    "y = df['label']\n",
    "print(X.shape)\n",
    "print(y.shape)"
   ]
  },
  {
   "cell_type": "code",
   "execution_count": 15,
   "metadata": {
    "colab": {
     "base_uri": "https://localhost:8080/"
    },
    "id": "j723Yu4Xvx_r",
    "outputId": "7d68696b-7a50-4d90-a12e-c3e326ba15d6"
   },
   "outputs": [
    {
     "name": "stdout",
     "output_type": "stream",
     "text": [
      "Score of each fold - [0.8767567567567568, 0.8583783783783784, 0.8778378378378379, 0.8594594594594595, 0.8854054054054054]\n",
      "Avg Score : 0.8715675675675676\n"
     ]
    }
   ],
   "source": [
    "k = 5\n",
    "kf = KFold(n_splits=k, random_state=9, shuffle = True)\n",
    "from sklearn.ensemble import RandomForestClassifier\n",
    "model = RandomForestClassifier(random_state = 50,n_estimators = 50,max_samples = 0.7)\n",
    " \n",
    "acc_score = []\n",
    "\n",
    "for train_index , test_index in kf.split(X):\n",
    "    X_train , X_test = X.iloc[train_index,:],X.iloc[test_index,:]\n",
    "    y_train , y_test = y[train_index] , y[test_index]\n",
    "    model = RandomForestClassifier(random_state = 50,n_estimators = 50,max_samples = 0.7)\n",
    "    model.fit(X_train,y_train)\n",
    "    pred_values = model.predict(X_test)            # classification\n",
    "    acc = accuracy_score(pred_values , y_test)     # Classification\n",
    "\n",
    "    #acc = model.score(X_test,y_test)                # Regression\n",
    "    \n",
    "    acc_score.append(acc)\n",
    "     \n",
    "avg_acc_score = sum(acc_score)/k\n",
    " \n",
    "print('Score of each fold - {}'.format(acc_score))\n",
    "print('Avg Score : {}'.format(avg_acc_score))"
   ]
  },
  {
   "cell_type": "markdown",
   "metadata": {
    "id": "jShjKvkbwtys"
   },
   "source": [
    "# **K- fold Cross validation accuracy:**\n",
    "# **0.8715675675675676**"
   ]
  },
  {
   "cell_type": "markdown",
   "metadata": {
    "id": "MalrrV30xqn8"
   },
   "source": [
    "# ROC Curve"
   ]
  },
  {
   "cell_type": "code",
   "execution_count": 16,
   "metadata": {
    "colab": {
     "base_uri": "https://localhost:8080/",
     "height": 349
    },
    "id": "U_6DxxVXwmJP",
    "outputId": "a133289a-c71b-4af2-8e04-d36b24d2fc40"
   },
   "outputs": [
    {
     "data": {
      "image/png": "[encoded data removed]",
      "text/plain": [
       "<Figure size 432x288 with 1 Axes>"
      ]
     },
     "metadata": {
      "needs_background": "light"
     },
     "output_type": "display_data"
    }
   ],
   "source": [
    "import scikitplot as skplt\n",
    "import matplotlib.pyplot as plt\n",
    "\n",
    "y_true = y_test\n",
    "y_probas = model.predict_proba(X_test)\n",
    "skplt.metrics.plot_roc(y_true, y_probas)\n",
    "\n",
    "plt.show()"
   ]
  },
  {
   "cell_type": "code",
   "execution_count": 17,
   "metadata": {
    "colab": {
     "base_uri": "https://localhost:8080/",
     "height": 296
    },
    "id": "qw0YcxFQx3Mc",
    "outputId": "c83fbdcf-a67a-404f-e8dc-9c8473490392"
   },
   "outputs": [
    {
     "data": {
      "text/plain": [
       "<sklearn.metrics._plot.confusion_matrix.ConfusionMatrixDisplay at 0x7fee7ecb69e8>"
      ]
     },
     "execution_count": 17,
     "metadata": {},
     "output_type": "execute_result"
    },
    {
     "data": {
      "image/png": "[encoded data removed]",
      "text/plain": [
       "<Figure size 432x288 with 2 Axes>"
      ]
     },
     "metadata": {
      "needs_background": "light"
     },
     "output_type": "display_data"
    }
   ],
   "source": [
    "from sklearn.metrics import plot_confusion_matrix\n",
    "y_pred = model.predict(X_test)\n",
    "plot_confusion_matrix(model, X_test, y_test, values_format = 'd',cmap = 'Blues',display_labels = ['0','1','2','3'])"
   ]
  },
  {
   "cell_type": "code",
   "execution_count": 18,
   "metadata": {
    "colab": {
     "base_uri": "https://localhost:8080/"
    },
    "id": "Gref__vNyWqm",
    "outputId": "ba198a46-5398-482a-a509-72776333aa9d"
   },
   "outputs": [
    {
     "name": "stdout",
     "output_type": "stream",
     "text": [
      "              precision    recall  f1-score   support\n",
      "\n",
      "           0       0.94      0.96      0.95       191\n",
      "           1       0.79      0.89      0.84       245\n",
      "           2       0.92      0.81      0.86       278\n",
      "           3       0.92      0.92      0.92       211\n",
      "\n",
      "    accuracy                           0.89       925\n",
      "   macro avg       0.89      0.89      0.89       925\n",
      "weighted avg       0.89      0.89      0.89       925\n",
      "\n"
     ]
    }
   ],
   "source": [
    "from sklearn.metrics import classification_report\n",
    "\n",
    "print(classification_report(y_test, y_pred, [0,1,2,3]))"
   ]
  },
  {
   "cell_type": "markdown",
   "metadata": {
    "id": "XEl3_kcUzXyY"
   },
   "source": [
    "# Deployment"
   ]
  },
  {
   "cell_type": "code",
   "execution_count": 19,
   "metadata": {
    "colab": {
     "base_uri": "https://localhost:8080/"
    },
    "id": "HY3YfG2py-Jf",
    "outputId": "1ae76c7e-aea2-4ecf-9da4-2c14477c7009"
   },
   "outputs": [
    {
     "name": "stdout",
     "output_type": "stream",
     "text": [
      "Training Score:  0.9926486486486487\n"
     ]
    }
   ],
   "source": [
    "from sklearn.ensemble import RandomForestClassifier\n",
    "lm = RandomForestClassifier(random_state = 50,n_estimators = 50,max_samples = 0.7)\n",
    "lm.fit(X,y)\n",
    "print('Training Score: ',lm.score(X,y))"
   ]
  },
  {
   "cell_type": "code",
   "execution_count": 20,
   "metadata": {
    "colab": {
     "base_uri": "https://localhost:8080/"
    },
    "id": "LlyCB8PCy1qh",
    "outputId": "2cc193e3-7c9e-451e-ab77-0df761e46954"
   },
   "outputs": [
    {
     "data": {
      "text/plain": [
       "array([0.05793069, 0.05076233, 0.07358625, 0.09492623, 0.08729909,\n",
       "       0.16871647, 0.03822694, 0.04460477, 0.06114938, 0.06041086,\n",
       "       0.05816639, 0.03852151, 0.04353444, 0.12216465])"
      ]
     },
     "execution_count": 20,
     "metadata": {},
     "output_type": "execute_result"
    }
   ],
   "source": [
    "lm.feature_importances_"
   ]
  },
  {
   "cell_type": "markdown",
   "metadata": {
    "id": "WyNxpJvA0ycq"
   },
   "source": [
    "# Selected Features"
   ]
  },
  {
   "cell_type": "code",
   "execution_count": 21,
   "metadata": {
    "colab": {
     "base_uri": "https://localhost:8080/"
    },
    "id": "bb17TIJPz5jJ",
    "outputId": "a4d12a70-dffc-46c9-9374-c36c142227d2"
   },
   "outputs": [
    {
     "data": {
      "text/plain": [
       "Index(['area', 'perimeter', 'red_mean', 'green_mean', 'blue_mean', 'f2',\n",
       "       'red_std', 'green_std', 'blue_std', 'f4', 'f5', 'f6', 'f7', 'f8'],\n",
       "      dtype='object')"
      ]
     },
     "execution_count": 21,
     "metadata": {},
     "output_type": "execute_result"
    }
   ],
   "source": [
    "X.columns"
   ]
  },
  {
   "cell_type": "code",
   "execution_count": null,
   "metadata": {
    "id": "m79EqwuG0Wjh"
   },
   "outputs": [],
   "source": []
  }
 ],
 "metadata": {
  "colab": {
   "name": "Apple_DA_and_MD.ipynb",
   "provenance": []
  },
  "kernelspec": {
   "display_name": "plant_env",
   "language": "python",
   "name": "plant_env"
  },
  "language_info": {
   "codemirror_mode": {
    "name": "ipython",
    "version": 3
   },
   "file_extension": ".py",
   "mimetype": "text/x-python",
   "name": "python",
   "nbconvert_exporter": "python",
   "pygments_lexer": "ipython3",
   "version": "3.6.9"
  }
 },
 "nbformat": 4,
 "nbformat_minor": 1
}
